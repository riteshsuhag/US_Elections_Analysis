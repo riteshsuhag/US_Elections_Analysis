{
 "cells": [
  {
   "cell_type": "code",
   "execution_count": 34,
   "metadata": {},
   "outputs": [],
   "source": [
    "import numpy as np\n",
    "import pandas as pd\n",
    "import plotly.io as pio\n",
    "import plotly.express as px\n",
    "import plotly.graph_objects as go"
   ]
  },
  {
   "cell_type": "code",
   "execution_count": 19,
   "metadata": {},
   "outputs": [
    {
     "data": {
      "text/html": [
       "<div>\n",
       "<style scoped>\n",
       "    .dataframe tbody tr th:only-of-type {\n",
       "        vertical-align: middle;\n",
       "    }\n",
       "\n",
       "    .dataframe tbody tr th {\n",
       "        vertical-align: top;\n",
       "    }\n",
       "\n",
       "    .dataframe thead th {\n",
       "        text-align: right;\n",
       "    }\n",
       "</style>\n",
       "<table border=\"1\" class=\"dataframe\">\n",
       "  <thead>\n",
       "    <tr style=\"text-align: right;\">\n",
       "      <th></th>\n",
       "      <th>Rank</th>\n",
       "      <th>Category</th>\n",
       "      <th>Organization</th>\n",
       "      <th>Total Contributions</th>\n",
       "      <th>To Dems &amp; Liberals</th>\n",
       "      <th>To Repubs and Conservs</th>\n",
       "      <th>Cycle</th>\n",
       "      <th>State</th>\n",
       "    </tr>\n",
       "  </thead>\n",
       "  <tbody>\n",
       "    <tr>\n",
       "      <th>0</th>\n",
       "      <td>1</td>\n",
       "      <td>Finance/Insurance/Real Estate</td>\n",
       "      <td>Bloomberg LP</td>\n",
       "      <td>157141576</td>\n",
       "      <td>$156,579,963 (100.0%)</td>\n",
       "      <td>$54,210 (0.0%)</td>\n",
       "      <td>2020</td>\n",
       "      <td>NY</td>\n",
       "    </tr>\n",
       "    <tr>\n",
       "      <th>1</th>\n",
       "      <td>2</td>\n",
       "      <td>Trust</td>\n",
       "      <td>Senate Leadership Fund</td>\n",
       "      <td>155194056</td>\n",
       "      <td>$0 (0.0%)</td>\n",
       "      <td>$155,194,056 (100.0%)</td>\n",
       "      <td>2020</td>\n",
       "      <td>REP</td>\n",
       "    </tr>\n",
       "    <tr>\n",
       "      <th>2</th>\n",
       "      <td>3</td>\n",
       "      <td>Misc Business</td>\n",
       "      <td>Las Vegas Sands</td>\n",
       "      <td>109245453</td>\n",
       "      <td>$17,967 (0.0%)</td>\n",
       "      <td>$109,226,697 (100.0%)</td>\n",
       "      <td>2020</td>\n",
       "      <td>NV</td>\n",
       "    </tr>\n",
       "    <tr>\n",
       "      <th>3</th>\n",
       "      <td>4</td>\n",
       "      <td>Healthcare</td>\n",
       "      <td>Adelson Clinic for Drug Abuse Treatment &amp; Rese...</td>\n",
       "      <td>108839900</td>\n",
       "      <td>$0 (0.0%)</td>\n",
       "      <td>$108,839,900 (100.0%)</td>\n",
       "      <td>2020</td>\n",
       "      <td>NV</td>\n",
       "    </tr>\n",
       "    <tr>\n",
       "      <th>4</th>\n",
       "      <td>5</td>\n",
       "      <td>Trust</td>\n",
       "      <td>Fund for Policy Reform</td>\n",
       "      <td>75500002</td>\n",
       "      <td>$75,500,002 (100.0%)</td>\n",
       "      <td>$0 (0.0%)</td>\n",
       "      <td>2020</td>\n",
       "      <td>NY</td>\n",
       "    </tr>\n",
       "    <tr>\n",
       "      <th>5</th>\n",
       "      <td>6</td>\n",
       "      <td>Finance/Insurance/Real Estate</td>\n",
       "      <td>Fahr LLC</td>\n",
       "      <td>70745497</td>\n",
       "      <td>$70,743,489 (100.0%)</td>\n",
       "      <td>$0 (0.0%)</td>\n",
       "      <td>2020</td>\n",
       "      <td>CA</td>\n",
       "    </tr>\n",
       "    <tr>\n",
       "      <th>6</th>\n",
       "      <td>7</td>\n",
       "      <td>Misc Business</td>\n",
       "      <td>Uline Inc</td>\n",
       "      <td>68395812</td>\n",
       "      <td>$21,072 (0.0%)</td>\n",
       "      <td>$68,374,622 (100.0%)</td>\n",
       "      <td>2020</td>\n",
       "      <td>WI</td>\n",
       "    </tr>\n",
       "    <tr>\n",
       "      <th>7</th>\n",
       "      <td>8</td>\n",
       "      <td>Finance/Insurance/Real Estate</td>\n",
       "      <td>Citadel LLC</td>\n",
       "      <td>67897064</td>\n",
       "      <td>$291,212 (0.4%)</td>\n",
       "      <td>$67,599,734 (99.6%)</td>\n",
       "      <td>2020</td>\n",
       "      <td>IL</td>\n",
       "    </tr>\n",
       "    <tr>\n",
       "      <th>8</th>\n",
       "      <td>9</td>\n",
       "      <td>Trust</td>\n",
       "      <td>Senate Majority PAC</td>\n",
       "      <td>64474108</td>\n",
       "      <td>$64,471,798 (100.0%)</td>\n",
       "      <td>$2,280 (0.0%)</td>\n",
       "      <td>2020</td>\n",
       "      <td>DEM</td>\n",
       "    </tr>\n",
       "    <tr>\n",
       "      <th>9</th>\n",
       "      <td>10</td>\n",
       "      <td>Trust</td>\n",
       "      <td>Sixteen Thirty Fund</td>\n",
       "      <td>56718914</td>\n",
       "      <td>$56,718,889 (100.0%)</td>\n",
       "      <td>$0 (0.0%)</td>\n",
       "      <td>2020</td>\n",
       "      <td>DEM</td>\n",
       "    </tr>\n",
       "  </tbody>\n",
       "</table>\n",
       "</div>"
      ],
      "text/plain": [
       "   Rank                       Category  \\\n",
       "0     1  Finance/Insurance/Real Estate   \n",
       "1     2                          Trust   \n",
       "2     3                  Misc Business   \n",
       "3     4                     Healthcare   \n",
       "4     5                          Trust   \n",
       "5     6  Finance/Insurance/Real Estate   \n",
       "6     7                  Misc Business   \n",
       "7     8  Finance/Insurance/Real Estate   \n",
       "8     9                          Trust   \n",
       "9    10                          Trust   \n",
       "\n",
       "                                        Organization  Total Contributions  \\\n",
       "0                                       Bloomberg LP            157141576   \n",
       "1                             Senate Leadership Fund            155194056   \n",
       "2                                    Las Vegas Sands            109245453   \n",
       "3  Adelson Clinic for Drug Abuse Treatment & Rese...            108839900   \n",
       "4                             Fund for Policy Reform             75500002   \n",
       "5                                           Fahr LLC             70745497   \n",
       "6                                          Uline Inc             68395812   \n",
       "7                                        Citadel LLC             67897064   \n",
       "8                                Senate Majority PAC             64474108   \n",
       "9                                Sixteen Thirty Fund             56718914   \n",
       "\n",
       "      To Dems & Liberals To Repubs and Conservs  Cycle State  \n",
       "0  $156,579,963 (100.0%)         $54,210 (0.0%)   2020    NY  \n",
       "1              $0 (0.0%)  $155,194,056 (100.0%)   2020   REP  \n",
       "2         $17,967 (0.0%)  $109,226,697 (100.0%)   2020    NV  \n",
       "3              $0 (0.0%)  $108,839,900 (100.0%)   2020    NV  \n",
       "4   $75,500,002 (100.0%)              $0 (0.0%)   2020    NY  \n",
       "5   $70,743,489 (100.0%)              $0 (0.0%)   2020    CA  \n",
       "6         $21,072 (0.0%)   $68,374,622 (100.0%)   2020    WI  \n",
       "7        $291,212 (0.4%)    $67,599,734 (99.6%)   2020    IL  \n",
       "8   $64,471,798 (100.0%)          $2,280 (0.0%)   2020   DEM  \n",
       "9   $56,718,889 (100.0%)              $0 (0.0%)   2020   DEM  "
      ]
     },
     "execution_count": 19,
     "metadata": {},
     "output_type": "execute_result"
    }
   ],
   "source": [
    "comp_contri = pd.read_excel(\"Raw_data/CompanyContributionsInUSD00-20.xlsx\")\n",
    "comp_contri.head(10)"
   ]
  },
  {
   "cell_type": "code",
   "execution_count": 12,
   "metadata": {},
   "outputs": [],
   "source": [
    "# comp_contri = comp_contri.drop(['Unnamed: 8', 'Unnamed: 9', 'Unnamed: 10', 'Unnamed: 11', 'Unnamed: 12', 'Unnamed: 13', 'Unnamed: 14', 'Unnamed: 15', 'Unnamed: 16', 'Unnamed: 17', 'Unnamed: 18', 'Unnamed: 19', 'Unnamed: 20', 'Unnamed: 21', 'Unnamed: 22', 'Unnamed: 23', 'Unnamed: 24', 'Unnamed: 25', 'Unnamed: 26'], axis=1)\n",
    "# comp_contri = comp_contri.dropna(axis = 0, how = 'all')\n"
   ]
  },
  {
   "cell_type": "code",
   "execution_count": 20,
   "metadata": {},
   "outputs": [
    {
     "data": {
      "text/plain": [
       "187"
      ]
     },
     "execution_count": 20,
     "metadata": {},
     "output_type": "execute_result"
    }
   ],
   "source": [
    "Orgs = comp_contri['Organization'].unique()\n",
    "len(Orgs)"
   ]
  },
  {
   "cell_type": "code",
   "execution_count": 21,
   "metadata": {},
   "outputs": [
    {
     "data": {
      "text/plain": [
       "<bound method DataFrame.count of      Rank                       Category  \\\n",
       "0       1  Finance/Insurance/Real Estate   \n",
       "1       2                          Trust   \n",
       "2       3                  Misc Business   \n",
       "3       4                     Healthcare   \n",
       "4       5                          Trust   \n",
       "..    ...                            ...   \n",
       "555    47                 Transportation   \n",
       "556    48                          Labor   \n",
       "557    49  Finance/Insurance/Real Estate   \n",
       "558    50                 Transportation   \n",
       "559    51                     Technology   \n",
       "\n",
       "                                          Organization  Total Contributions  \\\n",
       "0                                         Bloomberg LP            157141576   \n",
       "1                               Senate Leadership Fund            155194056   \n",
       "2                                      Las Vegas Sands            109245453   \n",
       "3    Adelson Clinic for Drug Abuse Treatment & Rese...            108839900   \n",
       "4                               Fund for Policy Reform             75500002   \n",
       "..                                                 ...                  ...   \n",
       "555                            American Airlines Group              2203001   \n",
       "556                   National Assn of Letter Carriers              2164950   \n",
       "557                                       Deloitte LLP              2126315   \n",
       "558                                 Union Pacific Corp              2113244   \n",
       "559                                            Vivendi              2098535   \n",
       "\n",
       "        To Dems & Liberals To Repubs and Conservs  Cycle State  \n",
       "0    $156,579,963 (100.0%)         $54,210 (0.0%)   2020    NY  \n",
       "1                $0 (0.0%)  $155,194,056 (100.0%)   2020   REP  \n",
       "2           $17,967 (0.0%)  $109,226,697 (100.0%)   2020    NV  \n",
       "3                $0 (0.0%)  $108,839,900 (100.0%)   2020    NV  \n",
       "4     $75,500,002 (100.0%)              $0 (0.0%)   2020    NY  \n",
       "..                     ...                    ...    ...   ...  \n",
       "555       $808,364 (36.8%)     $1,387,987 (63.2%)   2000    TX  \n",
       "556     $1,875,600 (87.1%)       $277,350 (12.9%)   2000    DC  \n",
       "557       $608,555 (28.7%)     $1,510,760 (71.3%)   2000    NY  \n",
       "558       $369,750 (17.5%)     $1,741,964 (82.5%)   2000    DC  \n",
       "559     $1,277,919 (61.1%)       $815,066 (38.9%)   2000    CA  \n",
       "\n",
       "[560 rows x 8 columns]>"
      ]
     },
     "execution_count": 21,
     "metadata": {},
     "output_type": "execute_result"
    }
   ],
   "source": [
    "comp_contri.count"
   ]
  },
  {
   "cell_type": "code",
   "execution_count": 22,
   "metadata": {},
   "outputs": [],
   "source": [
    "comp_contri['To Dems & Liberals'] = comp_contri['To Dems & Liberals'].map(lambda x: \n",
    "                                                                                x.split('(')[0]).str.lstrip('-$').str.replace(',','').astype(int)\n",
    "comp_contri['To Repubs and Conservs'] = comp_contri['To Repubs and Conservs'].map(lambda x:\n",
    "                                                                                        x.split('(')[0]).str.lstrip('-$').str.replace(',','').astype(int)"
   ]
  },
  {
   "cell_type": "code",
   "execution_count": 23,
   "metadata": {},
   "outputs": [
    {
     "data": {
      "text/html": [
       "<div>\n",
       "<style scoped>\n",
       "    .dataframe tbody tr th:only-of-type {\n",
       "        vertical-align: middle;\n",
       "    }\n",
       "\n",
       "    .dataframe tbody tr th {\n",
       "        vertical-align: top;\n",
       "    }\n",
       "\n",
       "    .dataframe thead th {\n",
       "        text-align: right;\n",
       "    }\n",
       "</style>\n",
       "<table border=\"1\" class=\"dataframe\">\n",
       "  <thead>\n",
       "    <tr style=\"text-align: right;\">\n",
       "      <th></th>\n",
       "      <th>Category</th>\n",
       "      <th>Organization</th>\n",
       "      <th>Total Contributions</th>\n",
       "      <th>To Dems &amp; Liberals</th>\n",
       "      <th>To Repubs and Conservs</th>\n",
       "      <th>Cycle</th>\n",
       "      <th>State</th>\n",
       "    </tr>\n",
       "  </thead>\n",
       "  <tbody>\n",
       "    <tr>\n",
       "      <th>0</th>\n",
       "      <td>Finance/Insurance/Real Estate</td>\n",
       "      <td>Bloomberg LP</td>\n",
       "      <td>157141576</td>\n",
       "      <td>156579963</td>\n",
       "      <td>54210</td>\n",
       "      <td>2020</td>\n",
       "      <td>NY</td>\n",
       "    </tr>\n",
       "    <tr>\n",
       "      <th>1</th>\n",
       "      <td>Trust</td>\n",
       "      <td>Senate Leadership Fund</td>\n",
       "      <td>155194056</td>\n",
       "      <td>0</td>\n",
       "      <td>155194056</td>\n",
       "      <td>2020</td>\n",
       "      <td>REP</td>\n",
       "    </tr>\n",
       "    <tr>\n",
       "      <th>2</th>\n",
       "      <td>Misc Business</td>\n",
       "      <td>Las Vegas Sands</td>\n",
       "      <td>109245453</td>\n",
       "      <td>17967</td>\n",
       "      <td>109226697</td>\n",
       "      <td>2020</td>\n",
       "      <td>NV</td>\n",
       "    </tr>\n",
       "    <tr>\n",
       "      <th>3</th>\n",
       "      <td>Healthcare</td>\n",
       "      <td>Adelson Clinic for Drug Abuse Treatment &amp; Rese...</td>\n",
       "      <td>108839900</td>\n",
       "      <td>0</td>\n",
       "      <td>108839900</td>\n",
       "      <td>2020</td>\n",
       "      <td>NV</td>\n",
       "    </tr>\n",
       "    <tr>\n",
       "      <th>4</th>\n",
       "      <td>Trust</td>\n",
       "      <td>Fund for Policy Reform</td>\n",
       "      <td>75500002</td>\n",
       "      <td>75500002</td>\n",
       "      <td>0</td>\n",
       "      <td>2020</td>\n",
       "      <td>NY</td>\n",
       "    </tr>\n",
       "    <tr>\n",
       "      <th>...</th>\n",
       "      <td>...</td>\n",
       "      <td>...</td>\n",
       "      <td>...</td>\n",
       "      <td>...</td>\n",
       "      <td>...</td>\n",
       "      <td>...</td>\n",
       "      <td>...</td>\n",
       "    </tr>\n",
       "    <tr>\n",
       "      <th>555</th>\n",
       "      <td>Transportation</td>\n",
       "      <td>American Airlines Group</td>\n",
       "      <td>2203001</td>\n",
       "      <td>808364</td>\n",
       "      <td>1387987</td>\n",
       "      <td>2000</td>\n",
       "      <td>TX</td>\n",
       "    </tr>\n",
       "    <tr>\n",
       "      <th>556</th>\n",
       "      <td>Labor</td>\n",
       "      <td>National Assn of Letter Carriers</td>\n",
       "      <td>2164950</td>\n",
       "      <td>1875600</td>\n",
       "      <td>277350</td>\n",
       "      <td>2000</td>\n",
       "      <td>DC</td>\n",
       "    </tr>\n",
       "    <tr>\n",
       "      <th>557</th>\n",
       "      <td>Finance/Insurance/Real Estate</td>\n",
       "      <td>Deloitte LLP</td>\n",
       "      <td>2126315</td>\n",
       "      <td>608555</td>\n",
       "      <td>1510760</td>\n",
       "      <td>2000</td>\n",
       "      <td>NY</td>\n",
       "    </tr>\n",
       "    <tr>\n",
       "      <th>558</th>\n",
       "      <td>Transportation</td>\n",
       "      <td>Union Pacific Corp</td>\n",
       "      <td>2113244</td>\n",
       "      <td>369750</td>\n",
       "      <td>1741964</td>\n",
       "      <td>2000</td>\n",
       "      <td>DC</td>\n",
       "    </tr>\n",
       "    <tr>\n",
       "      <th>559</th>\n",
       "      <td>Technology</td>\n",
       "      <td>Vivendi</td>\n",
       "      <td>2098535</td>\n",
       "      <td>1277919</td>\n",
       "      <td>815066</td>\n",
       "      <td>2000</td>\n",
       "      <td>CA</td>\n",
       "    </tr>\n",
       "  </tbody>\n",
       "</table>\n",
       "<p>560 rows × 7 columns</p>\n",
       "</div>"
      ],
      "text/plain": [
       "                          Category  \\\n",
       "0    Finance/Insurance/Real Estate   \n",
       "1                            Trust   \n",
       "2                    Misc Business   \n",
       "3                       Healthcare   \n",
       "4                            Trust   \n",
       "..                             ...   \n",
       "555                 Transportation   \n",
       "556                          Labor   \n",
       "557  Finance/Insurance/Real Estate   \n",
       "558                 Transportation   \n",
       "559                     Technology   \n",
       "\n",
       "                                          Organization  Total Contributions  \\\n",
       "0                                         Bloomberg LP            157141576   \n",
       "1                               Senate Leadership Fund            155194056   \n",
       "2                                      Las Vegas Sands            109245453   \n",
       "3    Adelson Clinic for Drug Abuse Treatment & Rese...            108839900   \n",
       "4                               Fund for Policy Reform             75500002   \n",
       "..                                                 ...                  ...   \n",
       "555                            American Airlines Group              2203001   \n",
       "556                   National Assn of Letter Carriers              2164950   \n",
       "557                                       Deloitte LLP              2126315   \n",
       "558                                 Union Pacific Corp              2113244   \n",
       "559                                            Vivendi              2098535   \n",
       "\n",
       "     To Dems & Liberals  To Repubs and Conservs  Cycle State  \n",
       "0             156579963                   54210   2020    NY  \n",
       "1                     0               155194056   2020   REP  \n",
       "2                 17967               109226697   2020    NV  \n",
       "3                     0               108839900   2020    NV  \n",
       "4              75500002                       0   2020    NY  \n",
       "..                  ...                     ...    ...   ...  \n",
       "555              808364                 1387987   2000    TX  \n",
       "556             1875600                  277350   2000    DC  \n",
       "557              608555                 1510760   2000    NY  \n",
       "558              369750                 1741964   2000    DC  \n",
       "559             1277919                  815066   2000    CA  \n",
       "\n",
       "[560 rows x 7 columns]"
      ]
     },
     "execution_count": 23,
     "metadata": {},
     "output_type": "execute_result"
    }
   ],
   "source": [
    "comp_contri = comp_contri.drop(['Rank'], axis=1)\n",
    "comp_contri"
   ]
  },
  {
   "cell_type": "code",
   "execution_count": 24,
   "metadata": {},
   "outputs": [
    {
     "data": {
      "text/html": [
       "<div>\n",
       "<style scoped>\n",
       "    .dataframe tbody tr th:only-of-type {\n",
       "        vertical-align: middle;\n",
       "    }\n",
       "\n",
       "    .dataframe tbody tr th {\n",
       "        vertical-align: top;\n",
       "    }\n",
       "\n",
       "    .dataframe thead th {\n",
       "        text-align: right;\n",
       "    }\n",
       "</style>\n",
       "<table border=\"1\" class=\"dataframe\">\n",
       "  <thead>\n",
       "    <tr style=\"text-align: right;\">\n",
       "      <th></th>\n",
       "      <th>State</th>\n",
       "      <th>Organization</th>\n",
       "      <th>Cycle</th>\n",
       "      <th>Category</th>\n",
       "      <th>Total Contributions</th>\n",
       "      <th>To Dems &amp; Liberals</th>\n",
       "      <th>To Repubs and Conservs</th>\n",
       "    </tr>\n",
       "  </thead>\n",
       "  <tbody>\n",
       "    <tr>\n",
       "      <th>0</th>\n",
       "      <td>AL</td>\n",
       "      <td>Williams, Hart et al</td>\n",
       "      <td>2002</td>\n",
       "      <td>Law</td>\n",
       "      <td>2437400</td>\n",
       "      <td>2437400</td>\n",
       "      <td>0</td>\n",
       "    </tr>\n",
       "    <tr>\n",
       "      <th>1</th>\n",
       "      <td>AR</td>\n",
       "      <td>Mountaire Corp</td>\n",
       "      <td>2014</td>\n",
       "      <td>Food</td>\n",
       "      <td>4762150</td>\n",
       "      <td>0</td>\n",
       "      <td>4762150</td>\n",
       "    </tr>\n",
       "    <tr>\n",
       "      <th>2</th>\n",
       "      <td>AR</td>\n",
       "      <td>Mountaire Corp</td>\n",
       "      <td>2016</td>\n",
       "      <td>Food</td>\n",
       "      <td>17934905</td>\n",
       "      <td>0</td>\n",
       "      <td>17934905</td>\n",
       "    </tr>\n",
       "    <tr>\n",
       "      <th>3</th>\n",
       "      <td>AR</td>\n",
       "      <td>Mountaire Corp</td>\n",
       "      <td>2018</td>\n",
       "      <td>Food</td>\n",
       "      <td>7564752</td>\n",
       "      <td>0</td>\n",
       "      <td>7564752</td>\n",
       "    </tr>\n",
       "    <tr>\n",
       "      <th>4</th>\n",
       "      <td>AR</td>\n",
       "      <td>Mountaire Corp</td>\n",
       "      <td>2020</td>\n",
       "      <td>Food</td>\n",
       "      <td>14673853</td>\n",
       "      <td>20</td>\n",
       "      <td>14673833</td>\n",
       "    </tr>\n",
       "    <tr>\n",
       "      <th>...</th>\n",
       "      <td>...</td>\n",
       "      <td>...</td>\n",
       "      <td>...</td>\n",
       "      <td>...</td>\n",
       "      <td>...</td>\n",
       "      <td>...</td>\n",
       "      <td>...</td>\n",
       "    </tr>\n",
       "    <tr>\n",
       "      <th>555</th>\n",
       "      <td>WA</td>\n",
       "      <td>Microsoft Corp</td>\n",
       "      <td>2020</td>\n",
       "      <td>Technology</td>\n",
       "      <td>20920628</td>\n",
       "      <td>19109807</td>\n",
       "      <td>1683611</td>\n",
       "    </tr>\n",
       "    <tr>\n",
       "      <th>556</th>\n",
       "      <td>WI</td>\n",
       "      <td>Uline Inc</td>\n",
       "      <td>2014</td>\n",
       "      <td>Misc Business</td>\n",
       "      <td>6094525</td>\n",
       "      <td>0</td>\n",
       "      <td>6107125</td>\n",
       "    </tr>\n",
       "    <tr>\n",
       "      <th>557</th>\n",
       "      <td>WI</td>\n",
       "      <td>Uline Inc</td>\n",
       "      <td>2016</td>\n",
       "      <td>Misc Business</td>\n",
       "      <td>23876072</td>\n",
       "      <td>1072</td>\n",
       "      <td>25075000</td>\n",
       "    </tr>\n",
       "    <tr>\n",
       "      <th>558</th>\n",
       "      <td>WI</td>\n",
       "      <td>Uline Inc</td>\n",
       "      <td>2018</td>\n",
       "      <td>Misc Business</td>\n",
       "      <td>39717011</td>\n",
       "      <td>4437</td>\n",
       "      <td>39712547</td>\n",
       "    </tr>\n",
       "    <tr>\n",
       "      <th>559</th>\n",
       "      <td>WI</td>\n",
       "      <td>Uline Inc</td>\n",
       "      <td>2020</td>\n",
       "      <td>Misc Business</td>\n",
       "      <td>68395812</td>\n",
       "      <td>21072</td>\n",
       "      <td>68374622</td>\n",
       "    </tr>\n",
       "  </tbody>\n",
       "</table>\n",
       "<p>560 rows × 7 columns</p>\n",
       "</div>"
      ],
      "text/plain": [
       "    State          Organization  Cycle       Category  Total Contributions  \\\n",
       "0      AL  Williams, Hart et al   2002            Law              2437400   \n",
       "1      AR        Mountaire Corp   2014           Food              4762150   \n",
       "2      AR        Mountaire Corp   2016           Food             17934905   \n",
       "3      AR        Mountaire Corp   2018           Food              7564752   \n",
       "4      AR        Mountaire Corp   2020           Food             14673853   \n",
       "..    ...                   ...    ...            ...                  ...   \n",
       "555    WA        Microsoft Corp   2020     Technology             20920628   \n",
       "556    WI             Uline Inc   2014  Misc Business              6094525   \n",
       "557    WI             Uline Inc   2016  Misc Business             23876072   \n",
       "558    WI             Uline Inc   2018  Misc Business             39717011   \n",
       "559    WI             Uline Inc   2020  Misc Business             68395812   \n",
       "\n",
       "     To Dems & Liberals  To Repubs and Conservs  \n",
       "0               2437400                       0  \n",
       "1                     0                 4762150  \n",
       "2                     0                17934905  \n",
       "3                     0                 7564752  \n",
       "4                    20                14673833  \n",
       "..                  ...                     ...  \n",
       "555            19109807                 1683611  \n",
       "556                   0                 6107125  \n",
       "557                1072                25075000  \n",
       "558                4437                39712547  \n",
       "559               21072                68374622  \n",
       "\n",
       "[560 rows x 7 columns]"
      ]
     },
     "execution_count": 24,
     "metadata": {},
     "output_type": "execute_result"
    }
   ],
   "source": [
    "state_contri_yearwise = comp_contri.groupby(['State', 'Organization','Cycle', 'Category']).sum()\n",
    "state_contri_yearwise = state_contri_yearwise.reset_index()\n",
    "state_contri_yearwise"
   ]
  },
  {
   "cell_type": "code",
   "execution_count": 25,
   "metadata": {},
   "outputs": [
    {
     "data": {
      "text/html": [
       "<div>\n",
       "<style scoped>\n",
       "    .dataframe tbody tr th:only-of-type {\n",
       "        vertical-align: middle;\n",
       "    }\n",
       "\n",
       "    .dataframe tbody tr th {\n",
       "        vertical-align: top;\n",
       "    }\n",
       "\n",
       "    .dataframe thead th {\n",
       "        text-align: right;\n",
       "    }\n",
       "</style>\n",
       "<table border=\"1\" class=\"dataframe\">\n",
       "  <thead>\n",
       "    <tr style=\"text-align: right;\">\n",
       "      <th></th>\n",
       "      <th>Organization</th>\n",
       "      <th>Total Contributions</th>\n",
       "      <th>To Dems &amp; Liberals</th>\n",
       "      <th>To Repubs and Conservs</th>\n",
       "    </tr>\n",
       "  </thead>\n",
       "  <tbody>\n",
       "    <tr>\n",
       "      <th>0</th>\n",
       "      <td>21st Century Fox</td>\n",
       "      <td>2630198</td>\n",
       "      <td>1952719</td>\n",
       "      <td>677479</td>\n",
       "    </tr>\n",
       "    <tr>\n",
       "      <th>1</th>\n",
       "      <td>ABC Supply</td>\n",
       "      <td>14222545</td>\n",
       "      <td>1625</td>\n",
       "      <td>14220645</td>\n",
       "    </tr>\n",
       "    <tr>\n",
       "      <th>2</th>\n",
       "      <td>AFL-CIO</td>\n",
       "      <td>13901825</td>\n",
       "      <td>13395225</td>\n",
       "      <td>483600</td>\n",
       "    </tr>\n",
       "    <tr>\n",
       "      <th>3</th>\n",
       "      <td>AFLAC Inc</td>\n",
       "      <td>2580520</td>\n",
       "      <td>945400</td>\n",
       "      <td>1635120</td>\n",
       "    </tr>\n",
       "    <tr>\n",
       "      <th>4</th>\n",
       "      <td>AG Spanos Companies</td>\n",
       "      <td>5280400</td>\n",
       "      <td>6000</td>\n",
       "      <td>5274400</td>\n",
       "    </tr>\n",
       "    <tr>\n",
       "      <th>...</th>\n",
       "      <td>...</td>\n",
       "      <td>...</td>\n",
       "      <td>...</td>\n",
       "      <td>...</td>\n",
       "    </tr>\n",
       "    <tr>\n",
       "      <th>182</th>\n",
       "      <td>Walt Disney Co</td>\n",
       "      <td>31297993</td>\n",
       "      <td>11476670</td>\n",
       "      <td>19761487</td>\n",
       "    </tr>\n",
       "    <tr>\n",
       "      <th>183</th>\n",
       "      <td>WarnerMedia Group</td>\n",
       "      <td>12237330</td>\n",
       "      <td>9199143</td>\n",
       "      <td>2880375</td>\n",
       "    </tr>\n",
       "    <tr>\n",
       "      <th>184</th>\n",
       "      <td>Wells Fargo</td>\n",
       "      <td>4551022</td>\n",
       "      <td>1251924</td>\n",
       "      <td>3288797</td>\n",
       "    </tr>\n",
       "    <tr>\n",
       "      <th>185</th>\n",
       "      <td>Wicklow Capital</td>\n",
       "      <td>7491963</td>\n",
       "      <td>6662963</td>\n",
       "      <td>729000</td>\n",
       "    </tr>\n",
       "    <tr>\n",
       "      <th>186</th>\n",
       "      <td>Williams, Hart et al</td>\n",
       "      <td>2437400</td>\n",
       "      <td>2437400</td>\n",
       "      <td>0</td>\n",
       "    </tr>\n",
       "  </tbody>\n",
       "</table>\n",
       "<p>187 rows × 4 columns</p>\n",
       "</div>"
      ],
      "text/plain": [
       "             Organization  Total Contributions  To Dems & Liberals  \\\n",
       "0        21st Century Fox              2630198             1952719   \n",
       "1              ABC Supply             14222545                1625   \n",
       "2                 AFL-CIO             13901825            13395225   \n",
       "3               AFLAC Inc              2580520              945400   \n",
       "4     AG Spanos Companies              5280400                6000   \n",
       "..                    ...                  ...                 ...   \n",
       "182        Walt Disney Co             31297993            11476670   \n",
       "183     WarnerMedia Group             12237330             9199143   \n",
       "184           Wells Fargo              4551022             1251924   \n",
       "185       Wicklow Capital              7491963             6662963   \n",
       "186  Williams, Hart et al              2437400             2437400   \n",
       "\n",
       "     To Repubs and Conservs  \n",
       "0                    677479  \n",
       "1                  14220645  \n",
       "2                    483600  \n",
       "3                   1635120  \n",
       "4                   5274400  \n",
       "..                      ...  \n",
       "182                19761487  \n",
       "183                 2880375  \n",
       "184                 3288797  \n",
       "185                  729000  \n",
       "186                       0  \n",
       "\n",
       "[187 rows x 4 columns]"
      ]
     },
     "execution_count": 25,
     "metadata": {},
     "output_type": "execute_result"
    }
   ],
   "source": [
    "state_contri = comp_contri.drop(['Cycle', 'State'],axis = 1).groupby(['Organization']).sum()\n",
    "state_contri = state_contri.reset_index()\n",
    "state_contri"
   ]
  },
  {
   "cell_type": "code",
   "execution_count": 26,
   "metadata": {},
   "outputs": [],
   "source": [
    "yr2020df = comp_contri[comp_contri['Cycle'] == 2020]\n",
    "df = yr2020df[yr2020df['Category'] == 'Trust']"
   ]
  },
  {
   "cell_type": "code",
   "execution_count": null,
   "metadata": {},
   "outputs": [],
   "source": []
  },
  {
   "cell_type": "code",
   "execution_count": 30,
   "metadata": {},
   "outputs": [
    {
     "data": {
      "application/vnd.plotly.v1+json": {
       "config": {
        "plotlyServerURL": "https://plot.ly"
       },
       "data": [
        {
         "hovertemplate": "<b>%{hovertext}</b><br><br>Category=Finance/Insurance/Real Estate<br>Cycle=%{x}<br>State=%{y}<br>To Dems & Liberals=%{marker.size}<extra></extra>",
         "hovertext": [
          "Bloomberg LP",
          "Fahr LLC",
          "Citadel LLC",
          "Blackstone Group",
          "Susquehanna International Group",
          "Charles Schwab Corp",
          "Paloma Partners",
          "Bain Capital",
          "Renaissance Technologies",
          "Stephens Group",
          "Elliott Management",
          "Lone Pine Capital",
          "Ryan Specialty Group",
          "Euclidean Capital",
          "National Assn of Realtors",
          "Intercontinental Exchange Inc",
          "Marcus & Millichap",
          "Bloomberg LP",
          "Fahr LLC",
          "Paloma Partners",
          "Soros Fund Management",
          "Citadel LLC",
          "Euclidean Capital",
          "Renaissance Technologies",
          "Blackstone Group",
          "Charles Schwab Corp",
          "Marcus & Millichap",
          "Bain Capital",
          "Susquehanna International Group",
          "Wicklow Capital",
          "Baupost Group",
          "Elliott Management",
          "Fahr LLC",
          "Renaissance Technologies",
          "Paloma Partners",
          "Soros Fund Management",
          "Elliott Management",
          "Bloomberg LP",
          "Pritzker Group",
          "Saban Capital Group",
          "Stephens Group",
          "Citadel LLC",
          "Blackstone Group",
          "Kainos Capital",
          "Fahr LLC",
          "Bloomberg LP",
          "Renaissance Technologies",
          "Elliott Management",
          "National Assn of Realtors",
          "Stephens Group",
          "Goldman Sachs",
          "Soros Fund Management",
          "Citadel LLC",
          "Berkshire Hathaway",
          "Baupost Group",
          "Contran Corp",
          "Perry Homes",
          "Renaissance Technologies",
          "Hugo Enterprises",
          "Goldman Sachs",
          "Elliott Management",
          "Bain Capital",
          "JPMorgan Chase & Co",
          "Bank of America",
          "Blackstone Group",
          "Clarium Capital Management",
          "National Assn of Realtors",
          "Deloitte LLP",
          "Wells Fargo",
          "JW Childs Assoc",
          "Berkshire Hathaway",
          "Morgan Stanley",
          "Perry Homes",
          "Public Storage Inc",
          "National Assn of Realtors",
          "Goldman Sachs",
          "Bank of America",
          "Berkshire Hathaway",
          "New York Life Insurance",
          "Deloitte LLP",
          "PricewaterhouseCoopers",
          "JPMorgan Chase & Co",
          "Goldman Sachs",
          "Soros Fund Management",
          "Citigroup Inc",
          "National Assn of Realtors",
          "Morgan Stanley",
          "Contran Corp",
          "Bank of America",
          "UBS AG",
          "Oak Spring Farms",
          "Deloitte LLP",
          "Merrill",
          "PricewaterhouseCoopers",
          "Perry Homes",
          "Goldman Sachs",
          "National Assn of Realtors",
          "Soros Fund Management",
          "Citigroup Inc",
          "Bank of America",
          "Deloitte LLP",
          "JPMorgan Chase & Co",
          "UBS AG",
          "Morgan Stanley",
          "Soros Fund Management",
          "Golden West Financial",
          "Perry Homes",
          "Goldman Sachs",
          "Ameriquest Capital",
          "AG Spanos Companies",
          "BP Capital",
          "Contran Corp",
          "National Assn of Realtors",
          "Morgan Stanley",
          "JPMorgan Chase & Co",
          "Citigroup Inc",
          "UBS AG",
          "American Financial Group",
          "Rocking W Ranch",
          "Bank of America",
          "Saban Capital Group",
          "National Assn of Realtors",
          "Freddie Mac",
          "Goldman Sachs",
          "Citigroup Inc",
          "Ameriquest Capital",
          "AFLAC Inc",
          "Fannie Mae",
          "American International Group",
          "Ernst & Young",
          "American Financial Group",
          "Goldman Sachs",
          "Citigroup Inc",
          "National Assn of Realtors",
          "MBNA Corp",
          "Ernst & Young",
          "JPMorgan Chase & Co",
          "Morgan Stanley",
          "Credit Suisse Group",
          "Freddie Mac",
          "UBS AG",
          "Deloitte LLP"
         ],
         "legendgroup": "Finance/Insurance/Real Estate",
         "marker": {
          "color": "#636efa",
          "size": [
           156579963,
           70743489,
           291212,
           5884374,
           112033,
           884380,
           25539963,
           21610319,
           19087667,
           9280,
           310884,
           15221725,
           42858,
           14389403,
           3636873,
           135144,
           13090296,
           95613171,
           73103031,
           27663900,
           20216321,
           321330,
           16397300,
           9651291,
           2058487,
           319513,
           9597307,
           8380472,
           54952,
           6662963,
           6091435,
           76946,
           90589395,
           34024178,
           41935100,
           27842724,
           46527,
           24906816,
           23221401,
           15883226,
           35987,
           133247,
           2226465,
           8405988,
           75279259,
           28169044,
           8613450,
           7450,
           2353479,
           8000,
           1796989,
           3885928,
           119580,
           1314303,
           315550,
           100268,
           2000,
           11611096,
           2500,
           1982994,
           1050,
           705510,
           2055475,
           1428335,
           1679546,
           2500,
           2138756,
           1696538,
           1251924,
           4300,
           1175731,
           1236073,
           2000,
           1000,
           2551947,
           1179027,
           1058636,
           1271461,
           1512217,
           1195571,
           1171600,
           4078625,
           5004870,
           5672606,
           3430107,
           2815270,
           2415841,
           114250,
           1897583,
           1902861,
           3483750,
           1549423,
           1491874,
           1426561,
           2000,
           2906711,
           2086782,
           3851416,
           1574807,
           1161503,
           746445,
           1410703,
           1061875,
           1123949,
           24364508,
           12620972,
           3000,
           4833383,
           133250,
           6000,
           1000,
           25650,
           2055283,
           1669774,
           1886843,
           1728214,
           1172439,
           44687,
           0,
           1240128,
           9362937,
           2140941,
           1824160,
           2649240,
           1533284,
           1709500,
           945400,
           1274200,
           952167,
           730282,
           343450,
           2913780,
           2186136,
           1766593,
           579140,
           1292030,
           1467580,
           1109892,
           824499,
           1059450,
           744255,
           608555
          ],
          "sizemode": "area",
          "sizeref": 43494.434166666666,
          "symbol": "circle"
         },
         "mode": "markers",
         "name": "Finance/Insurance/Real Estate",
         "orientation": "h",
         "showlegend": true,
         "type": "scatter",
         "x": [
          2020,
          2020,
          2020,
          2020,
          2020,
          2020,
          2020,
          2020,
          2020,
          2020,
          2020,
          2020,
          2020,
          2020,
          2020,
          2020,
          2020,
          2018,
          2018,
          2018,
          2018,
          2018,
          2018,
          2018,
          2018,
          2018,
          2018,
          2018,
          2018,
          2018,
          2018,
          2018,
          2016,
          2016,
          2016,
          2016,
          2016,
          2016,
          2016,
          2016,
          2016,
          2016,
          2016,
          2016,
          2014,
          2014,
          2014,
          2014,
          2014,
          2014,
          2014,
          2014,
          2014,
          2014,
          2014,
          2012,
          2012,
          2012,
          2012,
          2012,
          2012,
          2012,
          2012,
          2012,
          2012,
          2012,
          2012,
          2012,
          2012,
          2012,
          2012,
          2012,
          2010,
          2010,
          2010,
          2010,
          2010,
          2010,
          2010,
          2010,
          2010,
          2008,
          2008,
          2008,
          2008,
          2008,
          2008,
          2008,
          2008,
          2008,
          2008,
          2008,
          2008,
          2008,
          2006,
          2006,
          2006,
          2006,
          2006,
          2006,
          2006,
          2006,
          2006,
          2006,
          2004,
          2004,
          2004,
          2004,
          2004,
          2004,
          2004,
          2004,
          2004,
          2004,
          2004,
          2004,
          2004,
          2004,
          2004,
          2004,
          2002,
          2002,
          2002,
          2002,
          2002,
          2002,
          2002,
          2002,
          2002,
          2002,
          2002,
          2000,
          2000,
          2000,
          2000,
          2000,
          2000,
          2000,
          2000,
          2000,
          2000,
          2000
         ],
         "xaxis": "x",
         "y": [
          "NY",
          "CA",
          "IL",
          "NY",
          "PA",
          "TX",
          "CT",
          "MA",
          "NY",
          "AR",
          "NY",
          "CT",
          "IL",
          "NY",
          "IL",
          "GA",
          "CA",
          "NY",
          "CA",
          "CT",
          "NY",
          "IL",
          "NY",
          "NY",
          "NY",
          "TX",
          "CA",
          "MA",
          "PA",
          "IL",
          "MA",
          "NY",
          "CA",
          "NY",
          "CT",
          "NY",
          "NY",
          "NY",
          "IL",
          "CA",
          "AR",
          "IL",
          "NY",
          "TX",
          "CA",
          "NY",
          "NY",
          "NY",
          "IL",
          "AR",
          "NY",
          "NY",
          "IL",
          "NE",
          "MA",
          "TX",
          "TX",
          "NY",
          "ID",
          "NY",
          "NY",
          "MA",
          "NY",
          "NC",
          "NY",
          "CA",
          "IL",
          "NY",
          "NY",
          "MA",
          "NE",
          "NY",
          "TX",
          "CA",
          "IL",
          "NY",
          "NC",
          "NE",
          "NY",
          "NY",
          "NY",
          "NY",
          "NY",
          "NY",
          "NY",
          "IL",
          "NY",
          "TX",
          "NC",
          "NY",
          "MD",
          "NY",
          "NY",
          "NY",
          "TX",
          "NY",
          "IL",
          "NY",
          "NY",
          "NC",
          "NY",
          "NY",
          "NY",
          "NY",
          "NY",
          "CA",
          "TX",
          "NY",
          "NY",
          "CA",
          "TX",
          "TX",
          "IL",
          "NY",
          "NY",
          "NY",
          "NY",
          "OH",
          "TX",
          "NC",
          "CA",
          "IL",
          "VA",
          "NY",
          "NY",
          "NY",
          "GA",
          "DC",
          "NY",
          "NY",
          "OH",
          "NY",
          "NY",
          "IL",
          "DE",
          "NY",
          "NY",
          "NY",
          "NY",
          "VA",
          "NY",
          "NY"
         ],
         "yaxis": "y"
        },
        {
         "hovertemplate": "<b>%{hovertext}</b><br><br>Category=Trust<br>Cycle=%{x}<br>State=%{y}<br>To Dems & Liberals=%{marker.size}<extra></extra>",
         "hovertext": [
          "Senate Leadership Fund",
          "Fund for Policy Reform",
          "Senate Majority PAC",
          "Sixteen Thirty Fund",
          "America Votes",
          "Duty & Honor",
          "Fair Fight PAC",
          "Marcus Foundation",
          "Simon Youth Foundation",
          "League of Conservation Voters",
          "Senate Majority PAC",
          "Senate Leadership Fund",
          "League of Conservation Voters",
          "America Votes",
          "House Majority PAC",
          "Environment America",
          "Democratic Governors Assn",
          "Club for Growth",
          "Action Now Initiative",
          "EMILY's List",
          "Simon Youth Foundation",
          "NextGen Climate Action",
          "Bernard Marcus Family Foundation",
          "Samerian Foundation",
          "NextGen Climate Action",
          "Priorities USA/Priorities USA Action",
          "Senate Leadership Fund",
          "For Our Future",
          "Bernard Marcus Family Foundation",
          "McMahon Ventures",
          "Senate Majority PAC",
          "Commonwealth of Pennsylvania",
          "Jobs Ohio",
          "City of Philadelphia, PA",
          "Laurel Foundation",
          "Good Ventures",
          "League of Conservation Voters",
          "Senate Majority PAC",
          "League of Conservation Voters",
          "EMILY's List",
          "NextGen Climate Action",
          "City of New York, NY",
          "Democratic Governors Assn",
          "Club for Growth",
          "Harold C Simmons Family Trust",
          "Sheet Metal, Air, Rail & Transportation Union",
          "Democratic Attorneys General Assn",
          "EMILY's List",
          "Sheet Metal, Air, Rail & Transportation Union",
          "Democratic Governors Assn",
          "EMILY's List",
          "EMILY's List",
          "Sheet Metal, Air, Rail & Transportation Union",
          "Democratic Congressional Campaign Cmte",
          "Club for Growth",
          "Sustainable World Corp/Linda Pritzker",
          "Victory Campaign 2004",
          "Sustainable World Corp/Linda Pritzker",
          "Sheet Metal, Air, Rail & Transportation Union",
          "Alida Messinger Charitable Lead Trust",
          "EMILY's List",
          "US Chamber of Commerce",
          "Cullman Foundation/Cullman Ventures",
          "Sheet Metal, Air, Rail & Transportation Union",
          "EMILY's List",
          "Sheet Metal, Air, Rail & Transportation Union",
          "National Rifle Assn",
          "EMILY's List"
         ],
         "legendgroup": "Trust",
         "marker": {
          "color": "#EF553B",
          "size": [
           0,
           75500002,
           64471798,
           56718889,
           56458749,
           26050000,
           19659800,
           500,
           16769312,
           14517973,
           29992388,
           0,
           14536235,
           14271726,
           12350027,
           12257171,
           10775767,
           0,
           25,
           9882058,
           9654560,
           9026357,
           500,
           6962250,
           35010475,
           33354790,
           0,
           18542614,
           0,
           0,
           10755255,
           10376628,
           0,
           9207198,
           8908921,
           6996400,
           7993159,
           12035679,
           4987263,
           4133697,
           3866523,
           13854948,
           5552000,
           0,
           0,
           3585140,
           0,
           2767207,
           4239247,
           3790300,
           3569565,
           4079767,
           3289397,
           3121858,
           111419,
           2106000,
           32917000,
           7120000,
           3615925,
           3580200,
           3414354,
           59220,
           2791000,
           3622235,
           2226794,
           4196104,
           252750,
           2627149
          ],
          "sizemode": "area",
          "sizeref": 43494.434166666666,
          "symbol": "circle"
         },
         "mode": "markers",
         "name": "Trust",
         "orientation": "h",
         "showlegend": true,
         "type": "scatter",
         "x": [
          2020,
          2020,
          2020,
          2020,
          2020,
          2020,
          2020,
          2020,
          2020,
          2020,
          2018,
          2018,
          2018,
          2018,
          2018,
          2018,
          2018,
          2018,
          2018,
          2018,
          2018,
          2018,
          2018,
          2018,
          2016,
          2016,
          2016,
          2016,
          2016,
          2016,
          2016,
          2016,
          2016,
          2016,
          2016,
          2016,
          2016,
          2014,
          2014,
          2014,
          2014,
          2012,
          2010,
          2010,
          2010,
          2010,
          2010,
          2010,
          2008,
          2008,
          2008,
          2006,
          2006,
          2006,
          2006,
          2006,
          2004,
          2004,
          2004,
          2004,
          2004,
          2004,
          2004,
          2002,
          2002,
          2000,
          2000,
          2000
         ],
         "xaxis": "x",
         "y": [
          "REP",
          "NY",
          "DEM",
          "DEM",
          "DEM",
          "DEM",
          "DEM",
          "NY",
          "IN",
          "DC",
          "DEM",
          "REP",
          "DC",
          "DEM",
          "DEM",
          "CO",
          "DEM",
          "DC",
          "TX",
          "DC",
          "IN",
          "DEM",
          "REP",
          "DEM",
          "DEM",
          "DEM",
          "REP",
          "DEM",
          "REP",
          "REP",
          "DEM",
          "PA",
          "OH",
          "PA",
          "PA",
          "CA",
          "DC",
          "DEM",
          "DC",
          "DC",
          "DEM",
          "NY",
          "DEM",
          "DC",
          "REP",
          "DC",
          "DEM",
          "DC",
          "DC",
          "DEM",
          "DC",
          "DC",
          "DC",
          "DEM",
          "DC",
          "DEM",
          "DEM",
          "DEM",
          "DC",
          "DC",
          "DC",
          "DEM",
          "NY",
          "DC",
          "DC",
          "DC",
          "VA",
          "DC"
         ],
         "yaxis": "y"
        },
        {
         "hovertemplate": "<b>%{hovertext}</b><br><br>Category=Misc Business<br>Cycle=%{x}<br>State=%{y}<br>To Dems & Liberals=%{marker.size}<extra></extra>",
         "hovertext": [
          "Las Vegas Sands",
          "Uline Inc",
          "Reyes Holdings",
          "Las Vegas Sands",
          "Uline Inc",
          "Las Vegas Sands",
          "Uline Inc",
          "Las Vegas Sands",
          "Uline Inc",
          "Honeywell International",
          "National Beer Wholesalers Assn",
          "Home Depot",
          "Las Vegas Sands",
          "Specialty Group Inc",
          "TRT Holdings",
          "Honeywell International",
          "TRT Holdings",
          "Honeywell International",
          "National Beer Wholesalers Assn",
          "Las Vegas Sands",
          "Honeywell International",
          "National Beer Wholesalers Assn",
          "National Beer Wholesalers Assn",
          "Amway/Alticor Inc",
          "National Beer Wholesalers Assn",
          "National Beer Wholesalers Assn"
         ],
         "legendgroup": "Misc Business",
         "marker": {
          "color": "#00cc96",
          "size": [
           17967,
           21072,
           23579,
           8990,
           4437,
           51436,
           1072,
           3100,
           0,
           2248437,
           1703400,
           733430,
           2000,
           0,
           1000,
           2008013,
           500,
           2548112,
           2044841,
           2350,
           1718610,
           1720000,
           986000,
           4000,
           563816,
           456100
          ],
          "sizemode": "area",
          "sizeref": 43494.434166666666,
          "symbol": "circle"
         },
         "mode": "markers",
         "name": "Misc Business",
         "orientation": "h",
         "showlegend": true,
         "type": "scatter",
         "x": [
          2020,
          2020,
          2020,
          2018,
          2018,
          2016,
          2016,
          2014,
          2014,
          2014,
          2014,
          2014,
          2012,
          2012,
          2012,
          2012,
          2010,
          2010,
          2010,
          2008,
          2008,
          2008,
          2006,
          2004,
          2002,
          2000
         ],
         "xaxis": "x",
         "y": [
          "NV",
          "WI",
          "IL",
          "NV",
          "WI",
          "NV",
          "WI",
          "NV",
          "WI",
          "NC",
          "VA",
          "GA",
          "NV",
          "FL",
          "TX",
          "NC",
          "TX",
          "NC",
          "VA",
          "NV",
          "NC",
          "VA",
          "VA",
          "MI",
          "VA",
          "VA"
         ],
         "yaxis": "y"
        },
        {
         "hovertemplate": "<b>%{hovertext}</b><br><br>Category=Healthcare<br>Cycle=%{x}<br>State=%{y}<br>To Dems & Liberals=%{marker.size}<extra></extra>",
         "hovertext": [
          "Adelson Clinic for Drug Abuse Treatment & Research",
          "Adelson Clinic for Drug Abuse Treatment & Research",
          "Greater New York Hospital Assn",
          "Adelson Clinic for Drug Abuse Treatment & Research",
          "Blue Cross/Blue Shield",
          "Blue Cross/Blue Shield",
          "Adelson Clinic for Drug Abuse Treatment & Research",
          "Pharmaceutical Product Development Inc",
          "Blue Cross/Blue Shield",
          "Pharmaceutical Product Development Inc",
          "Blue Cross/Blue Shield",
          "Pharmaceutical Product Development Inc",
          "Blue Cross/Blue Shield",
          "Blue Cross/Blue Shield",
          "Pfizer Inc",
          "American Medical Assn",
          "Blue Cross/Blue Shield",
          "Blue Cross/Blue Shield",
          "American Medical Assn",
          "Blue Cross/Blue Shield",
          "Pfizer Inc",
          "Bristol-Myers Squibb",
          "American Medical Assn"
         ],
         "legendgroup": "Healthcare",
         "marker": {
          "color": "#ab63fa",
          "size": [
           0,
           0,
           6214945,
           40000,
           5441216,
           1942133,
           0,
           2000,
           1765894,
           0,
           1285957,
           0,
           1734008,
           844484,
           745040,
           744874,
           979634,
           769391,
           1074695,
           657811,
           404350,
           317653,
           1081268
          ],
          "sizemode": "area",
          "sizeref": 43494.434166666666,
          "symbol": "circle"
         },
         "mode": "markers",
         "name": "Healthcare",
         "orientation": "h",
         "showlegend": true,
         "type": "scatter",
         "x": [
          2020,
          2018,
          2018,
          2016,
          2016,
          2014,
          2012,
          2012,
          2012,
          2010,
          2010,
          2008,
          2008,
          2006,
          2006,
          2006,
          2004,
          2002,
          2002,
          2000,
          2000,
          2000,
          2000
         ],
         "xaxis": "x",
         "y": [
          "NV",
          "NV",
          "NY",
          "NV",
          "IL",
          "IL",
          "NV",
          "NC",
          "IL",
          "NC",
          "IL",
          "NC",
          "IL",
          "IL",
          "NY",
          "IL",
          "IL",
          "IL",
          "IL",
          "IL",
          "NY",
          "NY",
          "IL"
         ],
         "yaxis": "y"
        },
        {
         "hovertemplate": "<b>%{hovertext}</b><br><br>Category=Technology<br>Cycle=%{x}<br>State=%{y}<br>To Dems & Liberals=%{marker.size}<extra></extra>",
         "hovertext": [
          "Asana",
          "Alphabet Inc",
          "Microsoft Corp",
          "Walt Disney Co",
          "Newsweb Corp",
          "Comcast Corp",
          "AT&T Inc",
          "Amazon.com",
          "Microsoft Corp",
          "Amazon.com",
          "Newsweb Corp",
          "AT&T Inc",
          "Alphabet Inc",
          "Asana",
          "Newsweb Corp",
          "Asana",
          "Comcast Corp",
          "AT&T Inc",
          "Walt Disney Co",
          "Alphabet Inc",
          "Newsweb Corp",
          "Raytheon Technologies",
          "Comcast Corp",
          "AT&T Inc",
          "General Electric",
          "Google Inc",
          "Verizon Communications",
          "Microsoft Corp",
          "Newsweb Corp",
          "Raytheon Technologies",
          "Comcast Corp",
          "AT&T Inc",
          "DreamWorks SKG",
          "Microsoft Corp",
          "Oracle Corp",
          "AT&T Inc",
          "Raytheon Technologies",
          "Comcast Corp",
          "General Electric",
          "Microsoft Corp",
          "AT&T Inc",
          "Shangri-La Entertainment",
          "General Electric",
          "Microsoft Corp",
          "Comcast Corp",
          "Raytheon Technologies",
          "WarnerMedia Group",
          "Verizon Communications",
          "AT&T Inc",
          "General Electric",
          "Microsoft Corp",
          "Verizon Communications",
          "WarnerMedia Group",
          "Raytheon Technologies",
          "Comcast Corp",
          "Shangri-La Entertainment",
          "Gateway Inc",
          "AT&T Inc",
          "Microsoft Corp",
          "WarnerMedia Group",
          "Antidote Films",
          "Newsweb Corp",
          "Tippingpoint Technologies",
          "Intersystems Corp",
          "General Electric",
          "Newsweb Corp",
          "AT&T Inc",
          "Shangri-La Entertainment",
          "Microsoft Corp",
          "Verizon Communications",
          "BellSouth Corp",
          "Loral Space & Communications",
          "General Electric",
          "AT&T Inc",
          "Microsoft Corp",
          "Verizon Communications",
          "21st Century Fox",
          "BellSouth Corp",
          "WarnerMedia Group",
          "Global Crossing",
          "Vivendi"
         ],
         "legendgroup": "Technology",
         "marker": {
          "color": "#FFA15A",
          "size": [
           50709460,
           26035909,
           19109807,
           7660755,
           19480051,
           11798613,
           9636105,
           10791869,
           12074070,
           2247115,
           12688124,
           4516502,
           6897030,
           6871307,
           38788590,
           18009626,
           9632531,
           3929614,
           3815915,
           6179872,
           9674750,
           2170576,
           2721907,
           1525288,
           1645522,
           2710748,
           1346208,
           2168514,
           14715700,
           2163950,
           3358945,
           1734186,
           4939716,
           3244251,
           792847,
           2111349,
           2282665,
           2526786,
           1971456,
           1799894,
           2606634,
           4987100,
           2686392,
           2946440,
           2350021,
           1921198,
           2760113,
           1421381,
           1811027,
           1153380,
           1518358,
           962386,
           1951791,
           959381,
           1166048,
           13924271,
           5186038,
           1564750,
           2594923,
           2857907,
           3325500,
           3267246,
           3185500,
           3004875,
           1347549,
           7438750,
           3245287,
           6741250,
           1854557,
           1228636,
           1406737,
           2389850,
           922295,
           3937759,
           2271403,
           1489864,
           1952719,
           1055809,
           1629332,
           1029100,
           1277919
          ],
          "sizemode": "area",
          "sizeref": 43494.434166666666,
          "symbol": "circle"
         },
         "mode": "markers",
         "name": "Technology",
         "orientation": "h",
         "showlegend": true,
         "type": "scatter",
         "x": [
          2020,
          2020,
          2020,
          2020,
          2020,
          2020,
          2020,
          2020,
          2018,
          2018,
          2018,
          2018,
          2018,
          2018,
          2016,
          2016,
          2016,
          2016,
          2016,
          2016,
          2014,
          2014,
          2014,
          2014,
          2014,
          2014,
          2014,
          2014,
          2012,
          2012,
          2012,
          2012,
          2012,
          2012,
          2012,
          2010,
          2010,
          2010,
          2010,
          2010,
          2008,
          2008,
          2008,
          2008,
          2008,
          2008,
          2008,
          2008,
          2006,
          2006,
          2006,
          2006,
          2006,
          2006,
          2006,
          2004,
          2004,
          2004,
          2004,
          2004,
          2004,
          2004,
          2004,
          2004,
          2004,
          2002,
          2002,
          2002,
          2002,
          2002,
          2002,
          2002,
          2002,
          2000,
          2000,
          2000,
          2000,
          2000,
          2000,
          2000,
          2000
         ],
         "xaxis": "x",
         "y": [
          "CA",
          "CA",
          "WA",
          "CA",
          "IL",
          "PA",
          "TX",
          "WA",
          "WA",
          "WA",
          "IL",
          "TX",
          "CA",
          "CA",
          "IL",
          "CA",
          "PA",
          "TX",
          "CA",
          "CA",
          "IL",
          "MA",
          "PA",
          "TX",
          "MA",
          "CA",
          "NY",
          "WA",
          "IL",
          "MA",
          "PA",
          "TX",
          "CA",
          "WA",
          "TX",
          "TX",
          "MA",
          "PA",
          "MA",
          "WA",
          "TX",
          "CA",
          "MA",
          "WA",
          "PA",
          "MA",
          "NY",
          "NY",
          "TX",
          "MA",
          "WA",
          "NY",
          "NY",
          "MA",
          "PA",
          "CA",
          "CA",
          "TX",
          "WA",
          "NY",
          "NY",
          "IL",
          "TX",
          "MA",
          "MA",
          "IL",
          "TX",
          "CA",
          "WA",
          "NY",
          "GA",
          "NY",
          "MA",
          "TX",
          "WA",
          "NY",
          "NY",
          "GA",
          "NY",
          "LA",
          "CA"
         ],
         "yaxis": "y"
        },
        {
         "hovertemplate": "<b>%{hovertext}</b><br><br>Category=Labor<br>Cycle=%{x}<br>State=%{y}<br>To Dems & Liberals=%{marker.size}<extra></extra>",
         "hovertext": [
          "Carpenters & Joiners Union",
          "Service Employees International Union",
          "Laborers Union",
          "American Federation of Teachers",
          "American Federation of State/Cnty/Munic Employees",
          "International Brotherhood of Electrical Workers",
          "National Education Assn",
          "Operating Engineers Union",
          "Carpenters & Joiners Union",
          "Laborers Union",
          "American Federation of State/Cnty/Munic Employees",
          "Service Employees International Union",
          "American Federation of Teachers",
          "International Brotherhood of Electrical Workers",
          "Operating Engineers Union",
          "United Food & Commercial Workers Union",
          "Laborers Union",
          "American Federation of Teachers",
          "American Federation of State/Cnty/Munic Employees",
          "Carpenters & Joiners Union",
          "Service Employees International Union",
          "National Education Assn",
          "International Brotherhood of Electrical Workers",
          "Plumbers/Pipefitters Union",
          "Operating Engineers Union",
          "American Federation of State/Cnty/Munic Employees",
          "American Federation of Teachers",
          "National Education Assn",
          "Laborers Union",
          "International Brotherhood of Electrical Workers",
          "United Food & Commercial Workers Union",
          "Carpenters & Joiners Union",
          "Plumbers/Pipefitters Union",
          "Operating Engineers Union",
          "Service Employees International Union",
          "National Assn of Letter Carriers",
          "Teamsters Union",
          "National Air Traffic Controllers Assn",
          "American Federation of Government Employees",
          "American Bankers Assn",
          "Service Employees International Union",
          "American Federation of State/Cnty/Munic Employees",
          "American Federation of Teachers",
          "Carpenters & Joiners Union",
          "Laborers Union",
          "International Brotherhood of Electrical Workers",
          "National Education Assn",
          "Plumbers/Pipefitters Union",
          "National Assn of Letter Carriers",
          "Operating Engineers Union",
          "United Food & Commercial Workers Union",
          "Teamsters Union",
          "United Auto Workers",
          "National Air Traffic Controllers Assn",
          "Service Employees International Union",
          "American Federation of State/Cnty/Munic Employees",
          "American Federation of Teachers",
          "Laborers Union",
          "National Education Assn",
          "International Brotherhood of Electrical Workers",
          "Teamsters Union",
          "United Food & Commercial Workers Union",
          "International Assn of Fire Fighters",
          "Carpenters & Joiners Union",
          "American Bankers Assn",
          "National Assn of Letter Carriers",
          "Operating Engineers Union",
          "Credit Union National Assn",
          "Communications Workers of America",
          "National Assn of Home Builders",
          "Machinists/Aerospace Workers Union",
          "National Air Traffic Controllers Assn",
          "American Federation of State/Cnty/Munic Employees",
          "Service Employees International Union",
          "International Brotherhood of Electrical Workers",
          "Teamsters Union",
          "United Food & Commercial Workers Union",
          "American Bankers Assn",
          "National Education Assn",
          "Laborers Union",
          "Institute for Student Achievement",
          "American Federation of Teachers",
          "International Assn of Fire Fighters",
          "Communications Workers of America",
          "National Assn of Home Builders",
          "Machinists/Aerospace Workers Union",
          "Operating Engineers Union",
          "National Air Traffic Controllers Assn",
          "Credit Union National Assn",
          "Service Employees International Union",
          "International Brotherhood of Electrical Workers",
          "American Federation of State/Cnty/Munic Employees",
          "Laborers Union",
          "American Federation of Teachers",
          "National Assn of Home Builders",
          "American Bankers Assn",
          "National Education Assn",
          "Teamsters Union",
          "Carpenters & Joiners Union",
          "Credit Union National Assn",
          "Operating Engineers Union",
          "National Air Traffic Controllers Assn",
          "United Auto Workers",
          "Machinists/Aerospace Workers Union",
          "AFL-CIO",
          "International Assn of Fire Fighters",
          "Plumbers/Pipefitters Union",
          "Service Employees International Union",
          "American Federation of State/Cnty/Munic Employees",
          "AFL-CIO",
          "Laborers Union",
          "International Brotherhood of Electrical Workers",
          "American Federation of Teachers",
          "Teamsters Union",
          "Communications Workers of America",
          "Machinists/Aerospace Workers Union",
          "National Education Assn",
          "American Federation of State/Cnty/Munic Employees",
          "Service Employees International Union",
          "Carpenters & Joiners Union",
          "Communications Workers of America",
          "Laborers Union",
          "American Federation of Teachers",
          "International Brotherhood of Electrical Workers",
          "United Food & Commercial Workers Union",
          "National Education Assn",
          "Pharmaceutical Research & Manufacturers of America",
          "United Auto Workers",
          "Machinists/Aerospace Workers Union",
          "Teamsters Union",
          "Plumbers/Pipefitters Union",
          "Credit Union National Assn",
          "AFL-CIO",
          "International Assn of Fire Fighters",
          "National Assn of Home Builders",
          "American Federation of State/Cnty/Munic Employees",
          "Service Employees International Union",
          "International Brotherhood of Electrical Workers",
          "Carpenters & Joiners Union",
          "Communications Workers of America",
          "United Food & Commercial Workers Union",
          "Laborers Union",
          "American Federation of Teachers",
          "Teamsters Union",
          "Machinists/Aerospace Workers Union",
          "National Education Assn",
          "United Auto Workers",
          "AFL-CIO",
          "National Assn of Home Builders",
          "National Assn of Letter Carriers"
         ],
         "legendgroup": "Labor",
         "marker": {
          "color": "#19d3f3",
          "size": [
           35153141,
           29491690,
           24512545,
           20260946,
           19398684,
           14302019,
           14347659,
           12208734,
           18279000,
           15727510,
           14111906,
           14075921,
           13134295,
           8927404,
           7401004,
           6744754,
           16107953,
           16501929,
           15756653,
           13734767,
           11903039,
           10462124,
           10051874,
           8988749,
           7971581,
           12016874,
           8801953,
           7794586,
           6789573,
           6299912,
           6091470,
           5431182,
           5274316,
           4958507,
           4452597,
           4105046,
           4030552,
           3203700,
           3663096,
           858200,
           13652145,
           13374044,
           9110962,
           7537685,
           7116447,
           7190388,
           6019779,
           6140253,
           5594809,
           4520908,
           5337311,
           4751117,
           4539044,
           3733787,
           8894110,
           6878495,
           5664880,
           4810805,
           4713793,
           4692397,
           4293351,
           3804175,
           3205050,
           3446810,
           1184655,
           2994941,
           2637495,
           1546260,
           2700315,
           1011800,
           2515600,
           2135000,
           14421186,
           12448557,
           4801273,
           4401135,
           4297778,
           1746144,
           3737750,
           3519335,
           266000,
           3645260,
           2694799,
           3053937,
           1388993,
           2927792,
           2604375,
           2351533,
           1491740,
           10377111,
           4017155,
           3838934,
           3255301,
           3527427,
           953250,
           1191826,
           3175769,
           2829856,
           2158713,
           1306049,
           2279189,
           2295670,
           2490390,
           2374810,
           2209335,
           1749355,
           1900440,
           9556302,
           8070255,
           6289458,
           4187230,
           4196540,
           3969871,
           3360217,
           3062166,
           2633361,
           2293898,
           9554004,
           6957484,
           5754299,
           5648991,
           5052800,
           5341420,
           3961108,
           3764479,
           3342589,
           161050,
           3401913,
           3197850,
           2136043,
           2474284,
           1016938,
           2345993,
           2091818,
           904250,
           9019306,
           6651335,
           4991480,
           4613060,
           4602833,
           4165652,
           3357215,
           3585230,
           3072590,
           3236038,
           2942580,
           2881185,
           2550439,
           964400,
           1875600
          ],
          "sizemode": "area",
          "sizeref": 43494.434166666666,
          "symbol": "circle"
         },
         "mode": "markers",
         "name": "Labor",
         "orientation": "h",
         "showlegend": true,
         "type": "scatter",
         "x": [
          2020,
          2020,
          2020,
          2020,
          2020,
          2020,
          2020,
          2020,
          2018,
          2018,
          2018,
          2018,
          2018,
          2018,
          2018,
          2018,
          2016,
          2016,
          2016,
          2016,
          2016,
          2016,
          2016,
          2016,
          2016,
          2014,
          2014,
          2014,
          2014,
          2014,
          2014,
          2014,
          2014,
          2014,
          2014,
          2014,
          2014,
          2014,
          2014,
          2014,
          2012,
          2012,
          2012,
          2012,
          2012,
          2012,
          2012,
          2012,
          2012,
          2012,
          2012,
          2012,
          2012,
          2012,
          2010,
          2010,
          2010,
          2010,
          2010,
          2010,
          2010,
          2010,
          2010,
          2010,
          2010,
          2010,
          2010,
          2010,
          2010,
          2010,
          2010,
          2010,
          2008,
          2008,
          2008,
          2008,
          2008,
          2008,
          2008,
          2008,
          2008,
          2008,
          2008,
          2008,
          2008,
          2008,
          2008,
          2008,
          2008,
          2006,
          2006,
          2006,
          2006,
          2006,
          2006,
          2006,
          2006,
          2006,
          2006,
          2006,
          2006,
          2006,
          2006,
          2006,
          2006,
          2006,
          2006,
          2004,
          2004,
          2004,
          2004,
          2004,
          2004,
          2004,
          2004,
          2004,
          2004,
          2002,
          2002,
          2002,
          2002,
          2002,
          2002,
          2002,
          2002,
          2002,
          2002,
          2002,
          2002,
          2002,
          2002,
          2002,
          2002,
          2002,
          2002,
          2000,
          2000,
          2000,
          2000,
          2000,
          2000,
          2000,
          2000,
          2000,
          2000,
          2000,
          2000,
          2000,
          2000,
          2000
         ],
         "xaxis": "x",
         "y": [
          "UNION",
          "IL",
          "DC",
          "DC",
          "DC",
          "DC",
          "DC",
          "DC",
          "UNION",
          "DC",
          "DC",
          "IL",
          "DC",
          "DC",
          "DC",
          "DC",
          "DC",
          "DC",
          "DC",
          "UNION",
          "IL",
          "DC",
          "DC",
          "MD",
          "DC",
          "DC",
          "DC",
          "DC",
          "DC",
          "DC",
          "DC",
          "UNION",
          "MD",
          "DC",
          "IL",
          "DC",
          "DC",
          "DC",
          "DC",
          "DC",
          "IL",
          "DC",
          "DC",
          "UNION",
          "DC",
          "DC",
          "DC",
          "MD",
          "DC",
          "DC",
          "DC",
          "DC",
          "MI",
          "DC",
          "IL",
          "DC",
          "DC",
          "DC",
          "DC",
          "DC",
          "DC",
          "DC",
          "DC",
          "UNION",
          "DC",
          "DC",
          "DC",
          "DC",
          "DC",
          "DC",
          "MD",
          "DC",
          "DC",
          "IL",
          "DC",
          "DC",
          "DC",
          "DC",
          "DC",
          "DC",
          "NY",
          "DC",
          "DC",
          "DC",
          "DC",
          "MD",
          "DC",
          "DC",
          "DC",
          "IL",
          "DC",
          "DC",
          "DC",
          "DC",
          "DC",
          "DC",
          "DC",
          "DC",
          "UNION",
          "DC",
          "DC",
          "DC",
          "MI",
          "MD",
          "DC",
          "DC",
          "MD",
          "IL",
          "DC",
          "DC",
          "DC",
          "DC",
          "DC",
          "DC",
          "DC",
          "MD",
          "DC",
          "DC",
          "IL",
          "UNION",
          "DC",
          "DC",
          "DC",
          "DC",
          "DC",
          "DC",
          "DC",
          "MI",
          "MD",
          "DC",
          "MD",
          "DC",
          "DC",
          "DC",
          "DC",
          "DC",
          "IL",
          "DC",
          "UNION",
          "DC",
          "DC",
          "DC",
          "DC",
          "DC",
          "MD",
          "DC",
          "MI",
          "DC",
          "DC",
          "DC"
         ],
         "yaxis": "y"
        },
        {
         "hovertemplate": "<b>%{hovertext}</b><br><br>Category=Education<br>Cycle=%{x}<br>State=%{y}<br>To Dems & Liberals=%{marker.size}<extra></extra>",
         "hovertext": [
          "University of California",
          "University of California",
          "University of California",
          "University of California",
          "University of California"
         ],
         "legendgroup": "Education",
         "marker": {
          "color": "#FF6692",
          "size": [
           25214498,
           7314948,
           4817846,
           3615805,
           2511068
          ],
          "sizemode": "area",
          "sizeref": 43494.434166666666,
          "symbol": "circle"
         },
         "mode": "markers",
         "name": "Education",
         "orientation": "h",
         "showlegend": true,
         "type": "scatter",
         "x": [
          2020,
          2018,
          2012,
          2008,
          2004
         ],
         "xaxis": "x",
         "y": [
          "CA",
          "CA",
          "CA",
          "CA",
          "CA"
         ],
         "yaxis": "y"
        },
        {
         "hovertemplate": "<b>%{hovertext}</b><br><br>Category=Energy<br>Cycle=%{x}<br>State=%{y}<br>To Dems & Liberals=%{marker.size}<extra></extra>",
         "hovertext": [
          "Energy Transfer LP",
          "Koch Industries",
          "Koch Industries",
          "Marathon Petroleum",
          "Koch Industries",
          "Koch Industries",
          "Alliance Resource Partners",
          "Alliance Resource Partners",
          "Oxbow Corp",
          "Alliance Resource Partners",
          "Koch Industries",
          "Chesapeake Energy",
          "Enron Corp"
         ],
         "legendgroup": "Energy",
         "marker": {
          "color": "#B6E880",
          "size": [
           45409,
           335990,
           69199,
           241974,
           44369,
           50300,
           2000,
           11500,
           20000,
           66150,
           241999,
           34450,
           744919
          ],
          "sizemode": "area",
          "sizeref": 43494.434166666666,
          "symbol": "circle"
         },
         "mode": "markers",
         "name": "Energy",
         "orientation": "h",
         "showlegend": true,
         "type": "scatter",
         "x": [
          2020,
          2020,
          2018,
          2018,
          2016,
          2014,
          2014,
          2012,
          2012,
          2010,
          2010,
          2004,
          2000
         ],
         "xaxis": "x",
         "y": [
          "TX",
          "KS",
          "KS",
          "OH",
          "KS",
          "KS",
          "OK",
          "OK",
          "FL",
          "OK",
          "KS",
          "OK",
          "TX"
         ],
         "yaxis": "y"
        },
        {
         "hovertemplate": "<b>%{hovertext}</b><br><br>Category=Food<br>Cycle=%{x}<br>State=%{y}<br>To Dems & Liberals=%{marker.size}<extra></extra>",
         "hovertext": [
          "Mountaire Corp",
          "Mountaire Corp",
          "Mountaire Corp",
          "Mountaire Corp",
          "Philip Morris USA",
          "Anheuser-Busch InBev",
          "Philip Morris USA"
         ],
         "legendgroup": "Food",
         "marker": {
          "color": "#FF97FF",
          "size": [
           20,
           0,
           0,
           0,
           553092,
           992876,
           372109
          ],
          "sizemode": "area",
          "sizeref": 43494.434166666666,
          "symbol": "circle"
         },
         "mode": "markers",
         "name": "Food",
         "orientation": "h",
         "showlegend": true,
         "type": "scatter",
         "x": [
          2020,
          2018,
          2016,
          2014,
          2002,
          2002,
          2000
         ],
         "xaxis": "x",
         "y": [
          "AR",
          "AR",
          "AR",
          "AR",
          "VA",
          "NY",
          "VA"
         ],
         "yaxis": "y"
        },
        {
         "hovertemplate": "<b>%{hovertext}</b><br><br>Category=Sports<br>Cycle=%{x}<br>State=%{y}<br>To Dems & Liberals=%{marker.size}<extra></extra>",
         "hovertext": [
          "Chicago Cubs",
          "Houston Texans",
          "Houston Texans"
         ],
         "legendgroup": "Sports",
         "marker": {
          "color": "#FECB52",
          "size": [
           5450,
           2700,
           0
          ],
          "sizemode": "area",
          "sizeref": 43494.434166666666,
          "symbol": "circle"
         },
         "mode": "markers",
         "name": "Sports",
         "orientation": "h",
         "showlegend": true,
         "type": "scatter",
         "x": [
          2016,
          2016,
          2014
         ],
         "xaxis": "x",
         "y": [
          "IL",
          "TX",
          "TX"
         ],
         "yaxis": "y"
        },
        {
         "hovertemplate": "<b>%{hovertext}</b><br><br>Category=Hospitality<br>Cycle=%{x}<br>State=%{y}<br>To Dems & Liberals=%{marker.size}<extra></extra>",
         "hovertext": [
          "Starr Companies",
          "American Hospital Assn",
          "Chartwell Partners",
          "American Hospital Assn",
          "Chartwell Partners",
          "American Hospital Assn"
         ],
         "legendgroup": "Hospitality",
         "marker": {
          "color": "#636efa",
          "size": [
           11744,
           1575792,
           17700,
           1012051,
           45250,
           1162419
          ],
          "sizemode": "area",
          "sizeref": 43494.434166666666,
          "symbol": "circle"
         },
         "mode": "markers",
         "name": "Hospitality",
         "orientation": "h",
         "showlegend": true,
         "type": "scatter",
         "x": [
          2016,
          2010,
          2006,
          2006,
          2004,
          2002
         ],
         "xaxis": "x",
         "y": [
          "NY",
          "IL",
          "TX",
          "IL",
          "TX",
          "IL"
         ],
         "yaxis": "y"
        },
        {
         "hovertemplate": "<b>%{hovertext}</b><br><br>Category=Construction<br>Cycle=%{x}<br>State=%{y}<br>To Dems & Liberals=%{marker.size}<extra></extra>",
         "hovertext": [
          "ABC Supply",
          "TAMKO Building Products"
         ],
         "legendgroup": "Construction",
         "marker": {
          "color": "#EF553B",
          "size": [
           1625,
           1176
          ],
          "sizemode": "area",
          "sizeref": 43494.434166666666,
          "symbol": "circle"
         },
         "mode": "markers",
         "name": "Construction",
         "orientation": "h",
         "showlegend": true,
         "type": "scatter",
         "x": [
          2016,
          2016
         ],
         "xaxis": "x",
         "y": [
          "TX",
          "MO"
         ],
         "yaxis": "y"
        },
        {
         "hovertemplate": "<b>%{hovertext}</b><br><br>Category=Law<br>Cycle=%{x}<br>State=%{y}<br>To Dems & Liberals=%{marker.size}<extra></extra>",
         "hovertext": [
          "American Assn for Justice",
          "Mostyn Law Firm",
          "American Assn for Justice",
          "American Assn for Justice",
          "American Assn for Justice",
          "American Assn for Justice",
          "American Assn for Justice",
          "American Assn for Justice",
          "Williams, Hart et al",
          "American Assn for Justice"
         ],
         "legendgroup": "Law",
         "marker": {
          "color": "#00cc96",
          "size": [
           4644326,
           5442230,
           4933009,
           4362235,
           3700310,
           3851303,
           4251316,
           4063903,
           2437400,
           3775500
          ],
          "sizemode": "area",
          "sizeref": 43494.434166666666,
          "symbol": "circle"
         },
         "mode": "markers",
         "name": "Law",
         "orientation": "h",
         "showlegend": true,
         "type": "scatter",
         "x": [
          2014,
          2012,
          2012,
          2010,
          2008,
          2006,
          2004,
          2002,
          2002,
          2000
         ],
         "xaxis": "x",
         "y": [
          "DC",
          "PR",
          "DC",
          "DC",
          "DC",
          "DC",
          "DC",
          "DC",
          "AL",
          "DC"
         ],
         "yaxis": "y"
        },
        {
         "hovertemplate": "<b>%{hovertext}</b><br><br>Category=Defence<br>Cycle=%{x}<br>State=%{y}<br>To Dems & Liberals=%{marker.size}<extra></extra>",
         "hovertext": [
          "Lockheed Martin",
          "Northrop Grumman",
          "Lockheed Martin",
          "Lockheed Martin",
          "Lockheed Martin",
          "Lockheed Martin",
          "Lockheed Martin"
         ],
         "legendgroup": "Defence",
         "marker": {
          "color": "#ab63fa",
          "size": [
           1689637,
           1715803,
           1831348,
           1638552,
           1001803,
           960855,
           1052780
          ],
          "sizemode": "area",
          "sizeref": 43494.434166666666,
          "symbol": "circle"
         },
         "mode": "markers",
         "name": "Defence",
         "orientation": "h",
         "showlegend": true,
         "type": "scatter",
         "x": [
          2014,
          2014,
          2010,
          2008,
          2006,
          2002,
          2000
         ],
         "xaxis": "x",
         "y": [
          "MD",
          "VA",
          "MD",
          "MD",
          "MD",
          "MD",
          "MD"
         ],
         "yaxis": "y"
        },
        {
         "hovertemplate": "<b>%{hovertext}</b><br><br>Category=Transportation <br>Cycle=%{x}<br>State=%{y}<br>To Dems & Liberals=%{marker.size}<extra></extra>",
         "hovertext": [
          "Boeing Co"
         ],
         "legendgroup": "Transportation ",
         "marker": {
          "color": "#FFA15A",
          "size": [
           1847340
          ],
          "sizemode": "area",
          "sizeref": 43494.434166666666,
          "symbol": "circle"
         },
         "mode": "markers",
         "name": "Transportation ",
         "orientation": "h",
         "showlegend": true,
         "type": "scatter",
         "x": [
          2010
         ],
         "xaxis": "x",
         "y": [
          "IL"
         ],
         "yaxis": "y"
        },
        {
         "hovertemplate": "<b>%{hovertext}</b><br><br>Category=Transportation<br>Cycle=%{x}<br>State=%{y}<br>To Dems & Liberals=%{marker.size}<extra></extra>",
         "hovertext": [
          "United Parcel Service",
          "National Auto Dealers Assn",
          "National Auto Dealers Assn",
          "United Parcel Service",
          "United Parcel Service",
          "National Auto Dealers Assn",
          "FedEx Corp",
          "United Parcel Service",
          "National Auto Dealers Assn",
          "National Auto Dealers Assn",
          "United Parcel Service",
          "United Parcel Service",
          "FedEx Corp",
          "National Auto Dealers Assn",
          "American Airlines Group",
          "Union Pacific Corp"
         ],
         "legendgroup": "Transportation",
         "marker": {
          "color": "#19d3f3",
          "size": [
           1206877,
           1243500,
           1128750,
           1294969,
           1026358,
           940216,
           721379,
           948551,
           732000,
           977725,
           775984,
           967512,
           987705,
           880000,
           808364,
           369750
          ],
          "sizemode": "area",
          "sizeref": 43494.434166666666,
          "symbol": "circle"
         },
         "mode": "markers",
         "name": "Transportation",
         "orientation": "h",
         "showlegend": true,
         "type": "scatter",
         "x": [
          2010,
          2010,
          2008,
          2008,
          2006,
          2006,
          2006,
          2004,
          2004,
          2002,
          2002,
          2000,
          2000,
          2000,
          2000,
          2000
         ],
         "xaxis": "x",
         "y": [
          "GA",
          "VA",
          "VA",
          "GA",
          "GA",
          "VA",
          "TN",
          "GA",
          "VA",
          "VA",
          "GA",
          "GA",
          "TN",
          "VA",
          "TX",
          "DC"
         ],
         "yaxis": "y"
        }
       ],
       "layout": {
        "legend": {
         "itemsizing": "constant",
         "title": {
          "text": "Category"
         },
         "tracegroupgap": 0
        },
        "margin": {
         "t": 60
        },
        "template": {
         "data": {
          "bar": [
           {
            "error_x": {
             "color": "#2a3f5f"
            },
            "error_y": {
             "color": "#2a3f5f"
            },
            "marker": {
             "line": {
              "color": "#E5ECF6",
              "width": 0.5
             }
            },
            "type": "bar"
           }
          ],
          "barpolar": [
           {
            "marker": {
             "line": {
              "color": "#E5ECF6",
              "width": 0.5
             }
            },
            "type": "barpolar"
           }
          ],
          "carpet": [
           {
            "aaxis": {
             "endlinecolor": "#2a3f5f",
             "gridcolor": "white",
             "linecolor": "white",
             "minorgridcolor": "white",
             "startlinecolor": "#2a3f5f"
            },
            "baxis": {
             "endlinecolor": "#2a3f5f",
             "gridcolor": "white",
             "linecolor": "white",
             "minorgridcolor": "white",
             "startlinecolor": "#2a3f5f"
            },
            "type": "carpet"
           }
          ],
          "choropleth": [
           {
            "colorbar": {
             "outlinewidth": 0,
             "ticks": ""
            },
            "type": "choropleth"
           }
          ],
          "contour": [
           {
            "colorbar": {
             "outlinewidth": 0,
             "ticks": ""
            },
            "colorscale": [
             [
              0,
              "#0d0887"
             ],
             [
              0.1111111111111111,
              "#46039f"
             ],
             [
              0.2222222222222222,
              "#7201a8"
             ],
             [
              0.3333333333333333,
              "#9c179e"
             ],
             [
              0.4444444444444444,
              "#bd3786"
             ],
             [
              0.5555555555555556,
              "#d8576b"
             ],
             [
              0.6666666666666666,
              "#ed7953"
             ],
             [
              0.7777777777777778,
              "#fb9f3a"
             ],
             [
              0.8888888888888888,
              "#fdca26"
             ],
             [
              1,
              "#f0f921"
             ]
            ],
            "type": "contour"
           }
          ],
          "contourcarpet": [
           {
            "colorbar": {
             "outlinewidth": 0,
             "ticks": ""
            },
            "type": "contourcarpet"
           }
          ],
          "heatmap": [
           {
            "colorbar": {
             "outlinewidth": 0,
             "ticks": ""
            },
            "colorscale": [
             [
              0,
              "#0d0887"
             ],
             [
              0.1111111111111111,
              "#46039f"
             ],
             [
              0.2222222222222222,
              "#7201a8"
             ],
             [
              0.3333333333333333,
              "#9c179e"
             ],
             [
              0.4444444444444444,
              "#bd3786"
             ],
             [
              0.5555555555555556,
              "#d8576b"
             ],
             [
              0.6666666666666666,
              "#ed7953"
             ],
             [
              0.7777777777777778,
              "#fb9f3a"
             ],
             [
              0.8888888888888888,
              "#fdca26"
             ],
             [
              1,
              "#f0f921"
             ]
            ],
            "type": "heatmap"
           }
          ],
          "heatmapgl": [
           {
            "colorbar": {
             "outlinewidth": 0,
             "ticks": ""
            },
            "colorscale": [
             [
              0,
              "#0d0887"
             ],
             [
              0.1111111111111111,
              "#46039f"
             ],
             [
              0.2222222222222222,
              "#7201a8"
             ],
             [
              0.3333333333333333,
              "#9c179e"
             ],
             [
              0.4444444444444444,
              "#bd3786"
             ],
             [
              0.5555555555555556,
              "#d8576b"
             ],
             [
              0.6666666666666666,
              "#ed7953"
             ],
             [
              0.7777777777777778,
              "#fb9f3a"
             ],
             [
              0.8888888888888888,
              "#fdca26"
             ],
             [
              1,
              "#f0f921"
             ]
            ],
            "type": "heatmapgl"
           }
          ],
          "histogram": [
           {
            "marker": {
             "colorbar": {
              "outlinewidth": 0,
              "ticks": ""
             }
            },
            "type": "histogram"
           }
          ],
          "histogram2d": [
           {
            "colorbar": {
             "outlinewidth": 0,
             "ticks": ""
            },
            "colorscale": [
             [
              0,
              "#0d0887"
             ],
             [
              0.1111111111111111,
              "#46039f"
             ],
             [
              0.2222222222222222,
              "#7201a8"
             ],
             [
              0.3333333333333333,
              "#9c179e"
             ],
             [
              0.4444444444444444,
              "#bd3786"
             ],
             [
              0.5555555555555556,
              "#d8576b"
             ],
             [
              0.6666666666666666,
              "#ed7953"
             ],
             [
              0.7777777777777778,
              "#fb9f3a"
             ],
             [
              0.8888888888888888,
              "#fdca26"
             ],
             [
              1,
              "#f0f921"
             ]
            ],
            "type": "histogram2d"
           }
          ],
          "histogram2dcontour": [
           {
            "colorbar": {
             "outlinewidth": 0,
             "ticks": ""
            },
            "colorscale": [
             [
              0,
              "#0d0887"
             ],
             [
              0.1111111111111111,
              "#46039f"
             ],
             [
              0.2222222222222222,
              "#7201a8"
             ],
             [
              0.3333333333333333,
              "#9c179e"
             ],
             [
              0.4444444444444444,
              "#bd3786"
             ],
             [
              0.5555555555555556,
              "#d8576b"
             ],
             [
              0.6666666666666666,
              "#ed7953"
             ],
             [
              0.7777777777777778,
              "#fb9f3a"
             ],
             [
              0.8888888888888888,
              "#fdca26"
             ],
             [
              1,
              "#f0f921"
             ]
            ],
            "type": "histogram2dcontour"
           }
          ],
          "mesh3d": [
           {
            "colorbar": {
             "outlinewidth": 0,
             "ticks": ""
            },
            "type": "mesh3d"
           }
          ],
          "parcoords": [
           {
            "line": {
             "colorbar": {
              "outlinewidth": 0,
              "ticks": ""
             }
            },
            "type": "parcoords"
           }
          ],
          "pie": [
           {
            "automargin": true,
            "type": "pie"
           }
          ],
          "scatter": [
           {
            "marker": {
             "colorbar": {
              "outlinewidth": 0,
              "ticks": ""
             }
            },
            "type": "scatter"
           }
          ],
          "scatter3d": [
           {
            "line": {
             "colorbar": {
              "outlinewidth": 0,
              "ticks": ""
             }
            },
            "marker": {
             "colorbar": {
              "outlinewidth": 0,
              "ticks": ""
             }
            },
            "type": "scatter3d"
           }
          ],
          "scattercarpet": [
           {
            "marker": {
             "colorbar": {
              "outlinewidth": 0,
              "ticks": ""
             }
            },
            "type": "scattercarpet"
           }
          ],
          "scattergeo": [
           {
            "marker": {
             "colorbar": {
              "outlinewidth": 0,
              "ticks": ""
             }
            },
            "type": "scattergeo"
           }
          ],
          "scattergl": [
           {
            "marker": {
             "colorbar": {
              "outlinewidth": 0,
              "ticks": ""
             }
            },
            "type": "scattergl"
           }
          ],
          "scattermapbox": [
           {
            "marker": {
             "colorbar": {
              "outlinewidth": 0,
              "ticks": ""
             }
            },
            "type": "scattermapbox"
           }
          ],
          "scatterpolar": [
           {
            "marker": {
             "colorbar": {
              "outlinewidth": 0,
              "ticks": ""
             }
            },
            "type": "scatterpolar"
           }
          ],
          "scatterpolargl": [
           {
            "marker": {
             "colorbar": {
              "outlinewidth": 0,
              "ticks": ""
             }
            },
            "type": "scatterpolargl"
           }
          ],
          "scatterternary": [
           {
            "marker": {
             "colorbar": {
              "outlinewidth": 0,
              "ticks": ""
             }
            },
            "type": "scatterternary"
           }
          ],
          "surface": [
           {
            "colorbar": {
             "outlinewidth": 0,
             "ticks": ""
            },
            "colorscale": [
             [
              0,
              "#0d0887"
             ],
             [
              0.1111111111111111,
              "#46039f"
             ],
             [
              0.2222222222222222,
              "#7201a8"
             ],
             [
              0.3333333333333333,
              "#9c179e"
             ],
             [
              0.4444444444444444,
              "#bd3786"
             ],
             [
              0.5555555555555556,
              "#d8576b"
             ],
             [
              0.6666666666666666,
              "#ed7953"
             ],
             [
              0.7777777777777778,
              "#fb9f3a"
             ],
             [
              0.8888888888888888,
              "#fdca26"
             ],
             [
              1,
              "#f0f921"
             ]
            ],
            "type": "surface"
           }
          ],
          "table": [
           {
            "cells": {
             "fill": {
              "color": "#EBF0F8"
             },
             "line": {
              "color": "white"
             }
            },
            "header": {
             "fill": {
              "color": "#C8D4E3"
             },
             "line": {
              "color": "white"
             }
            },
            "type": "table"
           }
          ]
         },
         "layout": {
          "annotationdefaults": {
           "arrowcolor": "#2a3f5f",
           "arrowhead": 0,
           "arrowwidth": 1
          },
          "autotypenumbers": "strict",
          "coloraxis": {
           "colorbar": {
            "outlinewidth": 0,
            "ticks": ""
           }
          },
          "colorscale": {
           "diverging": [
            [
             0,
             "#8e0152"
            ],
            [
             0.1,
             "#c51b7d"
            ],
            [
             0.2,
             "#de77ae"
            ],
            [
             0.3,
             "#f1b6da"
            ],
            [
             0.4,
             "#fde0ef"
            ],
            [
             0.5,
             "#f7f7f7"
            ],
            [
             0.6,
             "#e6f5d0"
            ],
            [
             0.7,
             "#b8e186"
            ],
            [
             0.8,
             "#7fbc41"
            ],
            [
             0.9,
             "#4d9221"
            ],
            [
             1,
             "#276419"
            ]
           ],
           "sequential": [
            [
             0,
             "#0d0887"
            ],
            [
             0.1111111111111111,
             "#46039f"
            ],
            [
             0.2222222222222222,
             "#7201a8"
            ],
            [
             0.3333333333333333,
             "#9c179e"
            ],
            [
             0.4444444444444444,
             "#bd3786"
            ],
            [
             0.5555555555555556,
             "#d8576b"
            ],
            [
             0.6666666666666666,
             "#ed7953"
            ],
            [
             0.7777777777777778,
             "#fb9f3a"
            ],
            [
             0.8888888888888888,
             "#fdca26"
            ],
            [
             1,
             "#f0f921"
            ]
           ],
           "sequentialminus": [
            [
             0,
             "#0d0887"
            ],
            [
             0.1111111111111111,
             "#46039f"
            ],
            [
             0.2222222222222222,
             "#7201a8"
            ],
            [
             0.3333333333333333,
             "#9c179e"
            ],
            [
             0.4444444444444444,
             "#bd3786"
            ],
            [
             0.5555555555555556,
             "#d8576b"
            ],
            [
             0.6666666666666666,
             "#ed7953"
            ],
            [
             0.7777777777777778,
             "#fb9f3a"
            ],
            [
             0.8888888888888888,
             "#fdca26"
            ],
            [
             1,
             "#f0f921"
            ]
           ]
          },
          "colorway": [
           "#636efa",
           "#EF553B",
           "#00cc96",
           "#ab63fa",
           "#FFA15A",
           "#19d3f3",
           "#FF6692",
           "#B6E880",
           "#FF97FF",
           "#FECB52"
          ],
          "font": {
           "color": "#2a3f5f"
          },
          "geo": {
           "bgcolor": "white",
           "lakecolor": "white",
           "landcolor": "#E5ECF6",
           "showlakes": true,
           "showland": true,
           "subunitcolor": "white"
          },
          "hoverlabel": {
           "align": "left"
          },
          "hovermode": "closest",
          "mapbox": {
           "style": "light"
          },
          "paper_bgcolor": "white",
          "plot_bgcolor": "#E5ECF6",
          "polar": {
           "angularaxis": {
            "gridcolor": "white",
            "linecolor": "white",
            "ticks": ""
           },
           "bgcolor": "#E5ECF6",
           "radialaxis": {
            "gridcolor": "white",
            "linecolor": "white",
            "ticks": ""
           }
          },
          "scene": {
           "xaxis": {
            "backgroundcolor": "#E5ECF6",
            "gridcolor": "white",
            "gridwidth": 2,
            "linecolor": "white",
            "showbackground": true,
            "ticks": "",
            "zerolinecolor": "white"
           },
           "yaxis": {
            "backgroundcolor": "#E5ECF6",
            "gridcolor": "white",
            "gridwidth": 2,
            "linecolor": "white",
            "showbackground": true,
            "ticks": "",
            "zerolinecolor": "white"
           },
           "zaxis": {
            "backgroundcolor": "#E5ECF6",
            "gridcolor": "white",
            "gridwidth": 2,
            "linecolor": "white",
            "showbackground": true,
            "ticks": "",
            "zerolinecolor": "white"
           }
          },
          "shapedefaults": {
           "line": {
            "color": "#2a3f5f"
           }
          },
          "ternary": {
           "aaxis": {
            "gridcolor": "white",
            "linecolor": "white",
            "ticks": ""
           },
           "baxis": {
            "gridcolor": "white",
            "linecolor": "white",
            "ticks": ""
           },
           "bgcolor": "#E5ECF6",
           "caxis": {
            "gridcolor": "white",
            "linecolor": "white",
            "ticks": ""
           }
          },
          "title": {
           "x": 0.05
          },
          "xaxis": {
           "automargin": true,
           "gridcolor": "white",
           "linecolor": "white",
           "ticks": "",
           "title": {
            "standoff": 15
           },
           "zerolinecolor": "white",
           "zerolinewidth": 2
          },
          "yaxis": {
           "automargin": true,
           "gridcolor": "white",
           "linecolor": "white",
           "ticks": "",
           "title": {
            "standoff": 15
           },
           "zerolinecolor": "white",
           "zerolinewidth": 2
          }
         }
        },
        "xaxis": {
         "anchor": "y",
         "domain": [
          0,
          1
         ],
         "title": {
          "text": "Cycle"
         },
         "type": "log"
        },
        "yaxis": {
         "anchor": "x",
         "domain": [
          0,
          1
         ],
         "title": {
          "text": "State"
         }
        }
       }
      },
      "text/html": [
       "<div>                            <div id=\"137d1718-e1b4-4255-8072-a1ea9d522347\" class=\"plotly-graph-div\" style=\"height:525px; width:100%;\"></div>            <script type=\"text/javascript\">                require([\"plotly\"], function(Plotly) {                    window.PLOTLYENV=window.PLOTLYENV || {};                                    if (document.getElementById(\"137d1718-e1b4-4255-8072-a1ea9d522347\")) {                    Plotly.newPlot(                        \"137d1718-e1b4-4255-8072-a1ea9d522347\",                        [{\"hovertemplate\": \"<b>%{hovertext}</b><br><br>Category=Finance/Insurance/Real Estate<br>Cycle=%{x}<br>State=%{y}<br>To Dems & Liberals=%{marker.size}<extra></extra>\", \"hovertext\": [\"Bloomberg LP\", \"Fahr LLC\", \"Citadel LLC\", \"Blackstone Group\", \"Susquehanna International Group\", \"Charles Schwab Corp\", \"Paloma Partners\", \"Bain Capital\", \"Renaissance Technologies\", \"Stephens Group\", \"Elliott Management\", \"Lone Pine Capital\", \"Ryan Specialty Group\", \"Euclidean Capital\", \"National Assn of Realtors\", \"Intercontinental Exchange Inc\", \"Marcus & Millichap\", \"Bloomberg LP\", \"Fahr LLC\", \"Paloma Partners\", \"Soros Fund Management\", \"Citadel LLC\", \"Euclidean Capital\", \"Renaissance Technologies\", \"Blackstone Group\", \"Charles Schwab Corp\", \"Marcus & Millichap\", \"Bain Capital\", \"Susquehanna International Group\", \"Wicklow Capital\", \"Baupost Group\", \"Elliott Management\", \"Fahr LLC\", \"Renaissance Technologies\", \"Paloma Partners\", \"Soros Fund Management\", \"Elliott Management\", \"Bloomberg LP\", \"Pritzker Group\", \"Saban Capital Group\", \"Stephens Group\", \"Citadel LLC\", \"Blackstone Group\", \"Kainos Capital\", \"Fahr LLC\", \"Bloomberg LP\", \"Renaissance Technologies\", \"Elliott Management\", \"National Assn of Realtors\", \"Stephens Group\", \"Goldman Sachs\", \"Soros Fund Management\", \"Citadel LLC\", \"Berkshire Hathaway\", \"Baupost Group\", \"Contran Corp\", \"Perry Homes\", \"Renaissance Technologies\", \"Hugo Enterprises\", \"Goldman Sachs\", \"Elliott Management\", \"Bain Capital\", \"JPMorgan Chase & Co\", \"Bank of America\", \"Blackstone Group\", \"Clarium Capital Management\", \"National Assn of Realtors\", \"Deloitte LLP\", \"Wells Fargo\", \"JW Childs Assoc\", \"Berkshire Hathaway\", \"Morgan Stanley\", \"Perry Homes\", \"Public Storage Inc\", \"National Assn of Realtors\", \"Goldman Sachs\", \"Bank of America\", \"Berkshire Hathaway\", \"New York Life Insurance\", \"Deloitte LLP\", \"PricewaterhouseCoopers\", \"JPMorgan Chase & Co\", \"Goldman Sachs\", \"Soros Fund Management\", \"Citigroup Inc\", \"National Assn of Realtors\", \"Morgan Stanley\", \"Contran Corp\", \"Bank of America\", \"UBS AG\", \"Oak Spring Farms\", \"Deloitte LLP\", \"Merrill\", \"PricewaterhouseCoopers\", \"Perry Homes\", \"Goldman Sachs\", \"National Assn of Realtors\", \"Soros Fund Management\", \"Citigroup Inc\", \"Bank of America\", \"Deloitte LLP\", \"JPMorgan Chase & Co\", \"UBS AG\", \"Morgan Stanley\", \"Soros Fund Management\", \"Golden West Financial\", \"Perry Homes\", \"Goldman Sachs\", \"Ameriquest Capital\", \"AG Spanos Companies\", \"BP Capital\", \"Contran Corp\", \"National Assn of Realtors\", \"Morgan Stanley\", \"JPMorgan Chase & Co\", \"Citigroup Inc\", \"UBS AG\", \"American Financial Group\", \"Rocking W Ranch\", \"Bank of America\", \"Saban Capital Group\", \"National Assn of Realtors\", \"Freddie Mac\", \"Goldman Sachs\", \"Citigroup Inc\", \"Ameriquest Capital\", \"AFLAC Inc\", \"Fannie Mae\", \"American International Group\", \"Ernst & Young\", \"American Financial Group\", \"Goldman Sachs\", \"Citigroup Inc\", \"National Assn of Realtors\", \"MBNA Corp\", \"Ernst & Young\", \"JPMorgan Chase & Co\", \"Morgan Stanley\", \"Credit Suisse Group\", \"Freddie Mac\", \"UBS AG\", \"Deloitte LLP\"], \"legendgroup\": \"Finance/Insurance/Real Estate\", \"marker\": {\"color\": \"#636efa\", \"size\": [156579963, 70743489, 291212, 5884374, 112033, 884380, 25539963, 21610319, 19087667, 9280, 310884, 15221725, 42858, 14389403, 3636873, 135144, 13090296, 95613171, 73103031, 27663900, 20216321, 321330, 16397300, 9651291, 2058487, 319513, 9597307, 8380472, 54952, 6662963, 6091435, 76946, 90589395, 34024178, 41935100, 27842724, 46527, 24906816, 23221401, 15883226, 35987, 133247, 2226465, 8405988, 75279259, 28169044, 8613450, 7450, 2353479, 8000, 1796989, 3885928, 119580, 1314303, 315550, 100268, 2000, 11611096, 2500, 1982994, 1050, 705510, 2055475, 1428335, 1679546, 2500, 2138756, 1696538, 1251924, 4300, 1175731, 1236073, 2000, 1000, 2551947, 1179027, 1058636, 1271461, 1512217, 1195571, 1171600, 4078625, 5004870, 5672606, 3430107, 2815270, 2415841, 114250, 1897583, 1902861, 3483750, 1549423, 1491874, 1426561, 2000, 2906711, 2086782, 3851416, 1574807, 1161503, 746445, 1410703, 1061875, 1123949, 24364508, 12620972, 3000, 4833383, 133250, 6000, 1000, 25650, 2055283, 1669774, 1886843, 1728214, 1172439, 44687, 0, 1240128, 9362937, 2140941, 1824160, 2649240, 1533284, 1709500, 945400, 1274200, 952167, 730282, 343450, 2913780, 2186136, 1766593, 579140, 1292030, 1467580, 1109892, 824499, 1059450, 744255, 608555], \"sizemode\": \"area\", \"sizeref\": 43494.434166666666, \"symbol\": \"circle\"}, \"mode\": \"markers\", \"name\": \"Finance/Insurance/Real Estate\", \"orientation\": \"h\", \"showlegend\": true, \"type\": \"scatter\", \"x\": [2020, 2020, 2020, 2020, 2020, 2020, 2020, 2020, 2020, 2020, 2020, 2020, 2020, 2020, 2020, 2020, 2020, 2018, 2018, 2018, 2018, 2018, 2018, 2018, 2018, 2018, 2018, 2018, 2018, 2018, 2018, 2018, 2016, 2016, 2016, 2016, 2016, 2016, 2016, 2016, 2016, 2016, 2016, 2016, 2014, 2014, 2014, 2014, 2014, 2014, 2014, 2014, 2014, 2014, 2014, 2012, 2012, 2012, 2012, 2012, 2012, 2012, 2012, 2012, 2012, 2012, 2012, 2012, 2012, 2012, 2012, 2012, 2010, 2010, 2010, 2010, 2010, 2010, 2010, 2010, 2010, 2008, 2008, 2008, 2008, 2008, 2008, 2008, 2008, 2008, 2008, 2008, 2008, 2008, 2006, 2006, 2006, 2006, 2006, 2006, 2006, 2006, 2006, 2006, 2004, 2004, 2004, 2004, 2004, 2004, 2004, 2004, 2004, 2004, 2004, 2004, 2004, 2004, 2004, 2004, 2002, 2002, 2002, 2002, 2002, 2002, 2002, 2002, 2002, 2002, 2002, 2000, 2000, 2000, 2000, 2000, 2000, 2000, 2000, 2000, 2000, 2000], \"xaxis\": \"x\", \"y\": [\"NY\", \"CA\", \"IL\", \"NY\", \"PA\", \"TX\", \"CT\", \"MA\", \"NY\", \"AR\", \"NY\", \"CT\", \"IL\", \"NY\", \"IL\", \"GA\", \"CA\", \"NY\", \"CA\", \"CT\", \"NY\", \"IL\", \"NY\", \"NY\", \"NY\", \"TX\", \"CA\", \"MA\", \"PA\", \"IL\", \"MA\", \"NY\", \"CA\", \"NY\", \"CT\", \"NY\", \"NY\", \"NY\", \"IL\", \"CA\", \"AR\", \"IL\", \"NY\", \"TX\", \"CA\", \"NY\", \"NY\", \"NY\", \"IL\", \"AR\", \"NY\", \"NY\", \"IL\", \"NE\", \"MA\", \"TX\", \"TX\", \"NY\", \"ID\", \"NY\", \"NY\", \"MA\", \"NY\", \"NC\", \"NY\", \"CA\", \"IL\", \"NY\", \"NY\", \"MA\", \"NE\", \"NY\", \"TX\", \"CA\", \"IL\", \"NY\", \"NC\", \"NE\", \"NY\", \"NY\", \"NY\", \"NY\", \"NY\", \"NY\", \"NY\", \"IL\", \"NY\", \"TX\", \"NC\", \"NY\", \"MD\", \"NY\", \"NY\", \"NY\", \"TX\", \"NY\", \"IL\", \"NY\", \"NY\", \"NC\", \"NY\", \"NY\", \"NY\", \"NY\", \"NY\", \"CA\", \"TX\", \"NY\", \"NY\", \"CA\", \"TX\", \"TX\", \"IL\", \"NY\", \"NY\", \"NY\", \"NY\", \"OH\", \"TX\", \"NC\", \"CA\", \"IL\", \"VA\", \"NY\", \"NY\", \"NY\", \"GA\", \"DC\", \"NY\", \"NY\", \"OH\", \"NY\", \"NY\", \"IL\", \"DE\", \"NY\", \"NY\", \"NY\", \"NY\", \"VA\", \"NY\", \"NY\"], \"yaxis\": \"y\"}, {\"hovertemplate\": \"<b>%{hovertext}</b><br><br>Category=Trust<br>Cycle=%{x}<br>State=%{y}<br>To Dems & Liberals=%{marker.size}<extra></extra>\", \"hovertext\": [\"Senate Leadership Fund\", \"Fund for Policy Reform\", \"Senate Majority PAC\", \"Sixteen Thirty Fund\", \"America Votes\", \"Duty & Honor\", \"Fair Fight PAC\", \"Marcus Foundation\", \"Simon Youth Foundation\", \"League of Conservation Voters\", \"Senate Majority PAC\", \"Senate Leadership Fund\", \"League of Conservation Voters\", \"America Votes\", \"House Majority PAC\", \"Environment America\", \"Democratic Governors Assn\", \"Club for Growth\", \"Action Now Initiative\", \"EMILY's List\", \"Simon Youth Foundation\", \"NextGen Climate Action\", \"Bernard Marcus Family Foundation\", \"Samerian Foundation\", \"NextGen Climate Action\", \"Priorities USA/Priorities USA Action\", \"Senate Leadership Fund\", \"For Our Future\", \"Bernard Marcus Family Foundation\", \"McMahon Ventures\", \"Senate Majority PAC\", \"Commonwealth of Pennsylvania\", \"Jobs Ohio\", \"City of Philadelphia, PA\", \"Laurel Foundation\", \"Good Ventures\", \"League of Conservation Voters\", \"Senate Majority PAC\", \"League of Conservation Voters\", \"EMILY's List\", \"NextGen Climate Action\", \"City of New York, NY\", \"Democratic Governors Assn\", \"Club for Growth\", \"Harold C Simmons Family Trust\", \"Sheet Metal, Air, Rail & Transportation Union\", \"Democratic Attorneys General Assn\", \"EMILY's List\", \"Sheet Metal, Air, Rail & Transportation Union\", \"Democratic Governors Assn\", \"EMILY's List\", \"EMILY's List\", \"Sheet Metal, Air, Rail & Transportation Union\", \"Democratic Congressional Campaign Cmte\", \"Club for Growth\", \"Sustainable World Corp/Linda Pritzker\", \"Victory Campaign 2004\", \"Sustainable World Corp/Linda Pritzker\", \"Sheet Metal, Air, Rail & Transportation Union\", \"Alida Messinger Charitable Lead Trust\", \"EMILY's List\", \"US Chamber of Commerce\", \"Cullman Foundation/Cullman Ventures\", \"Sheet Metal, Air, Rail & Transportation Union\", \"EMILY's List\", \"Sheet Metal, Air, Rail & Transportation Union\", \"National Rifle Assn\", \"EMILY's List\"], \"legendgroup\": \"Trust\", \"marker\": {\"color\": \"#EF553B\", \"size\": [0, 75500002, 64471798, 56718889, 56458749, 26050000, 19659800, 500, 16769312, 14517973, 29992388, 0, 14536235, 14271726, 12350027, 12257171, 10775767, 0, 25, 9882058, 9654560, 9026357, 500, 6962250, 35010475, 33354790, 0, 18542614, 0, 0, 10755255, 10376628, 0, 9207198, 8908921, 6996400, 7993159, 12035679, 4987263, 4133697, 3866523, 13854948, 5552000, 0, 0, 3585140, 0, 2767207, 4239247, 3790300, 3569565, 4079767, 3289397, 3121858, 111419, 2106000, 32917000, 7120000, 3615925, 3580200, 3414354, 59220, 2791000, 3622235, 2226794, 4196104, 252750, 2627149], \"sizemode\": \"area\", \"sizeref\": 43494.434166666666, \"symbol\": \"circle\"}, \"mode\": \"markers\", \"name\": \"Trust\", \"orientation\": \"h\", \"showlegend\": true, \"type\": \"scatter\", \"x\": [2020, 2020, 2020, 2020, 2020, 2020, 2020, 2020, 2020, 2020, 2018, 2018, 2018, 2018, 2018, 2018, 2018, 2018, 2018, 2018, 2018, 2018, 2018, 2018, 2016, 2016, 2016, 2016, 2016, 2016, 2016, 2016, 2016, 2016, 2016, 2016, 2016, 2014, 2014, 2014, 2014, 2012, 2010, 2010, 2010, 2010, 2010, 2010, 2008, 2008, 2008, 2006, 2006, 2006, 2006, 2006, 2004, 2004, 2004, 2004, 2004, 2004, 2004, 2002, 2002, 2000, 2000, 2000], \"xaxis\": \"x\", \"y\": [\"REP\", \"NY\", \"DEM\", \"DEM\", \"DEM\", \"DEM\", \"DEM\", \"NY\", \"IN\", \"DC\", \"DEM\", \"REP\", \"DC\", \"DEM\", \"DEM\", \"CO\", \"DEM\", \"DC\", \"TX\", \"DC\", \"IN\", \"DEM\", \"REP\", \"DEM\", \"DEM\", \"DEM\", \"REP\", \"DEM\", \"REP\", \"REP\", \"DEM\", \"PA\", \"OH\", \"PA\", \"PA\", \"CA\", \"DC\", \"DEM\", \"DC\", \"DC\", \"DEM\", \"NY\", \"DEM\", \"DC\", \"REP\", \"DC\", \"DEM\", \"DC\", \"DC\", \"DEM\", \"DC\", \"DC\", \"DC\", \"DEM\", \"DC\", \"DEM\", \"DEM\", \"DEM\", \"DC\", \"DC\", \"DC\", \"DEM\", \"NY\", \"DC\", \"DC\", \"DC\", \"VA\", \"DC\"], \"yaxis\": \"y\"}, {\"hovertemplate\": \"<b>%{hovertext}</b><br><br>Category=Misc Business<br>Cycle=%{x}<br>State=%{y}<br>To Dems & Liberals=%{marker.size}<extra></extra>\", \"hovertext\": [\"Las Vegas Sands\", \"Uline Inc\", \"Reyes Holdings\", \"Las Vegas Sands\", \"Uline Inc\", \"Las Vegas Sands\", \"Uline Inc\", \"Las Vegas Sands\", \"Uline Inc\", \"Honeywell International\", \"National Beer Wholesalers Assn\", \"Home Depot\", \"Las Vegas Sands\", \"Specialty Group Inc\", \"TRT Holdings\", \"Honeywell International\", \"TRT Holdings\", \"Honeywell International\", \"National Beer Wholesalers Assn\", \"Las Vegas Sands\", \"Honeywell International\", \"National Beer Wholesalers Assn\", \"National Beer Wholesalers Assn\", \"Amway/Alticor Inc\", \"National Beer Wholesalers Assn\", \"National Beer Wholesalers Assn\"], \"legendgroup\": \"Misc Business\", \"marker\": {\"color\": \"#00cc96\", \"size\": [17967, 21072, 23579, 8990, 4437, 51436, 1072, 3100, 0, 2248437, 1703400, 733430, 2000, 0, 1000, 2008013, 500, 2548112, 2044841, 2350, 1718610, 1720000, 986000, 4000, 563816, 456100], \"sizemode\": \"area\", \"sizeref\": 43494.434166666666, \"symbol\": \"circle\"}, \"mode\": \"markers\", \"name\": \"Misc Business\", \"orientation\": \"h\", \"showlegend\": true, \"type\": \"scatter\", \"x\": [2020, 2020, 2020, 2018, 2018, 2016, 2016, 2014, 2014, 2014, 2014, 2014, 2012, 2012, 2012, 2012, 2010, 2010, 2010, 2008, 2008, 2008, 2006, 2004, 2002, 2000], \"xaxis\": \"x\", \"y\": [\"NV\", \"WI\", \"IL\", \"NV\", \"WI\", \"NV\", \"WI\", \"NV\", \"WI\", \"NC\", \"VA\", \"GA\", \"NV\", \"FL\", \"TX\", \"NC\", \"TX\", \"NC\", \"VA\", \"NV\", \"NC\", \"VA\", \"VA\", \"MI\", \"VA\", \"VA\"], \"yaxis\": \"y\"}, {\"hovertemplate\": \"<b>%{hovertext}</b><br><br>Category=Healthcare<br>Cycle=%{x}<br>State=%{y}<br>To Dems & Liberals=%{marker.size}<extra></extra>\", \"hovertext\": [\"Adelson Clinic for Drug Abuse Treatment & Research\", \"Adelson Clinic for Drug Abuse Treatment & Research\", \"Greater New York Hospital Assn\", \"Adelson Clinic for Drug Abuse Treatment & Research\", \"Blue Cross/Blue Shield\", \"Blue Cross/Blue Shield\", \"Adelson Clinic for Drug Abuse Treatment & Research\", \"Pharmaceutical Product Development Inc\", \"Blue Cross/Blue Shield\", \"Pharmaceutical Product Development Inc\", \"Blue Cross/Blue Shield\", \"Pharmaceutical Product Development Inc\", \"Blue Cross/Blue Shield\", \"Blue Cross/Blue Shield\", \"Pfizer Inc\", \"American Medical Assn\", \"Blue Cross/Blue Shield\", \"Blue Cross/Blue Shield\", \"American Medical Assn\", \"Blue Cross/Blue Shield\", \"Pfizer Inc\", \"Bristol-Myers Squibb\", \"American Medical Assn\"], \"legendgroup\": \"Healthcare\", \"marker\": {\"color\": \"#ab63fa\", \"size\": [0, 0, 6214945, 40000, 5441216, 1942133, 0, 2000, 1765894, 0, 1285957, 0, 1734008, 844484, 745040, 744874, 979634, 769391, 1074695, 657811, 404350, 317653, 1081268], \"sizemode\": \"area\", \"sizeref\": 43494.434166666666, \"symbol\": \"circle\"}, \"mode\": \"markers\", \"name\": \"Healthcare\", \"orientation\": \"h\", \"showlegend\": true, \"type\": \"scatter\", \"x\": [2020, 2018, 2018, 2016, 2016, 2014, 2012, 2012, 2012, 2010, 2010, 2008, 2008, 2006, 2006, 2006, 2004, 2002, 2002, 2000, 2000, 2000, 2000], \"xaxis\": \"x\", \"y\": [\"NV\", \"NV\", \"NY\", \"NV\", \"IL\", \"IL\", \"NV\", \"NC\", \"IL\", \"NC\", \"IL\", \"NC\", \"IL\", \"IL\", \"NY\", \"IL\", \"IL\", \"IL\", \"IL\", \"IL\", \"NY\", \"NY\", \"IL\"], \"yaxis\": \"y\"}, {\"hovertemplate\": \"<b>%{hovertext}</b><br><br>Category=Technology<br>Cycle=%{x}<br>State=%{y}<br>To Dems & Liberals=%{marker.size}<extra></extra>\", \"hovertext\": [\"Asana\", \"Alphabet Inc\", \"Microsoft Corp\", \"Walt Disney Co\", \"Newsweb Corp\", \"Comcast Corp\", \"AT&T Inc\", \"Amazon.com\", \"Microsoft Corp\", \"Amazon.com\", \"Newsweb Corp\", \"AT&T Inc\", \"Alphabet Inc\", \"Asana\", \"Newsweb Corp\", \"Asana\", \"Comcast Corp\", \"AT&T Inc\", \"Walt Disney Co\", \"Alphabet Inc\", \"Newsweb Corp\", \"Raytheon Technologies\", \"Comcast Corp\", \"AT&T Inc\", \"General Electric\", \"Google Inc\", \"Verizon Communications\", \"Microsoft Corp\", \"Newsweb Corp\", \"Raytheon Technologies\", \"Comcast Corp\", \"AT&T Inc\", \"DreamWorks SKG\", \"Microsoft Corp\", \"Oracle Corp\", \"AT&T Inc\", \"Raytheon Technologies\", \"Comcast Corp\", \"General Electric\", \"Microsoft Corp\", \"AT&T Inc\", \"Shangri-La Entertainment\", \"General Electric\", \"Microsoft Corp\", \"Comcast Corp\", \"Raytheon Technologies\", \"WarnerMedia Group\", \"Verizon Communications\", \"AT&T Inc\", \"General Electric\", \"Microsoft Corp\", \"Verizon Communications\", \"WarnerMedia Group\", \"Raytheon Technologies\", \"Comcast Corp\", \"Shangri-La Entertainment\", \"Gateway Inc\", \"AT&T Inc\", \"Microsoft Corp\", \"WarnerMedia Group\", \"Antidote Films\", \"Newsweb Corp\", \"Tippingpoint Technologies\", \"Intersystems Corp\", \"General Electric\", \"Newsweb Corp\", \"AT&T Inc\", \"Shangri-La Entertainment\", \"Microsoft Corp\", \"Verizon Communications\", \"BellSouth Corp\", \"Loral Space & Communications\", \"General Electric\", \"AT&T Inc\", \"Microsoft Corp\", \"Verizon Communications\", \"21st Century Fox\", \"BellSouth Corp\", \"WarnerMedia Group\", \"Global Crossing\", \"Vivendi\"], \"legendgroup\": \"Technology\", \"marker\": {\"color\": \"#FFA15A\", \"size\": [50709460, 26035909, 19109807, 7660755, 19480051, 11798613, 9636105, 10791869, 12074070, 2247115, 12688124, 4516502, 6897030, 6871307, 38788590, 18009626, 9632531, 3929614, 3815915, 6179872, 9674750, 2170576, 2721907, 1525288, 1645522, 2710748, 1346208, 2168514, 14715700, 2163950, 3358945, 1734186, 4939716, 3244251, 792847, 2111349, 2282665, 2526786, 1971456, 1799894, 2606634, 4987100, 2686392, 2946440, 2350021, 1921198, 2760113, 1421381, 1811027, 1153380, 1518358, 962386, 1951791, 959381, 1166048, 13924271, 5186038, 1564750, 2594923, 2857907, 3325500, 3267246, 3185500, 3004875, 1347549, 7438750, 3245287, 6741250, 1854557, 1228636, 1406737, 2389850, 922295, 3937759, 2271403, 1489864, 1952719, 1055809, 1629332, 1029100, 1277919], \"sizemode\": \"area\", \"sizeref\": 43494.434166666666, \"symbol\": \"circle\"}, \"mode\": \"markers\", \"name\": \"Technology\", \"orientation\": \"h\", \"showlegend\": true, \"type\": \"scatter\", \"x\": [2020, 2020, 2020, 2020, 2020, 2020, 2020, 2020, 2018, 2018, 2018, 2018, 2018, 2018, 2016, 2016, 2016, 2016, 2016, 2016, 2014, 2014, 2014, 2014, 2014, 2014, 2014, 2014, 2012, 2012, 2012, 2012, 2012, 2012, 2012, 2010, 2010, 2010, 2010, 2010, 2008, 2008, 2008, 2008, 2008, 2008, 2008, 2008, 2006, 2006, 2006, 2006, 2006, 2006, 2006, 2004, 2004, 2004, 2004, 2004, 2004, 2004, 2004, 2004, 2004, 2002, 2002, 2002, 2002, 2002, 2002, 2002, 2002, 2000, 2000, 2000, 2000, 2000, 2000, 2000, 2000], \"xaxis\": \"x\", \"y\": [\"CA\", \"CA\", \"WA\", \"CA\", \"IL\", \"PA\", \"TX\", \"WA\", \"WA\", \"WA\", \"IL\", \"TX\", \"CA\", \"CA\", \"IL\", \"CA\", \"PA\", \"TX\", \"CA\", \"CA\", \"IL\", \"MA\", \"PA\", \"TX\", \"MA\", \"CA\", \"NY\", \"WA\", \"IL\", \"MA\", \"PA\", \"TX\", \"CA\", \"WA\", \"TX\", \"TX\", \"MA\", \"PA\", \"MA\", \"WA\", \"TX\", \"CA\", \"MA\", \"WA\", \"PA\", \"MA\", \"NY\", \"NY\", \"TX\", \"MA\", \"WA\", \"NY\", \"NY\", \"MA\", \"PA\", \"CA\", \"CA\", \"TX\", \"WA\", \"NY\", \"NY\", \"IL\", \"TX\", \"MA\", \"MA\", \"IL\", \"TX\", \"CA\", \"WA\", \"NY\", \"GA\", \"NY\", \"MA\", \"TX\", \"WA\", \"NY\", \"NY\", \"GA\", \"NY\", \"LA\", \"CA\"], \"yaxis\": \"y\"}, {\"hovertemplate\": \"<b>%{hovertext}</b><br><br>Category=Labor<br>Cycle=%{x}<br>State=%{y}<br>To Dems & Liberals=%{marker.size}<extra></extra>\", \"hovertext\": [\"Carpenters & Joiners Union\", \"Service Employees International Union\", \"Laborers Union\", \"American Federation of Teachers\", \"American Federation of State/Cnty/Munic Employees\", \"International Brotherhood of Electrical Workers\", \"National Education Assn\", \"Operating Engineers Union\", \"Carpenters & Joiners Union\", \"Laborers Union\", \"American Federation of State/Cnty/Munic Employees\", \"Service Employees International Union\", \"American Federation of Teachers\", \"International Brotherhood of Electrical Workers\", \"Operating Engineers Union\", \"United Food & Commercial Workers Union\", \"Laborers Union\", \"American Federation of Teachers\", \"American Federation of State/Cnty/Munic Employees\", \"Carpenters & Joiners Union\", \"Service Employees International Union\", \"National Education Assn\", \"International Brotherhood of Electrical Workers\", \"Plumbers/Pipefitters Union\", \"Operating Engineers Union\", \"American Federation of State/Cnty/Munic Employees\", \"American Federation of Teachers\", \"National Education Assn\", \"Laborers Union\", \"International Brotherhood of Electrical Workers\", \"United Food & Commercial Workers Union\", \"Carpenters & Joiners Union\", \"Plumbers/Pipefitters Union\", \"Operating Engineers Union\", \"Service Employees International Union\", \"National Assn of Letter Carriers\", \"Teamsters Union\", \"National Air Traffic Controllers Assn\", \"American Federation of Government Employees\", \"American Bankers Assn\", \"Service Employees International Union\", \"American Federation of State/Cnty/Munic Employees\", \"American Federation of Teachers\", \"Carpenters & Joiners Union\", \"Laborers Union\", \"International Brotherhood of Electrical Workers\", \"National Education Assn\", \"Plumbers/Pipefitters Union\", \"National Assn of Letter Carriers\", \"Operating Engineers Union\", \"United Food & Commercial Workers Union\", \"Teamsters Union\", \"United Auto Workers\", \"National Air Traffic Controllers Assn\", \"Service Employees International Union\", \"American Federation of State/Cnty/Munic Employees\", \"American Federation of Teachers\", \"Laborers Union\", \"National Education Assn\", \"International Brotherhood of Electrical Workers\", \"Teamsters Union\", \"United Food & Commercial Workers Union\", \"International Assn of Fire Fighters\", \"Carpenters & Joiners Union\", \"American Bankers Assn\", \"National Assn of Letter Carriers\", \"Operating Engineers Union\", \"Credit Union National Assn\", \"Communications Workers of America\", \"National Assn of Home Builders\", \"Machinists/Aerospace Workers Union\", \"National Air Traffic Controllers Assn\", \"American Federation of State/Cnty/Munic Employees\", \"Service Employees International Union\", \"International Brotherhood of Electrical Workers\", \"Teamsters Union\", \"United Food & Commercial Workers Union\", \"American Bankers Assn\", \"National Education Assn\", \"Laborers Union\", \"Institute for Student Achievement\", \"American Federation of Teachers\", \"International Assn of Fire Fighters\", \"Communications Workers of America\", \"National Assn of Home Builders\", \"Machinists/Aerospace Workers Union\", \"Operating Engineers Union\", \"National Air Traffic Controllers Assn\", \"Credit Union National Assn\", \"Service Employees International Union\", \"International Brotherhood of Electrical Workers\", \"American Federation of State/Cnty/Munic Employees\", \"Laborers Union\", \"American Federation of Teachers\", \"National Assn of Home Builders\", \"American Bankers Assn\", \"National Education Assn\", \"Teamsters Union\", \"Carpenters & Joiners Union\", \"Credit Union National Assn\", \"Operating Engineers Union\", \"National Air Traffic Controllers Assn\", \"United Auto Workers\", \"Machinists/Aerospace Workers Union\", \"AFL-CIO\", \"International Assn of Fire Fighters\", \"Plumbers/Pipefitters Union\", \"Service Employees International Union\", \"American Federation of State/Cnty/Munic Employees\", \"AFL-CIO\", \"Laborers Union\", \"International Brotherhood of Electrical Workers\", \"American Federation of Teachers\", \"Teamsters Union\", \"Communications Workers of America\", \"Machinists/Aerospace Workers Union\", \"National Education Assn\", \"American Federation of State/Cnty/Munic Employees\", \"Service Employees International Union\", \"Carpenters & Joiners Union\", \"Communications Workers of America\", \"Laborers Union\", \"American Federation of Teachers\", \"International Brotherhood of Electrical Workers\", \"United Food & Commercial Workers Union\", \"National Education Assn\", \"Pharmaceutical Research & Manufacturers of America\", \"United Auto Workers\", \"Machinists/Aerospace Workers Union\", \"Teamsters Union\", \"Plumbers/Pipefitters Union\", \"Credit Union National Assn\", \"AFL-CIO\", \"International Assn of Fire Fighters\", \"National Assn of Home Builders\", \"American Federation of State/Cnty/Munic Employees\", \"Service Employees International Union\", \"International Brotherhood of Electrical Workers\", \"Carpenters & Joiners Union\", \"Communications Workers of America\", \"United Food & Commercial Workers Union\", \"Laborers Union\", \"American Federation of Teachers\", \"Teamsters Union\", \"Machinists/Aerospace Workers Union\", \"National Education Assn\", \"United Auto Workers\", \"AFL-CIO\", \"National Assn of Home Builders\", \"National Assn of Letter Carriers\"], \"legendgroup\": \"Labor\", \"marker\": {\"color\": \"#19d3f3\", \"size\": [35153141, 29491690, 24512545, 20260946, 19398684, 14302019, 14347659, 12208734, 18279000, 15727510, 14111906, 14075921, 13134295, 8927404, 7401004, 6744754, 16107953, 16501929, 15756653, 13734767, 11903039, 10462124, 10051874, 8988749, 7971581, 12016874, 8801953, 7794586, 6789573, 6299912, 6091470, 5431182, 5274316, 4958507, 4452597, 4105046, 4030552, 3203700, 3663096, 858200, 13652145, 13374044, 9110962, 7537685, 7116447, 7190388, 6019779, 6140253, 5594809, 4520908, 5337311, 4751117, 4539044, 3733787, 8894110, 6878495, 5664880, 4810805, 4713793, 4692397, 4293351, 3804175, 3205050, 3446810, 1184655, 2994941, 2637495, 1546260, 2700315, 1011800, 2515600, 2135000, 14421186, 12448557, 4801273, 4401135, 4297778, 1746144, 3737750, 3519335, 266000, 3645260, 2694799, 3053937, 1388993, 2927792, 2604375, 2351533, 1491740, 10377111, 4017155, 3838934, 3255301, 3527427, 953250, 1191826, 3175769, 2829856, 2158713, 1306049, 2279189, 2295670, 2490390, 2374810, 2209335, 1749355, 1900440, 9556302, 8070255, 6289458, 4187230, 4196540, 3969871, 3360217, 3062166, 2633361, 2293898, 9554004, 6957484, 5754299, 5648991, 5052800, 5341420, 3961108, 3764479, 3342589, 161050, 3401913, 3197850, 2136043, 2474284, 1016938, 2345993, 2091818, 904250, 9019306, 6651335, 4991480, 4613060, 4602833, 4165652, 3357215, 3585230, 3072590, 3236038, 2942580, 2881185, 2550439, 964400, 1875600], \"sizemode\": \"area\", \"sizeref\": 43494.434166666666, \"symbol\": \"circle\"}, \"mode\": \"markers\", \"name\": \"Labor\", \"orientation\": \"h\", \"showlegend\": true, \"type\": \"scatter\", \"x\": [2020, 2020, 2020, 2020, 2020, 2020, 2020, 2020, 2018, 2018, 2018, 2018, 2018, 2018, 2018, 2018, 2016, 2016, 2016, 2016, 2016, 2016, 2016, 2016, 2016, 2014, 2014, 2014, 2014, 2014, 2014, 2014, 2014, 2014, 2014, 2014, 2014, 2014, 2014, 2014, 2012, 2012, 2012, 2012, 2012, 2012, 2012, 2012, 2012, 2012, 2012, 2012, 2012, 2012, 2010, 2010, 2010, 2010, 2010, 2010, 2010, 2010, 2010, 2010, 2010, 2010, 2010, 2010, 2010, 2010, 2010, 2010, 2008, 2008, 2008, 2008, 2008, 2008, 2008, 2008, 2008, 2008, 2008, 2008, 2008, 2008, 2008, 2008, 2008, 2006, 2006, 2006, 2006, 2006, 2006, 2006, 2006, 2006, 2006, 2006, 2006, 2006, 2006, 2006, 2006, 2006, 2006, 2004, 2004, 2004, 2004, 2004, 2004, 2004, 2004, 2004, 2004, 2002, 2002, 2002, 2002, 2002, 2002, 2002, 2002, 2002, 2002, 2002, 2002, 2002, 2002, 2002, 2002, 2002, 2002, 2000, 2000, 2000, 2000, 2000, 2000, 2000, 2000, 2000, 2000, 2000, 2000, 2000, 2000, 2000], \"xaxis\": \"x\", \"y\": [\"UNION\", \"IL\", \"DC\", \"DC\", \"DC\", \"DC\", \"DC\", \"DC\", \"UNION\", \"DC\", \"DC\", \"IL\", \"DC\", \"DC\", \"DC\", \"DC\", \"DC\", \"DC\", \"DC\", \"UNION\", \"IL\", \"DC\", \"DC\", \"MD\", \"DC\", \"DC\", \"DC\", \"DC\", \"DC\", \"DC\", \"DC\", \"UNION\", \"MD\", \"DC\", \"IL\", \"DC\", \"DC\", \"DC\", \"DC\", \"DC\", \"IL\", \"DC\", \"DC\", \"UNION\", \"DC\", \"DC\", \"DC\", \"MD\", \"DC\", \"DC\", \"DC\", \"DC\", \"MI\", \"DC\", \"IL\", \"DC\", \"DC\", \"DC\", \"DC\", \"DC\", \"DC\", \"DC\", \"DC\", \"UNION\", \"DC\", \"DC\", \"DC\", \"DC\", \"DC\", \"DC\", \"MD\", \"DC\", \"DC\", \"IL\", \"DC\", \"DC\", \"DC\", \"DC\", \"DC\", \"DC\", \"NY\", \"DC\", \"DC\", \"DC\", \"DC\", \"MD\", \"DC\", \"DC\", \"DC\", \"IL\", \"DC\", \"DC\", \"DC\", \"DC\", \"DC\", \"DC\", \"DC\", \"DC\", \"UNION\", \"DC\", \"DC\", \"DC\", \"MI\", \"MD\", \"DC\", \"DC\", \"MD\", \"IL\", \"DC\", \"DC\", \"DC\", \"DC\", \"DC\", \"DC\", \"DC\", \"MD\", \"DC\", \"DC\", \"IL\", \"UNION\", \"DC\", \"DC\", \"DC\", \"DC\", \"DC\", \"DC\", \"DC\", \"MI\", \"MD\", \"DC\", \"MD\", \"DC\", \"DC\", \"DC\", \"DC\", \"DC\", \"IL\", \"DC\", \"UNION\", \"DC\", \"DC\", \"DC\", \"DC\", \"DC\", \"MD\", \"DC\", \"MI\", \"DC\", \"DC\", \"DC\"], \"yaxis\": \"y\"}, {\"hovertemplate\": \"<b>%{hovertext}</b><br><br>Category=Education<br>Cycle=%{x}<br>State=%{y}<br>To Dems & Liberals=%{marker.size}<extra></extra>\", \"hovertext\": [\"University of California\", \"University of California\", \"University of California\", \"University of California\", \"University of California\"], \"legendgroup\": \"Education\", \"marker\": {\"color\": \"#FF6692\", \"size\": [25214498, 7314948, 4817846, 3615805, 2511068], \"sizemode\": \"area\", \"sizeref\": 43494.434166666666, \"symbol\": \"circle\"}, \"mode\": \"markers\", \"name\": \"Education\", \"orientation\": \"h\", \"showlegend\": true, \"type\": \"scatter\", \"x\": [2020, 2018, 2012, 2008, 2004], \"xaxis\": \"x\", \"y\": [\"CA\", \"CA\", \"CA\", \"CA\", \"CA\"], \"yaxis\": \"y\"}, {\"hovertemplate\": \"<b>%{hovertext}</b><br><br>Category=Energy<br>Cycle=%{x}<br>State=%{y}<br>To Dems & Liberals=%{marker.size}<extra></extra>\", \"hovertext\": [\"Energy Transfer LP\", \"Koch Industries\", \"Koch Industries\", \"Marathon Petroleum\", \"Koch Industries\", \"Koch Industries\", \"Alliance Resource Partners\", \"Alliance Resource Partners\", \"Oxbow Corp\", \"Alliance Resource Partners\", \"Koch Industries\", \"Chesapeake Energy\", \"Enron Corp\"], \"legendgroup\": \"Energy\", \"marker\": {\"color\": \"#B6E880\", \"size\": [45409, 335990, 69199, 241974, 44369, 50300, 2000, 11500, 20000, 66150, 241999, 34450, 744919], \"sizemode\": \"area\", \"sizeref\": 43494.434166666666, \"symbol\": \"circle\"}, \"mode\": \"markers\", \"name\": \"Energy\", \"orientation\": \"h\", \"showlegend\": true, \"type\": \"scatter\", \"x\": [2020, 2020, 2018, 2018, 2016, 2014, 2014, 2012, 2012, 2010, 2010, 2004, 2000], \"xaxis\": \"x\", \"y\": [\"TX\", \"KS\", \"KS\", \"OH\", \"KS\", \"KS\", \"OK\", \"OK\", \"FL\", \"OK\", \"KS\", \"OK\", \"TX\"], \"yaxis\": \"y\"}, {\"hovertemplate\": \"<b>%{hovertext}</b><br><br>Category=Food<br>Cycle=%{x}<br>State=%{y}<br>To Dems & Liberals=%{marker.size}<extra></extra>\", \"hovertext\": [\"Mountaire Corp\", \"Mountaire Corp\", \"Mountaire Corp\", \"Mountaire Corp\", \"Philip Morris USA\", \"Anheuser-Busch InBev\", \"Philip Morris USA\"], \"legendgroup\": \"Food\", \"marker\": {\"color\": \"#FF97FF\", \"size\": [20, 0, 0, 0, 553092, 992876, 372109], \"sizemode\": \"area\", \"sizeref\": 43494.434166666666, \"symbol\": \"circle\"}, \"mode\": \"markers\", \"name\": \"Food\", \"orientation\": \"h\", \"showlegend\": true, \"type\": \"scatter\", \"x\": [2020, 2018, 2016, 2014, 2002, 2002, 2000], \"xaxis\": \"x\", \"y\": [\"AR\", \"AR\", \"AR\", \"AR\", \"VA\", \"NY\", \"VA\"], \"yaxis\": \"y\"}, {\"hovertemplate\": \"<b>%{hovertext}</b><br><br>Category=Sports<br>Cycle=%{x}<br>State=%{y}<br>To Dems & Liberals=%{marker.size}<extra></extra>\", \"hovertext\": [\"Chicago Cubs\", \"Houston Texans\", \"Houston Texans\"], \"legendgroup\": \"Sports\", \"marker\": {\"color\": \"#FECB52\", \"size\": [5450, 2700, 0], \"sizemode\": \"area\", \"sizeref\": 43494.434166666666, \"symbol\": \"circle\"}, \"mode\": \"markers\", \"name\": \"Sports\", \"orientation\": \"h\", \"showlegend\": true, \"type\": \"scatter\", \"x\": [2016, 2016, 2014], \"xaxis\": \"x\", \"y\": [\"IL\", \"TX\", \"TX\"], \"yaxis\": \"y\"}, {\"hovertemplate\": \"<b>%{hovertext}</b><br><br>Category=Hospitality<br>Cycle=%{x}<br>State=%{y}<br>To Dems & Liberals=%{marker.size}<extra></extra>\", \"hovertext\": [\"Starr Companies\", \"American Hospital Assn\", \"Chartwell Partners\", \"American Hospital Assn\", \"Chartwell Partners\", \"American Hospital Assn\"], \"legendgroup\": \"Hospitality\", \"marker\": {\"color\": \"#636efa\", \"size\": [11744, 1575792, 17700, 1012051, 45250, 1162419], \"sizemode\": \"area\", \"sizeref\": 43494.434166666666, \"symbol\": \"circle\"}, \"mode\": \"markers\", \"name\": \"Hospitality\", \"orientation\": \"h\", \"showlegend\": true, \"type\": \"scatter\", \"x\": [2016, 2010, 2006, 2006, 2004, 2002], \"xaxis\": \"x\", \"y\": [\"NY\", \"IL\", \"TX\", \"IL\", \"TX\", \"IL\"], \"yaxis\": \"y\"}, {\"hovertemplate\": \"<b>%{hovertext}</b><br><br>Category=Construction<br>Cycle=%{x}<br>State=%{y}<br>To Dems & Liberals=%{marker.size}<extra></extra>\", \"hovertext\": [\"ABC Supply\", \"TAMKO Building Products\"], \"legendgroup\": \"Construction\", \"marker\": {\"color\": \"#EF553B\", \"size\": [1625, 1176], \"sizemode\": \"area\", \"sizeref\": 43494.434166666666, \"symbol\": \"circle\"}, \"mode\": \"markers\", \"name\": \"Construction\", \"orientation\": \"h\", \"showlegend\": true, \"type\": \"scatter\", \"x\": [2016, 2016], \"xaxis\": \"x\", \"y\": [\"TX\", \"MO\"], \"yaxis\": \"y\"}, {\"hovertemplate\": \"<b>%{hovertext}</b><br><br>Category=Law<br>Cycle=%{x}<br>State=%{y}<br>To Dems & Liberals=%{marker.size}<extra></extra>\", \"hovertext\": [\"American Assn for Justice\", \"Mostyn Law Firm\", \"American Assn for Justice\", \"American Assn for Justice\", \"American Assn for Justice\", \"American Assn for Justice\", \"American Assn for Justice\", \"American Assn for Justice\", \"Williams, Hart et al\", \"American Assn for Justice\"], \"legendgroup\": \"Law\", \"marker\": {\"color\": \"#00cc96\", \"size\": [4644326, 5442230, 4933009, 4362235, 3700310, 3851303, 4251316, 4063903, 2437400, 3775500], \"sizemode\": \"area\", \"sizeref\": 43494.434166666666, \"symbol\": \"circle\"}, \"mode\": \"markers\", \"name\": \"Law\", \"orientation\": \"h\", \"showlegend\": true, \"type\": \"scatter\", \"x\": [2014, 2012, 2012, 2010, 2008, 2006, 2004, 2002, 2002, 2000], \"xaxis\": \"x\", \"y\": [\"DC\", \"PR\", \"DC\", \"DC\", \"DC\", \"DC\", \"DC\", \"DC\", \"AL\", \"DC\"], \"yaxis\": \"y\"}, {\"hovertemplate\": \"<b>%{hovertext}</b><br><br>Category=Defence<br>Cycle=%{x}<br>State=%{y}<br>To Dems & Liberals=%{marker.size}<extra></extra>\", \"hovertext\": [\"Lockheed Martin\", \"Northrop Grumman\", \"Lockheed Martin\", \"Lockheed Martin\", \"Lockheed Martin\", \"Lockheed Martin\", \"Lockheed Martin\"], \"legendgroup\": \"Defence\", \"marker\": {\"color\": \"#ab63fa\", \"size\": [1689637, 1715803, 1831348, 1638552, 1001803, 960855, 1052780], \"sizemode\": \"area\", \"sizeref\": 43494.434166666666, \"symbol\": \"circle\"}, \"mode\": \"markers\", \"name\": \"Defence\", \"orientation\": \"h\", \"showlegend\": true, \"type\": \"scatter\", \"x\": [2014, 2014, 2010, 2008, 2006, 2002, 2000], \"xaxis\": \"x\", \"y\": [\"MD\", \"VA\", \"MD\", \"MD\", \"MD\", \"MD\", \"MD\"], \"yaxis\": \"y\"}, {\"hovertemplate\": \"<b>%{hovertext}</b><br><br>Category=Transportation <br>Cycle=%{x}<br>State=%{y}<br>To Dems & Liberals=%{marker.size}<extra></extra>\", \"hovertext\": [\"Boeing Co\"], \"legendgroup\": \"Transportation \", \"marker\": {\"color\": \"#FFA15A\", \"size\": [1847340], \"sizemode\": \"area\", \"sizeref\": 43494.434166666666, \"symbol\": \"circle\"}, \"mode\": \"markers\", \"name\": \"Transportation \", \"orientation\": \"h\", \"showlegend\": true, \"type\": \"scatter\", \"x\": [2010], \"xaxis\": \"x\", \"y\": [\"IL\"], \"yaxis\": \"y\"}, {\"hovertemplate\": \"<b>%{hovertext}</b><br><br>Category=Transportation<br>Cycle=%{x}<br>State=%{y}<br>To Dems & Liberals=%{marker.size}<extra></extra>\", \"hovertext\": [\"United Parcel Service\", \"National Auto Dealers Assn\", \"National Auto Dealers Assn\", \"United Parcel Service\", \"United Parcel Service\", \"National Auto Dealers Assn\", \"FedEx Corp\", \"United Parcel Service\", \"National Auto Dealers Assn\", \"National Auto Dealers Assn\", \"United Parcel Service\", \"United Parcel Service\", \"FedEx Corp\", \"National Auto Dealers Assn\", \"American Airlines Group\", \"Union Pacific Corp\"], \"legendgroup\": \"Transportation\", \"marker\": {\"color\": \"#19d3f3\", \"size\": [1206877, 1243500, 1128750, 1294969, 1026358, 940216, 721379, 948551, 732000, 977725, 775984, 967512, 987705, 880000, 808364, 369750], \"sizemode\": \"area\", \"sizeref\": 43494.434166666666, \"symbol\": \"circle\"}, \"mode\": \"markers\", \"name\": \"Transportation\", \"orientation\": \"h\", \"showlegend\": true, \"type\": \"scatter\", \"x\": [2010, 2010, 2008, 2008, 2006, 2006, 2006, 2004, 2004, 2002, 2002, 2000, 2000, 2000, 2000, 2000], \"xaxis\": \"x\", \"y\": [\"GA\", \"VA\", \"VA\", \"GA\", \"GA\", \"VA\", \"TN\", \"GA\", \"VA\", \"VA\", \"GA\", \"GA\", \"TN\", \"VA\", \"TX\", \"DC\"], \"yaxis\": \"y\"}],                        {\"legend\": {\"itemsizing\": \"constant\", \"title\": {\"text\": \"Category\"}, \"tracegroupgap\": 0}, \"margin\": {\"t\": 60}, \"template\": {\"data\": {\"bar\": [{\"error_x\": {\"color\": \"#2a3f5f\"}, \"error_y\": {\"color\": \"#2a3f5f\"}, \"marker\": {\"line\": {\"color\": \"#E5ECF6\", \"width\": 0.5}}, \"type\": \"bar\"}], \"barpolar\": [{\"marker\": {\"line\": {\"color\": \"#E5ECF6\", \"width\": 0.5}}, \"type\": \"barpolar\"}], \"carpet\": [{\"aaxis\": {\"endlinecolor\": \"#2a3f5f\", \"gridcolor\": \"white\", \"linecolor\": \"white\", \"minorgridcolor\": \"white\", \"startlinecolor\": \"#2a3f5f\"}, \"baxis\": {\"endlinecolor\": \"#2a3f5f\", \"gridcolor\": \"white\", \"linecolor\": \"white\", \"minorgridcolor\": \"white\", \"startlinecolor\": \"#2a3f5f\"}, \"type\": \"carpet\"}], \"choropleth\": [{\"colorbar\": {\"outlinewidth\": 0, \"ticks\": \"\"}, \"type\": \"choropleth\"}], \"contour\": [{\"colorbar\": {\"outlinewidth\": 0, \"ticks\": \"\"}, \"colorscale\": [[0.0, \"#0d0887\"], [0.1111111111111111, \"#46039f\"], [0.2222222222222222, \"#7201a8\"], [0.3333333333333333, \"#9c179e\"], [0.4444444444444444, \"#bd3786\"], [0.5555555555555556, \"#d8576b\"], [0.6666666666666666, \"#ed7953\"], [0.7777777777777778, \"#fb9f3a\"], [0.8888888888888888, \"#fdca26\"], [1.0, \"#f0f921\"]], \"type\": \"contour\"}], \"contourcarpet\": [{\"colorbar\": {\"outlinewidth\": 0, \"ticks\": \"\"}, \"type\": \"contourcarpet\"}], \"heatmap\": [{\"colorbar\": {\"outlinewidth\": 0, \"ticks\": \"\"}, \"colorscale\": [[0.0, \"#0d0887\"], [0.1111111111111111, \"#46039f\"], [0.2222222222222222, \"#7201a8\"], [0.3333333333333333, \"#9c179e\"], [0.4444444444444444, \"#bd3786\"], [0.5555555555555556, \"#d8576b\"], [0.6666666666666666, \"#ed7953\"], [0.7777777777777778, \"#fb9f3a\"], [0.8888888888888888, \"#fdca26\"], [1.0, \"#f0f921\"]], \"type\": \"heatmap\"}], \"heatmapgl\": [{\"colorbar\": {\"outlinewidth\": 0, \"ticks\": \"\"}, \"colorscale\": [[0.0, \"#0d0887\"], [0.1111111111111111, \"#46039f\"], [0.2222222222222222, \"#7201a8\"], [0.3333333333333333, \"#9c179e\"], [0.4444444444444444, \"#bd3786\"], [0.5555555555555556, \"#d8576b\"], [0.6666666666666666, \"#ed7953\"], [0.7777777777777778, \"#fb9f3a\"], [0.8888888888888888, \"#fdca26\"], [1.0, \"#f0f921\"]], \"type\": \"heatmapgl\"}], \"histogram\": [{\"marker\": {\"colorbar\": {\"outlinewidth\": 0, \"ticks\": \"\"}}, \"type\": \"histogram\"}], \"histogram2d\": [{\"colorbar\": {\"outlinewidth\": 0, \"ticks\": \"\"}, \"colorscale\": [[0.0, \"#0d0887\"], [0.1111111111111111, \"#46039f\"], [0.2222222222222222, \"#7201a8\"], [0.3333333333333333, \"#9c179e\"], [0.4444444444444444, \"#bd3786\"], [0.5555555555555556, \"#d8576b\"], [0.6666666666666666, \"#ed7953\"], [0.7777777777777778, \"#fb9f3a\"], [0.8888888888888888, \"#fdca26\"], [1.0, \"#f0f921\"]], \"type\": \"histogram2d\"}], \"histogram2dcontour\": [{\"colorbar\": {\"outlinewidth\": 0, \"ticks\": \"\"}, \"colorscale\": [[0.0, \"#0d0887\"], [0.1111111111111111, \"#46039f\"], [0.2222222222222222, \"#7201a8\"], [0.3333333333333333, \"#9c179e\"], [0.4444444444444444, \"#bd3786\"], [0.5555555555555556, \"#d8576b\"], [0.6666666666666666, \"#ed7953\"], [0.7777777777777778, \"#fb9f3a\"], [0.8888888888888888, \"#fdca26\"], [1.0, \"#f0f921\"]], \"type\": \"histogram2dcontour\"}], \"mesh3d\": [{\"colorbar\": {\"outlinewidth\": 0, \"ticks\": \"\"}, \"type\": \"mesh3d\"}], \"parcoords\": [{\"line\": {\"colorbar\": {\"outlinewidth\": 0, \"ticks\": \"\"}}, \"type\": \"parcoords\"}], \"pie\": [{\"automargin\": true, \"type\": \"pie\"}], \"scatter\": [{\"marker\": {\"colorbar\": {\"outlinewidth\": 0, \"ticks\": \"\"}}, \"type\": \"scatter\"}], \"scatter3d\": [{\"line\": {\"colorbar\": {\"outlinewidth\": 0, \"ticks\": \"\"}}, \"marker\": {\"colorbar\": {\"outlinewidth\": 0, \"ticks\": \"\"}}, \"type\": \"scatter3d\"}], \"scattercarpet\": [{\"marker\": {\"colorbar\": {\"outlinewidth\": 0, \"ticks\": \"\"}}, \"type\": \"scattercarpet\"}], \"scattergeo\": [{\"marker\": {\"colorbar\": {\"outlinewidth\": 0, \"ticks\": \"\"}}, \"type\": \"scattergeo\"}], \"scattergl\": [{\"marker\": {\"colorbar\": {\"outlinewidth\": 0, \"ticks\": \"\"}}, \"type\": \"scattergl\"}], \"scattermapbox\": [{\"marker\": {\"colorbar\": {\"outlinewidth\": 0, \"ticks\": \"\"}}, \"type\": \"scattermapbox\"}], \"scatterpolar\": [{\"marker\": {\"colorbar\": {\"outlinewidth\": 0, \"ticks\": \"\"}}, \"type\": \"scatterpolar\"}], \"scatterpolargl\": [{\"marker\": {\"colorbar\": {\"outlinewidth\": 0, \"ticks\": \"\"}}, \"type\": \"scatterpolargl\"}], \"scatterternary\": [{\"marker\": {\"colorbar\": {\"outlinewidth\": 0, \"ticks\": \"\"}}, \"type\": \"scatterternary\"}], \"surface\": [{\"colorbar\": {\"outlinewidth\": 0, \"ticks\": \"\"}, \"colorscale\": [[0.0, \"#0d0887\"], [0.1111111111111111, \"#46039f\"], [0.2222222222222222, \"#7201a8\"], [0.3333333333333333, \"#9c179e\"], [0.4444444444444444, \"#bd3786\"], [0.5555555555555556, \"#d8576b\"], [0.6666666666666666, \"#ed7953\"], [0.7777777777777778, \"#fb9f3a\"], [0.8888888888888888, \"#fdca26\"], [1.0, \"#f0f921\"]], \"type\": \"surface\"}], \"table\": [{\"cells\": {\"fill\": {\"color\": \"#EBF0F8\"}, \"line\": {\"color\": \"white\"}}, \"header\": {\"fill\": {\"color\": \"#C8D4E3\"}, \"line\": {\"color\": \"white\"}}, \"type\": \"table\"}]}, \"layout\": {\"annotationdefaults\": {\"arrowcolor\": \"#2a3f5f\", \"arrowhead\": 0, \"arrowwidth\": 1}, \"autotypenumbers\": \"strict\", \"coloraxis\": {\"colorbar\": {\"outlinewidth\": 0, \"ticks\": \"\"}}, \"colorscale\": {\"diverging\": [[0, \"#8e0152\"], [0.1, \"#c51b7d\"], [0.2, \"#de77ae\"], [0.3, \"#f1b6da\"], [0.4, \"#fde0ef\"], [0.5, \"#f7f7f7\"], [0.6, \"#e6f5d0\"], [0.7, \"#b8e186\"], [0.8, \"#7fbc41\"], [0.9, \"#4d9221\"], [1, \"#276419\"]], \"sequential\": [[0.0, \"#0d0887\"], [0.1111111111111111, \"#46039f\"], [0.2222222222222222, \"#7201a8\"], [0.3333333333333333, \"#9c179e\"], [0.4444444444444444, \"#bd3786\"], [0.5555555555555556, \"#d8576b\"], [0.6666666666666666, \"#ed7953\"], [0.7777777777777778, \"#fb9f3a\"], [0.8888888888888888, \"#fdca26\"], [1.0, \"#f0f921\"]], \"sequentialminus\": [[0.0, \"#0d0887\"], [0.1111111111111111, \"#46039f\"], [0.2222222222222222, \"#7201a8\"], [0.3333333333333333, \"#9c179e\"], [0.4444444444444444, \"#bd3786\"], [0.5555555555555556, \"#d8576b\"], [0.6666666666666666, \"#ed7953\"], [0.7777777777777778, \"#fb9f3a\"], [0.8888888888888888, \"#fdca26\"], [1.0, \"#f0f921\"]]}, \"colorway\": [\"#636efa\", \"#EF553B\", \"#00cc96\", \"#ab63fa\", \"#FFA15A\", \"#19d3f3\", \"#FF6692\", \"#B6E880\", \"#FF97FF\", \"#FECB52\"], \"font\": {\"color\": \"#2a3f5f\"}, \"geo\": {\"bgcolor\": \"white\", \"lakecolor\": \"white\", \"landcolor\": \"#E5ECF6\", \"showlakes\": true, \"showland\": true, \"subunitcolor\": \"white\"}, \"hoverlabel\": {\"align\": \"left\"}, \"hovermode\": \"closest\", \"mapbox\": {\"style\": \"light\"}, \"paper_bgcolor\": \"white\", \"plot_bgcolor\": \"#E5ECF6\", \"polar\": {\"angularaxis\": {\"gridcolor\": \"white\", \"linecolor\": \"white\", \"ticks\": \"\"}, \"bgcolor\": \"#E5ECF6\", \"radialaxis\": {\"gridcolor\": \"white\", \"linecolor\": \"white\", \"ticks\": \"\"}}, \"scene\": {\"xaxis\": {\"backgroundcolor\": \"#E5ECF6\", \"gridcolor\": \"white\", \"gridwidth\": 2, \"linecolor\": \"white\", \"showbackground\": true, \"ticks\": \"\", \"zerolinecolor\": \"white\"}, \"yaxis\": {\"backgroundcolor\": \"#E5ECF6\", \"gridcolor\": \"white\", \"gridwidth\": 2, \"linecolor\": \"white\", \"showbackground\": true, \"ticks\": \"\", \"zerolinecolor\": \"white\"}, \"zaxis\": {\"backgroundcolor\": \"#E5ECF6\", \"gridcolor\": \"white\", \"gridwidth\": 2, \"linecolor\": \"white\", \"showbackground\": true, \"ticks\": \"\", \"zerolinecolor\": \"white\"}}, \"shapedefaults\": {\"line\": {\"color\": \"#2a3f5f\"}}, \"ternary\": {\"aaxis\": {\"gridcolor\": \"white\", \"linecolor\": \"white\", \"ticks\": \"\"}, \"baxis\": {\"gridcolor\": \"white\", \"linecolor\": \"white\", \"ticks\": \"\"}, \"bgcolor\": \"#E5ECF6\", \"caxis\": {\"gridcolor\": \"white\", \"linecolor\": \"white\", \"ticks\": \"\"}}, \"title\": {\"x\": 0.05}, \"xaxis\": {\"automargin\": true, \"gridcolor\": \"white\", \"linecolor\": \"white\", \"ticks\": \"\", \"title\": {\"standoff\": 15}, \"zerolinecolor\": \"white\", \"zerolinewidth\": 2}, \"yaxis\": {\"automargin\": true, \"gridcolor\": \"white\", \"linecolor\": \"white\", \"ticks\": \"\", \"title\": {\"standoff\": 15}, \"zerolinecolor\": \"white\", \"zerolinewidth\": 2}}}, \"xaxis\": {\"anchor\": \"y\", \"domain\": [0.0, 1.0], \"title\": {\"text\": \"Cycle\"}, \"type\": \"log\"}, \"yaxis\": {\"anchor\": \"x\", \"domain\": [0.0, 1.0], \"title\": {\"text\": \"State\"}}},                        {\"responsive\": true}                    ).then(function(){\n",
       "                            \n",
       "var gd = document.getElementById('137d1718-e1b4-4255-8072-a1ea9d522347');\n",
       "var x = new MutationObserver(function (mutations, observer) {{\n",
       "        var display = window.getComputedStyle(gd).display;\n",
       "        if (!display || display === 'none') {{\n",
       "            console.log([gd, 'removed!']);\n",
       "            Plotly.purge(gd);\n",
       "            observer.disconnect();\n",
       "        }}\n",
       "}});\n",
       "\n",
       "// Listen for the removal of the full notebook cells\n",
       "var notebookContainer = gd.closest('#notebook-container');\n",
       "if (notebookContainer) {{\n",
       "    x.observe(notebookContainer, {childList: true});\n",
       "}}\n",
       "\n",
       "// Listen for the clearing of the current output cell\n",
       "var outputEl = gd.closest('.output');\n",
       "if (outputEl) {{\n",
       "    x.observe(outputEl, {childList: true});\n",
       "}}\n",
       "\n",
       "                        })                };                });            </script>        </div>"
      ]
     },
     "metadata": {},
     "output_type": "display_data"
    }
   ],
   "source": [
    "fig = px.scatter(comp_contri, x=\"Cycle\", y=\"State\",\n",
    "\t         size=\"To Dems & Liberals\", color=\"Category\",\n",
    "                 hover_name=\"Organization\", log_x=True, size_max=60)\n",
    "fig.show()\n",
    "pio.write_html(fig, \"Graphs/Democratics_company_donation_statewise.html\")"
   ]
  },
  {
   "cell_type": "code",
   "execution_count": 31,
   "metadata": {},
   "outputs": [
    {
     "data": {
      "application/vnd.plotly.v1+json": {
       "config": {
        "plotlyServerURL": "https://plot.ly"
       },
       "data": [
        {
         "hovertemplate": "<b>%{hovertext}</b><br><br>Category=Finance/Insurance/Real Estate<br>Cycle=%{x}<br>State=%{y}<br>To Repubs and Conservs=%{marker.size}<extra></extra>",
         "hovertext": [
          "Bloomberg LP",
          "Fahr LLC",
          "Citadel LLC",
          "Blackstone Group",
          "Susquehanna International Group",
          "Charles Schwab Corp",
          "Paloma Partners",
          "Bain Capital",
          "Renaissance Technologies",
          "Stephens Group",
          "Elliott Management",
          "Lone Pine Capital",
          "Ryan Specialty Group",
          "Euclidean Capital",
          "National Assn of Realtors",
          "Intercontinental Exchange Inc",
          "Marcus & Millichap",
          "Bloomberg LP",
          "Fahr LLC",
          "Paloma Partners",
          "Soros Fund Management",
          "Citadel LLC",
          "Euclidean Capital",
          "Renaissance Technologies",
          "Blackstone Group",
          "Charles Schwab Corp",
          "Marcus & Millichap",
          "Bain Capital",
          "Susquehanna International Group",
          "Wicklow Capital",
          "Baupost Group",
          "Elliott Management",
          "Fahr LLC",
          "Renaissance Technologies",
          "Paloma Partners",
          "Soros Fund Management",
          "Elliott Management",
          "Bloomberg LP",
          "Pritzker Group",
          "Saban Capital Group",
          "Stephens Group",
          "Citadel LLC",
          "Blackstone Group",
          "Kainos Capital",
          "Fahr LLC",
          "Bloomberg LP",
          "Renaissance Technologies",
          "Elliott Management",
          "National Assn of Realtors",
          "Stephens Group",
          "Goldman Sachs",
          "Soros Fund Management",
          "Citadel LLC",
          "Berkshire Hathaway",
          "Baupost Group",
          "Contran Corp",
          "Perry Homes",
          "Renaissance Technologies",
          "Hugo Enterprises",
          "Goldman Sachs",
          "Elliott Management",
          "Bain Capital",
          "JPMorgan Chase & Co",
          "Bank of America",
          "Blackstone Group",
          "Clarium Capital Management",
          "National Assn of Realtors",
          "Deloitte LLP",
          "Wells Fargo",
          "JW Childs Assoc",
          "Berkshire Hathaway",
          "Morgan Stanley",
          "Perry Homes",
          "Public Storage Inc",
          "National Assn of Realtors",
          "Goldman Sachs",
          "Bank of America",
          "Berkshire Hathaway",
          "New York Life Insurance",
          "Deloitte LLP",
          "PricewaterhouseCoopers",
          "JPMorgan Chase & Co",
          "Goldman Sachs",
          "Soros Fund Management",
          "Citigroup Inc",
          "National Assn of Realtors",
          "Morgan Stanley",
          "Contran Corp",
          "Bank of America",
          "UBS AG",
          "Oak Spring Farms",
          "Deloitte LLP",
          "Merrill",
          "PricewaterhouseCoopers",
          "Perry Homes",
          "Goldman Sachs",
          "National Assn of Realtors",
          "Soros Fund Management",
          "Citigroup Inc",
          "Bank of America",
          "Deloitte LLP",
          "JPMorgan Chase & Co",
          "UBS AG",
          "Morgan Stanley",
          "Soros Fund Management",
          "Golden West Financial",
          "Perry Homes",
          "Goldman Sachs",
          "Ameriquest Capital",
          "AG Spanos Companies",
          "BP Capital",
          "Contran Corp",
          "National Assn of Realtors",
          "Morgan Stanley",
          "JPMorgan Chase & Co",
          "Citigroup Inc",
          "UBS AG",
          "American Financial Group",
          "Rocking W Ranch",
          "Bank of America",
          "Saban Capital Group",
          "National Assn of Realtors",
          "Freddie Mac",
          "Goldman Sachs",
          "Citigroup Inc",
          "Ameriquest Capital",
          "AFLAC Inc",
          "Fannie Mae",
          "American International Group",
          "Ernst & Young",
          "American Financial Group",
          "Goldman Sachs",
          "Citigroup Inc",
          "National Assn of Realtors",
          "MBNA Corp",
          "Ernst & Young",
          "JPMorgan Chase & Co",
          "Morgan Stanley",
          "Credit Suisse Group",
          "Freddie Mac",
          "UBS AG",
          "Deloitte LLP"
         ],
         "legendgroup": "Finance/Insurance/Real Estate",
         "marker": {
          "color": "#636efa",
          "size": [
           54210,
           0,
           67599734,
           36953295,
           30051563,
           29579774,
           5600,
           216651,
           1932061,
           18006359,
           16627527,
           100,
           15092063,
           0,
           3430107,
           13205956,
           184106,
           26613,
           0,
           0,
           23100,
           19285750,
           0,
           5956773,
           13707108,
           9968401,
           91150,
           128400,
           7364169,
           729000,
           440300,
           6797250,
           0,
           25297400,
           3300,
           683400,
           28017774,
           49916,
           917940,
           1000,
           15437669,
           13934338,
           7184283,
           2700,
           0,
           525900,
           9750249,
           14225222,
           2556950,
           4423550,
           2646730,
           35000,
           3617375,
           2337038,
           3276090,
           31642350,
           24044700,
           5887354,
           12795954,
           6923963,
           6352981,
           5014698,
           3432369,
           3769620,
           3516634,
           4838201,
           2587906,
           2995227,
           3288797,
           4443150,
           3183206,
           3113698,
           7574240,
           4836950,
           2085097,
           2197843,
           1985714,
           1750357,
           1397930,
           1636592,
           1498303,
           2699198,
           1762523,
           6800,
           2063356,
           2054670,
           1776662,
           3513063,
           1671937,
           1608895,
           0,
           1645935,
           1643555,
           1676687,
           9955850,
           1816642,
           2281560,
           0,
           1419329,
           1479103,
           1820993,
           1107157,
           1350251,
           1164331,
           30000,
           19725,
           8189719,
           2905548,
           5681740,
           5274400,
           4722250,
           4579505,
           2360644,
           2243381,
           1839719,
           1710911,
           1837887,
           2928100,
           2693116,
           1397017,
           0,
           2504407,
           2394915,
           1371695,
           1687071,
           1014500,
           1635120,
           1227250,
           1498240,
           1600093,
           1927808,
           1755867,
           2083195,
           2441103,
           3230540,
           1791600,
           1510055,
           1653680,
           1864706,
           1423000,
           1575292,
           1510760
          ],
          "sizemode": "area",
          "sizeref": 43109.46,
          "symbol": "circle"
         },
         "mode": "markers",
         "name": "Finance/Insurance/Real Estate",
         "orientation": "h",
         "showlegend": true,
         "type": "scatter",
         "x": [
          2020,
          2020,
          2020,
          2020,
          2020,
          2020,
          2020,
          2020,
          2020,
          2020,
          2020,
          2020,
          2020,
          2020,
          2020,
          2020,
          2020,
          2018,
          2018,
          2018,
          2018,
          2018,
          2018,
          2018,
          2018,
          2018,
          2018,
          2018,
          2018,
          2018,
          2018,
          2018,
          2016,
          2016,
          2016,
          2016,
          2016,
          2016,
          2016,
          2016,
          2016,
          2016,
          2016,
          2016,
          2014,
          2014,
          2014,
          2014,
          2014,
          2014,
          2014,
          2014,
          2014,
          2014,
          2014,
          2012,
          2012,
          2012,
          2012,
          2012,
          2012,
          2012,
          2012,
          2012,
          2012,
          2012,
          2012,
          2012,
          2012,
          2012,
          2012,
          2012,
          2010,
          2010,
          2010,
          2010,
          2010,
          2010,
          2010,
          2010,
          2010,
          2008,
          2008,
          2008,
          2008,
          2008,
          2008,
          2008,
          2008,
          2008,
          2008,
          2008,
          2008,
          2008,
          2006,
          2006,
          2006,
          2006,
          2006,
          2006,
          2006,
          2006,
          2006,
          2006,
          2004,
          2004,
          2004,
          2004,
          2004,
          2004,
          2004,
          2004,
          2004,
          2004,
          2004,
          2004,
          2004,
          2004,
          2004,
          2004,
          2002,
          2002,
          2002,
          2002,
          2002,
          2002,
          2002,
          2002,
          2002,
          2002,
          2002,
          2000,
          2000,
          2000,
          2000,
          2000,
          2000,
          2000,
          2000,
          2000,
          2000,
          2000
         ],
         "xaxis": "x",
         "y": [
          "NY",
          "CA",
          "IL",
          "NY",
          "PA",
          "TX",
          "CT",
          "MA",
          "NY",
          "AR",
          "NY",
          "CT",
          "IL",
          "NY",
          "IL",
          "GA",
          "CA",
          "NY",
          "CA",
          "CT",
          "NY",
          "IL",
          "NY",
          "NY",
          "NY",
          "TX",
          "CA",
          "MA",
          "PA",
          "IL",
          "MA",
          "NY",
          "CA",
          "NY",
          "CT",
          "NY",
          "NY",
          "NY",
          "IL",
          "CA",
          "AR",
          "IL",
          "NY",
          "TX",
          "CA",
          "NY",
          "NY",
          "NY",
          "IL",
          "AR",
          "NY",
          "NY",
          "IL",
          "NE",
          "MA",
          "TX",
          "TX",
          "NY",
          "ID",
          "NY",
          "NY",
          "MA",
          "NY",
          "NC",
          "NY",
          "CA",
          "IL",
          "NY",
          "NY",
          "MA",
          "NE",
          "NY",
          "TX",
          "CA",
          "IL",
          "NY",
          "NC",
          "NE",
          "NY",
          "NY",
          "NY",
          "NY",
          "NY",
          "NY",
          "NY",
          "IL",
          "NY",
          "TX",
          "NC",
          "NY",
          "MD",
          "NY",
          "NY",
          "NY",
          "TX",
          "NY",
          "IL",
          "NY",
          "NY",
          "NC",
          "NY",
          "NY",
          "NY",
          "NY",
          "NY",
          "CA",
          "TX",
          "NY",
          "NY",
          "CA",
          "TX",
          "TX",
          "IL",
          "NY",
          "NY",
          "NY",
          "NY",
          "OH",
          "TX",
          "NC",
          "CA",
          "IL",
          "VA",
          "NY",
          "NY",
          "NY",
          "GA",
          "DC",
          "NY",
          "NY",
          "OH",
          "NY",
          "NY",
          "IL",
          "DE",
          "NY",
          "NY",
          "NY",
          "NY",
          "VA",
          "NY",
          "NY"
         ],
         "yaxis": "y"
        },
        {
         "hovertemplate": "<b>%{hovertext}</b><br><br>Category=Trust<br>Cycle=%{x}<br>State=%{y}<br>To Repubs and Conservs=%{marker.size}<extra></extra>",
         "hovertext": [
          "Senate Leadership Fund",
          "Fund for Policy Reform",
          "Senate Majority PAC",
          "Sixteen Thirty Fund",
          "America Votes",
          "Duty & Honor",
          "Fair Fight PAC",
          "Marcus Foundation",
          "Simon Youth Foundation",
          "League of Conservation Voters",
          "Senate Majority PAC",
          "Senate Leadership Fund",
          "League of Conservation Voters",
          "America Votes",
          "House Majority PAC",
          "Environment America",
          "Democratic Governors Assn",
          "Club for Growth",
          "Action Now Initiative",
          "EMILY's List",
          "Simon Youth Foundation",
          "NextGen Climate Action",
          "Bernard Marcus Family Foundation",
          "Samerian Foundation",
          "NextGen Climate Action",
          "Priorities USA/Priorities USA Action",
          "Senate Leadership Fund",
          "For Our Future",
          "Bernard Marcus Family Foundation",
          "McMahon Ventures",
          "Senate Majority PAC",
          "Commonwealth of Pennsylvania",
          "Jobs Ohio",
          "City of Philadelphia, PA",
          "Laurel Foundation",
          "Good Ventures",
          "League of Conservation Voters",
          "Senate Majority PAC",
          "League of Conservation Voters",
          "EMILY's List",
          "NextGen Climate Action",
          "City of New York, NY",
          "Democratic Governors Assn",
          "Club for Growth",
          "Harold C Simmons Family Trust",
          "Sheet Metal, Air, Rail & Transportation Union",
          "Democratic Attorneys General Assn",
          "EMILY's List",
          "Sheet Metal, Air, Rail & Transportation Union",
          "Democratic Governors Assn",
          "EMILY's List",
          "EMILY's List",
          "Sheet Metal, Air, Rail & Transportation Union",
          "Democratic Congressional Campaign Cmte",
          "Club for Growth",
          "Sustainable World Corp/Linda Pritzker",
          "Victory Campaign 2004",
          "Sustainable World Corp/Linda Pritzker",
          "Sheet Metal, Air, Rail & Transportation Union",
          "Alida Messinger Charitable Lead Trust",
          "EMILY's List",
          "US Chamber of Commerce",
          "Cullman Foundation/Cullman Ventures",
          "Sheet Metal, Air, Rail & Transportation Union",
          "EMILY's List",
          "Sheet Metal, Air, Rail & Transportation Union",
          "National Rifle Assn",
          "EMILY's List"
         ],
         "legendgroup": "Trust",
         "marker": {
          "color": "#EF553B",
          "size": [
           155194056,
           0,
           2280,
           0,
           0,
           0,
           0,
           17580311,
           0,
           2125,
           2000,
           24221940,
           0,
           0,
           0,
           0,
           0,
           10305563,
           0,
           201,
           0,
           0,
           7993768,
           0,
           0,
           0,
           22476800,
           0,
           13278450,
           10931259,
           0,
           76489,
           10001000,
           11241,
           75,
           0,
           67832,
           0,
           7640,
           0,
           0,
           131036,
           0,
           3800791,
           4000000,
           159210,
           0,
           0,
           182650,
           0,
           500,
           0,
           205000,
           0,
           2707506,
           35000,
           0,
           0,
           213850,
           0,
           1750,
           3182833,
           1000,
           285450,
           544,
           261600,
           2977250,
           0
          ],
          "sizemode": "area",
          "sizeref": 43109.46,
          "symbol": "circle"
         },
         "mode": "markers",
         "name": "Trust",
         "orientation": "h",
         "showlegend": true,
         "type": "scatter",
         "x": [
          2020,
          2020,
          2020,
          2020,
          2020,
          2020,
          2020,
          2020,
          2020,
          2020,
          2018,
          2018,
          2018,
          2018,
          2018,
          2018,
          2018,
          2018,
          2018,
          2018,
          2018,
          2018,
          2018,
          2018,
          2016,
          2016,
          2016,
          2016,
          2016,
          2016,
          2016,
          2016,
          2016,
          2016,
          2016,
          2016,
          2016,
          2014,
          2014,
          2014,
          2014,
          2012,
          2010,
          2010,
          2010,
          2010,
          2010,
          2010,
          2008,
          2008,
          2008,
          2006,
          2006,
          2006,
          2006,
          2006,
          2004,
          2004,
          2004,
          2004,
          2004,
          2004,
          2004,
          2002,
          2002,
          2000,
          2000,
          2000
         ],
         "xaxis": "x",
         "y": [
          "REP",
          "NY",
          "DEM",
          "DEM",
          "DEM",
          "DEM",
          "DEM",
          "NY",
          "IN",
          "DC",
          "DEM",
          "REP",
          "DC",
          "DEM",
          "DEM",
          "CO",
          "DEM",
          "DC",
          "TX",
          "DC",
          "IN",
          "DEM",
          "REP",
          "DEM",
          "DEM",
          "DEM",
          "REP",
          "DEM",
          "REP",
          "REP",
          "DEM",
          "PA",
          "OH",
          "PA",
          "PA",
          "CA",
          "DC",
          "DEM",
          "DC",
          "DC",
          "DEM",
          "NY",
          "DEM",
          "DC",
          "REP",
          "DC",
          "DEM",
          "DC",
          "DC",
          "DEM",
          "DC",
          "DC",
          "DC",
          "DEM",
          "DC",
          "DEM",
          "DEM",
          "DEM",
          "DC",
          "DC",
          "DC",
          "DEM",
          "NY",
          "DC",
          "DC",
          "DC",
          "VA",
          "DC"
         ],
         "yaxis": "y"
        },
        {
         "hovertemplate": "<b>%{hovertext}</b><br><br>Category=Misc Business<br>Cycle=%{x}<br>State=%{y}<br>To Repubs and Conservs=%{marker.size}<extra></extra>",
         "hovertext": [
          "Las Vegas Sands",
          "Uline Inc",
          "Reyes Holdings",
          "Las Vegas Sands",
          "Uline Inc",
          "Las Vegas Sands",
          "Uline Inc",
          "Las Vegas Sands",
          "Uline Inc",
          "Honeywell International",
          "National Beer Wholesalers Assn",
          "Home Depot",
          "Las Vegas Sands",
          "Specialty Group Inc",
          "TRT Holdings",
          "Honeywell International",
          "TRT Holdings",
          "Honeywell International",
          "National Beer Wholesalers Assn",
          "Las Vegas Sands",
          "Honeywell International",
          "National Beer Wholesalers Assn",
          "National Beer Wholesalers Assn",
          "Amway/Alticor Inc",
          "National Beer Wholesalers Assn",
          "National Beer Wholesalers Assn"
         ],
         "legendgroup": "Misc Business",
         "marker": {
          "color": "#00cc96",
          "size": [
           109226697,
           68374622,
           20060476,
           62330018,
           39712547,
           44381566,
           25075000,
           6716618,
           6107125,
           2934555,
           2304500,
           2974281,
           52848975,
           10575000,
           6396101,
           3039560,
           6034080,
           2440650,
           1770500,
           5439474,
           1618165,
           1541850,
           2136250,
           4429619,
           2068732,
           1786561
          ],
          "sizemode": "area",
          "sizeref": 43109.46,
          "symbol": "circle"
         },
         "mode": "markers",
         "name": "Misc Business",
         "orientation": "h",
         "showlegend": true,
         "type": "scatter",
         "x": [
          2020,
          2020,
          2020,
          2018,
          2018,
          2016,
          2016,
          2014,
          2014,
          2014,
          2014,
          2014,
          2012,
          2012,
          2012,
          2012,
          2010,
          2010,
          2010,
          2008,
          2008,
          2008,
          2006,
          2004,
          2002,
          2000
         ],
         "xaxis": "x",
         "y": [
          "NV",
          "WI",
          "IL",
          "NV",
          "WI",
          "NV",
          "WI",
          "NV",
          "WI",
          "NC",
          "VA",
          "GA",
          "NV",
          "FL",
          "TX",
          "NC",
          "TX",
          "NC",
          "VA",
          "NV",
          "NC",
          "VA",
          "VA",
          "MI",
          "VA",
          "VA"
         ],
         "yaxis": "y"
        },
        {
         "hovertemplate": "<b>%{hovertext}</b><br><br>Category=Healthcare<br>Cycle=%{x}<br>State=%{y}<br>To Repubs and Conservs=%{marker.size}<extra></extra>",
         "hovertext": [
          "Adelson Clinic for Drug Abuse Treatment & Research",
          "Adelson Clinic for Drug Abuse Treatment & Research",
          "Greater New York Hospital Assn",
          "Adelson Clinic for Drug Abuse Treatment & Research",
          "Blue Cross/Blue Shield",
          "Blue Cross/Blue Shield",
          "Adelson Clinic for Drug Abuse Treatment & Research",
          "Pharmaceutical Product Development Inc",
          "Blue Cross/Blue Shield",
          "Pharmaceutical Product Development Inc",
          "Blue Cross/Blue Shield",
          "Pharmaceutical Product Development Inc",
          "Blue Cross/Blue Shield",
          "Blue Cross/Blue Shield",
          "Pfizer Inc",
          "American Medical Assn",
          "Blue Cross/Blue Shield",
          "Blue Cross/Blue Shield",
          "American Medical Assn",
          "Blue Cross/Blue Shield",
          "Pfizer Inc",
          "Bristol-Myers Squibb",
          "American Medical Assn"
         ],
         "legendgroup": "Healthcare",
         "marker": {
          "color": "#ab63fa",
          "size": [
           108839900,
           61473900,
           472424,
           38835400,
           4269437,
           2856183,
           42118700,
           6570650,
           3333780,
           6417460,
           2292096,
           10954580,
           1860282,
           1814016,
           1701665,
           1506755,
           1792799,
           2162537,
           1629543,
           1935424,
           2174523,
           2075759,
           1206007
          ],
          "sizemode": "area",
          "sizeref": 43109.46,
          "symbol": "circle"
         },
         "mode": "markers",
         "name": "Healthcare",
         "orientation": "h",
         "showlegend": true,
         "type": "scatter",
         "x": [
          2020,
          2018,
          2018,
          2016,
          2016,
          2014,
          2012,
          2012,
          2012,
          2010,
          2010,
          2008,
          2008,
          2006,
          2006,
          2006,
          2004,
          2002,
          2002,
          2000,
          2000,
          2000,
          2000
         ],
         "xaxis": "x",
         "y": [
          "NV",
          "NV",
          "NY",
          "NV",
          "IL",
          "IL",
          "NV",
          "NC",
          "IL",
          "NC",
          "IL",
          "NC",
          "IL",
          "IL",
          "NY",
          "IL",
          "IL",
          "IL",
          "IL",
          "IL",
          "NY",
          "NY",
          "IL"
         ],
         "yaxis": "y"
        },
        {
         "hovertemplate": "<b>%{hovertext}</b><br><br>Category=Technology<br>Cycle=%{x}<br>State=%{y}<br>To Repubs and Conservs=%{marker.size}<extra></extra>",
         "hovertext": [
          "Asana",
          "Alphabet Inc",
          "Microsoft Corp",
          "Walt Disney Co",
          "Newsweb Corp",
          "Comcast Corp",
          "AT&T Inc",
          "Amazon.com",
          "Microsoft Corp",
          "Amazon.com",
          "Newsweb Corp",
          "AT&T Inc",
          "Alphabet Inc",
          "Asana",
          "Newsweb Corp",
          "Asana",
          "Comcast Corp",
          "AT&T Inc",
          "Walt Disney Co",
          "Alphabet Inc",
          "Newsweb Corp",
          "Raytheon Technologies",
          "Comcast Corp",
          "AT&T Inc",
          "General Electric",
          "Google Inc",
          "Verizon Communications",
          "Microsoft Corp",
          "Newsweb Corp",
          "Raytheon Technologies",
          "Comcast Corp",
          "AT&T Inc",
          "DreamWorks SKG",
          "Microsoft Corp",
          "Oracle Corp",
          "AT&T Inc",
          "Raytheon Technologies",
          "Comcast Corp",
          "General Electric",
          "Microsoft Corp",
          "AT&T Inc",
          "Shangri-La Entertainment",
          "General Electric",
          "Microsoft Corp",
          "Comcast Corp",
          "Raytheon Technologies",
          "WarnerMedia Group",
          "Verizon Communications",
          "AT&T Inc",
          "General Electric",
          "Microsoft Corp",
          "Verizon Communications",
          "WarnerMedia Group",
          "Raytheon Technologies",
          "Comcast Corp",
          "Shangri-La Entertainment",
          "Gateway Inc",
          "AT&T Inc",
          "Microsoft Corp",
          "WarnerMedia Group",
          "Antidote Films",
          "Newsweb Corp",
          "Tippingpoint Technologies",
          "Intersystems Corp",
          "General Electric",
          "Newsweb Corp",
          "AT&T Inc",
          "Shangri-La Entertainment",
          "Microsoft Corp",
          "Verizon Communications",
          "BellSouth Corp",
          "Loral Space & Communications",
          "General Electric",
          "AT&T Inc",
          "Microsoft Corp",
          "Verizon Communications",
          "21st Century Fox",
          "BellSouth Corp",
          "WarnerMedia Group",
          "Global Crossing",
          "Vivendi"
         ],
         "legendgroup": "Technology",
         "marker": {
          "color": "#FFA15A",
          "size": [
           250,
           1404642,
           1683611,
           12040521,
           0,
           3601180,
           3560966,
           1832568,
           1734803,
           1056578,
           0,
           3966425,
           1250005,
           0,
           0,
           0,
           3417988,
           7850272,
           7720966,
           2066968,
           0,
           3456999,
           2334116,
           2865505,
           2431612,
           1084411,
           2092762,
           1272698,
           5000,
           3350667,
           2128529,
           3346419,
           5000,
           1658097,
           3788279,
           2895710,
           1872904,
           1626588,
           1511834,
           1183415,
           3084099,
           500,
           1488316,
           1044623,
           1284611,
           1646187,
           584037,
           1543905,
           3552995,
           1767474,
           1092115,
           1636711,
           592546,
           1411574,
           1165158,
           0,
           96800,
           2587760,
           1523985,
           882597,
           0,
           500,
           6750,
           0,
           1638031,
           0,
           4162162,
           700,
           2703191,
           2443323,
           1806701,
           22700,
           1300319,
           5524589,
           2703490,
           2490627,
           677479,
           1500873,
           821195,
           1328593,
           815066
          ],
          "sizemode": "area",
          "sizeref": 43109.46,
          "symbol": "circle"
         },
         "mode": "markers",
         "name": "Technology",
         "orientation": "h",
         "showlegend": true,
         "type": "scatter",
         "x": [
          2020,
          2020,
          2020,
          2020,
          2020,
          2020,
          2020,
          2020,
          2018,
          2018,
          2018,
          2018,
          2018,
          2018,
          2016,
          2016,
          2016,
          2016,
          2016,
          2016,
          2014,
          2014,
          2014,
          2014,
          2014,
          2014,
          2014,
          2014,
          2012,
          2012,
          2012,
          2012,
          2012,
          2012,
          2012,
          2010,
          2010,
          2010,
          2010,
          2010,
          2008,
          2008,
          2008,
          2008,
          2008,
          2008,
          2008,
          2008,
          2006,
          2006,
          2006,
          2006,
          2006,
          2006,
          2006,
          2004,
          2004,
          2004,
          2004,
          2004,
          2004,
          2004,
          2004,
          2004,
          2004,
          2002,
          2002,
          2002,
          2002,
          2002,
          2002,
          2002,
          2002,
          2000,
          2000,
          2000,
          2000,
          2000,
          2000,
          2000,
          2000
         ],
         "xaxis": "x",
         "y": [
          "CA",
          "CA",
          "WA",
          "CA",
          "IL",
          "PA",
          "TX",
          "WA",
          "WA",
          "WA",
          "IL",
          "TX",
          "CA",
          "CA",
          "IL",
          "CA",
          "PA",
          "TX",
          "CA",
          "CA",
          "IL",
          "MA",
          "PA",
          "TX",
          "MA",
          "CA",
          "NY",
          "WA",
          "IL",
          "MA",
          "PA",
          "TX",
          "CA",
          "WA",
          "TX",
          "TX",
          "MA",
          "PA",
          "MA",
          "WA",
          "TX",
          "CA",
          "MA",
          "WA",
          "PA",
          "MA",
          "NY",
          "NY",
          "TX",
          "MA",
          "WA",
          "NY",
          "NY",
          "MA",
          "PA",
          "CA",
          "CA",
          "TX",
          "WA",
          "NY",
          "NY",
          "IL",
          "TX",
          "MA",
          "MA",
          "IL",
          "TX",
          "CA",
          "WA",
          "NY",
          "GA",
          "NY",
          "MA",
          "TX",
          "WA",
          "NY",
          "NY",
          "GA",
          "NY",
          "LA",
          "CA"
         ],
         "yaxis": "y"
        },
        {
         "hovertemplate": "<b>%{hovertext}</b><br><br>Category=Labor<br>Cycle=%{x}<br>State=%{y}<br>To Repubs and Conservs=%{marker.size}<extra></extra>",
         "hovertext": [
          "Carpenters & Joiners Union",
          "Service Employees International Union",
          "Laborers Union",
          "American Federation of Teachers",
          "American Federation of State/Cnty/Munic Employees",
          "International Brotherhood of Electrical Workers",
          "National Education Assn",
          "Operating Engineers Union",
          "Carpenters & Joiners Union",
          "Laborers Union",
          "American Federation of State/Cnty/Munic Employees",
          "Service Employees International Union",
          "American Federation of Teachers",
          "International Brotherhood of Electrical Workers",
          "Operating Engineers Union",
          "United Food & Commercial Workers Union",
          "Laborers Union",
          "American Federation of Teachers",
          "American Federation of State/Cnty/Munic Employees",
          "Carpenters & Joiners Union",
          "Service Employees International Union",
          "National Education Assn",
          "International Brotherhood of Electrical Workers",
          "Plumbers/Pipefitters Union",
          "Operating Engineers Union",
          "American Federation of State/Cnty/Munic Employees",
          "American Federation of Teachers",
          "National Education Assn",
          "Laborers Union",
          "International Brotherhood of Electrical Workers",
          "United Food & Commercial Workers Union",
          "Carpenters & Joiners Union",
          "Plumbers/Pipefitters Union",
          "Operating Engineers Union",
          "Service Employees International Union",
          "National Assn of Letter Carriers",
          "Teamsters Union",
          "National Air Traffic Controllers Assn",
          "American Federation of Government Employees",
          "American Bankers Assn",
          "Service Employees International Union",
          "American Federation of State/Cnty/Munic Employees",
          "American Federation of Teachers",
          "Carpenters & Joiners Union",
          "Laborers Union",
          "International Brotherhood of Electrical Workers",
          "National Education Assn",
          "Plumbers/Pipefitters Union",
          "National Assn of Letter Carriers",
          "Operating Engineers Union",
          "United Food & Commercial Workers Union",
          "Teamsters Union",
          "United Auto Workers",
          "National Air Traffic Controllers Assn",
          "Service Employees International Union",
          "American Federation of State/Cnty/Munic Employees",
          "American Federation of Teachers",
          "Laborers Union",
          "National Education Assn",
          "International Brotherhood of Electrical Workers",
          "Teamsters Union",
          "United Food & Commercial Workers Union",
          "International Assn of Fire Fighters",
          "Carpenters & Joiners Union",
          "American Bankers Assn",
          "National Assn of Letter Carriers",
          "Operating Engineers Union",
          "Credit Union National Assn",
          "Communications Workers of America",
          "National Assn of Home Builders",
          "Machinists/Aerospace Workers Union",
          "National Air Traffic Controllers Assn",
          "American Federation of State/Cnty/Munic Employees",
          "Service Employees International Union",
          "International Brotherhood of Electrical Workers",
          "Teamsters Union",
          "United Food & Commercial Workers Union",
          "American Bankers Assn",
          "National Education Assn",
          "Laborers Union",
          "Institute for Student Achievement",
          "American Federation of Teachers",
          "International Assn of Fire Fighters",
          "Communications Workers of America",
          "National Assn of Home Builders",
          "Machinists/Aerospace Workers Union",
          "Operating Engineers Union",
          "National Air Traffic Controllers Assn",
          "Credit Union National Assn",
          "Service Employees International Union",
          "International Brotherhood of Electrical Workers",
          "American Federation of State/Cnty/Munic Employees",
          "Laborers Union",
          "American Federation of Teachers",
          "National Assn of Home Builders",
          "American Bankers Assn",
          "National Education Assn",
          "Teamsters Union",
          "Carpenters & Joiners Union",
          "Credit Union National Assn",
          "Operating Engineers Union",
          "National Air Traffic Controllers Assn",
          "United Auto Workers",
          "Machinists/Aerospace Workers Union",
          "AFL-CIO",
          "International Assn of Fire Fighters",
          "Plumbers/Pipefitters Union",
          "Service Employees International Union",
          "American Federation of State/Cnty/Munic Employees",
          "AFL-CIO",
          "Laborers Union",
          "International Brotherhood of Electrical Workers",
          "American Federation of Teachers",
          "Teamsters Union",
          "Communications Workers of America",
          "Machinists/Aerospace Workers Union",
          "National Education Assn",
          "American Federation of State/Cnty/Munic Employees",
          "Service Employees International Union",
          "Carpenters & Joiners Union",
          "Communications Workers of America",
          "Laborers Union",
          "American Federation of Teachers",
          "International Brotherhood of Electrical Workers",
          "United Food & Commercial Workers Union",
          "National Education Assn",
          "Pharmaceutical Research & Manufacturers of America",
          "United Auto Workers",
          "Machinists/Aerospace Workers Union",
          "Teamsters Union",
          "Plumbers/Pipefitters Union",
          "Credit Union National Assn",
          "AFL-CIO",
          "International Assn of Fire Fighters",
          "National Assn of Home Builders",
          "American Federation of State/Cnty/Munic Employees",
          "Service Employees International Union",
          "International Brotherhood of Electrical Workers",
          "Carpenters & Joiners Union",
          "Communications Workers of America",
          "United Food & Commercial Workers Union",
          "Laborers Union",
          "American Federation of Teachers",
          "Teamsters Union",
          "Machinists/Aerospace Workers Union",
          "National Education Assn",
          "United Auto Workers",
          "AFL-CIO",
          "National Assn of Home Builders",
          "National Assn of Letter Carriers"
         ],
         "legendgroup": "Labor",
         "marker": {
          "color": "#19d3f3",
          "size": [
           528966,
           11587,
           679213,
           13958,
           7836,
           299293,
           120597,
           747238,
           529725,
           764600,
           6225,
           1157,
           6500,
           199699,
           875030,
           18750,
           518075,
           10700,
           7475,
           443927,
           2100,
           461225,
           149242,
           287000,
           1180577,
           13000,
           27500,
           210625,
           538955,
           96340,
           24730,
           457500,
           421300,
           592625,
           1000,
           82500,
           126000,
           684000,
           62250,
           2752085,
           3750,
           23300,
           15500,
           360450,
           358500,
           87304,
           598973,
           133402,
           58500,
           969201,
           7000,
           151630,
           18500,
           713450,
           10500,
           11000,
           18000,
           144300,
           198200,
           88500,
           62670,
           8000,
           529600,
           278850,
           2536019,
           65500,
           321450,
           1265846,
           40100,
           1700800,
           34000,
           408550,
           34210,
           330622,
           75073,
           96400,
           7050,
           2320252,
           267675,
           227700,
           0,
           28550,
           741455,
           34000,
           1663700,
           75641,
           362123,
           549500,
           1409899,
           113650,
           92350,
           37000,
           436525,
           25000,
           2542900,
           2211199,
           346173,
           222559,
           889500,
           1662320,
           595050,
           533900,
           12750,
           15750,
           184500,
           631950,
           185925,
           299450,
           56650,
           89250,
           385800,
           105430,
           44750,
           282200,
           22790,
           21750,
           320500,
           66500,
           223122,
           530800,
           19000,
           330500,
           40050,
           86362,
           28500,
           322400,
           3355137,
           25750,
           24000,
           396100,
           76578,
           1470661,
           119100,
           286700,
           1414030,
           118850,
           217250,
           95650,
           279620,
           20050,
           43500,
           263900,
           28150,
           198750,
           14500,
           303488,
           15300,
           90750,
           1583727,
           277350
          ],
          "sizemode": "area",
          "sizeref": 43109.46,
          "symbol": "circle"
         },
         "mode": "markers",
         "name": "Labor",
         "orientation": "h",
         "showlegend": true,
         "type": "scatter",
         "x": [
          2020,
          2020,
          2020,
          2020,
          2020,
          2020,
          2020,
          2020,
          2018,
          2018,
          2018,
          2018,
          2018,
          2018,
          2018,
          2018,
          2016,
          2016,
          2016,
          2016,
          2016,
          2016,
          2016,
          2016,
          2016,
          2014,
          2014,
          2014,
          2014,
          2014,
          2014,
          2014,
          2014,
          2014,
          2014,
          2014,
          2014,
          2014,
          2014,
          2014,
          2012,
          2012,
          2012,
          2012,
          2012,
          2012,
          2012,
          2012,
          2012,
          2012,
          2012,
          2012,
          2012,
          2012,
          2010,
          2010,
          2010,
          2010,
          2010,
          2010,
          2010,
          2010,
          2010,
          2010,
          2010,
          2010,
          2010,
          2010,
          2010,
          2010,
          2010,
          2010,
          2008,
          2008,
          2008,
          2008,
          2008,
          2008,
          2008,
          2008,
          2008,
          2008,
          2008,
          2008,
          2008,
          2008,
          2008,
          2008,
          2008,
          2006,
          2006,
          2006,
          2006,
          2006,
          2006,
          2006,
          2006,
          2006,
          2006,
          2006,
          2006,
          2006,
          2006,
          2006,
          2006,
          2006,
          2006,
          2004,
          2004,
          2004,
          2004,
          2004,
          2004,
          2004,
          2004,
          2004,
          2004,
          2002,
          2002,
          2002,
          2002,
          2002,
          2002,
          2002,
          2002,
          2002,
          2002,
          2002,
          2002,
          2002,
          2002,
          2002,
          2002,
          2002,
          2002,
          2000,
          2000,
          2000,
          2000,
          2000,
          2000,
          2000,
          2000,
          2000,
          2000,
          2000,
          2000,
          2000,
          2000,
          2000
         ],
         "xaxis": "x",
         "y": [
          "UNION",
          "IL",
          "DC",
          "DC",
          "DC",
          "DC",
          "DC",
          "DC",
          "UNION",
          "DC",
          "DC",
          "IL",
          "DC",
          "DC",
          "DC",
          "DC",
          "DC",
          "DC",
          "DC",
          "UNION",
          "IL",
          "DC",
          "DC",
          "MD",
          "DC",
          "DC",
          "DC",
          "DC",
          "DC",
          "DC",
          "DC",
          "UNION",
          "MD",
          "DC",
          "IL",
          "DC",
          "DC",
          "DC",
          "DC",
          "DC",
          "IL",
          "DC",
          "DC",
          "UNION",
          "DC",
          "DC",
          "DC",
          "MD",
          "DC",
          "DC",
          "DC",
          "DC",
          "MI",
          "DC",
          "IL",
          "DC",
          "DC",
          "DC",
          "DC",
          "DC",
          "DC",
          "DC",
          "DC",
          "UNION",
          "DC",
          "DC",
          "DC",
          "DC",
          "DC",
          "DC",
          "MD",
          "DC",
          "DC",
          "IL",
          "DC",
          "DC",
          "DC",
          "DC",
          "DC",
          "DC",
          "NY",
          "DC",
          "DC",
          "DC",
          "DC",
          "MD",
          "DC",
          "DC",
          "DC",
          "IL",
          "DC",
          "DC",
          "DC",
          "DC",
          "DC",
          "DC",
          "DC",
          "DC",
          "UNION",
          "DC",
          "DC",
          "DC",
          "MI",
          "MD",
          "DC",
          "DC",
          "MD",
          "IL",
          "DC",
          "DC",
          "DC",
          "DC",
          "DC",
          "DC",
          "DC",
          "MD",
          "DC",
          "DC",
          "IL",
          "UNION",
          "DC",
          "DC",
          "DC",
          "DC",
          "DC",
          "DC",
          "DC",
          "MI",
          "MD",
          "DC",
          "MD",
          "DC",
          "DC",
          "DC",
          "DC",
          "DC",
          "IL",
          "DC",
          "UNION",
          "DC",
          "DC",
          "DC",
          "DC",
          "DC",
          "MD",
          "DC",
          "MI",
          "DC",
          "DC",
          "DC"
         ],
         "yaxis": "y"
        },
        {
         "hovertemplate": "<b>%{hovertext}</b><br><br>Category=Education<br>Cycle=%{x}<br>State=%{y}<br>To Repubs and Conservs=%{marker.size}<extra></extra>",
         "hovertext": [
          "University of California",
          "University of California",
          "University of California",
          "University of California",
          "University of California"
         ],
         "legendgroup": "Education",
         "marker": {
          "color": "#FF6692",
          "size": [
           564291,
           238272,
           308058,
           276147,
           187930
          ],
          "sizemode": "area",
          "sizeref": 43109.46,
          "symbol": "circle"
         },
         "mode": "markers",
         "name": "Education",
         "orientation": "h",
         "showlegend": true,
         "type": "scatter",
         "x": [
          2020,
          2018,
          2012,
          2008,
          2004
         ],
         "xaxis": "x",
         "y": [
          "CA",
          "CA",
          "CA",
          "CA",
          "CA"
         ],
         "yaxis": "y"
        },
        {
         "hovertemplate": "<b>%{hovertext}</b><br><br>Category=Energy<br>Cycle=%{x}<br>State=%{y}<br>To Repubs and Conservs=%{marker.size}<extra></extra>",
         "hovertext": [
          "Energy Transfer LP",
          "Koch Industries",
          "Koch Industries",
          "Marathon Petroleum",
          "Koch Industries",
          "Koch Industries",
          "Alliance Resource Partners",
          "Alliance Resource Partners",
          "Oxbow Corp",
          "Alliance Resource Partners",
          "Koch Industries",
          "Chesapeake Energy",
          "Enron Corp"
         ],
         "legendgroup": "Energy",
         "marker": {
          "color": "#B6E880",
          "size": [
           14629074,
           14260567,
           11985799,
           6238489,
           11353521,
           11169585,
           5163495,
           5659125,
           4980050,
           3035500,
           2414714,
           2772530,
           1902204
          ],
          "sizemode": "area",
          "sizeref": 43109.46,
          "symbol": "circle"
         },
         "mode": "markers",
         "name": "Energy",
         "orientation": "h",
         "showlegend": true,
         "type": "scatter",
         "x": [
          2020,
          2020,
          2018,
          2018,
          2016,
          2014,
          2014,
          2012,
          2012,
          2010,
          2010,
          2004,
          2000
         ],
         "xaxis": "x",
         "y": [
          "TX",
          "KS",
          "KS",
          "OH",
          "KS",
          "KS",
          "OK",
          "OK",
          "FL",
          "OK",
          "KS",
          "OK",
          "TX"
         ],
         "yaxis": "y"
        },
        {
         "hovertemplate": "<b>%{hovertext}</b><br><br>Category=Food<br>Cycle=%{x}<br>State=%{y}<br>To Repubs and Conservs=%{marker.size}<extra></extra>",
         "hovertext": [
          "Mountaire Corp",
          "Mountaire Corp",
          "Mountaire Corp",
          "Mountaire Corp",
          "Philip Morris USA",
          "Anheuser-Busch InBev",
          "Philip Morris USA"
         ],
         "legendgroup": "Food",
         "marker": {
          "color": "#FF97FF",
          "size": [
           14673833,
           7564752,
           17934905,
           4762150,
           2341949,
           1373772,
           2227591
          ],
          "sizemode": "area",
          "sizeref": 43109.46,
          "symbol": "circle"
         },
         "mode": "markers",
         "name": "Food",
         "orientation": "h",
         "showlegend": true,
         "type": "scatter",
         "x": [
          2020,
          2018,
          2016,
          2014,
          2002,
          2002,
          2000
         ],
         "xaxis": "x",
         "y": [
          "AR",
          "AR",
          "AR",
          "AR",
          "VA",
          "NY",
          "VA"
         ],
         "yaxis": "y"
        },
        {
         "hovertemplate": "<b>%{hovertext}</b><br><br>Category=Sports<br>Cycle=%{x}<br>State=%{y}<br>To Repubs and Conservs=%{marker.size}<extra></extra>",
         "hovertext": [
          "Chicago Cubs",
          "Houston Texans",
          "Houston Texans"
         ],
         "legendgroup": "Sports",
         "marker": {
          "color": "#FECB52",
          "size": [
           15376788,
           10964110,
           4295400
          ],
          "sizemode": "area",
          "sizeref": 43109.46,
          "symbol": "circle"
         },
         "mode": "markers",
         "name": "Sports",
         "orientation": "h",
         "showlegend": true,
         "type": "scatter",
         "x": [
          2016,
          2016,
          2014
         ],
         "xaxis": "x",
         "y": [
          "IL",
          "TX",
          "TX"
         ],
         "yaxis": "y"
        },
        {
         "hovertemplate": "<b>%{hovertext}</b><br><br>Category=Hospitality<br>Cycle=%{x}<br>State=%{y}<br>To Repubs and Conservs=%{marker.size}<extra></extra>",
         "hovertext": [
          "Starr Companies",
          "American Hospital Assn",
          "Chartwell Partners",
          "American Hospital Assn",
          "Chartwell Partners",
          "American Hospital Assn"
         ],
         "legendgroup": "Hospitality",
         "marker": {
          "color": "#636efa",
          "size": [
           15331361,
           1000333,
           5150950,
           1399672,
           4198500,
           1303596
          ],
          "sizemode": "area",
          "sizeref": 43109.46,
          "symbol": "circle"
         },
         "mode": "markers",
         "name": "Hospitality",
         "orientation": "h",
         "showlegend": true,
         "type": "scatter",
         "x": [
          2016,
          2010,
          2006,
          2006,
          2004,
          2002
         ],
         "xaxis": "x",
         "y": [
          "NY",
          "IL",
          "TX",
          "IL",
          "TX",
          "IL"
         ],
         "yaxis": "y"
        },
        {
         "hovertemplate": "<b>%{hovertext}</b><br><br>Category=Construction<br>Cycle=%{x}<br>State=%{y}<br>To Repubs and Conservs=%{marker.size}<extra></extra>",
         "hovertext": [
          "ABC Supply",
          "TAMKO Building Products"
         ],
         "legendgroup": "Construction",
         "marker": {
          "color": "#EF553B",
          "size": [
           14220645,
           9978110
          ],
          "sizemode": "area",
          "sizeref": 43109.46,
          "symbol": "circle"
         },
         "mode": "markers",
         "name": "Construction",
         "orientation": "h",
         "showlegend": true,
         "type": "scatter",
         "x": [
          2016,
          2016
         ],
         "xaxis": "x",
         "y": [
          "TX",
          "MO"
         ],
         "yaxis": "y"
        },
        {
         "hovertemplate": "<b>%{hovertext}</b><br><br>Category=Law<br>Cycle=%{x}<br>State=%{y}<br>To Repubs and Conservs=%{marker.size}<extra></extra>",
         "hovertext": [
          "American Assn for Justice",
          "Mostyn Law Firm",
          "American Assn for Justice",
          "American Assn for Justice",
          "American Assn for Justice",
          "American Assn for Justice",
          "American Assn for Justice",
          "American Assn for Justice",
          "Williams, Hart et al",
          "American Assn for Justice"
         ],
         "legendgroup": "Law",
         "marker": {
          "color": "#00cc96",
          "size": [
           104689,
           18161,
           122500,
           113000,
           195250,
           182200,
           270350,
           372935,
           0,
           446950
          ],
          "sizemode": "area",
          "sizeref": 43109.46,
          "symbol": "circle"
         },
         "mode": "markers",
         "name": "Law",
         "orientation": "h",
         "showlegend": true,
         "type": "scatter",
         "x": [
          2014,
          2012,
          2012,
          2010,
          2008,
          2006,
          2004,
          2002,
          2002,
          2000
         ],
         "xaxis": "x",
         "y": [
          "DC",
          "PR",
          "DC",
          "DC",
          "DC",
          "DC",
          "DC",
          "DC",
          "AL",
          "DC"
         ],
         "yaxis": "y"
        },
        {
         "hovertemplate": "<b>%{hovertext}</b><br><br>Category=Defence<br>Cycle=%{x}<br>State=%{y}<br>To Repubs and Conservs=%{marker.size}<extra></extra>",
         "hovertext": [
          "Lockheed Martin",
          "Northrop Grumman",
          "Lockheed Martin",
          "Lockheed Martin",
          "Lockheed Martin",
          "Lockheed Martin",
          "Lockheed Martin"
         ],
         "legendgroup": "Defence",
         "marker": {
          "color": "#ab63fa",
          "size": [
           2442176,
           2343681,
           1526393,
           1677961,
           1536942,
           1514429,
           1766025
          ],
          "sizemode": "area",
          "sizeref": 43109.46,
          "symbol": "circle"
         },
         "mode": "markers",
         "name": "Defence",
         "orientation": "h",
         "showlegend": true,
         "type": "scatter",
         "x": [
          2014,
          2014,
          2010,
          2008,
          2006,
          2002,
          2000
         ],
         "xaxis": "x",
         "y": [
          "MD",
          "VA",
          "MD",
          "MD",
          "MD",
          "MD",
          "MD"
         ],
         "yaxis": "y"
        },
        {
         "hovertemplate": "<b>%{hovertext}</b><br><br>Category=Transportation <br>Cycle=%{x}<br>State=%{y}<br>To Repubs and Conservs=%{marker.size}<extra></extra>",
         "hovertext": [
          "Boeing Co"
         ],
         "legendgroup": "Transportation ",
         "marker": {
          "color": "#FFA15A",
          "size": [
           1511582
          ],
          "sizemode": "area",
          "sizeref": 43109.46,
          "symbol": "circle"
         },
         "mode": "markers",
         "name": "Transportation ",
         "orientation": "h",
         "showlegend": true,
         "type": "scatter",
         "x": [
          2010
         ],
         "xaxis": "x",
         "y": [
          "IL"
         ],
         "yaxis": "y"
        },
        {
         "hovertemplate": "<b>%{hovertext}</b><br><br>Category=Transportation<br>Cycle=%{x}<br>State=%{y}<br>To Repubs and Conservs=%{marker.size}<extra></extra>",
         "hovertext": [
          "United Parcel Service",
          "National Auto Dealers Assn",
          "National Auto Dealers Assn",
          "United Parcel Service",
          "United Parcel Service",
          "National Auto Dealers Assn",
          "FedEx Corp",
          "United Parcel Service",
          "National Auto Dealers Assn",
          "National Auto Dealers Assn",
          "United Parcel Service",
          "United Parcel Service",
          "FedEx Corp",
          "National Auto Dealers Assn",
          "American Airlines Group",
          "Union Pacific Corp"
         ],
         "legendgroup": "Transportation",
         "marker": {
          "color": "#19d3f3",
          "size": [
           1665355,
           1510900,
           2150641,
           1906529,
           2316924,
           2356500,
           1478170,
           2272705,
           1986500,
           1919798,
           2060687,
           2290182,
           1909054,
           1812700,
           1387987,
           1741964
          ],
          "sizemode": "area",
          "sizeref": 43109.46,
          "symbol": "circle"
         },
         "mode": "markers",
         "name": "Transportation",
         "orientation": "h",
         "showlegend": true,
         "type": "scatter",
         "x": [
          2010,
          2010,
          2008,
          2008,
          2006,
          2006,
          2006,
          2004,
          2004,
          2002,
          2002,
          2000,
          2000,
          2000,
          2000,
          2000
         ],
         "xaxis": "x",
         "y": [
          "GA",
          "VA",
          "VA",
          "GA",
          "GA",
          "VA",
          "TN",
          "GA",
          "VA",
          "VA",
          "GA",
          "GA",
          "TN",
          "VA",
          "TX",
          "DC"
         ],
         "yaxis": "y"
        }
       ],
       "layout": {
        "legend": {
         "itemsizing": "constant",
         "title": {
          "text": "Category"
         },
         "tracegroupgap": 0
        },
        "margin": {
         "t": 60
        },
        "template": {
         "data": {
          "bar": [
           {
            "error_x": {
             "color": "#2a3f5f"
            },
            "error_y": {
             "color": "#2a3f5f"
            },
            "marker": {
             "line": {
              "color": "#E5ECF6",
              "width": 0.5
             }
            },
            "type": "bar"
           }
          ],
          "barpolar": [
           {
            "marker": {
             "line": {
              "color": "#E5ECF6",
              "width": 0.5
             }
            },
            "type": "barpolar"
           }
          ],
          "carpet": [
           {
            "aaxis": {
             "endlinecolor": "#2a3f5f",
             "gridcolor": "white",
             "linecolor": "white",
             "minorgridcolor": "white",
             "startlinecolor": "#2a3f5f"
            },
            "baxis": {
             "endlinecolor": "#2a3f5f",
             "gridcolor": "white",
             "linecolor": "white",
             "minorgridcolor": "white",
             "startlinecolor": "#2a3f5f"
            },
            "type": "carpet"
           }
          ],
          "choropleth": [
           {
            "colorbar": {
             "outlinewidth": 0,
             "ticks": ""
            },
            "type": "choropleth"
           }
          ],
          "contour": [
           {
            "colorbar": {
             "outlinewidth": 0,
             "ticks": ""
            },
            "colorscale": [
             [
              0,
              "#0d0887"
             ],
             [
              0.1111111111111111,
              "#46039f"
             ],
             [
              0.2222222222222222,
              "#7201a8"
             ],
             [
              0.3333333333333333,
              "#9c179e"
             ],
             [
              0.4444444444444444,
              "#bd3786"
             ],
             [
              0.5555555555555556,
              "#d8576b"
             ],
             [
              0.6666666666666666,
              "#ed7953"
             ],
             [
              0.7777777777777778,
              "#fb9f3a"
             ],
             [
              0.8888888888888888,
              "#fdca26"
             ],
             [
              1,
              "#f0f921"
             ]
            ],
            "type": "contour"
           }
          ],
          "contourcarpet": [
           {
            "colorbar": {
             "outlinewidth": 0,
             "ticks": ""
            },
            "type": "contourcarpet"
           }
          ],
          "heatmap": [
           {
            "colorbar": {
             "outlinewidth": 0,
             "ticks": ""
            },
            "colorscale": [
             [
              0,
              "#0d0887"
             ],
             [
              0.1111111111111111,
              "#46039f"
             ],
             [
              0.2222222222222222,
              "#7201a8"
             ],
             [
              0.3333333333333333,
              "#9c179e"
             ],
             [
              0.4444444444444444,
              "#bd3786"
             ],
             [
              0.5555555555555556,
              "#d8576b"
             ],
             [
              0.6666666666666666,
              "#ed7953"
             ],
             [
              0.7777777777777778,
              "#fb9f3a"
             ],
             [
              0.8888888888888888,
              "#fdca26"
             ],
             [
              1,
              "#f0f921"
             ]
            ],
            "type": "heatmap"
           }
          ],
          "heatmapgl": [
           {
            "colorbar": {
             "outlinewidth": 0,
             "ticks": ""
            },
            "colorscale": [
             [
              0,
              "#0d0887"
             ],
             [
              0.1111111111111111,
              "#46039f"
             ],
             [
              0.2222222222222222,
              "#7201a8"
             ],
             [
              0.3333333333333333,
              "#9c179e"
             ],
             [
              0.4444444444444444,
              "#bd3786"
             ],
             [
              0.5555555555555556,
              "#d8576b"
             ],
             [
              0.6666666666666666,
              "#ed7953"
             ],
             [
              0.7777777777777778,
              "#fb9f3a"
             ],
             [
              0.8888888888888888,
              "#fdca26"
             ],
             [
              1,
              "#f0f921"
             ]
            ],
            "type": "heatmapgl"
           }
          ],
          "histogram": [
           {
            "marker": {
             "colorbar": {
              "outlinewidth": 0,
              "ticks": ""
             }
            },
            "type": "histogram"
           }
          ],
          "histogram2d": [
           {
            "colorbar": {
             "outlinewidth": 0,
             "ticks": ""
            },
            "colorscale": [
             [
              0,
              "#0d0887"
             ],
             [
              0.1111111111111111,
              "#46039f"
             ],
             [
              0.2222222222222222,
              "#7201a8"
             ],
             [
              0.3333333333333333,
              "#9c179e"
             ],
             [
              0.4444444444444444,
              "#bd3786"
             ],
             [
              0.5555555555555556,
              "#d8576b"
             ],
             [
              0.6666666666666666,
              "#ed7953"
             ],
             [
              0.7777777777777778,
              "#fb9f3a"
             ],
             [
              0.8888888888888888,
              "#fdca26"
             ],
             [
              1,
              "#f0f921"
             ]
            ],
            "type": "histogram2d"
           }
          ],
          "histogram2dcontour": [
           {
            "colorbar": {
             "outlinewidth": 0,
             "ticks": ""
            },
            "colorscale": [
             [
              0,
              "#0d0887"
             ],
             [
              0.1111111111111111,
              "#46039f"
             ],
             [
              0.2222222222222222,
              "#7201a8"
             ],
             [
              0.3333333333333333,
              "#9c179e"
             ],
             [
              0.4444444444444444,
              "#bd3786"
             ],
             [
              0.5555555555555556,
              "#d8576b"
             ],
             [
              0.6666666666666666,
              "#ed7953"
             ],
             [
              0.7777777777777778,
              "#fb9f3a"
             ],
             [
              0.8888888888888888,
              "#fdca26"
             ],
             [
              1,
              "#f0f921"
             ]
            ],
            "type": "histogram2dcontour"
           }
          ],
          "mesh3d": [
           {
            "colorbar": {
             "outlinewidth": 0,
             "ticks": ""
            },
            "type": "mesh3d"
           }
          ],
          "parcoords": [
           {
            "line": {
             "colorbar": {
              "outlinewidth": 0,
              "ticks": ""
             }
            },
            "type": "parcoords"
           }
          ],
          "pie": [
           {
            "automargin": true,
            "type": "pie"
           }
          ],
          "scatter": [
           {
            "marker": {
             "colorbar": {
              "outlinewidth": 0,
              "ticks": ""
             }
            },
            "type": "scatter"
           }
          ],
          "scatter3d": [
           {
            "line": {
             "colorbar": {
              "outlinewidth": 0,
              "ticks": ""
             }
            },
            "marker": {
             "colorbar": {
              "outlinewidth": 0,
              "ticks": ""
             }
            },
            "type": "scatter3d"
           }
          ],
          "scattercarpet": [
           {
            "marker": {
             "colorbar": {
              "outlinewidth": 0,
              "ticks": ""
             }
            },
            "type": "scattercarpet"
           }
          ],
          "scattergeo": [
           {
            "marker": {
             "colorbar": {
              "outlinewidth": 0,
              "ticks": ""
             }
            },
            "type": "scattergeo"
           }
          ],
          "scattergl": [
           {
            "marker": {
             "colorbar": {
              "outlinewidth": 0,
              "ticks": ""
             }
            },
            "type": "scattergl"
           }
          ],
          "scattermapbox": [
           {
            "marker": {
             "colorbar": {
              "outlinewidth": 0,
              "ticks": ""
             }
            },
            "type": "scattermapbox"
           }
          ],
          "scatterpolar": [
           {
            "marker": {
             "colorbar": {
              "outlinewidth": 0,
              "ticks": ""
             }
            },
            "type": "scatterpolar"
           }
          ],
          "scatterpolargl": [
           {
            "marker": {
             "colorbar": {
              "outlinewidth": 0,
              "ticks": ""
             }
            },
            "type": "scatterpolargl"
           }
          ],
          "scatterternary": [
           {
            "marker": {
             "colorbar": {
              "outlinewidth": 0,
              "ticks": ""
             }
            },
            "type": "scatterternary"
           }
          ],
          "surface": [
           {
            "colorbar": {
             "outlinewidth": 0,
             "ticks": ""
            },
            "colorscale": [
             [
              0,
              "#0d0887"
             ],
             [
              0.1111111111111111,
              "#46039f"
             ],
             [
              0.2222222222222222,
              "#7201a8"
             ],
             [
              0.3333333333333333,
              "#9c179e"
             ],
             [
              0.4444444444444444,
              "#bd3786"
             ],
             [
              0.5555555555555556,
              "#d8576b"
             ],
             [
              0.6666666666666666,
              "#ed7953"
             ],
             [
              0.7777777777777778,
              "#fb9f3a"
             ],
             [
              0.8888888888888888,
              "#fdca26"
             ],
             [
              1,
              "#f0f921"
             ]
            ],
            "type": "surface"
           }
          ],
          "table": [
           {
            "cells": {
             "fill": {
              "color": "#EBF0F8"
             },
             "line": {
              "color": "white"
             }
            },
            "header": {
             "fill": {
              "color": "#C8D4E3"
             },
             "line": {
              "color": "white"
             }
            },
            "type": "table"
           }
          ]
         },
         "layout": {
          "annotationdefaults": {
           "arrowcolor": "#2a3f5f",
           "arrowhead": 0,
           "arrowwidth": 1
          },
          "autotypenumbers": "strict",
          "coloraxis": {
           "colorbar": {
            "outlinewidth": 0,
            "ticks": ""
           }
          },
          "colorscale": {
           "diverging": [
            [
             0,
             "#8e0152"
            ],
            [
             0.1,
             "#c51b7d"
            ],
            [
             0.2,
             "#de77ae"
            ],
            [
             0.3,
             "#f1b6da"
            ],
            [
             0.4,
             "#fde0ef"
            ],
            [
             0.5,
             "#f7f7f7"
            ],
            [
             0.6,
             "#e6f5d0"
            ],
            [
             0.7,
             "#b8e186"
            ],
            [
             0.8,
             "#7fbc41"
            ],
            [
             0.9,
             "#4d9221"
            ],
            [
             1,
             "#276419"
            ]
           ],
           "sequential": [
            [
             0,
             "#0d0887"
            ],
            [
             0.1111111111111111,
             "#46039f"
            ],
            [
             0.2222222222222222,
             "#7201a8"
            ],
            [
             0.3333333333333333,
             "#9c179e"
            ],
            [
             0.4444444444444444,
             "#bd3786"
            ],
            [
             0.5555555555555556,
             "#d8576b"
            ],
            [
             0.6666666666666666,
             "#ed7953"
            ],
            [
             0.7777777777777778,
             "#fb9f3a"
            ],
            [
             0.8888888888888888,
             "#fdca26"
            ],
            [
             1,
             "#f0f921"
            ]
           ],
           "sequentialminus": [
            [
             0,
             "#0d0887"
            ],
            [
             0.1111111111111111,
             "#46039f"
            ],
            [
             0.2222222222222222,
             "#7201a8"
            ],
            [
             0.3333333333333333,
             "#9c179e"
            ],
            [
             0.4444444444444444,
             "#bd3786"
            ],
            [
             0.5555555555555556,
             "#d8576b"
            ],
            [
             0.6666666666666666,
             "#ed7953"
            ],
            [
             0.7777777777777778,
             "#fb9f3a"
            ],
            [
             0.8888888888888888,
             "#fdca26"
            ],
            [
             1,
             "#f0f921"
            ]
           ]
          },
          "colorway": [
           "#636efa",
           "#EF553B",
           "#00cc96",
           "#ab63fa",
           "#FFA15A",
           "#19d3f3",
           "#FF6692",
           "#B6E880",
           "#FF97FF",
           "#FECB52"
          ],
          "font": {
           "color": "#2a3f5f"
          },
          "geo": {
           "bgcolor": "white",
           "lakecolor": "white",
           "landcolor": "#E5ECF6",
           "showlakes": true,
           "showland": true,
           "subunitcolor": "white"
          },
          "hoverlabel": {
           "align": "left"
          },
          "hovermode": "closest",
          "mapbox": {
           "style": "light"
          },
          "paper_bgcolor": "white",
          "plot_bgcolor": "#E5ECF6",
          "polar": {
           "angularaxis": {
            "gridcolor": "white",
            "linecolor": "white",
            "ticks": ""
           },
           "bgcolor": "#E5ECF6",
           "radialaxis": {
            "gridcolor": "white",
            "linecolor": "white",
            "ticks": ""
           }
          },
          "scene": {
           "xaxis": {
            "backgroundcolor": "#E5ECF6",
            "gridcolor": "white",
            "gridwidth": 2,
            "linecolor": "white",
            "showbackground": true,
            "ticks": "",
            "zerolinecolor": "white"
           },
           "yaxis": {
            "backgroundcolor": "#E5ECF6",
            "gridcolor": "white",
            "gridwidth": 2,
            "linecolor": "white",
            "showbackground": true,
            "ticks": "",
            "zerolinecolor": "white"
           },
           "zaxis": {
            "backgroundcolor": "#E5ECF6",
            "gridcolor": "white",
            "gridwidth": 2,
            "linecolor": "white",
            "showbackground": true,
            "ticks": "",
            "zerolinecolor": "white"
           }
          },
          "shapedefaults": {
           "line": {
            "color": "#2a3f5f"
           }
          },
          "ternary": {
           "aaxis": {
            "gridcolor": "white",
            "linecolor": "white",
            "ticks": ""
           },
           "baxis": {
            "gridcolor": "white",
            "linecolor": "white",
            "ticks": ""
           },
           "bgcolor": "#E5ECF6",
           "caxis": {
            "gridcolor": "white",
            "linecolor": "white",
            "ticks": ""
           }
          },
          "title": {
           "x": 0.05
          },
          "xaxis": {
           "automargin": true,
           "gridcolor": "white",
           "linecolor": "white",
           "ticks": "",
           "title": {
            "standoff": 15
           },
           "zerolinecolor": "white",
           "zerolinewidth": 2
          },
          "yaxis": {
           "automargin": true,
           "gridcolor": "white",
           "linecolor": "white",
           "ticks": "",
           "title": {
            "standoff": 15
           },
           "zerolinecolor": "white",
           "zerolinewidth": 2
          }
         }
        },
        "xaxis": {
         "anchor": "y",
         "domain": [
          0,
          1
         ],
         "title": {
          "text": "Cycle"
         },
         "type": "log"
        },
        "yaxis": {
         "anchor": "x",
         "domain": [
          0,
          1
         ],
         "title": {
          "text": "State"
         }
        }
       }
      },
      "text/html": [
       "<div>                            <div id=\"0c06b938-9257-42db-8201-0e7b3eff35b1\" class=\"plotly-graph-div\" style=\"height:525px; width:100%;\"></div>            <script type=\"text/javascript\">                require([\"plotly\"], function(Plotly) {                    window.PLOTLYENV=window.PLOTLYENV || {};                                    if (document.getElementById(\"0c06b938-9257-42db-8201-0e7b3eff35b1\")) {                    Plotly.newPlot(                        \"0c06b938-9257-42db-8201-0e7b3eff35b1\",                        [{\"hovertemplate\": \"<b>%{hovertext}</b><br><br>Category=Finance/Insurance/Real Estate<br>Cycle=%{x}<br>State=%{y}<br>To Repubs and Conservs=%{marker.size}<extra></extra>\", \"hovertext\": [\"Bloomberg LP\", \"Fahr LLC\", \"Citadel LLC\", \"Blackstone Group\", \"Susquehanna International Group\", \"Charles Schwab Corp\", \"Paloma Partners\", \"Bain Capital\", \"Renaissance Technologies\", \"Stephens Group\", \"Elliott Management\", \"Lone Pine Capital\", \"Ryan Specialty Group\", \"Euclidean Capital\", \"National Assn of Realtors\", \"Intercontinental Exchange Inc\", \"Marcus & Millichap\", \"Bloomberg LP\", \"Fahr LLC\", \"Paloma Partners\", \"Soros Fund Management\", \"Citadel LLC\", \"Euclidean Capital\", \"Renaissance Technologies\", \"Blackstone Group\", \"Charles Schwab Corp\", \"Marcus & Millichap\", \"Bain Capital\", \"Susquehanna International Group\", \"Wicklow Capital\", \"Baupost Group\", \"Elliott Management\", \"Fahr LLC\", \"Renaissance Technologies\", \"Paloma Partners\", \"Soros Fund Management\", \"Elliott Management\", \"Bloomberg LP\", \"Pritzker Group\", \"Saban Capital Group\", \"Stephens Group\", \"Citadel LLC\", \"Blackstone Group\", \"Kainos Capital\", \"Fahr LLC\", \"Bloomberg LP\", \"Renaissance Technologies\", \"Elliott Management\", \"National Assn of Realtors\", \"Stephens Group\", \"Goldman Sachs\", \"Soros Fund Management\", \"Citadel LLC\", \"Berkshire Hathaway\", \"Baupost Group\", \"Contran Corp\", \"Perry Homes\", \"Renaissance Technologies\", \"Hugo Enterprises\", \"Goldman Sachs\", \"Elliott Management\", \"Bain Capital\", \"JPMorgan Chase & Co\", \"Bank of America\", \"Blackstone Group\", \"Clarium Capital Management\", \"National Assn of Realtors\", \"Deloitte LLP\", \"Wells Fargo\", \"JW Childs Assoc\", \"Berkshire Hathaway\", \"Morgan Stanley\", \"Perry Homes\", \"Public Storage Inc\", \"National Assn of Realtors\", \"Goldman Sachs\", \"Bank of America\", \"Berkshire Hathaway\", \"New York Life Insurance\", \"Deloitte LLP\", \"PricewaterhouseCoopers\", \"JPMorgan Chase & Co\", \"Goldman Sachs\", \"Soros Fund Management\", \"Citigroup Inc\", \"National Assn of Realtors\", \"Morgan Stanley\", \"Contran Corp\", \"Bank of America\", \"UBS AG\", \"Oak Spring Farms\", \"Deloitte LLP\", \"Merrill\", \"PricewaterhouseCoopers\", \"Perry Homes\", \"Goldman Sachs\", \"National Assn of Realtors\", \"Soros Fund Management\", \"Citigroup Inc\", \"Bank of America\", \"Deloitte LLP\", \"JPMorgan Chase & Co\", \"UBS AG\", \"Morgan Stanley\", \"Soros Fund Management\", \"Golden West Financial\", \"Perry Homes\", \"Goldman Sachs\", \"Ameriquest Capital\", \"AG Spanos Companies\", \"BP Capital\", \"Contran Corp\", \"National Assn of Realtors\", \"Morgan Stanley\", \"JPMorgan Chase & Co\", \"Citigroup Inc\", \"UBS AG\", \"American Financial Group\", \"Rocking W Ranch\", \"Bank of America\", \"Saban Capital Group\", \"National Assn of Realtors\", \"Freddie Mac\", \"Goldman Sachs\", \"Citigroup Inc\", \"Ameriquest Capital\", \"AFLAC Inc\", \"Fannie Mae\", \"American International Group\", \"Ernst & Young\", \"American Financial Group\", \"Goldman Sachs\", \"Citigroup Inc\", \"National Assn of Realtors\", \"MBNA Corp\", \"Ernst & Young\", \"JPMorgan Chase & Co\", \"Morgan Stanley\", \"Credit Suisse Group\", \"Freddie Mac\", \"UBS AG\", \"Deloitte LLP\"], \"legendgroup\": \"Finance/Insurance/Real Estate\", \"marker\": {\"color\": \"#636efa\", \"size\": [54210, 0, 67599734, 36953295, 30051563, 29579774, 5600, 216651, 1932061, 18006359, 16627527, 100, 15092063, 0, 3430107, 13205956, 184106, 26613, 0, 0, 23100, 19285750, 0, 5956773, 13707108, 9968401, 91150, 128400, 7364169, 729000, 440300, 6797250, 0, 25297400, 3300, 683400, 28017774, 49916, 917940, 1000, 15437669, 13934338, 7184283, 2700, 0, 525900, 9750249, 14225222, 2556950, 4423550, 2646730, 35000, 3617375, 2337038, 3276090, 31642350, 24044700, 5887354, 12795954, 6923963, 6352981, 5014698, 3432369, 3769620, 3516634, 4838201, 2587906, 2995227, 3288797, 4443150, 3183206, 3113698, 7574240, 4836950, 2085097, 2197843, 1985714, 1750357, 1397930, 1636592, 1498303, 2699198, 1762523, 6800, 2063356, 2054670, 1776662, 3513063, 1671937, 1608895, 0, 1645935, 1643555, 1676687, 9955850, 1816642, 2281560, 0, 1419329, 1479103, 1820993, 1107157, 1350251, 1164331, 30000, 19725, 8189719, 2905548, 5681740, 5274400, 4722250, 4579505, 2360644, 2243381, 1839719, 1710911, 1837887, 2928100, 2693116, 1397017, 0, 2504407, 2394915, 1371695, 1687071, 1014500, 1635120, 1227250, 1498240, 1600093, 1927808, 1755867, 2083195, 2441103, 3230540, 1791600, 1510055, 1653680, 1864706, 1423000, 1575292, 1510760], \"sizemode\": \"area\", \"sizeref\": 43109.46, \"symbol\": \"circle\"}, \"mode\": \"markers\", \"name\": \"Finance/Insurance/Real Estate\", \"orientation\": \"h\", \"showlegend\": true, \"type\": \"scatter\", \"x\": [2020, 2020, 2020, 2020, 2020, 2020, 2020, 2020, 2020, 2020, 2020, 2020, 2020, 2020, 2020, 2020, 2020, 2018, 2018, 2018, 2018, 2018, 2018, 2018, 2018, 2018, 2018, 2018, 2018, 2018, 2018, 2018, 2016, 2016, 2016, 2016, 2016, 2016, 2016, 2016, 2016, 2016, 2016, 2016, 2014, 2014, 2014, 2014, 2014, 2014, 2014, 2014, 2014, 2014, 2014, 2012, 2012, 2012, 2012, 2012, 2012, 2012, 2012, 2012, 2012, 2012, 2012, 2012, 2012, 2012, 2012, 2012, 2010, 2010, 2010, 2010, 2010, 2010, 2010, 2010, 2010, 2008, 2008, 2008, 2008, 2008, 2008, 2008, 2008, 2008, 2008, 2008, 2008, 2008, 2006, 2006, 2006, 2006, 2006, 2006, 2006, 2006, 2006, 2006, 2004, 2004, 2004, 2004, 2004, 2004, 2004, 2004, 2004, 2004, 2004, 2004, 2004, 2004, 2004, 2004, 2002, 2002, 2002, 2002, 2002, 2002, 2002, 2002, 2002, 2002, 2002, 2000, 2000, 2000, 2000, 2000, 2000, 2000, 2000, 2000, 2000, 2000], \"xaxis\": \"x\", \"y\": [\"NY\", \"CA\", \"IL\", \"NY\", \"PA\", \"TX\", \"CT\", \"MA\", \"NY\", \"AR\", \"NY\", \"CT\", \"IL\", \"NY\", \"IL\", \"GA\", \"CA\", \"NY\", \"CA\", \"CT\", \"NY\", \"IL\", \"NY\", \"NY\", \"NY\", \"TX\", \"CA\", \"MA\", \"PA\", \"IL\", \"MA\", \"NY\", \"CA\", \"NY\", \"CT\", \"NY\", \"NY\", \"NY\", \"IL\", \"CA\", \"AR\", \"IL\", \"NY\", \"TX\", \"CA\", \"NY\", \"NY\", \"NY\", \"IL\", \"AR\", \"NY\", \"NY\", \"IL\", \"NE\", \"MA\", \"TX\", \"TX\", \"NY\", \"ID\", \"NY\", \"NY\", \"MA\", \"NY\", \"NC\", \"NY\", \"CA\", \"IL\", \"NY\", \"NY\", \"MA\", \"NE\", \"NY\", \"TX\", \"CA\", \"IL\", \"NY\", \"NC\", \"NE\", \"NY\", \"NY\", \"NY\", \"NY\", \"NY\", \"NY\", \"NY\", \"IL\", \"NY\", \"TX\", \"NC\", \"NY\", \"MD\", \"NY\", \"NY\", \"NY\", \"TX\", \"NY\", \"IL\", \"NY\", \"NY\", \"NC\", \"NY\", \"NY\", \"NY\", \"NY\", \"NY\", \"CA\", \"TX\", \"NY\", \"NY\", \"CA\", \"TX\", \"TX\", \"IL\", \"NY\", \"NY\", \"NY\", \"NY\", \"OH\", \"TX\", \"NC\", \"CA\", \"IL\", \"VA\", \"NY\", \"NY\", \"NY\", \"GA\", \"DC\", \"NY\", \"NY\", \"OH\", \"NY\", \"NY\", \"IL\", \"DE\", \"NY\", \"NY\", \"NY\", \"NY\", \"VA\", \"NY\", \"NY\"], \"yaxis\": \"y\"}, {\"hovertemplate\": \"<b>%{hovertext}</b><br><br>Category=Trust<br>Cycle=%{x}<br>State=%{y}<br>To Repubs and Conservs=%{marker.size}<extra></extra>\", \"hovertext\": [\"Senate Leadership Fund\", \"Fund for Policy Reform\", \"Senate Majority PAC\", \"Sixteen Thirty Fund\", \"America Votes\", \"Duty & Honor\", \"Fair Fight PAC\", \"Marcus Foundation\", \"Simon Youth Foundation\", \"League of Conservation Voters\", \"Senate Majority PAC\", \"Senate Leadership Fund\", \"League of Conservation Voters\", \"America Votes\", \"House Majority PAC\", \"Environment America\", \"Democratic Governors Assn\", \"Club for Growth\", \"Action Now Initiative\", \"EMILY's List\", \"Simon Youth Foundation\", \"NextGen Climate Action\", \"Bernard Marcus Family Foundation\", \"Samerian Foundation\", \"NextGen Climate Action\", \"Priorities USA/Priorities USA Action\", \"Senate Leadership Fund\", \"For Our Future\", \"Bernard Marcus Family Foundation\", \"McMahon Ventures\", \"Senate Majority PAC\", \"Commonwealth of Pennsylvania\", \"Jobs Ohio\", \"City of Philadelphia, PA\", \"Laurel Foundation\", \"Good Ventures\", \"League of Conservation Voters\", \"Senate Majority PAC\", \"League of Conservation Voters\", \"EMILY's List\", \"NextGen Climate Action\", \"City of New York, NY\", \"Democratic Governors Assn\", \"Club for Growth\", \"Harold C Simmons Family Trust\", \"Sheet Metal, Air, Rail & Transportation Union\", \"Democratic Attorneys General Assn\", \"EMILY's List\", \"Sheet Metal, Air, Rail & Transportation Union\", \"Democratic Governors Assn\", \"EMILY's List\", \"EMILY's List\", \"Sheet Metal, Air, Rail & Transportation Union\", \"Democratic Congressional Campaign Cmte\", \"Club for Growth\", \"Sustainable World Corp/Linda Pritzker\", \"Victory Campaign 2004\", \"Sustainable World Corp/Linda Pritzker\", \"Sheet Metal, Air, Rail & Transportation Union\", \"Alida Messinger Charitable Lead Trust\", \"EMILY's List\", \"US Chamber of Commerce\", \"Cullman Foundation/Cullman Ventures\", \"Sheet Metal, Air, Rail & Transportation Union\", \"EMILY's List\", \"Sheet Metal, Air, Rail & Transportation Union\", \"National Rifle Assn\", \"EMILY's List\"], \"legendgroup\": \"Trust\", \"marker\": {\"color\": \"#EF553B\", \"size\": [155194056, 0, 2280, 0, 0, 0, 0, 17580311, 0, 2125, 2000, 24221940, 0, 0, 0, 0, 0, 10305563, 0, 201, 0, 0, 7993768, 0, 0, 0, 22476800, 0, 13278450, 10931259, 0, 76489, 10001000, 11241, 75, 0, 67832, 0, 7640, 0, 0, 131036, 0, 3800791, 4000000, 159210, 0, 0, 182650, 0, 500, 0, 205000, 0, 2707506, 35000, 0, 0, 213850, 0, 1750, 3182833, 1000, 285450, 544, 261600, 2977250, 0], \"sizemode\": \"area\", \"sizeref\": 43109.46, \"symbol\": \"circle\"}, \"mode\": \"markers\", \"name\": \"Trust\", \"orientation\": \"h\", \"showlegend\": true, \"type\": \"scatter\", \"x\": [2020, 2020, 2020, 2020, 2020, 2020, 2020, 2020, 2020, 2020, 2018, 2018, 2018, 2018, 2018, 2018, 2018, 2018, 2018, 2018, 2018, 2018, 2018, 2018, 2016, 2016, 2016, 2016, 2016, 2016, 2016, 2016, 2016, 2016, 2016, 2016, 2016, 2014, 2014, 2014, 2014, 2012, 2010, 2010, 2010, 2010, 2010, 2010, 2008, 2008, 2008, 2006, 2006, 2006, 2006, 2006, 2004, 2004, 2004, 2004, 2004, 2004, 2004, 2002, 2002, 2000, 2000, 2000], \"xaxis\": \"x\", \"y\": [\"REP\", \"NY\", \"DEM\", \"DEM\", \"DEM\", \"DEM\", \"DEM\", \"NY\", \"IN\", \"DC\", \"DEM\", \"REP\", \"DC\", \"DEM\", \"DEM\", \"CO\", \"DEM\", \"DC\", \"TX\", \"DC\", \"IN\", \"DEM\", \"REP\", \"DEM\", \"DEM\", \"DEM\", \"REP\", \"DEM\", \"REP\", \"REP\", \"DEM\", \"PA\", \"OH\", \"PA\", \"PA\", \"CA\", \"DC\", \"DEM\", \"DC\", \"DC\", \"DEM\", \"NY\", \"DEM\", \"DC\", \"REP\", \"DC\", \"DEM\", \"DC\", \"DC\", \"DEM\", \"DC\", \"DC\", \"DC\", \"DEM\", \"DC\", \"DEM\", \"DEM\", \"DEM\", \"DC\", \"DC\", \"DC\", \"DEM\", \"NY\", \"DC\", \"DC\", \"DC\", \"VA\", \"DC\"], \"yaxis\": \"y\"}, {\"hovertemplate\": \"<b>%{hovertext}</b><br><br>Category=Misc Business<br>Cycle=%{x}<br>State=%{y}<br>To Repubs and Conservs=%{marker.size}<extra></extra>\", \"hovertext\": [\"Las Vegas Sands\", \"Uline Inc\", \"Reyes Holdings\", \"Las Vegas Sands\", \"Uline Inc\", \"Las Vegas Sands\", \"Uline Inc\", \"Las Vegas Sands\", \"Uline Inc\", \"Honeywell International\", \"National Beer Wholesalers Assn\", \"Home Depot\", \"Las Vegas Sands\", \"Specialty Group Inc\", \"TRT Holdings\", \"Honeywell International\", \"TRT Holdings\", \"Honeywell International\", \"National Beer Wholesalers Assn\", \"Las Vegas Sands\", \"Honeywell International\", \"National Beer Wholesalers Assn\", \"National Beer Wholesalers Assn\", \"Amway/Alticor Inc\", \"National Beer Wholesalers Assn\", \"National Beer Wholesalers Assn\"], \"legendgroup\": \"Misc Business\", \"marker\": {\"color\": \"#00cc96\", \"size\": [109226697, 68374622, 20060476, 62330018, 39712547, 44381566, 25075000, 6716618, 6107125, 2934555, 2304500, 2974281, 52848975, 10575000, 6396101, 3039560, 6034080, 2440650, 1770500, 5439474, 1618165, 1541850, 2136250, 4429619, 2068732, 1786561], \"sizemode\": \"area\", \"sizeref\": 43109.46, \"symbol\": \"circle\"}, \"mode\": \"markers\", \"name\": \"Misc Business\", \"orientation\": \"h\", \"showlegend\": true, \"type\": \"scatter\", \"x\": [2020, 2020, 2020, 2018, 2018, 2016, 2016, 2014, 2014, 2014, 2014, 2014, 2012, 2012, 2012, 2012, 2010, 2010, 2010, 2008, 2008, 2008, 2006, 2004, 2002, 2000], \"xaxis\": \"x\", \"y\": [\"NV\", \"WI\", \"IL\", \"NV\", \"WI\", \"NV\", \"WI\", \"NV\", \"WI\", \"NC\", \"VA\", \"GA\", \"NV\", \"FL\", \"TX\", \"NC\", \"TX\", \"NC\", \"VA\", \"NV\", \"NC\", \"VA\", \"VA\", \"MI\", \"VA\", \"VA\"], \"yaxis\": \"y\"}, {\"hovertemplate\": \"<b>%{hovertext}</b><br><br>Category=Healthcare<br>Cycle=%{x}<br>State=%{y}<br>To Repubs and Conservs=%{marker.size}<extra></extra>\", \"hovertext\": [\"Adelson Clinic for Drug Abuse Treatment & Research\", \"Adelson Clinic for Drug Abuse Treatment & Research\", \"Greater New York Hospital Assn\", \"Adelson Clinic for Drug Abuse Treatment & Research\", \"Blue Cross/Blue Shield\", \"Blue Cross/Blue Shield\", \"Adelson Clinic for Drug Abuse Treatment & Research\", \"Pharmaceutical Product Development Inc\", \"Blue Cross/Blue Shield\", \"Pharmaceutical Product Development Inc\", \"Blue Cross/Blue Shield\", \"Pharmaceutical Product Development Inc\", \"Blue Cross/Blue Shield\", \"Blue Cross/Blue Shield\", \"Pfizer Inc\", \"American Medical Assn\", \"Blue Cross/Blue Shield\", \"Blue Cross/Blue Shield\", \"American Medical Assn\", \"Blue Cross/Blue Shield\", \"Pfizer Inc\", \"Bristol-Myers Squibb\", \"American Medical Assn\"], \"legendgroup\": \"Healthcare\", \"marker\": {\"color\": \"#ab63fa\", \"size\": [108839900, 61473900, 472424, 38835400, 4269437, 2856183, 42118700, 6570650, 3333780, 6417460, 2292096, 10954580, 1860282, 1814016, 1701665, 1506755, 1792799, 2162537, 1629543, 1935424, 2174523, 2075759, 1206007], \"sizemode\": \"area\", \"sizeref\": 43109.46, \"symbol\": \"circle\"}, \"mode\": \"markers\", \"name\": \"Healthcare\", \"orientation\": \"h\", \"showlegend\": true, \"type\": \"scatter\", \"x\": [2020, 2018, 2018, 2016, 2016, 2014, 2012, 2012, 2012, 2010, 2010, 2008, 2008, 2006, 2006, 2006, 2004, 2002, 2002, 2000, 2000, 2000, 2000], \"xaxis\": \"x\", \"y\": [\"NV\", \"NV\", \"NY\", \"NV\", \"IL\", \"IL\", \"NV\", \"NC\", \"IL\", \"NC\", \"IL\", \"NC\", \"IL\", \"IL\", \"NY\", \"IL\", \"IL\", \"IL\", \"IL\", \"IL\", \"NY\", \"NY\", \"IL\"], \"yaxis\": \"y\"}, {\"hovertemplate\": \"<b>%{hovertext}</b><br><br>Category=Technology<br>Cycle=%{x}<br>State=%{y}<br>To Repubs and Conservs=%{marker.size}<extra></extra>\", \"hovertext\": [\"Asana\", \"Alphabet Inc\", \"Microsoft Corp\", \"Walt Disney Co\", \"Newsweb Corp\", \"Comcast Corp\", \"AT&T Inc\", \"Amazon.com\", \"Microsoft Corp\", \"Amazon.com\", \"Newsweb Corp\", \"AT&T Inc\", \"Alphabet Inc\", \"Asana\", \"Newsweb Corp\", \"Asana\", \"Comcast Corp\", \"AT&T Inc\", \"Walt Disney Co\", \"Alphabet Inc\", \"Newsweb Corp\", \"Raytheon Technologies\", \"Comcast Corp\", \"AT&T Inc\", \"General Electric\", \"Google Inc\", \"Verizon Communications\", \"Microsoft Corp\", \"Newsweb Corp\", \"Raytheon Technologies\", \"Comcast Corp\", \"AT&T Inc\", \"DreamWorks SKG\", \"Microsoft Corp\", \"Oracle Corp\", \"AT&T Inc\", \"Raytheon Technologies\", \"Comcast Corp\", \"General Electric\", \"Microsoft Corp\", \"AT&T Inc\", \"Shangri-La Entertainment\", \"General Electric\", \"Microsoft Corp\", \"Comcast Corp\", \"Raytheon Technologies\", \"WarnerMedia Group\", \"Verizon Communications\", \"AT&T Inc\", \"General Electric\", \"Microsoft Corp\", \"Verizon Communications\", \"WarnerMedia Group\", \"Raytheon Technologies\", \"Comcast Corp\", \"Shangri-La Entertainment\", \"Gateway Inc\", \"AT&T Inc\", \"Microsoft Corp\", \"WarnerMedia Group\", \"Antidote Films\", \"Newsweb Corp\", \"Tippingpoint Technologies\", \"Intersystems Corp\", \"General Electric\", \"Newsweb Corp\", \"AT&T Inc\", \"Shangri-La Entertainment\", \"Microsoft Corp\", \"Verizon Communications\", \"BellSouth Corp\", \"Loral Space & Communications\", \"General Electric\", \"AT&T Inc\", \"Microsoft Corp\", \"Verizon Communications\", \"21st Century Fox\", \"BellSouth Corp\", \"WarnerMedia Group\", \"Global Crossing\", \"Vivendi\"], \"legendgroup\": \"Technology\", \"marker\": {\"color\": \"#FFA15A\", \"size\": [250, 1404642, 1683611, 12040521, 0, 3601180, 3560966, 1832568, 1734803, 1056578, 0, 3966425, 1250005, 0, 0, 0, 3417988, 7850272, 7720966, 2066968, 0, 3456999, 2334116, 2865505, 2431612, 1084411, 2092762, 1272698, 5000, 3350667, 2128529, 3346419, 5000, 1658097, 3788279, 2895710, 1872904, 1626588, 1511834, 1183415, 3084099, 500, 1488316, 1044623, 1284611, 1646187, 584037, 1543905, 3552995, 1767474, 1092115, 1636711, 592546, 1411574, 1165158, 0, 96800, 2587760, 1523985, 882597, 0, 500, 6750, 0, 1638031, 0, 4162162, 700, 2703191, 2443323, 1806701, 22700, 1300319, 5524589, 2703490, 2490627, 677479, 1500873, 821195, 1328593, 815066], \"sizemode\": \"area\", \"sizeref\": 43109.46, \"symbol\": \"circle\"}, \"mode\": \"markers\", \"name\": \"Technology\", \"orientation\": \"h\", \"showlegend\": true, \"type\": \"scatter\", \"x\": [2020, 2020, 2020, 2020, 2020, 2020, 2020, 2020, 2018, 2018, 2018, 2018, 2018, 2018, 2016, 2016, 2016, 2016, 2016, 2016, 2014, 2014, 2014, 2014, 2014, 2014, 2014, 2014, 2012, 2012, 2012, 2012, 2012, 2012, 2012, 2010, 2010, 2010, 2010, 2010, 2008, 2008, 2008, 2008, 2008, 2008, 2008, 2008, 2006, 2006, 2006, 2006, 2006, 2006, 2006, 2004, 2004, 2004, 2004, 2004, 2004, 2004, 2004, 2004, 2004, 2002, 2002, 2002, 2002, 2002, 2002, 2002, 2002, 2000, 2000, 2000, 2000, 2000, 2000, 2000, 2000], \"xaxis\": \"x\", \"y\": [\"CA\", \"CA\", \"WA\", \"CA\", \"IL\", \"PA\", \"TX\", \"WA\", \"WA\", \"WA\", \"IL\", \"TX\", \"CA\", \"CA\", \"IL\", \"CA\", \"PA\", \"TX\", \"CA\", \"CA\", \"IL\", \"MA\", \"PA\", \"TX\", \"MA\", \"CA\", \"NY\", \"WA\", \"IL\", \"MA\", \"PA\", \"TX\", \"CA\", \"WA\", \"TX\", \"TX\", \"MA\", \"PA\", \"MA\", \"WA\", \"TX\", \"CA\", \"MA\", \"WA\", \"PA\", \"MA\", \"NY\", \"NY\", \"TX\", \"MA\", \"WA\", \"NY\", \"NY\", \"MA\", \"PA\", \"CA\", \"CA\", \"TX\", \"WA\", \"NY\", \"NY\", \"IL\", \"TX\", \"MA\", \"MA\", \"IL\", \"TX\", \"CA\", \"WA\", \"NY\", \"GA\", \"NY\", \"MA\", \"TX\", \"WA\", \"NY\", \"NY\", \"GA\", \"NY\", \"LA\", \"CA\"], \"yaxis\": \"y\"}, {\"hovertemplate\": \"<b>%{hovertext}</b><br><br>Category=Labor<br>Cycle=%{x}<br>State=%{y}<br>To Repubs and Conservs=%{marker.size}<extra></extra>\", \"hovertext\": [\"Carpenters & Joiners Union\", \"Service Employees International Union\", \"Laborers Union\", \"American Federation of Teachers\", \"American Federation of State/Cnty/Munic Employees\", \"International Brotherhood of Electrical Workers\", \"National Education Assn\", \"Operating Engineers Union\", \"Carpenters & Joiners Union\", \"Laborers Union\", \"American Federation of State/Cnty/Munic Employees\", \"Service Employees International Union\", \"American Federation of Teachers\", \"International Brotherhood of Electrical Workers\", \"Operating Engineers Union\", \"United Food & Commercial Workers Union\", \"Laborers Union\", \"American Federation of Teachers\", \"American Federation of State/Cnty/Munic Employees\", \"Carpenters & Joiners Union\", \"Service Employees International Union\", \"National Education Assn\", \"International Brotherhood of Electrical Workers\", \"Plumbers/Pipefitters Union\", \"Operating Engineers Union\", \"American Federation of State/Cnty/Munic Employees\", \"American Federation of Teachers\", \"National Education Assn\", \"Laborers Union\", \"International Brotherhood of Electrical Workers\", \"United Food & Commercial Workers Union\", \"Carpenters & Joiners Union\", \"Plumbers/Pipefitters Union\", \"Operating Engineers Union\", \"Service Employees International Union\", \"National Assn of Letter Carriers\", \"Teamsters Union\", \"National Air Traffic Controllers Assn\", \"American Federation of Government Employees\", \"American Bankers Assn\", \"Service Employees International Union\", \"American Federation of State/Cnty/Munic Employees\", \"American Federation of Teachers\", \"Carpenters & Joiners Union\", \"Laborers Union\", \"International Brotherhood of Electrical Workers\", \"National Education Assn\", \"Plumbers/Pipefitters Union\", \"National Assn of Letter Carriers\", \"Operating Engineers Union\", \"United Food & Commercial Workers Union\", \"Teamsters Union\", \"United Auto Workers\", \"National Air Traffic Controllers Assn\", \"Service Employees International Union\", \"American Federation of State/Cnty/Munic Employees\", \"American Federation of Teachers\", \"Laborers Union\", \"National Education Assn\", \"International Brotherhood of Electrical Workers\", \"Teamsters Union\", \"United Food & Commercial Workers Union\", \"International Assn of Fire Fighters\", \"Carpenters & Joiners Union\", \"American Bankers Assn\", \"National Assn of Letter Carriers\", \"Operating Engineers Union\", \"Credit Union National Assn\", \"Communications Workers of America\", \"National Assn of Home Builders\", \"Machinists/Aerospace Workers Union\", \"National Air Traffic Controllers Assn\", \"American Federation of State/Cnty/Munic Employees\", \"Service Employees International Union\", \"International Brotherhood of Electrical Workers\", \"Teamsters Union\", \"United Food & Commercial Workers Union\", \"American Bankers Assn\", \"National Education Assn\", \"Laborers Union\", \"Institute for Student Achievement\", \"American Federation of Teachers\", \"International Assn of Fire Fighters\", \"Communications Workers of America\", \"National Assn of Home Builders\", \"Machinists/Aerospace Workers Union\", \"Operating Engineers Union\", \"National Air Traffic Controllers Assn\", \"Credit Union National Assn\", \"Service Employees International Union\", \"International Brotherhood of Electrical Workers\", \"American Federation of State/Cnty/Munic Employees\", \"Laborers Union\", \"American Federation of Teachers\", \"National Assn of Home Builders\", \"American Bankers Assn\", \"National Education Assn\", \"Teamsters Union\", \"Carpenters & Joiners Union\", \"Credit Union National Assn\", \"Operating Engineers Union\", \"National Air Traffic Controllers Assn\", \"United Auto Workers\", \"Machinists/Aerospace Workers Union\", \"AFL-CIO\", \"International Assn of Fire Fighters\", \"Plumbers/Pipefitters Union\", \"Service Employees International Union\", \"American Federation of State/Cnty/Munic Employees\", \"AFL-CIO\", \"Laborers Union\", \"International Brotherhood of Electrical Workers\", \"American Federation of Teachers\", \"Teamsters Union\", \"Communications Workers of America\", \"Machinists/Aerospace Workers Union\", \"National Education Assn\", \"American Federation of State/Cnty/Munic Employees\", \"Service Employees International Union\", \"Carpenters & Joiners Union\", \"Communications Workers of America\", \"Laborers Union\", \"American Federation of Teachers\", \"International Brotherhood of Electrical Workers\", \"United Food & Commercial Workers Union\", \"National Education Assn\", \"Pharmaceutical Research & Manufacturers of America\", \"United Auto Workers\", \"Machinists/Aerospace Workers Union\", \"Teamsters Union\", \"Plumbers/Pipefitters Union\", \"Credit Union National Assn\", \"AFL-CIO\", \"International Assn of Fire Fighters\", \"National Assn of Home Builders\", \"American Federation of State/Cnty/Munic Employees\", \"Service Employees International Union\", \"International Brotherhood of Electrical Workers\", \"Carpenters & Joiners Union\", \"Communications Workers of America\", \"United Food & Commercial Workers Union\", \"Laborers Union\", \"American Federation of Teachers\", \"Teamsters Union\", \"Machinists/Aerospace Workers Union\", \"National Education Assn\", \"United Auto Workers\", \"AFL-CIO\", \"National Assn of Home Builders\", \"National Assn of Letter Carriers\"], \"legendgroup\": \"Labor\", \"marker\": {\"color\": \"#19d3f3\", \"size\": [528966, 11587, 679213, 13958, 7836, 299293, 120597, 747238, 529725, 764600, 6225, 1157, 6500, 199699, 875030, 18750, 518075, 10700, 7475, 443927, 2100, 461225, 149242, 287000, 1180577, 13000, 27500, 210625, 538955, 96340, 24730, 457500, 421300, 592625, 1000, 82500, 126000, 684000, 62250, 2752085, 3750, 23300, 15500, 360450, 358500, 87304, 598973, 133402, 58500, 969201, 7000, 151630, 18500, 713450, 10500, 11000, 18000, 144300, 198200, 88500, 62670, 8000, 529600, 278850, 2536019, 65500, 321450, 1265846, 40100, 1700800, 34000, 408550, 34210, 330622, 75073, 96400, 7050, 2320252, 267675, 227700, 0, 28550, 741455, 34000, 1663700, 75641, 362123, 549500, 1409899, 113650, 92350, 37000, 436525, 25000, 2542900, 2211199, 346173, 222559, 889500, 1662320, 595050, 533900, 12750, 15750, 184500, 631950, 185925, 299450, 56650, 89250, 385800, 105430, 44750, 282200, 22790, 21750, 320500, 66500, 223122, 530800, 19000, 330500, 40050, 86362, 28500, 322400, 3355137, 25750, 24000, 396100, 76578, 1470661, 119100, 286700, 1414030, 118850, 217250, 95650, 279620, 20050, 43500, 263900, 28150, 198750, 14500, 303488, 15300, 90750, 1583727, 277350], \"sizemode\": \"area\", \"sizeref\": 43109.46, \"symbol\": \"circle\"}, \"mode\": \"markers\", \"name\": \"Labor\", \"orientation\": \"h\", \"showlegend\": true, \"type\": \"scatter\", \"x\": [2020, 2020, 2020, 2020, 2020, 2020, 2020, 2020, 2018, 2018, 2018, 2018, 2018, 2018, 2018, 2018, 2016, 2016, 2016, 2016, 2016, 2016, 2016, 2016, 2016, 2014, 2014, 2014, 2014, 2014, 2014, 2014, 2014, 2014, 2014, 2014, 2014, 2014, 2014, 2014, 2012, 2012, 2012, 2012, 2012, 2012, 2012, 2012, 2012, 2012, 2012, 2012, 2012, 2012, 2010, 2010, 2010, 2010, 2010, 2010, 2010, 2010, 2010, 2010, 2010, 2010, 2010, 2010, 2010, 2010, 2010, 2010, 2008, 2008, 2008, 2008, 2008, 2008, 2008, 2008, 2008, 2008, 2008, 2008, 2008, 2008, 2008, 2008, 2008, 2006, 2006, 2006, 2006, 2006, 2006, 2006, 2006, 2006, 2006, 2006, 2006, 2006, 2006, 2006, 2006, 2006, 2006, 2004, 2004, 2004, 2004, 2004, 2004, 2004, 2004, 2004, 2004, 2002, 2002, 2002, 2002, 2002, 2002, 2002, 2002, 2002, 2002, 2002, 2002, 2002, 2002, 2002, 2002, 2002, 2002, 2000, 2000, 2000, 2000, 2000, 2000, 2000, 2000, 2000, 2000, 2000, 2000, 2000, 2000, 2000], \"xaxis\": \"x\", \"y\": [\"UNION\", \"IL\", \"DC\", \"DC\", \"DC\", \"DC\", \"DC\", \"DC\", \"UNION\", \"DC\", \"DC\", \"IL\", \"DC\", \"DC\", \"DC\", \"DC\", \"DC\", \"DC\", \"DC\", \"UNION\", \"IL\", \"DC\", \"DC\", \"MD\", \"DC\", \"DC\", \"DC\", \"DC\", \"DC\", \"DC\", \"DC\", \"UNION\", \"MD\", \"DC\", \"IL\", \"DC\", \"DC\", \"DC\", \"DC\", \"DC\", \"IL\", \"DC\", \"DC\", \"UNION\", \"DC\", \"DC\", \"DC\", \"MD\", \"DC\", \"DC\", \"DC\", \"DC\", \"MI\", \"DC\", \"IL\", \"DC\", \"DC\", \"DC\", \"DC\", \"DC\", \"DC\", \"DC\", \"DC\", \"UNION\", \"DC\", \"DC\", \"DC\", \"DC\", \"DC\", \"DC\", \"MD\", \"DC\", \"DC\", \"IL\", \"DC\", \"DC\", \"DC\", \"DC\", \"DC\", \"DC\", \"NY\", \"DC\", \"DC\", \"DC\", \"DC\", \"MD\", \"DC\", \"DC\", \"DC\", \"IL\", \"DC\", \"DC\", \"DC\", \"DC\", \"DC\", \"DC\", \"DC\", \"DC\", \"UNION\", \"DC\", \"DC\", \"DC\", \"MI\", \"MD\", \"DC\", \"DC\", \"MD\", \"IL\", \"DC\", \"DC\", \"DC\", \"DC\", \"DC\", \"DC\", \"DC\", \"MD\", \"DC\", \"DC\", \"IL\", \"UNION\", \"DC\", \"DC\", \"DC\", \"DC\", \"DC\", \"DC\", \"DC\", \"MI\", \"MD\", \"DC\", \"MD\", \"DC\", \"DC\", \"DC\", \"DC\", \"DC\", \"IL\", \"DC\", \"UNION\", \"DC\", \"DC\", \"DC\", \"DC\", \"DC\", \"MD\", \"DC\", \"MI\", \"DC\", \"DC\", \"DC\"], \"yaxis\": \"y\"}, {\"hovertemplate\": \"<b>%{hovertext}</b><br><br>Category=Education<br>Cycle=%{x}<br>State=%{y}<br>To Repubs and Conservs=%{marker.size}<extra></extra>\", \"hovertext\": [\"University of California\", \"University of California\", \"University of California\", \"University of California\", \"University of California\"], \"legendgroup\": \"Education\", \"marker\": {\"color\": \"#FF6692\", \"size\": [564291, 238272, 308058, 276147, 187930], \"sizemode\": \"area\", \"sizeref\": 43109.46, \"symbol\": \"circle\"}, \"mode\": \"markers\", \"name\": \"Education\", \"orientation\": \"h\", \"showlegend\": true, \"type\": \"scatter\", \"x\": [2020, 2018, 2012, 2008, 2004], \"xaxis\": \"x\", \"y\": [\"CA\", \"CA\", \"CA\", \"CA\", \"CA\"], \"yaxis\": \"y\"}, {\"hovertemplate\": \"<b>%{hovertext}</b><br><br>Category=Energy<br>Cycle=%{x}<br>State=%{y}<br>To Repubs and Conservs=%{marker.size}<extra></extra>\", \"hovertext\": [\"Energy Transfer LP\", \"Koch Industries\", \"Koch Industries\", \"Marathon Petroleum\", \"Koch Industries\", \"Koch Industries\", \"Alliance Resource Partners\", \"Alliance Resource Partners\", \"Oxbow Corp\", \"Alliance Resource Partners\", \"Koch Industries\", \"Chesapeake Energy\", \"Enron Corp\"], \"legendgroup\": \"Energy\", \"marker\": {\"color\": \"#B6E880\", \"size\": [14629074, 14260567, 11985799, 6238489, 11353521, 11169585, 5163495, 5659125, 4980050, 3035500, 2414714, 2772530, 1902204], \"sizemode\": \"area\", \"sizeref\": 43109.46, \"symbol\": \"circle\"}, \"mode\": \"markers\", \"name\": \"Energy\", \"orientation\": \"h\", \"showlegend\": true, \"type\": \"scatter\", \"x\": [2020, 2020, 2018, 2018, 2016, 2014, 2014, 2012, 2012, 2010, 2010, 2004, 2000], \"xaxis\": \"x\", \"y\": [\"TX\", \"KS\", \"KS\", \"OH\", \"KS\", \"KS\", \"OK\", \"OK\", \"FL\", \"OK\", \"KS\", \"OK\", \"TX\"], \"yaxis\": \"y\"}, {\"hovertemplate\": \"<b>%{hovertext}</b><br><br>Category=Food<br>Cycle=%{x}<br>State=%{y}<br>To Repubs and Conservs=%{marker.size}<extra></extra>\", \"hovertext\": [\"Mountaire Corp\", \"Mountaire Corp\", \"Mountaire Corp\", \"Mountaire Corp\", \"Philip Morris USA\", \"Anheuser-Busch InBev\", \"Philip Morris USA\"], \"legendgroup\": \"Food\", \"marker\": {\"color\": \"#FF97FF\", \"size\": [14673833, 7564752, 17934905, 4762150, 2341949, 1373772, 2227591], \"sizemode\": \"area\", \"sizeref\": 43109.46, \"symbol\": \"circle\"}, \"mode\": \"markers\", \"name\": \"Food\", \"orientation\": \"h\", \"showlegend\": true, \"type\": \"scatter\", \"x\": [2020, 2018, 2016, 2014, 2002, 2002, 2000], \"xaxis\": \"x\", \"y\": [\"AR\", \"AR\", \"AR\", \"AR\", \"VA\", \"NY\", \"VA\"], \"yaxis\": \"y\"}, {\"hovertemplate\": \"<b>%{hovertext}</b><br><br>Category=Sports<br>Cycle=%{x}<br>State=%{y}<br>To Repubs and Conservs=%{marker.size}<extra></extra>\", \"hovertext\": [\"Chicago Cubs\", \"Houston Texans\", \"Houston Texans\"], \"legendgroup\": \"Sports\", \"marker\": {\"color\": \"#FECB52\", \"size\": [15376788, 10964110, 4295400], \"sizemode\": \"area\", \"sizeref\": 43109.46, \"symbol\": \"circle\"}, \"mode\": \"markers\", \"name\": \"Sports\", \"orientation\": \"h\", \"showlegend\": true, \"type\": \"scatter\", \"x\": [2016, 2016, 2014], \"xaxis\": \"x\", \"y\": [\"IL\", \"TX\", \"TX\"], \"yaxis\": \"y\"}, {\"hovertemplate\": \"<b>%{hovertext}</b><br><br>Category=Hospitality<br>Cycle=%{x}<br>State=%{y}<br>To Repubs and Conservs=%{marker.size}<extra></extra>\", \"hovertext\": [\"Starr Companies\", \"American Hospital Assn\", \"Chartwell Partners\", \"American Hospital Assn\", \"Chartwell Partners\", \"American Hospital Assn\"], \"legendgroup\": \"Hospitality\", \"marker\": {\"color\": \"#636efa\", \"size\": [15331361, 1000333, 5150950, 1399672, 4198500, 1303596], \"sizemode\": \"area\", \"sizeref\": 43109.46, \"symbol\": \"circle\"}, \"mode\": \"markers\", \"name\": \"Hospitality\", \"orientation\": \"h\", \"showlegend\": true, \"type\": \"scatter\", \"x\": [2016, 2010, 2006, 2006, 2004, 2002], \"xaxis\": \"x\", \"y\": [\"NY\", \"IL\", \"TX\", \"IL\", \"TX\", \"IL\"], \"yaxis\": \"y\"}, {\"hovertemplate\": \"<b>%{hovertext}</b><br><br>Category=Construction<br>Cycle=%{x}<br>State=%{y}<br>To Repubs and Conservs=%{marker.size}<extra></extra>\", \"hovertext\": [\"ABC Supply\", \"TAMKO Building Products\"], \"legendgroup\": \"Construction\", \"marker\": {\"color\": \"#EF553B\", \"size\": [14220645, 9978110], \"sizemode\": \"area\", \"sizeref\": 43109.46, \"symbol\": \"circle\"}, \"mode\": \"markers\", \"name\": \"Construction\", \"orientation\": \"h\", \"showlegend\": true, \"type\": \"scatter\", \"x\": [2016, 2016], \"xaxis\": \"x\", \"y\": [\"TX\", \"MO\"], \"yaxis\": \"y\"}, {\"hovertemplate\": \"<b>%{hovertext}</b><br><br>Category=Law<br>Cycle=%{x}<br>State=%{y}<br>To Repubs and Conservs=%{marker.size}<extra></extra>\", \"hovertext\": [\"American Assn for Justice\", \"Mostyn Law Firm\", \"American Assn for Justice\", \"American Assn for Justice\", \"American Assn for Justice\", \"American Assn for Justice\", \"American Assn for Justice\", \"American Assn for Justice\", \"Williams, Hart et al\", \"American Assn for Justice\"], \"legendgroup\": \"Law\", \"marker\": {\"color\": \"#00cc96\", \"size\": [104689, 18161, 122500, 113000, 195250, 182200, 270350, 372935, 0, 446950], \"sizemode\": \"area\", \"sizeref\": 43109.46, \"symbol\": \"circle\"}, \"mode\": \"markers\", \"name\": \"Law\", \"orientation\": \"h\", \"showlegend\": true, \"type\": \"scatter\", \"x\": [2014, 2012, 2012, 2010, 2008, 2006, 2004, 2002, 2002, 2000], \"xaxis\": \"x\", \"y\": [\"DC\", \"PR\", \"DC\", \"DC\", \"DC\", \"DC\", \"DC\", \"DC\", \"AL\", \"DC\"], \"yaxis\": \"y\"}, {\"hovertemplate\": \"<b>%{hovertext}</b><br><br>Category=Defence<br>Cycle=%{x}<br>State=%{y}<br>To Repubs and Conservs=%{marker.size}<extra></extra>\", \"hovertext\": [\"Lockheed Martin\", \"Northrop Grumman\", \"Lockheed Martin\", \"Lockheed Martin\", \"Lockheed Martin\", \"Lockheed Martin\", \"Lockheed Martin\"], \"legendgroup\": \"Defence\", \"marker\": {\"color\": \"#ab63fa\", \"size\": [2442176, 2343681, 1526393, 1677961, 1536942, 1514429, 1766025], \"sizemode\": \"area\", \"sizeref\": 43109.46, \"symbol\": \"circle\"}, \"mode\": \"markers\", \"name\": \"Defence\", \"orientation\": \"h\", \"showlegend\": true, \"type\": \"scatter\", \"x\": [2014, 2014, 2010, 2008, 2006, 2002, 2000], \"xaxis\": \"x\", \"y\": [\"MD\", \"VA\", \"MD\", \"MD\", \"MD\", \"MD\", \"MD\"], \"yaxis\": \"y\"}, {\"hovertemplate\": \"<b>%{hovertext}</b><br><br>Category=Transportation <br>Cycle=%{x}<br>State=%{y}<br>To Repubs and Conservs=%{marker.size}<extra></extra>\", \"hovertext\": [\"Boeing Co\"], \"legendgroup\": \"Transportation \", \"marker\": {\"color\": \"#FFA15A\", \"size\": [1511582], \"sizemode\": \"area\", \"sizeref\": 43109.46, \"symbol\": \"circle\"}, \"mode\": \"markers\", \"name\": \"Transportation \", \"orientation\": \"h\", \"showlegend\": true, \"type\": \"scatter\", \"x\": [2010], \"xaxis\": \"x\", \"y\": [\"IL\"], \"yaxis\": \"y\"}, {\"hovertemplate\": \"<b>%{hovertext}</b><br><br>Category=Transportation<br>Cycle=%{x}<br>State=%{y}<br>To Repubs and Conservs=%{marker.size}<extra></extra>\", \"hovertext\": [\"United Parcel Service\", \"National Auto Dealers Assn\", \"National Auto Dealers Assn\", \"United Parcel Service\", \"United Parcel Service\", \"National Auto Dealers Assn\", \"FedEx Corp\", \"United Parcel Service\", \"National Auto Dealers Assn\", \"National Auto Dealers Assn\", \"United Parcel Service\", \"United Parcel Service\", \"FedEx Corp\", \"National Auto Dealers Assn\", \"American Airlines Group\", \"Union Pacific Corp\"], \"legendgroup\": \"Transportation\", \"marker\": {\"color\": \"#19d3f3\", \"size\": [1665355, 1510900, 2150641, 1906529, 2316924, 2356500, 1478170, 2272705, 1986500, 1919798, 2060687, 2290182, 1909054, 1812700, 1387987, 1741964], \"sizemode\": \"area\", \"sizeref\": 43109.46, \"symbol\": \"circle\"}, \"mode\": \"markers\", \"name\": \"Transportation\", \"orientation\": \"h\", \"showlegend\": true, \"type\": \"scatter\", \"x\": [2010, 2010, 2008, 2008, 2006, 2006, 2006, 2004, 2004, 2002, 2002, 2000, 2000, 2000, 2000, 2000], \"xaxis\": \"x\", \"y\": [\"GA\", \"VA\", \"VA\", \"GA\", \"GA\", \"VA\", \"TN\", \"GA\", \"VA\", \"VA\", \"GA\", \"GA\", \"TN\", \"VA\", \"TX\", \"DC\"], \"yaxis\": \"y\"}],                        {\"legend\": {\"itemsizing\": \"constant\", \"title\": {\"text\": \"Category\"}, \"tracegroupgap\": 0}, \"margin\": {\"t\": 60}, \"template\": {\"data\": {\"bar\": [{\"error_x\": {\"color\": \"#2a3f5f\"}, \"error_y\": {\"color\": \"#2a3f5f\"}, \"marker\": {\"line\": {\"color\": \"#E5ECF6\", \"width\": 0.5}}, \"type\": \"bar\"}], \"barpolar\": [{\"marker\": {\"line\": {\"color\": \"#E5ECF6\", \"width\": 0.5}}, \"type\": \"barpolar\"}], \"carpet\": [{\"aaxis\": {\"endlinecolor\": \"#2a3f5f\", \"gridcolor\": \"white\", \"linecolor\": \"white\", \"minorgridcolor\": \"white\", \"startlinecolor\": \"#2a3f5f\"}, \"baxis\": {\"endlinecolor\": \"#2a3f5f\", \"gridcolor\": \"white\", \"linecolor\": \"white\", \"minorgridcolor\": \"white\", \"startlinecolor\": \"#2a3f5f\"}, \"type\": \"carpet\"}], \"choropleth\": [{\"colorbar\": {\"outlinewidth\": 0, \"ticks\": \"\"}, \"type\": \"choropleth\"}], \"contour\": [{\"colorbar\": {\"outlinewidth\": 0, \"ticks\": \"\"}, \"colorscale\": [[0.0, \"#0d0887\"], [0.1111111111111111, \"#46039f\"], [0.2222222222222222, \"#7201a8\"], [0.3333333333333333, \"#9c179e\"], [0.4444444444444444, \"#bd3786\"], [0.5555555555555556, \"#d8576b\"], [0.6666666666666666, \"#ed7953\"], [0.7777777777777778, \"#fb9f3a\"], [0.8888888888888888, \"#fdca26\"], [1.0, \"#f0f921\"]], \"type\": \"contour\"}], \"contourcarpet\": [{\"colorbar\": {\"outlinewidth\": 0, \"ticks\": \"\"}, \"type\": \"contourcarpet\"}], \"heatmap\": [{\"colorbar\": {\"outlinewidth\": 0, \"ticks\": \"\"}, \"colorscale\": [[0.0, \"#0d0887\"], [0.1111111111111111, \"#46039f\"], [0.2222222222222222, \"#7201a8\"], [0.3333333333333333, \"#9c179e\"], [0.4444444444444444, \"#bd3786\"], [0.5555555555555556, \"#d8576b\"], [0.6666666666666666, \"#ed7953\"], [0.7777777777777778, \"#fb9f3a\"], [0.8888888888888888, \"#fdca26\"], [1.0, \"#f0f921\"]], \"type\": \"heatmap\"}], \"heatmapgl\": [{\"colorbar\": {\"outlinewidth\": 0, \"ticks\": \"\"}, \"colorscale\": [[0.0, \"#0d0887\"], [0.1111111111111111, \"#46039f\"], [0.2222222222222222, \"#7201a8\"], [0.3333333333333333, \"#9c179e\"], [0.4444444444444444, \"#bd3786\"], [0.5555555555555556, \"#d8576b\"], [0.6666666666666666, \"#ed7953\"], [0.7777777777777778, \"#fb9f3a\"], [0.8888888888888888, \"#fdca26\"], [1.0, \"#f0f921\"]], \"type\": \"heatmapgl\"}], \"histogram\": [{\"marker\": {\"colorbar\": {\"outlinewidth\": 0, \"ticks\": \"\"}}, \"type\": \"histogram\"}], \"histogram2d\": [{\"colorbar\": {\"outlinewidth\": 0, \"ticks\": \"\"}, \"colorscale\": [[0.0, \"#0d0887\"], [0.1111111111111111, \"#46039f\"], [0.2222222222222222, \"#7201a8\"], [0.3333333333333333, \"#9c179e\"], [0.4444444444444444, \"#bd3786\"], [0.5555555555555556, \"#d8576b\"], [0.6666666666666666, \"#ed7953\"], [0.7777777777777778, \"#fb9f3a\"], [0.8888888888888888, \"#fdca26\"], [1.0, \"#f0f921\"]], \"type\": \"histogram2d\"}], \"histogram2dcontour\": [{\"colorbar\": {\"outlinewidth\": 0, \"ticks\": \"\"}, \"colorscale\": [[0.0, \"#0d0887\"], [0.1111111111111111, \"#46039f\"], [0.2222222222222222, \"#7201a8\"], [0.3333333333333333, \"#9c179e\"], [0.4444444444444444, \"#bd3786\"], [0.5555555555555556, \"#d8576b\"], [0.6666666666666666, \"#ed7953\"], [0.7777777777777778, \"#fb9f3a\"], [0.8888888888888888, \"#fdca26\"], [1.0, \"#f0f921\"]], \"type\": \"histogram2dcontour\"}], \"mesh3d\": [{\"colorbar\": {\"outlinewidth\": 0, \"ticks\": \"\"}, \"type\": \"mesh3d\"}], \"parcoords\": [{\"line\": {\"colorbar\": {\"outlinewidth\": 0, \"ticks\": \"\"}}, \"type\": \"parcoords\"}], \"pie\": [{\"automargin\": true, \"type\": \"pie\"}], \"scatter\": [{\"marker\": {\"colorbar\": {\"outlinewidth\": 0, \"ticks\": \"\"}}, \"type\": \"scatter\"}], \"scatter3d\": [{\"line\": {\"colorbar\": {\"outlinewidth\": 0, \"ticks\": \"\"}}, \"marker\": {\"colorbar\": {\"outlinewidth\": 0, \"ticks\": \"\"}}, \"type\": \"scatter3d\"}], \"scattercarpet\": [{\"marker\": {\"colorbar\": {\"outlinewidth\": 0, \"ticks\": \"\"}}, \"type\": \"scattercarpet\"}], \"scattergeo\": [{\"marker\": {\"colorbar\": {\"outlinewidth\": 0, \"ticks\": \"\"}}, \"type\": \"scattergeo\"}], \"scattergl\": [{\"marker\": {\"colorbar\": {\"outlinewidth\": 0, \"ticks\": \"\"}}, \"type\": \"scattergl\"}], \"scattermapbox\": [{\"marker\": {\"colorbar\": {\"outlinewidth\": 0, \"ticks\": \"\"}}, \"type\": \"scattermapbox\"}], \"scatterpolar\": [{\"marker\": {\"colorbar\": {\"outlinewidth\": 0, \"ticks\": \"\"}}, \"type\": \"scatterpolar\"}], \"scatterpolargl\": [{\"marker\": {\"colorbar\": {\"outlinewidth\": 0, \"ticks\": \"\"}}, \"type\": \"scatterpolargl\"}], \"scatterternary\": [{\"marker\": {\"colorbar\": {\"outlinewidth\": 0, \"ticks\": \"\"}}, \"type\": \"scatterternary\"}], \"surface\": [{\"colorbar\": {\"outlinewidth\": 0, \"ticks\": \"\"}, \"colorscale\": [[0.0, \"#0d0887\"], [0.1111111111111111, \"#46039f\"], [0.2222222222222222, \"#7201a8\"], [0.3333333333333333, \"#9c179e\"], [0.4444444444444444, \"#bd3786\"], [0.5555555555555556, \"#d8576b\"], [0.6666666666666666, \"#ed7953\"], [0.7777777777777778, \"#fb9f3a\"], [0.8888888888888888, \"#fdca26\"], [1.0, \"#f0f921\"]], \"type\": \"surface\"}], \"table\": [{\"cells\": {\"fill\": {\"color\": \"#EBF0F8\"}, \"line\": {\"color\": \"white\"}}, \"header\": {\"fill\": {\"color\": \"#C8D4E3\"}, \"line\": {\"color\": \"white\"}}, \"type\": \"table\"}]}, \"layout\": {\"annotationdefaults\": {\"arrowcolor\": \"#2a3f5f\", \"arrowhead\": 0, \"arrowwidth\": 1}, \"autotypenumbers\": \"strict\", \"coloraxis\": {\"colorbar\": {\"outlinewidth\": 0, \"ticks\": \"\"}}, \"colorscale\": {\"diverging\": [[0, \"#8e0152\"], [0.1, \"#c51b7d\"], [0.2, \"#de77ae\"], [0.3, \"#f1b6da\"], [0.4, \"#fde0ef\"], [0.5, \"#f7f7f7\"], [0.6, \"#e6f5d0\"], [0.7, \"#b8e186\"], [0.8, \"#7fbc41\"], [0.9, \"#4d9221\"], [1, \"#276419\"]], \"sequential\": [[0.0, \"#0d0887\"], [0.1111111111111111, \"#46039f\"], [0.2222222222222222, \"#7201a8\"], [0.3333333333333333, \"#9c179e\"], [0.4444444444444444, \"#bd3786\"], [0.5555555555555556, \"#d8576b\"], [0.6666666666666666, \"#ed7953\"], [0.7777777777777778, \"#fb9f3a\"], [0.8888888888888888, \"#fdca26\"], [1.0, \"#f0f921\"]], \"sequentialminus\": [[0.0, \"#0d0887\"], [0.1111111111111111, \"#46039f\"], [0.2222222222222222, \"#7201a8\"], [0.3333333333333333, \"#9c179e\"], [0.4444444444444444, \"#bd3786\"], [0.5555555555555556, \"#d8576b\"], [0.6666666666666666, \"#ed7953\"], [0.7777777777777778, \"#fb9f3a\"], [0.8888888888888888, \"#fdca26\"], [1.0, \"#f0f921\"]]}, \"colorway\": [\"#636efa\", \"#EF553B\", \"#00cc96\", \"#ab63fa\", \"#FFA15A\", \"#19d3f3\", \"#FF6692\", \"#B6E880\", \"#FF97FF\", \"#FECB52\"], \"font\": {\"color\": \"#2a3f5f\"}, \"geo\": {\"bgcolor\": \"white\", \"lakecolor\": \"white\", \"landcolor\": \"#E5ECF6\", \"showlakes\": true, \"showland\": true, \"subunitcolor\": \"white\"}, \"hoverlabel\": {\"align\": \"left\"}, \"hovermode\": \"closest\", \"mapbox\": {\"style\": \"light\"}, \"paper_bgcolor\": \"white\", \"plot_bgcolor\": \"#E5ECF6\", \"polar\": {\"angularaxis\": {\"gridcolor\": \"white\", \"linecolor\": \"white\", \"ticks\": \"\"}, \"bgcolor\": \"#E5ECF6\", \"radialaxis\": {\"gridcolor\": \"white\", \"linecolor\": \"white\", \"ticks\": \"\"}}, \"scene\": {\"xaxis\": {\"backgroundcolor\": \"#E5ECF6\", \"gridcolor\": \"white\", \"gridwidth\": 2, \"linecolor\": \"white\", \"showbackground\": true, \"ticks\": \"\", \"zerolinecolor\": \"white\"}, \"yaxis\": {\"backgroundcolor\": \"#E5ECF6\", \"gridcolor\": \"white\", \"gridwidth\": 2, \"linecolor\": \"white\", \"showbackground\": true, \"ticks\": \"\", \"zerolinecolor\": \"white\"}, \"zaxis\": {\"backgroundcolor\": \"#E5ECF6\", \"gridcolor\": \"white\", \"gridwidth\": 2, \"linecolor\": \"white\", \"showbackground\": true, \"ticks\": \"\", \"zerolinecolor\": \"white\"}}, \"shapedefaults\": {\"line\": {\"color\": \"#2a3f5f\"}}, \"ternary\": {\"aaxis\": {\"gridcolor\": \"white\", \"linecolor\": \"white\", \"ticks\": \"\"}, \"baxis\": {\"gridcolor\": \"white\", \"linecolor\": \"white\", \"ticks\": \"\"}, \"bgcolor\": \"#E5ECF6\", \"caxis\": {\"gridcolor\": \"white\", \"linecolor\": \"white\", \"ticks\": \"\"}}, \"title\": {\"x\": 0.05}, \"xaxis\": {\"automargin\": true, \"gridcolor\": \"white\", \"linecolor\": \"white\", \"ticks\": \"\", \"title\": {\"standoff\": 15}, \"zerolinecolor\": \"white\", \"zerolinewidth\": 2}, \"yaxis\": {\"automargin\": true, \"gridcolor\": \"white\", \"linecolor\": \"white\", \"ticks\": \"\", \"title\": {\"standoff\": 15}, \"zerolinecolor\": \"white\", \"zerolinewidth\": 2}}}, \"xaxis\": {\"anchor\": \"y\", \"domain\": [0.0, 1.0], \"title\": {\"text\": \"Cycle\"}, \"type\": \"log\"}, \"yaxis\": {\"anchor\": \"x\", \"domain\": [0.0, 1.0], \"title\": {\"text\": \"State\"}}},                        {\"responsive\": true}                    ).then(function(){\n",
       "                            \n",
       "var gd = document.getElementById('0c06b938-9257-42db-8201-0e7b3eff35b1');\n",
       "var x = new MutationObserver(function (mutations, observer) {{\n",
       "        var display = window.getComputedStyle(gd).display;\n",
       "        if (!display || display === 'none') {{\n",
       "            console.log([gd, 'removed!']);\n",
       "            Plotly.purge(gd);\n",
       "            observer.disconnect();\n",
       "        }}\n",
       "}});\n",
       "\n",
       "// Listen for the removal of the full notebook cells\n",
       "var notebookContainer = gd.closest('#notebook-container');\n",
       "if (notebookContainer) {{\n",
       "    x.observe(notebookContainer, {childList: true});\n",
       "}}\n",
       "\n",
       "// Listen for the clearing of the current output cell\n",
       "var outputEl = gd.closest('.output');\n",
       "if (outputEl) {{\n",
       "    x.observe(outputEl, {childList: true});\n",
       "}}\n",
       "\n",
       "                        })                };                });            </script>        </div>"
      ]
     },
     "metadata": {},
     "output_type": "display_data"
    }
   ],
   "source": [
    "fig = px.scatter(comp_contri, x=\"Cycle\", y=\"State\",\n",
    "\t         size=\"To Repubs and Conservs\", color=\"Category\",\n",
    "                 hover_name=\"Organization\", log_x=True, size_max=60)\n",
    "fig.show()\n",
    "pio.write_html(fig, \"Graphs/Republicans_company_donation_statewise.html\")"
   ]
  },
  {
   "cell_type": "code",
   "execution_count": null,
   "metadata": {},
   "outputs": [],
   "source": []
  },
  {
   "cell_type": "code",
   "execution_count": null,
   "metadata": {},
   "outputs": [],
   "source": []
  },
  {
   "cell_type": "code",
   "execution_count": 35,
   "metadata": {},
   "outputs": [],
   "source": [
    "df2020 = comp_contri.query(\"Cycle==2020\")\n",
    "df2018 = comp_contri.query(\"Cycle==2018\")\n",
    "result = df2020.append(df2018)"
   ]
  },
  {
   "cell_type": "code",
   "execution_count": 36,
   "metadata": {},
   "outputs": [
    {
     "data": {
      "text/html": [
       "<div>\n",
       "<style scoped>\n",
       "    .dataframe tbody tr th:only-of-type {\n",
       "        vertical-align: middle;\n",
       "    }\n",
       "\n",
       "    .dataframe tbody tr th {\n",
       "        vertical-align: top;\n",
       "    }\n",
       "\n",
       "    .dataframe thead th {\n",
       "        text-align: right;\n",
       "    }\n",
       "</style>\n",
       "<table border=\"1\" class=\"dataframe\">\n",
       "  <thead>\n",
       "    <tr style=\"text-align: right;\">\n",
       "      <th></th>\n",
       "      <th>Category</th>\n",
       "      <th>Organization</th>\n",
       "      <th>Total Contributions</th>\n",
       "      <th>To Dems &amp; Liberals</th>\n",
       "      <th>To Repubs and Conservs</th>\n",
       "      <th>Cycle</th>\n",
       "    </tr>\n",
       "  </thead>\n",
       "  <tbody>\n",
       "    <tr>\n",
       "      <th>0</th>\n",
       "      <td>Education</td>\n",
       "      <td>University of California</td>\n",
       "      <td>33576314</td>\n",
       "      <td>32529446</td>\n",
       "      <td>802563</td>\n",
       "      <td>2020</td>\n",
       "    </tr>\n",
       "    <tr>\n",
       "      <th>1</th>\n",
       "      <td>Energy</td>\n",
       "      <td>Energy Transfer LP</td>\n",
       "      <td>14674580</td>\n",
       "      <td>45409</td>\n",
       "      <td>14629074</td>\n",
       "      <td>2020</td>\n",
       "    </tr>\n",
       "    <tr>\n",
       "      <th>2</th>\n",
       "      <td>Energy</td>\n",
       "      <td>Koch Industries</td>\n",
       "      <td>26703253</td>\n",
       "      <td>405189</td>\n",
       "      <td>26246366</td>\n",
       "      <td>2020</td>\n",
       "    </tr>\n",
       "    <tr>\n",
       "      <th>3</th>\n",
       "      <td>Energy</td>\n",
       "      <td>Marathon Petroleum</td>\n",
       "      <td>6480526</td>\n",
       "      <td>241974</td>\n",
       "      <td>6238489</td>\n",
       "      <td>2020</td>\n",
       "    </tr>\n",
       "    <tr>\n",
       "      <th>4</th>\n",
       "      <td>Finance/Insurance/Real Estate</td>\n",
       "      <td>Bain Capital</td>\n",
       "      <td>30857523</td>\n",
       "      <td>29990791</td>\n",
       "      <td>345051</td>\n",
       "      <td>2020</td>\n",
       "    </tr>\n",
       "    <tr>\n",
       "      <th>5</th>\n",
       "      <td>Finance/Insurance/Real Estate</td>\n",
       "      <td>Baupost Group</td>\n",
       "      <td>7262135</td>\n",
       "      <td>6091435</td>\n",
       "      <td>440300</td>\n",
       "      <td>2020</td>\n",
       "    </tr>\n",
       "    <tr>\n",
       "      <th>6</th>\n",
       "      <td>Finance/Insurance/Real Estate</td>\n",
       "      <td>Blackstone Group</td>\n",
       "      <td>58610728</td>\n",
       "      <td>7942861</td>\n",
       "      <td>50660403</td>\n",
       "      <td>2020</td>\n",
       "    </tr>\n",
       "    <tr>\n",
       "      <th>7</th>\n",
       "      <td>Finance/Insurance/Real Estate</td>\n",
       "      <td>Bloomberg LP</td>\n",
       "      <td>253033436</td>\n",
       "      <td>252193134</td>\n",
       "      <td>80823</td>\n",
       "      <td>2020</td>\n",
       "    </tr>\n",
       "    <tr>\n",
       "      <th>8</th>\n",
       "      <td>Finance/Insurance/Real Estate</td>\n",
       "      <td>Charles Schwab Corp</td>\n",
       "      <td>40756670</td>\n",
       "      <td>1203893</td>\n",
       "      <td>39548175</td>\n",
       "      <td>2020</td>\n",
       "    </tr>\n",
       "    <tr>\n",
       "      <th>9</th>\n",
       "      <td>Finance/Insurance/Real Estate</td>\n",
       "      <td>Citadel LLC</td>\n",
       "      <td>87504144</td>\n",
       "      <td>612542</td>\n",
       "      <td>86885484</td>\n",
       "      <td>2020</td>\n",
       "    </tr>\n",
       "  </tbody>\n",
       "</table>\n",
       "</div>"
      ],
      "text/plain": [
       "                        Category              Organization  \\\n",
       "0                      Education  University of California   \n",
       "1                         Energy        Energy Transfer LP   \n",
       "2                         Energy           Koch Industries   \n",
       "3                         Energy        Marathon Petroleum   \n",
       "4  Finance/Insurance/Real Estate              Bain Capital   \n",
       "5  Finance/Insurance/Real Estate             Baupost Group   \n",
       "6  Finance/Insurance/Real Estate          Blackstone Group   \n",
       "7  Finance/Insurance/Real Estate              Bloomberg LP   \n",
       "8  Finance/Insurance/Real Estate       Charles Schwab Corp   \n",
       "9  Finance/Insurance/Real Estate               Citadel LLC   \n",
       "\n",
       "   Total Contributions  To Dems & Liberals  To Repubs and Conservs  Cycle  \n",
       "0             33576314            32529446                  802563   2020  \n",
       "1             14674580               45409                14629074   2020  \n",
       "2             26703253              405189                26246366   2020  \n",
       "3              6480526              241974                 6238489   2020  \n",
       "4             30857523            29990791                  345051   2020  \n",
       "5              7262135             6091435                  440300   2020  \n",
       "6             58610728             7942861                50660403   2020  \n",
       "7            253033436           252193134                   80823   2020  \n",
       "8             40756670             1203893                39548175   2020  \n",
       "9             87504144              612542                86885484   2020  "
      ]
     },
     "execution_count": 36,
     "metadata": {},
     "output_type": "execute_result"
    }
   ],
   "source": [
    "result = result.groupby(['Category', 'Organization']).sum()\n",
    "result = result.reset_index()\n",
    "result[\"Cycle\"] = 2020\n",
    "#result.query(\"Organization=='Koch Industries'\")\n",
    "\n",
    "df2016 = comp_contri.query(\"Cycle==2016\")\n",
    "df2014 = comp_contri.query(\"Cycle==2014\")\n",
    "temp = df2016.append(df2014)\n",
    "temp = temp.groupby(['Category', 'Organization']).sum()\n",
    "temp = temp.reset_index()\n",
    "temp['Cycle'] = 2016\n",
    "result = result.append(temp)\n",
    "\n",
    "df2012 = comp_contri.query(\"Cycle==2012\")\n",
    "df2010 = comp_contri.query(\"Cycle==2010\")\n",
    "temp = df2012.append(df2010)\n",
    "temp = temp.groupby(['Category', 'Organization']).sum()\n",
    "temp = temp.reset_index()\n",
    "temp['Cycle'] = 2012\n",
    "result = result.append(temp)\n",
    "result.head(10)"
   ]
  },
  {
   "cell_type": "code",
   "execution_count": 37,
   "metadata": {},
   "outputs": [
    {
     "data": {
      "application/vnd.plotly.v1+json": {
       "config": {
        "plotlyServerURL": "https://plot.ly"
       },
       "data": [
        {
         "hovertemplate": "<b>%{hovertext}</b><br><br>Category=Education<br>Cycle=2020<br>To Dems & Liberals=%{x}<br>To Repubs and Conservs=%{y}<br>Total Contributions=%{marker.size}<extra></extra>",
         "hovertext": [
          "University of California"
         ],
         "legendgroup": "Education",
         "marker": {
          "color": "#636efa",
          "size": [
           33576314
          ],
          "sizemode": "area",
          "sizeref": 70287.06555555556,
          "symbol": "circle"
         },
         "mode": "markers",
         "name": "Education",
         "orientation": "v",
         "showlegend": true,
         "type": "scatter",
         "x": [
          32529446
         ],
         "xaxis": "x",
         "y": [
          802563
         ],
         "yaxis": "y"
        },
        {
         "hovertemplate": "<b>%{hovertext}</b><br><br>Category=Energy<br>Cycle=2020<br>To Dems & Liberals=%{x}<br>To Repubs and Conservs=%{y}<br>Total Contributions=%{marker.size}<extra></extra>",
         "hovertext": [
          "Energy Transfer LP",
          "Koch Industries",
          "Marathon Petroleum"
         ],
         "legendgroup": "Energy",
         "marker": {
          "color": "#EF553B",
          "size": [
           14674580,
           26703253,
           6480526
          ],
          "sizemode": "area",
          "sizeref": 70287.06555555556,
          "symbol": "circle"
         },
         "mode": "markers",
         "name": "Energy",
         "orientation": "v",
         "showlegend": true,
         "type": "scatter",
         "x": [
          45409,
          405189,
          241974
         ],
         "xaxis": "x",
         "y": [
          14629074,
          26246366,
          6238489
         ],
         "yaxis": "y"
        },
        {
         "hovertemplate": "<b>%{hovertext}</b><br><br>Category=Finance/Insurance/Real Estate<br>Cycle=2020<br>To Dems & Liberals=%{x}<br>To Repubs and Conservs=%{y}<br>Total Contributions=%{marker.size}<extra></extra>",
         "hovertext": [
          "Bain Capital",
          "Baupost Group",
          "Blackstone Group",
          "Bloomberg LP",
          "Charles Schwab Corp",
          "Citadel LLC",
          "Elliott Management",
          "Euclidean Capital",
          "Fahr LLC",
          "Intercontinental Exchange Inc",
          "Lone Pine Capital",
          "Marcus & Millichap",
          "National Assn of Realtors",
          "Paloma Partners",
          "Renaissance Technologies",
          "Ryan Specialty Group",
          "Soros Fund Management",
          "Stephens Group",
          "Susquehanna International Group",
          "Wicklow Capital"
         ],
         "legendgroup": "Finance/Insurance/Real Estate",
         "marker": {
          "color": "#00cc96",
          "size": [
           30857523,
           7262135,
           58610728,
           253033436,
           40756670,
           87504144,
           24091809,
           30795103,
           143848528,
           13342871,
           15233025,
           22965862,
           13665382,
           53252773,
           36838542,
           15134992,
           20239421,
           18015666,
           38411615,
           7491963
          ],
          "sizemode": "area",
          "sizeref": 70287.06555555556,
          "symbol": "circle"
         },
         "mode": "markers",
         "name": "Finance/Insurance/Real Estate",
         "orientation": "v",
         "showlegend": true,
         "type": "scatter",
         "x": [
          29990791,
          6091435,
          7942861,
          252193134,
          1203893,
          612542,
          387830,
          30786703,
          143846520,
          135144,
          15221725,
          22687603,
          3636873,
          53203863,
          28738958,
          42858,
          20216321,
          9280,
          166985,
          6662963
         ],
         "xaxis": "x",
         "y": [
          345051,
          440300,
          50660403,
          80823,
          39548175,
          86885484,
          23424777,
          0,
          0,
          13205956,
          100,
          275256,
          3430107,
          5600,
          7888834,
          15092063,
          23100,
          18006359,
          37415732,
          729000
         ],
         "yaxis": "y"
        },
        {
         "hovertemplate": "<b>%{hovertext}</b><br><br>Category=Food<br>Cycle=2020<br>To Dems & Liberals=%{x}<br>To Repubs and Conservs=%{y}<br>Total Contributions=%{marker.size}<extra></extra>",
         "hovertext": [
          "Mountaire Corp"
         ],
         "legendgroup": "Food",
         "marker": {
          "color": "#ab63fa",
          "size": [
           22238605
          ],
          "sizemode": "area",
          "sizeref": 70287.06555555556,
          "symbol": "circle"
         },
         "mode": "markers",
         "name": "Food",
         "orientation": "v",
         "showlegend": true,
         "type": "scatter",
         "x": [
          20
         ],
         "xaxis": "x",
         "y": [
          22238585
         ],
         "yaxis": "y"
        },
        {
         "hovertemplate": "<b>%{hovertext}</b><br><br>Category=Healthcare<br>Cycle=2020<br>To Dems & Liberals=%{x}<br>To Repubs and Conservs=%{y}<br>Total Contributions=%{marker.size}<extra></extra>",
         "hovertext": [
          "Adelson Clinic for Drug Abuse Treatment & Research",
          "Greater New York Hospital Assn"
         ],
         "legendgroup": "Healthcare",
         "marker": {
          "color": "#FFA15A",
          "size": [
           170313800,
           6687369
          ],
          "sizemode": "area",
          "sizeref": 70287.06555555556,
          "symbol": "circle"
         },
         "mode": "markers",
         "name": "Healthcare",
         "orientation": "v",
         "showlegend": true,
         "type": "scatter",
         "x": [
          0,
          6214945
         ],
         "xaxis": "x",
         "y": [
          170313800,
          472424
         ],
         "yaxis": "y"
        },
        {
         "hovertemplate": "<b>%{hovertext}</b><br><br>Category=Labor<br>Cycle=2020<br>To Dems & Liberals=%{x}<br>To Repubs and Conservs=%{y}<br>Total Contributions=%{marker.size}<extra></extra>",
         "hovertext": [
          "American Federation of State/Cnty/Munic Employees",
          "American Federation of Teachers",
          "Carpenters & Joiners Union",
          "International Brotherhood of Electrical Workers",
          "Laborers Union",
          "National Education Assn",
          "Operating Engineers Union",
          "Service Employees International Union",
          "United Food & Commercial Workers Union"
         ],
         "legendgroup": "Labor",
         "marker": {
          "color": "#19d3f3",
          "size": [
           33563702,
           33466034,
           54495997,
           23744226,
           41703612,
           14488532,
           21193657,
           43614527,
           6766152
          ],
          "sizemode": "area",
          "sizeref": 70287.06555555556,
          "symbol": "circle"
         },
         "mode": "markers",
         "name": "Labor",
         "orientation": "v",
         "showlegend": true,
         "type": "scatter",
         "x": [
          33510590,
          33395241,
          53432141,
          23229423,
          40240055,
          14347659,
          19609738,
          43567611,
          6744754
         ],
         "xaxis": "x",
         "y": [
          14061,
          20458,
          1058691,
          498992,
          1443813,
          120597,
          1622268,
          12744,
          18750
         ],
         "yaxis": "y"
        },
        {
         "hovertemplate": "<b>%{hovertext}</b><br><br>Category=Misc Business<br>Cycle=2020<br>To Dems & Liberals=%{x}<br>To Repubs and Conservs=%{y}<br>Total Contributions=%{marker.size}<extra></extra>",
         "hovertext": [
          "Las Vegas Sands",
          "Reyes Holdings",
          "Uline Inc"
         ],
         "legendgroup": "Misc Business",
         "marker": {
          "color": "#FF6692",
          "size": [
           171585961,
           20084232,
           108112823
          ],
          "sizemode": "area",
          "sizeref": 70287.06555555556,
          "symbol": "circle"
         },
         "mode": "markers",
         "name": "Misc Business",
         "orientation": "v",
         "showlegend": true,
         "type": "scatter",
         "x": [
          26957,
          23579,
          25509
         ],
         "xaxis": "x",
         "y": [
          171556715,
          20060476,
          108087169
         ],
         "yaxis": "y"
        },
        {
         "hovertemplate": "<b>%{hovertext}</b><br><br>Category=Technology<br>Cycle=2020<br>To Dems & Liberals=%{x}<br>To Repubs and Conservs=%{y}<br>Total Contributions=%{marker.size}<extra></extra>",
         "hovertext": [
          "AT&T Inc",
          "Alphabet Inc",
          "Amazon.com",
          "Asana",
          "Comcast Corp",
          "Microsoft Corp",
          "Newsweb Corp",
          "Walt Disney Co"
         ],
         "legendgroup": "Technology",
         "marker": {
          "color": "#B6E880",
          "size": [
           21762599,
           35942476,
           26249998,
           57584006,
           15466309,
           35330526,
           32170975,
           19754894
          ],
          "sizemode": "area",
          "sizeref": 70287.06555555556,
          "symbol": "circle"
         },
         "mode": "markers",
         "name": "Technology",
         "orientation": "v",
         "showlegend": true,
         "type": "scatter",
         "x": [
          14152607,
          32932939,
          13038984,
          57580767,
          11798613,
          31183877,
          32168175,
          7660755
         ],
         "xaxis": "x",
         "y": [
          7527391,
          2654647,
          2889146,
          250,
          3601180,
          3418414,
          0,
          12040521
         ],
         "yaxis": "y"
        },
        {
         "hovertemplate": "<b>%{hovertext}</b><br><br>Category=Trust<br>Cycle=2020<br>To Dems & Liberals=%{x}<br>To Repubs and Conservs=%{y}<br>Total Contributions=%{marker.size}<extra></extra>",
         "hovertext": [
          "Action Now Initiative",
          "America Votes",
          "Bernard Marcus Family Foundation",
          "Club for Growth",
          "Democratic Governors Assn",
          "Duty & Honor",
          "EMILY's List",
          "Environment America",
          "Fair Fight PAC",
          "Fund for Policy Reform",
          "House Majority PAC",
          "League of Conservation Voters",
          "Marcus Foundation",
          "NextGen Climate Action",
          "Samerian Foundation",
          "Senate Leadership Fund",
          "Senate Majority PAC",
          "Simon Youth Foundation",
          "Sixteen Thirty Fund"
         ],
         "legendgroup": "Trust",
         "marker": {
          "color": "#FF97FF",
          "size": [
           9878025,
           70730484,
           7994268,
           10305563,
           10775767,
           26050000,
           9877324,
           12257171,
           19659800,
           75500002,
           12350027,
           29100348,
           17580811,
           9026357,
           6930150,
           179415996,
           94468570,
           26423874,
           56718914
          ],
          "sizemode": "area",
          "sizeref": 70287.06555555556,
          "symbol": "circle"
         },
         "mode": "markers",
         "name": "Trust",
         "orientation": "v",
         "showlegend": true,
         "type": "scatter",
         "x": [
          25,
          70730475,
          500,
          0,
          10775767,
          26050000,
          9882058,
          12257171,
          19659800,
          75500002,
          12350027,
          29054208,
          500,
          9026357,
          6962250,
          0,
          94464186,
          26423872,
          56718889
         ],
         "xaxis": "x",
         "y": [
          0,
          0,
          7993768,
          10305563,
          0,
          0,
          201,
          0,
          0,
          0,
          0,
          2125,
          17580311,
          0,
          0,
          179415996,
          4280,
          0,
          0
         ],
         "yaxis": "y"
        }
       ],
       "frames": [
        {
         "data": [
          {
           "hovertemplate": "<b>%{hovertext}</b><br><br>Category=Education<br>Cycle=2020<br>To Dems & Liberals=%{x}<br>To Repubs and Conservs=%{y}<br>Total Contributions=%{marker.size}<extra></extra>",
           "hovertext": [
            "University of California"
           ],
           "legendgroup": "Education",
           "marker": {
            "color": "#636efa",
            "size": [
             33576314
            ],
            "sizemode": "area",
            "sizeref": 70287.06555555556,
            "symbol": "circle"
           },
           "mode": "markers",
           "name": "Education",
           "orientation": "v",
           "showlegend": true,
           "type": "scatter",
           "x": [
            32529446
           ],
           "xaxis": "x",
           "y": [
            802563
           ],
           "yaxis": "y"
          },
          {
           "hovertemplate": "<b>%{hovertext}</b><br><br>Category=Energy<br>Cycle=2020<br>To Dems & Liberals=%{x}<br>To Repubs and Conservs=%{y}<br>Total Contributions=%{marker.size}<extra></extra>",
           "hovertext": [
            "Energy Transfer LP",
            "Koch Industries",
            "Marathon Petroleum"
           ],
           "legendgroup": "Energy",
           "marker": {
            "color": "#EF553B",
            "size": [
             14674580,
             26703253,
             6480526
            ],
            "sizemode": "area",
            "sizeref": 70287.06555555556,
            "symbol": "circle"
           },
           "mode": "markers",
           "name": "Energy",
           "orientation": "v",
           "showlegend": true,
           "type": "scatter",
           "x": [
            45409,
            405189,
            241974
           ],
           "xaxis": "x",
           "y": [
            14629074,
            26246366,
            6238489
           ],
           "yaxis": "y"
          },
          {
           "hovertemplate": "<b>%{hovertext}</b><br><br>Category=Finance/Insurance/Real Estate<br>Cycle=2020<br>To Dems & Liberals=%{x}<br>To Repubs and Conservs=%{y}<br>Total Contributions=%{marker.size}<extra></extra>",
           "hovertext": [
            "Bain Capital",
            "Baupost Group",
            "Blackstone Group",
            "Bloomberg LP",
            "Charles Schwab Corp",
            "Citadel LLC",
            "Elliott Management",
            "Euclidean Capital",
            "Fahr LLC",
            "Intercontinental Exchange Inc",
            "Lone Pine Capital",
            "Marcus & Millichap",
            "National Assn of Realtors",
            "Paloma Partners",
            "Renaissance Technologies",
            "Ryan Specialty Group",
            "Soros Fund Management",
            "Stephens Group",
            "Susquehanna International Group",
            "Wicklow Capital"
           ],
           "legendgroup": "Finance/Insurance/Real Estate",
           "marker": {
            "color": "#00cc96",
            "size": [
             30857523,
             7262135,
             58610728,
             253033436,
             40756670,
             87504144,
             24091809,
             30795103,
             143848528,
             13342871,
             15233025,
             22965862,
             13665382,
             53252773,
             36838542,
             15134992,
             20239421,
             18015666,
             38411615,
             7491963
            ],
            "sizemode": "area",
            "sizeref": 70287.06555555556,
            "symbol": "circle"
           },
           "mode": "markers",
           "name": "Finance/Insurance/Real Estate",
           "orientation": "v",
           "showlegend": true,
           "type": "scatter",
           "x": [
            29990791,
            6091435,
            7942861,
            252193134,
            1203893,
            612542,
            387830,
            30786703,
            143846520,
            135144,
            15221725,
            22687603,
            3636873,
            53203863,
            28738958,
            42858,
            20216321,
            9280,
            166985,
            6662963
           ],
           "xaxis": "x",
           "y": [
            345051,
            440300,
            50660403,
            80823,
            39548175,
            86885484,
            23424777,
            0,
            0,
            13205956,
            100,
            275256,
            3430107,
            5600,
            7888834,
            15092063,
            23100,
            18006359,
            37415732,
            729000
           ],
           "yaxis": "y"
          },
          {
           "hovertemplate": "<b>%{hovertext}</b><br><br>Category=Food<br>Cycle=2020<br>To Dems & Liberals=%{x}<br>To Repubs and Conservs=%{y}<br>Total Contributions=%{marker.size}<extra></extra>",
           "hovertext": [
            "Mountaire Corp"
           ],
           "legendgroup": "Food",
           "marker": {
            "color": "#ab63fa",
            "size": [
             22238605
            ],
            "sizemode": "area",
            "sizeref": 70287.06555555556,
            "symbol": "circle"
           },
           "mode": "markers",
           "name": "Food",
           "orientation": "v",
           "showlegend": true,
           "type": "scatter",
           "x": [
            20
           ],
           "xaxis": "x",
           "y": [
            22238585
           ],
           "yaxis": "y"
          },
          {
           "hovertemplate": "<b>%{hovertext}</b><br><br>Category=Healthcare<br>Cycle=2020<br>To Dems & Liberals=%{x}<br>To Repubs and Conservs=%{y}<br>Total Contributions=%{marker.size}<extra></extra>",
           "hovertext": [
            "Adelson Clinic for Drug Abuse Treatment & Research",
            "Greater New York Hospital Assn"
           ],
           "legendgroup": "Healthcare",
           "marker": {
            "color": "#FFA15A",
            "size": [
             170313800,
             6687369
            ],
            "sizemode": "area",
            "sizeref": 70287.06555555556,
            "symbol": "circle"
           },
           "mode": "markers",
           "name": "Healthcare",
           "orientation": "v",
           "showlegend": true,
           "type": "scatter",
           "x": [
            0,
            6214945
           ],
           "xaxis": "x",
           "y": [
            170313800,
            472424
           ],
           "yaxis": "y"
          },
          {
           "hovertemplate": "<b>%{hovertext}</b><br><br>Category=Labor<br>Cycle=2020<br>To Dems & Liberals=%{x}<br>To Repubs and Conservs=%{y}<br>Total Contributions=%{marker.size}<extra></extra>",
           "hovertext": [
            "American Federation of State/Cnty/Munic Employees",
            "American Federation of Teachers",
            "Carpenters & Joiners Union",
            "International Brotherhood of Electrical Workers",
            "Laborers Union",
            "National Education Assn",
            "Operating Engineers Union",
            "Service Employees International Union",
            "United Food & Commercial Workers Union"
           ],
           "legendgroup": "Labor",
           "marker": {
            "color": "#19d3f3",
            "size": [
             33563702,
             33466034,
             54495997,
             23744226,
             41703612,
             14488532,
             21193657,
             43614527,
             6766152
            ],
            "sizemode": "area",
            "sizeref": 70287.06555555556,
            "symbol": "circle"
           },
           "mode": "markers",
           "name": "Labor",
           "orientation": "v",
           "showlegend": true,
           "type": "scatter",
           "x": [
            33510590,
            33395241,
            53432141,
            23229423,
            40240055,
            14347659,
            19609738,
            43567611,
            6744754
           ],
           "xaxis": "x",
           "y": [
            14061,
            20458,
            1058691,
            498992,
            1443813,
            120597,
            1622268,
            12744,
            18750
           ],
           "yaxis": "y"
          },
          {
           "hovertemplate": "<b>%{hovertext}</b><br><br>Category=Misc Business<br>Cycle=2020<br>To Dems & Liberals=%{x}<br>To Repubs and Conservs=%{y}<br>Total Contributions=%{marker.size}<extra></extra>",
           "hovertext": [
            "Las Vegas Sands",
            "Reyes Holdings",
            "Uline Inc"
           ],
           "legendgroup": "Misc Business",
           "marker": {
            "color": "#FF6692",
            "size": [
             171585961,
             20084232,
             108112823
            ],
            "sizemode": "area",
            "sizeref": 70287.06555555556,
            "symbol": "circle"
           },
           "mode": "markers",
           "name": "Misc Business",
           "orientation": "v",
           "showlegend": true,
           "type": "scatter",
           "x": [
            26957,
            23579,
            25509
           ],
           "xaxis": "x",
           "y": [
            171556715,
            20060476,
            108087169
           ],
           "yaxis": "y"
          },
          {
           "hovertemplate": "<b>%{hovertext}</b><br><br>Category=Technology<br>Cycle=2020<br>To Dems & Liberals=%{x}<br>To Repubs and Conservs=%{y}<br>Total Contributions=%{marker.size}<extra></extra>",
           "hovertext": [
            "AT&T Inc",
            "Alphabet Inc",
            "Amazon.com",
            "Asana",
            "Comcast Corp",
            "Microsoft Corp",
            "Newsweb Corp",
            "Walt Disney Co"
           ],
           "legendgroup": "Technology",
           "marker": {
            "color": "#B6E880",
            "size": [
             21762599,
             35942476,
             26249998,
             57584006,
             15466309,
             35330526,
             32170975,
             19754894
            ],
            "sizemode": "area",
            "sizeref": 70287.06555555556,
            "symbol": "circle"
           },
           "mode": "markers",
           "name": "Technology",
           "orientation": "v",
           "showlegend": true,
           "type": "scatter",
           "x": [
            14152607,
            32932939,
            13038984,
            57580767,
            11798613,
            31183877,
            32168175,
            7660755
           ],
           "xaxis": "x",
           "y": [
            7527391,
            2654647,
            2889146,
            250,
            3601180,
            3418414,
            0,
            12040521
           ],
           "yaxis": "y"
          },
          {
           "hovertemplate": "<b>%{hovertext}</b><br><br>Category=Trust<br>Cycle=2020<br>To Dems & Liberals=%{x}<br>To Repubs and Conservs=%{y}<br>Total Contributions=%{marker.size}<extra></extra>",
           "hovertext": [
            "Action Now Initiative",
            "America Votes",
            "Bernard Marcus Family Foundation",
            "Club for Growth",
            "Democratic Governors Assn",
            "Duty & Honor",
            "EMILY's List",
            "Environment America",
            "Fair Fight PAC",
            "Fund for Policy Reform",
            "House Majority PAC",
            "League of Conservation Voters",
            "Marcus Foundation",
            "NextGen Climate Action",
            "Samerian Foundation",
            "Senate Leadership Fund",
            "Senate Majority PAC",
            "Simon Youth Foundation",
            "Sixteen Thirty Fund"
           ],
           "legendgroup": "Trust",
           "marker": {
            "color": "#FF97FF",
            "size": [
             9878025,
             70730484,
             7994268,
             10305563,
             10775767,
             26050000,
             9877324,
             12257171,
             19659800,
             75500002,
             12350027,
             29100348,
             17580811,
             9026357,
             6930150,
             179415996,
             94468570,
             26423874,
             56718914
            ],
            "sizemode": "area",
            "sizeref": 70287.06555555556,
            "symbol": "circle"
           },
           "mode": "markers",
           "name": "Trust",
           "orientation": "v",
           "showlegend": true,
           "type": "scatter",
           "x": [
            25,
            70730475,
            500,
            0,
            10775767,
            26050000,
            9882058,
            12257171,
            19659800,
            75500002,
            12350027,
            29054208,
            500,
            9026357,
            6962250,
            0,
            94464186,
            26423872,
            56718889
           ],
           "xaxis": "x",
           "y": [
            0,
            0,
            7993768,
            10305563,
            0,
            0,
            201,
            0,
            0,
            0,
            0,
            2125,
            17580311,
            0,
            0,
            179415996,
            4280,
            0,
            0
           ],
           "yaxis": "y"
          }
         ],
         "name": "2020"
        },
        {
         "data": [
          {
           "hovertemplate": "<b>%{hovertext}</b><br><br>Category=Energy<br>Cycle=2016<br>To Dems & Liberals=%{x}<br>To Repubs and Conservs=%{y}<br>Total Contributions=%{marker.size}<extra></extra>",
           "hovertext": [
            "Alliance Resource Partners",
            "Koch Industries"
           ],
           "legendgroup": "Energy",
           "marker": {
            "color": "#EF553B",
            "size": [
             5165495,
             22507038
            ],
            "sizemode": "area",
            "sizeref": 70287.06555555556,
            "symbol": "circle"
           },
           "mode": "markers",
           "name": "Energy",
           "orientation": "v",
           "showlegend": true,
           "type": "scatter",
           "x": [
            2000,
            94669
           ],
           "xaxis": "x",
           "y": [
            5163495,
            22523106
           ],
           "yaxis": "y"
          },
          {
           "hovertemplate": "<b>%{hovertext}</b><br><br>Category=Finance/Insurance/Real Estate<br>Cycle=2016<br>To Dems & Liberals=%{x}<br>To Repubs and Conservs=%{y}<br>Total Contributions=%{marker.size}<extra></extra>",
           "hovertext": [
            "Baupost Group",
            "Berkshire Hathaway",
            "Blackstone Group",
            "Bloomberg LP",
            "Citadel LLC",
            "Elliott Management",
            "Fahr LLC",
            "Goldman Sachs",
            "Kainos Capital",
            "National Assn of Realtors",
            "Paloma Partners",
            "Pritzker Group",
            "Renaissance Technologies",
            "Saban Capital Group",
            "Soros Fund Management",
            "Stephens Group"
           ],
           "legendgroup": "Finance/Insurance/Real Estate",
           "marker": {
            "color": "#00cc96",
            "size": [
             3591640,
             3641504,
             9408248,
             53728934,
             17704540,
             42299673,
             165868654,
             4396469,
             8458688,
             4924655,
             41938400,
             24232583,
             78123877,
             15864226,
             32674552,
             19888906
            ],
            "sizemode": "area",
            "sizeref": 70287.06555555556,
            "symbol": "circle"
           },
           "mode": "markers",
           "name": "Finance/Insurance/Real Estate",
           "orientation": "v",
           "showlegend": true,
           "type": "scatter",
           "x": [
            315550,
            1314303,
            2226465,
            53075860,
            252827,
            53977,
            165868654,
            1796989,
            8405988,
            2353479,
            41935100,
            23221401,
            42637628,
            15883226,
            31728652,
            43987
           ],
           "xaxis": "x",
           "y": [
            3276090,
            2337038,
            7184283,
            575816,
            17551713,
            42242996,
            0,
            2646730,
            2700,
            2556950,
            3300,
            917940,
            35047649,
            1000,
            718400,
            19861219
           ],
           "yaxis": "y"
          },
          {
           "hovertemplate": "<b>%{hovertext}</b><br><br>Category=Food<br>Cycle=2016<br>To Dems & Liberals=%{x}<br>To Repubs and Conservs=%{y}<br>Total Contributions=%{marker.size}<extra></extra>",
           "hovertext": [
            "Mountaire Corp"
           ],
           "legendgroup": "Food",
           "marker": {
            "color": "#ab63fa",
            "size": [
             22697055
            ],
            "sizemode": "area",
            "sizeref": 70287.06555555556,
            "symbol": "circle"
           },
           "mode": "markers",
           "name": "Food",
           "orientation": "v",
           "showlegend": true,
           "type": "scatter",
           "x": [
            0
           ],
           "xaxis": "x",
           "y": [
            22697055
           ],
           "yaxis": "y"
          },
          {
           "hovertemplate": "<b>%{hovertext}</b><br><br>Category=Healthcare<br>Cycle=2016<br>To Dems & Liberals=%{x}<br>To Repubs and Conservs=%{y}<br>Total Contributions=%{marker.size}<extra></extra>",
           "hovertext": [
            "Adelson Clinic for Drug Abuse Treatment & Research",
            "Blue Cross/Blue Shield"
           ],
           "legendgroup": "Healthcare",
           "marker": {
            "color": "#FFA15A",
            "size": [
             38852700,
             14503878
            ],
            "sizemode": "area",
            "sizeref": 70287.06555555556,
            "symbol": "circle"
           },
           "mode": "markers",
           "name": "Healthcare",
           "orientation": "v",
           "showlegend": true,
           "type": "scatter",
           "x": [
            40000,
            7383349
           ],
           "xaxis": "x",
           "y": [
            38835400,
            7125620
           ],
           "yaxis": "y"
          },
          {
           "hovertemplate": "<b>%{hovertext}</b><br><br>Category=Labor<br>Cycle=2016<br>To Dems & Liberals=%{x}<br>To Repubs and Conservs=%{y}<br>Total Contributions=%{marker.size}<extra></extra>",
           "hovertext": [
            "American Bankers Assn",
            "American Federation of Government Employees",
            "American Federation of State/Cnty/Munic Employees",
            "American Federation of Teachers",
            "Carpenters & Joiners Union",
            "International Brotherhood of Electrical Workers",
            "Laborers Union",
            "National Air Traffic Controllers Assn",
            "National Assn of Letter Carriers",
            "National Education Assn",
            "Operating Engineers Union",
            "Plumbers/Pipefitters Union",
            "Service Employees International Union",
            "Teamsters Union",
            "United Food & Commercial Workers Union"
           ],
           "legendgroup": "Labor",
           "marker": {
            "color": "#19d3f3",
            "size": [
             3612785,
             3725846,
             27838637,
             25357430,
             20072126,
             16658468,
             23958156,
             3891200,
             4190546,
             18931767,
             14559443,
             15008865,
             16468746,
             4153277,
             6131200
            ],
            "sizemode": "area",
            "sizeref": 70287.06555555556,
            "symbol": "circle"
           },
           "mode": "markers",
           "name": "Labor",
           "orientation": "v",
           "showlegend": true,
           "type": "scatter",
           "x": [
            858200,
            3663096,
            27773527,
            25303882,
            19165949,
            16351786,
            22897526,
            3203700,
            4105046,
            18256710,
            12930088,
            14263065,
            16355636,
            4030552,
            6091470
           ],
           "xaxis": "x",
           "y": [
            2752085,
            62250,
            20475,
            38200,
            901427,
            245582,
            1057030,
            684000,
            82500,
            671850,
            1773202,
            708300,
            3100,
            126000,
            24730
           ],
           "yaxis": "y"
          },
          {
           "hovertemplate": "<b>%{hovertext}</b><br><br>Category=Misc Business<br>Cycle=2016<br>To Dems & Liberals=%{x}<br>To Repubs and Conservs=%{y}<br>Total Contributions=%{marker.size}<extra></extra>",
           "hovertext": [
            "Home Depot",
            "Honeywell International",
            "Las Vegas Sands",
            "National Beer Wholesalers Assn",
            "Uline Inc"
           ],
           "legendgroup": "Misc Business",
           "marker": {
            "color": "#FF6692",
            "size": [
             3707711,
             5185992,
             51130020,
             4010400,
             29970597
            ],
            "sizemode": "area",
            "sizeref": 70287.06555555556,
            "symbol": "circle"
           },
           "mode": "markers",
           "name": "Misc Business",
           "orientation": "v",
           "showlegend": true,
           "type": "scatter",
           "x": [
            733430,
            2248437,
            54536,
            1703400,
            1072
           ],
           "xaxis": "x",
           "y": [
            2974281,
            2934555,
            51098184,
            2304500,
            31182125
           ],
           "yaxis": "y"
          },
          {
           "hovertemplate": "<b>%{hovertext}</b><br><br>Category=Technology<br>Cycle=2016<br>To Dems & Liberals=%{x}<br>To Repubs and Conservs=%{y}<br>Total Contributions=%{marker.size}<extra></extra>",
           "hovertext": [
            "AT&T Inc",
            "Alphabet Inc",
            "Asana",
            "Comcast Corp",
            "General Electric",
            "Google Inc",
            "Microsoft Corp",
            "Newsweb Corp",
            "Raytheon Technologies",
            "Verizon Communications",
            "Walt Disney Co"
           ],
           "legendgroup": "Technology",
           "marker": {
            "color": "#B6E880",
            "size": [
             16200788,
             9151867,
             18010376,
             18094944,
             4076109,
             3859359,
             3442690,
             48468740,
             5625488,
             3444950,
             11543099
            ],
            "sizemode": "area",
            "sizeref": 70287.06555555556,
            "symbol": "circle"
           },
           "mode": "markers",
           "name": "Technology",
           "orientation": "v",
           "showlegend": true,
           "type": "scatter",
           "x": [
            5454902,
            6179872,
            18009626,
            12354438,
            1645522,
            2710748,
            2168514,
            48463340,
            2170576,
            1346208,
            3815915
           ],
           "xaxis": "x",
           "y": [
            10715777,
            2066968,
            0,
            5752104,
            2431612,
            1084411,
            1272698,
            0,
            3456999,
            2092762,
            7720966
           ],
           "yaxis": "y"
          },
          {
           "hovertemplate": "<b>%{hovertext}</b><br><br>Category=Trust<br>Cycle=2016<br>To Dems & Liberals=%{x}<br>To Repubs and Conservs=%{y}<br>Total Contributions=%{marker.size}<extra></extra>",
           "hovertext": [
            "Bernard Marcus Family Foundation",
            "City of Philadelphia, PA",
            "Commonwealth of Pennsylvania",
            "EMILY's List",
            "For Our Future",
            "Good Ventures",
            "Jobs Ohio",
            "Laurel Foundation",
            "League of Conservation Voters",
            "McMahon Ventures",
            "NextGen Climate Action",
            "Priorities USA/Priorities USA Action",
            "Senate Leadership Fund",
            "Senate Majority PAC"
           ],
           "legendgroup": "Trust",
           "marker": {
            "color": "#FF97FF",
            "size": [
             13278450,
             9218439,
             10456121,
             4133697,
             18542614,
             8996400,
             10001000,
             9021696,
             13060444,
             10931259,
             38876998,
             33354790,
             22476800,
             22815934
            ],
            "sizemode": "area",
            "sizeref": 70287.06555555556,
            "symbol": "circle"
           },
           "mode": "markers",
           "name": "Trust",
           "orientation": "v",
           "showlegend": true,
           "type": "scatter",
           "x": [
            0,
            9207198,
            10376628,
            4133697,
            18542614,
            6996400,
            0,
            8908921,
            12980422,
            0,
            38876998,
            33354790,
            0,
            22790934
           ],
           "xaxis": "x",
           "y": [
            13278450,
            11241,
            76489,
            0,
            0,
            0,
            10001000,
            75,
            75472,
            10931259,
            0,
            0,
            22476800,
            0
           ],
           "yaxis": "y"
          },
          {
           "hovertemplate": "<b>%{hovertext}</b><br><br>Category=Construction<br>Cycle=2016<br>To Dems & Liberals=%{x}<br>To Repubs and Conservs=%{y}<br>Total Contributions=%{marker.size}<extra></extra>",
           "hovertext": [
            "ABC Supply",
            "TAMKO Building Products"
           ],
           "legendgroup": "Construction",
           "marker": {
            "color": "#FECB52",
            "size": [
             14222545,
             9779286
            ],
            "sizemode": "area",
            "sizeref": 70287.06555555556,
            "symbol": "circle"
           },
           "mode": "markers",
           "name": "Construction",
           "orientation": "v",
           "showlegend": true,
           "type": "scatter",
           "x": [
            1625,
            1176
           ],
           "xaxis": "x",
           "y": [
            14220645,
            9978110
           ],
           "yaxis": "y"
          },
          {
           "hovertemplate": "<b>%{hovertext}</b><br><br>Category=Defence<br>Cycle=2016<br>To Dems & Liberals=%{x}<br>To Repubs and Conservs=%{y}<br>Total Contributions=%{marker.size}<extra></extra>",
           "hovertext": [
            "Lockheed Martin",
            "Northrop Grumman"
           ],
           "legendgroup": "Defence",
           "marker": {
            "color": "#636efa",
            "size": [
             4138952,
             4057879
            ],
            "sizemode": "area",
            "sizeref": 70287.06555555556,
            "symbol": "circle"
           },
           "mode": "markers",
           "name": "Defence",
           "orientation": "v",
           "showlegend": true,
           "type": "scatter",
           "x": [
            1689637,
            1715803
           ],
           "xaxis": "x",
           "y": [
            2442176,
            2343681
           ],
           "yaxis": "y"
          },
          {
           "hovertemplate": "<b>%{hovertext}</b><br><br>Category=Hospitality<br>Cycle=2016<br>To Dems & Liberals=%{x}<br>To Repubs and Conservs=%{y}<br>Total Contributions=%{marker.size}<extra></extra>",
           "hovertext": [
            "Starr Companies"
           ],
           "legendgroup": "Hospitality",
           "marker": {
            "color": "#EF553B",
            "size": [
             15343105
            ],
            "sizemode": "area",
            "sizeref": 70287.06555555556,
            "symbol": "circle"
           },
           "mode": "markers",
           "name": "Hospitality",
           "orientation": "v",
           "showlegend": true,
           "type": "scatter",
           "x": [
            11744
           ],
           "xaxis": "x",
           "y": [
            15331361
           ],
           "yaxis": "y"
          },
          {
           "hovertemplate": "<b>%{hovertext}</b><br><br>Category=Law<br>Cycle=2016<br>To Dems & Liberals=%{x}<br>To Repubs and Conservs=%{y}<br>Total Contributions=%{marker.size}<extra></extra>",
           "hovertext": [
            "American Assn for Justice"
           ],
           "legendgroup": "Law",
           "marker": {
            "color": "#00cc96",
            "size": [
             4744015
            ],
            "sizemode": "area",
            "sizeref": 70287.06555555556,
            "symbol": "circle"
           },
           "mode": "markers",
           "name": "Law",
           "orientation": "v",
           "showlegend": true,
           "type": "scatter",
           "x": [
            4644326
           ],
           "xaxis": "x",
           "y": [
            104689
           ],
           "yaxis": "y"
          },
          {
           "hovertemplate": "<b>%{hovertext}</b><br><br>Category=Sports<br>Cycle=2016<br>To Dems & Liberals=%{x}<br>To Repubs and Conservs=%{y}<br>Total Contributions=%{marker.size}<extra></extra>",
           "hovertext": [
            "Chicago Cubs",
            "Houston Texans"
           ],
           "legendgroup": "Sports",
           "marker": {
            "color": "#ab63fa",
            "size": [
             15382238,
             15259610
            ],
            "sizemode": "area",
            "sizeref": 70287.06555555556,
            "symbol": "circle"
           },
           "mode": "markers",
           "name": "Sports",
           "orientation": "v",
           "showlegend": true,
           "type": "scatter",
           "x": [
            5450,
            2700
           ],
           "xaxis": "x",
           "y": [
            15376788,
            15259510
           ],
           "yaxis": "y"
          }
         ],
         "name": "2016"
        },
        {
         "data": [
          {
           "hovertemplate": "<b>%{hovertext}</b><br><br>Category=Education<br>Cycle=2012<br>To Dems & Liberals=%{x}<br>To Repubs and Conservs=%{y}<br>Total Contributions=%{marker.size}<extra></extra>",
           "hovertext": [
            "University of California"
           ],
           "legendgroup": "Education",
           "marker": {
            "color": "#636efa",
            "size": [
             5141314
            ],
            "sizemode": "area",
            "sizeref": 70287.06555555556,
            "symbol": "circle"
           },
           "mode": "markers",
           "name": "Education",
           "orientation": "v",
           "showlegend": true,
           "type": "scatter",
           "x": [
            4817846
           ],
           "xaxis": "x",
           "y": [
            308058
           ],
           "yaxis": "y"
          },
          {
           "hovertemplate": "<b>%{hovertext}</b><br><br>Category=Energy<br>Cycle=2012<br>To Dems & Liberals=%{x}<br>To Repubs and Conservs=%{y}<br>Total Contributions=%{marker.size}<extra></extra>",
           "hovertext": [
            "Alliance Resource Partners",
            "Koch Industries",
            "Oxbow Corp"
           ],
           "legendgroup": "Energy",
           "marker": {
            "color": "#EF553B",
            "size": [
             8772275,
             2674413,
             5005050
            ],
            "sizemode": "area",
            "sizeref": 70287.06555555556,
            "symbol": "circle"
           },
           "mode": "markers",
           "name": "Energy",
           "orientation": "v",
           "showlegend": true,
           "type": "scatter",
           "x": [
            77650,
            241999,
            20000
           ],
           "xaxis": "x",
           "y": [
            8694625,
            2414714,
            4980050
           ],
           "yaxis": "y"
          },
          {
           "hovertemplate": "<b>%{hovertext}</b><br><br>Category=Finance/Insurance/Real Estate<br>Cycle=2012<br>To Dems & Liberals=%{x}<br>To Repubs and Conservs=%{y}<br>Total Contributions=%{marker.size}<extra></extra>",
           "hovertext": [
            "Bain Capital",
            "Bank of America",
            "Berkshire Hathaway",
            "Blackstone Group",
            "Clarium Capital Management",
            "Contran Corp",
            "Deloitte LLP",
            "Elliott Management",
            "Goldman Sachs",
            "Hugo Enterprises",
            "JPMorgan Chase & Co",
            "JW Childs Assoc",
            "Morgan Stanley",
            "National Assn of Realtors",
            "New York Life Insurance",
            "Perry Homes",
            "PricewaterhouseCoopers",
            "Public Storage Inc",
            "Renaissance Technologies",
            "Wells Fargo"
           ],
           "legendgroup": "Finance/Insurance/Real Estate",
           "marker": {
            "color": "#00cc96",
            "size": [
             5728208,
             8275934,
             7402175,
             5196410,
             4840701,
             31742618,
             7545793,
             6351931,
             12281327,
             13303454,
             5495228,
             4447450,
             4354821,
             9420956,
             2911647,
             32187940,
             2671103,
             4837950,
             17498450,
             4551022
            ],
            "sizemode": "area",
            "sizeref": 70287.06555555556,
            "symbol": "circle"
           },
           "mode": "markers",
           "name": "Finance/Insurance/Real Estate",
           "orientation": "v",
           "showlegend": true,
           "type": "scatter",
           "x": [
            705510,
            2486971,
            2447192,
            1679546,
            2500,
            100268,
            2892109,
            1050,
            3162021,
            2500,
            2055475,
            4300,
            1236073,
            4690703,
            1512217,
            4000,
            1171600,
            1000,
            11611096,
            1251924
           ],
           "xaxis": "x",
           "y": [
            5014698,
            5755334,
            4933563,
            3516634,
            4838201,
            31642350,
            4631819,
            6352981,
            9121806,
            12795954,
            3432369,
            4443150,
            3113698,
            4673003,
            1397930,
            31618940,
            1498303,
            4836950,
            5887354,
            3288797
           ],
           "yaxis": "y"
          },
          {
           "hovertemplate": "<b>%{hovertext}</b><br><br>Category=Healthcare<br>Cycle=2012<br>To Dems & Liberals=%{x}<br>To Repubs and Conservs=%{y}<br>Total Contributions=%{marker.size}<extra></extra>",
           "hovertext": [
            "Adelson Clinic for Drug Abuse Treatment & Research",
            "Blue Cross/Blue Shield",
            "Pharmaceutical Product Development Inc"
           ],
           "legendgroup": "Healthcare",
           "marker": {
            "color": "#FFA15A",
            "size": [
             42118700,
             8686172,
             12990110
            ],
            "sizemode": "area",
            "sizeref": 70287.06555555556,
            "symbol": "circle"
           },
           "mode": "markers",
           "name": "Healthcare",
           "orientation": "v",
           "showlegend": true,
           "type": "scatter",
           "x": [
            0,
            3051851,
            2000
           ],
           "xaxis": "x",
           "y": [
            42118700,
            5625876,
            12988110
           ],
           "yaxis": "y"
          },
          {
           "hovertemplate": "<b>%{hovertext}</b><br><br>Category=Labor<br>Cycle=2012<br>To Dems & Liberals=%{x}<br>To Repubs and Conservs=%{y}<br>Total Contributions=%{marker.size}<extra></extra>",
           "hovertext": [
            "American Bankers Assn",
            "American Federation of State/Cnty/Munic Employees",
            "American Federation of Teachers",
            "Carpenters & Joiners Union",
            "Communications Workers of America",
            "Credit Union National Assn",
            "International Assn of Fire Fighters",
            "International Brotherhood of Electrical Workers",
            "Laborers Union",
            "Machinists/Aerospace Workers Union",
            "National Air Traffic Controllers Assn",
            "National Assn of Home Builders",
            "National Assn of Letter Carriers",
            "National Education Assn",
            "Operating Engineers Union",
            "Plumbers/Pipefitters Union",
            "Service Employees International Union",
            "Teamsters Union",
            "United Auto Workers",
            "United Food & Commercial Workers Union"
           ],
           "legendgroup": "Labor",
           "marker": {
            "color": "#19d3f3",
            "size": [
             3728174,
             20409799,
             15174342,
             11638795,
             2788915,
             2825106,
             3758650,
             12156889,
             12720033,
             2564600,
             7000787,
             2732600,
             8724750,
             11829395,
             8485054,
             6286155,
             22792595,
             9345018,
             4566694,
             9184986
            ],
            "sizemode": "area",
            "sizeref": 70287.06555555556,
            "symbol": "circle"
           },
           "mode": "markers",
           "name": "Labor",
           "orientation": "v",
           "showlegend": true,
           "type": "scatter",
           "x": [
            1184655,
            20252539,
            14775842,
            10984495,
            2700315,
            1546260,
            3205050,
            11882785,
            11927252,
            2515600,
            5868787,
            1011800,
            8589750,
            10733572,
            7158403,
            6140253,
            22546255,
            9044468,
            4539044,
            9141486
           ],
           "xaxis": "x",
           "y": [
            2536019,
            34300,
            33500,
            639300,
            40100,
            1265846,
            529600,
            175804,
            502800,
            34000,
            1122000,
            1700800,
            124000,
            797173,
            1290651,
            133402,
            14250,
            214300,
            18500,
            15000
           ],
           "yaxis": "y"
          },
          {
           "hovertemplate": "<b>%{hovertext}</b><br><br>Category=Misc Business<br>Cycle=2012<br>To Dems & Liberals=%{x}<br>To Repubs and Conservs=%{y}<br>Total Contributions=%{marker.size}<extra></extra>",
           "hovertext": [
            "Honeywell International",
            "Las Vegas Sands",
            "National Beer Wholesalers Assn",
            "Specialty Group Inc",
            "TRT Holdings"
           ],
           "legendgroup": "Misc Business",
           "marker": {
            "color": "#FF6692",
            "size": [
             10061835,
             52850975,
             3820591,
             10575000,
             12431781
            ],
            "sizemode": "area",
            "sizeref": 70287.06555555556,
            "symbol": "circle"
           },
           "mode": "markers",
           "name": "Misc Business",
           "orientation": "v",
           "showlegend": true,
           "type": "scatter",
           "x": [
            4556125,
            2000,
            2044841,
            0,
            1500
           ],
           "xaxis": "x",
           "y": [
            5480210,
            52848975,
            1770500,
            10575000,
            12430181
           ],
           "yaxis": "y"
          },
          {
           "hovertemplate": "<b>%{hovertext}</b><br><br>Category=Technology<br>Cycle=2012<br>To Dems & Liberals=%{x}<br>To Repubs and Conservs=%{y}<br>Total Contributions=%{marker.size}<extra></extra>",
           "hovertext": [
            "AT&T Inc",
            "Comcast Corp",
            "DreamWorks SKG",
            "General Electric",
            "Microsoft Corp",
            "Newsweb Corp",
            "Oracle Corp",
            "Raytheon Technologies"
           ],
           "legendgroup": "Technology",
           "marker": {
            "color": "#B6E880",
            "size": [
             10121664,
             9646796,
             4944716,
             3493090,
             7905752,
             14720700,
             4582396,
             9717251
            ],
            "sizemode": "area",
            "sizeref": 70287.06555555556,
            "symbol": "circle"
           },
           "mode": "markers",
           "name": "Technology",
           "orientation": "v",
           "showlegend": true,
           "type": "scatter",
           "x": [
            3845535,
            5885731,
            4939716,
            1971456,
            5044145,
            14715700,
            792847,
            4446615
           ],
           "xaxis": "x",
           "y": [
            6242129,
            3755117,
            5000,
            1511834,
            2841512,
            5000,
            3788279,
            5223571
           ],
           "yaxis": "y"
          },
          {
           "hovertemplate": "<b>%{hovertext}</b><br><br>Category=Trust<br>Cycle=2012<br>To Dems & Liberals=%{x}<br>To Repubs and Conservs=%{y}<br>Total Contributions=%{marker.size}<extra></extra>",
           "hovertext": [
            "City of New York, NY",
            "Club for Growth",
            "Democratic Attorneys General Assn",
            "Democratic Governors Assn",
            "EMILY's List",
            "Harold C Simmons Family Trust",
            "Sheet Metal, Air, Rail & Transportation Union"
           ],
           "legendgroup": "Trust",
           "marker": {
            "color": "#FF97FF",
            "size": [
             14612794,
             4018872,
             3335000,
             8887000,
             2767207,
             4000000,
             3755850
            ],
            "sizemode": "area",
            "sizeref": 70287.06555555556,
            "symbol": "circle"
           },
           "mode": "markers",
           "name": "Trust",
           "orientation": "v",
           "showlegend": true,
           "type": "scatter",
           "x": [
            13854948,
            0,
            0,
            5552000,
            2767207,
            0,
            3585140
           ],
           "xaxis": "x",
           "y": [
            131036,
            3800791,
            0,
            0,
            0,
            4000000,
            159210
           ],
           "yaxis": "y"
          },
          {
           "hovertemplate": "<b>%{hovertext}</b><br><br>Category=Defence<br>Cycle=2012<br>To Dems & Liberals=%{x}<br>To Repubs and Conservs=%{y}<br>Total Contributions=%{marker.size}<extra></extra>",
           "hovertext": [
            "Lockheed Martin"
           ],
           "legendgroup": "Defence",
           "marker": {
            "color": "#636efa",
            "size": [
             3365696
            ],
            "sizemode": "area",
            "sizeref": 70287.06555555556,
            "symbol": "circle"
           },
           "mode": "markers",
           "name": "Defence",
           "orientation": "v",
           "showlegend": true,
           "type": "scatter",
           "x": [
            1831348
           ],
           "xaxis": "x",
           "y": [
            1526393
           ],
           "yaxis": "y"
          },
          {
           "hovertemplate": "<b>%{hovertext}</b><br><br>Category=Hospitality<br>Cycle=2012<br>To Dems & Liberals=%{x}<br>To Repubs and Conservs=%{y}<br>Total Contributions=%{marker.size}<extra></extra>",
           "hovertext": [
            "American Hospital Assn"
           ],
           "legendgroup": "Hospitality",
           "marker": {
            "color": "#EF553B",
            "size": [
             2582625
            ],
            "sizemode": "area",
            "sizeref": 70287.06555555556,
            "symbol": "circle"
           },
           "mode": "markers",
           "name": "Hospitality",
           "orientation": "v",
           "showlegend": true,
           "type": "scatter",
           "x": [
            1575792
           ],
           "xaxis": "x",
           "y": [
            1000333
           ],
           "yaxis": "y"
          },
          {
           "hovertemplate": "<b>%{hovertext}</b><br><br>Category=Law<br>Cycle=2012<br>To Dems & Liberals=%{x}<br>To Repubs and Conservs=%{y}<br>Total Contributions=%{marker.size}<extra></extra>",
           "hovertext": [
            "American Assn for Justice",
            "Mostyn Law Firm"
           ],
           "legendgroup": "Law",
           "marker": {
            "color": "#00cc96",
            "size": [
             9602394,
             5460391
            ],
            "sizemode": "area",
            "sizeref": 70287.06555555556,
            "symbol": "circle"
           },
           "mode": "markers",
           "name": "Law",
           "orientation": "v",
           "showlegend": true,
           "type": "scatter",
           "x": [
            9295244,
            5442230
           ],
           "xaxis": "x",
           "y": [
            235500,
            18161
           ],
           "yaxis": "y"
          },
          {
           "hovertemplate": "<b>%{hovertext}</b><br><br>Category=Transportation<br>Cycle=2012<br>To Dems & Liberals=%{x}<br>To Repubs and Conservs=%{y}<br>Total Contributions=%{marker.size}<extra></extra>",
           "hovertext": [
            "National Auto Dealers Assn",
            "United Parcel Service"
           ],
           "legendgroup": "Transportation",
           "marker": {
            "color": "#FFA15A",
            "size": [
             2759400,
             2888982
            ],
            "sizemode": "area",
            "sizeref": 70287.06555555556,
            "symbol": "circle"
           },
           "mode": "markers",
           "name": "Transportation",
           "orientation": "v",
           "showlegend": true,
           "type": "scatter",
           "x": [
            1243500,
            1206877
           ],
           "xaxis": "x",
           "y": [
            1510900,
            1665355
           ],
           "yaxis": "y"
          },
          {
           "hovertemplate": "<b>%{hovertext}</b><br><br>Category=Transportation <br>Cycle=2012<br>To Dems & Liberals=%{x}<br>To Repubs and Conservs=%{y}<br>Total Contributions=%{marker.size}<extra></extra>",
           "hovertext": [
            "Boeing Co"
           ],
           "legendgroup": "Transportation ",
           "marker": {
            "color": "#19d3f3",
            "size": [
             3366737
            ],
            "sizemode": "area",
            "sizeref": 70287.06555555556,
            "symbol": "circle"
           },
           "mode": "markers",
           "name": "Transportation ",
           "orientation": "v",
           "showlegend": true,
           "type": "scatter",
           "x": [
            1847340
           ],
           "xaxis": "x",
           "y": [
            1511582
           ],
           "yaxis": "y"
          }
         ],
         "name": "2012"
        }
       ],
       "layout": {
        "legend": {
         "itemsizing": "constant",
         "title": {
          "text": "Category"
         },
         "tracegroupgap": 0
        },
        "margin": {
         "t": 60
        },
        "sliders": [
         {
          "active": 0,
          "currentvalue": {
           "prefix": "Cycle="
          },
          "len": 0.9,
          "pad": {
           "b": 10,
           "t": 60
          },
          "steps": [
           {
            "args": [
             [
              "2020"
             ],
             {
              "frame": {
               "duration": 0,
               "redraw": false
              },
              "fromcurrent": true,
              "mode": "immediate",
              "transition": {
               "duration": 0,
               "easing": "linear"
              }
             }
            ],
            "label": "2020",
            "method": "animate"
           },
           {
            "args": [
             [
              "2016"
             ],
             {
              "frame": {
               "duration": 0,
               "redraw": false
              },
              "fromcurrent": true,
              "mode": "immediate",
              "transition": {
               "duration": 0,
               "easing": "linear"
              }
             }
            ],
            "label": "2016",
            "method": "animate"
           },
           {
            "args": [
             [
              "2012"
             ],
             {
              "frame": {
               "duration": 0,
               "redraw": false
              },
              "fromcurrent": true,
              "mode": "immediate",
              "transition": {
               "duration": 0,
               "easing": "linear"
              }
             }
            ],
            "label": "2012",
            "method": "animate"
           }
          ],
          "x": 0.1,
          "xanchor": "left",
          "y": 0,
          "yanchor": "top"
         }
        ],
        "template": {
         "data": {
          "bar": [
           {
            "error_x": {
             "color": "#2a3f5f"
            },
            "error_y": {
             "color": "#2a3f5f"
            },
            "marker": {
             "line": {
              "color": "#E5ECF6",
              "width": 0.5
             }
            },
            "type": "bar"
           }
          ],
          "barpolar": [
           {
            "marker": {
             "line": {
              "color": "#E5ECF6",
              "width": 0.5
             }
            },
            "type": "barpolar"
           }
          ],
          "carpet": [
           {
            "aaxis": {
             "endlinecolor": "#2a3f5f",
             "gridcolor": "white",
             "linecolor": "white",
             "minorgridcolor": "white",
             "startlinecolor": "#2a3f5f"
            },
            "baxis": {
             "endlinecolor": "#2a3f5f",
             "gridcolor": "white",
             "linecolor": "white",
             "minorgridcolor": "white",
             "startlinecolor": "#2a3f5f"
            },
            "type": "carpet"
           }
          ],
          "choropleth": [
           {
            "colorbar": {
             "outlinewidth": 0,
             "ticks": ""
            },
            "type": "choropleth"
           }
          ],
          "contour": [
           {
            "colorbar": {
             "outlinewidth": 0,
             "ticks": ""
            },
            "colorscale": [
             [
              0,
              "#0d0887"
             ],
             [
              0.1111111111111111,
              "#46039f"
             ],
             [
              0.2222222222222222,
              "#7201a8"
             ],
             [
              0.3333333333333333,
              "#9c179e"
             ],
             [
              0.4444444444444444,
              "#bd3786"
             ],
             [
              0.5555555555555556,
              "#d8576b"
             ],
             [
              0.6666666666666666,
              "#ed7953"
             ],
             [
              0.7777777777777778,
              "#fb9f3a"
             ],
             [
              0.8888888888888888,
              "#fdca26"
             ],
             [
              1,
              "#f0f921"
             ]
            ],
            "type": "contour"
           }
          ],
          "contourcarpet": [
           {
            "colorbar": {
             "outlinewidth": 0,
             "ticks": ""
            },
            "type": "contourcarpet"
           }
          ],
          "heatmap": [
           {
            "colorbar": {
             "outlinewidth": 0,
             "ticks": ""
            },
            "colorscale": [
             [
              0,
              "#0d0887"
             ],
             [
              0.1111111111111111,
              "#46039f"
             ],
             [
              0.2222222222222222,
              "#7201a8"
             ],
             [
              0.3333333333333333,
              "#9c179e"
             ],
             [
              0.4444444444444444,
              "#bd3786"
             ],
             [
              0.5555555555555556,
              "#d8576b"
             ],
             [
              0.6666666666666666,
              "#ed7953"
             ],
             [
              0.7777777777777778,
              "#fb9f3a"
             ],
             [
              0.8888888888888888,
              "#fdca26"
             ],
             [
              1,
              "#f0f921"
             ]
            ],
            "type": "heatmap"
           }
          ],
          "heatmapgl": [
           {
            "colorbar": {
             "outlinewidth": 0,
             "ticks": ""
            },
            "colorscale": [
             [
              0,
              "#0d0887"
             ],
             [
              0.1111111111111111,
              "#46039f"
             ],
             [
              0.2222222222222222,
              "#7201a8"
             ],
             [
              0.3333333333333333,
              "#9c179e"
             ],
             [
              0.4444444444444444,
              "#bd3786"
             ],
             [
              0.5555555555555556,
              "#d8576b"
             ],
             [
              0.6666666666666666,
              "#ed7953"
             ],
             [
              0.7777777777777778,
              "#fb9f3a"
             ],
             [
              0.8888888888888888,
              "#fdca26"
             ],
             [
              1,
              "#f0f921"
             ]
            ],
            "type": "heatmapgl"
           }
          ],
          "histogram": [
           {
            "marker": {
             "colorbar": {
              "outlinewidth": 0,
              "ticks": ""
             }
            },
            "type": "histogram"
           }
          ],
          "histogram2d": [
           {
            "colorbar": {
             "outlinewidth": 0,
             "ticks": ""
            },
            "colorscale": [
             [
              0,
              "#0d0887"
             ],
             [
              0.1111111111111111,
              "#46039f"
             ],
             [
              0.2222222222222222,
              "#7201a8"
             ],
             [
              0.3333333333333333,
              "#9c179e"
             ],
             [
              0.4444444444444444,
              "#bd3786"
             ],
             [
              0.5555555555555556,
              "#d8576b"
             ],
             [
              0.6666666666666666,
              "#ed7953"
             ],
             [
              0.7777777777777778,
              "#fb9f3a"
             ],
             [
              0.8888888888888888,
              "#fdca26"
             ],
             [
              1,
              "#f0f921"
             ]
            ],
            "type": "histogram2d"
           }
          ],
          "histogram2dcontour": [
           {
            "colorbar": {
             "outlinewidth": 0,
             "ticks": ""
            },
            "colorscale": [
             [
              0,
              "#0d0887"
             ],
             [
              0.1111111111111111,
              "#46039f"
             ],
             [
              0.2222222222222222,
              "#7201a8"
             ],
             [
              0.3333333333333333,
              "#9c179e"
             ],
             [
              0.4444444444444444,
              "#bd3786"
             ],
             [
              0.5555555555555556,
              "#d8576b"
             ],
             [
              0.6666666666666666,
              "#ed7953"
             ],
             [
              0.7777777777777778,
              "#fb9f3a"
             ],
             [
              0.8888888888888888,
              "#fdca26"
             ],
             [
              1,
              "#f0f921"
             ]
            ],
            "type": "histogram2dcontour"
           }
          ],
          "mesh3d": [
           {
            "colorbar": {
             "outlinewidth": 0,
             "ticks": ""
            },
            "type": "mesh3d"
           }
          ],
          "parcoords": [
           {
            "line": {
             "colorbar": {
              "outlinewidth": 0,
              "ticks": ""
             }
            },
            "type": "parcoords"
           }
          ],
          "pie": [
           {
            "automargin": true,
            "type": "pie"
           }
          ],
          "scatter": [
           {
            "marker": {
             "colorbar": {
              "outlinewidth": 0,
              "ticks": ""
             }
            },
            "type": "scatter"
           }
          ],
          "scatter3d": [
           {
            "line": {
             "colorbar": {
              "outlinewidth": 0,
              "ticks": ""
             }
            },
            "marker": {
             "colorbar": {
              "outlinewidth": 0,
              "ticks": ""
             }
            },
            "type": "scatter3d"
           }
          ],
          "scattercarpet": [
           {
            "marker": {
             "colorbar": {
              "outlinewidth": 0,
              "ticks": ""
             }
            },
            "type": "scattercarpet"
           }
          ],
          "scattergeo": [
           {
            "marker": {
             "colorbar": {
              "outlinewidth": 0,
              "ticks": ""
             }
            },
            "type": "scattergeo"
           }
          ],
          "scattergl": [
           {
            "marker": {
             "colorbar": {
              "outlinewidth": 0,
              "ticks": ""
             }
            },
            "type": "scattergl"
           }
          ],
          "scattermapbox": [
           {
            "marker": {
             "colorbar": {
              "outlinewidth": 0,
              "ticks": ""
             }
            },
            "type": "scattermapbox"
           }
          ],
          "scatterpolar": [
           {
            "marker": {
             "colorbar": {
              "outlinewidth": 0,
              "ticks": ""
             }
            },
            "type": "scatterpolar"
           }
          ],
          "scatterpolargl": [
           {
            "marker": {
             "colorbar": {
              "outlinewidth": 0,
              "ticks": ""
             }
            },
            "type": "scatterpolargl"
           }
          ],
          "scatterternary": [
           {
            "marker": {
             "colorbar": {
              "outlinewidth": 0,
              "ticks": ""
             }
            },
            "type": "scatterternary"
           }
          ],
          "surface": [
           {
            "colorbar": {
             "outlinewidth": 0,
             "ticks": ""
            },
            "colorscale": [
             [
              0,
              "#0d0887"
             ],
             [
              0.1111111111111111,
              "#46039f"
             ],
             [
              0.2222222222222222,
              "#7201a8"
             ],
             [
              0.3333333333333333,
              "#9c179e"
             ],
             [
              0.4444444444444444,
              "#bd3786"
             ],
             [
              0.5555555555555556,
              "#d8576b"
             ],
             [
              0.6666666666666666,
              "#ed7953"
             ],
             [
              0.7777777777777778,
              "#fb9f3a"
             ],
             [
              0.8888888888888888,
              "#fdca26"
             ],
             [
              1,
              "#f0f921"
             ]
            ],
            "type": "surface"
           }
          ],
          "table": [
           {
            "cells": {
             "fill": {
              "color": "#EBF0F8"
             },
             "line": {
              "color": "white"
             }
            },
            "header": {
             "fill": {
              "color": "#C8D4E3"
             },
             "line": {
              "color": "white"
             }
            },
            "type": "table"
           }
          ]
         },
         "layout": {
          "annotationdefaults": {
           "arrowcolor": "#2a3f5f",
           "arrowhead": 0,
           "arrowwidth": 1
          },
          "autotypenumbers": "strict",
          "coloraxis": {
           "colorbar": {
            "outlinewidth": 0,
            "ticks": ""
           }
          },
          "colorscale": {
           "diverging": [
            [
             0,
             "#8e0152"
            ],
            [
             0.1,
             "#c51b7d"
            ],
            [
             0.2,
             "#de77ae"
            ],
            [
             0.3,
             "#f1b6da"
            ],
            [
             0.4,
             "#fde0ef"
            ],
            [
             0.5,
             "#f7f7f7"
            ],
            [
             0.6,
             "#e6f5d0"
            ],
            [
             0.7,
             "#b8e186"
            ],
            [
             0.8,
             "#7fbc41"
            ],
            [
             0.9,
             "#4d9221"
            ],
            [
             1,
             "#276419"
            ]
           ],
           "sequential": [
            [
             0,
             "#0d0887"
            ],
            [
             0.1111111111111111,
             "#46039f"
            ],
            [
             0.2222222222222222,
             "#7201a8"
            ],
            [
             0.3333333333333333,
             "#9c179e"
            ],
            [
             0.4444444444444444,
             "#bd3786"
            ],
            [
             0.5555555555555556,
             "#d8576b"
            ],
            [
             0.6666666666666666,
             "#ed7953"
            ],
            [
             0.7777777777777778,
             "#fb9f3a"
            ],
            [
             0.8888888888888888,
             "#fdca26"
            ],
            [
             1,
             "#f0f921"
            ]
           ],
           "sequentialminus": [
            [
             0,
             "#0d0887"
            ],
            [
             0.1111111111111111,
             "#46039f"
            ],
            [
             0.2222222222222222,
             "#7201a8"
            ],
            [
             0.3333333333333333,
             "#9c179e"
            ],
            [
             0.4444444444444444,
             "#bd3786"
            ],
            [
             0.5555555555555556,
             "#d8576b"
            ],
            [
             0.6666666666666666,
             "#ed7953"
            ],
            [
             0.7777777777777778,
             "#fb9f3a"
            ],
            [
             0.8888888888888888,
             "#fdca26"
            ],
            [
             1,
             "#f0f921"
            ]
           ]
          },
          "colorway": [
           "#636efa",
           "#EF553B",
           "#00cc96",
           "#ab63fa",
           "#FFA15A",
           "#19d3f3",
           "#FF6692",
           "#B6E880",
           "#FF97FF",
           "#FECB52"
          ],
          "font": {
           "color": "#2a3f5f"
          },
          "geo": {
           "bgcolor": "white",
           "lakecolor": "white",
           "landcolor": "#E5ECF6",
           "showlakes": true,
           "showland": true,
           "subunitcolor": "white"
          },
          "hoverlabel": {
           "align": "left"
          },
          "hovermode": "closest",
          "mapbox": {
           "style": "light"
          },
          "paper_bgcolor": "white",
          "plot_bgcolor": "#E5ECF6",
          "polar": {
           "angularaxis": {
            "gridcolor": "white",
            "linecolor": "white",
            "ticks": ""
           },
           "bgcolor": "#E5ECF6",
           "radialaxis": {
            "gridcolor": "white",
            "linecolor": "white",
            "ticks": ""
           }
          },
          "scene": {
           "xaxis": {
            "backgroundcolor": "#E5ECF6",
            "gridcolor": "white",
            "gridwidth": 2,
            "linecolor": "white",
            "showbackground": true,
            "ticks": "",
            "zerolinecolor": "white"
           },
           "yaxis": {
            "backgroundcolor": "#E5ECF6",
            "gridcolor": "white",
            "gridwidth": 2,
            "linecolor": "white",
            "showbackground": true,
            "ticks": "",
            "zerolinecolor": "white"
           },
           "zaxis": {
            "backgroundcolor": "#E5ECF6",
            "gridcolor": "white",
            "gridwidth": 2,
            "linecolor": "white",
            "showbackground": true,
            "ticks": "",
            "zerolinecolor": "white"
           }
          },
          "shapedefaults": {
           "line": {
            "color": "#2a3f5f"
           }
          },
          "ternary": {
           "aaxis": {
            "gridcolor": "white",
            "linecolor": "white",
            "ticks": ""
           },
           "baxis": {
            "gridcolor": "white",
            "linecolor": "white",
            "ticks": ""
           },
           "bgcolor": "#E5ECF6",
           "caxis": {
            "gridcolor": "white",
            "linecolor": "white",
            "ticks": ""
           }
          },
          "title": {
           "x": 0.05
          },
          "xaxis": {
           "automargin": true,
           "gridcolor": "white",
           "linecolor": "white",
           "ticks": "",
           "title": {
            "standoff": 15
           },
           "zerolinecolor": "white",
           "zerolinewidth": 2
          },
          "yaxis": {
           "automargin": true,
           "gridcolor": "white",
           "linecolor": "white",
           "ticks": "",
           "title": {
            "standoff": 15
           },
           "zerolinecolor": "white",
           "zerolinewidth": 2
          }
         }
        },
        "updatemenus": [
         {
          "buttons": [
           {
            "args": [
             null,
             {
              "frame": {
               "duration": 500,
               "redraw": false
              },
              "fromcurrent": true,
              "mode": "immediate",
              "transition": {
               "duration": 500,
               "easing": "linear"
              }
             }
            ],
            "label": "&#9654;",
            "method": "animate"
           },
           {
            "args": [
             [
              null
             ],
             {
              "frame": {
               "duration": 0,
               "redraw": false
              },
              "fromcurrent": true,
              "mode": "immediate",
              "transition": {
               "duration": 0,
               "easing": "linear"
              }
             }
            ],
            "label": "&#9724;",
            "method": "animate"
           }
          ],
          "direction": "left",
          "pad": {
           "r": 10,
           "t": 70
          },
          "showactive": false,
          "type": "buttons",
          "x": 0.1,
          "xanchor": "right",
          "y": 0,
          "yanchor": "top"
         }
        ],
        "xaxis": {
         "anchor": "y",
         "domain": [
          0,
          1
         ],
         "range": [
          0,
          8.40173325865854
         ],
         "title": {
          "text": "To Dems & Liberals"
         },
         "type": "log"
        },
        "yaxis": {
         "anchor": "x",
         "domain": [
          0,
          1
         ],
         "range": [
          0,
          8.253861160362707
         ],
         "title": {
          "text": "To Repubs and Conservs"
         },
         "type": "log"
        }
       }
      },
      "text/html": [
       "<div>                            <div id=\"9979f906-a1d1-4082-ab32-127156ef6965\" class=\"plotly-graph-div\" style=\"height:525px; width:100%;\"></div>            <script type=\"text/javascript\">                require([\"plotly\"], function(Plotly) {                    window.PLOTLYENV=window.PLOTLYENV || {};                                    if (document.getElementById(\"9979f906-a1d1-4082-ab32-127156ef6965\")) {                    Plotly.newPlot(                        \"9979f906-a1d1-4082-ab32-127156ef6965\",                        [{\"hovertemplate\": \"<b>%{hovertext}</b><br><br>Category=Education<br>Cycle=2020<br>To Dems & Liberals=%{x}<br>To Repubs and Conservs=%{y}<br>Total Contributions=%{marker.size}<extra></extra>\", \"hovertext\": [\"University of California\"], \"legendgroup\": \"Education\", \"marker\": {\"color\": \"#636efa\", \"size\": [33576314], \"sizemode\": \"area\", \"sizeref\": 70287.06555555556, \"symbol\": \"circle\"}, \"mode\": \"markers\", \"name\": \"Education\", \"orientation\": \"v\", \"showlegend\": true, \"type\": \"scatter\", \"x\": [32529446], \"xaxis\": \"x\", \"y\": [802563], \"yaxis\": \"y\"}, {\"hovertemplate\": \"<b>%{hovertext}</b><br><br>Category=Energy<br>Cycle=2020<br>To Dems & Liberals=%{x}<br>To Repubs and Conservs=%{y}<br>Total Contributions=%{marker.size}<extra></extra>\", \"hovertext\": [\"Energy Transfer LP\", \"Koch Industries\", \"Marathon Petroleum\"], \"legendgroup\": \"Energy\", \"marker\": {\"color\": \"#EF553B\", \"size\": [14674580, 26703253, 6480526], \"sizemode\": \"area\", \"sizeref\": 70287.06555555556, \"symbol\": \"circle\"}, \"mode\": \"markers\", \"name\": \"Energy\", \"orientation\": \"v\", \"showlegend\": true, \"type\": \"scatter\", \"x\": [45409, 405189, 241974], \"xaxis\": \"x\", \"y\": [14629074, 26246366, 6238489], \"yaxis\": \"y\"}, {\"hovertemplate\": \"<b>%{hovertext}</b><br><br>Category=Finance/Insurance/Real Estate<br>Cycle=2020<br>To Dems & Liberals=%{x}<br>To Repubs and Conservs=%{y}<br>Total Contributions=%{marker.size}<extra></extra>\", \"hovertext\": [\"Bain Capital\", \"Baupost Group\", \"Blackstone Group\", \"Bloomberg LP\", \"Charles Schwab Corp\", \"Citadel LLC\", \"Elliott Management\", \"Euclidean Capital\", \"Fahr LLC\", \"Intercontinental Exchange Inc\", \"Lone Pine Capital\", \"Marcus & Millichap\", \"National Assn of Realtors\", \"Paloma Partners\", \"Renaissance Technologies\", \"Ryan Specialty Group\", \"Soros Fund Management\", \"Stephens Group\", \"Susquehanna International Group\", \"Wicklow Capital\"], \"legendgroup\": \"Finance/Insurance/Real Estate\", \"marker\": {\"color\": \"#00cc96\", \"size\": [30857523, 7262135, 58610728, 253033436, 40756670, 87504144, 24091809, 30795103, 143848528, 13342871, 15233025, 22965862, 13665382, 53252773, 36838542, 15134992, 20239421, 18015666, 38411615, 7491963], \"sizemode\": \"area\", \"sizeref\": 70287.06555555556, \"symbol\": \"circle\"}, \"mode\": \"markers\", \"name\": \"Finance/Insurance/Real Estate\", \"orientation\": \"v\", \"showlegend\": true, \"type\": \"scatter\", \"x\": [29990791, 6091435, 7942861, 252193134, 1203893, 612542, 387830, 30786703, 143846520, 135144, 15221725, 22687603, 3636873, 53203863, 28738958, 42858, 20216321, 9280, 166985, 6662963], \"xaxis\": \"x\", \"y\": [345051, 440300, 50660403, 80823, 39548175, 86885484, 23424777, 0, 0, 13205956, 100, 275256, 3430107, 5600, 7888834, 15092063, 23100, 18006359, 37415732, 729000], \"yaxis\": \"y\"}, {\"hovertemplate\": \"<b>%{hovertext}</b><br><br>Category=Food<br>Cycle=2020<br>To Dems & Liberals=%{x}<br>To Repubs and Conservs=%{y}<br>Total Contributions=%{marker.size}<extra></extra>\", \"hovertext\": [\"Mountaire Corp\"], \"legendgroup\": \"Food\", \"marker\": {\"color\": \"#ab63fa\", \"size\": [22238605], \"sizemode\": \"area\", \"sizeref\": 70287.06555555556, \"symbol\": \"circle\"}, \"mode\": \"markers\", \"name\": \"Food\", \"orientation\": \"v\", \"showlegend\": true, \"type\": \"scatter\", \"x\": [20], \"xaxis\": \"x\", \"y\": [22238585], \"yaxis\": \"y\"}, {\"hovertemplate\": \"<b>%{hovertext}</b><br><br>Category=Healthcare<br>Cycle=2020<br>To Dems & Liberals=%{x}<br>To Repubs and Conservs=%{y}<br>Total Contributions=%{marker.size}<extra></extra>\", \"hovertext\": [\"Adelson Clinic for Drug Abuse Treatment & Research\", \"Greater New York Hospital Assn\"], \"legendgroup\": \"Healthcare\", \"marker\": {\"color\": \"#FFA15A\", \"size\": [170313800, 6687369], \"sizemode\": \"area\", \"sizeref\": 70287.06555555556, \"symbol\": \"circle\"}, \"mode\": \"markers\", \"name\": \"Healthcare\", \"orientation\": \"v\", \"showlegend\": true, \"type\": \"scatter\", \"x\": [0, 6214945], \"xaxis\": \"x\", \"y\": [170313800, 472424], \"yaxis\": \"y\"}, {\"hovertemplate\": \"<b>%{hovertext}</b><br><br>Category=Labor<br>Cycle=2020<br>To Dems & Liberals=%{x}<br>To Repubs and Conservs=%{y}<br>Total Contributions=%{marker.size}<extra></extra>\", \"hovertext\": [\"American Federation of State/Cnty/Munic Employees\", \"American Federation of Teachers\", \"Carpenters & Joiners Union\", \"International Brotherhood of Electrical Workers\", \"Laborers Union\", \"National Education Assn\", \"Operating Engineers Union\", \"Service Employees International Union\", \"United Food & Commercial Workers Union\"], \"legendgroup\": \"Labor\", \"marker\": {\"color\": \"#19d3f3\", \"size\": [33563702, 33466034, 54495997, 23744226, 41703612, 14488532, 21193657, 43614527, 6766152], \"sizemode\": \"area\", \"sizeref\": 70287.06555555556, \"symbol\": \"circle\"}, \"mode\": \"markers\", \"name\": \"Labor\", \"orientation\": \"v\", \"showlegend\": true, \"type\": \"scatter\", \"x\": [33510590, 33395241, 53432141, 23229423, 40240055, 14347659, 19609738, 43567611, 6744754], \"xaxis\": \"x\", \"y\": [14061, 20458, 1058691, 498992, 1443813, 120597, 1622268, 12744, 18750], \"yaxis\": \"y\"}, {\"hovertemplate\": \"<b>%{hovertext}</b><br><br>Category=Misc Business<br>Cycle=2020<br>To Dems & Liberals=%{x}<br>To Repubs and Conservs=%{y}<br>Total Contributions=%{marker.size}<extra></extra>\", \"hovertext\": [\"Las Vegas Sands\", \"Reyes Holdings\", \"Uline Inc\"], \"legendgroup\": \"Misc Business\", \"marker\": {\"color\": \"#FF6692\", \"size\": [171585961, 20084232, 108112823], \"sizemode\": \"area\", \"sizeref\": 70287.06555555556, \"symbol\": \"circle\"}, \"mode\": \"markers\", \"name\": \"Misc Business\", \"orientation\": \"v\", \"showlegend\": true, \"type\": \"scatter\", \"x\": [26957, 23579, 25509], \"xaxis\": \"x\", \"y\": [171556715, 20060476, 108087169], \"yaxis\": \"y\"}, {\"hovertemplate\": \"<b>%{hovertext}</b><br><br>Category=Technology<br>Cycle=2020<br>To Dems & Liberals=%{x}<br>To Repubs and Conservs=%{y}<br>Total Contributions=%{marker.size}<extra></extra>\", \"hovertext\": [\"AT&T Inc\", \"Alphabet Inc\", \"Amazon.com\", \"Asana\", \"Comcast Corp\", \"Microsoft Corp\", \"Newsweb Corp\", \"Walt Disney Co\"], \"legendgroup\": \"Technology\", \"marker\": {\"color\": \"#B6E880\", \"size\": [21762599, 35942476, 26249998, 57584006, 15466309, 35330526, 32170975, 19754894], \"sizemode\": \"area\", \"sizeref\": 70287.06555555556, \"symbol\": \"circle\"}, \"mode\": \"markers\", \"name\": \"Technology\", \"orientation\": \"v\", \"showlegend\": true, \"type\": \"scatter\", \"x\": [14152607, 32932939, 13038984, 57580767, 11798613, 31183877, 32168175, 7660755], \"xaxis\": \"x\", \"y\": [7527391, 2654647, 2889146, 250, 3601180, 3418414, 0, 12040521], \"yaxis\": \"y\"}, {\"hovertemplate\": \"<b>%{hovertext}</b><br><br>Category=Trust<br>Cycle=2020<br>To Dems & Liberals=%{x}<br>To Repubs and Conservs=%{y}<br>Total Contributions=%{marker.size}<extra></extra>\", \"hovertext\": [\"Action Now Initiative\", \"America Votes\", \"Bernard Marcus Family Foundation\", \"Club for Growth\", \"Democratic Governors Assn\", \"Duty & Honor\", \"EMILY's List\", \"Environment America\", \"Fair Fight PAC\", \"Fund for Policy Reform\", \"House Majority PAC\", \"League of Conservation Voters\", \"Marcus Foundation\", \"NextGen Climate Action\", \"Samerian Foundation\", \"Senate Leadership Fund\", \"Senate Majority PAC\", \"Simon Youth Foundation\", \"Sixteen Thirty Fund\"], \"legendgroup\": \"Trust\", \"marker\": {\"color\": \"#FF97FF\", \"size\": [9878025, 70730484, 7994268, 10305563, 10775767, 26050000, 9877324, 12257171, 19659800, 75500002, 12350027, 29100348, 17580811, 9026357, 6930150, 179415996, 94468570, 26423874, 56718914], \"sizemode\": \"area\", \"sizeref\": 70287.06555555556, \"symbol\": \"circle\"}, \"mode\": \"markers\", \"name\": \"Trust\", \"orientation\": \"v\", \"showlegend\": true, \"type\": \"scatter\", \"x\": [25, 70730475, 500, 0, 10775767, 26050000, 9882058, 12257171, 19659800, 75500002, 12350027, 29054208, 500, 9026357, 6962250, 0, 94464186, 26423872, 56718889], \"xaxis\": \"x\", \"y\": [0, 0, 7993768, 10305563, 0, 0, 201, 0, 0, 0, 0, 2125, 17580311, 0, 0, 179415996, 4280, 0, 0], \"yaxis\": \"y\"}],                        {\"legend\": {\"itemsizing\": \"constant\", \"title\": {\"text\": \"Category\"}, \"tracegroupgap\": 0}, \"margin\": {\"t\": 60}, \"sliders\": [{\"active\": 0, \"currentvalue\": {\"prefix\": \"Cycle=\"}, \"len\": 0.9, \"pad\": {\"b\": 10, \"t\": 60}, \"steps\": [{\"args\": [[\"2020\"], {\"frame\": {\"duration\": 0, \"redraw\": false}, \"fromcurrent\": true, \"mode\": \"immediate\", \"transition\": {\"duration\": 0, \"easing\": \"linear\"}}], \"label\": \"2020\", \"method\": \"animate\"}, {\"args\": [[\"2016\"], {\"frame\": {\"duration\": 0, \"redraw\": false}, \"fromcurrent\": true, \"mode\": \"immediate\", \"transition\": {\"duration\": 0, \"easing\": \"linear\"}}], \"label\": \"2016\", \"method\": \"animate\"}, {\"args\": [[\"2012\"], {\"frame\": {\"duration\": 0, \"redraw\": false}, \"fromcurrent\": true, \"mode\": \"immediate\", \"transition\": {\"duration\": 0, \"easing\": \"linear\"}}], \"label\": \"2012\", \"method\": \"animate\"}], \"x\": 0.1, \"xanchor\": \"left\", \"y\": 0, \"yanchor\": \"top\"}], \"template\": {\"data\": {\"bar\": [{\"error_x\": {\"color\": \"#2a3f5f\"}, \"error_y\": {\"color\": \"#2a3f5f\"}, \"marker\": {\"line\": {\"color\": \"#E5ECF6\", \"width\": 0.5}}, \"type\": \"bar\"}], \"barpolar\": [{\"marker\": {\"line\": {\"color\": \"#E5ECF6\", \"width\": 0.5}}, \"type\": \"barpolar\"}], \"carpet\": [{\"aaxis\": {\"endlinecolor\": \"#2a3f5f\", \"gridcolor\": \"white\", \"linecolor\": \"white\", \"minorgridcolor\": \"white\", \"startlinecolor\": \"#2a3f5f\"}, \"baxis\": {\"endlinecolor\": \"#2a3f5f\", \"gridcolor\": \"white\", \"linecolor\": \"white\", \"minorgridcolor\": \"white\", \"startlinecolor\": \"#2a3f5f\"}, \"type\": \"carpet\"}], \"choropleth\": [{\"colorbar\": {\"outlinewidth\": 0, \"ticks\": \"\"}, \"type\": \"choropleth\"}], \"contour\": [{\"colorbar\": {\"outlinewidth\": 0, \"ticks\": \"\"}, \"colorscale\": [[0.0, \"#0d0887\"], [0.1111111111111111, \"#46039f\"], [0.2222222222222222, \"#7201a8\"], [0.3333333333333333, \"#9c179e\"], [0.4444444444444444, \"#bd3786\"], [0.5555555555555556, \"#d8576b\"], [0.6666666666666666, \"#ed7953\"], [0.7777777777777778, \"#fb9f3a\"], [0.8888888888888888, \"#fdca26\"], [1.0, \"#f0f921\"]], \"type\": \"contour\"}], \"contourcarpet\": [{\"colorbar\": {\"outlinewidth\": 0, \"ticks\": \"\"}, \"type\": \"contourcarpet\"}], \"heatmap\": [{\"colorbar\": {\"outlinewidth\": 0, \"ticks\": \"\"}, \"colorscale\": [[0.0, \"#0d0887\"], [0.1111111111111111, \"#46039f\"], [0.2222222222222222, \"#7201a8\"], [0.3333333333333333, \"#9c179e\"], [0.4444444444444444, \"#bd3786\"], [0.5555555555555556, \"#d8576b\"], [0.6666666666666666, \"#ed7953\"], [0.7777777777777778, \"#fb9f3a\"], [0.8888888888888888, \"#fdca26\"], [1.0, \"#f0f921\"]], \"type\": \"heatmap\"}], \"heatmapgl\": [{\"colorbar\": {\"outlinewidth\": 0, \"ticks\": \"\"}, \"colorscale\": [[0.0, \"#0d0887\"], [0.1111111111111111, \"#46039f\"], [0.2222222222222222, \"#7201a8\"], [0.3333333333333333, \"#9c179e\"], [0.4444444444444444, \"#bd3786\"], [0.5555555555555556, \"#d8576b\"], [0.6666666666666666, \"#ed7953\"], [0.7777777777777778, \"#fb9f3a\"], [0.8888888888888888, \"#fdca26\"], [1.0, \"#f0f921\"]], \"type\": \"heatmapgl\"}], \"histogram\": [{\"marker\": {\"colorbar\": {\"outlinewidth\": 0, \"ticks\": \"\"}}, \"type\": \"histogram\"}], \"histogram2d\": [{\"colorbar\": {\"outlinewidth\": 0, \"ticks\": \"\"}, \"colorscale\": [[0.0, \"#0d0887\"], [0.1111111111111111, \"#46039f\"], [0.2222222222222222, \"#7201a8\"], [0.3333333333333333, \"#9c179e\"], [0.4444444444444444, \"#bd3786\"], [0.5555555555555556, \"#d8576b\"], [0.6666666666666666, \"#ed7953\"], [0.7777777777777778, \"#fb9f3a\"], [0.8888888888888888, \"#fdca26\"], [1.0, \"#f0f921\"]], \"type\": \"histogram2d\"}], \"histogram2dcontour\": [{\"colorbar\": {\"outlinewidth\": 0, \"ticks\": \"\"}, \"colorscale\": [[0.0, \"#0d0887\"], [0.1111111111111111, \"#46039f\"], [0.2222222222222222, \"#7201a8\"], [0.3333333333333333, \"#9c179e\"], [0.4444444444444444, \"#bd3786\"], [0.5555555555555556, \"#d8576b\"], [0.6666666666666666, \"#ed7953\"], [0.7777777777777778, \"#fb9f3a\"], [0.8888888888888888, \"#fdca26\"], [1.0, \"#f0f921\"]], \"type\": \"histogram2dcontour\"}], \"mesh3d\": [{\"colorbar\": {\"outlinewidth\": 0, \"ticks\": \"\"}, \"type\": \"mesh3d\"}], \"parcoords\": [{\"line\": {\"colorbar\": {\"outlinewidth\": 0, \"ticks\": \"\"}}, \"type\": \"parcoords\"}], \"pie\": [{\"automargin\": true, \"type\": \"pie\"}], \"scatter\": [{\"marker\": {\"colorbar\": {\"outlinewidth\": 0, \"ticks\": \"\"}}, \"type\": \"scatter\"}], \"scatter3d\": [{\"line\": {\"colorbar\": {\"outlinewidth\": 0, \"ticks\": \"\"}}, \"marker\": {\"colorbar\": {\"outlinewidth\": 0, \"ticks\": \"\"}}, \"type\": \"scatter3d\"}], \"scattercarpet\": [{\"marker\": {\"colorbar\": {\"outlinewidth\": 0, \"ticks\": \"\"}}, \"type\": \"scattercarpet\"}], \"scattergeo\": [{\"marker\": {\"colorbar\": {\"outlinewidth\": 0, \"ticks\": \"\"}}, \"type\": \"scattergeo\"}], \"scattergl\": [{\"marker\": {\"colorbar\": {\"outlinewidth\": 0, \"ticks\": \"\"}}, \"type\": \"scattergl\"}], \"scattermapbox\": [{\"marker\": {\"colorbar\": {\"outlinewidth\": 0, \"ticks\": \"\"}}, \"type\": \"scattermapbox\"}], \"scatterpolar\": [{\"marker\": {\"colorbar\": {\"outlinewidth\": 0, \"ticks\": \"\"}}, \"type\": \"scatterpolar\"}], \"scatterpolargl\": [{\"marker\": {\"colorbar\": {\"outlinewidth\": 0, \"ticks\": \"\"}}, \"type\": \"scatterpolargl\"}], \"scatterternary\": [{\"marker\": {\"colorbar\": {\"outlinewidth\": 0, \"ticks\": \"\"}}, \"type\": \"scatterternary\"}], \"surface\": [{\"colorbar\": {\"outlinewidth\": 0, \"ticks\": \"\"}, \"colorscale\": [[0.0, \"#0d0887\"], [0.1111111111111111, \"#46039f\"], [0.2222222222222222, \"#7201a8\"], [0.3333333333333333, \"#9c179e\"], [0.4444444444444444, \"#bd3786\"], [0.5555555555555556, \"#d8576b\"], [0.6666666666666666, \"#ed7953\"], [0.7777777777777778, \"#fb9f3a\"], [0.8888888888888888, \"#fdca26\"], [1.0, \"#f0f921\"]], \"type\": \"surface\"}], \"table\": [{\"cells\": {\"fill\": {\"color\": \"#EBF0F8\"}, \"line\": {\"color\": \"white\"}}, \"header\": {\"fill\": {\"color\": \"#C8D4E3\"}, \"line\": {\"color\": \"white\"}}, \"type\": \"table\"}]}, \"layout\": {\"annotationdefaults\": {\"arrowcolor\": \"#2a3f5f\", \"arrowhead\": 0, \"arrowwidth\": 1}, \"autotypenumbers\": \"strict\", \"coloraxis\": {\"colorbar\": {\"outlinewidth\": 0, \"ticks\": \"\"}}, \"colorscale\": {\"diverging\": [[0, \"#8e0152\"], [0.1, \"#c51b7d\"], [0.2, \"#de77ae\"], [0.3, \"#f1b6da\"], [0.4, \"#fde0ef\"], [0.5, \"#f7f7f7\"], [0.6, \"#e6f5d0\"], [0.7, \"#b8e186\"], [0.8, \"#7fbc41\"], [0.9, \"#4d9221\"], [1, \"#276419\"]], \"sequential\": [[0.0, \"#0d0887\"], [0.1111111111111111, \"#46039f\"], [0.2222222222222222, \"#7201a8\"], [0.3333333333333333, \"#9c179e\"], [0.4444444444444444, \"#bd3786\"], [0.5555555555555556, \"#d8576b\"], [0.6666666666666666, \"#ed7953\"], [0.7777777777777778, \"#fb9f3a\"], [0.8888888888888888, \"#fdca26\"], [1.0, \"#f0f921\"]], \"sequentialminus\": [[0.0, \"#0d0887\"], [0.1111111111111111, \"#46039f\"], [0.2222222222222222, \"#7201a8\"], [0.3333333333333333, \"#9c179e\"], [0.4444444444444444, \"#bd3786\"], [0.5555555555555556, \"#d8576b\"], [0.6666666666666666, \"#ed7953\"], [0.7777777777777778, \"#fb9f3a\"], [0.8888888888888888, \"#fdca26\"], [1.0, \"#f0f921\"]]}, \"colorway\": [\"#636efa\", \"#EF553B\", \"#00cc96\", \"#ab63fa\", \"#FFA15A\", \"#19d3f3\", \"#FF6692\", \"#B6E880\", \"#FF97FF\", \"#FECB52\"], \"font\": {\"color\": \"#2a3f5f\"}, \"geo\": {\"bgcolor\": \"white\", \"lakecolor\": \"white\", \"landcolor\": \"#E5ECF6\", \"showlakes\": true, \"showland\": true, \"subunitcolor\": \"white\"}, \"hoverlabel\": {\"align\": \"left\"}, \"hovermode\": \"closest\", \"mapbox\": {\"style\": \"light\"}, \"paper_bgcolor\": \"white\", \"plot_bgcolor\": \"#E5ECF6\", \"polar\": {\"angularaxis\": {\"gridcolor\": \"white\", \"linecolor\": \"white\", \"ticks\": \"\"}, \"bgcolor\": \"#E5ECF6\", \"radialaxis\": {\"gridcolor\": \"white\", \"linecolor\": \"white\", \"ticks\": \"\"}}, \"scene\": {\"xaxis\": {\"backgroundcolor\": \"#E5ECF6\", \"gridcolor\": \"white\", \"gridwidth\": 2, \"linecolor\": \"white\", \"showbackground\": true, \"ticks\": \"\", \"zerolinecolor\": \"white\"}, \"yaxis\": {\"backgroundcolor\": \"#E5ECF6\", \"gridcolor\": \"white\", \"gridwidth\": 2, \"linecolor\": \"white\", \"showbackground\": true, \"ticks\": \"\", \"zerolinecolor\": \"white\"}, \"zaxis\": {\"backgroundcolor\": \"#E5ECF6\", \"gridcolor\": \"white\", \"gridwidth\": 2, \"linecolor\": \"white\", \"showbackground\": true, \"ticks\": \"\", \"zerolinecolor\": \"white\"}}, \"shapedefaults\": {\"line\": {\"color\": \"#2a3f5f\"}}, \"ternary\": {\"aaxis\": {\"gridcolor\": \"white\", \"linecolor\": \"white\", \"ticks\": \"\"}, \"baxis\": {\"gridcolor\": \"white\", \"linecolor\": \"white\", \"ticks\": \"\"}, \"bgcolor\": \"#E5ECF6\", \"caxis\": {\"gridcolor\": \"white\", \"linecolor\": \"white\", \"ticks\": \"\"}}, \"title\": {\"x\": 0.05}, \"xaxis\": {\"automargin\": true, \"gridcolor\": \"white\", \"linecolor\": \"white\", \"ticks\": \"\", \"title\": {\"standoff\": 15}, \"zerolinecolor\": \"white\", \"zerolinewidth\": 2}, \"yaxis\": {\"automargin\": true, \"gridcolor\": \"white\", \"linecolor\": \"white\", \"ticks\": \"\", \"title\": {\"standoff\": 15}, \"zerolinecolor\": \"white\", \"zerolinewidth\": 2}}}, \"updatemenus\": [{\"buttons\": [{\"args\": [null, {\"frame\": {\"duration\": 500, \"redraw\": false}, \"fromcurrent\": true, \"mode\": \"immediate\", \"transition\": {\"duration\": 500, \"easing\": \"linear\"}}], \"label\": \"&#9654;\", \"method\": \"animate\"}, {\"args\": [[null], {\"frame\": {\"duration\": 0, \"redraw\": false}, \"fromcurrent\": true, \"mode\": \"immediate\", \"transition\": {\"duration\": 0, \"easing\": \"linear\"}}], \"label\": \"&#9724;\", \"method\": \"animate\"}], \"direction\": \"left\", \"pad\": {\"r\": 10, \"t\": 70}, \"showactive\": false, \"type\": \"buttons\", \"x\": 0.1, \"xanchor\": \"right\", \"y\": 0, \"yanchor\": \"top\"}], \"xaxis\": {\"anchor\": \"y\", \"domain\": [0.0, 1.0], \"range\": [0, 8.40173325865854], \"title\": {\"text\": \"To Dems & Liberals\"}, \"type\": \"log\"}, \"yaxis\": {\"anchor\": \"x\", \"domain\": [0.0, 1.0], \"range\": [0, 8.253861160362707], \"title\": {\"text\": \"To Repubs and Conservs\"}, \"type\": \"log\"}},                        {\"responsive\": true}                    ).then(function(){\n",
       "                            Plotly.addFrames('9979f906-a1d1-4082-ab32-127156ef6965', [{\"data\": [{\"hovertemplate\": \"<b>%{hovertext}</b><br><br>Category=Education<br>Cycle=2020<br>To Dems & Liberals=%{x}<br>To Repubs and Conservs=%{y}<br>Total Contributions=%{marker.size}<extra></extra>\", \"hovertext\": [\"University of California\"], \"legendgroup\": \"Education\", \"marker\": {\"color\": \"#636efa\", \"size\": [33576314], \"sizemode\": \"area\", \"sizeref\": 70287.06555555556, \"symbol\": \"circle\"}, \"mode\": \"markers\", \"name\": \"Education\", \"orientation\": \"v\", \"showlegend\": true, \"x\": [32529446], \"xaxis\": \"x\", \"y\": [802563], \"yaxis\": \"y\", \"type\": \"scatter\"}, {\"hovertemplate\": \"<b>%{hovertext}</b><br><br>Category=Energy<br>Cycle=2020<br>To Dems & Liberals=%{x}<br>To Repubs and Conservs=%{y}<br>Total Contributions=%{marker.size}<extra></extra>\", \"hovertext\": [\"Energy Transfer LP\", \"Koch Industries\", \"Marathon Petroleum\"], \"legendgroup\": \"Energy\", \"marker\": {\"color\": \"#EF553B\", \"size\": [14674580, 26703253, 6480526], \"sizemode\": \"area\", \"sizeref\": 70287.06555555556, \"symbol\": \"circle\"}, \"mode\": \"markers\", \"name\": \"Energy\", \"orientation\": \"v\", \"showlegend\": true, \"x\": [45409, 405189, 241974], \"xaxis\": \"x\", \"y\": [14629074, 26246366, 6238489], \"yaxis\": \"y\", \"type\": \"scatter\"}, {\"hovertemplate\": \"<b>%{hovertext}</b><br><br>Category=Finance/Insurance/Real Estate<br>Cycle=2020<br>To Dems & Liberals=%{x}<br>To Repubs and Conservs=%{y}<br>Total Contributions=%{marker.size}<extra></extra>\", \"hovertext\": [\"Bain Capital\", \"Baupost Group\", \"Blackstone Group\", \"Bloomberg LP\", \"Charles Schwab Corp\", \"Citadel LLC\", \"Elliott Management\", \"Euclidean Capital\", \"Fahr LLC\", \"Intercontinental Exchange Inc\", \"Lone Pine Capital\", \"Marcus & Millichap\", \"National Assn of Realtors\", \"Paloma Partners\", \"Renaissance Technologies\", \"Ryan Specialty Group\", \"Soros Fund Management\", \"Stephens Group\", \"Susquehanna International Group\", \"Wicklow Capital\"], \"legendgroup\": \"Finance/Insurance/Real Estate\", \"marker\": {\"color\": \"#00cc96\", \"size\": [30857523, 7262135, 58610728, 253033436, 40756670, 87504144, 24091809, 30795103, 143848528, 13342871, 15233025, 22965862, 13665382, 53252773, 36838542, 15134992, 20239421, 18015666, 38411615, 7491963], \"sizemode\": \"area\", \"sizeref\": 70287.06555555556, \"symbol\": \"circle\"}, \"mode\": \"markers\", \"name\": \"Finance/Insurance/Real Estate\", \"orientation\": \"v\", \"showlegend\": true, \"x\": [29990791, 6091435, 7942861, 252193134, 1203893, 612542, 387830, 30786703, 143846520, 135144, 15221725, 22687603, 3636873, 53203863, 28738958, 42858, 20216321, 9280, 166985, 6662963], \"xaxis\": \"x\", \"y\": [345051, 440300, 50660403, 80823, 39548175, 86885484, 23424777, 0, 0, 13205956, 100, 275256, 3430107, 5600, 7888834, 15092063, 23100, 18006359, 37415732, 729000], \"yaxis\": \"y\", \"type\": \"scatter\"}, {\"hovertemplate\": \"<b>%{hovertext}</b><br><br>Category=Food<br>Cycle=2020<br>To Dems & Liberals=%{x}<br>To Repubs and Conservs=%{y}<br>Total Contributions=%{marker.size}<extra></extra>\", \"hovertext\": [\"Mountaire Corp\"], \"legendgroup\": \"Food\", \"marker\": {\"color\": \"#ab63fa\", \"size\": [22238605], \"sizemode\": \"area\", \"sizeref\": 70287.06555555556, \"symbol\": \"circle\"}, \"mode\": \"markers\", \"name\": \"Food\", \"orientation\": \"v\", \"showlegend\": true, \"x\": [20], \"xaxis\": \"x\", \"y\": [22238585], \"yaxis\": \"y\", \"type\": \"scatter\"}, {\"hovertemplate\": \"<b>%{hovertext}</b><br><br>Category=Healthcare<br>Cycle=2020<br>To Dems & Liberals=%{x}<br>To Repubs and Conservs=%{y}<br>Total Contributions=%{marker.size}<extra></extra>\", \"hovertext\": [\"Adelson Clinic for Drug Abuse Treatment & Research\", \"Greater New York Hospital Assn\"], \"legendgroup\": \"Healthcare\", \"marker\": {\"color\": \"#FFA15A\", \"size\": [170313800, 6687369], \"sizemode\": \"area\", \"sizeref\": 70287.06555555556, \"symbol\": \"circle\"}, \"mode\": \"markers\", \"name\": \"Healthcare\", \"orientation\": \"v\", \"showlegend\": true, \"x\": [0, 6214945], \"xaxis\": \"x\", \"y\": [170313800, 472424], \"yaxis\": \"y\", \"type\": \"scatter\"}, {\"hovertemplate\": \"<b>%{hovertext}</b><br><br>Category=Labor<br>Cycle=2020<br>To Dems & Liberals=%{x}<br>To Repubs and Conservs=%{y}<br>Total Contributions=%{marker.size}<extra></extra>\", \"hovertext\": [\"American Federation of State/Cnty/Munic Employees\", \"American Federation of Teachers\", \"Carpenters & Joiners Union\", \"International Brotherhood of Electrical Workers\", \"Laborers Union\", \"National Education Assn\", \"Operating Engineers Union\", \"Service Employees International Union\", \"United Food & Commercial Workers Union\"], \"legendgroup\": \"Labor\", \"marker\": {\"color\": \"#19d3f3\", \"size\": [33563702, 33466034, 54495997, 23744226, 41703612, 14488532, 21193657, 43614527, 6766152], \"sizemode\": \"area\", \"sizeref\": 70287.06555555556, \"symbol\": \"circle\"}, \"mode\": \"markers\", \"name\": \"Labor\", \"orientation\": \"v\", \"showlegend\": true, \"x\": [33510590, 33395241, 53432141, 23229423, 40240055, 14347659, 19609738, 43567611, 6744754], \"xaxis\": \"x\", \"y\": [14061, 20458, 1058691, 498992, 1443813, 120597, 1622268, 12744, 18750], \"yaxis\": \"y\", \"type\": \"scatter\"}, {\"hovertemplate\": \"<b>%{hovertext}</b><br><br>Category=Misc Business<br>Cycle=2020<br>To Dems & Liberals=%{x}<br>To Repubs and Conservs=%{y}<br>Total Contributions=%{marker.size}<extra></extra>\", \"hovertext\": [\"Las Vegas Sands\", \"Reyes Holdings\", \"Uline Inc\"], \"legendgroup\": \"Misc Business\", \"marker\": {\"color\": \"#FF6692\", \"size\": [171585961, 20084232, 108112823], \"sizemode\": \"area\", \"sizeref\": 70287.06555555556, \"symbol\": \"circle\"}, \"mode\": \"markers\", \"name\": \"Misc Business\", \"orientation\": \"v\", \"showlegend\": true, \"x\": [26957, 23579, 25509], \"xaxis\": \"x\", \"y\": [171556715, 20060476, 108087169], \"yaxis\": \"y\", \"type\": \"scatter\"}, {\"hovertemplate\": \"<b>%{hovertext}</b><br><br>Category=Technology<br>Cycle=2020<br>To Dems & Liberals=%{x}<br>To Repubs and Conservs=%{y}<br>Total Contributions=%{marker.size}<extra></extra>\", \"hovertext\": [\"AT&T Inc\", \"Alphabet Inc\", \"Amazon.com\", \"Asana\", \"Comcast Corp\", \"Microsoft Corp\", \"Newsweb Corp\", \"Walt Disney Co\"], \"legendgroup\": \"Technology\", \"marker\": {\"color\": \"#B6E880\", \"size\": [21762599, 35942476, 26249998, 57584006, 15466309, 35330526, 32170975, 19754894], \"sizemode\": \"area\", \"sizeref\": 70287.06555555556, \"symbol\": \"circle\"}, \"mode\": \"markers\", \"name\": \"Technology\", \"orientation\": \"v\", \"showlegend\": true, \"x\": [14152607, 32932939, 13038984, 57580767, 11798613, 31183877, 32168175, 7660755], \"xaxis\": \"x\", \"y\": [7527391, 2654647, 2889146, 250, 3601180, 3418414, 0, 12040521], \"yaxis\": \"y\", \"type\": \"scatter\"}, {\"hovertemplate\": \"<b>%{hovertext}</b><br><br>Category=Trust<br>Cycle=2020<br>To Dems & Liberals=%{x}<br>To Repubs and Conservs=%{y}<br>Total Contributions=%{marker.size}<extra></extra>\", \"hovertext\": [\"Action Now Initiative\", \"America Votes\", \"Bernard Marcus Family Foundation\", \"Club for Growth\", \"Democratic Governors Assn\", \"Duty & Honor\", \"EMILY's List\", \"Environment America\", \"Fair Fight PAC\", \"Fund for Policy Reform\", \"House Majority PAC\", \"League of Conservation Voters\", \"Marcus Foundation\", \"NextGen Climate Action\", \"Samerian Foundation\", \"Senate Leadership Fund\", \"Senate Majority PAC\", \"Simon Youth Foundation\", \"Sixteen Thirty Fund\"], \"legendgroup\": \"Trust\", \"marker\": {\"color\": \"#FF97FF\", \"size\": [9878025, 70730484, 7994268, 10305563, 10775767, 26050000, 9877324, 12257171, 19659800, 75500002, 12350027, 29100348, 17580811, 9026357, 6930150, 179415996, 94468570, 26423874, 56718914], \"sizemode\": \"area\", \"sizeref\": 70287.06555555556, \"symbol\": \"circle\"}, \"mode\": \"markers\", \"name\": \"Trust\", \"orientation\": \"v\", \"showlegend\": true, \"x\": [25, 70730475, 500, 0, 10775767, 26050000, 9882058, 12257171, 19659800, 75500002, 12350027, 29054208, 500, 9026357, 6962250, 0, 94464186, 26423872, 56718889], \"xaxis\": \"x\", \"y\": [0, 0, 7993768, 10305563, 0, 0, 201, 0, 0, 0, 0, 2125, 17580311, 0, 0, 179415996, 4280, 0, 0], \"yaxis\": \"y\", \"type\": \"scatter\"}], \"name\": \"2020\"}, {\"data\": [{\"hovertemplate\": \"<b>%{hovertext}</b><br><br>Category=Energy<br>Cycle=2016<br>To Dems & Liberals=%{x}<br>To Repubs and Conservs=%{y}<br>Total Contributions=%{marker.size}<extra></extra>\", \"hovertext\": [\"Alliance Resource Partners\", \"Koch Industries\"], \"legendgroup\": \"Energy\", \"marker\": {\"color\": \"#EF553B\", \"size\": [5165495, 22507038], \"sizemode\": \"area\", \"sizeref\": 70287.06555555556, \"symbol\": \"circle\"}, \"mode\": \"markers\", \"name\": \"Energy\", \"orientation\": \"v\", \"showlegend\": true, \"x\": [2000, 94669], \"xaxis\": \"x\", \"y\": [5163495, 22523106], \"yaxis\": \"y\", \"type\": \"scatter\"}, {\"hovertemplate\": \"<b>%{hovertext}</b><br><br>Category=Finance/Insurance/Real Estate<br>Cycle=2016<br>To Dems & Liberals=%{x}<br>To Repubs and Conservs=%{y}<br>Total Contributions=%{marker.size}<extra></extra>\", \"hovertext\": [\"Baupost Group\", \"Berkshire Hathaway\", \"Blackstone Group\", \"Bloomberg LP\", \"Citadel LLC\", \"Elliott Management\", \"Fahr LLC\", \"Goldman Sachs\", \"Kainos Capital\", \"National Assn of Realtors\", \"Paloma Partners\", \"Pritzker Group\", \"Renaissance Technologies\", \"Saban Capital Group\", \"Soros Fund Management\", \"Stephens Group\"], \"legendgroup\": \"Finance/Insurance/Real Estate\", \"marker\": {\"color\": \"#00cc96\", \"size\": [3591640, 3641504, 9408248, 53728934, 17704540, 42299673, 165868654, 4396469, 8458688, 4924655, 41938400, 24232583, 78123877, 15864226, 32674552, 19888906], \"sizemode\": \"area\", \"sizeref\": 70287.06555555556, \"symbol\": \"circle\"}, \"mode\": \"markers\", \"name\": \"Finance/Insurance/Real Estate\", \"orientation\": \"v\", \"showlegend\": true, \"x\": [315550, 1314303, 2226465, 53075860, 252827, 53977, 165868654, 1796989, 8405988, 2353479, 41935100, 23221401, 42637628, 15883226, 31728652, 43987], \"xaxis\": \"x\", \"y\": [3276090, 2337038, 7184283, 575816, 17551713, 42242996, 0, 2646730, 2700, 2556950, 3300, 917940, 35047649, 1000, 718400, 19861219], \"yaxis\": \"y\", \"type\": \"scatter\"}, {\"hovertemplate\": \"<b>%{hovertext}</b><br><br>Category=Food<br>Cycle=2016<br>To Dems & Liberals=%{x}<br>To Repubs and Conservs=%{y}<br>Total Contributions=%{marker.size}<extra></extra>\", \"hovertext\": [\"Mountaire Corp\"], \"legendgroup\": \"Food\", \"marker\": {\"color\": \"#ab63fa\", \"size\": [22697055], \"sizemode\": \"area\", \"sizeref\": 70287.06555555556, \"symbol\": \"circle\"}, \"mode\": \"markers\", \"name\": \"Food\", \"orientation\": \"v\", \"showlegend\": true, \"x\": [0], \"xaxis\": \"x\", \"y\": [22697055], \"yaxis\": \"y\", \"type\": \"scatter\"}, {\"hovertemplate\": \"<b>%{hovertext}</b><br><br>Category=Healthcare<br>Cycle=2016<br>To Dems & Liberals=%{x}<br>To Repubs and Conservs=%{y}<br>Total Contributions=%{marker.size}<extra></extra>\", \"hovertext\": [\"Adelson Clinic for Drug Abuse Treatment & Research\", \"Blue Cross/Blue Shield\"], \"legendgroup\": \"Healthcare\", \"marker\": {\"color\": \"#FFA15A\", \"size\": [38852700, 14503878], \"sizemode\": \"area\", \"sizeref\": 70287.06555555556, \"symbol\": \"circle\"}, \"mode\": \"markers\", \"name\": \"Healthcare\", \"orientation\": \"v\", \"showlegend\": true, \"x\": [40000, 7383349], \"xaxis\": \"x\", \"y\": [38835400, 7125620], \"yaxis\": \"y\", \"type\": \"scatter\"}, {\"hovertemplate\": \"<b>%{hovertext}</b><br><br>Category=Labor<br>Cycle=2016<br>To Dems & Liberals=%{x}<br>To Repubs and Conservs=%{y}<br>Total Contributions=%{marker.size}<extra></extra>\", \"hovertext\": [\"American Bankers Assn\", \"American Federation of Government Employees\", \"American Federation of State/Cnty/Munic Employees\", \"American Federation of Teachers\", \"Carpenters & Joiners Union\", \"International Brotherhood of Electrical Workers\", \"Laborers Union\", \"National Air Traffic Controllers Assn\", \"National Assn of Letter Carriers\", \"National Education Assn\", \"Operating Engineers Union\", \"Plumbers/Pipefitters Union\", \"Service Employees International Union\", \"Teamsters Union\", \"United Food & Commercial Workers Union\"], \"legendgroup\": \"Labor\", \"marker\": {\"color\": \"#19d3f3\", \"size\": [3612785, 3725846, 27838637, 25357430, 20072126, 16658468, 23958156, 3891200, 4190546, 18931767, 14559443, 15008865, 16468746, 4153277, 6131200], \"sizemode\": \"area\", \"sizeref\": 70287.06555555556, \"symbol\": \"circle\"}, \"mode\": \"markers\", \"name\": \"Labor\", \"orientation\": \"v\", \"showlegend\": true, \"x\": [858200, 3663096, 27773527, 25303882, 19165949, 16351786, 22897526, 3203700, 4105046, 18256710, 12930088, 14263065, 16355636, 4030552, 6091470], \"xaxis\": \"x\", \"y\": [2752085, 62250, 20475, 38200, 901427, 245582, 1057030, 684000, 82500, 671850, 1773202, 708300, 3100, 126000, 24730], \"yaxis\": \"y\", \"type\": \"scatter\"}, {\"hovertemplate\": \"<b>%{hovertext}</b><br><br>Category=Misc Business<br>Cycle=2016<br>To Dems & Liberals=%{x}<br>To Repubs and Conservs=%{y}<br>Total Contributions=%{marker.size}<extra></extra>\", \"hovertext\": [\"Home Depot\", \"Honeywell International\", \"Las Vegas Sands\", \"National Beer Wholesalers Assn\", \"Uline Inc\"], \"legendgroup\": \"Misc Business\", \"marker\": {\"color\": \"#FF6692\", \"size\": [3707711, 5185992, 51130020, 4010400, 29970597], \"sizemode\": \"area\", \"sizeref\": 70287.06555555556, \"symbol\": \"circle\"}, \"mode\": \"markers\", \"name\": \"Misc Business\", \"orientation\": \"v\", \"showlegend\": true, \"x\": [733430, 2248437, 54536, 1703400, 1072], \"xaxis\": \"x\", \"y\": [2974281, 2934555, 51098184, 2304500, 31182125], \"yaxis\": \"y\", \"type\": \"scatter\"}, {\"hovertemplate\": \"<b>%{hovertext}</b><br><br>Category=Technology<br>Cycle=2016<br>To Dems & Liberals=%{x}<br>To Repubs and Conservs=%{y}<br>Total Contributions=%{marker.size}<extra></extra>\", \"hovertext\": [\"AT&T Inc\", \"Alphabet Inc\", \"Asana\", \"Comcast Corp\", \"General Electric\", \"Google Inc\", \"Microsoft Corp\", \"Newsweb Corp\", \"Raytheon Technologies\", \"Verizon Communications\", \"Walt Disney Co\"], \"legendgroup\": \"Technology\", \"marker\": {\"color\": \"#B6E880\", \"size\": [16200788, 9151867, 18010376, 18094944, 4076109, 3859359, 3442690, 48468740, 5625488, 3444950, 11543099], \"sizemode\": \"area\", \"sizeref\": 70287.06555555556, \"symbol\": \"circle\"}, \"mode\": \"markers\", \"name\": \"Technology\", \"orientation\": \"v\", \"showlegend\": true, \"x\": [5454902, 6179872, 18009626, 12354438, 1645522, 2710748, 2168514, 48463340, 2170576, 1346208, 3815915], \"xaxis\": \"x\", \"y\": [10715777, 2066968, 0, 5752104, 2431612, 1084411, 1272698, 0, 3456999, 2092762, 7720966], \"yaxis\": \"y\", \"type\": \"scatter\"}, {\"hovertemplate\": \"<b>%{hovertext}</b><br><br>Category=Trust<br>Cycle=2016<br>To Dems & Liberals=%{x}<br>To Repubs and Conservs=%{y}<br>Total Contributions=%{marker.size}<extra></extra>\", \"hovertext\": [\"Bernard Marcus Family Foundation\", \"City of Philadelphia, PA\", \"Commonwealth of Pennsylvania\", \"EMILY's List\", \"For Our Future\", \"Good Ventures\", \"Jobs Ohio\", \"Laurel Foundation\", \"League of Conservation Voters\", \"McMahon Ventures\", \"NextGen Climate Action\", \"Priorities USA/Priorities USA Action\", \"Senate Leadership Fund\", \"Senate Majority PAC\"], \"legendgroup\": \"Trust\", \"marker\": {\"color\": \"#FF97FF\", \"size\": [13278450, 9218439, 10456121, 4133697, 18542614, 8996400, 10001000, 9021696, 13060444, 10931259, 38876998, 33354790, 22476800, 22815934], \"sizemode\": \"area\", \"sizeref\": 70287.06555555556, \"symbol\": \"circle\"}, \"mode\": \"markers\", \"name\": \"Trust\", \"orientation\": \"v\", \"showlegend\": true, \"x\": [0, 9207198, 10376628, 4133697, 18542614, 6996400, 0, 8908921, 12980422, 0, 38876998, 33354790, 0, 22790934], \"xaxis\": \"x\", \"y\": [13278450, 11241, 76489, 0, 0, 0, 10001000, 75, 75472, 10931259, 0, 0, 22476800, 0], \"yaxis\": \"y\", \"type\": \"scatter\"}, {\"hovertemplate\": \"<b>%{hovertext}</b><br><br>Category=Construction<br>Cycle=2016<br>To Dems & Liberals=%{x}<br>To Repubs and Conservs=%{y}<br>Total Contributions=%{marker.size}<extra></extra>\", \"hovertext\": [\"ABC Supply\", \"TAMKO Building Products\"], \"legendgroup\": \"Construction\", \"marker\": {\"color\": \"#FECB52\", \"size\": [14222545, 9779286], \"sizemode\": \"area\", \"sizeref\": 70287.06555555556, \"symbol\": \"circle\"}, \"mode\": \"markers\", \"name\": \"Construction\", \"orientation\": \"v\", \"showlegend\": true, \"x\": [1625, 1176], \"xaxis\": \"x\", \"y\": [14220645, 9978110], \"yaxis\": \"y\", \"type\": \"scatter\"}, {\"hovertemplate\": \"<b>%{hovertext}</b><br><br>Category=Defence<br>Cycle=2016<br>To Dems & Liberals=%{x}<br>To Repubs and Conservs=%{y}<br>Total Contributions=%{marker.size}<extra></extra>\", \"hovertext\": [\"Lockheed Martin\", \"Northrop Grumman\"], \"legendgroup\": \"Defence\", \"marker\": {\"color\": \"#636efa\", \"size\": [4138952, 4057879], \"sizemode\": \"area\", \"sizeref\": 70287.06555555556, \"symbol\": \"circle\"}, \"mode\": \"markers\", \"name\": \"Defence\", \"orientation\": \"v\", \"showlegend\": true, \"x\": [1689637, 1715803], \"xaxis\": \"x\", \"y\": [2442176, 2343681], \"yaxis\": \"y\", \"type\": \"scatter\"}, {\"hovertemplate\": \"<b>%{hovertext}</b><br><br>Category=Hospitality<br>Cycle=2016<br>To Dems & Liberals=%{x}<br>To Repubs and Conservs=%{y}<br>Total Contributions=%{marker.size}<extra></extra>\", \"hovertext\": [\"Starr Companies\"], \"legendgroup\": \"Hospitality\", \"marker\": {\"color\": \"#EF553B\", \"size\": [15343105], \"sizemode\": \"area\", \"sizeref\": 70287.06555555556, \"symbol\": \"circle\"}, \"mode\": \"markers\", \"name\": \"Hospitality\", \"orientation\": \"v\", \"showlegend\": true, \"x\": [11744], \"xaxis\": \"x\", \"y\": [15331361], \"yaxis\": \"y\", \"type\": \"scatter\"}, {\"hovertemplate\": \"<b>%{hovertext}</b><br><br>Category=Law<br>Cycle=2016<br>To Dems & Liberals=%{x}<br>To Repubs and Conservs=%{y}<br>Total Contributions=%{marker.size}<extra></extra>\", \"hovertext\": [\"American Assn for Justice\"], \"legendgroup\": \"Law\", \"marker\": {\"color\": \"#00cc96\", \"size\": [4744015], \"sizemode\": \"area\", \"sizeref\": 70287.06555555556, \"symbol\": \"circle\"}, \"mode\": \"markers\", \"name\": \"Law\", \"orientation\": \"v\", \"showlegend\": true, \"x\": [4644326], \"xaxis\": \"x\", \"y\": [104689], \"yaxis\": \"y\", \"type\": \"scatter\"}, {\"hovertemplate\": \"<b>%{hovertext}</b><br><br>Category=Sports<br>Cycle=2016<br>To Dems & Liberals=%{x}<br>To Repubs and Conservs=%{y}<br>Total Contributions=%{marker.size}<extra></extra>\", \"hovertext\": [\"Chicago Cubs\", \"Houston Texans\"], \"legendgroup\": \"Sports\", \"marker\": {\"color\": \"#ab63fa\", \"size\": [15382238, 15259610], \"sizemode\": \"area\", \"sizeref\": 70287.06555555556, \"symbol\": \"circle\"}, \"mode\": \"markers\", \"name\": \"Sports\", \"orientation\": \"v\", \"showlegend\": true, \"x\": [5450, 2700], \"xaxis\": \"x\", \"y\": [15376788, 15259510], \"yaxis\": \"y\", \"type\": \"scatter\"}], \"name\": \"2016\"}, {\"data\": [{\"hovertemplate\": \"<b>%{hovertext}</b><br><br>Category=Education<br>Cycle=2012<br>To Dems & Liberals=%{x}<br>To Repubs and Conservs=%{y}<br>Total Contributions=%{marker.size}<extra></extra>\", \"hovertext\": [\"University of California\"], \"legendgroup\": \"Education\", \"marker\": {\"color\": \"#636efa\", \"size\": [5141314], \"sizemode\": \"area\", \"sizeref\": 70287.06555555556, \"symbol\": \"circle\"}, \"mode\": \"markers\", \"name\": \"Education\", \"orientation\": \"v\", \"showlegend\": true, \"x\": [4817846], \"xaxis\": \"x\", \"y\": [308058], \"yaxis\": \"y\", \"type\": \"scatter\"}, {\"hovertemplate\": \"<b>%{hovertext}</b><br><br>Category=Energy<br>Cycle=2012<br>To Dems & Liberals=%{x}<br>To Repubs and Conservs=%{y}<br>Total Contributions=%{marker.size}<extra></extra>\", \"hovertext\": [\"Alliance Resource Partners\", \"Koch Industries\", \"Oxbow Corp\"], \"legendgroup\": \"Energy\", \"marker\": {\"color\": \"#EF553B\", \"size\": [8772275, 2674413, 5005050], \"sizemode\": \"area\", \"sizeref\": 70287.06555555556, \"symbol\": \"circle\"}, \"mode\": \"markers\", \"name\": \"Energy\", \"orientation\": \"v\", \"showlegend\": true, \"x\": [77650, 241999, 20000], \"xaxis\": \"x\", \"y\": [8694625, 2414714, 4980050], \"yaxis\": \"y\", \"type\": \"scatter\"}, {\"hovertemplate\": \"<b>%{hovertext}</b><br><br>Category=Finance/Insurance/Real Estate<br>Cycle=2012<br>To Dems & Liberals=%{x}<br>To Repubs and Conservs=%{y}<br>Total Contributions=%{marker.size}<extra></extra>\", \"hovertext\": [\"Bain Capital\", \"Bank of America\", \"Berkshire Hathaway\", \"Blackstone Group\", \"Clarium Capital Management\", \"Contran Corp\", \"Deloitte LLP\", \"Elliott Management\", \"Goldman Sachs\", \"Hugo Enterprises\", \"JPMorgan Chase & Co\", \"JW Childs Assoc\", \"Morgan Stanley\", \"National Assn of Realtors\", \"New York Life Insurance\", \"Perry Homes\", \"PricewaterhouseCoopers\", \"Public Storage Inc\", \"Renaissance Technologies\", \"Wells Fargo\"], \"legendgroup\": \"Finance/Insurance/Real Estate\", \"marker\": {\"color\": \"#00cc96\", \"size\": [5728208, 8275934, 7402175, 5196410, 4840701, 31742618, 7545793, 6351931, 12281327, 13303454, 5495228, 4447450, 4354821, 9420956, 2911647, 32187940, 2671103, 4837950, 17498450, 4551022], \"sizemode\": \"area\", \"sizeref\": 70287.06555555556, \"symbol\": \"circle\"}, \"mode\": \"markers\", \"name\": \"Finance/Insurance/Real Estate\", \"orientation\": \"v\", \"showlegend\": true, \"x\": [705510, 2486971, 2447192, 1679546, 2500, 100268, 2892109, 1050, 3162021, 2500, 2055475, 4300, 1236073, 4690703, 1512217, 4000, 1171600, 1000, 11611096, 1251924], \"xaxis\": \"x\", \"y\": [5014698, 5755334, 4933563, 3516634, 4838201, 31642350, 4631819, 6352981, 9121806, 12795954, 3432369, 4443150, 3113698, 4673003, 1397930, 31618940, 1498303, 4836950, 5887354, 3288797], \"yaxis\": \"y\", \"type\": \"scatter\"}, {\"hovertemplate\": \"<b>%{hovertext}</b><br><br>Category=Healthcare<br>Cycle=2012<br>To Dems & Liberals=%{x}<br>To Repubs and Conservs=%{y}<br>Total Contributions=%{marker.size}<extra></extra>\", \"hovertext\": [\"Adelson Clinic for Drug Abuse Treatment & Research\", \"Blue Cross/Blue Shield\", \"Pharmaceutical Product Development Inc\"], \"legendgroup\": \"Healthcare\", \"marker\": {\"color\": \"#FFA15A\", \"size\": [42118700, 8686172, 12990110], \"sizemode\": \"area\", \"sizeref\": 70287.06555555556, \"symbol\": \"circle\"}, \"mode\": \"markers\", \"name\": \"Healthcare\", \"orientation\": \"v\", \"showlegend\": true, \"x\": [0, 3051851, 2000], \"xaxis\": \"x\", \"y\": [42118700, 5625876, 12988110], \"yaxis\": \"y\", \"type\": \"scatter\"}, {\"hovertemplate\": \"<b>%{hovertext}</b><br><br>Category=Labor<br>Cycle=2012<br>To Dems & Liberals=%{x}<br>To Repubs and Conservs=%{y}<br>Total Contributions=%{marker.size}<extra></extra>\", \"hovertext\": [\"American Bankers Assn\", \"American Federation of State/Cnty/Munic Employees\", \"American Federation of Teachers\", \"Carpenters & Joiners Union\", \"Communications Workers of America\", \"Credit Union National Assn\", \"International Assn of Fire Fighters\", \"International Brotherhood of Electrical Workers\", \"Laborers Union\", \"Machinists/Aerospace Workers Union\", \"National Air Traffic Controllers Assn\", \"National Assn of Home Builders\", \"National Assn of Letter Carriers\", \"National Education Assn\", \"Operating Engineers Union\", \"Plumbers/Pipefitters Union\", \"Service Employees International Union\", \"Teamsters Union\", \"United Auto Workers\", \"United Food & Commercial Workers Union\"], \"legendgroup\": \"Labor\", \"marker\": {\"color\": \"#19d3f3\", \"size\": [3728174, 20409799, 15174342, 11638795, 2788915, 2825106, 3758650, 12156889, 12720033, 2564600, 7000787, 2732600, 8724750, 11829395, 8485054, 6286155, 22792595, 9345018, 4566694, 9184986], \"sizemode\": \"area\", \"sizeref\": 70287.06555555556, \"symbol\": \"circle\"}, \"mode\": \"markers\", \"name\": \"Labor\", \"orientation\": \"v\", \"showlegend\": true, \"x\": [1184655, 20252539, 14775842, 10984495, 2700315, 1546260, 3205050, 11882785, 11927252, 2515600, 5868787, 1011800, 8589750, 10733572, 7158403, 6140253, 22546255, 9044468, 4539044, 9141486], \"xaxis\": \"x\", \"y\": [2536019, 34300, 33500, 639300, 40100, 1265846, 529600, 175804, 502800, 34000, 1122000, 1700800, 124000, 797173, 1290651, 133402, 14250, 214300, 18500, 15000], \"yaxis\": \"y\", \"type\": \"scatter\"}, {\"hovertemplate\": \"<b>%{hovertext}</b><br><br>Category=Misc Business<br>Cycle=2012<br>To Dems & Liberals=%{x}<br>To Repubs and Conservs=%{y}<br>Total Contributions=%{marker.size}<extra></extra>\", \"hovertext\": [\"Honeywell International\", \"Las Vegas Sands\", \"National Beer Wholesalers Assn\", \"Specialty Group Inc\", \"TRT Holdings\"], \"legendgroup\": \"Misc Business\", \"marker\": {\"color\": \"#FF6692\", \"size\": [10061835, 52850975, 3820591, 10575000, 12431781], \"sizemode\": \"area\", \"sizeref\": 70287.06555555556, \"symbol\": \"circle\"}, \"mode\": \"markers\", \"name\": \"Misc Business\", \"orientation\": \"v\", \"showlegend\": true, \"x\": [4556125, 2000, 2044841, 0, 1500], \"xaxis\": \"x\", \"y\": [5480210, 52848975, 1770500, 10575000, 12430181], \"yaxis\": \"y\", \"type\": \"scatter\"}, {\"hovertemplate\": \"<b>%{hovertext}</b><br><br>Category=Technology<br>Cycle=2012<br>To Dems & Liberals=%{x}<br>To Repubs and Conservs=%{y}<br>Total Contributions=%{marker.size}<extra></extra>\", \"hovertext\": [\"AT&T Inc\", \"Comcast Corp\", \"DreamWorks SKG\", \"General Electric\", \"Microsoft Corp\", \"Newsweb Corp\", \"Oracle Corp\", \"Raytheon Technologies\"], \"legendgroup\": \"Technology\", \"marker\": {\"color\": \"#B6E880\", \"size\": [10121664, 9646796, 4944716, 3493090, 7905752, 14720700, 4582396, 9717251], \"sizemode\": \"area\", \"sizeref\": 70287.06555555556, \"symbol\": \"circle\"}, \"mode\": \"markers\", \"name\": \"Technology\", \"orientation\": \"v\", \"showlegend\": true, \"x\": [3845535, 5885731, 4939716, 1971456, 5044145, 14715700, 792847, 4446615], \"xaxis\": \"x\", \"y\": [6242129, 3755117, 5000, 1511834, 2841512, 5000, 3788279, 5223571], \"yaxis\": \"y\", \"type\": \"scatter\"}, {\"hovertemplate\": \"<b>%{hovertext}</b><br><br>Category=Trust<br>Cycle=2012<br>To Dems & Liberals=%{x}<br>To Repubs and Conservs=%{y}<br>Total Contributions=%{marker.size}<extra></extra>\", \"hovertext\": [\"City of New York, NY\", \"Club for Growth\", \"Democratic Attorneys General Assn\", \"Democratic Governors Assn\", \"EMILY's List\", \"Harold C Simmons Family Trust\", \"Sheet Metal, Air, Rail & Transportation Union\"], \"legendgroup\": \"Trust\", \"marker\": {\"color\": \"#FF97FF\", \"size\": [14612794, 4018872, 3335000, 8887000, 2767207, 4000000, 3755850], \"sizemode\": \"area\", \"sizeref\": 70287.06555555556, \"symbol\": \"circle\"}, \"mode\": \"markers\", \"name\": \"Trust\", \"orientation\": \"v\", \"showlegend\": true, \"x\": [13854948, 0, 0, 5552000, 2767207, 0, 3585140], \"xaxis\": \"x\", \"y\": [131036, 3800791, 0, 0, 0, 4000000, 159210], \"yaxis\": \"y\", \"type\": \"scatter\"}, {\"hovertemplate\": \"<b>%{hovertext}</b><br><br>Category=Defence<br>Cycle=2012<br>To Dems & Liberals=%{x}<br>To Repubs and Conservs=%{y}<br>Total Contributions=%{marker.size}<extra></extra>\", \"hovertext\": [\"Lockheed Martin\"], \"legendgroup\": \"Defence\", \"marker\": {\"color\": \"#636efa\", \"size\": [3365696], \"sizemode\": \"area\", \"sizeref\": 70287.06555555556, \"symbol\": \"circle\"}, \"mode\": \"markers\", \"name\": \"Defence\", \"orientation\": \"v\", \"showlegend\": true, \"x\": [1831348], \"xaxis\": \"x\", \"y\": [1526393], \"yaxis\": \"y\", \"type\": \"scatter\"}, {\"hovertemplate\": \"<b>%{hovertext}</b><br><br>Category=Hospitality<br>Cycle=2012<br>To Dems & Liberals=%{x}<br>To Repubs and Conservs=%{y}<br>Total Contributions=%{marker.size}<extra></extra>\", \"hovertext\": [\"American Hospital Assn\"], \"legendgroup\": \"Hospitality\", \"marker\": {\"color\": \"#EF553B\", \"size\": [2582625], \"sizemode\": \"area\", \"sizeref\": 70287.06555555556, \"symbol\": \"circle\"}, \"mode\": \"markers\", \"name\": \"Hospitality\", \"orientation\": \"v\", \"showlegend\": true, \"x\": [1575792], \"xaxis\": \"x\", \"y\": [1000333], \"yaxis\": \"y\", \"type\": \"scatter\"}, {\"hovertemplate\": \"<b>%{hovertext}</b><br><br>Category=Law<br>Cycle=2012<br>To Dems & Liberals=%{x}<br>To Repubs and Conservs=%{y}<br>Total Contributions=%{marker.size}<extra></extra>\", \"hovertext\": [\"American Assn for Justice\", \"Mostyn Law Firm\"], \"legendgroup\": \"Law\", \"marker\": {\"color\": \"#00cc96\", \"size\": [9602394, 5460391], \"sizemode\": \"area\", \"sizeref\": 70287.06555555556, \"symbol\": \"circle\"}, \"mode\": \"markers\", \"name\": \"Law\", \"orientation\": \"v\", \"showlegend\": true, \"x\": [9295244, 5442230], \"xaxis\": \"x\", \"y\": [235500, 18161], \"yaxis\": \"y\", \"type\": \"scatter\"}, {\"hovertemplate\": \"<b>%{hovertext}</b><br><br>Category=Transportation<br>Cycle=2012<br>To Dems & Liberals=%{x}<br>To Repubs and Conservs=%{y}<br>Total Contributions=%{marker.size}<extra></extra>\", \"hovertext\": [\"National Auto Dealers Assn\", \"United Parcel Service\"], \"legendgroup\": \"Transportation\", \"marker\": {\"color\": \"#FFA15A\", \"size\": [2759400, 2888982], \"sizemode\": \"area\", \"sizeref\": 70287.06555555556, \"symbol\": \"circle\"}, \"mode\": \"markers\", \"name\": \"Transportation\", \"orientation\": \"v\", \"showlegend\": true, \"x\": [1243500, 1206877], \"xaxis\": \"x\", \"y\": [1510900, 1665355], \"yaxis\": \"y\", \"type\": \"scatter\"}, {\"hovertemplate\": \"<b>%{hovertext}</b><br><br>Category=Transportation <br>Cycle=2012<br>To Dems & Liberals=%{x}<br>To Repubs and Conservs=%{y}<br>Total Contributions=%{marker.size}<extra></extra>\", \"hovertext\": [\"Boeing Co\"], \"legendgroup\": \"Transportation \", \"marker\": {\"color\": \"#19d3f3\", \"size\": [3366737], \"sizemode\": \"area\", \"sizeref\": 70287.06555555556, \"symbol\": \"circle\"}, \"mode\": \"markers\", \"name\": \"Transportation \", \"orientation\": \"v\", \"showlegend\": true, \"x\": [1847340], \"xaxis\": \"x\", \"y\": [1511582], \"yaxis\": \"y\", \"type\": \"scatter\"}], \"name\": \"2012\"}]);\n",
       "                        }).then(function(){\n",
       "                            \n",
       "var gd = document.getElementById('9979f906-a1d1-4082-ab32-127156ef6965');\n",
       "var x = new MutationObserver(function (mutations, observer) {{\n",
       "        var display = window.getComputedStyle(gd).display;\n",
       "        if (!display || display === 'none') {{\n",
       "            console.log([gd, 'removed!']);\n",
       "            Plotly.purge(gd);\n",
       "            observer.disconnect();\n",
       "        }}\n",
       "}});\n",
       "\n",
       "// Listen for the removal of the full notebook cells\n",
       "var notebookContainer = gd.closest('#notebook-container');\n",
       "if (notebookContainer) {{\n",
       "    x.observe(notebookContainer, {childList: true});\n",
       "}}\n",
       "\n",
       "// Listen for the clearing of the current output cell\n",
       "var outputEl = gd.closest('.output');\n",
       "if (outputEl) {{\n",
       "    x.observe(outputEl, {childList: true});\n",
       "}}\n",
       "\n",
       "                        })                };                });            </script>        </div>"
      ]
     },
     "metadata": {},
     "output_type": "display_data"
    }
   ],
   "source": [
    "import plotly.express as px\n",
    "\n",
    "fig = px.scatter(result, x=\"To Dems & Liberals\", y=\"To Repubs and Conservs\",\n",
    "\t         size=\"Total Contributions\", color=\"Category\",\n",
    "           animation_frame = \"Cycle\",\n",
    "                 hover_name=\"Organization\", log_x=True, log_y=True, size_max=60)\n",
    "\n",
    "fig.update_layout(xaxis_range=(0, np.log10(result[\"To Dems & Liberals\"].max())),\n",
    "                 yaxis_range=(0, np.log10(result[\"To Repubs and Conservs\"].max())))\n",
    "fig.show()\n",
    "pio.write_html(fig, \"Graphs/yearwise_company_donations.html.html\")"
   ]
  },
  {
   "cell_type": "code",
   "execution_count": 38,
   "metadata": {},
   "outputs": [
    {
     "data": {
      "application/vnd.plotly.v1+json": {
       "config": {
        "plotlyServerURL": "https://plot.ly"
       },
       "data": [
        {
         "hovertemplate": "<b>%{hovertext}</b><br><br>Organization=Bain Capital<br>Cycle=2020<br>To Dems & Liberals=%{x}<br>To Repubs and Conservs=%{y}<br>Total Contributions=%{marker.size}<extra></extra>",
         "hovertext": [
          "Bain Capital"
         ],
         "legendgroup": "Bain Capital",
         "marker": {
          "color": "#636efa",
          "size": [
           30857523
          ],
          "sizemode": "area",
          "sizeref": 70287.06555555556,
          "symbol": "circle"
         },
         "mode": "markers",
         "name": "Bain Capital",
         "orientation": "v",
         "showlegend": true,
         "type": "scatter",
         "x": [
          29990791
         ],
         "xaxis": "x",
         "y": [
          345051
         ],
         "yaxis": "y"
        },
        {
         "hovertemplate": "<b>%{hovertext}</b><br><br>Organization=Baupost Group<br>Cycle=2020<br>To Dems & Liberals=%{x}<br>To Repubs and Conservs=%{y}<br>Total Contributions=%{marker.size}<extra></extra>",
         "hovertext": [
          "Baupost Group"
         ],
         "legendgroup": "Baupost Group",
         "marker": {
          "color": "#EF553B",
          "size": [
           7262135
          ],
          "sizemode": "area",
          "sizeref": 70287.06555555556,
          "symbol": "circle"
         },
         "mode": "markers",
         "name": "Baupost Group",
         "orientation": "v",
         "showlegend": true,
         "type": "scatter",
         "x": [
          6091435
         ],
         "xaxis": "x",
         "y": [
          440300
         ],
         "yaxis": "y"
        },
        {
         "hovertemplate": "<b>%{hovertext}</b><br><br>Organization=Blackstone Group<br>Cycle=2020<br>To Dems & Liberals=%{x}<br>To Repubs and Conservs=%{y}<br>Total Contributions=%{marker.size}<extra></extra>",
         "hovertext": [
          "Blackstone Group"
         ],
         "legendgroup": "Blackstone Group",
         "marker": {
          "color": "#00cc96",
          "size": [
           58610728
          ],
          "sizemode": "area",
          "sizeref": 70287.06555555556,
          "symbol": "circle"
         },
         "mode": "markers",
         "name": "Blackstone Group",
         "orientation": "v",
         "showlegend": true,
         "type": "scatter",
         "x": [
          7942861
         ],
         "xaxis": "x",
         "y": [
          50660403
         ],
         "yaxis": "y"
        },
        {
         "hovertemplate": "<b>%{hovertext}</b><br><br>Organization=Bloomberg LP<br>Cycle=2020<br>To Dems & Liberals=%{x}<br>To Repubs and Conservs=%{y}<br>Total Contributions=%{marker.size}<extra></extra>",
         "hovertext": [
          "Bloomberg LP"
         ],
         "legendgroup": "Bloomberg LP",
         "marker": {
          "color": "#ab63fa",
          "size": [
           253033436
          ],
          "sizemode": "area",
          "sizeref": 70287.06555555556,
          "symbol": "circle"
         },
         "mode": "markers",
         "name": "Bloomberg LP",
         "orientation": "v",
         "showlegend": true,
         "type": "scatter",
         "x": [
          252193134
         ],
         "xaxis": "x",
         "y": [
          80823
         ],
         "yaxis": "y"
        },
        {
         "hovertemplate": "<b>%{hovertext}</b><br><br>Organization=Charles Schwab Corp<br>Cycle=2020<br>To Dems & Liberals=%{x}<br>To Repubs and Conservs=%{y}<br>Total Contributions=%{marker.size}<extra></extra>",
         "hovertext": [
          "Charles Schwab Corp"
         ],
         "legendgroup": "Charles Schwab Corp",
         "marker": {
          "color": "#FFA15A",
          "size": [
           40756670
          ],
          "sizemode": "area",
          "sizeref": 70287.06555555556,
          "symbol": "circle"
         },
         "mode": "markers",
         "name": "Charles Schwab Corp",
         "orientation": "v",
         "showlegend": true,
         "type": "scatter",
         "x": [
          1203893
         ],
         "xaxis": "x",
         "y": [
          39548175
         ],
         "yaxis": "y"
        },
        {
         "hovertemplate": "<b>%{hovertext}</b><br><br>Organization=Citadel LLC<br>Cycle=2020<br>To Dems & Liberals=%{x}<br>To Repubs and Conservs=%{y}<br>Total Contributions=%{marker.size}<extra></extra>",
         "hovertext": [
          "Citadel LLC"
         ],
         "legendgroup": "Citadel LLC",
         "marker": {
          "color": "#19d3f3",
          "size": [
           87504144
          ],
          "sizemode": "area",
          "sizeref": 70287.06555555556,
          "symbol": "circle"
         },
         "mode": "markers",
         "name": "Citadel LLC",
         "orientation": "v",
         "showlegend": true,
         "type": "scatter",
         "x": [
          612542
         ],
         "xaxis": "x",
         "y": [
          86885484
         ],
         "yaxis": "y"
        },
        {
         "hovertemplate": "<b>%{hovertext}</b><br><br>Organization=Elliott Management<br>Cycle=2020<br>To Dems & Liberals=%{x}<br>To Repubs and Conservs=%{y}<br>Total Contributions=%{marker.size}<extra></extra>",
         "hovertext": [
          "Elliott Management"
         ],
         "legendgroup": "Elliott Management",
         "marker": {
          "color": "#FF6692",
          "size": [
           24091809
          ],
          "sizemode": "area",
          "sizeref": 70287.06555555556,
          "symbol": "circle"
         },
         "mode": "markers",
         "name": "Elliott Management",
         "orientation": "v",
         "showlegend": true,
         "type": "scatter",
         "x": [
          387830
         ],
         "xaxis": "x",
         "y": [
          23424777
         ],
         "yaxis": "y"
        },
        {
         "hovertemplate": "<b>%{hovertext}</b><br><br>Organization=Euclidean Capital<br>Cycle=2020<br>To Dems & Liberals=%{x}<br>To Repubs and Conservs=%{y}<br>Total Contributions=%{marker.size}<extra></extra>",
         "hovertext": [
          "Euclidean Capital"
         ],
         "legendgroup": "Euclidean Capital",
         "marker": {
          "color": "#B6E880",
          "size": [
           30795103
          ],
          "sizemode": "area",
          "sizeref": 70287.06555555556,
          "symbol": "circle"
         },
         "mode": "markers",
         "name": "Euclidean Capital",
         "orientation": "v",
         "showlegend": true,
         "type": "scatter",
         "x": [
          30786703
         ],
         "xaxis": "x",
         "y": [
          0
         ],
         "yaxis": "y"
        },
        {
         "hovertemplate": "<b>%{hovertext}</b><br><br>Organization=Fahr LLC<br>Cycle=2020<br>To Dems & Liberals=%{x}<br>To Repubs and Conservs=%{y}<br>Total Contributions=%{marker.size}<extra></extra>",
         "hovertext": [
          "Fahr LLC"
         ],
         "legendgroup": "Fahr LLC",
         "marker": {
          "color": "#FF97FF",
          "size": [
           143848528
          ],
          "sizemode": "area",
          "sizeref": 70287.06555555556,
          "symbol": "circle"
         },
         "mode": "markers",
         "name": "Fahr LLC",
         "orientation": "v",
         "showlegend": true,
         "type": "scatter",
         "x": [
          143846520
         ],
         "xaxis": "x",
         "y": [
          0
         ],
         "yaxis": "y"
        },
        {
         "hovertemplate": "<b>%{hovertext}</b><br><br>Organization=Intercontinental Exchange Inc<br>Cycle=2020<br>To Dems & Liberals=%{x}<br>To Repubs and Conservs=%{y}<br>Total Contributions=%{marker.size}<extra></extra>",
         "hovertext": [
          "Intercontinental Exchange Inc"
         ],
         "legendgroup": "Intercontinental Exchange Inc",
         "marker": {
          "color": "#FECB52",
          "size": [
           13342871
          ],
          "sizemode": "area",
          "sizeref": 70287.06555555556,
          "symbol": "circle"
         },
         "mode": "markers",
         "name": "Intercontinental Exchange Inc",
         "orientation": "v",
         "showlegend": true,
         "type": "scatter",
         "x": [
          135144
         ],
         "xaxis": "x",
         "y": [
          13205956
         ],
         "yaxis": "y"
        },
        {
         "hovertemplate": "<b>%{hovertext}</b><br><br>Organization=Lone Pine Capital<br>Cycle=2020<br>To Dems & Liberals=%{x}<br>To Repubs and Conservs=%{y}<br>Total Contributions=%{marker.size}<extra></extra>",
         "hovertext": [
          "Lone Pine Capital"
         ],
         "legendgroup": "Lone Pine Capital",
         "marker": {
          "color": "#636efa",
          "size": [
           15233025
          ],
          "sizemode": "area",
          "sizeref": 70287.06555555556,
          "symbol": "circle"
         },
         "mode": "markers",
         "name": "Lone Pine Capital",
         "orientation": "v",
         "showlegend": true,
         "type": "scatter",
         "x": [
          15221725
         ],
         "xaxis": "x",
         "y": [
          100
         ],
         "yaxis": "y"
        },
        {
         "hovertemplate": "<b>%{hovertext}</b><br><br>Organization=Marcus & Millichap<br>Cycle=2020<br>To Dems & Liberals=%{x}<br>To Repubs and Conservs=%{y}<br>Total Contributions=%{marker.size}<extra></extra>",
         "hovertext": [
          "Marcus & Millichap"
         ],
         "legendgroup": "Marcus & Millichap",
         "marker": {
          "color": "#EF553B",
          "size": [
           22965862
          ],
          "sizemode": "area",
          "sizeref": 70287.06555555556,
          "symbol": "circle"
         },
         "mode": "markers",
         "name": "Marcus & Millichap",
         "orientation": "v",
         "showlegend": true,
         "type": "scatter",
         "x": [
          22687603
         ],
         "xaxis": "x",
         "y": [
          275256
         ],
         "yaxis": "y"
        },
        {
         "hovertemplate": "<b>%{hovertext}</b><br><br>Organization=National Assn of Realtors<br>Cycle=2020<br>To Dems & Liberals=%{x}<br>To Repubs and Conservs=%{y}<br>Total Contributions=%{marker.size}<extra></extra>",
         "hovertext": [
          "National Assn of Realtors"
         ],
         "legendgroup": "National Assn of Realtors",
         "marker": {
          "color": "#00cc96",
          "size": [
           13665382
          ],
          "sizemode": "area",
          "sizeref": 70287.06555555556,
          "symbol": "circle"
         },
         "mode": "markers",
         "name": "National Assn of Realtors",
         "orientation": "v",
         "showlegend": true,
         "type": "scatter",
         "x": [
          3636873
         ],
         "xaxis": "x",
         "y": [
          3430107
         ],
         "yaxis": "y"
        },
        {
         "hovertemplate": "<b>%{hovertext}</b><br><br>Organization=Paloma Partners<br>Cycle=2020<br>To Dems & Liberals=%{x}<br>To Repubs and Conservs=%{y}<br>Total Contributions=%{marker.size}<extra></extra>",
         "hovertext": [
          "Paloma Partners"
         ],
         "legendgroup": "Paloma Partners",
         "marker": {
          "color": "#ab63fa",
          "size": [
           53252773
          ],
          "sizemode": "area",
          "sizeref": 70287.06555555556,
          "symbol": "circle"
         },
         "mode": "markers",
         "name": "Paloma Partners",
         "orientation": "v",
         "showlegend": true,
         "type": "scatter",
         "x": [
          53203863
         ],
         "xaxis": "x",
         "y": [
          5600
         ],
         "yaxis": "y"
        },
        {
         "hovertemplate": "<b>%{hovertext}</b><br><br>Organization=Renaissance Technologies<br>Cycle=2020<br>To Dems & Liberals=%{x}<br>To Repubs and Conservs=%{y}<br>Total Contributions=%{marker.size}<extra></extra>",
         "hovertext": [
          "Renaissance Technologies"
         ],
         "legendgroup": "Renaissance Technologies",
         "marker": {
          "color": "#FFA15A",
          "size": [
           36838542
          ],
          "sizemode": "area",
          "sizeref": 70287.06555555556,
          "symbol": "circle"
         },
         "mode": "markers",
         "name": "Renaissance Technologies",
         "orientation": "v",
         "showlegend": true,
         "type": "scatter",
         "x": [
          28738958
         ],
         "xaxis": "x",
         "y": [
          7888834
         ],
         "yaxis": "y"
        },
        {
         "hovertemplate": "<b>%{hovertext}</b><br><br>Organization=Ryan Specialty Group<br>Cycle=2020<br>To Dems & Liberals=%{x}<br>To Repubs and Conservs=%{y}<br>Total Contributions=%{marker.size}<extra></extra>",
         "hovertext": [
          "Ryan Specialty Group"
         ],
         "legendgroup": "Ryan Specialty Group",
         "marker": {
          "color": "#19d3f3",
          "size": [
           15134992
          ],
          "sizemode": "area",
          "sizeref": 70287.06555555556,
          "symbol": "circle"
         },
         "mode": "markers",
         "name": "Ryan Specialty Group",
         "orientation": "v",
         "showlegend": true,
         "type": "scatter",
         "x": [
          42858
         ],
         "xaxis": "x",
         "y": [
          15092063
         ],
         "yaxis": "y"
        },
        {
         "hovertemplate": "<b>%{hovertext}</b><br><br>Organization=Soros Fund Management<br>Cycle=2020<br>To Dems & Liberals=%{x}<br>To Repubs and Conservs=%{y}<br>Total Contributions=%{marker.size}<extra></extra>",
         "hovertext": [
          "Soros Fund Management"
         ],
         "legendgroup": "Soros Fund Management",
         "marker": {
          "color": "#FF6692",
          "size": [
           20239421
          ],
          "sizemode": "area",
          "sizeref": 70287.06555555556,
          "symbol": "circle"
         },
         "mode": "markers",
         "name": "Soros Fund Management",
         "orientation": "v",
         "showlegend": true,
         "type": "scatter",
         "x": [
          20216321
         ],
         "xaxis": "x",
         "y": [
          23100
         ],
         "yaxis": "y"
        },
        {
         "hovertemplate": "<b>%{hovertext}</b><br><br>Organization=Stephens Group<br>Cycle=2020<br>To Dems & Liberals=%{x}<br>To Repubs and Conservs=%{y}<br>Total Contributions=%{marker.size}<extra></extra>",
         "hovertext": [
          "Stephens Group"
         ],
         "legendgroup": "Stephens Group",
         "marker": {
          "color": "#B6E880",
          "size": [
           18015666
          ],
          "sizemode": "area",
          "sizeref": 70287.06555555556,
          "symbol": "circle"
         },
         "mode": "markers",
         "name": "Stephens Group",
         "orientation": "v",
         "showlegend": true,
         "type": "scatter",
         "x": [
          9280
         ],
         "xaxis": "x",
         "y": [
          18006359
         ],
         "yaxis": "y"
        },
        {
         "hovertemplate": "<b>%{hovertext}</b><br><br>Organization=Susquehanna International Group<br>Cycle=2020<br>To Dems & Liberals=%{x}<br>To Repubs and Conservs=%{y}<br>Total Contributions=%{marker.size}<extra></extra>",
         "hovertext": [
          "Susquehanna International Group"
         ],
         "legendgroup": "Susquehanna International Group",
         "marker": {
          "color": "#FF97FF",
          "size": [
           38411615
          ],
          "sizemode": "area",
          "sizeref": 70287.06555555556,
          "symbol": "circle"
         },
         "mode": "markers",
         "name": "Susquehanna International Group",
         "orientation": "v",
         "showlegend": true,
         "type": "scatter",
         "x": [
          166985
         ],
         "xaxis": "x",
         "y": [
          37415732
         ],
         "yaxis": "y"
        },
        {
         "hovertemplate": "<b>%{hovertext}</b><br><br>Organization=Wicklow Capital<br>Cycle=2020<br>To Dems & Liberals=%{x}<br>To Repubs and Conservs=%{y}<br>Total Contributions=%{marker.size}<extra></extra>",
         "hovertext": [
          "Wicklow Capital"
         ],
         "legendgroup": "Wicklow Capital",
         "marker": {
          "color": "#FECB52",
          "size": [
           7491963
          ],
          "sizemode": "area",
          "sizeref": 70287.06555555556,
          "symbol": "circle"
         },
         "mode": "markers",
         "name": "Wicklow Capital",
         "orientation": "v",
         "showlegend": true,
         "type": "scatter",
         "x": [
          6662963
         ],
         "xaxis": "x",
         "y": [
          729000
         ],
         "yaxis": "y"
        }
       ],
       "frames": [
        {
         "data": [
          {
           "hovertemplate": "<b>%{hovertext}</b><br><br>Organization=Bain Capital<br>Cycle=2020<br>To Dems & Liberals=%{x}<br>To Repubs and Conservs=%{y}<br>Total Contributions=%{marker.size}<extra></extra>",
           "hovertext": [
            "Bain Capital"
           ],
           "legendgroup": "Bain Capital",
           "marker": {
            "color": "#636efa",
            "size": [
             30857523
            ],
            "sizemode": "area",
            "sizeref": 70287.06555555556,
            "symbol": "circle"
           },
           "mode": "markers",
           "name": "Bain Capital",
           "orientation": "v",
           "showlegend": true,
           "type": "scatter",
           "x": [
            29990791
           ],
           "xaxis": "x",
           "y": [
            345051
           ],
           "yaxis": "y"
          },
          {
           "hovertemplate": "<b>%{hovertext}</b><br><br>Organization=Baupost Group<br>Cycle=2020<br>To Dems & Liberals=%{x}<br>To Repubs and Conservs=%{y}<br>Total Contributions=%{marker.size}<extra></extra>",
           "hovertext": [
            "Baupost Group"
           ],
           "legendgroup": "Baupost Group",
           "marker": {
            "color": "#EF553B",
            "size": [
             7262135
            ],
            "sizemode": "area",
            "sizeref": 70287.06555555556,
            "symbol": "circle"
           },
           "mode": "markers",
           "name": "Baupost Group",
           "orientation": "v",
           "showlegend": true,
           "type": "scatter",
           "x": [
            6091435
           ],
           "xaxis": "x",
           "y": [
            440300
           ],
           "yaxis": "y"
          },
          {
           "hovertemplate": "<b>%{hovertext}</b><br><br>Organization=Blackstone Group<br>Cycle=2020<br>To Dems & Liberals=%{x}<br>To Repubs and Conservs=%{y}<br>Total Contributions=%{marker.size}<extra></extra>",
           "hovertext": [
            "Blackstone Group"
           ],
           "legendgroup": "Blackstone Group",
           "marker": {
            "color": "#00cc96",
            "size": [
             58610728
            ],
            "sizemode": "area",
            "sizeref": 70287.06555555556,
            "symbol": "circle"
           },
           "mode": "markers",
           "name": "Blackstone Group",
           "orientation": "v",
           "showlegend": true,
           "type": "scatter",
           "x": [
            7942861
           ],
           "xaxis": "x",
           "y": [
            50660403
           ],
           "yaxis": "y"
          },
          {
           "hovertemplate": "<b>%{hovertext}</b><br><br>Organization=Bloomberg LP<br>Cycle=2020<br>To Dems & Liberals=%{x}<br>To Repubs and Conservs=%{y}<br>Total Contributions=%{marker.size}<extra></extra>",
           "hovertext": [
            "Bloomberg LP"
           ],
           "legendgroup": "Bloomberg LP",
           "marker": {
            "color": "#ab63fa",
            "size": [
             253033436
            ],
            "sizemode": "area",
            "sizeref": 70287.06555555556,
            "symbol": "circle"
           },
           "mode": "markers",
           "name": "Bloomberg LP",
           "orientation": "v",
           "showlegend": true,
           "type": "scatter",
           "x": [
            252193134
           ],
           "xaxis": "x",
           "y": [
            80823
           ],
           "yaxis": "y"
          },
          {
           "hovertemplate": "<b>%{hovertext}</b><br><br>Organization=Charles Schwab Corp<br>Cycle=2020<br>To Dems & Liberals=%{x}<br>To Repubs and Conservs=%{y}<br>Total Contributions=%{marker.size}<extra></extra>",
           "hovertext": [
            "Charles Schwab Corp"
           ],
           "legendgroup": "Charles Schwab Corp",
           "marker": {
            "color": "#FFA15A",
            "size": [
             40756670
            ],
            "sizemode": "area",
            "sizeref": 70287.06555555556,
            "symbol": "circle"
           },
           "mode": "markers",
           "name": "Charles Schwab Corp",
           "orientation": "v",
           "showlegend": true,
           "type": "scatter",
           "x": [
            1203893
           ],
           "xaxis": "x",
           "y": [
            39548175
           ],
           "yaxis": "y"
          },
          {
           "hovertemplate": "<b>%{hovertext}</b><br><br>Organization=Citadel LLC<br>Cycle=2020<br>To Dems & Liberals=%{x}<br>To Repubs and Conservs=%{y}<br>Total Contributions=%{marker.size}<extra></extra>",
           "hovertext": [
            "Citadel LLC"
           ],
           "legendgroup": "Citadel LLC",
           "marker": {
            "color": "#19d3f3",
            "size": [
             87504144
            ],
            "sizemode": "area",
            "sizeref": 70287.06555555556,
            "symbol": "circle"
           },
           "mode": "markers",
           "name": "Citadel LLC",
           "orientation": "v",
           "showlegend": true,
           "type": "scatter",
           "x": [
            612542
           ],
           "xaxis": "x",
           "y": [
            86885484
           ],
           "yaxis": "y"
          },
          {
           "hovertemplate": "<b>%{hovertext}</b><br><br>Organization=Elliott Management<br>Cycle=2020<br>To Dems & Liberals=%{x}<br>To Repubs and Conservs=%{y}<br>Total Contributions=%{marker.size}<extra></extra>",
           "hovertext": [
            "Elliott Management"
           ],
           "legendgroup": "Elliott Management",
           "marker": {
            "color": "#FF6692",
            "size": [
             24091809
            ],
            "sizemode": "area",
            "sizeref": 70287.06555555556,
            "symbol": "circle"
           },
           "mode": "markers",
           "name": "Elliott Management",
           "orientation": "v",
           "showlegend": true,
           "type": "scatter",
           "x": [
            387830
           ],
           "xaxis": "x",
           "y": [
            23424777
           ],
           "yaxis": "y"
          },
          {
           "hovertemplate": "<b>%{hovertext}</b><br><br>Organization=Euclidean Capital<br>Cycle=2020<br>To Dems & Liberals=%{x}<br>To Repubs and Conservs=%{y}<br>Total Contributions=%{marker.size}<extra></extra>",
           "hovertext": [
            "Euclidean Capital"
           ],
           "legendgroup": "Euclidean Capital",
           "marker": {
            "color": "#B6E880",
            "size": [
             30795103
            ],
            "sizemode": "area",
            "sizeref": 70287.06555555556,
            "symbol": "circle"
           },
           "mode": "markers",
           "name": "Euclidean Capital",
           "orientation": "v",
           "showlegend": true,
           "type": "scatter",
           "x": [
            30786703
           ],
           "xaxis": "x",
           "y": [
            0
           ],
           "yaxis": "y"
          },
          {
           "hovertemplate": "<b>%{hovertext}</b><br><br>Organization=Fahr LLC<br>Cycle=2020<br>To Dems & Liberals=%{x}<br>To Repubs and Conservs=%{y}<br>Total Contributions=%{marker.size}<extra></extra>",
           "hovertext": [
            "Fahr LLC"
           ],
           "legendgroup": "Fahr LLC",
           "marker": {
            "color": "#FF97FF",
            "size": [
             143848528
            ],
            "sizemode": "area",
            "sizeref": 70287.06555555556,
            "symbol": "circle"
           },
           "mode": "markers",
           "name": "Fahr LLC",
           "orientation": "v",
           "showlegend": true,
           "type": "scatter",
           "x": [
            143846520
           ],
           "xaxis": "x",
           "y": [
            0
           ],
           "yaxis": "y"
          },
          {
           "hovertemplate": "<b>%{hovertext}</b><br><br>Organization=Intercontinental Exchange Inc<br>Cycle=2020<br>To Dems & Liberals=%{x}<br>To Repubs and Conservs=%{y}<br>Total Contributions=%{marker.size}<extra></extra>",
           "hovertext": [
            "Intercontinental Exchange Inc"
           ],
           "legendgroup": "Intercontinental Exchange Inc",
           "marker": {
            "color": "#FECB52",
            "size": [
             13342871
            ],
            "sizemode": "area",
            "sizeref": 70287.06555555556,
            "symbol": "circle"
           },
           "mode": "markers",
           "name": "Intercontinental Exchange Inc",
           "orientation": "v",
           "showlegend": true,
           "type": "scatter",
           "x": [
            135144
           ],
           "xaxis": "x",
           "y": [
            13205956
           ],
           "yaxis": "y"
          },
          {
           "hovertemplate": "<b>%{hovertext}</b><br><br>Organization=Lone Pine Capital<br>Cycle=2020<br>To Dems & Liberals=%{x}<br>To Repubs and Conservs=%{y}<br>Total Contributions=%{marker.size}<extra></extra>",
           "hovertext": [
            "Lone Pine Capital"
           ],
           "legendgroup": "Lone Pine Capital",
           "marker": {
            "color": "#636efa",
            "size": [
             15233025
            ],
            "sizemode": "area",
            "sizeref": 70287.06555555556,
            "symbol": "circle"
           },
           "mode": "markers",
           "name": "Lone Pine Capital",
           "orientation": "v",
           "showlegend": true,
           "type": "scatter",
           "x": [
            15221725
           ],
           "xaxis": "x",
           "y": [
            100
           ],
           "yaxis": "y"
          },
          {
           "hovertemplate": "<b>%{hovertext}</b><br><br>Organization=Marcus & Millichap<br>Cycle=2020<br>To Dems & Liberals=%{x}<br>To Repubs and Conservs=%{y}<br>Total Contributions=%{marker.size}<extra></extra>",
           "hovertext": [
            "Marcus & Millichap"
           ],
           "legendgroup": "Marcus & Millichap",
           "marker": {
            "color": "#EF553B",
            "size": [
             22965862
            ],
            "sizemode": "area",
            "sizeref": 70287.06555555556,
            "symbol": "circle"
           },
           "mode": "markers",
           "name": "Marcus & Millichap",
           "orientation": "v",
           "showlegend": true,
           "type": "scatter",
           "x": [
            22687603
           ],
           "xaxis": "x",
           "y": [
            275256
           ],
           "yaxis": "y"
          },
          {
           "hovertemplate": "<b>%{hovertext}</b><br><br>Organization=National Assn of Realtors<br>Cycle=2020<br>To Dems & Liberals=%{x}<br>To Repubs and Conservs=%{y}<br>Total Contributions=%{marker.size}<extra></extra>",
           "hovertext": [
            "National Assn of Realtors"
           ],
           "legendgroup": "National Assn of Realtors",
           "marker": {
            "color": "#00cc96",
            "size": [
             13665382
            ],
            "sizemode": "area",
            "sizeref": 70287.06555555556,
            "symbol": "circle"
           },
           "mode": "markers",
           "name": "National Assn of Realtors",
           "orientation": "v",
           "showlegend": true,
           "type": "scatter",
           "x": [
            3636873
           ],
           "xaxis": "x",
           "y": [
            3430107
           ],
           "yaxis": "y"
          },
          {
           "hovertemplate": "<b>%{hovertext}</b><br><br>Organization=Paloma Partners<br>Cycle=2020<br>To Dems & Liberals=%{x}<br>To Repubs and Conservs=%{y}<br>Total Contributions=%{marker.size}<extra></extra>",
           "hovertext": [
            "Paloma Partners"
           ],
           "legendgroup": "Paloma Partners",
           "marker": {
            "color": "#ab63fa",
            "size": [
             53252773
            ],
            "sizemode": "area",
            "sizeref": 70287.06555555556,
            "symbol": "circle"
           },
           "mode": "markers",
           "name": "Paloma Partners",
           "orientation": "v",
           "showlegend": true,
           "type": "scatter",
           "x": [
            53203863
           ],
           "xaxis": "x",
           "y": [
            5600
           ],
           "yaxis": "y"
          },
          {
           "hovertemplate": "<b>%{hovertext}</b><br><br>Organization=Renaissance Technologies<br>Cycle=2020<br>To Dems & Liberals=%{x}<br>To Repubs and Conservs=%{y}<br>Total Contributions=%{marker.size}<extra></extra>",
           "hovertext": [
            "Renaissance Technologies"
           ],
           "legendgroup": "Renaissance Technologies",
           "marker": {
            "color": "#FFA15A",
            "size": [
             36838542
            ],
            "sizemode": "area",
            "sizeref": 70287.06555555556,
            "symbol": "circle"
           },
           "mode": "markers",
           "name": "Renaissance Technologies",
           "orientation": "v",
           "showlegend": true,
           "type": "scatter",
           "x": [
            28738958
           ],
           "xaxis": "x",
           "y": [
            7888834
           ],
           "yaxis": "y"
          },
          {
           "hovertemplate": "<b>%{hovertext}</b><br><br>Organization=Ryan Specialty Group<br>Cycle=2020<br>To Dems & Liberals=%{x}<br>To Repubs and Conservs=%{y}<br>Total Contributions=%{marker.size}<extra></extra>",
           "hovertext": [
            "Ryan Specialty Group"
           ],
           "legendgroup": "Ryan Specialty Group",
           "marker": {
            "color": "#19d3f3",
            "size": [
             15134992
            ],
            "sizemode": "area",
            "sizeref": 70287.06555555556,
            "symbol": "circle"
           },
           "mode": "markers",
           "name": "Ryan Specialty Group",
           "orientation": "v",
           "showlegend": true,
           "type": "scatter",
           "x": [
            42858
           ],
           "xaxis": "x",
           "y": [
            15092063
           ],
           "yaxis": "y"
          },
          {
           "hovertemplate": "<b>%{hovertext}</b><br><br>Organization=Soros Fund Management<br>Cycle=2020<br>To Dems & Liberals=%{x}<br>To Repubs and Conservs=%{y}<br>Total Contributions=%{marker.size}<extra></extra>",
           "hovertext": [
            "Soros Fund Management"
           ],
           "legendgroup": "Soros Fund Management",
           "marker": {
            "color": "#FF6692",
            "size": [
             20239421
            ],
            "sizemode": "area",
            "sizeref": 70287.06555555556,
            "symbol": "circle"
           },
           "mode": "markers",
           "name": "Soros Fund Management",
           "orientation": "v",
           "showlegend": true,
           "type": "scatter",
           "x": [
            20216321
           ],
           "xaxis": "x",
           "y": [
            23100
           ],
           "yaxis": "y"
          },
          {
           "hovertemplate": "<b>%{hovertext}</b><br><br>Organization=Stephens Group<br>Cycle=2020<br>To Dems & Liberals=%{x}<br>To Repubs and Conservs=%{y}<br>Total Contributions=%{marker.size}<extra></extra>",
           "hovertext": [
            "Stephens Group"
           ],
           "legendgroup": "Stephens Group",
           "marker": {
            "color": "#B6E880",
            "size": [
             18015666
            ],
            "sizemode": "area",
            "sizeref": 70287.06555555556,
            "symbol": "circle"
           },
           "mode": "markers",
           "name": "Stephens Group",
           "orientation": "v",
           "showlegend": true,
           "type": "scatter",
           "x": [
            9280
           ],
           "xaxis": "x",
           "y": [
            18006359
           ],
           "yaxis": "y"
          },
          {
           "hovertemplate": "<b>%{hovertext}</b><br><br>Organization=Susquehanna International Group<br>Cycle=2020<br>To Dems & Liberals=%{x}<br>To Repubs and Conservs=%{y}<br>Total Contributions=%{marker.size}<extra></extra>",
           "hovertext": [
            "Susquehanna International Group"
           ],
           "legendgroup": "Susquehanna International Group",
           "marker": {
            "color": "#FF97FF",
            "size": [
             38411615
            ],
            "sizemode": "area",
            "sizeref": 70287.06555555556,
            "symbol": "circle"
           },
           "mode": "markers",
           "name": "Susquehanna International Group",
           "orientation": "v",
           "showlegend": true,
           "type": "scatter",
           "x": [
            166985
           ],
           "xaxis": "x",
           "y": [
            37415732
           ],
           "yaxis": "y"
          },
          {
           "hovertemplate": "<b>%{hovertext}</b><br><br>Organization=Wicklow Capital<br>Cycle=2020<br>To Dems & Liberals=%{x}<br>To Repubs and Conservs=%{y}<br>Total Contributions=%{marker.size}<extra></extra>",
           "hovertext": [
            "Wicklow Capital"
           ],
           "legendgroup": "Wicklow Capital",
           "marker": {
            "color": "#FECB52",
            "size": [
             7491963
            ],
            "sizemode": "area",
            "sizeref": 70287.06555555556,
            "symbol": "circle"
           },
           "mode": "markers",
           "name": "Wicklow Capital",
           "orientation": "v",
           "showlegend": true,
           "type": "scatter",
           "x": [
            6662963
           ],
           "xaxis": "x",
           "y": [
            729000
           ],
           "yaxis": "y"
          }
         ],
         "name": "2020"
        },
        {
         "data": [
          {
           "hovertemplate": "<b>%{hovertext}</b><br><br>Organization=Baupost Group<br>Cycle=2016<br>To Dems & Liberals=%{x}<br>To Repubs and Conservs=%{y}<br>Total Contributions=%{marker.size}<extra></extra>",
           "hovertext": [
            "Baupost Group"
           ],
           "legendgroup": "Baupost Group",
           "marker": {
            "color": "#EF553B",
            "size": [
             3591640
            ],
            "sizemode": "area",
            "sizeref": 70287.06555555556,
            "symbol": "circle"
           },
           "mode": "markers",
           "name": "Baupost Group",
           "orientation": "v",
           "showlegend": true,
           "type": "scatter",
           "x": [
            315550
           ],
           "xaxis": "x",
           "y": [
            3276090
           ],
           "yaxis": "y"
          },
          {
           "hovertemplate": "<b>%{hovertext}</b><br><br>Organization=Blackstone Group<br>Cycle=2016<br>To Dems & Liberals=%{x}<br>To Repubs and Conservs=%{y}<br>Total Contributions=%{marker.size}<extra></extra>",
           "hovertext": [
            "Blackstone Group"
           ],
           "legendgroup": "Blackstone Group",
           "marker": {
            "color": "#00cc96",
            "size": [
             9408248
            ],
            "sizemode": "area",
            "sizeref": 70287.06555555556,
            "symbol": "circle"
           },
           "mode": "markers",
           "name": "Blackstone Group",
           "orientation": "v",
           "showlegend": true,
           "type": "scatter",
           "x": [
            2226465
           ],
           "xaxis": "x",
           "y": [
            7184283
           ],
           "yaxis": "y"
          },
          {
           "hovertemplate": "<b>%{hovertext}</b><br><br>Organization=Bloomberg LP<br>Cycle=2016<br>To Dems & Liberals=%{x}<br>To Repubs and Conservs=%{y}<br>Total Contributions=%{marker.size}<extra></extra>",
           "hovertext": [
            "Bloomberg LP"
           ],
           "legendgroup": "Bloomberg LP",
           "marker": {
            "color": "#ab63fa",
            "size": [
             53728934
            ],
            "sizemode": "area",
            "sizeref": 70287.06555555556,
            "symbol": "circle"
           },
           "mode": "markers",
           "name": "Bloomberg LP",
           "orientation": "v",
           "showlegend": true,
           "type": "scatter",
           "x": [
            53075860
           ],
           "xaxis": "x",
           "y": [
            575816
           ],
           "yaxis": "y"
          },
          {
           "hovertemplate": "<b>%{hovertext}</b><br><br>Organization=Citadel LLC<br>Cycle=2016<br>To Dems & Liberals=%{x}<br>To Repubs and Conservs=%{y}<br>Total Contributions=%{marker.size}<extra></extra>",
           "hovertext": [
            "Citadel LLC"
           ],
           "legendgroup": "Citadel LLC",
           "marker": {
            "color": "#19d3f3",
            "size": [
             17704540
            ],
            "sizemode": "area",
            "sizeref": 70287.06555555556,
            "symbol": "circle"
           },
           "mode": "markers",
           "name": "Citadel LLC",
           "orientation": "v",
           "showlegend": true,
           "type": "scatter",
           "x": [
            252827
           ],
           "xaxis": "x",
           "y": [
            17551713
           ],
           "yaxis": "y"
          },
          {
           "hovertemplate": "<b>%{hovertext}</b><br><br>Organization=Elliott Management<br>Cycle=2016<br>To Dems & Liberals=%{x}<br>To Repubs and Conservs=%{y}<br>Total Contributions=%{marker.size}<extra></extra>",
           "hovertext": [
            "Elliott Management"
           ],
           "legendgroup": "Elliott Management",
           "marker": {
            "color": "#FF6692",
            "size": [
             42299673
            ],
            "sizemode": "area",
            "sizeref": 70287.06555555556,
            "symbol": "circle"
           },
           "mode": "markers",
           "name": "Elliott Management",
           "orientation": "v",
           "showlegend": true,
           "type": "scatter",
           "x": [
            53977
           ],
           "xaxis": "x",
           "y": [
            42242996
           ],
           "yaxis": "y"
          },
          {
           "hovertemplate": "<b>%{hovertext}</b><br><br>Organization=Fahr LLC<br>Cycle=2016<br>To Dems & Liberals=%{x}<br>To Repubs and Conservs=%{y}<br>Total Contributions=%{marker.size}<extra></extra>",
           "hovertext": [
            "Fahr LLC"
           ],
           "legendgroup": "Fahr LLC",
           "marker": {
            "color": "#FF97FF",
            "size": [
             165868654
            ],
            "sizemode": "area",
            "sizeref": 70287.06555555556,
            "symbol": "circle"
           },
           "mode": "markers",
           "name": "Fahr LLC",
           "orientation": "v",
           "showlegend": true,
           "type": "scatter",
           "x": [
            165868654
           ],
           "xaxis": "x",
           "y": [
            0
           ],
           "yaxis": "y"
          },
          {
           "hovertemplate": "<b>%{hovertext}</b><br><br>Organization=National Assn of Realtors<br>Cycle=2016<br>To Dems & Liberals=%{x}<br>To Repubs and Conservs=%{y}<br>Total Contributions=%{marker.size}<extra></extra>",
           "hovertext": [
            "National Assn of Realtors"
           ],
           "legendgroup": "National Assn of Realtors",
           "marker": {
            "color": "#00cc96",
            "size": [
             4924655
            ],
            "sizemode": "area",
            "sizeref": 70287.06555555556,
            "symbol": "circle"
           },
           "mode": "markers",
           "name": "National Assn of Realtors",
           "orientation": "v",
           "showlegend": true,
           "type": "scatter",
           "x": [
            2353479
           ],
           "xaxis": "x",
           "y": [
            2556950
           ],
           "yaxis": "y"
          },
          {
           "hovertemplate": "<b>%{hovertext}</b><br><br>Organization=Paloma Partners<br>Cycle=2016<br>To Dems & Liberals=%{x}<br>To Repubs and Conservs=%{y}<br>Total Contributions=%{marker.size}<extra></extra>",
           "hovertext": [
            "Paloma Partners"
           ],
           "legendgroup": "Paloma Partners",
           "marker": {
            "color": "#ab63fa",
            "size": [
             41938400
            ],
            "sizemode": "area",
            "sizeref": 70287.06555555556,
            "symbol": "circle"
           },
           "mode": "markers",
           "name": "Paloma Partners",
           "orientation": "v",
           "showlegend": true,
           "type": "scatter",
           "x": [
            41935100
           ],
           "xaxis": "x",
           "y": [
            3300
           ],
           "yaxis": "y"
          },
          {
           "hovertemplate": "<b>%{hovertext}</b><br><br>Organization=Renaissance Technologies<br>Cycle=2016<br>To Dems & Liberals=%{x}<br>To Repubs and Conservs=%{y}<br>Total Contributions=%{marker.size}<extra></extra>",
           "hovertext": [
            "Renaissance Technologies"
           ],
           "legendgroup": "Renaissance Technologies",
           "marker": {
            "color": "#FFA15A",
            "size": [
             78123877
            ],
            "sizemode": "area",
            "sizeref": 70287.06555555556,
            "symbol": "circle"
           },
           "mode": "markers",
           "name": "Renaissance Technologies",
           "orientation": "v",
           "showlegend": true,
           "type": "scatter",
           "x": [
            42637628
           ],
           "xaxis": "x",
           "y": [
            35047649
           ],
           "yaxis": "y"
          },
          {
           "hovertemplate": "<b>%{hovertext}</b><br><br>Organization=Soros Fund Management<br>Cycle=2016<br>To Dems & Liberals=%{x}<br>To Repubs and Conservs=%{y}<br>Total Contributions=%{marker.size}<extra></extra>",
           "hovertext": [
            "Soros Fund Management"
           ],
           "legendgroup": "Soros Fund Management",
           "marker": {
            "color": "#FF6692",
            "size": [
             32674552
            ],
            "sizemode": "area",
            "sizeref": 70287.06555555556,
            "symbol": "circle"
           },
           "mode": "markers",
           "name": "Soros Fund Management",
           "orientation": "v",
           "showlegend": true,
           "type": "scatter",
           "x": [
            31728652
           ],
           "xaxis": "x",
           "y": [
            718400
           ],
           "yaxis": "y"
          },
          {
           "hovertemplate": "<b>%{hovertext}</b><br><br>Organization=Stephens Group<br>Cycle=2016<br>To Dems & Liberals=%{x}<br>To Repubs and Conservs=%{y}<br>Total Contributions=%{marker.size}<extra></extra>",
           "hovertext": [
            "Stephens Group"
           ],
           "legendgroup": "Stephens Group",
           "marker": {
            "color": "#B6E880",
            "size": [
             19888906
            ],
            "sizemode": "area",
            "sizeref": 70287.06555555556,
            "symbol": "circle"
           },
           "mode": "markers",
           "name": "Stephens Group",
           "orientation": "v",
           "showlegend": true,
           "type": "scatter",
           "x": [
            43987
           ],
           "xaxis": "x",
           "y": [
            19861219
           ],
           "yaxis": "y"
          },
          {
           "hovertemplate": "<b>%{hovertext}</b><br><br>Organization=Berkshire Hathaway<br>Cycle=2016<br>To Dems & Liberals=%{x}<br>To Repubs and Conservs=%{y}<br>Total Contributions=%{marker.size}<extra></extra>",
           "hovertext": [
            "Berkshire Hathaway"
           ],
           "legendgroup": "Berkshire Hathaway",
           "marker": {
            "color": "#636efa",
            "size": [
             3641504
            ],
            "sizemode": "area",
            "sizeref": 70287.06555555556,
            "symbol": "circle"
           },
           "mode": "markers",
           "name": "Berkshire Hathaway",
           "orientation": "v",
           "showlegend": true,
           "type": "scatter",
           "x": [
            1314303
           ],
           "xaxis": "x",
           "y": [
            2337038
           ],
           "yaxis": "y"
          },
          {
           "hovertemplate": "<b>%{hovertext}</b><br><br>Organization=Goldman Sachs<br>Cycle=2016<br>To Dems & Liberals=%{x}<br>To Repubs and Conservs=%{y}<br>Total Contributions=%{marker.size}<extra></extra>",
           "hovertext": [
            "Goldman Sachs"
           ],
           "legendgroup": "Goldman Sachs",
           "marker": {
            "color": "#EF553B",
            "size": [
             4396469
            ],
            "sizemode": "area",
            "sizeref": 70287.06555555556,
            "symbol": "circle"
           },
           "mode": "markers",
           "name": "Goldman Sachs",
           "orientation": "v",
           "showlegend": true,
           "type": "scatter",
           "x": [
            1796989
           ],
           "xaxis": "x",
           "y": [
            2646730
           ],
           "yaxis": "y"
          },
          {
           "hovertemplate": "<b>%{hovertext}</b><br><br>Organization=Kainos Capital<br>Cycle=2016<br>To Dems & Liberals=%{x}<br>To Repubs and Conservs=%{y}<br>Total Contributions=%{marker.size}<extra></extra>",
           "hovertext": [
            "Kainos Capital"
           ],
           "legendgroup": "Kainos Capital",
           "marker": {
            "color": "#00cc96",
            "size": [
             8458688
            ],
            "sizemode": "area",
            "sizeref": 70287.06555555556,
            "symbol": "circle"
           },
           "mode": "markers",
           "name": "Kainos Capital",
           "orientation": "v",
           "showlegend": true,
           "type": "scatter",
           "x": [
            8405988
           ],
           "xaxis": "x",
           "y": [
            2700
           ],
           "yaxis": "y"
          },
          {
           "hovertemplate": "<b>%{hovertext}</b><br><br>Organization=Pritzker Group<br>Cycle=2016<br>To Dems & Liberals=%{x}<br>To Repubs and Conservs=%{y}<br>Total Contributions=%{marker.size}<extra></extra>",
           "hovertext": [
            "Pritzker Group"
           ],
           "legendgroup": "Pritzker Group",
           "marker": {
            "color": "#ab63fa",
            "size": [
             24232583
            ],
            "sizemode": "area",
            "sizeref": 70287.06555555556,
            "symbol": "circle"
           },
           "mode": "markers",
           "name": "Pritzker Group",
           "orientation": "v",
           "showlegend": true,
           "type": "scatter",
           "x": [
            23221401
           ],
           "xaxis": "x",
           "y": [
            917940
           ],
           "yaxis": "y"
          },
          {
           "hovertemplate": "<b>%{hovertext}</b><br><br>Organization=Saban Capital Group<br>Cycle=2016<br>To Dems & Liberals=%{x}<br>To Repubs and Conservs=%{y}<br>Total Contributions=%{marker.size}<extra></extra>",
           "hovertext": [
            "Saban Capital Group"
           ],
           "legendgroup": "Saban Capital Group",
           "marker": {
            "color": "#FFA15A",
            "size": [
             15864226
            ],
            "sizemode": "area",
            "sizeref": 70287.06555555556,
            "symbol": "circle"
           },
           "mode": "markers",
           "name": "Saban Capital Group",
           "orientation": "v",
           "showlegend": true,
           "type": "scatter",
           "x": [
            15883226
           ],
           "xaxis": "x",
           "y": [
            1000
           ],
           "yaxis": "y"
          }
         ],
         "name": "2016"
        },
        {
         "data": [
          {
           "hovertemplate": "<b>%{hovertext}</b><br><br>Organization=Bain Capital<br>Cycle=2012<br>To Dems & Liberals=%{x}<br>To Repubs and Conservs=%{y}<br>Total Contributions=%{marker.size}<extra></extra>",
           "hovertext": [
            "Bain Capital"
           ],
           "legendgroup": "Bain Capital",
           "marker": {
            "color": "#636efa",
            "size": [
             5728208
            ],
            "sizemode": "area",
            "sizeref": 70287.06555555556,
            "symbol": "circle"
           },
           "mode": "markers",
           "name": "Bain Capital",
           "orientation": "v",
           "showlegend": true,
           "type": "scatter",
           "x": [
            705510
           ],
           "xaxis": "x",
           "y": [
            5014698
           ],
           "yaxis": "y"
          },
          {
           "hovertemplate": "<b>%{hovertext}</b><br><br>Organization=Blackstone Group<br>Cycle=2012<br>To Dems & Liberals=%{x}<br>To Repubs and Conservs=%{y}<br>Total Contributions=%{marker.size}<extra></extra>",
           "hovertext": [
            "Blackstone Group"
           ],
           "legendgroup": "Blackstone Group",
           "marker": {
            "color": "#00cc96",
            "size": [
             5196410
            ],
            "sizemode": "area",
            "sizeref": 70287.06555555556,
            "symbol": "circle"
           },
           "mode": "markers",
           "name": "Blackstone Group",
           "orientation": "v",
           "showlegend": true,
           "type": "scatter",
           "x": [
            1679546
           ],
           "xaxis": "x",
           "y": [
            3516634
           ],
           "yaxis": "y"
          },
          {
           "hovertemplate": "<b>%{hovertext}</b><br><br>Organization=Elliott Management<br>Cycle=2012<br>To Dems & Liberals=%{x}<br>To Repubs and Conservs=%{y}<br>Total Contributions=%{marker.size}<extra></extra>",
           "hovertext": [
            "Elliott Management"
           ],
           "legendgroup": "Elliott Management",
           "marker": {
            "color": "#FF6692",
            "size": [
             6351931
            ],
            "sizemode": "area",
            "sizeref": 70287.06555555556,
            "symbol": "circle"
           },
           "mode": "markers",
           "name": "Elliott Management",
           "orientation": "v",
           "showlegend": true,
           "type": "scatter",
           "x": [
            1050
           ],
           "xaxis": "x",
           "y": [
            6352981
           ],
           "yaxis": "y"
          },
          {
           "hovertemplate": "<b>%{hovertext}</b><br><br>Organization=National Assn of Realtors<br>Cycle=2012<br>To Dems & Liberals=%{x}<br>To Repubs and Conservs=%{y}<br>Total Contributions=%{marker.size}<extra></extra>",
           "hovertext": [
            "National Assn of Realtors"
           ],
           "legendgroup": "National Assn of Realtors",
           "marker": {
            "color": "#00cc96",
            "size": [
             9420956
            ],
            "sizemode": "area",
            "sizeref": 70287.06555555556,
            "symbol": "circle"
           },
           "mode": "markers",
           "name": "National Assn of Realtors",
           "orientation": "v",
           "showlegend": true,
           "type": "scatter",
           "x": [
            4690703
           ],
           "xaxis": "x",
           "y": [
            4673003
           ],
           "yaxis": "y"
          },
          {
           "hovertemplate": "<b>%{hovertext}</b><br><br>Organization=Renaissance Technologies<br>Cycle=2012<br>To Dems & Liberals=%{x}<br>To Repubs and Conservs=%{y}<br>Total Contributions=%{marker.size}<extra></extra>",
           "hovertext": [
            "Renaissance Technologies"
           ],
           "legendgroup": "Renaissance Technologies",
           "marker": {
            "color": "#FFA15A",
            "size": [
             17498450
            ],
            "sizemode": "area",
            "sizeref": 70287.06555555556,
            "symbol": "circle"
           },
           "mode": "markers",
           "name": "Renaissance Technologies",
           "orientation": "v",
           "showlegend": true,
           "type": "scatter",
           "x": [
            11611096
           ],
           "xaxis": "x",
           "y": [
            5887354
           ],
           "yaxis": "y"
          },
          {
           "hovertemplate": "<b>%{hovertext}</b><br><br>Organization=Berkshire Hathaway<br>Cycle=2012<br>To Dems & Liberals=%{x}<br>To Repubs and Conservs=%{y}<br>Total Contributions=%{marker.size}<extra></extra>",
           "hovertext": [
            "Berkshire Hathaway"
           ],
           "legendgroup": "Berkshire Hathaway",
           "marker": {
            "color": "#636efa",
            "size": [
             7402175
            ],
            "sizemode": "area",
            "sizeref": 70287.06555555556,
            "symbol": "circle"
           },
           "mode": "markers",
           "name": "Berkshire Hathaway",
           "orientation": "v",
           "showlegend": true,
           "type": "scatter",
           "x": [
            2447192
           ],
           "xaxis": "x",
           "y": [
            4933563
           ],
           "yaxis": "y"
          },
          {
           "hovertemplate": "<b>%{hovertext}</b><br><br>Organization=Goldman Sachs<br>Cycle=2012<br>To Dems & Liberals=%{x}<br>To Repubs and Conservs=%{y}<br>Total Contributions=%{marker.size}<extra></extra>",
           "hovertext": [
            "Goldman Sachs"
           ],
           "legendgroup": "Goldman Sachs",
           "marker": {
            "color": "#EF553B",
            "size": [
             12281327
            ],
            "sizemode": "area",
            "sizeref": 70287.06555555556,
            "symbol": "circle"
           },
           "mode": "markers",
           "name": "Goldman Sachs",
           "orientation": "v",
           "showlegend": true,
           "type": "scatter",
           "x": [
            3162021
           ],
           "xaxis": "x",
           "y": [
            9121806
           ],
           "yaxis": "y"
          },
          {
           "hovertemplate": "<b>%{hovertext}</b><br><br>Organization=Bank of America<br>Cycle=2012<br>To Dems & Liberals=%{x}<br>To Repubs and Conservs=%{y}<br>Total Contributions=%{marker.size}<extra></extra>",
           "hovertext": [
            "Bank of America"
           ],
           "legendgroup": "Bank of America",
           "marker": {
            "color": "#19d3f3",
            "size": [
             8275934
            ],
            "sizemode": "area",
            "sizeref": 70287.06555555556,
            "symbol": "circle"
           },
           "mode": "markers",
           "name": "Bank of America",
           "orientation": "v",
           "showlegend": true,
           "type": "scatter",
           "x": [
            2486971
           ],
           "xaxis": "x",
           "y": [
            5755334
           ],
           "yaxis": "y"
          },
          {
           "hovertemplate": "<b>%{hovertext}</b><br><br>Organization=Clarium Capital Management<br>Cycle=2012<br>To Dems & Liberals=%{x}<br>To Repubs and Conservs=%{y}<br>Total Contributions=%{marker.size}<extra></extra>",
           "hovertext": [
            "Clarium Capital Management"
           ],
           "legendgroup": "Clarium Capital Management",
           "marker": {
            "color": "#FF6692",
            "size": [
             4840701
            ],
            "sizemode": "area",
            "sizeref": 70287.06555555556,
            "symbol": "circle"
           },
           "mode": "markers",
           "name": "Clarium Capital Management",
           "orientation": "v",
           "showlegend": true,
           "type": "scatter",
           "x": [
            2500
           ],
           "xaxis": "x",
           "y": [
            4838201
           ],
           "yaxis": "y"
          },
          {
           "hovertemplate": "<b>%{hovertext}</b><br><br>Organization=Contran Corp<br>Cycle=2012<br>To Dems & Liberals=%{x}<br>To Repubs and Conservs=%{y}<br>Total Contributions=%{marker.size}<extra></extra>",
           "hovertext": [
            "Contran Corp"
           ],
           "legendgroup": "Contran Corp",
           "marker": {
            "color": "#B6E880",
            "size": [
             31742618
            ],
            "sizemode": "area",
            "sizeref": 70287.06555555556,
            "symbol": "circle"
           },
           "mode": "markers",
           "name": "Contran Corp",
           "orientation": "v",
           "showlegend": true,
           "type": "scatter",
           "x": [
            100268
           ],
           "xaxis": "x",
           "y": [
            31642350
           ],
           "yaxis": "y"
          },
          {
           "hovertemplate": "<b>%{hovertext}</b><br><br>Organization=Deloitte LLP<br>Cycle=2012<br>To Dems & Liberals=%{x}<br>To Repubs and Conservs=%{y}<br>Total Contributions=%{marker.size}<extra></extra>",
           "hovertext": [
            "Deloitte LLP"
           ],
           "legendgroup": "Deloitte LLP",
           "marker": {
            "color": "#FF97FF",
            "size": [
             7545793
            ],
            "sizemode": "area",
            "sizeref": 70287.06555555556,
            "symbol": "circle"
           },
           "mode": "markers",
           "name": "Deloitte LLP",
           "orientation": "v",
           "showlegend": true,
           "type": "scatter",
           "x": [
            2892109
           ],
           "xaxis": "x",
           "y": [
            4631819
           ],
           "yaxis": "y"
          },
          {
           "hovertemplate": "<b>%{hovertext}</b><br><br>Organization=Hugo Enterprises<br>Cycle=2012<br>To Dems & Liberals=%{x}<br>To Repubs and Conservs=%{y}<br>Total Contributions=%{marker.size}<extra></extra>",
           "hovertext": [
            "Hugo Enterprises"
           ],
           "legendgroup": "Hugo Enterprises",
           "marker": {
            "color": "#FECB52",
            "size": [
             13303454
            ],
            "sizemode": "area",
            "sizeref": 70287.06555555556,
            "symbol": "circle"
           },
           "mode": "markers",
           "name": "Hugo Enterprises",
           "orientation": "v",
           "showlegend": true,
           "type": "scatter",
           "x": [
            2500
           ],
           "xaxis": "x",
           "y": [
            12795954
           ],
           "yaxis": "y"
          },
          {
           "hovertemplate": "<b>%{hovertext}</b><br><br>Organization=JPMorgan Chase & Co<br>Cycle=2012<br>To Dems & Liberals=%{x}<br>To Repubs and Conservs=%{y}<br>Total Contributions=%{marker.size}<extra></extra>",
           "hovertext": [
            "JPMorgan Chase & Co"
           ],
           "legendgroup": "JPMorgan Chase & Co",
           "marker": {
            "color": "#636efa",
            "size": [
             5495228
            ],
            "sizemode": "area",
            "sizeref": 70287.06555555556,
            "symbol": "circle"
           },
           "mode": "markers",
           "name": "JPMorgan Chase & Co",
           "orientation": "v",
           "showlegend": true,
           "type": "scatter",
           "x": [
            2055475
           ],
           "xaxis": "x",
           "y": [
            3432369
           ],
           "yaxis": "y"
          },
          {
           "hovertemplate": "<b>%{hovertext}</b><br><br>Organization=JW Childs Assoc<br>Cycle=2012<br>To Dems & Liberals=%{x}<br>To Repubs and Conservs=%{y}<br>Total Contributions=%{marker.size}<extra></extra>",
           "hovertext": [
            "JW Childs Assoc"
           ],
           "legendgroup": "JW Childs Assoc",
           "marker": {
            "color": "#EF553B",
            "size": [
             4447450
            ],
            "sizemode": "area",
            "sizeref": 70287.06555555556,
            "symbol": "circle"
           },
           "mode": "markers",
           "name": "JW Childs Assoc",
           "orientation": "v",
           "showlegend": true,
           "type": "scatter",
           "x": [
            4300
           ],
           "xaxis": "x",
           "y": [
            4443150
           ],
           "yaxis": "y"
          },
          {
           "hovertemplate": "<b>%{hovertext}</b><br><br>Organization=Morgan Stanley<br>Cycle=2012<br>To Dems & Liberals=%{x}<br>To Repubs and Conservs=%{y}<br>Total Contributions=%{marker.size}<extra></extra>",
           "hovertext": [
            "Morgan Stanley"
           ],
           "legendgroup": "Morgan Stanley",
           "marker": {
            "color": "#00cc96",
            "size": [
             4354821
            ],
            "sizemode": "area",
            "sizeref": 70287.06555555556,
            "symbol": "circle"
           },
           "mode": "markers",
           "name": "Morgan Stanley",
           "orientation": "v",
           "showlegend": true,
           "type": "scatter",
           "x": [
            1236073
           ],
           "xaxis": "x",
           "y": [
            3113698
           ],
           "yaxis": "y"
          },
          {
           "hovertemplate": "<b>%{hovertext}</b><br><br>Organization=New York Life Insurance<br>Cycle=2012<br>To Dems & Liberals=%{x}<br>To Repubs and Conservs=%{y}<br>Total Contributions=%{marker.size}<extra></extra>",
           "hovertext": [
            "New York Life Insurance"
           ],
           "legendgroup": "New York Life Insurance",
           "marker": {
            "color": "#ab63fa",
            "size": [
             2911647
            ],
            "sizemode": "area",
            "sizeref": 70287.06555555556,
            "symbol": "circle"
           },
           "mode": "markers",
           "name": "New York Life Insurance",
           "orientation": "v",
           "showlegend": true,
           "type": "scatter",
           "x": [
            1512217
           ],
           "xaxis": "x",
           "y": [
            1397930
           ],
           "yaxis": "y"
          },
          {
           "hovertemplate": "<b>%{hovertext}</b><br><br>Organization=Perry Homes<br>Cycle=2012<br>To Dems & Liberals=%{x}<br>To Repubs and Conservs=%{y}<br>Total Contributions=%{marker.size}<extra></extra>",
           "hovertext": [
            "Perry Homes"
           ],
           "legendgroup": "Perry Homes",
           "marker": {
            "color": "#FFA15A",
            "size": [
             32187940
            ],
            "sizemode": "area",
            "sizeref": 70287.06555555556,
            "symbol": "circle"
           },
           "mode": "markers",
           "name": "Perry Homes",
           "orientation": "v",
           "showlegend": true,
           "type": "scatter",
           "x": [
            4000
           ],
           "xaxis": "x",
           "y": [
            31618940
           ],
           "yaxis": "y"
          },
          {
           "hovertemplate": "<b>%{hovertext}</b><br><br>Organization=PricewaterhouseCoopers<br>Cycle=2012<br>To Dems & Liberals=%{x}<br>To Repubs and Conservs=%{y}<br>Total Contributions=%{marker.size}<extra></extra>",
           "hovertext": [
            "PricewaterhouseCoopers"
           ],
           "legendgroup": "PricewaterhouseCoopers",
           "marker": {
            "color": "#19d3f3",
            "size": [
             2671103
            ],
            "sizemode": "area",
            "sizeref": 70287.06555555556,
            "symbol": "circle"
           },
           "mode": "markers",
           "name": "PricewaterhouseCoopers",
           "orientation": "v",
           "showlegend": true,
           "type": "scatter",
           "x": [
            1171600
           ],
           "xaxis": "x",
           "y": [
            1498303
           ],
           "yaxis": "y"
          },
          {
           "hovertemplate": "<b>%{hovertext}</b><br><br>Organization=Public Storage Inc<br>Cycle=2012<br>To Dems & Liberals=%{x}<br>To Repubs and Conservs=%{y}<br>Total Contributions=%{marker.size}<extra></extra>",
           "hovertext": [
            "Public Storage Inc"
           ],
           "legendgroup": "Public Storage Inc",
           "marker": {
            "color": "#FF6692",
            "size": [
             4837950
            ],
            "sizemode": "area",
            "sizeref": 70287.06555555556,
            "symbol": "circle"
           },
           "mode": "markers",
           "name": "Public Storage Inc",
           "orientation": "v",
           "showlegend": true,
           "type": "scatter",
           "x": [
            1000
           ],
           "xaxis": "x",
           "y": [
            4836950
           ],
           "yaxis": "y"
          },
          {
           "hovertemplate": "<b>%{hovertext}</b><br><br>Organization=Wells Fargo<br>Cycle=2012<br>To Dems & Liberals=%{x}<br>To Repubs and Conservs=%{y}<br>Total Contributions=%{marker.size}<extra></extra>",
           "hovertext": [
            "Wells Fargo"
           ],
           "legendgroup": "Wells Fargo",
           "marker": {
            "color": "#B6E880",
            "size": [
             4551022
            ],
            "sizemode": "area",
            "sizeref": 70287.06555555556,
            "symbol": "circle"
           },
           "mode": "markers",
           "name": "Wells Fargo",
           "orientation": "v",
           "showlegend": true,
           "type": "scatter",
           "x": [
            1251924
           ],
           "xaxis": "x",
           "y": [
            3288797
           ],
           "yaxis": "y"
          }
         ],
         "name": "2012"
        }
       ],
       "layout": {
        "legend": {
         "itemsizing": "constant",
         "title": {
          "text": "Organization"
         },
         "tracegroupgap": 0
        },
        "margin": {
         "t": 60
        },
        "sliders": [
         {
          "active": 0,
          "currentvalue": {
           "prefix": "Cycle="
          },
          "len": 0.9,
          "pad": {
           "b": 10,
           "t": 60
          },
          "steps": [
           {
            "args": [
             [
              "2020"
             ],
             {
              "frame": {
               "duration": 0,
               "redraw": false
              },
              "fromcurrent": true,
              "mode": "immediate",
              "transition": {
               "duration": 0,
               "easing": "linear"
              }
             }
            ],
            "label": "2020",
            "method": "animate"
           },
           {
            "args": [
             [
              "2016"
             ],
             {
              "frame": {
               "duration": 0,
               "redraw": false
              },
              "fromcurrent": true,
              "mode": "immediate",
              "transition": {
               "duration": 0,
               "easing": "linear"
              }
             }
            ],
            "label": "2016",
            "method": "animate"
           },
           {
            "args": [
             [
              "2012"
             ],
             {
              "frame": {
               "duration": 0,
               "redraw": false
              },
              "fromcurrent": true,
              "mode": "immediate",
              "transition": {
               "duration": 0,
               "easing": "linear"
              }
             }
            ],
            "label": "2012",
            "method": "animate"
           }
          ],
          "x": 0.1,
          "xanchor": "left",
          "y": 0,
          "yanchor": "top"
         }
        ],
        "template": {
         "data": {
          "bar": [
           {
            "error_x": {
             "color": "#2a3f5f"
            },
            "error_y": {
             "color": "#2a3f5f"
            },
            "marker": {
             "line": {
              "color": "#E5ECF6",
              "width": 0.5
             }
            },
            "type": "bar"
           }
          ],
          "barpolar": [
           {
            "marker": {
             "line": {
              "color": "#E5ECF6",
              "width": 0.5
             }
            },
            "type": "barpolar"
           }
          ],
          "carpet": [
           {
            "aaxis": {
             "endlinecolor": "#2a3f5f",
             "gridcolor": "white",
             "linecolor": "white",
             "minorgridcolor": "white",
             "startlinecolor": "#2a3f5f"
            },
            "baxis": {
             "endlinecolor": "#2a3f5f",
             "gridcolor": "white",
             "linecolor": "white",
             "minorgridcolor": "white",
             "startlinecolor": "#2a3f5f"
            },
            "type": "carpet"
           }
          ],
          "choropleth": [
           {
            "colorbar": {
             "outlinewidth": 0,
             "ticks": ""
            },
            "type": "choropleth"
           }
          ],
          "contour": [
           {
            "colorbar": {
             "outlinewidth": 0,
             "ticks": ""
            },
            "colorscale": [
             [
              0,
              "#0d0887"
             ],
             [
              0.1111111111111111,
              "#46039f"
             ],
             [
              0.2222222222222222,
              "#7201a8"
             ],
             [
              0.3333333333333333,
              "#9c179e"
             ],
             [
              0.4444444444444444,
              "#bd3786"
             ],
             [
              0.5555555555555556,
              "#d8576b"
             ],
             [
              0.6666666666666666,
              "#ed7953"
             ],
             [
              0.7777777777777778,
              "#fb9f3a"
             ],
             [
              0.8888888888888888,
              "#fdca26"
             ],
             [
              1,
              "#f0f921"
             ]
            ],
            "type": "contour"
           }
          ],
          "contourcarpet": [
           {
            "colorbar": {
             "outlinewidth": 0,
             "ticks": ""
            },
            "type": "contourcarpet"
           }
          ],
          "heatmap": [
           {
            "colorbar": {
             "outlinewidth": 0,
             "ticks": ""
            },
            "colorscale": [
             [
              0,
              "#0d0887"
             ],
             [
              0.1111111111111111,
              "#46039f"
             ],
             [
              0.2222222222222222,
              "#7201a8"
             ],
             [
              0.3333333333333333,
              "#9c179e"
             ],
             [
              0.4444444444444444,
              "#bd3786"
             ],
             [
              0.5555555555555556,
              "#d8576b"
             ],
             [
              0.6666666666666666,
              "#ed7953"
             ],
             [
              0.7777777777777778,
              "#fb9f3a"
             ],
             [
              0.8888888888888888,
              "#fdca26"
             ],
             [
              1,
              "#f0f921"
             ]
            ],
            "type": "heatmap"
           }
          ],
          "heatmapgl": [
           {
            "colorbar": {
             "outlinewidth": 0,
             "ticks": ""
            },
            "colorscale": [
             [
              0,
              "#0d0887"
             ],
             [
              0.1111111111111111,
              "#46039f"
             ],
             [
              0.2222222222222222,
              "#7201a8"
             ],
             [
              0.3333333333333333,
              "#9c179e"
             ],
             [
              0.4444444444444444,
              "#bd3786"
             ],
             [
              0.5555555555555556,
              "#d8576b"
             ],
             [
              0.6666666666666666,
              "#ed7953"
             ],
             [
              0.7777777777777778,
              "#fb9f3a"
             ],
             [
              0.8888888888888888,
              "#fdca26"
             ],
             [
              1,
              "#f0f921"
             ]
            ],
            "type": "heatmapgl"
           }
          ],
          "histogram": [
           {
            "marker": {
             "colorbar": {
              "outlinewidth": 0,
              "ticks": ""
             }
            },
            "type": "histogram"
           }
          ],
          "histogram2d": [
           {
            "colorbar": {
             "outlinewidth": 0,
             "ticks": ""
            },
            "colorscale": [
             [
              0,
              "#0d0887"
             ],
             [
              0.1111111111111111,
              "#46039f"
             ],
             [
              0.2222222222222222,
              "#7201a8"
             ],
             [
              0.3333333333333333,
              "#9c179e"
             ],
             [
              0.4444444444444444,
              "#bd3786"
             ],
             [
              0.5555555555555556,
              "#d8576b"
             ],
             [
              0.6666666666666666,
              "#ed7953"
             ],
             [
              0.7777777777777778,
              "#fb9f3a"
             ],
             [
              0.8888888888888888,
              "#fdca26"
             ],
             [
              1,
              "#f0f921"
             ]
            ],
            "type": "histogram2d"
           }
          ],
          "histogram2dcontour": [
           {
            "colorbar": {
             "outlinewidth": 0,
             "ticks": ""
            },
            "colorscale": [
             [
              0,
              "#0d0887"
             ],
             [
              0.1111111111111111,
              "#46039f"
             ],
             [
              0.2222222222222222,
              "#7201a8"
             ],
             [
              0.3333333333333333,
              "#9c179e"
             ],
             [
              0.4444444444444444,
              "#bd3786"
             ],
             [
              0.5555555555555556,
              "#d8576b"
             ],
             [
              0.6666666666666666,
              "#ed7953"
             ],
             [
              0.7777777777777778,
              "#fb9f3a"
             ],
             [
              0.8888888888888888,
              "#fdca26"
             ],
             [
              1,
              "#f0f921"
             ]
            ],
            "type": "histogram2dcontour"
           }
          ],
          "mesh3d": [
           {
            "colorbar": {
             "outlinewidth": 0,
             "ticks": ""
            },
            "type": "mesh3d"
           }
          ],
          "parcoords": [
           {
            "line": {
             "colorbar": {
              "outlinewidth": 0,
              "ticks": ""
             }
            },
            "type": "parcoords"
           }
          ],
          "pie": [
           {
            "automargin": true,
            "type": "pie"
           }
          ],
          "scatter": [
           {
            "marker": {
             "colorbar": {
              "outlinewidth": 0,
              "ticks": ""
             }
            },
            "type": "scatter"
           }
          ],
          "scatter3d": [
           {
            "line": {
             "colorbar": {
              "outlinewidth": 0,
              "ticks": ""
             }
            },
            "marker": {
             "colorbar": {
              "outlinewidth": 0,
              "ticks": ""
             }
            },
            "type": "scatter3d"
           }
          ],
          "scattercarpet": [
           {
            "marker": {
             "colorbar": {
              "outlinewidth": 0,
              "ticks": ""
             }
            },
            "type": "scattercarpet"
           }
          ],
          "scattergeo": [
           {
            "marker": {
             "colorbar": {
              "outlinewidth": 0,
              "ticks": ""
             }
            },
            "type": "scattergeo"
           }
          ],
          "scattergl": [
           {
            "marker": {
             "colorbar": {
              "outlinewidth": 0,
              "ticks": ""
             }
            },
            "type": "scattergl"
           }
          ],
          "scattermapbox": [
           {
            "marker": {
             "colorbar": {
              "outlinewidth": 0,
              "ticks": ""
             }
            },
            "type": "scattermapbox"
           }
          ],
          "scatterpolar": [
           {
            "marker": {
             "colorbar": {
              "outlinewidth": 0,
              "ticks": ""
             }
            },
            "type": "scatterpolar"
           }
          ],
          "scatterpolargl": [
           {
            "marker": {
             "colorbar": {
              "outlinewidth": 0,
              "ticks": ""
             }
            },
            "type": "scatterpolargl"
           }
          ],
          "scatterternary": [
           {
            "marker": {
             "colorbar": {
              "outlinewidth": 0,
              "ticks": ""
             }
            },
            "type": "scatterternary"
           }
          ],
          "surface": [
           {
            "colorbar": {
             "outlinewidth": 0,
             "ticks": ""
            },
            "colorscale": [
             [
              0,
              "#0d0887"
             ],
             [
              0.1111111111111111,
              "#46039f"
             ],
             [
              0.2222222222222222,
              "#7201a8"
             ],
             [
              0.3333333333333333,
              "#9c179e"
             ],
             [
              0.4444444444444444,
              "#bd3786"
             ],
             [
              0.5555555555555556,
              "#d8576b"
             ],
             [
              0.6666666666666666,
              "#ed7953"
             ],
             [
              0.7777777777777778,
              "#fb9f3a"
             ],
             [
              0.8888888888888888,
              "#fdca26"
             ],
             [
              1,
              "#f0f921"
             ]
            ],
            "type": "surface"
           }
          ],
          "table": [
           {
            "cells": {
             "fill": {
              "color": "#EBF0F8"
             },
             "line": {
              "color": "white"
             }
            },
            "header": {
             "fill": {
              "color": "#C8D4E3"
             },
             "line": {
              "color": "white"
             }
            },
            "type": "table"
           }
          ]
         },
         "layout": {
          "annotationdefaults": {
           "arrowcolor": "#2a3f5f",
           "arrowhead": 0,
           "arrowwidth": 1
          },
          "autotypenumbers": "strict",
          "coloraxis": {
           "colorbar": {
            "outlinewidth": 0,
            "ticks": ""
           }
          },
          "colorscale": {
           "diverging": [
            [
             0,
             "#8e0152"
            ],
            [
             0.1,
             "#c51b7d"
            ],
            [
             0.2,
             "#de77ae"
            ],
            [
             0.3,
             "#f1b6da"
            ],
            [
             0.4,
             "#fde0ef"
            ],
            [
             0.5,
             "#f7f7f7"
            ],
            [
             0.6,
             "#e6f5d0"
            ],
            [
             0.7,
             "#b8e186"
            ],
            [
             0.8,
             "#7fbc41"
            ],
            [
             0.9,
             "#4d9221"
            ],
            [
             1,
             "#276419"
            ]
           ],
           "sequential": [
            [
             0,
             "#0d0887"
            ],
            [
             0.1111111111111111,
             "#46039f"
            ],
            [
             0.2222222222222222,
             "#7201a8"
            ],
            [
             0.3333333333333333,
             "#9c179e"
            ],
            [
             0.4444444444444444,
             "#bd3786"
            ],
            [
             0.5555555555555556,
             "#d8576b"
            ],
            [
             0.6666666666666666,
             "#ed7953"
            ],
            [
             0.7777777777777778,
             "#fb9f3a"
            ],
            [
             0.8888888888888888,
             "#fdca26"
            ],
            [
             1,
             "#f0f921"
            ]
           ],
           "sequentialminus": [
            [
             0,
             "#0d0887"
            ],
            [
             0.1111111111111111,
             "#46039f"
            ],
            [
             0.2222222222222222,
             "#7201a8"
            ],
            [
             0.3333333333333333,
             "#9c179e"
            ],
            [
             0.4444444444444444,
             "#bd3786"
            ],
            [
             0.5555555555555556,
             "#d8576b"
            ],
            [
             0.6666666666666666,
             "#ed7953"
            ],
            [
             0.7777777777777778,
             "#fb9f3a"
            ],
            [
             0.8888888888888888,
             "#fdca26"
            ],
            [
             1,
             "#f0f921"
            ]
           ]
          },
          "colorway": [
           "#636efa",
           "#EF553B",
           "#00cc96",
           "#ab63fa",
           "#FFA15A",
           "#19d3f3",
           "#FF6692",
           "#B6E880",
           "#FF97FF",
           "#FECB52"
          ],
          "font": {
           "color": "#2a3f5f"
          },
          "geo": {
           "bgcolor": "white",
           "lakecolor": "white",
           "landcolor": "#E5ECF6",
           "showlakes": true,
           "showland": true,
           "subunitcolor": "white"
          },
          "hoverlabel": {
           "align": "left"
          },
          "hovermode": "closest",
          "mapbox": {
           "style": "light"
          },
          "paper_bgcolor": "white",
          "plot_bgcolor": "#E5ECF6",
          "polar": {
           "angularaxis": {
            "gridcolor": "white",
            "linecolor": "white",
            "ticks": ""
           },
           "bgcolor": "#E5ECF6",
           "radialaxis": {
            "gridcolor": "white",
            "linecolor": "white",
            "ticks": ""
           }
          },
          "scene": {
           "xaxis": {
            "backgroundcolor": "#E5ECF6",
            "gridcolor": "white",
            "gridwidth": 2,
            "linecolor": "white",
            "showbackground": true,
            "ticks": "",
            "zerolinecolor": "white"
           },
           "yaxis": {
            "backgroundcolor": "#E5ECF6",
            "gridcolor": "white",
            "gridwidth": 2,
            "linecolor": "white",
            "showbackground": true,
            "ticks": "",
            "zerolinecolor": "white"
           },
           "zaxis": {
            "backgroundcolor": "#E5ECF6",
            "gridcolor": "white",
            "gridwidth": 2,
            "linecolor": "white",
            "showbackground": true,
            "ticks": "",
            "zerolinecolor": "white"
           }
          },
          "shapedefaults": {
           "line": {
            "color": "#2a3f5f"
           }
          },
          "ternary": {
           "aaxis": {
            "gridcolor": "white",
            "linecolor": "white",
            "ticks": ""
           },
           "baxis": {
            "gridcolor": "white",
            "linecolor": "white",
            "ticks": ""
           },
           "bgcolor": "#E5ECF6",
           "caxis": {
            "gridcolor": "white",
            "linecolor": "white",
            "ticks": ""
           }
          },
          "title": {
           "x": 0.05
          },
          "xaxis": {
           "automargin": true,
           "gridcolor": "white",
           "linecolor": "white",
           "ticks": "",
           "title": {
            "standoff": 15
           },
           "zerolinecolor": "white",
           "zerolinewidth": 2
          },
          "yaxis": {
           "automargin": true,
           "gridcolor": "white",
           "linecolor": "white",
           "ticks": "",
           "title": {
            "standoff": 15
           },
           "zerolinecolor": "white",
           "zerolinewidth": 2
          }
         }
        },
        "updatemenus": [
         {
          "buttons": [
           {
            "args": [
             null,
             {
              "frame": {
               "duration": 500,
               "redraw": false
              },
              "fromcurrent": true,
              "mode": "immediate",
              "transition": {
               "duration": 500,
               "easing": "linear"
              }
             }
            ],
            "label": "&#9654;",
            "method": "animate"
           },
           {
            "args": [
             [
              null
             ],
             {
              "frame": {
               "duration": 0,
               "redraw": false
              },
              "fromcurrent": true,
              "mode": "immediate",
              "transition": {
               "duration": 0,
               "easing": "linear"
              }
             }
            ],
            "label": "&#9724;",
            "method": "animate"
           }
          ],
          "direction": "left",
          "pad": {
           "r": 10,
           "t": 70
          },
          "showactive": false,
          "type": "buttons",
          "x": 0.1,
          "xanchor": "right",
          "y": 0,
          "yanchor": "top"
         }
        ],
        "xaxis": {
         "anchor": "y",
         "domain": [
          0,
          1
         ],
         "range": [
          0,
          8.40173325865854
         ],
         "title": {
          "text": "To Dems & Liberals"
         },
         "type": "log"
        },
        "yaxis": {
         "anchor": "x",
         "domain": [
          0,
          1
         ],
         "range": [
          0,
          7.938947224719157
         ],
         "title": {
          "text": "To Repubs and Conservs"
         },
         "type": "log"
        }
       }
      },
      "text/html": [
       "<div>                            <div id=\"1d6d723e-8ced-4881-b646-a118ccff5121\" class=\"plotly-graph-div\" style=\"height:525px; width:100%;\"></div>            <script type=\"text/javascript\">                require([\"plotly\"], function(Plotly) {                    window.PLOTLYENV=window.PLOTLYENV || {};                                    if (document.getElementById(\"1d6d723e-8ced-4881-b646-a118ccff5121\")) {                    Plotly.newPlot(                        \"1d6d723e-8ced-4881-b646-a118ccff5121\",                        [{\"hovertemplate\": \"<b>%{hovertext}</b><br><br>Organization=Bain Capital<br>Cycle=2020<br>To Dems & Liberals=%{x}<br>To Repubs and Conservs=%{y}<br>Total Contributions=%{marker.size}<extra></extra>\", \"hovertext\": [\"Bain Capital\"], \"legendgroup\": \"Bain Capital\", \"marker\": {\"color\": \"#636efa\", \"size\": [30857523], \"sizemode\": \"area\", \"sizeref\": 70287.06555555556, \"symbol\": \"circle\"}, \"mode\": \"markers\", \"name\": \"Bain Capital\", \"orientation\": \"v\", \"showlegend\": true, \"type\": \"scatter\", \"x\": [29990791], \"xaxis\": \"x\", \"y\": [345051], \"yaxis\": \"y\"}, {\"hovertemplate\": \"<b>%{hovertext}</b><br><br>Organization=Baupost Group<br>Cycle=2020<br>To Dems & Liberals=%{x}<br>To Repubs and Conservs=%{y}<br>Total Contributions=%{marker.size}<extra></extra>\", \"hovertext\": [\"Baupost Group\"], \"legendgroup\": \"Baupost Group\", \"marker\": {\"color\": \"#EF553B\", \"size\": [7262135], \"sizemode\": \"area\", \"sizeref\": 70287.06555555556, \"symbol\": \"circle\"}, \"mode\": \"markers\", \"name\": \"Baupost Group\", \"orientation\": \"v\", \"showlegend\": true, \"type\": \"scatter\", \"x\": [6091435], \"xaxis\": \"x\", \"y\": [440300], \"yaxis\": \"y\"}, {\"hovertemplate\": \"<b>%{hovertext}</b><br><br>Organization=Blackstone Group<br>Cycle=2020<br>To Dems & Liberals=%{x}<br>To Repubs and Conservs=%{y}<br>Total Contributions=%{marker.size}<extra></extra>\", \"hovertext\": [\"Blackstone Group\"], \"legendgroup\": \"Blackstone Group\", \"marker\": {\"color\": \"#00cc96\", \"size\": [58610728], \"sizemode\": \"area\", \"sizeref\": 70287.06555555556, \"symbol\": \"circle\"}, \"mode\": \"markers\", \"name\": \"Blackstone Group\", \"orientation\": \"v\", \"showlegend\": true, \"type\": \"scatter\", \"x\": [7942861], \"xaxis\": \"x\", \"y\": [50660403], \"yaxis\": \"y\"}, {\"hovertemplate\": \"<b>%{hovertext}</b><br><br>Organization=Bloomberg LP<br>Cycle=2020<br>To Dems & Liberals=%{x}<br>To Repubs and Conservs=%{y}<br>Total Contributions=%{marker.size}<extra></extra>\", \"hovertext\": [\"Bloomberg LP\"], \"legendgroup\": \"Bloomberg LP\", \"marker\": {\"color\": \"#ab63fa\", \"size\": [253033436], \"sizemode\": \"area\", \"sizeref\": 70287.06555555556, \"symbol\": \"circle\"}, \"mode\": \"markers\", \"name\": \"Bloomberg LP\", \"orientation\": \"v\", \"showlegend\": true, \"type\": \"scatter\", \"x\": [252193134], \"xaxis\": \"x\", \"y\": [80823], \"yaxis\": \"y\"}, {\"hovertemplate\": \"<b>%{hovertext}</b><br><br>Organization=Charles Schwab Corp<br>Cycle=2020<br>To Dems & Liberals=%{x}<br>To Repubs and Conservs=%{y}<br>Total Contributions=%{marker.size}<extra></extra>\", \"hovertext\": [\"Charles Schwab Corp\"], \"legendgroup\": \"Charles Schwab Corp\", \"marker\": {\"color\": \"#FFA15A\", \"size\": [40756670], \"sizemode\": \"area\", \"sizeref\": 70287.06555555556, \"symbol\": \"circle\"}, \"mode\": \"markers\", \"name\": \"Charles Schwab Corp\", \"orientation\": \"v\", \"showlegend\": true, \"type\": \"scatter\", \"x\": [1203893], \"xaxis\": \"x\", \"y\": [39548175], \"yaxis\": \"y\"}, {\"hovertemplate\": \"<b>%{hovertext}</b><br><br>Organization=Citadel LLC<br>Cycle=2020<br>To Dems & Liberals=%{x}<br>To Repubs and Conservs=%{y}<br>Total Contributions=%{marker.size}<extra></extra>\", \"hovertext\": [\"Citadel LLC\"], \"legendgroup\": \"Citadel LLC\", \"marker\": {\"color\": \"#19d3f3\", \"size\": [87504144], \"sizemode\": \"area\", \"sizeref\": 70287.06555555556, \"symbol\": \"circle\"}, \"mode\": \"markers\", \"name\": \"Citadel LLC\", \"orientation\": \"v\", \"showlegend\": true, \"type\": \"scatter\", \"x\": [612542], \"xaxis\": \"x\", \"y\": [86885484], \"yaxis\": \"y\"}, {\"hovertemplate\": \"<b>%{hovertext}</b><br><br>Organization=Elliott Management<br>Cycle=2020<br>To Dems & Liberals=%{x}<br>To Repubs and Conservs=%{y}<br>Total Contributions=%{marker.size}<extra></extra>\", \"hovertext\": [\"Elliott Management\"], \"legendgroup\": \"Elliott Management\", \"marker\": {\"color\": \"#FF6692\", \"size\": [24091809], \"sizemode\": \"area\", \"sizeref\": 70287.06555555556, \"symbol\": \"circle\"}, \"mode\": \"markers\", \"name\": \"Elliott Management\", \"orientation\": \"v\", \"showlegend\": true, \"type\": \"scatter\", \"x\": [387830], \"xaxis\": \"x\", \"y\": [23424777], \"yaxis\": \"y\"}, {\"hovertemplate\": \"<b>%{hovertext}</b><br><br>Organization=Euclidean Capital<br>Cycle=2020<br>To Dems & Liberals=%{x}<br>To Repubs and Conservs=%{y}<br>Total Contributions=%{marker.size}<extra></extra>\", \"hovertext\": [\"Euclidean Capital\"], \"legendgroup\": \"Euclidean Capital\", \"marker\": {\"color\": \"#B6E880\", \"size\": [30795103], \"sizemode\": \"area\", \"sizeref\": 70287.06555555556, \"symbol\": \"circle\"}, \"mode\": \"markers\", \"name\": \"Euclidean Capital\", \"orientation\": \"v\", \"showlegend\": true, \"type\": \"scatter\", \"x\": [30786703], \"xaxis\": \"x\", \"y\": [0], \"yaxis\": \"y\"}, {\"hovertemplate\": \"<b>%{hovertext}</b><br><br>Organization=Fahr LLC<br>Cycle=2020<br>To Dems & Liberals=%{x}<br>To Repubs and Conservs=%{y}<br>Total Contributions=%{marker.size}<extra></extra>\", \"hovertext\": [\"Fahr LLC\"], \"legendgroup\": \"Fahr LLC\", \"marker\": {\"color\": \"#FF97FF\", \"size\": [143848528], \"sizemode\": \"area\", \"sizeref\": 70287.06555555556, \"symbol\": \"circle\"}, \"mode\": \"markers\", \"name\": \"Fahr LLC\", \"orientation\": \"v\", \"showlegend\": true, \"type\": \"scatter\", \"x\": [143846520], \"xaxis\": \"x\", \"y\": [0], \"yaxis\": \"y\"}, {\"hovertemplate\": \"<b>%{hovertext}</b><br><br>Organization=Intercontinental Exchange Inc<br>Cycle=2020<br>To Dems & Liberals=%{x}<br>To Repubs and Conservs=%{y}<br>Total Contributions=%{marker.size}<extra></extra>\", \"hovertext\": [\"Intercontinental Exchange Inc\"], \"legendgroup\": \"Intercontinental Exchange Inc\", \"marker\": {\"color\": \"#FECB52\", \"size\": [13342871], \"sizemode\": \"area\", \"sizeref\": 70287.06555555556, \"symbol\": \"circle\"}, \"mode\": \"markers\", \"name\": \"Intercontinental Exchange Inc\", \"orientation\": \"v\", \"showlegend\": true, \"type\": \"scatter\", \"x\": [135144], \"xaxis\": \"x\", \"y\": [13205956], \"yaxis\": \"y\"}, {\"hovertemplate\": \"<b>%{hovertext}</b><br><br>Organization=Lone Pine Capital<br>Cycle=2020<br>To Dems & Liberals=%{x}<br>To Repubs and Conservs=%{y}<br>Total Contributions=%{marker.size}<extra></extra>\", \"hovertext\": [\"Lone Pine Capital\"], \"legendgroup\": \"Lone Pine Capital\", \"marker\": {\"color\": \"#636efa\", \"size\": [15233025], \"sizemode\": \"area\", \"sizeref\": 70287.06555555556, \"symbol\": \"circle\"}, \"mode\": \"markers\", \"name\": \"Lone Pine Capital\", \"orientation\": \"v\", \"showlegend\": true, \"type\": \"scatter\", \"x\": [15221725], \"xaxis\": \"x\", \"y\": [100], \"yaxis\": \"y\"}, {\"hovertemplate\": \"<b>%{hovertext}</b><br><br>Organization=Marcus & Millichap<br>Cycle=2020<br>To Dems & Liberals=%{x}<br>To Repubs and Conservs=%{y}<br>Total Contributions=%{marker.size}<extra></extra>\", \"hovertext\": [\"Marcus & Millichap\"], \"legendgroup\": \"Marcus & Millichap\", \"marker\": {\"color\": \"#EF553B\", \"size\": [22965862], \"sizemode\": \"area\", \"sizeref\": 70287.06555555556, \"symbol\": \"circle\"}, \"mode\": \"markers\", \"name\": \"Marcus & Millichap\", \"orientation\": \"v\", \"showlegend\": true, \"type\": \"scatter\", \"x\": [22687603], \"xaxis\": \"x\", \"y\": [275256], \"yaxis\": \"y\"}, {\"hovertemplate\": \"<b>%{hovertext}</b><br><br>Organization=National Assn of Realtors<br>Cycle=2020<br>To Dems & Liberals=%{x}<br>To Repubs and Conservs=%{y}<br>Total Contributions=%{marker.size}<extra></extra>\", \"hovertext\": [\"National Assn of Realtors\"], \"legendgroup\": \"National Assn of Realtors\", \"marker\": {\"color\": \"#00cc96\", \"size\": [13665382], \"sizemode\": \"area\", \"sizeref\": 70287.06555555556, \"symbol\": \"circle\"}, \"mode\": \"markers\", \"name\": \"National Assn of Realtors\", \"orientation\": \"v\", \"showlegend\": true, \"type\": \"scatter\", \"x\": [3636873], \"xaxis\": \"x\", \"y\": [3430107], \"yaxis\": \"y\"}, {\"hovertemplate\": \"<b>%{hovertext}</b><br><br>Organization=Paloma Partners<br>Cycle=2020<br>To Dems & Liberals=%{x}<br>To Repubs and Conservs=%{y}<br>Total Contributions=%{marker.size}<extra></extra>\", \"hovertext\": [\"Paloma Partners\"], \"legendgroup\": \"Paloma Partners\", \"marker\": {\"color\": \"#ab63fa\", \"size\": [53252773], \"sizemode\": \"area\", \"sizeref\": 70287.06555555556, \"symbol\": \"circle\"}, \"mode\": \"markers\", \"name\": \"Paloma Partners\", \"orientation\": \"v\", \"showlegend\": true, \"type\": \"scatter\", \"x\": [53203863], \"xaxis\": \"x\", \"y\": [5600], \"yaxis\": \"y\"}, {\"hovertemplate\": \"<b>%{hovertext}</b><br><br>Organization=Renaissance Technologies<br>Cycle=2020<br>To Dems & Liberals=%{x}<br>To Repubs and Conservs=%{y}<br>Total Contributions=%{marker.size}<extra></extra>\", \"hovertext\": [\"Renaissance Technologies\"], \"legendgroup\": \"Renaissance Technologies\", \"marker\": {\"color\": \"#FFA15A\", \"size\": [36838542], \"sizemode\": \"area\", \"sizeref\": 70287.06555555556, \"symbol\": \"circle\"}, \"mode\": \"markers\", \"name\": \"Renaissance Technologies\", \"orientation\": \"v\", \"showlegend\": true, \"type\": \"scatter\", \"x\": [28738958], \"xaxis\": \"x\", \"y\": [7888834], \"yaxis\": \"y\"}, {\"hovertemplate\": \"<b>%{hovertext}</b><br><br>Organization=Ryan Specialty Group<br>Cycle=2020<br>To Dems & Liberals=%{x}<br>To Repubs and Conservs=%{y}<br>Total Contributions=%{marker.size}<extra></extra>\", \"hovertext\": [\"Ryan Specialty Group\"], \"legendgroup\": \"Ryan Specialty Group\", \"marker\": {\"color\": \"#19d3f3\", \"size\": [15134992], \"sizemode\": \"area\", \"sizeref\": 70287.06555555556, \"symbol\": \"circle\"}, \"mode\": \"markers\", \"name\": \"Ryan Specialty Group\", \"orientation\": \"v\", \"showlegend\": true, \"type\": \"scatter\", \"x\": [42858], \"xaxis\": \"x\", \"y\": [15092063], \"yaxis\": \"y\"}, {\"hovertemplate\": \"<b>%{hovertext}</b><br><br>Organization=Soros Fund Management<br>Cycle=2020<br>To Dems & Liberals=%{x}<br>To Repubs and Conservs=%{y}<br>Total Contributions=%{marker.size}<extra></extra>\", \"hovertext\": [\"Soros Fund Management\"], \"legendgroup\": \"Soros Fund Management\", \"marker\": {\"color\": \"#FF6692\", \"size\": [20239421], \"sizemode\": \"area\", \"sizeref\": 70287.06555555556, \"symbol\": \"circle\"}, \"mode\": \"markers\", \"name\": \"Soros Fund Management\", \"orientation\": \"v\", \"showlegend\": true, \"type\": \"scatter\", \"x\": [20216321], \"xaxis\": \"x\", \"y\": [23100], \"yaxis\": \"y\"}, {\"hovertemplate\": \"<b>%{hovertext}</b><br><br>Organization=Stephens Group<br>Cycle=2020<br>To Dems & Liberals=%{x}<br>To Repubs and Conservs=%{y}<br>Total Contributions=%{marker.size}<extra></extra>\", \"hovertext\": [\"Stephens Group\"], \"legendgroup\": \"Stephens Group\", \"marker\": {\"color\": \"#B6E880\", \"size\": [18015666], \"sizemode\": \"area\", \"sizeref\": 70287.06555555556, \"symbol\": \"circle\"}, \"mode\": \"markers\", \"name\": \"Stephens Group\", \"orientation\": \"v\", \"showlegend\": true, \"type\": \"scatter\", \"x\": [9280], \"xaxis\": \"x\", \"y\": [18006359], \"yaxis\": \"y\"}, {\"hovertemplate\": \"<b>%{hovertext}</b><br><br>Organization=Susquehanna International Group<br>Cycle=2020<br>To Dems & Liberals=%{x}<br>To Repubs and Conservs=%{y}<br>Total Contributions=%{marker.size}<extra></extra>\", \"hovertext\": [\"Susquehanna International Group\"], \"legendgroup\": \"Susquehanna International Group\", \"marker\": {\"color\": \"#FF97FF\", \"size\": [38411615], \"sizemode\": \"area\", \"sizeref\": 70287.06555555556, \"symbol\": \"circle\"}, \"mode\": \"markers\", \"name\": \"Susquehanna International Group\", \"orientation\": \"v\", \"showlegend\": true, \"type\": \"scatter\", \"x\": [166985], \"xaxis\": \"x\", \"y\": [37415732], \"yaxis\": \"y\"}, {\"hovertemplate\": \"<b>%{hovertext}</b><br><br>Organization=Wicklow Capital<br>Cycle=2020<br>To Dems & Liberals=%{x}<br>To Repubs and Conservs=%{y}<br>Total Contributions=%{marker.size}<extra></extra>\", \"hovertext\": [\"Wicklow Capital\"], \"legendgroup\": \"Wicklow Capital\", \"marker\": {\"color\": \"#FECB52\", \"size\": [7491963], \"sizemode\": \"area\", \"sizeref\": 70287.06555555556, \"symbol\": \"circle\"}, \"mode\": \"markers\", \"name\": \"Wicklow Capital\", \"orientation\": \"v\", \"showlegend\": true, \"type\": \"scatter\", \"x\": [6662963], \"xaxis\": \"x\", \"y\": [729000], \"yaxis\": \"y\"}],                        {\"legend\": {\"itemsizing\": \"constant\", \"title\": {\"text\": \"Organization\"}, \"tracegroupgap\": 0}, \"margin\": {\"t\": 60}, \"sliders\": [{\"active\": 0, \"currentvalue\": {\"prefix\": \"Cycle=\"}, \"len\": 0.9, \"pad\": {\"b\": 10, \"t\": 60}, \"steps\": [{\"args\": [[\"2020\"], {\"frame\": {\"duration\": 0, \"redraw\": false}, \"fromcurrent\": true, \"mode\": \"immediate\", \"transition\": {\"duration\": 0, \"easing\": \"linear\"}}], \"label\": \"2020\", \"method\": \"animate\"}, {\"args\": [[\"2016\"], {\"frame\": {\"duration\": 0, \"redraw\": false}, \"fromcurrent\": true, \"mode\": \"immediate\", \"transition\": {\"duration\": 0, \"easing\": \"linear\"}}], \"label\": \"2016\", \"method\": \"animate\"}, {\"args\": [[\"2012\"], {\"frame\": {\"duration\": 0, \"redraw\": false}, \"fromcurrent\": true, \"mode\": \"immediate\", \"transition\": {\"duration\": 0, \"easing\": \"linear\"}}], \"label\": \"2012\", \"method\": \"animate\"}], \"x\": 0.1, \"xanchor\": \"left\", \"y\": 0, \"yanchor\": \"top\"}], \"template\": {\"data\": {\"bar\": [{\"error_x\": {\"color\": \"#2a3f5f\"}, \"error_y\": {\"color\": \"#2a3f5f\"}, \"marker\": {\"line\": {\"color\": \"#E5ECF6\", \"width\": 0.5}}, \"type\": \"bar\"}], \"barpolar\": [{\"marker\": {\"line\": {\"color\": \"#E5ECF6\", \"width\": 0.5}}, \"type\": \"barpolar\"}], \"carpet\": [{\"aaxis\": {\"endlinecolor\": \"#2a3f5f\", \"gridcolor\": \"white\", \"linecolor\": \"white\", \"minorgridcolor\": \"white\", \"startlinecolor\": \"#2a3f5f\"}, \"baxis\": {\"endlinecolor\": \"#2a3f5f\", \"gridcolor\": \"white\", \"linecolor\": \"white\", \"minorgridcolor\": \"white\", \"startlinecolor\": \"#2a3f5f\"}, \"type\": \"carpet\"}], \"choropleth\": [{\"colorbar\": {\"outlinewidth\": 0, \"ticks\": \"\"}, \"type\": \"choropleth\"}], \"contour\": [{\"colorbar\": {\"outlinewidth\": 0, \"ticks\": \"\"}, \"colorscale\": [[0.0, \"#0d0887\"], [0.1111111111111111, \"#46039f\"], [0.2222222222222222, \"#7201a8\"], [0.3333333333333333, \"#9c179e\"], [0.4444444444444444, \"#bd3786\"], [0.5555555555555556, \"#d8576b\"], [0.6666666666666666, \"#ed7953\"], [0.7777777777777778, \"#fb9f3a\"], [0.8888888888888888, \"#fdca26\"], [1.0, \"#f0f921\"]], \"type\": \"contour\"}], \"contourcarpet\": [{\"colorbar\": {\"outlinewidth\": 0, \"ticks\": \"\"}, \"type\": \"contourcarpet\"}], \"heatmap\": [{\"colorbar\": {\"outlinewidth\": 0, \"ticks\": \"\"}, \"colorscale\": [[0.0, \"#0d0887\"], [0.1111111111111111, \"#46039f\"], [0.2222222222222222, \"#7201a8\"], [0.3333333333333333, \"#9c179e\"], [0.4444444444444444, \"#bd3786\"], [0.5555555555555556, \"#d8576b\"], [0.6666666666666666, \"#ed7953\"], [0.7777777777777778, \"#fb9f3a\"], [0.8888888888888888, \"#fdca26\"], [1.0, \"#f0f921\"]], \"type\": \"heatmap\"}], \"heatmapgl\": [{\"colorbar\": {\"outlinewidth\": 0, \"ticks\": \"\"}, \"colorscale\": [[0.0, \"#0d0887\"], [0.1111111111111111, \"#46039f\"], [0.2222222222222222, \"#7201a8\"], [0.3333333333333333, \"#9c179e\"], [0.4444444444444444, \"#bd3786\"], [0.5555555555555556, \"#d8576b\"], [0.6666666666666666, \"#ed7953\"], [0.7777777777777778, \"#fb9f3a\"], [0.8888888888888888, \"#fdca26\"], [1.0, \"#f0f921\"]], \"type\": \"heatmapgl\"}], \"histogram\": [{\"marker\": {\"colorbar\": {\"outlinewidth\": 0, \"ticks\": \"\"}}, \"type\": \"histogram\"}], \"histogram2d\": [{\"colorbar\": {\"outlinewidth\": 0, \"ticks\": \"\"}, \"colorscale\": [[0.0, \"#0d0887\"], [0.1111111111111111, \"#46039f\"], [0.2222222222222222, \"#7201a8\"], [0.3333333333333333, \"#9c179e\"], [0.4444444444444444, \"#bd3786\"], [0.5555555555555556, \"#d8576b\"], [0.6666666666666666, \"#ed7953\"], [0.7777777777777778, \"#fb9f3a\"], [0.8888888888888888, \"#fdca26\"], [1.0, \"#f0f921\"]], \"type\": \"histogram2d\"}], \"histogram2dcontour\": [{\"colorbar\": {\"outlinewidth\": 0, \"ticks\": \"\"}, \"colorscale\": [[0.0, \"#0d0887\"], [0.1111111111111111, \"#46039f\"], [0.2222222222222222, \"#7201a8\"], [0.3333333333333333, \"#9c179e\"], [0.4444444444444444, \"#bd3786\"], [0.5555555555555556, \"#d8576b\"], [0.6666666666666666, \"#ed7953\"], [0.7777777777777778, \"#fb9f3a\"], [0.8888888888888888, \"#fdca26\"], [1.0, \"#f0f921\"]], \"type\": \"histogram2dcontour\"}], \"mesh3d\": [{\"colorbar\": {\"outlinewidth\": 0, \"ticks\": \"\"}, \"type\": \"mesh3d\"}], \"parcoords\": [{\"line\": {\"colorbar\": {\"outlinewidth\": 0, \"ticks\": \"\"}}, \"type\": \"parcoords\"}], \"pie\": [{\"automargin\": true, \"type\": \"pie\"}], \"scatter\": [{\"marker\": {\"colorbar\": {\"outlinewidth\": 0, \"ticks\": \"\"}}, \"type\": \"scatter\"}], \"scatter3d\": [{\"line\": {\"colorbar\": {\"outlinewidth\": 0, \"ticks\": \"\"}}, \"marker\": {\"colorbar\": {\"outlinewidth\": 0, \"ticks\": \"\"}}, \"type\": \"scatter3d\"}], \"scattercarpet\": [{\"marker\": {\"colorbar\": {\"outlinewidth\": 0, \"ticks\": \"\"}}, \"type\": \"scattercarpet\"}], \"scattergeo\": [{\"marker\": {\"colorbar\": {\"outlinewidth\": 0, \"ticks\": \"\"}}, \"type\": \"scattergeo\"}], \"scattergl\": [{\"marker\": {\"colorbar\": {\"outlinewidth\": 0, \"ticks\": \"\"}}, \"type\": \"scattergl\"}], \"scattermapbox\": [{\"marker\": {\"colorbar\": {\"outlinewidth\": 0, \"ticks\": \"\"}}, \"type\": \"scattermapbox\"}], \"scatterpolar\": [{\"marker\": {\"colorbar\": {\"outlinewidth\": 0, \"ticks\": \"\"}}, \"type\": \"scatterpolar\"}], \"scatterpolargl\": [{\"marker\": {\"colorbar\": {\"outlinewidth\": 0, \"ticks\": \"\"}}, \"type\": \"scatterpolargl\"}], \"scatterternary\": [{\"marker\": {\"colorbar\": {\"outlinewidth\": 0, \"ticks\": \"\"}}, \"type\": \"scatterternary\"}], \"surface\": [{\"colorbar\": {\"outlinewidth\": 0, \"ticks\": \"\"}, \"colorscale\": [[0.0, \"#0d0887\"], [0.1111111111111111, \"#46039f\"], [0.2222222222222222, \"#7201a8\"], [0.3333333333333333, \"#9c179e\"], [0.4444444444444444, \"#bd3786\"], [0.5555555555555556, \"#d8576b\"], [0.6666666666666666, \"#ed7953\"], [0.7777777777777778, \"#fb9f3a\"], [0.8888888888888888, \"#fdca26\"], [1.0, \"#f0f921\"]], \"type\": \"surface\"}], \"table\": [{\"cells\": {\"fill\": {\"color\": \"#EBF0F8\"}, \"line\": {\"color\": \"white\"}}, \"header\": {\"fill\": {\"color\": \"#C8D4E3\"}, \"line\": {\"color\": \"white\"}}, \"type\": \"table\"}]}, \"layout\": {\"annotationdefaults\": {\"arrowcolor\": \"#2a3f5f\", \"arrowhead\": 0, \"arrowwidth\": 1}, \"autotypenumbers\": \"strict\", \"coloraxis\": {\"colorbar\": {\"outlinewidth\": 0, \"ticks\": \"\"}}, \"colorscale\": {\"diverging\": [[0, \"#8e0152\"], [0.1, \"#c51b7d\"], [0.2, \"#de77ae\"], [0.3, \"#f1b6da\"], [0.4, \"#fde0ef\"], [0.5, \"#f7f7f7\"], [0.6, \"#e6f5d0\"], [0.7, \"#b8e186\"], [0.8, \"#7fbc41\"], [0.9, \"#4d9221\"], [1, \"#276419\"]], \"sequential\": [[0.0, \"#0d0887\"], [0.1111111111111111, \"#46039f\"], [0.2222222222222222, \"#7201a8\"], [0.3333333333333333, \"#9c179e\"], [0.4444444444444444, \"#bd3786\"], [0.5555555555555556, \"#d8576b\"], [0.6666666666666666, \"#ed7953\"], [0.7777777777777778, \"#fb9f3a\"], [0.8888888888888888, \"#fdca26\"], [1.0, \"#f0f921\"]], \"sequentialminus\": [[0.0, \"#0d0887\"], [0.1111111111111111, \"#46039f\"], [0.2222222222222222, \"#7201a8\"], [0.3333333333333333, \"#9c179e\"], [0.4444444444444444, \"#bd3786\"], [0.5555555555555556, \"#d8576b\"], [0.6666666666666666, \"#ed7953\"], [0.7777777777777778, \"#fb9f3a\"], [0.8888888888888888, \"#fdca26\"], [1.0, \"#f0f921\"]]}, \"colorway\": [\"#636efa\", \"#EF553B\", \"#00cc96\", \"#ab63fa\", \"#FFA15A\", \"#19d3f3\", \"#FF6692\", \"#B6E880\", \"#FF97FF\", \"#FECB52\"], \"font\": {\"color\": \"#2a3f5f\"}, \"geo\": {\"bgcolor\": \"white\", \"lakecolor\": \"white\", \"landcolor\": \"#E5ECF6\", \"showlakes\": true, \"showland\": true, \"subunitcolor\": \"white\"}, \"hoverlabel\": {\"align\": \"left\"}, \"hovermode\": \"closest\", \"mapbox\": {\"style\": \"light\"}, \"paper_bgcolor\": \"white\", \"plot_bgcolor\": \"#E5ECF6\", \"polar\": {\"angularaxis\": {\"gridcolor\": \"white\", \"linecolor\": \"white\", \"ticks\": \"\"}, \"bgcolor\": \"#E5ECF6\", \"radialaxis\": {\"gridcolor\": \"white\", \"linecolor\": \"white\", \"ticks\": \"\"}}, \"scene\": {\"xaxis\": {\"backgroundcolor\": \"#E5ECF6\", \"gridcolor\": \"white\", \"gridwidth\": 2, \"linecolor\": \"white\", \"showbackground\": true, \"ticks\": \"\", \"zerolinecolor\": \"white\"}, \"yaxis\": {\"backgroundcolor\": \"#E5ECF6\", \"gridcolor\": \"white\", \"gridwidth\": 2, \"linecolor\": \"white\", \"showbackground\": true, \"ticks\": \"\", \"zerolinecolor\": \"white\"}, \"zaxis\": {\"backgroundcolor\": \"#E5ECF6\", \"gridcolor\": \"white\", \"gridwidth\": 2, \"linecolor\": \"white\", \"showbackground\": true, \"ticks\": \"\", \"zerolinecolor\": \"white\"}}, \"shapedefaults\": {\"line\": {\"color\": \"#2a3f5f\"}}, \"ternary\": {\"aaxis\": {\"gridcolor\": \"white\", \"linecolor\": \"white\", \"ticks\": \"\"}, \"baxis\": {\"gridcolor\": \"white\", \"linecolor\": \"white\", \"ticks\": \"\"}, \"bgcolor\": \"#E5ECF6\", \"caxis\": {\"gridcolor\": \"white\", \"linecolor\": \"white\", \"ticks\": \"\"}}, \"title\": {\"x\": 0.05}, \"xaxis\": {\"automargin\": true, \"gridcolor\": \"white\", \"linecolor\": \"white\", \"ticks\": \"\", \"title\": {\"standoff\": 15}, \"zerolinecolor\": \"white\", \"zerolinewidth\": 2}, \"yaxis\": {\"automargin\": true, \"gridcolor\": \"white\", \"linecolor\": \"white\", \"ticks\": \"\", \"title\": {\"standoff\": 15}, \"zerolinecolor\": \"white\", \"zerolinewidth\": 2}}}, \"updatemenus\": [{\"buttons\": [{\"args\": [null, {\"frame\": {\"duration\": 500, \"redraw\": false}, \"fromcurrent\": true, \"mode\": \"immediate\", \"transition\": {\"duration\": 500, \"easing\": \"linear\"}}], \"label\": \"&#9654;\", \"method\": \"animate\"}, {\"args\": [[null], {\"frame\": {\"duration\": 0, \"redraw\": false}, \"fromcurrent\": true, \"mode\": \"immediate\", \"transition\": {\"duration\": 0, \"easing\": \"linear\"}}], \"label\": \"&#9724;\", \"method\": \"animate\"}], \"direction\": \"left\", \"pad\": {\"r\": 10, \"t\": 70}, \"showactive\": false, \"type\": \"buttons\", \"x\": 0.1, \"xanchor\": \"right\", \"y\": 0, \"yanchor\": \"top\"}], \"xaxis\": {\"anchor\": \"y\", \"domain\": [0.0, 1.0], \"range\": [0, 8.40173325865854], \"title\": {\"text\": \"To Dems & Liberals\"}, \"type\": \"log\"}, \"yaxis\": {\"anchor\": \"x\", \"domain\": [0.0, 1.0], \"range\": [0, 7.938947224719157], \"title\": {\"text\": \"To Repubs and Conservs\"}, \"type\": \"log\"}},                        {\"responsive\": true}                    ).then(function(){\n",
       "                            Plotly.addFrames('1d6d723e-8ced-4881-b646-a118ccff5121', [{\"data\": [{\"hovertemplate\": \"<b>%{hovertext}</b><br><br>Organization=Bain Capital<br>Cycle=2020<br>To Dems & Liberals=%{x}<br>To Repubs and Conservs=%{y}<br>Total Contributions=%{marker.size}<extra></extra>\", \"hovertext\": [\"Bain Capital\"], \"legendgroup\": \"Bain Capital\", \"marker\": {\"color\": \"#636efa\", \"size\": [30857523], \"sizemode\": \"area\", \"sizeref\": 70287.06555555556, \"symbol\": \"circle\"}, \"mode\": \"markers\", \"name\": \"Bain Capital\", \"orientation\": \"v\", \"showlegend\": true, \"x\": [29990791], \"xaxis\": \"x\", \"y\": [345051], \"yaxis\": \"y\", \"type\": \"scatter\"}, {\"hovertemplate\": \"<b>%{hovertext}</b><br><br>Organization=Baupost Group<br>Cycle=2020<br>To Dems & Liberals=%{x}<br>To Repubs and Conservs=%{y}<br>Total Contributions=%{marker.size}<extra></extra>\", \"hovertext\": [\"Baupost Group\"], \"legendgroup\": \"Baupost Group\", \"marker\": {\"color\": \"#EF553B\", \"size\": [7262135], \"sizemode\": \"area\", \"sizeref\": 70287.06555555556, \"symbol\": \"circle\"}, \"mode\": \"markers\", \"name\": \"Baupost Group\", \"orientation\": \"v\", \"showlegend\": true, \"x\": [6091435], \"xaxis\": \"x\", \"y\": [440300], \"yaxis\": \"y\", \"type\": \"scatter\"}, {\"hovertemplate\": \"<b>%{hovertext}</b><br><br>Organization=Blackstone Group<br>Cycle=2020<br>To Dems & Liberals=%{x}<br>To Repubs and Conservs=%{y}<br>Total Contributions=%{marker.size}<extra></extra>\", \"hovertext\": [\"Blackstone Group\"], \"legendgroup\": \"Blackstone Group\", \"marker\": {\"color\": \"#00cc96\", \"size\": [58610728], \"sizemode\": \"area\", \"sizeref\": 70287.06555555556, \"symbol\": \"circle\"}, \"mode\": \"markers\", \"name\": \"Blackstone Group\", \"orientation\": \"v\", \"showlegend\": true, \"x\": [7942861], \"xaxis\": \"x\", \"y\": [50660403], \"yaxis\": \"y\", \"type\": \"scatter\"}, {\"hovertemplate\": \"<b>%{hovertext}</b><br><br>Organization=Bloomberg LP<br>Cycle=2020<br>To Dems & Liberals=%{x}<br>To Repubs and Conservs=%{y}<br>Total Contributions=%{marker.size}<extra></extra>\", \"hovertext\": [\"Bloomberg LP\"], \"legendgroup\": \"Bloomberg LP\", \"marker\": {\"color\": \"#ab63fa\", \"size\": [253033436], \"sizemode\": \"area\", \"sizeref\": 70287.06555555556, \"symbol\": \"circle\"}, \"mode\": \"markers\", \"name\": \"Bloomberg LP\", \"orientation\": \"v\", \"showlegend\": true, \"x\": [252193134], \"xaxis\": \"x\", \"y\": [80823], \"yaxis\": \"y\", \"type\": \"scatter\"}, {\"hovertemplate\": \"<b>%{hovertext}</b><br><br>Organization=Charles Schwab Corp<br>Cycle=2020<br>To Dems & Liberals=%{x}<br>To Repubs and Conservs=%{y}<br>Total Contributions=%{marker.size}<extra></extra>\", \"hovertext\": [\"Charles Schwab Corp\"], \"legendgroup\": \"Charles Schwab Corp\", \"marker\": {\"color\": \"#FFA15A\", \"size\": [40756670], \"sizemode\": \"area\", \"sizeref\": 70287.06555555556, \"symbol\": \"circle\"}, \"mode\": \"markers\", \"name\": \"Charles Schwab Corp\", \"orientation\": \"v\", \"showlegend\": true, \"x\": [1203893], \"xaxis\": \"x\", \"y\": [39548175], \"yaxis\": \"y\", \"type\": \"scatter\"}, {\"hovertemplate\": \"<b>%{hovertext}</b><br><br>Organization=Citadel LLC<br>Cycle=2020<br>To Dems & Liberals=%{x}<br>To Repubs and Conservs=%{y}<br>Total Contributions=%{marker.size}<extra></extra>\", \"hovertext\": [\"Citadel LLC\"], \"legendgroup\": \"Citadel LLC\", \"marker\": {\"color\": \"#19d3f3\", \"size\": [87504144], \"sizemode\": \"area\", \"sizeref\": 70287.06555555556, \"symbol\": \"circle\"}, \"mode\": \"markers\", \"name\": \"Citadel LLC\", \"orientation\": \"v\", \"showlegend\": true, \"x\": [612542], \"xaxis\": \"x\", \"y\": [86885484], \"yaxis\": \"y\", \"type\": \"scatter\"}, {\"hovertemplate\": \"<b>%{hovertext}</b><br><br>Organization=Elliott Management<br>Cycle=2020<br>To Dems & Liberals=%{x}<br>To Repubs and Conservs=%{y}<br>Total Contributions=%{marker.size}<extra></extra>\", \"hovertext\": [\"Elliott Management\"], \"legendgroup\": \"Elliott Management\", \"marker\": {\"color\": \"#FF6692\", \"size\": [24091809], \"sizemode\": \"area\", \"sizeref\": 70287.06555555556, \"symbol\": \"circle\"}, \"mode\": \"markers\", \"name\": \"Elliott Management\", \"orientation\": \"v\", \"showlegend\": true, \"x\": [387830], \"xaxis\": \"x\", \"y\": [23424777], \"yaxis\": \"y\", \"type\": \"scatter\"}, {\"hovertemplate\": \"<b>%{hovertext}</b><br><br>Organization=Euclidean Capital<br>Cycle=2020<br>To Dems & Liberals=%{x}<br>To Repubs and Conservs=%{y}<br>Total Contributions=%{marker.size}<extra></extra>\", \"hovertext\": [\"Euclidean Capital\"], \"legendgroup\": \"Euclidean Capital\", \"marker\": {\"color\": \"#B6E880\", \"size\": [30795103], \"sizemode\": \"area\", \"sizeref\": 70287.06555555556, \"symbol\": \"circle\"}, \"mode\": \"markers\", \"name\": \"Euclidean Capital\", \"orientation\": \"v\", \"showlegend\": true, \"x\": [30786703], \"xaxis\": \"x\", \"y\": [0], \"yaxis\": \"y\", \"type\": \"scatter\"}, {\"hovertemplate\": \"<b>%{hovertext}</b><br><br>Organization=Fahr LLC<br>Cycle=2020<br>To Dems & Liberals=%{x}<br>To Repubs and Conservs=%{y}<br>Total Contributions=%{marker.size}<extra></extra>\", \"hovertext\": [\"Fahr LLC\"], \"legendgroup\": \"Fahr LLC\", \"marker\": {\"color\": \"#FF97FF\", \"size\": [143848528], \"sizemode\": \"area\", \"sizeref\": 70287.06555555556, \"symbol\": \"circle\"}, \"mode\": \"markers\", \"name\": \"Fahr LLC\", \"orientation\": \"v\", \"showlegend\": true, \"x\": [143846520], \"xaxis\": \"x\", \"y\": [0], \"yaxis\": \"y\", \"type\": \"scatter\"}, {\"hovertemplate\": \"<b>%{hovertext}</b><br><br>Organization=Intercontinental Exchange Inc<br>Cycle=2020<br>To Dems & Liberals=%{x}<br>To Repubs and Conservs=%{y}<br>Total Contributions=%{marker.size}<extra></extra>\", \"hovertext\": [\"Intercontinental Exchange Inc\"], \"legendgroup\": \"Intercontinental Exchange Inc\", \"marker\": {\"color\": \"#FECB52\", \"size\": [13342871], \"sizemode\": \"area\", \"sizeref\": 70287.06555555556, \"symbol\": \"circle\"}, \"mode\": \"markers\", \"name\": \"Intercontinental Exchange Inc\", \"orientation\": \"v\", \"showlegend\": true, \"x\": [135144], \"xaxis\": \"x\", \"y\": [13205956], \"yaxis\": \"y\", \"type\": \"scatter\"}, {\"hovertemplate\": \"<b>%{hovertext}</b><br><br>Organization=Lone Pine Capital<br>Cycle=2020<br>To Dems & Liberals=%{x}<br>To Repubs and Conservs=%{y}<br>Total Contributions=%{marker.size}<extra></extra>\", \"hovertext\": [\"Lone Pine Capital\"], \"legendgroup\": \"Lone Pine Capital\", \"marker\": {\"color\": \"#636efa\", \"size\": [15233025], \"sizemode\": \"area\", \"sizeref\": 70287.06555555556, \"symbol\": \"circle\"}, \"mode\": \"markers\", \"name\": \"Lone Pine Capital\", \"orientation\": \"v\", \"showlegend\": true, \"x\": [15221725], \"xaxis\": \"x\", \"y\": [100], \"yaxis\": \"y\", \"type\": \"scatter\"}, {\"hovertemplate\": \"<b>%{hovertext}</b><br><br>Organization=Marcus & Millichap<br>Cycle=2020<br>To Dems & Liberals=%{x}<br>To Repubs and Conservs=%{y}<br>Total Contributions=%{marker.size}<extra></extra>\", \"hovertext\": [\"Marcus & Millichap\"], \"legendgroup\": \"Marcus & Millichap\", \"marker\": {\"color\": \"#EF553B\", \"size\": [22965862], \"sizemode\": \"area\", \"sizeref\": 70287.06555555556, \"symbol\": \"circle\"}, \"mode\": \"markers\", \"name\": \"Marcus & Millichap\", \"orientation\": \"v\", \"showlegend\": true, \"x\": [22687603], \"xaxis\": \"x\", \"y\": [275256], \"yaxis\": \"y\", \"type\": \"scatter\"}, {\"hovertemplate\": \"<b>%{hovertext}</b><br><br>Organization=National Assn of Realtors<br>Cycle=2020<br>To Dems & Liberals=%{x}<br>To Repubs and Conservs=%{y}<br>Total Contributions=%{marker.size}<extra></extra>\", \"hovertext\": [\"National Assn of Realtors\"], \"legendgroup\": \"National Assn of Realtors\", \"marker\": {\"color\": \"#00cc96\", \"size\": [13665382], \"sizemode\": \"area\", \"sizeref\": 70287.06555555556, \"symbol\": \"circle\"}, \"mode\": \"markers\", \"name\": \"National Assn of Realtors\", \"orientation\": \"v\", \"showlegend\": true, \"x\": [3636873], \"xaxis\": \"x\", \"y\": [3430107], \"yaxis\": \"y\", \"type\": \"scatter\"}, {\"hovertemplate\": \"<b>%{hovertext}</b><br><br>Organization=Paloma Partners<br>Cycle=2020<br>To Dems & Liberals=%{x}<br>To Repubs and Conservs=%{y}<br>Total Contributions=%{marker.size}<extra></extra>\", \"hovertext\": [\"Paloma Partners\"], \"legendgroup\": \"Paloma Partners\", \"marker\": {\"color\": \"#ab63fa\", \"size\": [53252773], \"sizemode\": \"area\", \"sizeref\": 70287.06555555556, \"symbol\": \"circle\"}, \"mode\": \"markers\", \"name\": \"Paloma Partners\", \"orientation\": \"v\", \"showlegend\": true, \"x\": [53203863], \"xaxis\": \"x\", \"y\": [5600], \"yaxis\": \"y\", \"type\": \"scatter\"}, {\"hovertemplate\": \"<b>%{hovertext}</b><br><br>Organization=Renaissance Technologies<br>Cycle=2020<br>To Dems & Liberals=%{x}<br>To Repubs and Conservs=%{y}<br>Total Contributions=%{marker.size}<extra></extra>\", \"hovertext\": [\"Renaissance Technologies\"], \"legendgroup\": \"Renaissance Technologies\", \"marker\": {\"color\": \"#FFA15A\", \"size\": [36838542], \"sizemode\": \"area\", \"sizeref\": 70287.06555555556, \"symbol\": \"circle\"}, \"mode\": \"markers\", \"name\": \"Renaissance Technologies\", \"orientation\": \"v\", \"showlegend\": true, \"x\": [28738958], \"xaxis\": \"x\", \"y\": [7888834], \"yaxis\": \"y\", \"type\": \"scatter\"}, {\"hovertemplate\": \"<b>%{hovertext}</b><br><br>Organization=Ryan Specialty Group<br>Cycle=2020<br>To Dems & Liberals=%{x}<br>To Repubs and Conservs=%{y}<br>Total Contributions=%{marker.size}<extra></extra>\", \"hovertext\": [\"Ryan Specialty Group\"], \"legendgroup\": \"Ryan Specialty Group\", \"marker\": {\"color\": \"#19d3f3\", \"size\": [15134992], \"sizemode\": \"area\", \"sizeref\": 70287.06555555556, \"symbol\": \"circle\"}, \"mode\": \"markers\", \"name\": \"Ryan Specialty Group\", \"orientation\": \"v\", \"showlegend\": true, \"x\": [42858], \"xaxis\": \"x\", \"y\": [15092063], \"yaxis\": \"y\", \"type\": \"scatter\"}, {\"hovertemplate\": \"<b>%{hovertext}</b><br><br>Organization=Soros Fund Management<br>Cycle=2020<br>To Dems & Liberals=%{x}<br>To Repubs and Conservs=%{y}<br>Total Contributions=%{marker.size}<extra></extra>\", \"hovertext\": [\"Soros Fund Management\"], \"legendgroup\": \"Soros Fund Management\", \"marker\": {\"color\": \"#FF6692\", \"size\": [20239421], \"sizemode\": \"area\", \"sizeref\": 70287.06555555556, \"symbol\": \"circle\"}, \"mode\": \"markers\", \"name\": \"Soros Fund Management\", \"orientation\": \"v\", \"showlegend\": true, \"x\": [20216321], \"xaxis\": \"x\", \"y\": [23100], \"yaxis\": \"y\", \"type\": \"scatter\"}, {\"hovertemplate\": \"<b>%{hovertext}</b><br><br>Organization=Stephens Group<br>Cycle=2020<br>To Dems & Liberals=%{x}<br>To Repubs and Conservs=%{y}<br>Total Contributions=%{marker.size}<extra></extra>\", \"hovertext\": [\"Stephens Group\"], \"legendgroup\": \"Stephens Group\", \"marker\": {\"color\": \"#B6E880\", \"size\": [18015666], \"sizemode\": \"area\", \"sizeref\": 70287.06555555556, \"symbol\": \"circle\"}, \"mode\": \"markers\", \"name\": \"Stephens Group\", \"orientation\": \"v\", \"showlegend\": true, \"x\": [9280], \"xaxis\": \"x\", \"y\": [18006359], \"yaxis\": \"y\", \"type\": \"scatter\"}, {\"hovertemplate\": \"<b>%{hovertext}</b><br><br>Organization=Susquehanna International Group<br>Cycle=2020<br>To Dems & Liberals=%{x}<br>To Repubs and Conservs=%{y}<br>Total Contributions=%{marker.size}<extra></extra>\", \"hovertext\": [\"Susquehanna International Group\"], \"legendgroup\": \"Susquehanna International Group\", \"marker\": {\"color\": \"#FF97FF\", \"size\": [38411615], \"sizemode\": \"area\", \"sizeref\": 70287.06555555556, \"symbol\": \"circle\"}, \"mode\": \"markers\", \"name\": \"Susquehanna International Group\", \"orientation\": \"v\", \"showlegend\": true, \"x\": [166985], \"xaxis\": \"x\", \"y\": [37415732], \"yaxis\": \"y\", \"type\": \"scatter\"}, {\"hovertemplate\": \"<b>%{hovertext}</b><br><br>Organization=Wicklow Capital<br>Cycle=2020<br>To Dems & Liberals=%{x}<br>To Repubs and Conservs=%{y}<br>Total Contributions=%{marker.size}<extra></extra>\", \"hovertext\": [\"Wicklow Capital\"], \"legendgroup\": \"Wicklow Capital\", \"marker\": {\"color\": \"#FECB52\", \"size\": [7491963], \"sizemode\": \"area\", \"sizeref\": 70287.06555555556, \"symbol\": \"circle\"}, \"mode\": \"markers\", \"name\": \"Wicklow Capital\", \"orientation\": \"v\", \"showlegend\": true, \"x\": [6662963], \"xaxis\": \"x\", \"y\": [729000], \"yaxis\": \"y\", \"type\": \"scatter\"}], \"name\": \"2020\"}, {\"data\": [{\"hovertemplate\": \"<b>%{hovertext}</b><br><br>Organization=Baupost Group<br>Cycle=2016<br>To Dems & Liberals=%{x}<br>To Repubs and Conservs=%{y}<br>Total Contributions=%{marker.size}<extra></extra>\", \"hovertext\": [\"Baupost Group\"], \"legendgroup\": \"Baupost Group\", \"marker\": {\"color\": \"#EF553B\", \"size\": [3591640], \"sizemode\": \"area\", \"sizeref\": 70287.06555555556, \"symbol\": \"circle\"}, \"mode\": \"markers\", \"name\": \"Baupost Group\", \"orientation\": \"v\", \"showlegend\": true, \"x\": [315550], \"xaxis\": \"x\", \"y\": [3276090], \"yaxis\": \"y\", \"type\": \"scatter\"}, {\"hovertemplate\": \"<b>%{hovertext}</b><br><br>Organization=Blackstone Group<br>Cycle=2016<br>To Dems & Liberals=%{x}<br>To Repubs and Conservs=%{y}<br>Total Contributions=%{marker.size}<extra></extra>\", \"hovertext\": [\"Blackstone Group\"], \"legendgroup\": \"Blackstone Group\", \"marker\": {\"color\": \"#00cc96\", \"size\": [9408248], \"sizemode\": \"area\", \"sizeref\": 70287.06555555556, \"symbol\": \"circle\"}, \"mode\": \"markers\", \"name\": \"Blackstone Group\", \"orientation\": \"v\", \"showlegend\": true, \"x\": [2226465], \"xaxis\": \"x\", \"y\": [7184283], \"yaxis\": \"y\", \"type\": \"scatter\"}, {\"hovertemplate\": \"<b>%{hovertext}</b><br><br>Organization=Bloomberg LP<br>Cycle=2016<br>To Dems & Liberals=%{x}<br>To Repubs and Conservs=%{y}<br>Total Contributions=%{marker.size}<extra></extra>\", \"hovertext\": [\"Bloomberg LP\"], \"legendgroup\": \"Bloomberg LP\", \"marker\": {\"color\": \"#ab63fa\", \"size\": [53728934], \"sizemode\": \"area\", \"sizeref\": 70287.06555555556, \"symbol\": \"circle\"}, \"mode\": \"markers\", \"name\": \"Bloomberg LP\", \"orientation\": \"v\", \"showlegend\": true, \"x\": [53075860], \"xaxis\": \"x\", \"y\": [575816], \"yaxis\": \"y\", \"type\": \"scatter\"}, {\"hovertemplate\": \"<b>%{hovertext}</b><br><br>Organization=Citadel LLC<br>Cycle=2016<br>To Dems & Liberals=%{x}<br>To Repubs and Conservs=%{y}<br>Total Contributions=%{marker.size}<extra></extra>\", \"hovertext\": [\"Citadel LLC\"], \"legendgroup\": \"Citadel LLC\", \"marker\": {\"color\": \"#19d3f3\", \"size\": [17704540], \"sizemode\": \"area\", \"sizeref\": 70287.06555555556, \"symbol\": \"circle\"}, \"mode\": \"markers\", \"name\": \"Citadel LLC\", \"orientation\": \"v\", \"showlegend\": true, \"x\": [252827], \"xaxis\": \"x\", \"y\": [17551713], \"yaxis\": \"y\", \"type\": \"scatter\"}, {\"hovertemplate\": \"<b>%{hovertext}</b><br><br>Organization=Elliott Management<br>Cycle=2016<br>To Dems & Liberals=%{x}<br>To Repubs and Conservs=%{y}<br>Total Contributions=%{marker.size}<extra></extra>\", \"hovertext\": [\"Elliott Management\"], \"legendgroup\": \"Elliott Management\", \"marker\": {\"color\": \"#FF6692\", \"size\": [42299673], \"sizemode\": \"area\", \"sizeref\": 70287.06555555556, \"symbol\": \"circle\"}, \"mode\": \"markers\", \"name\": \"Elliott Management\", \"orientation\": \"v\", \"showlegend\": true, \"x\": [53977], \"xaxis\": \"x\", \"y\": [42242996], \"yaxis\": \"y\", \"type\": \"scatter\"}, {\"hovertemplate\": \"<b>%{hovertext}</b><br><br>Organization=Fahr LLC<br>Cycle=2016<br>To Dems & Liberals=%{x}<br>To Repubs and Conservs=%{y}<br>Total Contributions=%{marker.size}<extra></extra>\", \"hovertext\": [\"Fahr LLC\"], \"legendgroup\": \"Fahr LLC\", \"marker\": {\"color\": \"#FF97FF\", \"size\": [165868654], \"sizemode\": \"area\", \"sizeref\": 70287.06555555556, \"symbol\": \"circle\"}, \"mode\": \"markers\", \"name\": \"Fahr LLC\", \"orientation\": \"v\", \"showlegend\": true, \"x\": [165868654], \"xaxis\": \"x\", \"y\": [0], \"yaxis\": \"y\", \"type\": \"scatter\"}, {\"hovertemplate\": \"<b>%{hovertext}</b><br><br>Organization=National Assn of Realtors<br>Cycle=2016<br>To Dems & Liberals=%{x}<br>To Repubs and Conservs=%{y}<br>Total Contributions=%{marker.size}<extra></extra>\", \"hovertext\": [\"National Assn of Realtors\"], \"legendgroup\": \"National Assn of Realtors\", \"marker\": {\"color\": \"#00cc96\", \"size\": [4924655], \"sizemode\": \"area\", \"sizeref\": 70287.06555555556, \"symbol\": \"circle\"}, \"mode\": \"markers\", \"name\": \"National Assn of Realtors\", \"orientation\": \"v\", \"showlegend\": true, \"x\": [2353479], \"xaxis\": \"x\", \"y\": [2556950], \"yaxis\": \"y\", \"type\": \"scatter\"}, {\"hovertemplate\": \"<b>%{hovertext}</b><br><br>Organization=Paloma Partners<br>Cycle=2016<br>To Dems & Liberals=%{x}<br>To Repubs and Conservs=%{y}<br>Total Contributions=%{marker.size}<extra></extra>\", \"hovertext\": [\"Paloma Partners\"], \"legendgroup\": \"Paloma Partners\", \"marker\": {\"color\": \"#ab63fa\", \"size\": [41938400], \"sizemode\": \"area\", \"sizeref\": 70287.06555555556, \"symbol\": \"circle\"}, \"mode\": \"markers\", \"name\": \"Paloma Partners\", \"orientation\": \"v\", \"showlegend\": true, \"x\": [41935100], \"xaxis\": \"x\", \"y\": [3300], \"yaxis\": \"y\", \"type\": \"scatter\"}, {\"hovertemplate\": \"<b>%{hovertext}</b><br><br>Organization=Renaissance Technologies<br>Cycle=2016<br>To Dems & Liberals=%{x}<br>To Repubs and Conservs=%{y}<br>Total Contributions=%{marker.size}<extra></extra>\", \"hovertext\": [\"Renaissance Technologies\"], \"legendgroup\": \"Renaissance Technologies\", \"marker\": {\"color\": \"#FFA15A\", \"size\": [78123877], \"sizemode\": \"area\", \"sizeref\": 70287.06555555556, \"symbol\": \"circle\"}, \"mode\": \"markers\", \"name\": \"Renaissance Technologies\", \"orientation\": \"v\", \"showlegend\": true, \"x\": [42637628], \"xaxis\": \"x\", \"y\": [35047649], \"yaxis\": \"y\", \"type\": \"scatter\"}, {\"hovertemplate\": \"<b>%{hovertext}</b><br><br>Organization=Soros Fund Management<br>Cycle=2016<br>To Dems & Liberals=%{x}<br>To Repubs and Conservs=%{y}<br>Total Contributions=%{marker.size}<extra></extra>\", \"hovertext\": [\"Soros Fund Management\"], \"legendgroup\": \"Soros Fund Management\", \"marker\": {\"color\": \"#FF6692\", \"size\": [32674552], \"sizemode\": \"area\", \"sizeref\": 70287.06555555556, \"symbol\": \"circle\"}, \"mode\": \"markers\", \"name\": \"Soros Fund Management\", \"orientation\": \"v\", \"showlegend\": true, \"x\": [31728652], \"xaxis\": \"x\", \"y\": [718400], \"yaxis\": \"y\", \"type\": \"scatter\"}, {\"hovertemplate\": \"<b>%{hovertext}</b><br><br>Organization=Stephens Group<br>Cycle=2016<br>To Dems & Liberals=%{x}<br>To Repubs and Conservs=%{y}<br>Total Contributions=%{marker.size}<extra></extra>\", \"hovertext\": [\"Stephens Group\"], \"legendgroup\": \"Stephens Group\", \"marker\": {\"color\": \"#B6E880\", \"size\": [19888906], \"sizemode\": \"area\", \"sizeref\": 70287.06555555556, \"symbol\": \"circle\"}, \"mode\": \"markers\", \"name\": \"Stephens Group\", \"orientation\": \"v\", \"showlegend\": true, \"x\": [43987], \"xaxis\": \"x\", \"y\": [19861219], \"yaxis\": \"y\", \"type\": \"scatter\"}, {\"hovertemplate\": \"<b>%{hovertext}</b><br><br>Organization=Berkshire Hathaway<br>Cycle=2016<br>To Dems & Liberals=%{x}<br>To Repubs and Conservs=%{y}<br>Total Contributions=%{marker.size}<extra></extra>\", \"hovertext\": [\"Berkshire Hathaway\"], \"legendgroup\": \"Berkshire Hathaway\", \"marker\": {\"color\": \"#636efa\", \"size\": [3641504], \"sizemode\": \"area\", \"sizeref\": 70287.06555555556, \"symbol\": \"circle\"}, \"mode\": \"markers\", \"name\": \"Berkshire Hathaway\", \"orientation\": \"v\", \"showlegend\": true, \"x\": [1314303], \"xaxis\": \"x\", \"y\": [2337038], \"yaxis\": \"y\", \"type\": \"scatter\"}, {\"hovertemplate\": \"<b>%{hovertext}</b><br><br>Organization=Goldman Sachs<br>Cycle=2016<br>To Dems & Liberals=%{x}<br>To Repubs and Conservs=%{y}<br>Total Contributions=%{marker.size}<extra></extra>\", \"hovertext\": [\"Goldman Sachs\"], \"legendgroup\": \"Goldman Sachs\", \"marker\": {\"color\": \"#EF553B\", \"size\": [4396469], \"sizemode\": \"area\", \"sizeref\": 70287.06555555556, \"symbol\": \"circle\"}, \"mode\": \"markers\", \"name\": \"Goldman Sachs\", \"orientation\": \"v\", \"showlegend\": true, \"x\": [1796989], \"xaxis\": \"x\", \"y\": [2646730], \"yaxis\": \"y\", \"type\": \"scatter\"}, {\"hovertemplate\": \"<b>%{hovertext}</b><br><br>Organization=Kainos Capital<br>Cycle=2016<br>To Dems & Liberals=%{x}<br>To Repubs and Conservs=%{y}<br>Total Contributions=%{marker.size}<extra></extra>\", \"hovertext\": [\"Kainos Capital\"], \"legendgroup\": \"Kainos Capital\", \"marker\": {\"color\": \"#00cc96\", \"size\": [8458688], \"sizemode\": \"area\", \"sizeref\": 70287.06555555556, \"symbol\": \"circle\"}, \"mode\": \"markers\", \"name\": \"Kainos Capital\", \"orientation\": \"v\", \"showlegend\": true, \"x\": [8405988], \"xaxis\": \"x\", \"y\": [2700], \"yaxis\": \"y\", \"type\": \"scatter\"}, {\"hovertemplate\": \"<b>%{hovertext}</b><br><br>Organization=Pritzker Group<br>Cycle=2016<br>To Dems & Liberals=%{x}<br>To Repubs and Conservs=%{y}<br>Total Contributions=%{marker.size}<extra></extra>\", \"hovertext\": [\"Pritzker Group\"], \"legendgroup\": \"Pritzker Group\", \"marker\": {\"color\": \"#ab63fa\", \"size\": [24232583], \"sizemode\": \"area\", \"sizeref\": 70287.06555555556, \"symbol\": \"circle\"}, \"mode\": \"markers\", \"name\": \"Pritzker Group\", \"orientation\": \"v\", \"showlegend\": true, \"x\": [23221401], \"xaxis\": \"x\", \"y\": [917940], \"yaxis\": \"y\", \"type\": \"scatter\"}, {\"hovertemplate\": \"<b>%{hovertext}</b><br><br>Organization=Saban Capital Group<br>Cycle=2016<br>To Dems & Liberals=%{x}<br>To Repubs and Conservs=%{y}<br>Total Contributions=%{marker.size}<extra></extra>\", \"hovertext\": [\"Saban Capital Group\"], \"legendgroup\": \"Saban Capital Group\", \"marker\": {\"color\": \"#FFA15A\", \"size\": [15864226], \"sizemode\": \"area\", \"sizeref\": 70287.06555555556, \"symbol\": \"circle\"}, \"mode\": \"markers\", \"name\": \"Saban Capital Group\", \"orientation\": \"v\", \"showlegend\": true, \"x\": [15883226], \"xaxis\": \"x\", \"y\": [1000], \"yaxis\": \"y\", \"type\": \"scatter\"}], \"name\": \"2016\"}, {\"data\": [{\"hovertemplate\": \"<b>%{hovertext}</b><br><br>Organization=Bain Capital<br>Cycle=2012<br>To Dems & Liberals=%{x}<br>To Repubs and Conservs=%{y}<br>Total Contributions=%{marker.size}<extra></extra>\", \"hovertext\": [\"Bain Capital\"], \"legendgroup\": \"Bain Capital\", \"marker\": {\"color\": \"#636efa\", \"size\": [5728208], \"sizemode\": \"area\", \"sizeref\": 70287.06555555556, \"symbol\": \"circle\"}, \"mode\": \"markers\", \"name\": \"Bain Capital\", \"orientation\": \"v\", \"showlegend\": true, \"x\": [705510], \"xaxis\": \"x\", \"y\": [5014698], \"yaxis\": \"y\", \"type\": \"scatter\"}, {\"hovertemplate\": \"<b>%{hovertext}</b><br><br>Organization=Blackstone Group<br>Cycle=2012<br>To Dems & Liberals=%{x}<br>To Repubs and Conservs=%{y}<br>Total Contributions=%{marker.size}<extra></extra>\", \"hovertext\": [\"Blackstone Group\"], \"legendgroup\": \"Blackstone Group\", \"marker\": {\"color\": \"#00cc96\", \"size\": [5196410], \"sizemode\": \"area\", \"sizeref\": 70287.06555555556, \"symbol\": \"circle\"}, \"mode\": \"markers\", \"name\": \"Blackstone Group\", \"orientation\": \"v\", \"showlegend\": true, \"x\": [1679546], \"xaxis\": \"x\", \"y\": [3516634], \"yaxis\": \"y\", \"type\": \"scatter\"}, {\"hovertemplate\": \"<b>%{hovertext}</b><br><br>Organization=Elliott Management<br>Cycle=2012<br>To Dems & Liberals=%{x}<br>To Repubs and Conservs=%{y}<br>Total Contributions=%{marker.size}<extra></extra>\", \"hovertext\": [\"Elliott Management\"], \"legendgroup\": \"Elliott Management\", \"marker\": {\"color\": \"#FF6692\", \"size\": [6351931], \"sizemode\": \"area\", \"sizeref\": 70287.06555555556, \"symbol\": \"circle\"}, \"mode\": \"markers\", \"name\": \"Elliott Management\", \"orientation\": \"v\", \"showlegend\": true, \"x\": [1050], \"xaxis\": \"x\", \"y\": [6352981], \"yaxis\": \"y\", \"type\": \"scatter\"}, {\"hovertemplate\": \"<b>%{hovertext}</b><br><br>Organization=National Assn of Realtors<br>Cycle=2012<br>To Dems & Liberals=%{x}<br>To Repubs and Conservs=%{y}<br>Total Contributions=%{marker.size}<extra></extra>\", \"hovertext\": [\"National Assn of Realtors\"], \"legendgroup\": \"National Assn of Realtors\", \"marker\": {\"color\": \"#00cc96\", \"size\": [9420956], \"sizemode\": \"area\", \"sizeref\": 70287.06555555556, \"symbol\": \"circle\"}, \"mode\": \"markers\", \"name\": \"National Assn of Realtors\", \"orientation\": \"v\", \"showlegend\": true, \"x\": [4690703], \"xaxis\": \"x\", \"y\": [4673003], \"yaxis\": \"y\", \"type\": \"scatter\"}, {\"hovertemplate\": \"<b>%{hovertext}</b><br><br>Organization=Renaissance Technologies<br>Cycle=2012<br>To Dems & Liberals=%{x}<br>To Repubs and Conservs=%{y}<br>Total Contributions=%{marker.size}<extra></extra>\", \"hovertext\": [\"Renaissance Technologies\"], \"legendgroup\": \"Renaissance Technologies\", \"marker\": {\"color\": \"#FFA15A\", \"size\": [17498450], \"sizemode\": \"area\", \"sizeref\": 70287.06555555556, \"symbol\": \"circle\"}, \"mode\": \"markers\", \"name\": \"Renaissance Technologies\", \"orientation\": \"v\", \"showlegend\": true, \"x\": [11611096], \"xaxis\": \"x\", \"y\": [5887354], \"yaxis\": \"y\", \"type\": \"scatter\"}, {\"hovertemplate\": \"<b>%{hovertext}</b><br><br>Organization=Berkshire Hathaway<br>Cycle=2012<br>To Dems & Liberals=%{x}<br>To Repubs and Conservs=%{y}<br>Total Contributions=%{marker.size}<extra></extra>\", \"hovertext\": [\"Berkshire Hathaway\"], \"legendgroup\": \"Berkshire Hathaway\", \"marker\": {\"color\": \"#636efa\", \"size\": [7402175], \"sizemode\": \"area\", \"sizeref\": 70287.06555555556, \"symbol\": \"circle\"}, \"mode\": \"markers\", \"name\": \"Berkshire Hathaway\", \"orientation\": \"v\", \"showlegend\": true, \"x\": [2447192], \"xaxis\": \"x\", \"y\": [4933563], \"yaxis\": \"y\", \"type\": \"scatter\"}, {\"hovertemplate\": \"<b>%{hovertext}</b><br><br>Organization=Goldman Sachs<br>Cycle=2012<br>To Dems & Liberals=%{x}<br>To Repubs and Conservs=%{y}<br>Total Contributions=%{marker.size}<extra></extra>\", \"hovertext\": [\"Goldman Sachs\"], \"legendgroup\": \"Goldman Sachs\", \"marker\": {\"color\": \"#EF553B\", \"size\": [12281327], \"sizemode\": \"area\", \"sizeref\": 70287.06555555556, \"symbol\": \"circle\"}, \"mode\": \"markers\", \"name\": \"Goldman Sachs\", \"orientation\": \"v\", \"showlegend\": true, \"x\": [3162021], \"xaxis\": \"x\", \"y\": [9121806], \"yaxis\": \"y\", \"type\": \"scatter\"}, {\"hovertemplate\": \"<b>%{hovertext}</b><br><br>Organization=Bank of America<br>Cycle=2012<br>To Dems & Liberals=%{x}<br>To Repubs and Conservs=%{y}<br>Total Contributions=%{marker.size}<extra></extra>\", \"hovertext\": [\"Bank of America\"], \"legendgroup\": \"Bank of America\", \"marker\": {\"color\": \"#19d3f3\", \"size\": [8275934], \"sizemode\": \"area\", \"sizeref\": 70287.06555555556, \"symbol\": \"circle\"}, \"mode\": \"markers\", \"name\": \"Bank of America\", \"orientation\": \"v\", \"showlegend\": true, \"x\": [2486971], \"xaxis\": \"x\", \"y\": [5755334], \"yaxis\": \"y\", \"type\": \"scatter\"}, {\"hovertemplate\": \"<b>%{hovertext}</b><br><br>Organization=Clarium Capital Management<br>Cycle=2012<br>To Dems & Liberals=%{x}<br>To Repubs and Conservs=%{y}<br>Total Contributions=%{marker.size}<extra></extra>\", \"hovertext\": [\"Clarium Capital Management\"], \"legendgroup\": \"Clarium Capital Management\", \"marker\": {\"color\": \"#FF6692\", \"size\": [4840701], \"sizemode\": \"area\", \"sizeref\": 70287.06555555556, \"symbol\": \"circle\"}, \"mode\": \"markers\", \"name\": \"Clarium Capital Management\", \"orientation\": \"v\", \"showlegend\": true, \"x\": [2500], \"xaxis\": \"x\", \"y\": [4838201], \"yaxis\": \"y\", \"type\": \"scatter\"}, {\"hovertemplate\": \"<b>%{hovertext}</b><br><br>Organization=Contran Corp<br>Cycle=2012<br>To Dems & Liberals=%{x}<br>To Repubs and Conservs=%{y}<br>Total Contributions=%{marker.size}<extra></extra>\", \"hovertext\": [\"Contran Corp\"], \"legendgroup\": \"Contran Corp\", \"marker\": {\"color\": \"#B6E880\", \"size\": [31742618], \"sizemode\": \"area\", \"sizeref\": 70287.06555555556, \"symbol\": \"circle\"}, \"mode\": \"markers\", \"name\": \"Contran Corp\", \"orientation\": \"v\", \"showlegend\": true, \"x\": [100268], \"xaxis\": \"x\", \"y\": [31642350], \"yaxis\": \"y\", \"type\": \"scatter\"}, {\"hovertemplate\": \"<b>%{hovertext}</b><br><br>Organization=Deloitte LLP<br>Cycle=2012<br>To Dems & Liberals=%{x}<br>To Repubs and Conservs=%{y}<br>Total Contributions=%{marker.size}<extra></extra>\", \"hovertext\": [\"Deloitte LLP\"], \"legendgroup\": \"Deloitte LLP\", \"marker\": {\"color\": \"#FF97FF\", \"size\": [7545793], \"sizemode\": \"area\", \"sizeref\": 70287.06555555556, \"symbol\": \"circle\"}, \"mode\": \"markers\", \"name\": \"Deloitte LLP\", \"orientation\": \"v\", \"showlegend\": true, \"x\": [2892109], \"xaxis\": \"x\", \"y\": [4631819], \"yaxis\": \"y\", \"type\": \"scatter\"}, {\"hovertemplate\": \"<b>%{hovertext}</b><br><br>Organization=Hugo Enterprises<br>Cycle=2012<br>To Dems & Liberals=%{x}<br>To Repubs and Conservs=%{y}<br>Total Contributions=%{marker.size}<extra></extra>\", \"hovertext\": [\"Hugo Enterprises\"], \"legendgroup\": \"Hugo Enterprises\", \"marker\": {\"color\": \"#FECB52\", \"size\": [13303454], \"sizemode\": \"area\", \"sizeref\": 70287.06555555556, \"symbol\": \"circle\"}, \"mode\": \"markers\", \"name\": \"Hugo Enterprises\", \"orientation\": \"v\", \"showlegend\": true, \"x\": [2500], \"xaxis\": \"x\", \"y\": [12795954], \"yaxis\": \"y\", \"type\": \"scatter\"}, {\"hovertemplate\": \"<b>%{hovertext}</b><br><br>Organization=JPMorgan Chase & Co<br>Cycle=2012<br>To Dems & Liberals=%{x}<br>To Repubs and Conservs=%{y}<br>Total Contributions=%{marker.size}<extra></extra>\", \"hovertext\": [\"JPMorgan Chase & Co\"], \"legendgroup\": \"JPMorgan Chase & Co\", \"marker\": {\"color\": \"#636efa\", \"size\": [5495228], \"sizemode\": \"area\", \"sizeref\": 70287.06555555556, \"symbol\": \"circle\"}, \"mode\": \"markers\", \"name\": \"JPMorgan Chase & Co\", \"orientation\": \"v\", \"showlegend\": true, \"x\": [2055475], \"xaxis\": \"x\", \"y\": [3432369], \"yaxis\": \"y\", \"type\": \"scatter\"}, {\"hovertemplate\": \"<b>%{hovertext}</b><br><br>Organization=JW Childs Assoc<br>Cycle=2012<br>To Dems & Liberals=%{x}<br>To Repubs and Conservs=%{y}<br>Total Contributions=%{marker.size}<extra></extra>\", \"hovertext\": [\"JW Childs Assoc\"], \"legendgroup\": \"JW Childs Assoc\", \"marker\": {\"color\": \"#EF553B\", \"size\": [4447450], \"sizemode\": \"area\", \"sizeref\": 70287.06555555556, \"symbol\": \"circle\"}, \"mode\": \"markers\", \"name\": \"JW Childs Assoc\", \"orientation\": \"v\", \"showlegend\": true, \"x\": [4300], \"xaxis\": \"x\", \"y\": [4443150], \"yaxis\": \"y\", \"type\": \"scatter\"}, {\"hovertemplate\": \"<b>%{hovertext}</b><br><br>Organization=Morgan Stanley<br>Cycle=2012<br>To Dems & Liberals=%{x}<br>To Repubs and Conservs=%{y}<br>Total Contributions=%{marker.size}<extra></extra>\", \"hovertext\": [\"Morgan Stanley\"], \"legendgroup\": \"Morgan Stanley\", \"marker\": {\"color\": \"#00cc96\", \"size\": [4354821], \"sizemode\": \"area\", \"sizeref\": 70287.06555555556, \"symbol\": \"circle\"}, \"mode\": \"markers\", \"name\": \"Morgan Stanley\", \"orientation\": \"v\", \"showlegend\": true, \"x\": [1236073], \"xaxis\": \"x\", \"y\": [3113698], \"yaxis\": \"y\", \"type\": \"scatter\"}, {\"hovertemplate\": \"<b>%{hovertext}</b><br><br>Organization=New York Life Insurance<br>Cycle=2012<br>To Dems & Liberals=%{x}<br>To Repubs and Conservs=%{y}<br>Total Contributions=%{marker.size}<extra></extra>\", \"hovertext\": [\"New York Life Insurance\"], \"legendgroup\": \"New York Life Insurance\", \"marker\": {\"color\": \"#ab63fa\", \"size\": [2911647], \"sizemode\": \"area\", \"sizeref\": 70287.06555555556, \"symbol\": \"circle\"}, \"mode\": \"markers\", \"name\": \"New York Life Insurance\", \"orientation\": \"v\", \"showlegend\": true, \"x\": [1512217], \"xaxis\": \"x\", \"y\": [1397930], \"yaxis\": \"y\", \"type\": \"scatter\"}, {\"hovertemplate\": \"<b>%{hovertext}</b><br><br>Organization=Perry Homes<br>Cycle=2012<br>To Dems & Liberals=%{x}<br>To Repubs and Conservs=%{y}<br>Total Contributions=%{marker.size}<extra></extra>\", \"hovertext\": [\"Perry Homes\"], \"legendgroup\": \"Perry Homes\", \"marker\": {\"color\": \"#FFA15A\", \"size\": [32187940], \"sizemode\": \"area\", \"sizeref\": 70287.06555555556, \"symbol\": \"circle\"}, \"mode\": \"markers\", \"name\": \"Perry Homes\", \"orientation\": \"v\", \"showlegend\": true, \"x\": [4000], \"xaxis\": \"x\", \"y\": [31618940], \"yaxis\": \"y\", \"type\": \"scatter\"}, {\"hovertemplate\": \"<b>%{hovertext}</b><br><br>Organization=PricewaterhouseCoopers<br>Cycle=2012<br>To Dems & Liberals=%{x}<br>To Repubs and Conservs=%{y}<br>Total Contributions=%{marker.size}<extra></extra>\", \"hovertext\": [\"PricewaterhouseCoopers\"], \"legendgroup\": \"PricewaterhouseCoopers\", \"marker\": {\"color\": \"#19d3f3\", \"size\": [2671103], \"sizemode\": \"area\", \"sizeref\": 70287.06555555556, \"symbol\": \"circle\"}, \"mode\": \"markers\", \"name\": \"PricewaterhouseCoopers\", \"orientation\": \"v\", \"showlegend\": true, \"x\": [1171600], \"xaxis\": \"x\", \"y\": [1498303], \"yaxis\": \"y\", \"type\": \"scatter\"}, {\"hovertemplate\": \"<b>%{hovertext}</b><br><br>Organization=Public Storage Inc<br>Cycle=2012<br>To Dems & Liberals=%{x}<br>To Repubs and Conservs=%{y}<br>Total Contributions=%{marker.size}<extra></extra>\", \"hovertext\": [\"Public Storage Inc\"], \"legendgroup\": \"Public Storage Inc\", \"marker\": {\"color\": \"#FF6692\", \"size\": [4837950], \"sizemode\": \"area\", \"sizeref\": 70287.06555555556, \"symbol\": \"circle\"}, \"mode\": \"markers\", \"name\": \"Public Storage Inc\", \"orientation\": \"v\", \"showlegend\": true, \"x\": [1000], \"xaxis\": \"x\", \"y\": [4836950], \"yaxis\": \"y\", \"type\": \"scatter\"}, {\"hovertemplate\": \"<b>%{hovertext}</b><br><br>Organization=Wells Fargo<br>Cycle=2012<br>To Dems & Liberals=%{x}<br>To Repubs and Conservs=%{y}<br>Total Contributions=%{marker.size}<extra></extra>\", \"hovertext\": [\"Wells Fargo\"], \"legendgroup\": \"Wells Fargo\", \"marker\": {\"color\": \"#B6E880\", \"size\": [4551022], \"sizemode\": \"area\", \"sizeref\": 70287.06555555556, \"symbol\": \"circle\"}, \"mode\": \"markers\", \"name\": \"Wells Fargo\", \"orientation\": \"v\", \"showlegend\": true, \"x\": [1251924], \"xaxis\": \"x\", \"y\": [3288797], \"yaxis\": \"y\", \"type\": \"scatter\"}], \"name\": \"2012\"}]);\n",
       "                        }).then(function(){\n",
       "                            \n",
       "var gd = document.getElementById('1d6d723e-8ced-4881-b646-a118ccff5121');\n",
       "var x = new MutationObserver(function (mutations, observer) {{\n",
       "        var display = window.getComputedStyle(gd).display;\n",
       "        if (!display || display === 'none') {{\n",
       "            console.log([gd, 'removed!']);\n",
       "            Plotly.purge(gd);\n",
       "            observer.disconnect();\n",
       "        }}\n",
       "}});\n",
       "\n",
       "// Listen for the removal of the full notebook cells\n",
       "var notebookContainer = gd.closest('#notebook-container');\n",
       "if (notebookContainer) {{\n",
       "    x.observe(notebookContainer, {childList: true});\n",
       "}}\n",
       "\n",
       "// Listen for the clearing of the current output cell\n",
       "var outputEl = gd.closest('.output');\n",
       "if (outputEl) {{\n",
       "    x.observe(outputEl, {childList: true});\n",
       "}}\n",
       "\n",
       "                        })                };                });            </script>        </div>"
      ]
     },
     "metadata": {},
     "output_type": "display_data"
    }
   ],
   "source": [
    "import plotly.express as px\n",
    "\n",
    "fig = px.scatter(result.query(\"Category=='Finance/Insurance/Real Estate'\"), x=\"To Dems & Liberals\", y=\"To Repubs and Conservs\",\n",
    "\t         size=\"Total Contributions\", color=\"Organization\",\n",
    "           animation_frame = \"Cycle\",\n",
    "                 hover_name=\"Organization\", log_x=True, log_y=True, size_max=60)\n",
    "\n",
    "fig.update_layout(xaxis_range=(0, np.log10(result.query(\"Category=='Finance/Insurance/Real Estate'\")[\"To Dems & Liberals\"].max())),\n",
    "                 yaxis_range=(0, np.log10(result.query(\"Category=='Finance/Insurance/Real Estate'\")[\"To Repubs and Conservs\"].max())))\n",
    "fig.show()\n",
    "pio.write_html(fig, \"Graphs/financial_organisations_donation.html\")"
   ]
  },
  {
   "cell_type": "code",
   "execution_count": 41,
   "metadata": {},
   "outputs": [],
   "source": [
    "other_contri = pd.read_excel(\"Raw_data/OtherContributionsInUSD00-20.xlsx\")"
   ]
  },
  {
   "cell_type": "code",
   "execution_count": 42,
   "metadata": {},
   "outputs": [
    {
     "data": {
      "text/html": [
       "<div>\n",
       "<style scoped>\n",
       "    .dataframe tbody tr th:only-of-type {\n",
       "        vertical-align: middle;\n",
       "    }\n",
       "\n",
       "    .dataframe tbody tr th {\n",
       "        vertical-align: top;\n",
       "    }\n",
       "\n",
       "    .dataframe thead th {\n",
       "        text-align: right;\n",
       "    }\n",
       "</style>\n",
       "<table border=\"1\" class=\"dataframe\">\n",
       "  <thead>\n",
       "    <tr style=\"text-align: right;\">\n",
       "      <th></th>\n",
       "      <th>Category</th>\n",
       "      <th>Organization</th>\n",
       "      <th>Total Contributions</th>\n",
       "      <th>To Dems &amp; Liberals</th>\n",
       "      <th>To Repubs and Conservs</th>\n",
       "      <th>Cycle</th>\n",
       "    </tr>\n",
       "  </thead>\n",
       "  <tbody>\n",
       "    <tr>\n",
       "      <th>0</th>\n",
       "      <td>Education</td>\n",
       "      <td>Stanford</td>\n",
       "      <td>6800073</td>\n",
       "      <td>6586495</td>\n",
       "      <td>213578</td>\n",
       "      <td>2020</td>\n",
       "    </tr>\n",
       "    <tr>\n",
       "      <th>1</th>\n",
       "      <td>Education</td>\n",
       "      <td>University of California</td>\n",
       "      <td>5094510</td>\n",
       "      <td>4932585</td>\n",
       "      <td>161925</td>\n",
       "      <td>2016</td>\n",
       "    </tr>\n",
       "    <tr>\n",
       "      <th>2</th>\n",
       "      <td>Education</td>\n",
       "      <td>Stanford</td>\n",
       "      <td>2101669</td>\n",
       "      <td>1917085</td>\n",
       "      <td>184584</td>\n",
       "      <td>2016</td>\n",
       "    </tr>\n",
       "    <tr>\n",
       "      <th>3</th>\n",
       "      <td>Education</td>\n",
       "      <td>Stanford</td>\n",
       "      <td>1761406</td>\n",
       "      <td>1442952</td>\n",
       "      <td>318454</td>\n",
       "      <td>2012</td>\n",
       "    </tr>\n",
       "    <tr>\n",
       "      <th>4</th>\n",
       "      <td>Education</td>\n",
       "      <td>Stanford</td>\n",
       "      <td>1407132</td>\n",
       "      <td>1222682</td>\n",
       "      <td>184450</td>\n",
       "      <td>2008</td>\n",
       "    </tr>\n",
       "    <tr>\n",
       "      <th>5</th>\n",
       "      <td>Education</td>\n",
       "      <td>Stanford</td>\n",
       "      <td>680108</td>\n",
       "      <td>591052</td>\n",
       "      <td>89056</td>\n",
       "      <td>2004</td>\n",
       "    </tr>\n",
       "    <tr>\n",
       "      <th>6</th>\n",
       "      <td>Education</td>\n",
       "      <td>Harvard University</td>\n",
       "      <td>6141821</td>\n",
       "      <td>6141821</td>\n",
       "      <td>0</td>\n",
       "      <td>2020</td>\n",
       "    </tr>\n",
       "    <tr>\n",
       "      <th>7</th>\n",
       "      <td>Education</td>\n",
       "      <td>Harvard University</td>\n",
       "      <td>2123272</td>\n",
       "      <td>1883710</td>\n",
       "      <td>239562</td>\n",
       "      <td>2016</td>\n",
       "    </tr>\n",
       "    <tr>\n",
       "      <th>8</th>\n",
       "      <td>Education</td>\n",
       "      <td>Harvard University</td>\n",
       "      <td>2526662</td>\n",
       "      <td>2156359</td>\n",
       "      <td>370303</td>\n",
       "      <td>2012</td>\n",
       "    </tr>\n",
       "    <tr>\n",
       "      <th>9</th>\n",
       "      <td>Education</td>\n",
       "      <td>Harvard University</td>\n",
       "      <td>2268175</td>\n",
       "      <td>2009353</td>\n",
       "      <td>258822</td>\n",
       "      <td>2008</td>\n",
       "    </tr>\n",
       "  </tbody>\n",
       "</table>\n",
       "</div>"
      ],
      "text/plain": [
       "    Category              Organization  Total Contributions  \\\n",
       "0  Education                  Stanford              6800073   \n",
       "1  Education  University of California              5094510   \n",
       "2  Education                  Stanford              2101669   \n",
       "3  Education                  Stanford              1761406   \n",
       "4  Education                  Stanford              1407132   \n",
       "5  Education                  Stanford               680108   \n",
       "6  Education        Harvard University              6141821   \n",
       "7  Education        Harvard University              2123272   \n",
       "8  Education        Harvard University              2526662   \n",
       "9  Education        Harvard University              2268175   \n",
       "\n",
       "   To Dems & Liberals  To Repubs and Conservs  Cycle  \n",
       "0             6586495                  213578   2020  \n",
       "1             4932585                  161925   2016  \n",
       "2             1917085                  184584   2016  \n",
       "3             1442952                  318454   2012  \n",
       "4             1222682                  184450   2008  \n",
       "5              591052                   89056   2004  \n",
       "6             6141821                       0   2020  \n",
       "7             1883710                  239562   2016  \n",
       "8             2156359                  370303   2012  \n",
       "9             2009353                  258822   2008  "
      ]
     },
     "execution_count": 42,
     "metadata": {},
     "output_type": "execute_result"
    }
   ],
   "source": [
    "temp_df = other_contri.drop(['State'], axis = 1)\n",
    "temp_df.head(10)"
   ]
  },
  {
   "cell_type": "code",
   "execution_count": 44,
   "metadata": {},
   "outputs": [
    {
     "data": {
      "application/vnd.plotly.v1+json": {
       "config": {
        "plotlyServerURL": "https://plot.ly"
       },
       "data": [
        {
         "line": {
          "color": "royalblue",
          "width": 4
         },
         "name": "Stanford",
         "type": "scatter",
         "x": [
          2020,
          2016,
          2012,
          2008,
          2004
         ],
         "y": [
          6586495,
          1917085,
          1442952,
          1222682,
          591052
         ]
        },
        {
         "line": {
          "color": "royalblue",
          "dash": "dash",
          "width": 4
         },
         "name": "Harvard University",
         "type": "scatter",
         "x": [
          2020,
          2016,
          2012,
          2008,
          2004
         ],
         "y": [
          6141821,
          1883710,
          2156359,
          2009353,
          1071564
         ]
        },
        {
         "line": {
          "color": "royalblue",
          "dash": "dot",
          "width": 4
         },
         "name": "Columbia University",
         "type": "scatter",
         "x": [
          2020,
          2016,
          2012,
          2008,
          2004
         ],
         "y": [
          4070526,
          1636838,
          1030641,
          1221037,
          572646
         ]
        },
        {
         "line": {
          "color": "royalblue",
          "dash": "dashdot",
          "width": 4
         },
         "name": "University of Texas",
         "type": "scatter",
         "x": [
          2020,
          2016,
          2012,
          2008,
          2004
         ],
         "y": [
          3628106,
          881190,
          770705,
          684820,
          301223
         ]
        },
        {
         "line": {
          "color": "royalblue",
          "dash": "longdash",
          "width": 4
         },
         "name": "University of California",
         "type": "scatter",
         "x": [
          2020,
          2018,
          2012,
          2008,
          2004
         ],
         "y": [
          25214498,
          7314948,
          4817846,
          3615805,
          2511068
         ]
        },
        {
         "line": {
          "color": "firebrick",
          "width": 4
         },
         "name": "Stanford",
         "type": "scatter",
         "x": [
          2020,
          2016,
          2012,
          2008,
          2004
         ],
         "y": [
          213578,
          184584,
          318454,
          184450,
          89056
         ]
        },
        {
         "line": {
          "color": "firebrick",
          "dash": "dash",
          "width": 4
         },
         "name": "Harvard University",
         "type": "scatter",
         "x": [
          2020,
          2016,
          2012,
          2008,
          2004
         ],
         "y": [
          0,
          239562,
          370303,
          258822,
          49725
         ]
        },
        {
         "line": {
          "color": "firebrick",
          "dash": "dot",
          "width": 4
         },
         "name": "Columbia University",
         "type": "scatter",
         "x": [
          2020,
          2016,
          2012,
          2008,
          2004
         ],
         "y": [
          125587,
          53576,
          117858,
          110001,
          115110
         ]
        },
        {
         "line": {
          "color": "firebrick",
          "dash": "dashdot",
          "width": 4
         },
         "name": "University of Texas",
         "type": "scatter",
         "x": [
          2020,
          2016,
          2012,
          2008,
          2004
         ],
         "y": [
          411714,
          153883,
          251370,
          243229,
          146017
         ]
        },
        {
         "line": {
          "color": "firebrick",
          "dash": "longdashdot",
          "width": 4
         },
         "name": "University of California",
         "type": "scatter",
         "x": [
          2020,
          2018,
          2012,
          2008,
          2004
         ],
         "y": [
          564291,
          238272,
          308058,
          276147,
          187930
         ]
        }
       ],
       "layout": {
        "template": {
         "data": {
          "bar": [
           {
            "error_x": {
             "color": "#2a3f5f"
            },
            "error_y": {
             "color": "#2a3f5f"
            },
            "marker": {
             "line": {
              "color": "#E5ECF6",
              "width": 0.5
             }
            },
            "type": "bar"
           }
          ],
          "barpolar": [
           {
            "marker": {
             "line": {
              "color": "#E5ECF6",
              "width": 0.5
             }
            },
            "type": "barpolar"
           }
          ],
          "carpet": [
           {
            "aaxis": {
             "endlinecolor": "#2a3f5f",
             "gridcolor": "white",
             "linecolor": "white",
             "minorgridcolor": "white",
             "startlinecolor": "#2a3f5f"
            },
            "baxis": {
             "endlinecolor": "#2a3f5f",
             "gridcolor": "white",
             "linecolor": "white",
             "minorgridcolor": "white",
             "startlinecolor": "#2a3f5f"
            },
            "type": "carpet"
           }
          ],
          "choropleth": [
           {
            "colorbar": {
             "outlinewidth": 0,
             "ticks": ""
            },
            "type": "choropleth"
           }
          ],
          "contour": [
           {
            "colorbar": {
             "outlinewidth": 0,
             "ticks": ""
            },
            "colorscale": [
             [
              0,
              "#0d0887"
             ],
             [
              0.1111111111111111,
              "#46039f"
             ],
             [
              0.2222222222222222,
              "#7201a8"
             ],
             [
              0.3333333333333333,
              "#9c179e"
             ],
             [
              0.4444444444444444,
              "#bd3786"
             ],
             [
              0.5555555555555556,
              "#d8576b"
             ],
             [
              0.6666666666666666,
              "#ed7953"
             ],
             [
              0.7777777777777778,
              "#fb9f3a"
             ],
             [
              0.8888888888888888,
              "#fdca26"
             ],
             [
              1,
              "#f0f921"
             ]
            ],
            "type": "contour"
           }
          ],
          "contourcarpet": [
           {
            "colorbar": {
             "outlinewidth": 0,
             "ticks": ""
            },
            "type": "contourcarpet"
           }
          ],
          "heatmap": [
           {
            "colorbar": {
             "outlinewidth": 0,
             "ticks": ""
            },
            "colorscale": [
             [
              0,
              "#0d0887"
             ],
             [
              0.1111111111111111,
              "#46039f"
             ],
             [
              0.2222222222222222,
              "#7201a8"
             ],
             [
              0.3333333333333333,
              "#9c179e"
             ],
             [
              0.4444444444444444,
              "#bd3786"
             ],
             [
              0.5555555555555556,
              "#d8576b"
             ],
             [
              0.6666666666666666,
              "#ed7953"
             ],
             [
              0.7777777777777778,
              "#fb9f3a"
             ],
             [
              0.8888888888888888,
              "#fdca26"
             ],
             [
              1,
              "#f0f921"
             ]
            ],
            "type": "heatmap"
           }
          ],
          "heatmapgl": [
           {
            "colorbar": {
             "outlinewidth": 0,
             "ticks": ""
            },
            "colorscale": [
             [
              0,
              "#0d0887"
             ],
             [
              0.1111111111111111,
              "#46039f"
             ],
             [
              0.2222222222222222,
              "#7201a8"
             ],
             [
              0.3333333333333333,
              "#9c179e"
             ],
             [
              0.4444444444444444,
              "#bd3786"
             ],
             [
              0.5555555555555556,
              "#d8576b"
             ],
             [
              0.6666666666666666,
              "#ed7953"
             ],
             [
              0.7777777777777778,
              "#fb9f3a"
             ],
             [
              0.8888888888888888,
              "#fdca26"
             ],
             [
              1,
              "#f0f921"
             ]
            ],
            "type": "heatmapgl"
           }
          ],
          "histogram": [
           {
            "marker": {
             "colorbar": {
              "outlinewidth": 0,
              "ticks": ""
             }
            },
            "type": "histogram"
           }
          ],
          "histogram2d": [
           {
            "colorbar": {
             "outlinewidth": 0,
             "ticks": ""
            },
            "colorscale": [
             [
              0,
              "#0d0887"
             ],
             [
              0.1111111111111111,
              "#46039f"
             ],
             [
              0.2222222222222222,
              "#7201a8"
             ],
             [
              0.3333333333333333,
              "#9c179e"
             ],
             [
              0.4444444444444444,
              "#bd3786"
             ],
             [
              0.5555555555555556,
              "#d8576b"
             ],
             [
              0.6666666666666666,
              "#ed7953"
             ],
             [
              0.7777777777777778,
              "#fb9f3a"
             ],
             [
              0.8888888888888888,
              "#fdca26"
             ],
             [
              1,
              "#f0f921"
             ]
            ],
            "type": "histogram2d"
           }
          ],
          "histogram2dcontour": [
           {
            "colorbar": {
             "outlinewidth": 0,
             "ticks": ""
            },
            "colorscale": [
             [
              0,
              "#0d0887"
             ],
             [
              0.1111111111111111,
              "#46039f"
             ],
             [
              0.2222222222222222,
              "#7201a8"
             ],
             [
              0.3333333333333333,
              "#9c179e"
             ],
             [
              0.4444444444444444,
              "#bd3786"
             ],
             [
              0.5555555555555556,
              "#d8576b"
             ],
             [
              0.6666666666666666,
              "#ed7953"
             ],
             [
              0.7777777777777778,
              "#fb9f3a"
             ],
             [
              0.8888888888888888,
              "#fdca26"
             ],
             [
              1,
              "#f0f921"
             ]
            ],
            "type": "histogram2dcontour"
           }
          ],
          "mesh3d": [
           {
            "colorbar": {
             "outlinewidth": 0,
             "ticks": ""
            },
            "type": "mesh3d"
           }
          ],
          "parcoords": [
           {
            "line": {
             "colorbar": {
              "outlinewidth": 0,
              "ticks": ""
             }
            },
            "type": "parcoords"
           }
          ],
          "pie": [
           {
            "automargin": true,
            "type": "pie"
           }
          ],
          "scatter": [
           {
            "marker": {
             "colorbar": {
              "outlinewidth": 0,
              "ticks": ""
             }
            },
            "type": "scatter"
           }
          ],
          "scatter3d": [
           {
            "line": {
             "colorbar": {
              "outlinewidth": 0,
              "ticks": ""
             }
            },
            "marker": {
             "colorbar": {
              "outlinewidth": 0,
              "ticks": ""
             }
            },
            "type": "scatter3d"
           }
          ],
          "scattercarpet": [
           {
            "marker": {
             "colorbar": {
              "outlinewidth": 0,
              "ticks": ""
             }
            },
            "type": "scattercarpet"
           }
          ],
          "scattergeo": [
           {
            "marker": {
             "colorbar": {
              "outlinewidth": 0,
              "ticks": ""
             }
            },
            "type": "scattergeo"
           }
          ],
          "scattergl": [
           {
            "marker": {
             "colorbar": {
              "outlinewidth": 0,
              "ticks": ""
             }
            },
            "type": "scattergl"
           }
          ],
          "scattermapbox": [
           {
            "marker": {
             "colorbar": {
              "outlinewidth": 0,
              "ticks": ""
             }
            },
            "type": "scattermapbox"
           }
          ],
          "scatterpolar": [
           {
            "marker": {
             "colorbar": {
              "outlinewidth": 0,
              "ticks": ""
             }
            },
            "type": "scatterpolar"
           }
          ],
          "scatterpolargl": [
           {
            "marker": {
             "colorbar": {
              "outlinewidth": 0,
              "ticks": ""
             }
            },
            "type": "scatterpolargl"
           }
          ],
          "scatterternary": [
           {
            "marker": {
             "colorbar": {
              "outlinewidth": 0,
              "ticks": ""
             }
            },
            "type": "scatterternary"
           }
          ],
          "surface": [
           {
            "colorbar": {
             "outlinewidth": 0,
             "ticks": ""
            },
            "colorscale": [
             [
              0,
              "#0d0887"
             ],
             [
              0.1111111111111111,
              "#46039f"
             ],
             [
              0.2222222222222222,
              "#7201a8"
             ],
             [
              0.3333333333333333,
              "#9c179e"
             ],
             [
              0.4444444444444444,
              "#bd3786"
             ],
             [
              0.5555555555555556,
              "#d8576b"
             ],
             [
              0.6666666666666666,
              "#ed7953"
             ],
             [
              0.7777777777777778,
              "#fb9f3a"
             ],
             [
              0.8888888888888888,
              "#fdca26"
             ],
             [
              1,
              "#f0f921"
             ]
            ],
            "type": "surface"
           }
          ],
          "table": [
           {
            "cells": {
             "fill": {
              "color": "#EBF0F8"
             },
             "line": {
              "color": "white"
             }
            },
            "header": {
             "fill": {
              "color": "#C8D4E3"
             },
             "line": {
              "color": "white"
             }
            },
            "type": "table"
           }
          ]
         },
         "layout": {
          "annotationdefaults": {
           "arrowcolor": "#2a3f5f",
           "arrowhead": 0,
           "arrowwidth": 1
          },
          "autotypenumbers": "strict",
          "coloraxis": {
           "colorbar": {
            "outlinewidth": 0,
            "ticks": ""
           }
          },
          "colorscale": {
           "diverging": [
            [
             0,
             "#8e0152"
            ],
            [
             0.1,
             "#c51b7d"
            ],
            [
             0.2,
             "#de77ae"
            ],
            [
             0.3,
             "#f1b6da"
            ],
            [
             0.4,
             "#fde0ef"
            ],
            [
             0.5,
             "#f7f7f7"
            ],
            [
             0.6,
             "#e6f5d0"
            ],
            [
             0.7,
             "#b8e186"
            ],
            [
             0.8,
             "#7fbc41"
            ],
            [
             0.9,
             "#4d9221"
            ],
            [
             1,
             "#276419"
            ]
           ],
           "sequential": [
            [
             0,
             "#0d0887"
            ],
            [
             0.1111111111111111,
             "#46039f"
            ],
            [
             0.2222222222222222,
             "#7201a8"
            ],
            [
             0.3333333333333333,
             "#9c179e"
            ],
            [
             0.4444444444444444,
             "#bd3786"
            ],
            [
             0.5555555555555556,
             "#d8576b"
            ],
            [
             0.6666666666666666,
             "#ed7953"
            ],
            [
             0.7777777777777778,
             "#fb9f3a"
            ],
            [
             0.8888888888888888,
             "#fdca26"
            ],
            [
             1,
             "#f0f921"
            ]
           ],
           "sequentialminus": [
            [
             0,
             "#0d0887"
            ],
            [
             0.1111111111111111,
             "#46039f"
            ],
            [
             0.2222222222222222,
             "#7201a8"
            ],
            [
             0.3333333333333333,
             "#9c179e"
            ],
            [
             0.4444444444444444,
             "#bd3786"
            ],
            [
             0.5555555555555556,
             "#d8576b"
            ],
            [
             0.6666666666666666,
             "#ed7953"
            ],
            [
             0.7777777777777778,
             "#fb9f3a"
            ],
            [
             0.8888888888888888,
             "#fdca26"
            ],
            [
             1,
             "#f0f921"
            ]
           ]
          },
          "colorway": [
           "#636efa",
           "#EF553B",
           "#00cc96",
           "#ab63fa",
           "#FFA15A",
           "#19d3f3",
           "#FF6692",
           "#B6E880",
           "#FF97FF",
           "#FECB52"
          ],
          "font": {
           "color": "#2a3f5f"
          },
          "geo": {
           "bgcolor": "white",
           "lakecolor": "white",
           "landcolor": "#E5ECF6",
           "showlakes": true,
           "showland": true,
           "subunitcolor": "white"
          },
          "hoverlabel": {
           "align": "left"
          },
          "hovermode": "closest",
          "mapbox": {
           "style": "light"
          },
          "paper_bgcolor": "white",
          "plot_bgcolor": "#E5ECF6",
          "polar": {
           "angularaxis": {
            "gridcolor": "white",
            "linecolor": "white",
            "ticks": ""
           },
           "bgcolor": "#E5ECF6",
           "radialaxis": {
            "gridcolor": "white",
            "linecolor": "white",
            "ticks": ""
           }
          },
          "scene": {
           "xaxis": {
            "backgroundcolor": "#E5ECF6",
            "gridcolor": "white",
            "gridwidth": 2,
            "linecolor": "white",
            "showbackground": true,
            "ticks": "",
            "zerolinecolor": "white"
           },
           "yaxis": {
            "backgroundcolor": "#E5ECF6",
            "gridcolor": "white",
            "gridwidth": 2,
            "linecolor": "white",
            "showbackground": true,
            "ticks": "",
            "zerolinecolor": "white"
           },
           "zaxis": {
            "backgroundcolor": "#E5ECF6",
            "gridcolor": "white",
            "gridwidth": 2,
            "linecolor": "white",
            "showbackground": true,
            "ticks": "",
            "zerolinecolor": "white"
           }
          },
          "shapedefaults": {
           "line": {
            "color": "#2a3f5f"
           }
          },
          "ternary": {
           "aaxis": {
            "gridcolor": "white",
            "linecolor": "white",
            "ticks": ""
           },
           "baxis": {
            "gridcolor": "white",
            "linecolor": "white",
            "ticks": ""
           },
           "bgcolor": "#E5ECF6",
           "caxis": {
            "gridcolor": "white",
            "linecolor": "white",
            "ticks": ""
           }
          },
          "title": {
           "x": 0.05
          },
          "xaxis": {
           "automargin": true,
           "gridcolor": "white",
           "linecolor": "white",
           "ticks": "",
           "title": {
            "standoff": 15
           },
           "zerolinecolor": "white",
           "zerolinewidth": 2
          },
          "yaxis": {
           "automargin": true,
           "gridcolor": "white",
           "linecolor": "white",
           "ticks": "",
           "title": {
            "standoff": 15
           },
           "zerolinecolor": "white",
           "zerolinewidth": 2
          }
         }
        },
        "title": {
         "text": "Money donated by Educational Institutions"
        },
        "xaxis": {
         "title": {
          "text": "Year"
         }
        },
        "yaxis": {
         "title": {
          "text": "Money Donated (in USD)"
         },
         "type": "log"
        }
       }
      },
      "text/html": [
       "<div>                            <div id=\"24b9d21f-ec53-4317-81d9-3bd7ec939356\" class=\"plotly-graph-div\" style=\"height:525px; width:100%;\"></div>            <script type=\"text/javascript\">                require([\"plotly\"], function(Plotly) {                    window.PLOTLYENV=window.PLOTLYENV || {};                                    if (document.getElementById(\"24b9d21f-ec53-4317-81d9-3bd7ec939356\")) {                    Plotly.newPlot(                        \"24b9d21f-ec53-4317-81d9-3bd7ec939356\",                        [{\"line\": {\"color\": \"royalblue\", \"width\": 4}, \"name\": \"Stanford\", \"type\": \"scatter\", \"x\": [2020, 2016, 2012, 2008, 2004], \"y\": [6586495, 1917085, 1442952, 1222682, 591052]}, {\"line\": {\"color\": \"royalblue\", \"dash\": \"dash\", \"width\": 4}, \"name\": \"Harvard University\", \"type\": \"scatter\", \"x\": [2020, 2016, 2012, 2008, 2004], \"y\": [6141821, 1883710, 2156359, 2009353, 1071564]}, {\"line\": {\"color\": \"royalblue\", \"dash\": \"dot\", \"width\": 4}, \"name\": \"Columbia University\", \"type\": \"scatter\", \"x\": [2020, 2016, 2012, 2008, 2004], \"y\": [4070526, 1636838, 1030641, 1221037, 572646]}, {\"line\": {\"color\": \"royalblue\", \"dash\": \"dashdot\", \"width\": 4}, \"name\": \"University of Texas\", \"type\": \"scatter\", \"x\": [2020, 2016, 2012, 2008, 2004], \"y\": [3628106, 881190, 770705, 684820, 301223]}, {\"line\": {\"color\": \"royalblue\", \"dash\": \"longdash\", \"width\": 4}, \"name\": \"University of California\", \"type\": \"scatter\", \"x\": [2020, 2018, 2012, 2008, 2004], \"y\": [25214498, 7314948, 4817846, 3615805, 2511068]}, {\"line\": {\"color\": \"firebrick\", \"width\": 4}, \"name\": \"Stanford\", \"type\": \"scatter\", \"x\": [2020, 2016, 2012, 2008, 2004], \"y\": [213578, 184584, 318454, 184450, 89056]}, {\"line\": {\"color\": \"firebrick\", \"dash\": \"dash\", \"width\": 4}, \"name\": \"Harvard University\", \"type\": \"scatter\", \"x\": [2020, 2016, 2012, 2008, 2004], \"y\": [0, 239562, 370303, 258822, 49725]}, {\"line\": {\"color\": \"firebrick\", \"dash\": \"dot\", \"width\": 4}, \"name\": \"Columbia University\", \"type\": \"scatter\", \"x\": [2020, 2016, 2012, 2008, 2004], \"y\": [125587, 53576, 117858, 110001, 115110]}, {\"line\": {\"color\": \"firebrick\", \"dash\": \"dashdot\", \"width\": 4}, \"name\": \"University of Texas\", \"type\": \"scatter\", \"x\": [2020, 2016, 2012, 2008, 2004], \"y\": [411714, 153883, 251370, 243229, 146017]}, {\"line\": {\"color\": \"firebrick\", \"dash\": \"longdashdot\", \"width\": 4}, \"name\": \"University of California\", \"type\": \"scatter\", \"x\": [2020, 2018, 2012, 2008, 2004], \"y\": [564291, 238272, 308058, 276147, 187930]}],                        {\"template\": {\"data\": {\"bar\": [{\"error_x\": {\"color\": \"#2a3f5f\"}, \"error_y\": {\"color\": \"#2a3f5f\"}, \"marker\": {\"line\": {\"color\": \"#E5ECF6\", \"width\": 0.5}}, \"type\": \"bar\"}], \"barpolar\": [{\"marker\": {\"line\": {\"color\": \"#E5ECF6\", \"width\": 0.5}}, \"type\": \"barpolar\"}], \"carpet\": [{\"aaxis\": {\"endlinecolor\": \"#2a3f5f\", \"gridcolor\": \"white\", \"linecolor\": \"white\", \"minorgridcolor\": \"white\", \"startlinecolor\": \"#2a3f5f\"}, \"baxis\": {\"endlinecolor\": \"#2a3f5f\", \"gridcolor\": \"white\", \"linecolor\": \"white\", \"minorgridcolor\": \"white\", \"startlinecolor\": \"#2a3f5f\"}, \"type\": \"carpet\"}], \"choropleth\": [{\"colorbar\": {\"outlinewidth\": 0, \"ticks\": \"\"}, \"type\": \"choropleth\"}], \"contour\": [{\"colorbar\": {\"outlinewidth\": 0, \"ticks\": \"\"}, \"colorscale\": [[0.0, \"#0d0887\"], [0.1111111111111111, \"#46039f\"], [0.2222222222222222, \"#7201a8\"], [0.3333333333333333, \"#9c179e\"], [0.4444444444444444, \"#bd3786\"], [0.5555555555555556, \"#d8576b\"], [0.6666666666666666, \"#ed7953\"], [0.7777777777777778, \"#fb9f3a\"], [0.8888888888888888, \"#fdca26\"], [1.0, \"#f0f921\"]], \"type\": \"contour\"}], \"contourcarpet\": [{\"colorbar\": {\"outlinewidth\": 0, \"ticks\": \"\"}, \"type\": \"contourcarpet\"}], \"heatmap\": [{\"colorbar\": {\"outlinewidth\": 0, \"ticks\": \"\"}, \"colorscale\": [[0.0, \"#0d0887\"], [0.1111111111111111, \"#46039f\"], [0.2222222222222222, \"#7201a8\"], [0.3333333333333333, \"#9c179e\"], [0.4444444444444444, \"#bd3786\"], [0.5555555555555556, \"#d8576b\"], [0.6666666666666666, \"#ed7953\"], [0.7777777777777778, \"#fb9f3a\"], [0.8888888888888888, \"#fdca26\"], [1.0, \"#f0f921\"]], \"type\": \"heatmap\"}], \"heatmapgl\": [{\"colorbar\": {\"outlinewidth\": 0, \"ticks\": \"\"}, \"colorscale\": [[0.0, \"#0d0887\"], [0.1111111111111111, \"#46039f\"], [0.2222222222222222, \"#7201a8\"], [0.3333333333333333, \"#9c179e\"], [0.4444444444444444, \"#bd3786\"], [0.5555555555555556, \"#d8576b\"], [0.6666666666666666, \"#ed7953\"], [0.7777777777777778, \"#fb9f3a\"], [0.8888888888888888, \"#fdca26\"], [1.0, \"#f0f921\"]], \"type\": \"heatmapgl\"}], \"histogram\": [{\"marker\": {\"colorbar\": {\"outlinewidth\": 0, \"ticks\": \"\"}}, \"type\": \"histogram\"}], \"histogram2d\": [{\"colorbar\": {\"outlinewidth\": 0, \"ticks\": \"\"}, \"colorscale\": [[0.0, \"#0d0887\"], [0.1111111111111111, \"#46039f\"], [0.2222222222222222, \"#7201a8\"], [0.3333333333333333, \"#9c179e\"], [0.4444444444444444, \"#bd3786\"], [0.5555555555555556, \"#d8576b\"], [0.6666666666666666, \"#ed7953\"], [0.7777777777777778, \"#fb9f3a\"], [0.8888888888888888, \"#fdca26\"], [1.0, \"#f0f921\"]], \"type\": \"histogram2d\"}], \"histogram2dcontour\": [{\"colorbar\": {\"outlinewidth\": 0, \"ticks\": \"\"}, \"colorscale\": [[0.0, \"#0d0887\"], [0.1111111111111111, \"#46039f\"], [0.2222222222222222, \"#7201a8\"], [0.3333333333333333, \"#9c179e\"], [0.4444444444444444, \"#bd3786\"], [0.5555555555555556, \"#d8576b\"], [0.6666666666666666, \"#ed7953\"], [0.7777777777777778, \"#fb9f3a\"], [0.8888888888888888, \"#fdca26\"], [1.0, \"#f0f921\"]], \"type\": \"histogram2dcontour\"}], \"mesh3d\": [{\"colorbar\": {\"outlinewidth\": 0, \"ticks\": \"\"}, \"type\": \"mesh3d\"}], \"parcoords\": [{\"line\": {\"colorbar\": {\"outlinewidth\": 0, \"ticks\": \"\"}}, \"type\": \"parcoords\"}], \"pie\": [{\"automargin\": true, \"type\": \"pie\"}], \"scatter\": [{\"marker\": {\"colorbar\": {\"outlinewidth\": 0, \"ticks\": \"\"}}, \"type\": \"scatter\"}], \"scatter3d\": [{\"line\": {\"colorbar\": {\"outlinewidth\": 0, \"ticks\": \"\"}}, \"marker\": {\"colorbar\": {\"outlinewidth\": 0, \"ticks\": \"\"}}, \"type\": \"scatter3d\"}], \"scattercarpet\": [{\"marker\": {\"colorbar\": {\"outlinewidth\": 0, \"ticks\": \"\"}}, \"type\": \"scattercarpet\"}], \"scattergeo\": [{\"marker\": {\"colorbar\": {\"outlinewidth\": 0, \"ticks\": \"\"}}, \"type\": \"scattergeo\"}], \"scattergl\": [{\"marker\": {\"colorbar\": {\"outlinewidth\": 0, \"ticks\": \"\"}}, \"type\": \"scattergl\"}], \"scattermapbox\": [{\"marker\": {\"colorbar\": {\"outlinewidth\": 0, \"ticks\": \"\"}}, \"type\": \"scattermapbox\"}], \"scatterpolar\": [{\"marker\": {\"colorbar\": {\"outlinewidth\": 0, \"ticks\": \"\"}}, \"type\": \"scatterpolar\"}], \"scatterpolargl\": [{\"marker\": {\"colorbar\": {\"outlinewidth\": 0, \"ticks\": \"\"}}, \"type\": \"scatterpolargl\"}], \"scatterternary\": [{\"marker\": {\"colorbar\": {\"outlinewidth\": 0, \"ticks\": \"\"}}, \"type\": \"scatterternary\"}], \"surface\": [{\"colorbar\": {\"outlinewidth\": 0, \"ticks\": \"\"}, \"colorscale\": [[0.0, \"#0d0887\"], [0.1111111111111111, \"#46039f\"], [0.2222222222222222, \"#7201a8\"], [0.3333333333333333, \"#9c179e\"], [0.4444444444444444, \"#bd3786\"], [0.5555555555555556, \"#d8576b\"], [0.6666666666666666, \"#ed7953\"], [0.7777777777777778, \"#fb9f3a\"], [0.8888888888888888, \"#fdca26\"], [1.0, \"#f0f921\"]], \"type\": \"surface\"}], \"table\": [{\"cells\": {\"fill\": {\"color\": \"#EBF0F8\"}, \"line\": {\"color\": \"white\"}}, \"header\": {\"fill\": {\"color\": \"#C8D4E3\"}, \"line\": {\"color\": \"white\"}}, \"type\": \"table\"}]}, \"layout\": {\"annotationdefaults\": {\"arrowcolor\": \"#2a3f5f\", \"arrowhead\": 0, \"arrowwidth\": 1}, \"autotypenumbers\": \"strict\", \"coloraxis\": {\"colorbar\": {\"outlinewidth\": 0, \"ticks\": \"\"}}, \"colorscale\": {\"diverging\": [[0, \"#8e0152\"], [0.1, \"#c51b7d\"], [0.2, \"#de77ae\"], [0.3, \"#f1b6da\"], [0.4, \"#fde0ef\"], [0.5, \"#f7f7f7\"], [0.6, \"#e6f5d0\"], [0.7, \"#b8e186\"], [0.8, \"#7fbc41\"], [0.9, \"#4d9221\"], [1, \"#276419\"]], \"sequential\": [[0.0, \"#0d0887\"], [0.1111111111111111, \"#46039f\"], [0.2222222222222222, \"#7201a8\"], [0.3333333333333333, \"#9c179e\"], [0.4444444444444444, \"#bd3786\"], [0.5555555555555556, \"#d8576b\"], [0.6666666666666666, \"#ed7953\"], [0.7777777777777778, \"#fb9f3a\"], [0.8888888888888888, \"#fdca26\"], [1.0, \"#f0f921\"]], \"sequentialminus\": [[0.0, \"#0d0887\"], [0.1111111111111111, \"#46039f\"], [0.2222222222222222, \"#7201a8\"], [0.3333333333333333, \"#9c179e\"], [0.4444444444444444, \"#bd3786\"], [0.5555555555555556, \"#d8576b\"], [0.6666666666666666, \"#ed7953\"], [0.7777777777777778, \"#fb9f3a\"], [0.8888888888888888, \"#fdca26\"], [1.0, \"#f0f921\"]]}, \"colorway\": [\"#636efa\", \"#EF553B\", \"#00cc96\", \"#ab63fa\", \"#FFA15A\", \"#19d3f3\", \"#FF6692\", \"#B6E880\", \"#FF97FF\", \"#FECB52\"], \"font\": {\"color\": \"#2a3f5f\"}, \"geo\": {\"bgcolor\": \"white\", \"lakecolor\": \"white\", \"landcolor\": \"#E5ECF6\", \"showlakes\": true, \"showland\": true, \"subunitcolor\": \"white\"}, \"hoverlabel\": {\"align\": \"left\"}, \"hovermode\": \"closest\", \"mapbox\": {\"style\": \"light\"}, \"paper_bgcolor\": \"white\", \"plot_bgcolor\": \"#E5ECF6\", \"polar\": {\"angularaxis\": {\"gridcolor\": \"white\", \"linecolor\": \"white\", \"ticks\": \"\"}, \"bgcolor\": \"#E5ECF6\", \"radialaxis\": {\"gridcolor\": \"white\", \"linecolor\": \"white\", \"ticks\": \"\"}}, \"scene\": {\"xaxis\": {\"backgroundcolor\": \"#E5ECF6\", \"gridcolor\": \"white\", \"gridwidth\": 2, \"linecolor\": \"white\", \"showbackground\": true, \"ticks\": \"\", \"zerolinecolor\": \"white\"}, \"yaxis\": {\"backgroundcolor\": \"#E5ECF6\", \"gridcolor\": \"white\", \"gridwidth\": 2, \"linecolor\": \"white\", \"showbackground\": true, \"ticks\": \"\", \"zerolinecolor\": \"white\"}, \"zaxis\": {\"backgroundcolor\": \"#E5ECF6\", \"gridcolor\": \"white\", \"gridwidth\": 2, \"linecolor\": \"white\", \"showbackground\": true, \"ticks\": \"\", \"zerolinecolor\": \"white\"}}, \"shapedefaults\": {\"line\": {\"color\": \"#2a3f5f\"}}, \"ternary\": {\"aaxis\": {\"gridcolor\": \"white\", \"linecolor\": \"white\", \"ticks\": \"\"}, \"baxis\": {\"gridcolor\": \"white\", \"linecolor\": \"white\", \"ticks\": \"\"}, \"bgcolor\": \"#E5ECF6\", \"caxis\": {\"gridcolor\": \"white\", \"linecolor\": \"white\", \"ticks\": \"\"}}, \"title\": {\"x\": 0.05}, \"xaxis\": {\"automargin\": true, \"gridcolor\": \"white\", \"linecolor\": \"white\", \"ticks\": \"\", \"title\": {\"standoff\": 15}, \"zerolinecolor\": \"white\", \"zerolinewidth\": 2}, \"yaxis\": {\"automargin\": true, \"gridcolor\": \"white\", \"linecolor\": \"white\", \"ticks\": \"\", \"title\": {\"standoff\": 15}, \"zerolinecolor\": \"white\", \"zerolinewidth\": 2}}}, \"title\": {\"text\": \"Money donated by Educational Institutions\"}, \"xaxis\": {\"title\": {\"text\": \"Year\"}}, \"yaxis\": {\"title\": {\"text\": \"Money Donated (in USD)\"}, \"type\": \"log\"}},                        {\"responsive\": true}                    ).then(function(){\n",
       "                            \n",
       "var gd = document.getElementById('24b9d21f-ec53-4317-81d9-3bd7ec939356');\n",
       "var x = new MutationObserver(function (mutations, observer) {{\n",
       "        var display = window.getComputedStyle(gd).display;\n",
       "        if (!display || display === 'none') {{\n",
       "            console.log([gd, 'removed!']);\n",
       "            Plotly.purge(gd);\n",
       "            observer.disconnect();\n",
       "        }}\n",
       "}});\n",
       "\n",
       "// Listen for the removal of the full notebook cells\n",
       "var notebookContainer = gd.closest('#notebook-container');\n",
       "if (notebookContainer) {{\n",
       "    x.observe(notebookContainer, {childList: true});\n",
       "}}\n",
       "\n",
       "// Listen for the clearing of the current output cell\n",
       "var outputEl = gd.closest('.output');\n",
       "if (outputEl) {{\n",
       "    x.observe(outputEl, {childList: true});\n",
       "}}\n",
       "\n",
       "                        })                };                });            </script>        </div>"
      ]
     },
     "metadata": {},
     "output_type": "display_data"
    }
   ],
   "source": [
    "\n",
    "fig = go.Figure()\n",
    "# Create and style traces\n",
    "fig.add_trace(go.Scatter(x=temp_df.query(\"Organization=='Stanford'\")['Cycle'], y=temp_df.query(\"Organization=='Stanford'\")['To Dems & Liberals'], name='Stanford',\n",
    "                         line=dict(color='royalblue', width=4)))\n",
    "fig.add_trace(go.Scatter(x=temp_df.query(\"Organization=='Harvard University'\")['Cycle'], y=temp_df.query(\"Organization=='Harvard University'\")['To Dems & Liberals'], name='Harvard University',\n",
    "                         line=dict(color='royalblue', width=4, dash = 'dash')))\n",
    "fig.add_trace(go.Scatter(x=temp_df.query(\"Organization=='Columbia University'\")['Cycle'], y=temp_df.query(\"Organization=='Columbia University'\")['To Dems & Liberals'], name='Columbia University',\n",
    "                         line=dict(color='royalblue', width=4, dash='dot')))\n",
    "fig.add_trace(go.Scatter(x=temp_df.query(\"Organization=='University of Texas'\")['Cycle'], y=temp_df.query(\"Organization=='University of Texas'\")['To Dems & Liberals'], name='University of Texas',\n",
    "                         line=dict(color='royalblue', width=4, dash='dashdot')))\n",
    "fig.add_trace(go.Scatter(x=comp_contri.query(\"Organization=='University of California'\")['Cycle'], y=comp_contri.query(\"Organization=='University of California'\")['To Dems & Liberals'], name='University of California',\n",
    "                         line=dict(color='royalblue', width=4, dash='longdash')))\n",
    "\n",
    "fig.add_trace(go.Scatter(x=temp_df.query(\"Organization=='Stanford'\")['Cycle'], y=temp_df.query(\"Organization=='Stanford'\")['To Repubs and Conservs'], name='Stanford',\n",
    "                         line=dict(color='firebrick', width=4)))\n",
    "fig.add_trace(go.Scatter(x=temp_df.query(\"Organization=='Harvard University'\")['Cycle'], y=temp_df.query(\"Organization=='Harvard University'\")['To Repubs and Conservs'], name='Harvard University',\n",
    "                         line=dict(color='firebrick', width=4, dash = 'dash')))\n",
    "fig.add_trace(go.Scatter(x=temp_df.query(\"Organization=='Columbia University'\")['Cycle'], y=temp_df.query(\"Organization=='Columbia University'\")['To Repubs and Conservs'], name='Columbia University',\n",
    "                         line=dict(color='firebrick', width=4, dash='dot')))\n",
    "fig.add_trace(go.Scatter(x=temp_df.query(\"Organization=='University of Texas'\")['Cycle'], y=temp_df.query(\"Organization=='University of Texas'\")['To Repubs and Conservs'], name='University of Texas',\n",
    "                         line=dict(color='firebrick', width=4, dash='dashdot')))\n",
    "fig.add_trace(go.Scatter(x=comp_contri.query(\"Organization=='University of California'\")['Cycle'], y=comp_contri.query(\"Organization=='University of California'\")['To Repubs and Conservs'], name='University of California',\n",
    "                         line=dict(color='firebrick', width=4, dash='longdashdot')))\n",
    "\n",
    "fig.update_layout(title='Money donated by Educational Institutions',\n",
    "                   xaxis_title='Year',\n",
    "                   yaxis_title='Money Donated (in USD)')\n",
    "fig.update_yaxes(type=\"log\")\n",
    "\n",
    "fig.show()\n",
    "\n",
    "pio.write_html(fig, \"Graphs/educational_organisations_donation.html\")"
   ]
  },
  {
   "cell_type": "code",
   "execution_count": null,
   "metadata": {},
   "outputs": [],
   "source": []
  }
 ],
 "metadata": {
  "kernelspec": {
   "display_name": "Python 3",
   "language": "python",
   "name": "python3"
  },
  "language_info": {
   "codemirror_mode": {
    "name": "ipython",
    "version": 3
   },
   "file_extension": ".py",
   "mimetype": "text/x-python",
   "name": "python",
   "nbconvert_exporter": "python",
   "pygments_lexer": "ipython3",
   "version": "3.8.5"
  }
 },
 "nbformat": 4,
 "nbformat_minor": 4
}
