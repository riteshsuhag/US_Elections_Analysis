{
 "cells": [
  {
   "cell_type": "code",
   "execution_count": 2,
   "metadata": {},
   "outputs": [],
   "source": [
    "# Importing libraries -\n",
    "import pandas as pd, numpy as np\n",
    "import matplotlib.pyplot as plt\n",
    "import nltk\n",
    "import string\n",
    "import re\n",
    "from spellchecker import SpellChecker"
   ]
  },
  {
   "cell_type": "code",
   "execution_count": null,
   "metadata": {},
   "outputs": [],
   "source": []
  },
  {
   "cell_type": "code",
   "execution_count": 3,
   "metadata": {},
   "outputs": [
    {
     "name": "stderr",
     "output_type": "stream",
     "text": [
      "C:\\ProgramData\\Anaconda3\\lib\\site-packages\\IPython\\core\\interactiveshell.py:3063: DtypeWarning: Columns (22) have mixed types.Specify dtype option on import or set low_memory=False.\n",
      "  interactivity=interactivity, compiler=compiler, result=result)\n",
      "C:\\ProgramData\\Anaconda3\\lib\\site-packages\\IPython\\core\\interactiveshell.py:3063: DtypeWarning: Columns (6,22) have mixed types.Specify dtype option on import or set low_memory=False.\n",
      "  interactivity=interactivity, compiler=compiler, result=result)\n",
      "C:\\ProgramData\\Anaconda3\\lib\\site-packages\\IPython\\core\\interactiveshell.py:3063: DtypeWarning: Columns (6) have mixed types.Specify dtype option on import or set low_memory=False.\n",
      "  interactivity=interactivity, compiler=compiler, result=result)\n"
     ]
    }
   ],
   "source": [
    "ind_df_10 = pd.read_csv(\"independent_expenditure_2010.csv\")\n",
    "ind_df_10 = ind_df_10[['can_office_state','cand_pty_aff', 'exp_amo', 'exp_date', 'agg_amo', 'sup_opp', 'pur'\n",
    "                       , 'fec_election_yr']]\n",
    "ind_df_12 = pd.read_csv(\"independent_expenditure_2012.csv\")\n",
    "ind_df_12 = ind_df_12[['can_office_state','cand_pty_aff', 'exp_amo', 'exp_date', 'agg_amo', 'sup_opp', 'pur'\n",
    "                       , 'fec_election_yr']]\n",
    "ind_df_14 = pd.read_csv(\"independent_expenditure_2014.csv\")\n",
    "ind_df_14 = ind_df_14[['can_office_state','cand_pty_aff', 'exp_amo', 'exp_date', 'agg_amo', 'sup_opp', 'pur'\n",
    "                       , 'fec_election_yr']]\n",
    "ind_df_16 = pd.read_csv(\"independent_expenditure_2016.csv\")\n",
    "ind_df_16 = ind_df_16[['can_office_state','cand_pty_aff', 'exp_amo', 'exp_date', 'agg_amo', 'sup_opp', 'pur'\n",
    "                       , 'fec_election_yr']]\n",
    "ind_df_18 = pd.read_csv(\"independent_expenditure_2018.csv\")\n",
    "ind_df_18 = ind_df_18[['can_office_state','cand_pty_aff', 'exp_amo', 'exp_date', 'agg_amo', 'sup_opp', 'pur'\n",
    "                       , 'fec_election_yr']]\n",
    "ind_df_20 = pd.read_csv(\"independent_expenditure_2020.csv\")\n",
    "ind_df_20 = ind_df_20[['can_office_state','cand_pty_aff', 'exp_amo', 'exp_date', 'agg_amo', 'sup_opp', 'pur'\n",
    "                       , 'fec_election_yr']]"
   ]
  },
  {
   "cell_type": "code",
   "execution_count": 4,
   "metadata": {},
   "outputs": [],
   "source": [
    "frames = [ind_df_10, ind_df_12, ind_df_14,ind_df_16, ind_df_18, ind_df_20 ]\n",
    "total_ind_exp = pd.concat(frames)"
   ]
  },
  {
   "cell_type": "code",
   "execution_count": 5,
   "metadata": {},
   "outputs": [
    {
     "data": {
      "text/html": [
       "<div>\n",
       "<style scoped>\n",
       "    .dataframe tbody tr th:only-of-type {\n",
       "        vertical-align: middle;\n",
       "    }\n",
       "\n",
       "    .dataframe tbody tr th {\n",
       "        vertical-align: top;\n",
       "    }\n",
       "\n",
       "    .dataframe thead th {\n",
       "        text-align: right;\n",
       "    }\n",
       "</style>\n",
       "<table border=\"1\" class=\"dataframe\">\n",
       "  <thead>\n",
       "    <tr style=\"text-align: right;\">\n",
       "      <th></th>\n",
       "      <th>can_office_state</th>\n",
       "      <th>cand_pty_aff</th>\n",
       "      <th>exp_amo</th>\n",
       "      <th>exp_date</th>\n",
       "      <th>agg_amo</th>\n",
       "      <th>sup_opp</th>\n",
       "      <th>pur</th>\n",
       "      <th>fec_election_yr</th>\n",
       "    </tr>\n",
       "  </thead>\n",
       "  <tbody>\n",
       "    <tr>\n",
       "      <th>0</th>\n",
       "      <td>NY</td>\n",
       "      <td>NaN</td>\n",
       "      <td>98844.72</td>\n",
       "      <td>14-OCT-10</td>\n",
       "      <td>98844.72</td>\n",
       "      <td>S</td>\n",
       "      <td>MAILERS</td>\n",
       "      <td>2010</td>\n",
       "    </tr>\n",
       "    <tr>\n",
       "      <th>1</th>\n",
       "      <td>MA</td>\n",
       "      <td>NaN</td>\n",
       "      <td>74250.00</td>\n",
       "      <td>12-JAN-10</td>\n",
       "      <td>74250.00</td>\n",
       "      <td>S</td>\n",
       "      <td>ROBO CALLS</td>\n",
       "      <td>2010</td>\n",
       "    </tr>\n",
       "    <tr>\n",
       "      <th>2</th>\n",
       "      <td>MA</td>\n",
       "      <td>NaN</td>\n",
       "      <td>7898.40</td>\n",
       "      <td>08-SEP-10</td>\n",
       "      <td>207898.40</td>\n",
       "      <td>S</td>\n",
       "      <td>LIVE PHONE BANK CALLS</td>\n",
       "      <td>2010</td>\n",
       "    </tr>\n",
       "    <tr>\n",
       "      <th>3</th>\n",
       "      <td>MA</td>\n",
       "      <td>NaN</td>\n",
       "      <td>32000.00</td>\n",
       "      <td>08-SEP-10</td>\n",
       "      <td>239898.40</td>\n",
       "      <td>S</td>\n",
       "      <td>LIVE PHONE BANK CALLS</td>\n",
       "      <td>2010</td>\n",
       "    </tr>\n",
       "    <tr>\n",
       "      <th>4</th>\n",
       "      <td>MA</td>\n",
       "      <td>NaN</td>\n",
       "      <td>150000.00</td>\n",
       "      <td>08-SEP-10</td>\n",
       "      <td>200000.00</td>\n",
       "      <td>S</td>\n",
       "      <td>RADIO ADS</td>\n",
       "      <td>2010</td>\n",
       "    </tr>\n",
       "  </tbody>\n",
       "</table>\n",
       "</div>"
      ],
      "text/plain": [
       "  can_office_state cand_pty_aff    exp_amo   exp_date    agg_amo sup_opp  \\\n",
       "0               NY          NaN   98844.72  14-OCT-10   98844.72       S   \n",
       "1               MA          NaN   74250.00  12-JAN-10   74250.00       S   \n",
       "2               MA          NaN    7898.40  08-SEP-10  207898.40       S   \n",
       "3               MA          NaN   32000.00  08-SEP-10  239898.40       S   \n",
       "4               MA          NaN  150000.00  08-SEP-10  200000.00       S   \n",
       "\n",
       "                     pur  fec_election_yr  \n",
       "0                MAILERS             2010  \n",
       "1             ROBO CALLS             2010  \n",
       "2  LIVE PHONE BANK CALLS             2010  \n",
       "3  LIVE PHONE BANK CALLS             2010  \n",
       "4              RADIO ADS             2010  "
      ]
     },
     "execution_count": 5,
     "metadata": {},
     "output_type": "execute_result"
    }
   ],
   "source": [
    "total_ind_exp = total_ind_exp.reset_index(drop = True)\n",
    "total_ind_exp.head()"
   ]
  },
  {
   "cell_type": "code",
   "execution_count": null,
   "metadata": {},
   "outputs": [],
   "source": []
  },
  {
   "cell_type": "code",
   "execution_count": 5,
   "metadata": {},
   "outputs": [
    {
     "ename": "KeyboardInterrupt",
     "evalue": "",
     "output_type": "error",
     "traceback": [
      "\u001b[1;31m---------------------------------------------------------------------------\u001b[0m",
      "\u001b[1;31mKeyboardInterrupt\u001b[0m                         Traceback (most recent call last)",
      "\u001b[1;32m<ipython-input-5-480637196ff5>\u001b[0m in \u001b[0;36m<module>\u001b[1;34m\u001b[0m\n\u001b[0;32m     25\u001b[0m     \u001b[1;32mreturn\u001b[0m \u001b[0muser_string\u001b[0m\u001b[1;33m\u001b[0m\u001b[1;33m\u001b[0m\u001b[0m\n\u001b[0;32m     26\u001b[0m \u001b[1;33m\u001b[0m\u001b[0m\n\u001b[1;32m---> 27\u001b[1;33m \u001b[0mpurpose_df\u001b[0m\u001b[1;33m[\u001b[0m\u001b[1;34m'cleaned_pur'\u001b[0m\u001b[1;33m]\u001b[0m \u001b[1;33m=\u001b[0m \u001b[0mpurpose_df\u001b[0m\u001b[1;33m[\u001b[0m\u001b[1;34m'pur'\u001b[0m\u001b[1;33m]\u001b[0m\u001b[1;33m.\u001b[0m\u001b[0mapply\u001b[0m\u001b[1;33m(\u001b[0m\u001b[0mcorrecting_misspelled_words\u001b[0m\u001b[1;33m)\u001b[0m\u001b[1;33m\u001b[0m\u001b[1;33m\u001b[0m\u001b[0m\n\u001b[0m\u001b[0;32m     28\u001b[0m \u001b[1;33m\u001b[0m\u001b[0m\n\u001b[0;32m     29\u001b[0m \u001b[1;31m# Category column -\u001b[0m\u001b[1;33m\u001b[0m\u001b[1;33m\u001b[0m\u001b[1;33m\u001b[0m\u001b[0m\n",
      "\u001b[1;32mC:\\ProgramData\\Anaconda3\\lib\\site-packages\\pandas\\core\\series.py\u001b[0m in \u001b[0;36mapply\u001b[1;34m(self, func, convert_dtype, args, **kwds)\u001b[0m\n\u001b[0;32m   3846\u001b[0m             \u001b[1;32melse\u001b[0m\u001b[1;33m:\u001b[0m\u001b[1;33m\u001b[0m\u001b[1;33m\u001b[0m\u001b[0m\n\u001b[0;32m   3847\u001b[0m                 \u001b[0mvalues\u001b[0m \u001b[1;33m=\u001b[0m \u001b[0mself\u001b[0m\u001b[1;33m.\u001b[0m\u001b[0mastype\u001b[0m\u001b[1;33m(\u001b[0m\u001b[0mobject\u001b[0m\u001b[1;33m)\u001b[0m\u001b[1;33m.\u001b[0m\u001b[0mvalues\u001b[0m\u001b[1;33m\u001b[0m\u001b[1;33m\u001b[0m\u001b[0m\n\u001b[1;32m-> 3848\u001b[1;33m                 \u001b[0mmapped\u001b[0m \u001b[1;33m=\u001b[0m \u001b[0mlib\u001b[0m\u001b[1;33m.\u001b[0m\u001b[0mmap_infer\u001b[0m\u001b[1;33m(\u001b[0m\u001b[0mvalues\u001b[0m\u001b[1;33m,\u001b[0m \u001b[0mf\u001b[0m\u001b[1;33m,\u001b[0m \u001b[0mconvert\u001b[0m\u001b[1;33m=\u001b[0m\u001b[0mconvert_dtype\u001b[0m\u001b[1;33m)\u001b[0m\u001b[1;33m\u001b[0m\u001b[1;33m\u001b[0m\u001b[0m\n\u001b[0m\u001b[0;32m   3849\u001b[0m \u001b[1;33m\u001b[0m\u001b[0m\n\u001b[0;32m   3850\u001b[0m         \u001b[1;32mif\u001b[0m \u001b[0mlen\u001b[0m\u001b[1;33m(\u001b[0m\u001b[0mmapped\u001b[0m\u001b[1;33m)\u001b[0m \u001b[1;32mand\u001b[0m \u001b[0misinstance\u001b[0m\u001b[1;33m(\u001b[0m\u001b[0mmapped\u001b[0m\u001b[1;33m[\u001b[0m\u001b[1;36m0\u001b[0m\u001b[1;33m]\u001b[0m\u001b[1;33m,\u001b[0m \u001b[0mSeries\u001b[0m\u001b[1;33m)\u001b[0m\u001b[1;33m:\u001b[0m\u001b[1;33m\u001b[0m\u001b[1;33m\u001b[0m\u001b[0m\n",
      "\u001b[1;32mpandas\\_libs\\lib.pyx\u001b[0m in \u001b[0;36mpandas._libs.lib.map_infer\u001b[1;34m()\u001b[0m\n",
      "\u001b[1;32m<ipython-input-5-480637196ff5>\u001b[0m in \u001b[0;36mcorrecting_misspelled_words\u001b[1;34m(user_string)\u001b[0m\n\u001b[0;32m     22\u001b[0m         \u001b[0muser_string\u001b[0m \u001b[1;33m=\u001b[0m \u001b[0mre\u001b[0m\u001b[1;33m.\u001b[0m\u001b[0msub\u001b[0m\u001b[1;33m(\u001b[0m\u001b[1;34m'[^A-Za-z0-9]+'\u001b[0m\u001b[1;33m,\u001b[0m \u001b[1;34m' '\u001b[0m\u001b[1;33m,\u001b[0m \u001b[0muser_string\u001b[0m\u001b[1;33m)\u001b[0m\u001b[1;33m\u001b[0m\u001b[1;33m\u001b[0m\u001b[0m\n\u001b[0;32m     23\u001b[0m         \u001b[0muser_string\u001b[0m \u001b[1;33m=\u001b[0m \u001b[1;34m' '\u001b[0m\u001b[1;33m.\u001b[0m\u001b[0mjoin\u001b[0m\u001b[1;33m(\u001b[0m\u001b[1;33m[\u001b[0m\u001b[0mw\u001b[0m \u001b[1;32mfor\u001b[0m \u001b[0mw\u001b[0m \u001b[1;32min\u001b[0m \u001b[0muser_string\u001b[0m\u001b[1;33m.\u001b[0m\u001b[0msplit\u001b[0m\u001b[1;33m(\u001b[0m\u001b[1;33m)\u001b[0m \u001b[1;32mif\u001b[0m \u001b[0mlen\u001b[0m\u001b[1;33m(\u001b[0m\u001b[0mw\u001b[0m\u001b[1;33m)\u001b[0m\u001b[1;33m>\u001b[0m\u001b[1;36m1\u001b[0m\u001b[1;33m]\u001b[0m\u001b[1;33m)\u001b[0m\u001b[1;33m\u001b[0m\u001b[1;33m\u001b[0m\u001b[0m\n\u001b[1;32m---> 24\u001b[1;33m         \u001b[0muser_string\u001b[0m \u001b[1;33m=\u001b[0m \u001b[1;34m' '\u001b[0m\u001b[1;33m.\u001b[0m\u001b[0mjoin\u001b[0m\u001b[1;33m(\u001b[0m\u001b[1;33m[\u001b[0m\u001b[0mspell\u001b[0m\u001b[1;33m.\u001b[0m\u001b[0mcorrection\u001b[0m\u001b[1;33m(\u001b[0m\u001b[0mword\u001b[0m\u001b[1;33m)\u001b[0m \u001b[1;32mif\u001b[0m \u001b[0mword\u001b[0m \u001b[1;33m!=\u001b[0m \u001b[1;34m'tv'\u001b[0m \u001b[1;32melse\u001b[0m \u001b[1;34m'tv'\u001b[0m \u001b[1;32mfor\u001b[0m \u001b[0mword\u001b[0m \u001b[1;32min\u001b[0m \u001b[0muser_string\u001b[0m\u001b[1;33m.\u001b[0m\u001b[0msplit\u001b[0m\u001b[1;33m(\u001b[0m\u001b[1;34m' '\u001b[0m\u001b[1;33m)\u001b[0m\u001b[1;33m]\u001b[0m\u001b[1;33m)\u001b[0m\u001b[1;33m\u001b[0m\u001b[1;33m\u001b[0m\u001b[0m\n\u001b[0m\u001b[0;32m     25\u001b[0m     \u001b[1;32mreturn\u001b[0m \u001b[0muser_string\u001b[0m\u001b[1;33m\u001b[0m\u001b[1;33m\u001b[0m\u001b[0m\n\u001b[0;32m     26\u001b[0m \u001b[1;33m\u001b[0m\u001b[0m\n",
      "\u001b[1;32m<ipython-input-5-480637196ff5>\u001b[0m in \u001b[0;36m<listcomp>\u001b[1;34m(.0)\u001b[0m\n\u001b[0;32m     22\u001b[0m         \u001b[0muser_string\u001b[0m \u001b[1;33m=\u001b[0m \u001b[0mre\u001b[0m\u001b[1;33m.\u001b[0m\u001b[0msub\u001b[0m\u001b[1;33m(\u001b[0m\u001b[1;34m'[^A-Za-z0-9]+'\u001b[0m\u001b[1;33m,\u001b[0m \u001b[1;34m' '\u001b[0m\u001b[1;33m,\u001b[0m \u001b[0muser_string\u001b[0m\u001b[1;33m)\u001b[0m\u001b[1;33m\u001b[0m\u001b[1;33m\u001b[0m\u001b[0m\n\u001b[0;32m     23\u001b[0m         \u001b[0muser_string\u001b[0m \u001b[1;33m=\u001b[0m \u001b[1;34m' '\u001b[0m\u001b[1;33m.\u001b[0m\u001b[0mjoin\u001b[0m\u001b[1;33m(\u001b[0m\u001b[1;33m[\u001b[0m\u001b[0mw\u001b[0m \u001b[1;32mfor\u001b[0m \u001b[0mw\u001b[0m \u001b[1;32min\u001b[0m \u001b[0muser_string\u001b[0m\u001b[1;33m.\u001b[0m\u001b[0msplit\u001b[0m\u001b[1;33m(\u001b[0m\u001b[1;33m)\u001b[0m \u001b[1;32mif\u001b[0m \u001b[0mlen\u001b[0m\u001b[1;33m(\u001b[0m\u001b[0mw\u001b[0m\u001b[1;33m)\u001b[0m\u001b[1;33m>\u001b[0m\u001b[1;36m1\u001b[0m\u001b[1;33m]\u001b[0m\u001b[1;33m)\u001b[0m\u001b[1;33m\u001b[0m\u001b[1;33m\u001b[0m\u001b[0m\n\u001b[1;32m---> 24\u001b[1;33m         \u001b[0muser_string\u001b[0m \u001b[1;33m=\u001b[0m \u001b[1;34m' '\u001b[0m\u001b[1;33m.\u001b[0m\u001b[0mjoin\u001b[0m\u001b[1;33m(\u001b[0m\u001b[1;33m[\u001b[0m\u001b[0mspell\u001b[0m\u001b[1;33m.\u001b[0m\u001b[0mcorrection\u001b[0m\u001b[1;33m(\u001b[0m\u001b[0mword\u001b[0m\u001b[1;33m)\u001b[0m \u001b[1;32mif\u001b[0m \u001b[0mword\u001b[0m \u001b[1;33m!=\u001b[0m \u001b[1;34m'tv'\u001b[0m \u001b[1;32melse\u001b[0m \u001b[1;34m'tv'\u001b[0m \u001b[1;32mfor\u001b[0m \u001b[0mword\u001b[0m \u001b[1;32min\u001b[0m \u001b[0muser_string\u001b[0m\u001b[1;33m.\u001b[0m\u001b[0msplit\u001b[0m\u001b[1;33m(\u001b[0m\u001b[1;34m' '\u001b[0m\u001b[1;33m)\u001b[0m\u001b[1;33m]\u001b[0m\u001b[1;33m)\u001b[0m\u001b[1;33m\u001b[0m\u001b[1;33m\u001b[0m\u001b[0m\n\u001b[0m\u001b[0;32m     25\u001b[0m     \u001b[1;32mreturn\u001b[0m \u001b[0muser_string\u001b[0m\u001b[1;33m\u001b[0m\u001b[1;33m\u001b[0m\u001b[0m\n\u001b[0;32m     26\u001b[0m \u001b[1;33m\u001b[0m\u001b[0m\n",
      "\u001b[1;32mC:\\ProgramData\\Anaconda3\\lib\\site-packages\\spellchecker\\spellchecker.py\u001b[0m in \u001b[0;36mcorrection\u001b[1;34m(self, word)\u001b[0m\n\u001b[0;32m    177\u001b[0m                 str: The most likely candidate \"\"\"\n\u001b[0;32m    178\u001b[0m         \u001b[0mword\u001b[0m \u001b[1;33m=\u001b[0m \u001b[0mensure_unicode\u001b[0m\u001b[1;33m(\u001b[0m\u001b[0mword\u001b[0m\u001b[1;33m)\u001b[0m\u001b[1;33m\u001b[0m\u001b[1;33m\u001b[0m\u001b[0m\n\u001b[1;32m--> 179\u001b[1;33m         \u001b[0mcandidates\u001b[0m \u001b[1;33m=\u001b[0m \u001b[0mlist\u001b[0m\u001b[1;33m(\u001b[0m\u001b[0mself\u001b[0m\u001b[1;33m.\u001b[0m\u001b[0mcandidates\u001b[0m\u001b[1;33m(\u001b[0m\u001b[0mword\u001b[0m\u001b[1;33m)\u001b[0m\u001b[1;33m)\u001b[0m\u001b[1;33m\u001b[0m\u001b[1;33m\u001b[0m\u001b[0m\n\u001b[0m\u001b[0;32m    180\u001b[0m         \u001b[1;32mreturn\u001b[0m \u001b[0mmax\u001b[0m\u001b[1;33m(\u001b[0m\u001b[0msorted\u001b[0m\u001b[1;33m(\u001b[0m\u001b[0mcandidates\u001b[0m\u001b[1;33m)\u001b[0m\u001b[1;33m,\u001b[0m \u001b[0mkey\u001b[0m\u001b[1;33m=\u001b[0m\u001b[0mself\u001b[0m\u001b[1;33m.\u001b[0m\u001b[0m__getitem__\u001b[0m\u001b[1;33m)\u001b[0m\u001b[1;33m\u001b[0m\u001b[1;33m\u001b[0m\u001b[0m\n\u001b[0;32m    181\u001b[0m \u001b[1;33m\u001b[0m\u001b[0m\n",
      "\u001b[1;32mC:\\ProgramData\\Anaconda3\\lib\\site-packages\\spellchecker\\spellchecker.py\u001b[0m in \u001b[0;36mcandidates\u001b[1;34m(self, word)\u001b[0m\n\u001b[0;32m    202\u001b[0m         \u001b[1;31m# if still not found, use the edit distance 1 to calc edit distance 2\u001b[0m\u001b[1;33m\u001b[0m\u001b[1;33m\u001b[0m\u001b[1;33m\u001b[0m\u001b[0m\n\u001b[0;32m    203\u001b[0m         \u001b[1;32mif\u001b[0m \u001b[0mself\u001b[0m\u001b[1;33m.\u001b[0m\u001b[0m_distance\u001b[0m \u001b[1;33m==\u001b[0m \u001b[1;36m2\u001b[0m\u001b[1;33m:\u001b[0m\u001b[1;33m\u001b[0m\u001b[1;33m\u001b[0m\u001b[0m\n\u001b[1;32m--> 204\u001b[1;33m             \u001b[0mtmp\u001b[0m \u001b[1;33m=\u001b[0m \u001b[0mself\u001b[0m\u001b[1;33m.\u001b[0m\u001b[0mknown\u001b[0m\u001b[1;33m(\u001b[0m\u001b[1;33m[\u001b[0m\u001b[0mx\u001b[0m \u001b[1;32mfor\u001b[0m \u001b[0mx\u001b[0m \u001b[1;32min\u001b[0m \u001b[0mself\u001b[0m\u001b[1;33m.\u001b[0m\u001b[0m__edit_distance_alt\u001b[0m\u001b[1;33m(\u001b[0m\u001b[0mres\u001b[0m\u001b[1;33m)\u001b[0m\u001b[1;33m]\u001b[0m\u001b[1;33m)\u001b[0m\u001b[1;33m\u001b[0m\u001b[1;33m\u001b[0m\u001b[0m\n\u001b[0m\u001b[0;32m    205\u001b[0m             \u001b[1;32mif\u001b[0m \u001b[0mtmp\u001b[0m\u001b[1;33m:\u001b[0m\u001b[1;33m\u001b[0m\u001b[1;33m\u001b[0m\u001b[0m\n\u001b[0;32m    206\u001b[0m                 \u001b[1;32mreturn\u001b[0m \u001b[0mtmp\u001b[0m\u001b[1;33m\u001b[0m\u001b[1;33m\u001b[0m\u001b[0m\n",
      "\u001b[1;32mC:\\ProgramData\\Anaconda3\\lib\\site-packages\\spellchecker\\spellchecker.py\u001b[0m in \u001b[0;36m__edit_distance_alt\u001b[1;34m(self, words)\u001b[0m\n\u001b[0;32m    298\u001b[0m             \u001b[1;32mif\u001b[0m \u001b[0mself\u001b[0m\u001b[1;33m.\u001b[0m\u001b[0m_check_if_should_check\u001b[0m\u001b[1;33m(\u001b[0m\u001b[0mw\u001b[0m\u001b[1;33m)\u001b[0m\u001b[1;33m\u001b[0m\u001b[1;33m\u001b[0m\u001b[0m\n\u001b[0;32m    299\u001b[0m         ]\n\u001b[1;32m--> 300\u001b[1;33m         \u001b[1;32mreturn\u001b[0m \u001b[1;33m[\u001b[0m\u001b[0me2\u001b[0m \u001b[1;32mfor\u001b[0m \u001b[0me1\u001b[0m \u001b[1;32min\u001b[0m \u001b[0mtmp\u001b[0m \u001b[1;32mfor\u001b[0m \u001b[0me2\u001b[0m \u001b[1;32min\u001b[0m \u001b[0mself\u001b[0m\u001b[1;33m.\u001b[0m\u001b[0mknown\u001b[0m\u001b[1;33m(\u001b[0m\u001b[0mself\u001b[0m\u001b[1;33m.\u001b[0m\u001b[0medit_distance_1\u001b[0m\u001b[1;33m(\u001b[0m\u001b[0me1\u001b[0m\u001b[1;33m)\u001b[0m\u001b[1;33m)\u001b[0m\u001b[1;33m]\u001b[0m\u001b[1;33m\u001b[0m\u001b[1;33m\u001b[0m\u001b[0m\n\u001b[0m\u001b[0;32m    301\u001b[0m \u001b[1;33m\u001b[0m\u001b[0m\n\u001b[0;32m    302\u001b[0m     \u001b[1;32mdef\u001b[0m \u001b[0m_check_if_should_check\u001b[0m\u001b[1;33m(\u001b[0m\u001b[0mself\u001b[0m\u001b[1;33m,\u001b[0m \u001b[0mword\u001b[0m\u001b[1;33m)\u001b[0m\u001b[1;33m:\u001b[0m\u001b[1;33m\u001b[0m\u001b[1;33m\u001b[0m\u001b[0m\n",
      "\u001b[1;32mC:\\ProgramData\\Anaconda3\\lib\\site-packages\\spellchecker\\spellchecker.py\u001b[0m in \u001b[0;36m<listcomp>\u001b[1;34m(.0)\u001b[0m\n\u001b[0;32m    298\u001b[0m             \u001b[1;32mif\u001b[0m \u001b[0mself\u001b[0m\u001b[1;33m.\u001b[0m\u001b[0m_check_if_should_check\u001b[0m\u001b[1;33m(\u001b[0m\u001b[0mw\u001b[0m\u001b[1;33m)\u001b[0m\u001b[1;33m\u001b[0m\u001b[1;33m\u001b[0m\u001b[0m\n\u001b[0;32m    299\u001b[0m         ]\n\u001b[1;32m--> 300\u001b[1;33m         \u001b[1;32mreturn\u001b[0m \u001b[1;33m[\u001b[0m\u001b[0me2\u001b[0m \u001b[1;32mfor\u001b[0m \u001b[0me1\u001b[0m \u001b[1;32min\u001b[0m \u001b[0mtmp\u001b[0m \u001b[1;32mfor\u001b[0m \u001b[0me2\u001b[0m \u001b[1;32min\u001b[0m \u001b[0mself\u001b[0m\u001b[1;33m.\u001b[0m\u001b[0mknown\u001b[0m\u001b[1;33m(\u001b[0m\u001b[0mself\u001b[0m\u001b[1;33m.\u001b[0m\u001b[0medit_distance_1\u001b[0m\u001b[1;33m(\u001b[0m\u001b[0me1\u001b[0m\u001b[1;33m)\u001b[0m\u001b[1;33m)\u001b[0m\u001b[1;33m]\u001b[0m\u001b[1;33m\u001b[0m\u001b[1;33m\u001b[0m\u001b[0m\n\u001b[0m\u001b[0;32m    301\u001b[0m \u001b[1;33m\u001b[0m\u001b[0m\n\u001b[0;32m    302\u001b[0m     \u001b[1;32mdef\u001b[0m \u001b[0m_check_if_should_check\u001b[0m\u001b[1;33m(\u001b[0m\u001b[0mself\u001b[0m\u001b[1;33m,\u001b[0m \u001b[0mword\u001b[0m\u001b[1;33m)\u001b[0m\u001b[1;33m:\u001b[0m\u001b[1;33m\u001b[0m\u001b[1;33m\u001b[0m\u001b[0m\n",
      "\u001b[1;31mKeyboardInterrupt\u001b[0m: "
     ]
    }
   ],
   "source": [
    "temp = total_ind_exp.copy()\n",
    "\n",
    "# Converting the purpose column to lower - \n",
    "temp['pur'] = temp['pur'].str.lower()\n",
    "\n",
    "# Saving the unique values in a dataframe - \n",
    "purpose_df = temp[['pur']]\n",
    "purpose_df = purpose_df.drop_duplicates(subset=['pur']).reset_index()\n",
    "purpose_df.drop(['index'], axis = 1, inplace = True)\n",
    "\n",
    "# ~~~~~~~~~~~~~~~~~ Checking the spelling - \n",
    "\n",
    "# pip install spellchecker\n",
    "# pip install pyspellchecker\n",
    "\n",
    "spell = SpellChecker()\n",
    "\n",
    "def correcting_misspelled_words(user_string):\n",
    "    if pd.isnull(user_string):\n",
    "        pass\n",
    "    else:\n",
    "        user_string = re.sub('[^A-Za-z0-9]+', ' ', user_string)\n",
    "        user_string = ' '.join([w for w in user_string.split() if len(w)>1])\n",
    "        user_string = ' '.join([spell.correction(word) if word != 'tv' else 'tv' for word in user_string.split(' ')])\n",
    "    return user_string\n",
    "\n",
    "purpose_df['cleaned_pur'] = purpose_df['pur'].apply(correcting_misspelled_words)\n",
    "\n",
    "# Category column - \n",
    "purpose_df['category'] = ''\n",
    "\n",
    "\n",
    "# Words for Advertisement Category - \n",
    "word_list = ['ads', 'tv', 'radio', 'ad', 'media', 'production', 'newspaper', 'signs', 'print', 'prints', 'printing', 'stickers', 'sticker',\n",
    "             'hangers', 'hanger', 'billboards', 'billboard', 'flyers', 'flyer', 'leaflet', 'leaflets', 'advertise', 'advertis', 'advertising',\n",
    "             'advertisment', 'fliers', 'flier', 'promotional', 'signage', 'sign', 'flags']\n",
    "expression = '|'.join(word_list)\n",
    "y = purpose_df['cleaned_pur'].str.contains(expression)\n",
    "purpose_df['category'] = np.where(purpose_df['category'] == '', \n",
    "                                  np.where(purpose_df['cleaned_pur'].str.contains(expression), 'Advertisement', ''), \n",
    "                                  purpose_df['category'])\n",
    "\n",
    "# Words for Communications Category - \n",
    "word_list = ['calls', 'call', 'phone', 'phones', 'message', 'mssages', 'communicate', 'communication', 'communications', ' postcards', \n",
    "             'postcard', 'mail', 'mailing', 'mails', 'telemarket', 'telemarketing', 'telegram', 'telegrams', 'postage', 'letter']\n",
    "expression = '|'.join(word_list)\n",
    "purpose_df['category'] = np.where(purpose_df['category'] == '', \n",
    "                                  np.where(purpose_df['cleaned_pur'].str.contains(expression), 'Communications', ''), \n",
    "                                  purpose_df['category'])\n",
    "\n",
    "# Words for Logistics Category - \n",
    "word_list = ['travel', 'traveling', 'travels', 'reimbursement', 'reimbursements', 'office', 'offices', 'supplies', 'supply', 'equipment',\n",
    "             'equipments', 'rental', 'rentals', 'material', 'materials', 'transportation', 'transport', ' lodging', 'lodge', 'card', 'cards',\n",
    "             'food', 'beverage', 'foods', 'beverages', 'gas', 'petrol', 'house', 'houses', 'housing', 'rent', 'travel', 'travels', 'parking',\n",
    "             'park', 'internet', 'service', 'water', 'ice', 'bus', 'hotel', 'television', 'meal', 'airfare', 'taxi', 'flight', 'mileage',\n",
    "             'coffee', 'donuts', 'expenses']\n",
    "expression = '|'.join(word_list)\n",
    "y = purpose_df['cleaned_pur'].str.contains(expression)\n",
    "purpose_df['category'] = np.where(purpose_df['category'] == '', \n",
    "                                  np.where(purpose_df['cleaned_pur'].str.contains(expression), 'Logistics', ''), \n",
    "                                  purpose_df['category'])\n",
    "\n",
    "\n",
    "\n",
    "# Words for Canvas/Campaign Category - \n",
    "word_list = ['canvasser', 'canvas', 'canvass', 'canvassed', 'canvassing', 'canvasses', 'campaign', 'research', 'consultant', 'consulting', \n",
    "             'survey', 'analysis', 'yahoo', 'estimate', 'search']\n",
    "expression = '|'.join(word_list)\n",
    "y = purpose_df['cleaned_pur'].str.contains(expression)\n",
    "purpose_df['category'] = np.where(purpose_df['category'] == '', \n",
    "                                  np.where(purpose_df['cleaned_pur'].str.contains(expression), 'Canvas/Research', ''), \n",
    "                                  purpose_df['category'])\n",
    "\n",
    "# Others - \n",
    "purpose_df['category'] = np.where(purpose_df['category'] == '', 'Others', purpose_df['category'])\n"
   ]
  },
  {
   "cell_type": "code",
   "execution_count": null,
   "metadata": {},
   "outputs": [],
   "source": [
    "purpose_df.head()"
   ]
  },
  {
   "cell_type": "code",
   "execution_count": null,
   "metadata": {},
   "outputs": [],
   "source": [
    "# Joining the Purpose Category colums with the original data - \n",
    "total_ind_exp.head()"
   ]
  },
  {
   "cell_type": "code",
   "execution_count": null,
   "metadata": {},
   "outputs": [],
   "source": [
    "total_ind_exp['pur_temp'] = total_ind_exp['pur'].str.lower()\n",
    "total_ind_exp.head()"
   ]
  },
  {
   "cell_type": "code",
   "execution_count": null,
   "metadata": {},
   "outputs": [],
   "source": [
    "total_ind_exp.shape[0]"
   ]
  },
  {
   "cell_type": "code",
   "execution_count": null,
   "metadata": {},
   "outputs": [],
   "source": [
    "final_df = total_ind_exp.merge(purpose_df,how='left',left_on=['pur_temp'],right_on=['pur'])\n",
    "final_df.head()"
   ]
  },
  {
   "cell_type": "code",
   "execution_count": null,
   "metadata": {},
   "outputs": [],
   "source": [
    "# Renaming the column -\n",
    "final_df = final_df.rename(columns = {'pur_x':'pur'})\n",
    "\n",
    "# Dropping unnecessary columns - \n",
    "final_df.drop(['exp_date', 'agg_amo', 'pur_temp', 'pur_y', 'cleaned_pur'], axis = 1, inplace = True)\n",
    "\n",
    "final_df.head()"
   ]
  },
  {
   "cell_type": "code",
   "execution_count": null,
   "metadata": {},
   "outputs": [],
   "source": [
    "final_df[\"fec_election_yr\"].unique()"
   ]
  },
  {
   "cell_type": "code",
   "execution_count": null,
   "metadata": {},
   "outputs": [],
   "source": [
    "final_df['category'].unique()"
   ]
  },
  {
   "cell_type": "code",
   "execution_count": null,
   "metadata": {},
   "outputs": [],
   "source": [
    "temp_df = final_df.dropna(subset = ['cand_pty_aff'])"
   ]
  },
  {
   "cell_type": "code",
   "execution_count": null,
   "metadata": {},
   "outputs": [],
   "source": [
    "temp_df.loc[(temp_df['sup_opp']=='O') & (temp_df['cand_pty_aff']=='REPUBLICAN PARTY'),'cand_pty_aff'] = 'DEMOCRATIC PARTY1'\n",
    "temp_df.loc[(temp_df['sup_opp']=='O') & (temp_df['cand_pty_aff']=='DEMOCRATIC PARTY'),'cand_pty_aff'] = 'REPUBLICAN PARTY'\n",
    "temp_df.loc[temp_df['cand_pty_aff']=='DEMOCRATIC PARTY1', 'cand_pty_aff'] = 'DEMOCRATIC PARTY'\n",
    "temp_df"
   ]
  },
  {
   "cell_type": "code",
   "execution_count": null,
   "metadata": {},
   "outputs": [],
   "source": []
  },
  {
   "cell_type": "code",
   "execution_count": null,
   "metadata": {},
   "outputs": [],
   "source": []
  },
  {
   "cell_type": "code",
   "execution_count": null,
   "metadata": {},
   "outputs": [],
   "source": [
    "temp_df['dem_comm_exp'] = np.where(temp_df['category']!='Communications',\n",
    "                                   0,np.where(temp_df['cand_pty_aff'] == 'DEMOCRATIC PARTY', temp_df['exp_amo']/1000000,0))\n",
    "temp_df['rep_comm_exp'] = np.where(temp_df['category']!='Communications',\n",
    "                                   0,np.where(temp_df['cand_pty_aff'] == 'REPUBLICAN PARTY', temp_df['exp_amo']/1000000,0))\n",
    "temp_df['dem_adv_exp'] = np.where(temp_df['category']!='Advertisement',\n",
    "                                   0,np.where(temp_df['cand_pty_aff'] == 'DEMOCRATIC PARTY', temp_df['exp_amo']/1000000,0))\n",
    "temp_df['rep_adv_exp'] = np.where(temp_df['category']!='Advertisement',\n",
    "                                   0,np.where(temp_df['cand_pty_aff'] == 'REPUBLICAN PARTY', temp_df['exp_amo']/1000000,0))\n",
    "temp_df['dem_research_exp'] = np.where(temp_df['category']!='Canvas/Research',\n",
    "                                   0,np.where(temp_df['cand_pty_aff'] == 'DEMOCRATIC PARTY', temp_df['exp_amo']/1000000,0))\n",
    "temp_df['rep_research_exp'] = np.where(temp_df['category']!='Canvas/Research',\n",
    "                                   0,np.where(temp_df['cand_pty_aff'] == 'REPUBLICAN PARTY', temp_df['exp_amo']/1000000,0))\n",
    "temp_df['dem_others_exp'] = np.where(temp_df['category']!='Others',\n",
    "                                   0,np.where(temp_df['cand_pty_aff'] == 'DEMOCRATIC PARTY', temp_df['exp_amo']/1000000,0))\n",
    "temp_df['rep_others_exp'] = np.where(temp_df['category']!='Others',\n",
    "                                   0,np.where(temp_df['cand_pty_aff'] == 'REPUBLICAN PARTY', temp_df['exp_amo']/1000000,0))\n",
    "temp_df['dem_logistics_exp'] = np.where(temp_df['category']!='Logistics',\n",
    "                                   0,np.where(temp_df['cand_pty_aff'] == 'DEMOCRATIC PARTY', temp_df['exp_amo']/1000000,0))\n",
    "temp_df['rep_logistic_exp'] = np.where(temp_df['category']!='Logistics',\n",
    "                                   0,np.where(temp_df['cand_pty_aff'] == 'REPUBLICAN PARTY', temp_df['exp_amo']/1000000,0))\n"
   ]
  },
  {
   "cell_type": "code",
   "execution_count": null,
   "metadata": {},
   "outputs": [],
   "source": []
  },
  {
   "cell_type": "code",
   "execution_count": null,
   "metadata": {},
   "outputs": [],
   "source": [
    "t_df = temp_df.groupby(['can_office_state','fec_election_yr']).sum().drop(['00','ZZ','FM','NB','US','NN','PW','GU'])\n",
    "t_df = t_df.reset_index()\n",
    "t_df = t_df.rename(columns = {'can_office_state':'state', 'fec_election_yr': 'year'})\n",
    "t_df = t_df.iloc[1:]\n",
    "t_df"
   ]
  },
  {
   "cell_type": "code",
   "execution_count": null,
   "metadata": {},
   "outputs": [],
   "source": []
  },
  {
   "cell_type": "code",
   "execution_count": null,
   "metadata": {},
   "outputs": [],
   "source": [
    "t_df = t_df.groupby(['state',pd.cut(t_df['year'], bins = [2000,2004,2008,2012,2016,2020],\n",
    "                             labels = [2004,2008,2012,2016,2020])]).sum().dropna().drop(['year'],axis = 1).reset_index()          "
   ]
  },
  {
   "cell_type": "code",
   "execution_count": null,
   "metadata": {},
   "outputs": [],
   "source": [
    "t_df.head()"
   ]
  },
  {
   "cell_type": "code",
   "execution_count": 1,
   "metadata": {},
   "outputs": [],
   "source": [
    "us_state_abbrev = {\n",
    "    'Alabama': 'AL',\n",
    "    'Alaska': 'AK',\n",
    "    'American Samoa': 'AS',\n",
    "    'Arizona': 'AZ',\n",
    "    'Arkansas': 'AR',\n",
    "    'California': 'CA',\n",
    "    'Colorado': 'CO',\n",
    "    'Connecticut': 'CT',\n",
    "    'Delaware': 'DE',\n",
    "    'District of Columbia': 'DC',\n",
    "    'Florida': 'FL',\n",
    "    'Georgia': 'GA',\n",
    "    'Guam': 'GU',\n",
    "    'Hawaii': 'HI',\n",
    "    'Idaho': 'ID',\n",
    "    'Illinois': 'IL',\n",
    "    'Indiana': 'IN',\n",
    "    'Iowa': 'IA',\n",
    "    'Kansas': 'KS',\n",
    "    'Kentucky': 'KY',\n",
    "    'Louisiana': 'LA',\n",
    "    'Maine': 'ME',\n",
    "    'Maryland': 'MD',\n",
    "    'Massachusetts': 'MA',\n",
    "    'Michigan': 'MI',\n",
    "    'Minnesota': 'MN',\n",
    "    'Mississippi': 'MS',\n",
    "    'Missouri': 'MO',\n",
    "    'Montana': 'MT',\n",
    "    'Nebraska': 'NE',\n",
    "    'Nevada': 'NV',\n",
    "    'New Hampshire': 'NH',\n",
    "    'New Jersey': 'NJ',\n",
    "    'New Mexico': 'NM',\n",
    "    'New York': 'NY',\n",
    "    'North Carolina': 'NC',\n",
    "    'North Dakota': 'ND',\n",
    "    'Northern Mariana Islands':'MP',\n",
    "    'Ohio': 'OH',\n",
    "    'Oklahoma': 'OK',\n",
    "    'Oregon': 'OR',\n",
    "    'Pennsylvania': 'PA',\n",
    "    'Puerto Rico': 'PR',\n",
    "    'Rhode Island': 'RI',\n",
    "    'South Carolina': 'SC',\n",
    "    'South Dakota': 'SD',\n",
    "    'Tennessee': 'TN',\n",
    "    'Texas': 'TX',\n",
    "    'Utah': 'UT',\n",
    "    'Vermont': 'VT',\n",
    "    'Virgin Islands': 'VI',\n",
    "    'Virginia': 'VA',\n",
    "    'Washington': 'WA',\n",
    "    'West Virginia': 'WV',\n",
    "    'Wisconsin': 'WI',\n",
    "    'Wyoming': 'WY'\n",
    "}\n"
   ]
  },
  {
   "cell_type": "code",
   "execution_count": 6,
   "metadata": {},
   "outputs": [],
   "source": [
    "final_df  = pd.read_csv('final_df.csv')"
   ]
  },
  {
   "cell_type": "code",
   "execution_count": 7,
   "metadata": {},
   "outputs": [
    {
     "data": {
      "text/html": [
       "<div>\n",
       "<style scoped>\n",
       "    .dataframe tbody tr th:only-of-type {\n",
       "        vertical-align: middle;\n",
       "    }\n",
       "\n",
       "    .dataframe tbody tr th {\n",
       "        vertical-align: top;\n",
       "    }\n",
       "\n",
       "    .dataframe thead th {\n",
       "        text-align: right;\n",
       "    }\n",
       "</style>\n",
       "<table border=\"1\" class=\"dataframe\">\n",
       "  <thead>\n",
       "    <tr style=\"text-align: right;\">\n",
       "      <th></th>\n",
       "      <th>state</th>\n",
       "      <th>year</th>\n",
       "      <th>dem_exp</th>\n",
       "      <th>rep_exp</th>\n",
       "      <th>votes_dem_perc</th>\n",
       "      <th>votes_gop_perc</th>\n",
       "      <th>white_pop</th>\n",
       "      <th>black_pop</th>\n",
       "      <th>other_pop</th>\n",
       "    </tr>\n",
       "  </thead>\n",
       "  <tbody>\n",
       "    <tr>\n",
       "      <th>0</th>\n",
       "      <td>AK</td>\n",
       "      <td>2012</td>\n",
       "      <td>0.257396</td>\n",
       "      <td>2.513284</td>\n",
       "      <td>40.812659</td>\n",
       "      <td>54.801577</td>\n",
       "      <td>2.03051</td>\n",
       "      <td>0.18547</td>\n",
       "      <td>0.85627</td>\n",
       "    </tr>\n",
       "    <tr>\n",
       "      <th>1</th>\n",
       "      <td>AK</td>\n",
       "      <td>2016</td>\n",
       "      <td>16.277411</td>\n",
       "      <td>19.840838</td>\n",
       "      <td>36.041373</td>\n",
       "      <td>50.566677</td>\n",
       "      <td>1.96210</td>\n",
       "      <td>0.18680</td>\n",
       "      <td>0.91427</td>\n",
       "    </tr>\n",
       "    <tr>\n",
       "      <th>2</th>\n",
       "      <td>AK</td>\n",
       "      <td>2020</td>\n",
       "      <td>0.000000</td>\n",
       "      <td>0.003395</td>\n",
       "      <td>39.199327</td>\n",
       "      <td>48.522791</td>\n",
       "      <td>0.00000</td>\n",
       "      <td>0.00000</td>\n",
       "      <td>0.00000</td>\n",
       "    </tr>\n",
       "    <tr>\n",
       "      <th>3</th>\n",
       "      <td>AL</td>\n",
       "      <td>2012</td>\n",
       "      <td>1.679884</td>\n",
       "      <td>5.397640</td>\n",
       "      <td>38.432866</td>\n",
       "      <td>60.662360</td>\n",
       "      <td>33.71064</td>\n",
       "      <td>12.75628</td>\n",
       "      <td>1.68896</td>\n",
       "    </tr>\n",
       "    <tr>\n",
       "      <th>4</th>\n",
       "      <td>AL</td>\n",
       "      <td>2016</td>\n",
       "      <td>0.000000</td>\n",
       "      <td>1.790582</td>\n",
       "      <td>34.358027</td>\n",
       "      <td>62.083003</td>\n",
       "      <td>33.74106</td>\n",
       "      <td>13.01635</td>\n",
       "      <td>1.87784</td>\n",
       "    </tr>\n",
       "  </tbody>\n",
       "</table>\n",
       "</div>"
      ],
      "text/plain": [
       "  state  year    dem_exp    rep_exp  votes_dem_perc  votes_gop_perc  \\\n",
       "0    AK  2012   0.257396   2.513284       40.812659       54.801577   \n",
       "1    AK  2016  16.277411  19.840838       36.041373       50.566677   \n",
       "2    AK  2020   0.000000   0.003395       39.199327       48.522791   \n",
       "3    AL  2012   1.679884   5.397640       38.432866       60.662360   \n",
       "4    AL  2016   0.000000   1.790582       34.358027       62.083003   \n",
       "\n",
       "   white_pop  black_pop  other_pop  \n",
       "0    2.03051    0.18547    0.85627  \n",
       "1    1.96210    0.18680    0.91427  \n",
       "2    0.00000    0.00000    0.00000  \n",
       "3   33.71064   12.75628    1.68896  \n",
       "4   33.74106   13.01635    1.87784  "
      ]
     },
     "execution_count": 7,
     "metadata": {},
     "output_type": "execute_result"
    }
   ],
   "source": [
    "final_df.head()"
   ]
  },
  {
   "cell_type": "code",
   "execution_count": 8,
   "metadata": {},
   "outputs": [
    {
     "ename": "NameError",
     "evalue": "name 't_df' is not defined",
     "output_type": "error",
     "traceback": [
      "\u001b[1;31m---------------------------------------------------------------------------\u001b[0m",
      "\u001b[1;31mNameError\u001b[0m                                 Traceback (most recent call last)",
      "\u001b[1;32m<ipython-input-8-e14dab36cc34>\u001b[0m in \u001b[0;36m<module>\u001b[1;34m\u001b[0m\n\u001b[1;32m----> 1\u001b[1;33m \u001b[0mour_df\u001b[0m \u001b[1;33m=\u001b[0m \u001b[0mpd\u001b[0m\u001b[1;33m.\u001b[0m\u001b[0mmerge\u001b[0m\u001b[1;33m(\u001b[0m\u001b[0mt_df\u001b[0m\u001b[1;33m,\u001b[0m\u001b[0mfinal_df\u001b[0m\u001b[1;33m,\u001b[0m\u001b[0mhow\u001b[0m \u001b[1;33m=\u001b[0m \u001b[1;34m'left'\u001b[0m\u001b[1;33m,\u001b[0m \u001b[0mon\u001b[0m \u001b[1;33m=\u001b[0m \u001b[1;33m[\u001b[0m\u001b[1;34m'state'\u001b[0m\u001b[1;33m,\u001b[0m \u001b[1;34m'year'\u001b[0m\u001b[1;33m]\u001b[0m\u001b[1;33m)\u001b[0m\u001b[1;33m\u001b[0m\u001b[1;33m\u001b[0m\u001b[0m\n\u001b[0m\u001b[0;32m      2\u001b[0m \u001b[0mour_df\u001b[0m\u001b[1;33m\u001b[0m\u001b[1;33m\u001b[0m\u001b[0m\n",
      "\u001b[1;31mNameError\u001b[0m: name 't_df' is not defined"
     ]
    }
   ],
   "source": [
    "our_df = pd.merge(t_df,final_df,how = 'left', on = ['state', 'year'])\n",
    "our_df"
   ]
  },
  {
   "cell_type": "code",
   "execution_count": 11,
   "metadata": {},
   "outputs": [
    {
     "data": {
      "text/html": [
       "<div>\n",
       "<style scoped>\n",
       "    .dataframe tbody tr th:only-of-type {\n",
       "        vertical-align: middle;\n",
       "    }\n",
       "\n",
       "    .dataframe tbody tr th {\n",
       "        vertical-align: top;\n",
       "    }\n",
       "\n",
       "    .dataframe thead th {\n",
       "        text-align: right;\n",
       "    }\n",
       "</style>\n",
       "<table border=\"1\" class=\"dataframe\">\n",
       "  <thead>\n",
       "    <tr style=\"text-align: right;\">\n",
       "      <th></th>\n",
       "      <th>state</th>\n",
       "      <th>year</th>\n",
       "      <th>exp_amo</th>\n",
       "      <th>dem_comm_exp</th>\n",
       "      <th>rep_comm_exp</th>\n",
       "      <th>dem_adv_exp</th>\n",
       "      <th>rep_adv_exp</th>\n",
       "      <th>dem_research_exp</th>\n",
       "      <th>rep_research_exp</th>\n",
       "      <th>dem_others_exp</th>\n",
       "      <th>rep_others_exp</th>\n",
       "      <th>dem_logistics_exp</th>\n",
       "      <th>rep_logistic_exp</th>\n",
       "      <th>dem_exp</th>\n",
       "      <th>rep_exp</th>\n",
       "      <th>votes_dem_perc</th>\n",
       "      <th>votes_gop_perc</th>\n",
       "      <th>white_pop</th>\n",
       "      <th>black_pop</th>\n",
       "      <th>other_pop</th>\n",
       "    </tr>\n",
       "  </thead>\n",
       "  <tbody>\n",
       "    <tr>\n",
       "      <th>0</th>\n",
       "      <td>AK</td>\n",
       "      <td>2012</td>\n",
       "      <td>2.770679e+06</td>\n",
       "      <td>0.001250</td>\n",
       "      <td>0.187345</td>\n",
       "      <td>0.168900</td>\n",
       "      <td>2.390737</td>\n",
       "      <td>0.000000</td>\n",
       "      <td>0.001297</td>\n",
       "      <td>0.000083</td>\n",
       "      <td>0.016543</td>\n",
       "      <td>0.000000</td>\n",
       "      <td>0.004524</td>\n",
       "      <td>0.257396</td>\n",
       "      <td>2.513284</td>\n",
       "      <td>40.812659</td>\n",
       "      <td>54.801577</td>\n",
       "      <td>203051.0</td>\n",
       "      <td>0.18547</td>\n",
       "      <td>0.85627</td>\n",
       "    </tr>\n",
       "    <tr>\n",
       "      <th>1</th>\n",
       "      <td>AK</td>\n",
       "      <td>2016</td>\n",
       "      <td>3.611825e+07</td>\n",
       "      <td>1.190594</td>\n",
       "      <td>0.054232</td>\n",
       "      <td>18.304241</td>\n",
       "      <td>15.435947</td>\n",
       "      <td>0.281613</td>\n",
       "      <td>0.022500</td>\n",
       "      <td>0.560096</td>\n",
       "      <td>0.132272</td>\n",
       "      <td>0.056037</td>\n",
       "      <td>0.080717</td>\n",
       "      <td>16.277411</td>\n",
       "      <td>19.840838</td>\n",
       "      <td>36.041373</td>\n",
       "      <td>50.566677</td>\n",
       "      <td>196210.0</td>\n",
       "      <td>0.18680</td>\n",
       "      <td>0.91427</td>\n",
       "    </tr>\n",
       "    <tr>\n",
       "      <th>2</th>\n",
       "      <td>AK</td>\n",
       "      <td>2020</td>\n",
       "      <td>2.959422e+07</td>\n",
       "      <td>0.592741</td>\n",
       "      <td>0.053296</td>\n",
       "      <td>16.017359</td>\n",
       "      <td>0.109322</td>\n",
       "      <td>0.001000</td>\n",
       "      <td>0.000000</td>\n",
       "      <td>0.000752</td>\n",
       "      <td>0.000000</td>\n",
       "      <td>0.000948</td>\n",
       "      <td>0.000000</td>\n",
       "      <td>0.000000</td>\n",
       "      <td>0.003395</td>\n",
       "      <td>39.199327</td>\n",
       "      <td>48.522791</td>\n",
       "      <td>0.0</td>\n",
       "      <td>0.00000</td>\n",
       "      <td>0.00000</td>\n",
       "    </tr>\n",
       "    <tr>\n",
       "      <th>3</th>\n",
       "      <td>AL</td>\n",
       "      <td>2012</td>\n",
       "      <td>7.077524e+06</td>\n",
       "      <td>0.685008</td>\n",
       "      <td>0.121581</td>\n",
       "      <td>3.060788</td>\n",
       "      <td>2.925083</td>\n",
       "      <td>0.000000</td>\n",
       "      <td>0.064307</td>\n",
       "      <td>0.089999</td>\n",
       "      <td>0.008587</td>\n",
       "      <td>0.122172</td>\n",
       "      <td>0.000000</td>\n",
       "      <td>1.679884</td>\n",
       "      <td>5.397640</td>\n",
       "      <td>38.432866</td>\n",
       "      <td>60.662360</td>\n",
       "      <td>3371064.0</td>\n",
       "      <td>12.75628</td>\n",
       "      <td>1.68896</td>\n",
       "    </tr>\n",
       "    <tr>\n",
       "      <th>4</th>\n",
       "      <td>AL</td>\n",
       "      <td>2016</td>\n",
       "      <td>1.835097e+06</td>\n",
       "      <td>0.000000</td>\n",
       "      <td>0.125222</td>\n",
       "      <td>0.609440</td>\n",
       "      <td>1.075110</td>\n",
       "      <td>0.000000</td>\n",
       "      <td>0.000000</td>\n",
       "      <td>0.000000</td>\n",
       "      <td>0.022935</td>\n",
       "      <td>0.000000</td>\n",
       "      <td>0.002390</td>\n",
       "      <td>0.000000</td>\n",
       "      <td>1.790582</td>\n",
       "      <td>34.358027</td>\n",
       "      <td>62.083003</td>\n",
       "      <td>3374106.0</td>\n",
       "      <td>13.01635</td>\n",
       "      <td>1.87784</td>\n",
       "    </tr>\n",
       "    <tr>\n",
       "      <th>...</th>\n",
       "      <td>...</td>\n",
       "      <td>...</td>\n",
       "      <td>...</td>\n",
       "      <td>...</td>\n",
       "      <td>...</td>\n",
       "      <td>...</td>\n",
       "      <td>...</td>\n",
       "      <td>...</td>\n",
       "      <td>...</td>\n",
       "      <td>...</td>\n",
       "      <td>...</td>\n",
       "      <td>...</td>\n",
       "      <td>...</td>\n",
       "      <td>...</td>\n",
       "      <td>...</td>\n",
       "      <td>...</td>\n",
       "      <td>...</td>\n",
       "      <td>...</td>\n",
       "      <td>...</td>\n",
       "      <td>...</td>\n",
       "    </tr>\n",
       "    <tr>\n",
       "      <th>150</th>\n",
       "      <td>WV</td>\n",
       "      <td>2016</td>\n",
       "      <td>1.298645e+07</td>\n",
       "      <td>0.106648</td>\n",
       "      <td>0.209644</td>\n",
       "      <td>6.280354</td>\n",
       "      <td>6.249936</td>\n",
       "      <td>0.000000</td>\n",
       "      <td>0.122096</td>\n",
       "      <td>0.000000</td>\n",
       "      <td>0.016348</td>\n",
       "      <td>0.000022</td>\n",
       "      <td>0.001406</td>\n",
       "      <td>6.702023</td>\n",
       "      <td>6.284432</td>\n",
       "      <td>26.476928</td>\n",
       "      <td>68.630575</td>\n",
       "      <td>1714557.0</td>\n",
       "      <td>0.65227</td>\n",
       "      <td>0.51239</td>\n",
       "    </tr>\n",
       "    <tr>\n",
       "      <th>151</th>\n",
       "      <td>WV</td>\n",
       "      <td>2020</td>\n",
       "      <td>3.899817e+07</td>\n",
       "      <td>0.972211</td>\n",
       "      <td>0.409356</td>\n",
       "      <td>20.500467</td>\n",
       "      <td>15.692067</td>\n",
       "      <td>0.000000</td>\n",
       "      <td>0.059133</td>\n",
       "      <td>0.000000</td>\n",
       "      <td>0.026331</td>\n",
       "      <td>0.000000</td>\n",
       "      <td>0.009850</td>\n",
       "      <td>19.086103</td>\n",
       "      <td>18.475528</td>\n",
       "      <td>29.696521</td>\n",
       "      <td>68.631552</td>\n",
       "      <td>1675122.0</td>\n",
       "      <td>0.64610</td>\n",
       "      <td>0.52415</td>\n",
       "    </tr>\n",
       "    <tr>\n",
       "      <th>152</th>\n",
       "      <td>WY</td>\n",
       "      <td>2012</td>\n",
       "      <td>6.540259e+04</td>\n",
       "      <td>0.000000</td>\n",
       "      <td>0.003470</td>\n",
       "      <td>0.000000</td>\n",
       "      <td>0.061908</td>\n",
       "      <td>0.000000</td>\n",
       "      <td>0.000000</td>\n",
       "      <td>0.000000</td>\n",
       "      <td>0.000025</td>\n",
       "      <td>0.000000</td>\n",
       "      <td>0.000000</td>\n",
       "      <td>0.000000</td>\n",
       "      <td>0.000000</td>\n",
       "      <td>27.818888</td>\n",
       "      <td>68.642622</td>\n",
       "      <td>537181.0</td>\n",
       "      <td>0.07671</td>\n",
       "      <td>0.31453</td>\n",
       "    </tr>\n",
       "    <tr>\n",
       "      <th>153</th>\n",
       "      <td>WY</td>\n",
       "      <td>2016</td>\n",
       "      <td>2.667167e+05</td>\n",
       "      <td>0.000033</td>\n",
       "      <td>0.008298</td>\n",
       "      <td>0.239030</td>\n",
       "      <td>0.018445</td>\n",
       "      <td>0.000000</td>\n",
       "      <td>0.000000</td>\n",
       "      <td>0.000000</td>\n",
       "      <td>0.000911</td>\n",
       "      <td>0.000000</td>\n",
       "      <td>0.000000</td>\n",
       "      <td>0.000000</td>\n",
       "      <td>0.253687</td>\n",
       "      <td>21.877357</td>\n",
       "      <td>68.172633</td>\n",
       "      <td>542675.0</td>\n",
       "      <td>0.07326</td>\n",
       "      <td>0.34214</td>\n",
       "    </tr>\n",
       "    <tr>\n",
       "      <th>154</th>\n",
       "      <td>WY</td>\n",
       "      <td>2020</td>\n",
       "      <td>1.016250e+06</td>\n",
       "      <td>0.001415</td>\n",
       "      <td>0.498587</td>\n",
       "      <td>0.077200</td>\n",
       "      <td>0.280952</td>\n",
       "      <td>0.000000</td>\n",
       "      <td>0.000000</td>\n",
       "      <td>0.001647</td>\n",
       "      <td>0.156450</td>\n",
       "      <td>0.000000</td>\n",
       "      <td>0.000000</td>\n",
       "      <td>0.000000</td>\n",
       "      <td>0.078015</td>\n",
       "      <td>26.553574</td>\n",
       "      <td>69.936227</td>\n",
       "      <td>535371.0</td>\n",
       "      <td>0.07467</td>\n",
       "      <td>0.35921</td>\n",
       "    </tr>\n",
       "  </tbody>\n",
       "</table>\n",
       "<p>155 rows × 20 columns</p>\n",
       "</div>"
      ],
      "text/plain": [
       "    state  year       exp_amo  dem_comm_exp  rep_comm_exp  dem_adv_exp  \\\n",
       "0      AK  2012  2.770679e+06      0.001250      0.187345     0.168900   \n",
       "1      AK  2016  3.611825e+07      1.190594      0.054232    18.304241   \n",
       "2      AK  2020  2.959422e+07      0.592741      0.053296    16.017359   \n",
       "3      AL  2012  7.077524e+06      0.685008      0.121581     3.060788   \n",
       "4      AL  2016  1.835097e+06      0.000000      0.125222     0.609440   \n",
       "..    ...   ...           ...           ...           ...          ...   \n",
       "150    WV  2016  1.298645e+07      0.106648      0.209644     6.280354   \n",
       "151    WV  2020  3.899817e+07      0.972211      0.409356    20.500467   \n",
       "152    WY  2012  6.540259e+04      0.000000      0.003470     0.000000   \n",
       "153    WY  2016  2.667167e+05      0.000033      0.008298     0.239030   \n",
       "154    WY  2020  1.016250e+06      0.001415      0.498587     0.077200   \n",
       "\n",
       "     rep_adv_exp  dem_research_exp  rep_research_exp  dem_others_exp  \\\n",
       "0       2.390737          0.000000          0.001297        0.000083   \n",
       "1      15.435947          0.281613          0.022500        0.560096   \n",
       "2       0.109322          0.001000          0.000000        0.000752   \n",
       "3       2.925083          0.000000          0.064307        0.089999   \n",
       "4       1.075110          0.000000          0.000000        0.000000   \n",
       "..           ...               ...               ...             ...   \n",
       "150     6.249936          0.000000          0.122096        0.000000   \n",
       "151    15.692067          0.000000          0.059133        0.000000   \n",
       "152     0.061908          0.000000          0.000000        0.000000   \n",
       "153     0.018445          0.000000          0.000000        0.000000   \n",
       "154     0.280952          0.000000          0.000000        0.001647   \n",
       "\n",
       "     rep_others_exp  dem_logistics_exp  rep_logistic_exp    dem_exp  \\\n",
       "0          0.016543           0.000000          0.004524   0.257396   \n",
       "1          0.132272           0.056037          0.080717  16.277411   \n",
       "2          0.000000           0.000948          0.000000   0.000000   \n",
       "3          0.008587           0.122172          0.000000   1.679884   \n",
       "4          0.022935           0.000000          0.002390   0.000000   \n",
       "..              ...                ...               ...        ...   \n",
       "150        0.016348           0.000022          0.001406   6.702023   \n",
       "151        0.026331           0.000000          0.009850  19.086103   \n",
       "152        0.000025           0.000000          0.000000   0.000000   \n",
       "153        0.000911           0.000000          0.000000   0.000000   \n",
       "154        0.156450           0.000000          0.000000   0.000000   \n",
       "\n",
       "       rep_exp  votes_dem_perc  votes_gop_perc  white_pop  black_pop  \\\n",
       "0     2.513284       40.812659       54.801577   203051.0    0.18547   \n",
       "1    19.840838       36.041373       50.566677   196210.0    0.18680   \n",
       "2     0.003395       39.199327       48.522791        0.0    0.00000   \n",
       "3     5.397640       38.432866       60.662360  3371064.0   12.75628   \n",
       "4     1.790582       34.358027       62.083003  3374106.0   13.01635   \n",
       "..         ...             ...             ...        ...        ...   \n",
       "150   6.284432       26.476928       68.630575  1714557.0    0.65227   \n",
       "151  18.475528       29.696521       68.631552  1675122.0    0.64610   \n",
       "152   0.000000       27.818888       68.642622   537181.0    0.07671   \n",
       "153   0.253687       21.877357       68.172633   542675.0    0.07326   \n",
       "154   0.078015       26.553574       69.936227   535371.0    0.07467   \n",
       "\n",
       "     other_pop  \n",
       "0      0.85627  \n",
       "1      0.91427  \n",
       "2      0.00000  \n",
       "3      1.68896  \n",
       "4      1.87784  \n",
       "..         ...  \n",
       "150    0.51239  \n",
       "151    0.52415  \n",
       "152    0.31453  \n",
       "153    0.34214  \n",
       "154    0.35921  \n",
       "\n",
       "[155 rows x 20 columns]"
      ]
     },
     "execution_count": 11,
     "metadata": {},
     "output_type": "execute_result"
    }
   ],
   "source": [
    "#our_df.to_csv('our_df.csv',index = False)\n",
    "our_df = pd.read_csv('our_df.csv')\n",
    "our_df\n"
   ]
  },
  {
   "cell_type": "code",
   "execution_count": 9,
   "metadata": {},
   "outputs": [
    {
     "data": {
      "text/html": [
       "<div>\n",
       "<style scoped>\n",
       "    .dataframe tbody tr th:only-of-type {\n",
       "        vertical-align: middle;\n",
       "    }\n",
       "\n",
       "    .dataframe tbody tr th {\n",
       "        vertical-align: top;\n",
       "    }\n",
       "\n",
       "    .dataframe thead th {\n",
       "        text-align: right;\n",
       "    }\n",
       "</style>\n",
       "<table border=\"1\" class=\"dataframe\">\n",
       "  <thead>\n",
       "    <tr style=\"text-align: right;\">\n",
       "      <th></th>\n",
       "      <th>state</th>\n",
       "      <th>year</th>\n",
       "      <th>votes_dem_perc_diff</th>\n",
       "      <th>votes_gop_perc_diff</th>\n",
       "    </tr>\n",
       "  </thead>\n",
       "  <tbody>\n",
       "    <tr>\n",
       "      <th>0</th>\n",
       "      <td>AK</td>\n",
       "      <td>2016</td>\n",
       "      <td>-5.044031</td>\n",
       "      <td>-0.782749</td>\n",
       "    </tr>\n",
       "    <tr>\n",
       "      <th>1</th>\n",
       "      <td>AK</td>\n",
       "      <td>2020</td>\n",
       "      <td>31.730125</td>\n",
       "      <td>16.222221</td>\n",
       "    </tr>\n",
       "    <tr>\n",
       "      <th>2</th>\n",
       "      <td>AL</td>\n",
       "      <td>2016</td>\n",
       "      <td>-8.313351</td>\n",
       "      <td>4.962478</td>\n",
       "    </tr>\n",
       "    <tr>\n",
       "      <th>3</th>\n",
       "      <td>AL</td>\n",
       "      <td>2020</td>\n",
       "      <td>16.462407</td>\n",
       "      <td>9.324332</td>\n",
       "    </tr>\n",
       "    <tr>\n",
       "      <th>4</th>\n",
       "      <td>AR</td>\n",
       "      <td>2016</td>\n",
       "      <td>-3.528064</td>\n",
       "      <td>5.731894</td>\n",
       "    </tr>\n",
       "    <tr>\n",
       "      <th>...</th>\n",
       "      <td>...</td>\n",
       "      <td>...</td>\n",
       "      <td>...</td>\n",
       "      <td>...</td>\n",
       "    </tr>\n",
       "    <tr>\n",
       "      <th>97</th>\n",
       "      <td>WI</td>\n",
       "      <td>2020</td>\n",
       "      <td>18.008819</td>\n",
       "      <td>14.641067</td>\n",
       "    </tr>\n",
       "    <tr>\n",
       "      <th>98</th>\n",
       "      <td>WV</td>\n",
       "      <td>2016</td>\n",
       "      <td>-20.764346</td>\n",
       "      <td>17.171110</td>\n",
       "    </tr>\n",
       "    <tr>\n",
       "      <th>99</th>\n",
       "      <td>WV</td>\n",
       "      <td>2020</td>\n",
       "      <td>24.995498</td>\n",
       "      <td>11.445509</td>\n",
       "    </tr>\n",
       "    <tr>\n",
       "      <th>100</th>\n",
       "      <td>WY</td>\n",
       "      <td>2016</td>\n",
       "      <td>-19.214560</td>\n",
       "      <td>2.022087</td>\n",
       "    </tr>\n",
       "    <tr>\n",
       "      <th>101</th>\n",
       "      <td>WY</td>\n",
       "      <td>2020</td>\n",
       "      <td>31.297233</td>\n",
       "      <td>10.973575</td>\n",
       "    </tr>\n",
       "  </tbody>\n",
       "</table>\n",
       "<p>102 rows × 4 columns</p>\n",
       "</div>"
      ],
      "text/plain": [
       "    state  year  votes_dem_perc_diff  votes_gop_perc_diff\n",
       "0      AK  2016            -5.044031            -0.782749\n",
       "1      AK  2020            31.730125            16.222221\n",
       "2      AL  2016            -8.313351             4.962478\n",
       "3      AL  2020            16.462407             9.324332\n",
       "4      AR  2016            -3.528064             5.731894\n",
       "..    ...   ...                  ...                  ...\n",
       "97     WI  2020            18.008819            14.641067\n",
       "98     WV  2016           -20.764346            17.171110\n",
       "99     WV  2020            24.995498            11.445509\n",
       "100    WY  2016           -19.214560             2.022087\n",
       "101    WY  2020            31.297233            10.973575\n",
       "\n",
       "[102 rows x 4 columns]"
      ]
     },
     "execution_count": 9,
     "metadata": {},
     "output_type": "execute_result"
    }
   ],
   "source": [
    "df = pd.read_csv('merged.csv')\n",
    "abb_ix = [us_state_abbrev[k] for k in df.state.values]\n",
    "df['state'] = abb_ix\n",
    "df2 = df[['year','state','votes_dem', 'votes_gop']].groupby(['state','year']).sum()\n",
    "df2.sort_values(by = ['state','year'], inplace = True)\n",
    "df2 = df2.drop([2000, 2004, 2008], level = 'year')\n",
    "diff_df = df2.groupby(['state','year']).sum().diff()\n",
    "diff_df['votes_dem_perc'] = 100*diff_df['votes_dem'][1:]/df2['votes_dem'].values[:-1]\n",
    "diff_df['votes_gop_perc'] = 100*diff_df['votes_gop'][1:]/df2['votes_gop'].values[:-1]\n",
    "diff_df = diff_df.dropna()\n",
    "diff_df = diff_df.drop(2012, level = 'year')\n",
    "diff_df.columns = [col + '_diff' for col in diff_df.columns]\n",
    "diff_df = diff_df.drop(['votes_dem_diff','votes_gop_diff'], axis = 1)\n",
    "diff_df = diff_df.reset_index()\n",
    "diff_df"
   ]
  },
  {
   "cell_type": "code",
   "execution_count": 13,
   "metadata": {},
   "outputs": [
    {
     "data": {
      "text/html": [
       "<div>\n",
       "<style scoped>\n",
       "    .dataframe tbody tr th:only-of-type {\n",
       "        vertical-align: middle;\n",
       "    }\n",
       "\n",
       "    .dataframe tbody tr th {\n",
       "        vertical-align: top;\n",
       "    }\n",
       "\n",
       "    .dataframe thead th {\n",
       "        text-align: right;\n",
       "    }\n",
       "</style>\n",
       "<table border=\"1\" class=\"dataframe\">\n",
       "  <thead>\n",
       "    <tr style=\"text-align: right;\">\n",
       "      <th></th>\n",
       "      <th>state</th>\n",
       "      <th>year</th>\n",
       "      <th>exp_amo_diff</th>\n",
       "      <th>dem_comm_exp_diff</th>\n",
       "      <th>rep_comm_exp_diff</th>\n",
       "      <th>dem_adv_exp_diff</th>\n",
       "      <th>rep_adv_exp_diff</th>\n",
       "      <th>dem_research_exp_diff</th>\n",
       "      <th>rep_research_exp_diff</th>\n",
       "      <th>dem_others_exp_diff</th>\n",
       "      <th>rep_others_exp_diff</th>\n",
       "      <th>dem_logistics_exp_diff</th>\n",
       "      <th>rep_logistic_exp_diff</th>\n",
       "      <th>dem_exp_diff</th>\n",
       "      <th>rep_exp_diff</th>\n",
       "      <th>votes_dem_perc_diff</th>\n",
       "      <th>votes_gop_perc_diff</th>\n",
       "    </tr>\n",
       "  </thead>\n",
       "  <tbody>\n",
       "    <tr>\n",
       "      <th>0</th>\n",
       "      <td>AK</td>\n",
       "      <td>2016</td>\n",
       "      <td>3.334757e+07</td>\n",
       "      <td>1.189344</td>\n",
       "      <td>-0.133113</td>\n",
       "      <td>18.135340</td>\n",
       "      <td>13.045210</td>\n",
       "      <td>0.281613</td>\n",
       "      <td>0.021203</td>\n",
       "      <td>0.560013</td>\n",
       "      <td>0.115730</td>\n",
       "      <td>0.056037</td>\n",
       "      <td>0.076193</td>\n",
       "      <td>16.020015</td>\n",
       "      <td>17.327554</td>\n",
       "      <td>-4.771286</td>\n",
       "      <td>-4.234901</td>\n",
       "    </tr>\n",
       "    <tr>\n",
       "      <th>1</th>\n",
       "      <td>AK</td>\n",
       "      <td>2020</td>\n",
       "      <td>-6.524030e+06</td>\n",
       "      <td>-0.597853</td>\n",
       "      <td>-0.000936</td>\n",
       "      <td>-2.286882</td>\n",
       "      <td>-15.326625</td>\n",
       "      <td>-0.280613</td>\n",
       "      <td>-0.022500</td>\n",
       "      <td>-0.559344</td>\n",
       "      <td>-0.132272</td>\n",
       "      <td>-0.055089</td>\n",
       "      <td>-0.080717</td>\n",
       "      <td>-16.277411</td>\n",
       "      <td>-19.837443</td>\n",
       "      <td>3.157955</td>\n",
       "      <td>-2.043886</td>\n",
       "    </tr>\n",
       "    <tr>\n",
       "      <th>2</th>\n",
       "      <td>AL</td>\n",
       "      <td>2016</td>\n",
       "      <td>-5.242428e+06</td>\n",
       "      <td>-0.685008</td>\n",
       "      <td>0.003640</td>\n",
       "      <td>-2.451348</td>\n",
       "      <td>-1.849973</td>\n",
       "      <td>0.000000</td>\n",
       "      <td>-0.064307</td>\n",
       "      <td>-0.089999</td>\n",
       "      <td>0.014348</td>\n",
       "      <td>-0.122172</td>\n",
       "      <td>0.002390</td>\n",
       "      <td>-1.679884</td>\n",
       "      <td>-3.607058</td>\n",
       "      <td>-4.074840</td>\n",
       "      <td>1.420643</td>\n",
       "    </tr>\n",
       "    <tr>\n",
       "      <th>3</th>\n",
       "      <td>AL</td>\n",
       "      <td>2020</td>\n",
       "      <td>2.625045e+07</td>\n",
       "      <td>0.747058</td>\n",
       "      <td>0.643873</td>\n",
       "      <td>15.173325</td>\n",
       "      <td>8.456712</td>\n",
       "      <td>0.031118</td>\n",
       "      <td>0.085245</td>\n",
       "      <td>0.130605</td>\n",
       "      <td>0.473212</td>\n",
       "      <td>0.437291</td>\n",
       "      <td>0.072008</td>\n",
       "      <td>5.221045</td>\n",
       "      <td>13.196473</td>\n",
       "      <td>2.212650</td>\n",
       "      <td>-0.052033</td>\n",
       "    </tr>\n",
       "    <tr>\n",
       "      <th>4</th>\n",
       "      <td>AR</td>\n",
       "      <td>2016</td>\n",
       "      <td>3.402685e+07</td>\n",
       "      <td>-0.135464</td>\n",
       "      <td>0.428545</td>\n",
       "      <td>12.290116</td>\n",
       "      <td>21.184239</td>\n",
       "      <td>-0.202985</td>\n",
       "      <td>0.059150</td>\n",
       "      <td>-0.128597</td>\n",
       "      <td>0.331391</td>\n",
       "      <td>-0.013110</td>\n",
       "      <td>0.213564</td>\n",
       "      <td>11.958358</td>\n",
       "      <td>22.068491</td>\n",
       "      <td>-3.203856</td>\n",
       "      <td>0.046784</td>\n",
       "    </tr>\n",
       "    <tr>\n",
       "      <th>...</th>\n",
       "      <td>...</td>\n",
       "      <td>...</td>\n",
       "      <td>...</td>\n",
       "      <td>...</td>\n",
       "      <td>...</td>\n",
       "      <td>...</td>\n",
       "      <td>...</td>\n",
       "      <td>...</td>\n",
       "      <td>...</td>\n",
       "      <td>...</td>\n",
       "      <td>...</td>\n",
       "      <td>...</td>\n",
       "      <td>...</td>\n",
       "      <td>...</td>\n",
       "      <td>...</td>\n",
       "      <td>...</td>\n",
       "      <td>...</td>\n",
       "    </tr>\n",
       "    <tr>\n",
       "      <th>99</th>\n",
       "      <td>WI</td>\n",
       "      <td>2020</td>\n",
       "      <td>3.827340e+06</td>\n",
       "      <td>-0.258135</td>\n",
       "      <td>-0.494422</td>\n",
       "      <td>5.497009</td>\n",
       "      <td>-0.837693</td>\n",
       "      <td>-0.359741</td>\n",
       "      <td>0.209102</td>\n",
       "      <td>0.148640</td>\n",
       "      <td>-0.055866</td>\n",
       "      <td>0.047733</td>\n",
       "      <td>0.004713</td>\n",
       "      <td>12.843350</td>\n",
       "      <td>-3.718987</td>\n",
       "      <td>3.017938</td>\n",
       "      <td>1.632909</td>\n",
       "    </tr>\n",
       "    <tr>\n",
       "      <th>100</th>\n",
       "      <td>WV</td>\n",
       "      <td>2016</td>\n",
       "      <td>-1.893954e+06</td>\n",
       "      <td>-0.064912</td>\n",
       "      <td>0.022237</td>\n",
       "      <td>-0.065041</td>\n",
       "      <td>-1.808511</td>\n",
       "      <td>0.000000</td>\n",
       "      <td>0.044885</td>\n",
       "      <td>-0.001388</td>\n",
       "      <td>0.007653</td>\n",
       "      <td>0.000022</td>\n",
       "      <td>-0.028899</td>\n",
       "      <td>-1.003681</td>\n",
       "      <td>-0.890273</td>\n",
       "      <td>-9.062270</td>\n",
       "      <td>6.334918</td>\n",
       "    </tr>\n",
       "    <tr>\n",
       "      <th>101</th>\n",
       "      <td>WV</td>\n",
       "      <td>2020</td>\n",
       "      <td>2.601172e+07</td>\n",
       "      <td>0.865563</td>\n",
       "      <td>0.199711</td>\n",
       "      <td>14.220113</td>\n",
       "      <td>9.442130</td>\n",
       "      <td>0.000000</td>\n",
       "      <td>-0.062963</td>\n",
       "      <td>0.000000</td>\n",
       "      <td>0.009983</td>\n",
       "      <td>-0.000022</td>\n",
       "      <td>0.008444</td>\n",
       "      <td>12.384080</td>\n",
       "      <td>12.191096</td>\n",
       "      <td>3.219593</td>\n",
       "      <td>0.000977</td>\n",
       "    </tr>\n",
       "    <tr>\n",
       "      <th>102</th>\n",
       "      <td>WY</td>\n",
       "      <td>2016</td>\n",
       "      <td>2.013141e+05</td>\n",
       "      <td>0.000033</td>\n",
       "      <td>0.004828</td>\n",
       "      <td>0.239030</td>\n",
       "      <td>-0.043463</td>\n",
       "      <td>0.000000</td>\n",
       "      <td>0.000000</td>\n",
       "      <td>0.000000</td>\n",
       "      <td>0.000886</td>\n",
       "      <td>0.000000</td>\n",
       "      <td>0.000000</td>\n",
       "      <td>0.000000</td>\n",
       "      <td>0.253687</td>\n",
       "      <td>-5.941530</td>\n",
       "      <td>-0.469989</td>\n",
       "    </tr>\n",
       "    <tr>\n",
       "      <th>103</th>\n",
       "      <td>WY</td>\n",
       "      <td>2020</td>\n",
       "      <td>7.495335e+05</td>\n",
       "      <td>0.001382</td>\n",
       "      <td>0.490289</td>\n",
       "      <td>-0.161830</td>\n",
       "      <td>0.262507</td>\n",
       "      <td>0.000000</td>\n",
       "      <td>0.000000</td>\n",
       "      <td>0.001647</td>\n",
       "      <td>0.155538</td>\n",
       "      <td>0.000000</td>\n",
       "      <td>0.000000</td>\n",
       "      <td>0.000000</td>\n",
       "      <td>-0.175672</td>\n",
       "      <td>4.676217</td>\n",
       "      <td>1.763594</td>\n",
       "    </tr>\n",
       "  </tbody>\n",
       "</table>\n",
       "<p>104 rows × 17 columns</p>\n",
       "</div>"
      ],
      "text/plain": [
       "    state  year  exp_amo_diff  dem_comm_exp_diff  rep_comm_exp_diff  \\\n",
       "0      AK  2016  3.334757e+07           1.189344          -0.133113   \n",
       "1      AK  2020 -6.524030e+06          -0.597853          -0.000936   \n",
       "2      AL  2016 -5.242428e+06          -0.685008           0.003640   \n",
       "3      AL  2020  2.625045e+07           0.747058           0.643873   \n",
       "4      AR  2016  3.402685e+07          -0.135464           0.428545   \n",
       "..    ...   ...           ...                ...                ...   \n",
       "99     WI  2020  3.827340e+06          -0.258135          -0.494422   \n",
       "100    WV  2016 -1.893954e+06          -0.064912           0.022237   \n",
       "101    WV  2020  2.601172e+07           0.865563           0.199711   \n",
       "102    WY  2016  2.013141e+05           0.000033           0.004828   \n",
       "103    WY  2020  7.495335e+05           0.001382           0.490289   \n",
       "\n",
       "     dem_adv_exp_diff  rep_adv_exp_diff  dem_research_exp_diff  \\\n",
       "0           18.135340         13.045210               0.281613   \n",
       "1           -2.286882        -15.326625              -0.280613   \n",
       "2           -2.451348         -1.849973               0.000000   \n",
       "3           15.173325          8.456712               0.031118   \n",
       "4           12.290116         21.184239              -0.202985   \n",
       "..                ...               ...                    ...   \n",
       "99           5.497009         -0.837693              -0.359741   \n",
       "100         -0.065041         -1.808511               0.000000   \n",
       "101         14.220113          9.442130               0.000000   \n",
       "102          0.239030         -0.043463               0.000000   \n",
       "103         -0.161830          0.262507               0.000000   \n",
       "\n",
       "     rep_research_exp_diff  dem_others_exp_diff  rep_others_exp_diff  \\\n",
       "0                 0.021203             0.560013             0.115730   \n",
       "1                -0.022500            -0.559344            -0.132272   \n",
       "2                -0.064307            -0.089999             0.014348   \n",
       "3                 0.085245             0.130605             0.473212   \n",
       "4                 0.059150            -0.128597             0.331391   \n",
       "..                     ...                  ...                  ...   \n",
       "99                0.209102             0.148640            -0.055866   \n",
       "100               0.044885            -0.001388             0.007653   \n",
       "101              -0.062963             0.000000             0.009983   \n",
       "102               0.000000             0.000000             0.000886   \n",
       "103               0.000000             0.001647             0.155538   \n",
       "\n",
       "     dem_logistics_exp_diff  rep_logistic_exp_diff  dem_exp_diff  \\\n",
       "0                  0.056037               0.076193     16.020015   \n",
       "1                 -0.055089              -0.080717    -16.277411   \n",
       "2                 -0.122172               0.002390     -1.679884   \n",
       "3                  0.437291               0.072008      5.221045   \n",
       "4                 -0.013110               0.213564     11.958358   \n",
       "..                      ...                    ...           ...   \n",
       "99                 0.047733               0.004713     12.843350   \n",
       "100                0.000022              -0.028899     -1.003681   \n",
       "101               -0.000022               0.008444     12.384080   \n",
       "102                0.000000               0.000000      0.000000   \n",
       "103                0.000000               0.000000      0.000000   \n",
       "\n",
       "     rep_exp_diff  votes_dem_perc_diff  votes_gop_perc_diff  \n",
       "0       17.327554            -4.771286            -4.234901  \n",
       "1      -19.837443             3.157955            -2.043886  \n",
       "2       -3.607058            -4.074840             1.420643  \n",
       "3       13.196473             2.212650            -0.052033  \n",
       "4       22.068491            -3.203856             0.046784  \n",
       "..            ...                  ...                  ...  \n",
       "99      -3.718987             3.017938             1.632909  \n",
       "100     -0.890273            -9.062270             6.334918  \n",
       "101     12.191096             3.219593             0.000977  \n",
       "102      0.253687            -5.941530            -0.469989  \n",
       "103     -0.175672             4.676217             1.763594  \n",
       "\n",
       "[104 rows x 17 columns]"
      ]
     },
     "execution_count": 13,
     "metadata": {},
     "output_type": "execute_result"
    }
   ],
   "source": [
    "diff_df2 = our_df.drop(columns = ['white_pop','black_pop',\n",
    "                        'other_pop'], axis =1).groupby(['state','year']).sum().diff()\n",
    "diff_df2 = diff_df2.dropna()\n",
    "diff_df2 = diff_df2.drop(2012, level = 'year')\n",
    "diff_df2.columns = [col + '_diff' for col in diff_df2.columns]\n",
    "diff_df2 = diff_df2.reset_index()\n",
    "diff_df2"
   ]
  },
  {
   "cell_type": "code",
   "execution_count": 19,
   "metadata": {},
   "outputs": [
    {
     "data": {
      "text/html": [
       "<div>\n",
       "<style scoped>\n",
       "    .dataframe tbody tr th:only-of-type {\n",
       "        vertical-align: middle;\n",
       "    }\n",
       "\n",
       "    .dataframe tbody tr th {\n",
       "        vertical-align: top;\n",
       "    }\n",
       "\n",
       "    .dataframe thead th {\n",
       "        text-align: right;\n",
       "    }\n",
       "</style>\n",
       "<table border=\"1\" class=\"dataframe\">\n",
       "  <thead>\n",
       "    <tr style=\"text-align: right;\">\n",
       "      <th></th>\n",
       "      <th>state</th>\n",
       "      <th>year</th>\n",
       "      <th>exp_amo_diff</th>\n",
       "      <th>dem_comm_exp_diff</th>\n",
       "      <th>rep_comm_exp_diff</th>\n",
       "      <th>dem_adv_exp_diff</th>\n",
       "      <th>rep_adv_exp_diff</th>\n",
       "      <th>dem_research_exp_diff</th>\n",
       "      <th>rep_research_exp_diff</th>\n",
       "      <th>dem_others_exp_diff</th>\n",
       "      <th>rep_others_exp_diff</th>\n",
       "      <th>dem_logistics_exp_diff</th>\n",
       "      <th>rep_logistic_exp_diff</th>\n",
       "      <th>dem_exp_diff</th>\n",
       "      <th>rep_exp_diff</th>\n",
       "      <th>votes_dem_perc_diff</th>\n",
       "      <th>votes_gop_perc_diff</th>\n",
       "    </tr>\n",
       "  </thead>\n",
       "  <tbody>\n",
       "    <tr>\n",
       "      <th>0</th>\n",
       "      <td>AK</td>\n",
       "      <td>2016</td>\n",
       "      <td>33347569.34</td>\n",
       "      <td>1.19</td>\n",
       "      <td>-0.13</td>\n",
       "      <td>18.14</td>\n",
       "      <td>13.05</td>\n",
       "      <td>0.28</td>\n",
       "      <td>0.02</td>\n",
       "      <td>0.56</td>\n",
       "      <td>0.12</td>\n",
       "      <td>0.06</td>\n",
       "      <td>0.08</td>\n",
       "      <td>16.02</td>\n",
       "      <td>17.33</td>\n",
       "      <td>-4.77</td>\n",
       "      <td>-4.23</td>\n",
       "    </tr>\n",
       "    <tr>\n",
       "      <th>1</th>\n",
       "      <td>AK</td>\n",
       "      <td>2020</td>\n",
       "      <td>-6524029.73</td>\n",
       "      <td>-0.60</td>\n",
       "      <td>-0.00</td>\n",
       "      <td>-2.29</td>\n",
       "      <td>-15.33</td>\n",
       "      <td>-0.28</td>\n",
       "      <td>-0.02</td>\n",
       "      <td>-0.56</td>\n",
       "      <td>-0.13</td>\n",
       "      <td>-0.06</td>\n",
       "      <td>-0.08</td>\n",
       "      <td>-16.28</td>\n",
       "      <td>-19.84</td>\n",
       "      <td>3.16</td>\n",
       "      <td>-2.04</td>\n",
       "    </tr>\n",
       "    <tr>\n",
       "      <th>2</th>\n",
       "      <td>AL</td>\n",
       "      <td>2016</td>\n",
       "      <td>-5242427.56</td>\n",
       "      <td>-0.69</td>\n",
       "      <td>0.00</td>\n",
       "      <td>-2.45</td>\n",
       "      <td>-1.85</td>\n",
       "      <td>0.00</td>\n",
       "      <td>-0.06</td>\n",
       "      <td>-0.09</td>\n",
       "      <td>0.01</td>\n",
       "      <td>-0.12</td>\n",
       "      <td>0.00</td>\n",
       "      <td>-1.68</td>\n",
       "      <td>-3.61</td>\n",
       "      <td>-4.07</td>\n",
       "      <td>1.42</td>\n",
       "    </tr>\n",
       "    <tr>\n",
       "      <th>3</th>\n",
       "      <td>AL</td>\n",
       "      <td>2020</td>\n",
       "      <td>26250445.90</td>\n",
       "      <td>0.75</td>\n",
       "      <td>0.64</td>\n",
       "      <td>15.17</td>\n",
       "      <td>8.46</td>\n",
       "      <td>0.03</td>\n",
       "      <td>0.09</td>\n",
       "      <td>0.13</td>\n",
       "      <td>0.47</td>\n",
       "      <td>0.44</td>\n",
       "      <td>0.07</td>\n",
       "      <td>5.22</td>\n",
       "      <td>13.20</td>\n",
       "      <td>2.21</td>\n",
       "      <td>-0.05</td>\n",
       "    </tr>\n",
       "    <tr>\n",
       "      <th>4</th>\n",
       "      <td>AR</td>\n",
       "      <td>2016</td>\n",
       "      <td>34026848.66</td>\n",
       "      <td>-0.14</td>\n",
       "      <td>0.43</td>\n",
       "      <td>12.29</td>\n",
       "      <td>21.18</td>\n",
       "      <td>-0.20</td>\n",
       "      <td>0.06</td>\n",
       "      <td>-0.13</td>\n",
       "      <td>0.33</td>\n",
       "      <td>-0.01</td>\n",
       "      <td>0.21</td>\n",
       "      <td>11.96</td>\n",
       "      <td>22.07</td>\n",
       "      <td>-3.20</td>\n",
       "      <td>0.05</td>\n",
       "    </tr>\n",
       "    <tr>\n",
       "      <th>...</th>\n",
       "      <td>...</td>\n",
       "      <td>...</td>\n",
       "      <td>...</td>\n",
       "      <td>...</td>\n",
       "      <td>...</td>\n",
       "      <td>...</td>\n",
       "      <td>...</td>\n",
       "      <td>...</td>\n",
       "      <td>...</td>\n",
       "      <td>...</td>\n",
       "      <td>...</td>\n",
       "      <td>...</td>\n",
       "      <td>...</td>\n",
       "      <td>...</td>\n",
       "      <td>...</td>\n",
       "      <td>...</td>\n",
       "      <td>...</td>\n",
       "    </tr>\n",
       "    <tr>\n",
       "      <th>99</th>\n",
       "      <td>WI</td>\n",
       "      <td>2020</td>\n",
       "      <td>3827340.04</td>\n",
       "      <td>-0.26</td>\n",
       "      <td>-0.49</td>\n",
       "      <td>5.50</td>\n",
       "      <td>-0.84</td>\n",
       "      <td>-0.36</td>\n",
       "      <td>0.21</td>\n",
       "      <td>0.15</td>\n",
       "      <td>-0.06</td>\n",
       "      <td>0.05</td>\n",
       "      <td>0.00</td>\n",
       "      <td>12.84</td>\n",
       "      <td>-3.72</td>\n",
       "      <td>3.02</td>\n",
       "      <td>1.63</td>\n",
       "    </tr>\n",
       "    <tr>\n",
       "      <th>100</th>\n",
       "      <td>WV</td>\n",
       "      <td>2016</td>\n",
       "      <td>-1893954.28</td>\n",
       "      <td>-0.06</td>\n",
       "      <td>0.02</td>\n",
       "      <td>-0.07</td>\n",
       "      <td>-1.81</td>\n",
       "      <td>0.00</td>\n",
       "      <td>0.04</td>\n",
       "      <td>-0.00</td>\n",
       "      <td>0.01</td>\n",
       "      <td>0.00</td>\n",
       "      <td>-0.03</td>\n",
       "      <td>-1.00</td>\n",
       "      <td>-0.89</td>\n",
       "      <td>-9.06</td>\n",
       "      <td>6.33</td>\n",
       "    </tr>\n",
       "    <tr>\n",
       "      <th>101</th>\n",
       "      <td>WV</td>\n",
       "      <td>2020</td>\n",
       "      <td>26011715.78</td>\n",
       "      <td>0.87</td>\n",
       "      <td>0.20</td>\n",
       "      <td>14.22</td>\n",
       "      <td>9.44</td>\n",
       "      <td>0.00</td>\n",
       "      <td>-0.06</td>\n",
       "      <td>0.00</td>\n",
       "      <td>0.01</td>\n",
       "      <td>-0.00</td>\n",
       "      <td>0.01</td>\n",
       "      <td>12.38</td>\n",
       "      <td>12.19</td>\n",
       "      <td>3.22</td>\n",
       "      <td>0.00</td>\n",
       "    </tr>\n",
       "    <tr>\n",
       "      <th>102</th>\n",
       "      <td>WY</td>\n",
       "      <td>2016</td>\n",
       "      <td>201314.15</td>\n",
       "      <td>0.00</td>\n",
       "      <td>0.00</td>\n",
       "      <td>0.24</td>\n",
       "      <td>-0.04</td>\n",
       "      <td>0.00</td>\n",
       "      <td>0.00</td>\n",
       "      <td>0.00</td>\n",
       "      <td>0.00</td>\n",
       "      <td>0.00</td>\n",
       "      <td>0.00</td>\n",
       "      <td>0.00</td>\n",
       "      <td>0.25</td>\n",
       "      <td>-5.94</td>\n",
       "      <td>-0.47</td>\n",
       "    </tr>\n",
       "    <tr>\n",
       "      <th>103</th>\n",
       "      <td>WY</td>\n",
       "      <td>2020</td>\n",
       "      <td>749533.47</td>\n",
       "      <td>0.00</td>\n",
       "      <td>0.49</td>\n",
       "      <td>-0.16</td>\n",
       "      <td>0.26</td>\n",
       "      <td>0.00</td>\n",
       "      <td>0.00</td>\n",
       "      <td>0.00</td>\n",
       "      <td>0.16</td>\n",
       "      <td>0.00</td>\n",
       "      <td>0.00</td>\n",
       "      <td>0.00</td>\n",
       "      <td>-0.18</td>\n",
       "      <td>4.68</td>\n",
       "      <td>1.76</td>\n",
       "    </tr>\n",
       "  </tbody>\n",
       "</table>\n",
       "<p>104 rows × 17 columns</p>\n",
       "</div>"
      ],
      "text/plain": [
       "    state  year  exp_amo_diff  dem_comm_exp_diff  rep_comm_exp_diff  \\\n",
       "0      AK  2016   33347569.34               1.19              -0.13   \n",
       "1      AK  2020   -6524029.73              -0.60              -0.00   \n",
       "2      AL  2016   -5242427.56              -0.69               0.00   \n",
       "3      AL  2020   26250445.90               0.75               0.64   \n",
       "4      AR  2016   34026848.66              -0.14               0.43   \n",
       "..    ...   ...           ...                ...                ...   \n",
       "99     WI  2020    3827340.04              -0.26              -0.49   \n",
       "100    WV  2016   -1893954.28              -0.06               0.02   \n",
       "101    WV  2020   26011715.78               0.87               0.20   \n",
       "102    WY  2016     201314.15               0.00               0.00   \n",
       "103    WY  2020     749533.47               0.00               0.49   \n",
       "\n",
       "     dem_adv_exp_diff  rep_adv_exp_diff  dem_research_exp_diff  \\\n",
       "0               18.14             13.05                   0.28   \n",
       "1               -2.29            -15.33                  -0.28   \n",
       "2               -2.45             -1.85                   0.00   \n",
       "3               15.17              8.46                   0.03   \n",
       "4               12.29             21.18                  -0.20   \n",
       "..                ...               ...                    ...   \n",
       "99               5.50             -0.84                  -0.36   \n",
       "100             -0.07             -1.81                   0.00   \n",
       "101             14.22              9.44                   0.00   \n",
       "102              0.24             -0.04                   0.00   \n",
       "103             -0.16              0.26                   0.00   \n",
       "\n",
       "     rep_research_exp_diff  dem_others_exp_diff  rep_others_exp_diff  \\\n",
       "0                     0.02                 0.56                 0.12   \n",
       "1                    -0.02                -0.56                -0.13   \n",
       "2                    -0.06                -0.09                 0.01   \n",
       "3                     0.09                 0.13                 0.47   \n",
       "4                     0.06                -0.13                 0.33   \n",
       "..                     ...                  ...                  ...   \n",
       "99                    0.21                 0.15                -0.06   \n",
       "100                   0.04                -0.00                 0.01   \n",
       "101                  -0.06                 0.00                 0.01   \n",
       "102                   0.00                 0.00                 0.00   \n",
       "103                   0.00                 0.00                 0.16   \n",
       "\n",
       "     dem_logistics_exp_diff  rep_logistic_exp_diff  dem_exp_diff  \\\n",
       "0                      0.06                   0.08         16.02   \n",
       "1                     -0.06                  -0.08        -16.28   \n",
       "2                     -0.12                   0.00         -1.68   \n",
       "3                      0.44                   0.07          5.22   \n",
       "4                     -0.01                   0.21         11.96   \n",
       "..                      ...                    ...           ...   \n",
       "99                     0.05                   0.00         12.84   \n",
       "100                    0.00                  -0.03         -1.00   \n",
       "101                   -0.00                   0.01         12.38   \n",
       "102                    0.00                   0.00          0.00   \n",
       "103                    0.00                   0.00          0.00   \n",
       "\n",
       "     rep_exp_diff  votes_dem_perc_diff  votes_gop_perc_diff  \n",
       "0           17.33                -4.77                -4.23  \n",
       "1          -19.84                 3.16                -2.04  \n",
       "2           -3.61                -4.07                 1.42  \n",
       "3           13.20                 2.21                -0.05  \n",
       "4           22.07                -3.20                 0.05  \n",
       "..            ...                  ...                  ...  \n",
       "99          -3.72                 3.02                 1.63  \n",
       "100         -0.89                -9.06                 6.33  \n",
       "101         12.19                 3.22                 0.00  \n",
       "102          0.25                -5.94                -0.47  \n",
       "103         -0.18                 4.68                 1.76  \n",
       "\n",
       "[104 rows x 17 columns]"
      ]
     },
     "execution_count": 19,
     "metadata": {},
     "output_type": "execute_result"
    }
   ],
   "source": [
    "final2_df = diff_df2.round(2)\n",
    "final2_df"
   ]
  },
  {
   "cell_type": "code",
   "execution_count": null,
   "metadata": {},
   "outputs": [],
   "source": [
    "#final2_df.to_csv('final2_df.csv', index = False)"
   ]
  },
  {
   "cell_type": "code",
   "execution_count": null,
   "metadata": {},
   "outputs": [],
   "source": []
  },
  {
   "cell_type": "code",
   "execution_count": 16,
   "metadata": {},
   "outputs": [
    {
     "data": {
      "text/html": [
       "<div>\n",
       "<style scoped>\n",
       "    .dataframe tbody tr th:only-of-type {\n",
       "        vertical-align: middle;\n",
       "    }\n",
       "\n",
       "    .dataframe tbody tr th {\n",
       "        vertical-align: top;\n",
       "    }\n",
       "\n",
       "    .dataframe thead th {\n",
       "        text-align: right;\n",
       "    }\n",
       "</style>\n",
       "<table border=\"1\" class=\"dataframe\">\n",
       "  <thead>\n",
       "    <tr style=\"text-align: right;\">\n",
       "      <th></th>\n",
       "      <th></th>\n",
       "      <th>votes_dem</th>\n",
       "      <th>votes_gop</th>\n",
       "    </tr>\n",
       "    <tr>\n",
       "      <th>state</th>\n",
       "      <th>year</th>\n",
       "      <th></th>\n",
       "      <th></th>\n",
       "    </tr>\n",
       "  </thead>\n",
       "  <tbody>\n",
       "    <tr>\n",
       "      <th rowspan=\"3\" valign=\"top\">AK</th>\n",
       "      <th>2012</th>\n",
       "      <td>122640.0</td>\n",
       "      <td>164676.0</td>\n",
       "    </tr>\n",
       "    <tr>\n",
       "      <th>2016</th>\n",
       "      <td>116454.0</td>\n",
       "      <td>163387.0</td>\n",
       "    </tr>\n",
       "    <tr>\n",
       "      <th>2020</th>\n",
       "      <td>153405.0</td>\n",
       "      <td>189892.0</td>\n",
       "    </tr>\n",
       "    <tr>\n",
       "      <th rowspan=\"2\" valign=\"top\">AL</th>\n",
       "      <th>2012</th>\n",
       "      <td>795696.0</td>\n",
       "      <td>1255925.0</td>\n",
       "    </tr>\n",
       "    <tr>\n",
       "      <th>2016</th>\n",
       "      <td>729547.0</td>\n",
       "      <td>1318250.0</td>\n",
       "    </tr>\n",
       "    <tr>\n",
       "      <th>...</th>\n",
       "      <th>...</th>\n",
       "      <td>...</td>\n",
       "      <td>...</td>\n",
       "    </tr>\n",
       "    <tr>\n",
       "      <th rowspan=\"2\" valign=\"top\">WV</th>\n",
       "      <th>2016</th>\n",
       "      <td>188794.0</td>\n",
       "      <td>489371.0</td>\n",
       "    </tr>\n",
       "    <tr>\n",
       "      <th>2020</th>\n",
       "      <td>235984.0</td>\n",
       "      <td>545382.0</td>\n",
       "    </tr>\n",
       "    <tr>\n",
       "      <th rowspan=\"3\" valign=\"top\">WY</th>\n",
       "      <th>2012</th>\n",
       "      <td>69286.0</td>\n",
       "      <td>170962.0</td>\n",
       "    </tr>\n",
       "    <tr>\n",
       "      <th>2016</th>\n",
       "      <td>55973.0</td>\n",
       "      <td>174419.0</td>\n",
       "    </tr>\n",
       "    <tr>\n",
       "      <th>2020</th>\n",
       "      <td>73491.0</td>\n",
       "      <td>193559.0</td>\n",
       "    </tr>\n",
       "  </tbody>\n",
       "</table>\n",
       "<p>153 rows × 2 columns</p>\n",
       "</div>"
      ],
      "text/plain": [
       "            votes_dem  votes_gop\n",
       "state year                      \n",
       "AK    2012   122640.0   164676.0\n",
       "      2016   116454.0   163387.0\n",
       "      2020   153405.0   189892.0\n",
       "AL    2012   795696.0  1255925.0\n",
       "      2016   729547.0  1318250.0\n",
       "...               ...        ...\n",
       "WV    2016   188794.0   489371.0\n",
       "      2020   235984.0   545382.0\n",
       "WY    2012    69286.0   170962.0\n",
       "      2016    55973.0   174419.0\n",
       "      2020    73491.0   193559.0\n",
       "\n",
       "[153 rows x 2 columns]"
      ]
     },
     "execution_count": 16,
     "metadata": {},
     "output_type": "execute_result"
    }
   ],
   "source": [
    "df2"
   ]
  },
  {
   "cell_type": "code",
   "execution_count": 20,
   "metadata": {},
   "outputs": [
    {
     "data": {
      "text/html": [
       "<div>\n",
       "<style scoped>\n",
       "    .dataframe tbody tr th:only-of-type {\n",
       "        vertical-align: middle;\n",
       "    }\n",
       "\n",
       "    .dataframe tbody tr th {\n",
       "        vertical-align: top;\n",
       "    }\n",
       "\n",
       "    .dataframe thead th {\n",
       "        text-align: right;\n",
       "    }\n",
       "</style>\n",
       "<table border=\"1\" class=\"dataframe\">\n",
       "  <thead>\n",
       "    <tr style=\"text-align: right;\">\n",
       "      <th></th>\n",
       "      <th>state</th>\n",
       "      <th>year</th>\n",
       "      <th>votes_dem</th>\n",
       "      <th>votes_gop</th>\n",
       "      <th>winner</th>\n",
       "    </tr>\n",
       "  </thead>\n",
       "  <tbody>\n",
       "    <tr>\n",
       "      <th>0</th>\n",
       "      <td>AK</td>\n",
       "      <td>2012</td>\n",
       "      <td>122640.0</td>\n",
       "      <td>164676.0</td>\n",
       "      <td>REPUBLICANS</td>\n",
       "    </tr>\n",
       "    <tr>\n",
       "      <th>1</th>\n",
       "      <td>AK</td>\n",
       "      <td>2016</td>\n",
       "      <td>116454.0</td>\n",
       "      <td>163387.0</td>\n",
       "      <td>REPUBLICANS</td>\n",
       "    </tr>\n",
       "    <tr>\n",
       "      <th>2</th>\n",
       "      <td>AK</td>\n",
       "      <td>2020</td>\n",
       "      <td>153405.0</td>\n",
       "      <td>189892.0</td>\n",
       "      <td>REPUBLICANS</td>\n",
       "    </tr>\n",
       "    <tr>\n",
       "      <th>3</th>\n",
       "      <td>AL</td>\n",
       "      <td>2012</td>\n",
       "      <td>795696.0</td>\n",
       "      <td>1255925.0</td>\n",
       "      <td>REPUBLICANS</td>\n",
       "    </tr>\n",
       "    <tr>\n",
       "      <th>4</th>\n",
       "      <td>AL</td>\n",
       "      <td>2016</td>\n",
       "      <td>729547.0</td>\n",
       "      <td>1318250.0</td>\n",
       "      <td>REPUBLICANS</td>\n",
       "    </tr>\n",
       "    <tr>\n",
       "      <th>...</th>\n",
       "      <td>...</td>\n",
       "      <td>...</td>\n",
       "      <td>...</td>\n",
       "      <td>...</td>\n",
       "      <td>...</td>\n",
       "    </tr>\n",
       "    <tr>\n",
       "      <th>148</th>\n",
       "      <td>WV</td>\n",
       "      <td>2016</td>\n",
       "      <td>188794.0</td>\n",
       "      <td>489371.0</td>\n",
       "      <td>REPUBLICANS</td>\n",
       "    </tr>\n",
       "    <tr>\n",
       "      <th>149</th>\n",
       "      <td>WV</td>\n",
       "      <td>2020</td>\n",
       "      <td>235984.0</td>\n",
       "      <td>545382.0</td>\n",
       "      <td>REPUBLICANS</td>\n",
       "    </tr>\n",
       "    <tr>\n",
       "      <th>150</th>\n",
       "      <td>WY</td>\n",
       "      <td>2012</td>\n",
       "      <td>69286.0</td>\n",
       "      <td>170962.0</td>\n",
       "      <td>REPUBLICANS</td>\n",
       "    </tr>\n",
       "    <tr>\n",
       "      <th>151</th>\n",
       "      <td>WY</td>\n",
       "      <td>2016</td>\n",
       "      <td>55973.0</td>\n",
       "      <td>174419.0</td>\n",
       "      <td>REPUBLICANS</td>\n",
       "    </tr>\n",
       "    <tr>\n",
       "      <th>152</th>\n",
       "      <td>WY</td>\n",
       "      <td>2020</td>\n",
       "      <td>73491.0</td>\n",
       "      <td>193559.0</td>\n",
       "      <td>REPUBLICANS</td>\n",
       "    </tr>\n",
       "  </tbody>\n",
       "</table>\n",
       "<p>153 rows × 5 columns</p>\n",
       "</div>"
      ],
      "text/plain": [
       "    state  year  votes_dem  votes_gop       winner\n",
       "0      AK  2012   122640.0   164676.0  REPUBLICANS\n",
       "1      AK  2016   116454.0   163387.0  REPUBLICANS\n",
       "2      AK  2020   153405.0   189892.0  REPUBLICANS\n",
       "3      AL  2012   795696.0  1255925.0  REPUBLICANS\n",
       "4      AL  2016   729547.0  1318250.0  REPUBLICANS\n",
       "..    ...   ...        ...        ...          ...\n",
       "148    WV  2016   188794.0   489371.0  REPUBLICANS\n",
       "149    WV  2020   235984.0   545382.0  REPUBLICANS\n",
       "150    WY  2012    69286.0   170962.0  REPUBLICANS\n",
       "151    WY  2016    55973.0   174419.0  REPUBLICANS\n",
       "152    WY  2020    73491.0   193559.0  REPUBLICANS\n",
       "\n",
       "[153 rows x 5 columns]"
      ]
     },
     "execution_count": 20,
     "metadata": {},
     "output_type": "execute_result"
    }
   ],
   "source": [
    "df2 = df2.reset_index()\n",
    "df2['winner'] = np.where(df2['votes_dem']>df2['votes_gop'], 'DEMOCRATS','REPUBLICANS')\n",
    "df2"
   ]
  },
  {
   "cell_type": "code",
   "execution_count": 21,
   "metadata": {},
   "outputs": [],
   "source": [
    "final2_df.merge(df2[df2['year']!= 2012][['state','year','winner']], how= 'left', on = ['state', 'year']).to_csv('final2_df.csv',index = False)"
   ]
  },
  {
   "cell_type": "code",
   "execution_count": 22,
   "metadata": {},
   "outputs": [
    {
     "data": {
      "text/html": [
       "<div>\n",
       "<style scoped>\n",
       "    .dataframe tbody tr th:only-of-type {\n",
       "        vertical-align: middle;\n",
       "    }\n",
       "\n",
       "    .dataframe tbody tr th {\n",
       "        vertical-align: top;\n",
       "    }\n",
       "\n",
       "    .dataframe thead th {\n",
       "        text-align: right;\n",
       "    }\n",
       "</style>\n",
       "<table border=\"1\" class=\"dataframe\">\n",
       "  <thead>\n",
       "    <tr style=\"text-align: right;\">\n",
       "      <th></th>\n",
       "      <th>state</th>\n",
       "      <th>year</th>\n",
       "      <th>exp_amo_diff</th>\n",
       "      <th>dem_comm_exp_diff</th>\n",
       "      <th>rep_comm_exp_diff</th>\n",
       "      <th>dem_adv_exp_diff</th>\n",
       "      <th>rep_adv_exp_diff</th>\n",
       "      <th>dem_research_exp_diff</th>\n",
       "      <th>rep_research_exp_diff</th>\n",
       "      <th>dem_others_exp_diff</th>\n",
       "      <th>rep_others_exp_diff</th>\n",
       "      <th>dem_logistics_exp_diff</th>\n",
       "      <th>rep_logistic_exp_diff</th>\n",
       "      <th>dem_exp_diff</th>\n",
       "      <th>rep_exp_diff</th>\n",
       "      <th>votes_dem_perc_diff</th>\n",
       "      <th>votes_gop_perc_diff</th>\n",
       "      <th>winner</th>\n",
       "    </tr>\n",
       "  </thead>\n",
       "  <tbody>\n",
       "    <tr>\n",
       "      <th>0</th>\n",
       "      <td>AK</td>\n",
       "      <td>2016</td>\n",
       "      <td>33347569.34</td>\n",
       "      <td>1.19</td>\n",
       "      <td>-0.13</td>\n",
       "      <td>18.14</td>\n",
       "      <td>13.05</td>\n",
       "      <td>0.28</td>\n",
       "      <td>0.02</td>\n",
       "      <td>0.56</td>\n",
       "      <td>0.12</td>\n",
       "      <td>0.06</td>\n",
       "      <td>0.08</td>\n",
       "      <td>16.02</td>\n",
       "      <td>17.33</td>\n",
       "      <td>-4.77</td>\n",
       "      <td>-4.23</td>\n",
       "      <td>REPUBLICANS</td>\n",
       "    </tr>\n",
       "    <tr>\n",
       "      <th>1</th>\n",
       "      <td>AK</td>\n",
       "      <td>2020</td>\n",
       "      <td>-6524029.73</td>\n",
       "      <td>-0.60</td>\n",
       "      <td>-0.00</td>\n",
       "      <td>-2.29</td>\n",
       "      <td>-15.33</td>\n",
       "      <td>-0.28</td>\n",
       "      <td>-0.02</td>\n",
       "      <td>-0.56</td>\n",
       "      <td>-0.13</td>\n",
       "      <td>-0.06</td>\n",
       "      <td>-0.08</td>\n",
       "      <td>-16.28</td>\n",
       "      <td>-19.84</td>\n",
       "      <td>3.16</td>\n",
       "      <td>-2.04</td>\n",
       "      <td>REPUBLICANS</td>\n",
       "    </tr>\n",
       "    <tr>\n",
       "      <th>2</th>\n",
       "      <td>AL</td>\n",
       "      <td>2016</td>\n",
       "      <td>-5242427.56</td>\n",
       "      <td>-0.69</td>\n",
       "      <td>0.00</td>\n",
       "      <td>-2.45</td>\n",
       "      <td>-1.85</td>\n",
       "      <td>0.00</td>\n",
       "      <td>-0.06</td>\n",
       "      <td>-0.09</td>\n",
       "      <td>0.01</td>\n",
       "      <td>-0.12</td>\n",
       "      <td>0.00</td>\n",
       "      <td>-1.68</td>\n",
       "      <td>-3.61</td>\n",
       "      <td>-4.07</td>\n",
       "      <td>1.42</td>\n",
       "      <td>REPUBLICANS</td>\n",
       "    </tr>\n",
       "    <tr>\n",
       "      <th>3</th>\n",
       "      <td>AL</td>\n",
       "      <td>2020</td>\n",
       "      <td>26250445.90</td>\n",
       "      <td>0.75</td>\n",
       "      <td>0.64</td>\n",
       "      <td>15.17</td>\n",
       "      <td>8.46</td>\n",
       "      <td>0.03</td>\n",
       "      <td>0.09</td>\n",
       "      <td>0.13</td>\n",
       "      <td>0.47</td>\n",
       "      <td>0.44</td>\n",
       "      <td>0.07</td>\n",
       "      <td>5.22</td>\n",
       "      <td>13.20</td>\n",
       "      <td>2.21</td>\n",
       "      <td>-0.05</td>\n",
       "      <td>REPUBLICANS</td>\n",
       "    </tr>\n",
       "    <tr>\n",
       "      <th>4</th>\n",
       "      <td>AR</td>\n",
       "      <td>2016</td>\n",
       "      <td>34026848.66</td>\n",
       "      <td>-0.14</td>\n",
       "      <td>0.43</td>\n",
       "      <td>12.29</td>\n",
       "      <td>21.18</td>\n",
       "      <td>-0.20</td>\n",
       "      <td>0.06</td>\n",
       "      <td>-0.13</td>\n",
       "      <td>0.33</td>\n",
       "      <td>-0.01</td>\n",
       "      <td>0.21</td>\n",
       "      <td>11.96</td>\n",
       "      <td>22.07</td>\n",
       "      <td>-3.20</td>\n",
       "      <td>0.05</td>\n",
       "      <td>REPUBLICANS</td>\n",
       "    </tr>\n",
       "    <tr>\n",
       "      <th>...</th>\n",
       "      <td>...</td>\n",
       "      <td>...</td>\n",
       "      <td>...</td>\n",
       "      <td>...</td>\n",
       "      <td>...</td>\n",
       "      <td>...</td>\n",
       "      <td>...</td>\n",
       "      <td>...</td>\n",
       "      <td>...</td>\n",
       "      <td>...</td>\n",
       "      <td>...</td>\n",
       "      <td>...</td>\n",
       "      <td>...</td>\n",
       "      <td>...</td>\n",
       "      <td>...</td>\n",
       "      <td>...</td>\n",
       "      <td>...</td>\n",
       "      <td>...</td>\n",
       "    </tr>\n",
       "    <tr>\n",
       "      <th>99</th>\n",
       "      <td>WI</td>\n",
       "      <td>2020</td>\n",
       "      <td>3827340.04</td>\n",
       "      <td>-0.26</td>\n",
       "      <td>-0.49</td>\n",
       "      <td>5.50</td>\n",
       "      <td>-0.84</td>\n",
       "      <td>-0.36</td>\n",
       "      <td>0.21</td>\n",
       "      <td>0.15</td>\n",
       "      <td>-0.06</td>\n",
       "      <td>0.05</td>\n",
       "      <td>0.00</td>\n",
       "      <td>12.84</td>\n",
       "      <td>-3.72</td>\n",
       "      <td>3.02</td>\n",
       "      <td>1.63</td>\n",
       "      <td>DEMOCRATS</td>\n",
       "    </tr>\n",
       "    <tr>\n",
       "      <th>100</th>\n",
       "      <td>WV</td>\n",
       "      <td>2016</td>\n",
       "      <td>-1893954.28</td>\n",
       "      <td>-0.06</td>\n",
       "      <td>0.02</td>\n",
       "      <td>-0.07</td>\n",
       "      <td>-1.81</td>\n",
       "      <td>0.00</td>\n",
       "      <td>0.04</td>\n",
       "      <td>-0.00</td>\n",
       "      <td>0.01</td>\n",
       "      <td>0.00</td>\n",
       "      <td>-0.03</td>\n",
       "      <td>-1.00</td>\n",
       "      <td>-0.89</td>\n",
       "      <td>-9.06</td>\n",
       "      <td>6.33</td>\n",
       "      <td>REPUBLICANS</td>\n",
       "    </tr>\n",
       "    <tr>\n",
       "      <th>101</th>\n",
       "      <td>WV</td>\n",
       "      <td>2020</td>\n",
       "      <td>26011715.78</td>\n",
       "      <td>0.87</td>\n",
       "      <td>0.20</td>\n",
       "      <td>14.22</td>\n",
       "      <td>9.44</td>\n",
       "      <td>0.00</td>\n",
       "      <td>-0.06</td>\n",
       "      <td>0.00</td>\n",
       "      <td>0.01</td>\n",
       "      <td>-0.00</td>\n",
       "      <td>0.01</td>\n",
       "      <td>12.38</td>\n",
       "      <td>12.19</td>\n",
       "      <td>3.22</td>\n",
       "      <td>0.00</td>\n",
       "      <td>REPUBLICANS</td>\n",
       "    </tr>\n",
       "    <tr>\n",
       "      <th>102</th>\n",
       "      <td>WY</td>\n",
       "      <td>2016</td>\n",
       "      <td>201314.15</td>\n",
       "      <td>0.00</td>\n",
       "      <td>0.00</td>\n",
       "      <td>0.24</td>\n",
       "      <td>-0.04</td>\n",
       "      <td>0.00</td>\n",
       "      <td>0.00</td>\n",
       "      <td>0.00</td>\n",
       "      <td>0.00</td>\n",
       "      <td>0.00</td>\n",
       "      <td>0.00</td>\n",
       "      <td>0.00</td>\n",
       "      <td>0.25</td>\n",
       "      <td>-5.94</td>\n",
       "      <td>-0.47</td>\n",
       "      <td>REPUBLICANS</td>\n",
       "    </tr>\n",
       "    <tr>\n",
       "      <th>103</th>\n",
       "      <td>WY</td>\n",
       "      <td>2020</td>\n",
       "      <td>749533.47</td>\n",
       "      <td>0.00</td>\n",
       "      <td>0.49</td>\n",
       "      <td>-0.16</td>\n",
       "      <td>0.26</td>\n",
       "      <td>0.00</td>\n",
       "      <td>0.00</td>\n",
       "      <td>0.00</td>\n",
       "      <td>0.16</td>\n",
       "      <td>0.00</td>\n",
       "      <td>0.00</td>\n",
       "      <td>0.00</td>\n",
       "      <td>-0.18</td>\n",
       "      <td>4.68</td>\n",
       "      <td>1.76</td>\n",
       "      <td>REPUBLICANS</td>\n",
       "    </tr>\n",
       "  </tbody>\n",
       "</table>\n",
       "<p>104 rows × 18 columns</p>\n",
       "</div>"
      ],
      "text/plain": [
       "    state  year  exp_amo_diff  dem_comm_exp_diff  rep_comm_exp_diff  \\\n",
       "0      AK  2016   33347569.34               1.19              -0.13   \n",
       "1      AK  2020   -6524029.73              -0.60              -0.00   \n",
       "2      AL  2016   -5242427.56              -0.69               0.00   \n",
       "3      AL  2020   26250445.90               0.75               0.64   \n",
       "4      AR  2016   34026848.66              -0.14               0.43   \n",
       "..    ...   ...           ...                ...                ...   \n",
       "99     WI  2020    3827340.04              -0.26              -0.49   \n",
       "100    WV  2016   -1893954.28              -0.06               0.02   \n",
       "101    WV  2020   26011715.78               0.87               0.20   \n",
       "102    WY  2016     201314.15               0.00               0.00   \n",
       "103    WY  2020     749533.47               0.00               0.49   \n",
       "\n",
       "     dem_adv_exp_diff  rep_adv_exp_diff  dem_research_exp_diff  \\\n",
       "0               18.14             13.05                   0.28   \n",
       "1               -2.29            -15.33                  -0.28   \n",
       "2               -2.45             -1.85                   0.00   \n",
       "3               15.17              8.46                   0.03   \n",
       "4               12.29             21.18                  -0.20   \n",
       "..                ...               ...                    ...   \n",
       "99               5.50             -0.84                  -0.36   \n",
       "100             -0.07             -1.81                   0.00   \n",
       "101             14.22              9.44                   0.00   \n",
       "102              0.24             -0.04                   0.00   \n",
       "103             -0.16              0.26                   0.00   \n",
       "\n",
       "     rep_research_exp_diff  dem_others_exp_diff  rep_others_exp_diff  \\\n",
       "0                     0.02                 0.56                 0.12   \n",
       "1                    -0.02                -0.56                -0.13   \n",
       "2                    -0.06                -0.09                 0.01   \n",
       "3                     0.09                 0.13                 0.47   \n",
       "4                     0.06                -0.13                 0.33   \n",
       "..                     ...                  ...                  ...   \n",
       "99                    0.21                 0.15                -0.06   \n",
       "100                   0.04                -0.00                 0.01   \n",
       "101                  -0.06                 0.00                 0.01   \n",
       "102                   0.00                 0.00                 0.00   \n",
       "103                   0.00                 0.00                 0.16   \n",
       "\n",
       "     dem_logistics_exp_diff  rep_logistic_exp_diff  dem_exp_diff  \\\n",
       "0                      0.06                   0.08         16.02   \n",
       "1                     -0.06                  -0.08        -16.28   \n",
       "2                     -0.12                   0.00         -1.68   \n",
       "3                      0.44                   0.07          5.22   \n",
       "4                     -0.01                   0.21         11.96   \n",
       "..                      ...                    ...           ...   \n",
       "99                     0.05                   0.00         12.84   \n",
       "100                    0.00                  -0.03         -1.00   \n",
       "101                   -0.00                   0.01         12.38   \n",
       "102                    0.00                   0.00          0.00   \n",
       "103                    0.00                   0.00          0.00   \n",
       "\n",
       "     rep_exp_diff  votes_dem_perc_diff  votes_gop_perc_diff       winner  \n",
       "0           17.33                -4.77                -4.23  REPUBLICANS  \n",
       "1          -19.84                 3.16                -2.04  REPUBLICANS  \n",
       "2           -3.61                -4.07                 1.42  REPUBLICANS  \n",
       "3           13.20                 2.21                -0.05  REPUBLICANS  \n",
       "4           22.07                -3.20                 0.05  REPUBLICANS  \n",
       "..            ...                  ...                  ...          ...  \n",
       "99          -3.72                 3.02                 1.63    DEMOCRATS  \n",
       "100         -0.89                -9.06                 6.33  REPUBLICANS  \n",
       "101         12.19                 3.22                 0.00  REPUBLICANS  \n",
       "102          0.25                -5.94                -0.47  REPUBLICANS  \n",
       "103         -0.18                 4.68                 1.76  REPUBLICANS  \n",
       "\n",
       "[104 rows x 18 columns]"
      ]
     },
     "execution_count": 22,
     "metadata": {},
     "output_type": "execute_result"
    }
   ],
   "source": [
    "final2_df = pd.read_csv('final2_df.csv')\n",
    "final2_df"
   ]
  },
  {
   "cell_type": "code",
   "execution_count": 23,
   "metadata": {},
   "outputs": [
    {
     "data": {
      "image/png": "[encoded data removed]",
      "text/plain": [
       "<Figure size 1296x1080 with 2 Axes>"
      ]
     },
     "metadata": {
      "needs_background": "light"
     },
     "output_type": "display_data"
    }
   ],
   "source": [
    "f = plt.figure(figsize = (18,15))\n",
    "plt.matshow(final2_df.drop(columns = ['exp_amo_diff','state','year']).corr(), fignum = f.number)\n",
    "plt.xticks(np.arange(14), final2_df.drop(columns = ['exp_amo_diff','state','year']).columns)\n",
    "plt.yticks(np.arange(14), final2_df.drop(columns = ['exp_amo_diff','state','year']).columns)\n",
    "cb = plt.colorbar()\n",
    "cb.ax.tick_params(labelsize = 15)\n",
    "plt.show()"
   ]
  },
  {
   "cell_type": "code",
   "execution_count": 24,
   "metadata": {
    "scrolled": false
   },
   "outputs": [
    {
     "data": {
      "text/html": [
       "<div>\n",
       "<style scoped>\n",
       "    .dataframe tbody tr th:only-of-type {\n",
       "        vertical-align: middle;\n",
       "    }\n",
       "\n",
       "    .dataframe tbody tr th {\n",
       "        vertical-align: top;\n",
       "    }\n",
       "\n",
       "    .dataframe thead th {\n",
       "        text-align: right;\n",
       "    }\n",
       "</style>\n",
       "<table border=\"1\" class=\"dataframe\">\n",
       "  <thead>\n",
       "    <tr style=\"text-align: right;\">\n",
       "      <th></th>\n",
       "      <th>dem_comm_exp_diff</th>\n",
       "      <th>rep_comm_exp_diff</th>\n",
       "      <th>dem_adv_exp_diff</th>\n",
       "      <th>rep_adv_exp_diff</th>\n",
       "      <th>dem_research_exp_diff</th>\n",
       "      <th>rep_research_exp_diff</th>\n",
       "      <th>dem_others_exp_diff</th>\n",
       "      <th>rep_others_exp_diff</th>\n",
       "      <th>dem_logistics_exp_diff</th>\n",
       "      <th>rep_logistic_exp_diff</th>\n",
       "      <th>dem_exp_diff</th>\n",
       "      <th>rep_exp_diff</th>\n",
       "      <th>votes_dem_perc_diff</th>\n",
       "      <th>votes_gop_perc_diff</th>\n",
       "    </tr>\n",
       "  </thead>\n",
       "  <tbody>\n",
       "    <tr>\n",
       "      <th>dem_comm_exp_diff</th>\n",
       "      <td>1.000000</td>\n",
       "      <td>0.841013</td>\n",
       "      <td>0.305556</td>\n",
       "      <td>0.462876</td>\n",
       "      <td>0.778073</td>\n",
       "      <td>0.755146</td>\n",
       "      <td>0.363966</td>\n",
       "      <td>0.834761</td>\n",
       "      <td>0.681014</td>\n",
       "      <td>0.411559</td>\n",
       "      <td>0.311400</td>\n",
       "      <td>0.254957</td>\n",
       "      <td>0.152019</td>\n",
       "      <td>0.112252</td>\n",
       "    </tr>\n",
       "    <tr>\n",
       "      <th>rep_comm_exp_diff</th>\n",
       "      <td>0.841013</td>\n",
       "      <td>1.000000</td>\n",
       "      <td>0.148119</td>\n",
       "      <td>0.333567</td>\n",
       "      <td>0.671791</td>\n",
       "      <td>0.791469</td>\n",
       "      <td>0.223099</td>\n",
       "      <td>0.843560</td>\n",
       "      <td>0.521215</td>\n",
       "      <td>0.538334</td>\n",
       "      <td>0.304450</td>\n",
       "      <td>0.131596</td>\n",
       "      <td>0.086530</td>\n",
       "      <td>0.097066</td>\n",
       "    </tr>\n",
       "    <tr>\n",
       "      <th>dem_adv_exp_diff</th>\n",
       "      <td>0.305556</td>\n",
       "      <td>0.148119</td>\n",
       "      <td>1.000000</td>\n",
       "      <td>0.972227</td>\n",
       "      <td>0.136914</td>\n",
       "      <td>0.084970</td>\n",
       "      <td>0.974829</td>\n",
       "      <td>0.092998</td>\n",
       "      <td>0.061316</td>\n",
       "      <td>0.029143</td>\n",
       "      <td>0.062319</td>\n",
       "      <td>0.963713</td>\n",
       "      <td>0.077334</td>\n",
       "      <td>0.069128</td>\n",
       "    </tr>\n",
       "    <tr>\n",
       "      <th>rep_adv_exp_diff</th>\n",
       "      <td>0.462876</td>\n",
       "      <td>0.333567</td>\n",
       "      <td>0.972227</td>\n",
       "      <td>1.000000</td>\n",
       "      <td>0.306784</td>\n",
       "      <td>0.283119</td>\n",
       "      <td>0.965530</td>\n",
       "      <td>0.295662</td>\n",
       "      <td>0.177620</td>\n",
       "      <td>0.153741</td>\n",
       "      <td>0.143467</td>\n",
       "      <td>0.933418</td>\n",
       "      <td>0.069528</td>\n",
       "      <td>0.058735</td>\n",
       "    </tr>\n",
       "    <tr>\n",
       "      <th>dem_research_exp_diff</th>\n",
       "      <td>0.778073</td>\n",
       "      <td>0.671791</td>\n",
       "      <td>0.136914</td>\n",
       "      <td>0.306784</td>\n",
       "      <td>1.000000</td>\n",
       "      <td>0.776997</td>\n",
       "      <td>0.194039</td>\n",
       "      <td>0.798743</td>\n",
       "      <td>0.616663</td>\n",
       "      <td>0.187817</td>\n",
       "      <td>0.163458</td>\n",
       "      <td>0.018274</td>\n",
       "      <td>0.186292</td>\n",
       "      <td>0.091561</td>\n",
       "    </tr>\n",
       "    <tr>\n",
       "      <th>rep_research_exp_diff</th>\n",
       "      <td>0.755146</td>\n",
       "      <td>0.791469</td>\n",
       "      <td>0.084970</td>\n",
       "      <td>0.283119</td>\n",
       "      <td>0.776997</td>\n",
       "      <td>1.000000</td>\n",
       "      <td>0.125225</td>\n",
       "      <td>0.906729</td>\n",
       "      <td>0.453359</td>\n",
       "      <td>0.408848</td>\n",
       "      <td>0.056401</td>\n",
       "      <td>-0.009268</td>\n",
       "      <td>0.094568</td>\n",
       "      <td>-0.002304</td>\n",
       "    </tr>\n",
       "    <tr>\n",
       "      <th>dem_others_exp_diff</th>\n",
       "      <td>0.363966</td>\n",
       "      <td>0.223099</td>\n",
       "      <td>0.974829</td>\n",
       "      <td>0.965530</td>\n",
       "      <td>0.194039</td>\n",
       "      <td>0.125225</td>\n",
       "      <td>1.000000</td>\n",
       "      <td>0.164529</td>\n",
       "      <td>0.105879</td>\n",
       "      <td>0.114784</td>\n",
       "      <td>0.127202</td>\n",
       "      <td>0.962833</td>\n",
       "      <td>0.051107</td>\n",
       "      <td>0.074825</td>\n",
       "    </tr>\n",
       "    <tr>\n",
       "      <th>rep_others_exp_diff</th>\n",
       "      <td>0.834761</td>\n",
       "      <td>0.843560</td>\n",
       "      <td>0.092998</td>\n",
       "      <td>0.295662</td>\n",
       "      <td>0.798743</td>\n",
       "      <td>0.906729</td>\n",
       "      <td>0.164529</td>\n",
       "      <td>1.000000</td>\n",
       "      <td>0.641749</td>\n",
       "      <td>0.380617</td>\n",
       "      <td>0.195734</td>\n",
       "      <td>0.029791</td>\n",
       "      <td>0.106222</td>\n",
       "      <td>0.071307</td>\n",
       "    </tr>\n",
       "    <tr>\n",
       "      <th>dem_logistics_exp_diff</th>\n",
       "      <td>0.681014</td>\n",
       "      <td>0.521215</td>\n",
       "      <td>0.061316</td>\n",
       "      <td>0.177620</td>\n",
       "      <td>0.616663</td>\n",
       "      <td>0.453359</td>\n",
       "      <td>0.105879</td>\n",
       "      <td>0.641749</td>\n",
       "      <td>1.000000</td>\n",
       "      <td>0.129311</td>\n",
       "      <td>0.434594</td>\n",
       "      <td>0.026915</td>\n",
       "      <td>0.203346</td>\n",
       "      <td>0.200214</td>\n",
       "    </tr>\n",
       "    <tr>\n",
       "      <th>rep_logistic_exp_diff</th>\n",
       "      <td>0.411559</td>\n",
       "      <td>0.538334</td>\n",
       "      <td>0.029143</td>\n",
       "      <td>0.153741</td>\n",
       "      <td>0.187817</td>\n",
       "      <td>0.408848</td>\n",
       "      <td>0.114784</td>\n",
       "      <td>0.380617</td>\n",
       "      <td>0.129311</td>\n",
       "      <td>1.000000</td>\n",
       "      <td>0.408532</td>\n",
       "      <td>0.140011</td>\n",
       "      <td>-0.113396</td>\n",
       "      <td>0.029506</td>\n",
       "    </tr>\n",
       "    <tr>\n",
       "      <th>dem_exp_diff</th>\n",
       "      <td>0.311400</td>\n",
       "      <td>0.304450</td>\n",
       "      <td>0.062319</td>\n",
       "      <td>0.143467</td>\n",
       "      <td>0.163458</td>\n",
       "      <td>0.056401</td>\n",
       "      <td>0.127202</td>\n",
       "      <td>0.195734</td>\n",
       "      <td>0.434594</td>\n",
       "      <td>0.408532</td>\n",
       "      <td>1.000000</td>\n",
       "      <td>0.215276</td>\n",
       "      <td>0.002027</td>\n",
       "      <td>0.102112</td>\n",
       "    </tr>\n",
       "    <tr>\n",
       "      <th>rep_exp_diff</th>\n",
       "      <td>0.254957</td>\n",
       "      <td>0.131596</td>\n",
       "      <td>0.963713</td>\n",
       "      <td>0.933418</td>\n",
       "      <td>0.018274</td>\n",
       "      <td>-0.009268</td>\n",
       "      <td>0.962833</td>\n",
       "      <td>0.029791</td>\n",
       "      <td>0.026915</td>\n",
       "      <td>0.140011</td>\n",
       "      <td>0.215276</td>\n",
       "      <td>1.000000</td>\n",
       "      <td>-0.018866</td>\n",
       "      <td>0.044847</td>\n",
       "    </tr>\n",
       "    <tr>\n",
       "      <th>votes_dem_perc_diff</th>\n",
       "      <td>0.152019</td>\n",
       "      <td>0.086530</td>\n",
       "      <td>0.077334</td>\n",
       "      <td>0.069528</td>\n",
       "      <td>0.186292</td>\n",
       "      <td>0.094568</td>\n",
       "      <td>0.051107</td>\n",
       "      <td>0.106222</td>\n",
       "      <td>0.203346</td>\n",
       "      <td>-0.113396</td>\n",
       "      <td>0.002027</td>\n",
       "      <td>-0.018866</td>\n",
       "      <td>1.000000</td>\n",
       "      <td>0.510616</td>\n",
       "    </tr>\n",
       "    <tr>\n",
       "      <th>votes_gop_perc_diff</th>\n",
       "      <td>0.112252</td>\n",
       "      <td>0.097066</td>\n",
       "      <td>0.069128</td>\n",
       "      <td>0.058735</td>\n",
       "      <td>0.091561</td>\n",
       "      <td>-0.002304</td>\n",
       "      <td>0.074825</td>\n",
       "      <td>0.071307</td>\n",
       "      <td>0.200214</td>\n",
       "      <td>0.029506</td>\n",
       "      <td>0.102112</td>\n",
       "      <td>0.044847</td>\n",
       "      <td>0.510616</td>\n",
       "      <td>1.000000</td>\n",
       "    </tr>\n",
       "  </tbody>\n",
       "</table>\n",
       "</div>"
      ],
      "text/plain": [
       "                        dem_comm_exp_diff  rep_comm_exp_diff  \\\n",
       "dem_comm_exp_diff                1.000000           0.841013   \n",
       "rep_comm_exp_diff                0.841013           1.000000   \n",
       "dem_adv_exp_diff                 0.305556           0.148119   \n",
       "rep_adv_exp_diff                 0.462876           0.333567   \n",
       "dem_research_exp_diff            0.778073           0.671791   \n",
       "rep_research_exp_diff            0.755146           0.791469   \n",
       "dem_others_exp_diff              0.363966           0.223099   \n",
       "rep_others_exp_diff              0.834761           0.843560   \n",
       "dem_logistics_exp_diff           0.681014           0.521215   \n",
       "rep_logistic_exp_diff            0.411559           0.538334   \n",
       "dem_exp_diff                     0.311400           0.304450   \n",
       "rep_exp_diff                     0.254957           0.131596   \n",
       "votes_dem_perc_diff              0.152019           0.086530   \n",
       "votes_gop_perc_diff              0.112252           0.097066   \n",
       "\n",
       "                        dem_adv_exp_diff  rep_adv_exp_diff  \\\n",
       "dem_comm_exp_diff               0.305556          0.462876   \n",
       "rep_comm_exp_diff               0.148119          0.333567   \n",
       "dem_adv_exp_diff                1.000000          0.972227   \n",
       "rep_adv_exp_diff                0.972227          1.000000   \n",
       "dem_research_exp_diff           0.136914          0.306784   \n",
       "rep_research_exp_diff           0.084970          0.283119   \n",
       "dem_others_exp_diff             0.974829          0.965530   \n",
       "rep_others_exp_diff             0.092998          0.295662   \n",
       "dem_logistics_exp_diff          0.061316          0.177620   \n",
       "rep_logistic_exp_diff           0.029143          0.153741   \n",
       "dem_exp_diff                    0.062319          0.143467   \n",
       "rep_exp_diff                    0.963713          0.933418   \n",
       "votes_dem_perc_diff             0.077334          0.069528   \n",
       "votes_gop_perc_diff             0.069128          0.058735   \n",
       "\n",
       "                        dem_research_exp_diff  rep_research_exp_diff  \\\n",
       "dem_comm_exp_diff                    0.778073               0.755146   \n",
       "rep_comm_exp_diff                    0.671791               0.791469   \n",
       "dem_adv_exp_diff                     0.136914               0.084970   \n",
       "rep_adv_exp_diff                     0.306784               0.283119   \n",
       "dem_research_exp_diff                1.000000               0.776997   \n",
       "rep_research_exp_diff                0.776997               1.000000   \n",
       "dem_others_exp_diff                  0.194039               0.125225   \n",
       "rep_others_exp_diff                  0.798743               0.906729   \n",
       "dem_logistics_exp_diff               0.616663               0.453359   \n",
       "rep_logistic_exp_diff                0.187817               0.408848   \n",
       "dem_exp_diff                         0.163458               0.056401   \n",
       "rep_exp_diff                         0.018274              -0.009268   \n",
       "votes_dem_perc_diff                  0.186292               0.094568   \n",
       "votes_gop_perc_diff                  0.091561              -0.002304   \n",
       "\n",
       "                        dem_others_exp_diff  rep_others_exp_diff  \\\n",
       "dem_comm_exp_diff                  0.363966             0.834761   \n",
       "rep_comm_exp_diff                  0.223099             0.843560   \n",
       "dem_adv_exp_diff                   0.974829             0.092998   \n",
       "rep_adv_exp_diff                   0.965530             0.295662   \n",
       "dem_research_exp_diff              0.194039             0.798743   \n",
       "rep_research_exp_diff              0.125225             0.906729   \n",
       "dem_others_exp_diff                1.000000             0.164529   \n",
       "rep_others_exp_diff                0.164529             1.000000   \n",
       "dem_logistics_exp_diff             0.105879             0.641749   \n",
       "rep_logistic_exp_diff              0.114784             0.380617   \n",
       "dem_exp_diff                       0.127202             0.195734   \n",
       "rep_exp_diff                       0.962833             0.029791   \n",
       "votes_dem_perc_diff                0.051107             0.106222   \n",
       "votes_gop_perc_diff                0.074825             0.071307   \n",
       "\n",
       "                        dem_logistics_exp_diff  rep_logistic_exp_diff  \\\n",
       "dem_comm_exp_diff                     0.681014               0.411559   \n",
       "rep_comm_exp_diff                     0.521215               0.538334   \n",
       "dem_adv_exp_diff                      0.061316               0.029143   \n",
       "rep_adv_exp_diff                      0.177620               0.153741   \n",
       "dem_research_exp_diff                 0.616663               0.187817   \n",
       "rep_research_exp_diff                 0.453359               0.408848   \n",
       "dem_others_exp_diff                   0.105879               0.114784   \n",
       "rep_others_exp_diff                   0.641749               0.380617   \n",
       "dem_logistics_exp_diff                1.000000               0.129311   \n",
       "rep_logistic_exp_diff                 0.129311               1.000000   \n",
       "dem_exp_diff                          0.434594               0.408532   \n",
       "rep_exp_diff                          0.026915               0.140011   \n",
       "votes_dem_perc_diff                   0.203346              -0.113396   \n",
       "votes_gop_perc_diff                   0.200214               0.029506   \n",
       "\n",
       "                        dem_exp_diff  rep_exp_diff  votes_dem_perc_diff  \\\n",
       "dem_comm_exp_diff           0.311400      0.254957             0.152019   \n",
       "rep_comm_exp_diff           0.304450      0.131596             0.086530   \n",
       "dem_adv_exp_diff            0.062319      0.963713             0.077334   \n",
       "rep_adv_exp_diff            0.143467      0.933418             0.069528   \n",
       "dem_research_exp_diff       0.163458      0.018274             0.186292   \n",
       "rep_research_exp_diff       0.056401     -0.009268             0.094568   \n",
       "dem_others_exp_diff         0.127202      0.962833             0.051107   \n",
       "rep_others_exp_diff         0.195734      0.029791             0.106222   \n",
       "dem_logistics_exp_diff      0.434594      0.026915             0.203346   \n",
       "rep_logistic_exp_diff       0.408532      0.140011            -0.113396   \n",
       "dem_exp_diff                1.000000      0.215276             0.002027   \n",
       "rep_exp_diff                0.215276      1.000000            -0.018866   \n",
       "votes_dem_perc_diff         0.002027     -0.018866             1.000000   \n",
       "votes_gop_perc_diff         0.102112      0.044847             0.510616   \n",
       "\n",
       "                        votes_gop_perc_diff  \n",
       "dem_comm_exp_diff                  0.112252  \n",
       "rep_comm_exp_diff                  0.097066  \n",
       "dem_adv_exp_diff                   0.069128  \n",
       "rep_adv_exp_diff                   0.058735  \n",
       "dem_research_exp_diff              0.091561  \n",
       "rep_research_exp_diff             -0.002304  \n",
       "dem_others_exp_diff                0.074825  \n",
       "rep_others_exp_diff                0.071307  \n",
       "dem_logistics_exp_diff             0.200214  \n",
       "rep_logistic_exp_diff              0.029506  \n",
       "dem_exp_diff                       0.102112  \n",
       "rep_exp_diff                       0.044847  \n",
       "votes_dem_perc_diff                0.510616  \n",
       "votes_gop_perc_diff                1.000000  "
      ]
     },
     "execution_count": 24,
     "metadata": {},
     "output_type": "execute_result"
    }
   ],
   "source": [
    "final2_df.drop(columns = ['exp_amo_diff','state','year']).corr()"
   ]
  },
  {
   "cell_type": "code",
   "execution_count": null,
   "metadata": {},
   "outputs": [],
   "source": []
  },
  {
   "cell_type": "code",
   "execution_count": 25,
   "metadata": {},
   "outputs": [
    {
     "data": {
      "text/plain": [
       "Index(['state', 'year', 'exp_amo_diff', 'dem_comm_exp_diff',\n",
       "       'rep_comm_exp_diff', 'dem_adv_exp_diff', 'rep_adv_exp_diff',\n",
       "       'dem_research_exp_diff', 'rep_research_exp_diff', 'dem_others_exp_diff',\n",
       "       'rep_others_exp_diff', 'dem_logistics_exp_diff',\n",
       "       'rep_logistic_exp_diff', 'dem_exp_diff', 'rep_exp_diff',\n",
       "       'votes_dem_perc_diff', 'votes_gop_perc_diff', 'winner'],\n",
       "      dtype='object')"
      ]
     },
     "execution_count": 25,
     "metadata": {},
     "output_type": "execute_result"
    }
   ],
   "source": [
    "final2_df.columns"
   ]
  },
  {
   "cell_type": "code",
   "execution_count": 39,
   "metadata": {},
   "outputs": [],
   "source": [
    "final2_df.columns = ['State', 'Year',\n",
    "       'Total Exp Diff', 'Democrats Communications Exp Diff', 'Republicans Communications Exp Diff',\n",
    "       'Democrats Advertisement Exp Diff', 'Republicans Advertisement Exp Diff', 'Democrats Research Exp Diff',\n",
    "       'Republicans Research Exp Diff', 'Democrats Others Exp Diff', 'Republicans Others Exp Diff',\n",
    "       'Democrats Logistics Exp Diff', 'Republicans Logistics Exp Diff', 'Democrats Exp Diff',\n",
    "       'Republicans Exp Diff', 'Democrats Votes Diff % ', 'Republicans Votes Diff % ','Winner']"
   ]
  },
  {
   "cell_type": "code",
   "execution_count": 40,
   "metadata": {},
   "outputs": [],
   "source": [
    "import plotly.express as px"
   ]
  },
  {
   "cell_type": "code",
   "execution_count": 126,
   "metadata": {},
   "outputs": [
    {
     "data": {
      "text/html": [
       "<div>\n",
       "<style scoped>\n",
       "    .dataframe tbody tr th:only-of-type {\n",
       "        vertical-align: middle;\n",
       "    }\n",
       "\n",
       "    .dataframe tbody tr th {\n",
       "        vertical-align: top;\n",
       "    }\n",
       "\n",
       "    .dataframe thead th {\n",
       "        text-align: right;\n",
       "    }\n",
       "</style>\n",
       "<table border=\"1\" class=\"dataframe\">\n",
       "  <thead>\n",
       "    <tr style=\"text-align: right;\">\n",
       "      <th></th>\n",
       "      <th>State</th>\n",
       "      <th>Year</th>\n",
       "      <th>Total Exp Diff</th>\n",
       "      <th>Democrats Communications Exp Diff</th>\n",
       "      <th>Republicans Communications Exp Diff</th>\n",
       "      <th>Democrats Advertisement Exp Diff</th>\n",
       "      <th>Republicans Advertisement Exp Diff</th>\n",
       "      <th>Democrats Research Exp Diff</th>\n",
       "      <th>Republicans Research Exp Diff</th>\n",
       "      <th>Democrats Others Exp Diff</th>\n",
       "      <th>Republicans Others Exp Diff</th>\n",
       "      <th>Democrats Logistics Exp Diff</th>\n",
       "      <th>Republicans Logistics Exp Diff</th>\n",
       "      <th>Democrats Exp Diff</th>\n",
       "      <th>Republicans Exp Diff</th>\n",
       "      <th>Democrats Votes Diff %</th>\n",
       "      <th>Republicans Votes Diff %</th>\n",
       "      <th>Winner</th>\n",
       "      <th>Democrats ROI</th>\n",
       "      <th>Republicans ROI</th>\n",
       "    </tr>\n",
       "  </thead>\n",
       "  <tbody>\n",
       "    <tr>\n",
       "      <th>0</th>\n",
       "      <td>AK</td>\n",
       "      <td>2016</td>\n",
       "      <td>33347569.34</td>\n",
       "      <td>1.19</td>\n",
       "      <td>-0.13</td>\n",
       "      <td>18.14</td>\n",
       "      <td>13.05</td>\n",
       "      <td>0.28</td>\n",
       "      <td>0.02</td>\n",
       "      <td>0.56</td>\n",
       "      <td>0.12</td>\n",
       "      <td>0.06</td>\n",
       "      <td>0.08</td>\n",
       "      <td>16.02</td>\n",
       "      <td>17.33</td>\n",
       "      <td>-4.77</td>\n",
       "      <td>-4.23</td>\n",
       "      <td>REPUBLICANS</td>\n",
       "      <td>-0.30</td>\n",
       "      <td>-0.24</td>\n",
       "    </tr>\n",
       "    <tr>\n",
       "      <th>1</th>\n",
       "      <td>AK</td>\n",
       "      <td>2020</td>\n",
       "      <td>-6524029.73</td>\n",
       "      <td>-0.60</td>\n",
       "      <td>-0.00</td>\n",
       "      <td>-2.29</td>\n",
       "      <td>-15.33</td>\n",
       "      <td>-0.28</td>\n",
       "      <td>-0.02</td>\n",
       "      <td>-0.56</td>\n",
       "      <td>-0.13</td>\n",
       "      <td>-0.06</td>\n",
       "      <td>-0.08</td>\n",
       "      <td>-16.28</td>\n",
       "      <td>-19.84</td>\n",
       "      <td>3.16</td>\n",
       "      <td>-2.04</td>\n",
       "      <td>REPUBLICANS</td>\n",
       "      <td>0.19</td>\n",
       "      <td>0.10</td>\n",
       "    </tr>\n",
       "    <tr>\n",
       "      <th>2</th>\n",
       "      <td>AL</td>\n",
       "      <td>2016</td>\n",
       "      <td>-5242427.56</td>\n",
       "      <td>-0.69</td>\n",
       "      <td>0.00</td>\n",
       "      <td>-2.45</td>\n",
       "      <td>-1.85</td>\n",
       "      <td>0.00</td>\n",
       "      <td>-0.06</td>\n",
       "      <td>-0.09</td>\n",
       "      <td>0.01</td>\n",
       "      <td>-0.12</td>\n",
       "      <td>0.00</td>\n",
       "      <td>-1.68</td>\n",
       "      <td>-3.61</td>\n",
       "      <td>-4.07</td>\n",
       "      <td>1.42</td>\n",
       "      <td>REPUBLICANS</td>\n",
       "      <td>2.42</td>\n",
       "      <td>0.39</td>\n",
       "    </tr>\n",
       "    <tr>\n",
       "      <th>3</th>\n",
       "      <td>AL</td>\n",
       "      <td>2020</td>\n",
       "      <td>26250445.90</td>\n",
       "      <td>0.75</td>\n",
       "      <td>0.64</td>\n",
       "      <td>15.17</td>\n",
       "      <td>8.46</td>\n",
       "      <td>0.03</td>\n",
       "      <td>0.09</td>\n",
       "      <td>0.13</td>\n",
       "      <td>0.47</td>\n",
       "      <td>0.44</td>\n",
       "      <td>0.07</td>\n",
       "      <td>5.22</td>\n",
       "      <td>13.20</td>\n",
       "      <td>2.21</td>\n",
       "      <td>-0.05</td>\n",
       "      <td>REPUBLICANS</td>\n",
       "      <td>0.42</td>\n",
       "      <td>-0.00</td>\n",
       "    </tr>\n",
       "    <tr>\n",
       "      <th>4</th>\n",
       "      <td>AR</td>\n",
       "      <td>2016</td>\n",
       "      <td>34026848.66</td>\n",
       "      <td>-0.14</td>\n",
       "      <td>0.43</td>\n",
       "      <td>12.29</td>\n",
       "      <td>21.18</td>\n",
       "      <td>-0.20</td>\n",
       "      <td>0.06</td>\n",
       "      <td>-0.13</td>\n",
       "      <td>0.33</td>\n",
       "      <td>-0.01</td>\n",
       "      <td>0.21</td>\n",
       "      <td>11.96</td>\n",
       "      <td>22.07</td>\n",
       "      <td>-3.20</td>\n",
       "      <td>0.05</td>\n",
       "      <td>REPUBLICANS</td>\n",
       "      <td>-0.27</td>\n",
       "      <td>0.00</td>\n",
       "    </tr>\n",
       "    <tr>\n",
       "      <th>...</th>\n",
       "      <td>...</td>\n",
       "      <td>...</td>\n",
       "      <td>...</td>\n",
       "      <td>...</td>\n",
       "      <td>...</td>\n",
       "      <td>...</td>\n",
       "      <td>...</td>\n",
       "      <td>...</td>\n",
       "      <td>...</td>\n",
       "      <td>...</td>\n",
       "      <td>...</td>\n",
       "      <td>...</td>\n",
       "      <td>...</td>\n",
       "      <td>...</td>\n",
       "      <td>...</td>\n",
       "      <td>...</td>\n",
       "      <td>...</td>\n",
       "      <td>...</td>\n",
       "      <td>...</td>\n",
       "      <td>...</td>\n",
       "    </tr>\n",
       "    <tr>\n",
       "      <th>99</th>\n",
       "      <td>WI</td>\n",
       "      <td>2020</td>\n",
       "      <td>3827340.04</td>\n",
       "      <td>-0.26</td>\n",
       "      <td>-0.49</td>\n",
       "      <td>5.50</td>\n",
       "      <td>-0.84</td>\n",
       "      <td>-0.36</td>\n",
       "      <td>0.21</td>\n",
       "      <td>0.15</td>\n",
       "      <td>-0.06</td>\n",
       "      <td>0.05</td>\n",
       "      <td>0.00</td>\n",
       "      <td>12.84</td>\n",
       "      <td>-3.72</td>\n",
       "      <td>3.02</td>\n",
       "      <td>1.63</td>\n",
       "      <td>DEMOCRATS</td>\n",
       "      <td>0.24</td>\n",
       "      <td>0.44</td>\n",
       "    </tr>\n",
       "    <tr>\n",
       "      <th>100</th>\n",
       "      <td>WV</td>\n",
       "      <td>2016</td>\n",
       "      <td>-1893954.28</td>\n",
       "      <td>-0.06</td>\n",
       "      <td>0.02</td>\n",
       "      <td>-0.07</td>\n",
       "      <td>-1.81</td>\n",
       "      <td>0.00</td>\n",
       "      <td>0.04</td>\n",
       "      <td>-0.00</td>\n",
       "      <td>0.01</td>\n",
       "      <td>0.00</td>\n",
       "      <td>-0.03</td>\n",
       "      <td>-1.00</td>\n",
       "      <td>-0.89</td>\n",
       "      <td>-9.06</td>\n",
       "      <td>6.33</td>\n",
       "      <td>REPUBLICANS</td>\n",
       "      <td>9.06</td>\n",
       "      <td>7.11</td>\n",
       "    </tr>\n",
       "    <tr>\n",
       "      <th>101</th>\n",
       "      <td>WV</td>\n",
       "      <td>2020</td>\n",
       "      <td>26011715.78</td>\n",
       "      <td>0.87</td>\n",
       "      <td>0.20</td>\n",
       "      <td>14.22</td>\n",
       "      <td>9.44</td>\n",
       "      <td>0.00</td>\n",
       "      <td>-0.06</td>\n",
       "      <td>0.00</td>\n",
       "      <td>0.01</td>\n",
       "      <td>-0.00</td>\n",
       "      <td>0.01</td>\n",
       "      <td>12.38</td>\n",
       "      <td>12.19</td>\n",
       "      <td>3.22</td>\n",
       "      <td>0.00</td>\n",
       "      <td>REPUBLICANS</td>\n",
       "      <td>0.26</td>\n",
       "      <td>0.00</td>\n",
       "    </tr>\n",
       "    <tr>\n",
       "      <th>102</th>\n",
       "      <td>WY</td>\n",
       "      <td>2016</td>\n",
       "      <td>201314.15</td>\n",
       "      <td>0.00</td>\n",
       "      <td>0.00</td>\n",
       "      <td>0.24</td>\n",
       "      <td>-0.04</td>\n",
       "      <td>0.00</td>\n",
       "      <td>0.00</td>\n",
       "      <td>0.00</td>\n",
       "      <td>0.00</td>\n",
       "      <td>0.00</td>\n",
       "      <td>0.00</td>\n",
       "      <td>0.00</td>\n",
       "      <td>0.25</td>\n",
       "      <td>-5.94</td>\n",
       "      <td>-0.47</td>\n",
       "      <td>REPUBLICANS</td>\n",
       "      <td>-10.00</td>\n",
       "      <td>-1.88</td>\n",
       "    </tr>\n",
       "    <tr>\n",
       "      <th>103</th>\n",
       "      <td>WY</td>\n",
       "      <td>2020</td>\n",
       "      <td>749533.47</td>\n",
       "      <td>0.00</td>\n",
       "      <td>0.49</td>\n",
       "      <td>-0.16</td>\n",
       "      <td>0.26</td>\n",
       "      <td>0.00</td>\n",
       "      <td>0.00</td>\n",
       "      <td>0.00</td>\n",
       "      <td>0.16</td>\n",
       "      <td>0.00</td>\n",
       "      <td>0.00</td>\n",
       "      <td>0.00</td>\n",
       "      <td>-0.18</td>\n",
       "      <td>4.68</td>\n",
       "      <td>1.76</td>\n",
       "      <td>REPUBLICANS</td>\n",
       "      <td>10.00</td>\n",
       "      <td>9.78</td>\n",
       "    </tr>\n",
       "  </tbody>\n",
       "</table>\n",
       "<p>104 rows × 20 columns</p>\n",
       "</div>"
      ],
      "text/plain": [
       "    State  Year  Total Exp Diff  Democrats Communications Exp Diff  \\\n",
       "0      AK  2016     33347569.34                               1.19   \n",
       "1      AK  2020     -6524029.73                              -0.60   \n",
       "2      AL  2016     -5242427.56                              -0.69   \n",
       "3      AL  2020     26250445.90                               0.75   \n",
       "4      AR  2016     34026848.66                              -0.14   \n",
       "..    ...   ...             ...                                ...   \n",
       "99     WI  2020      3827340.04                              -0.26   \n",
       "100    WV  2016     -1893954.28                              -0.06   \n",
       "101    WV  2020     26011715.78                               0.87   \n",
       "102    WY  2016       201314.15                               0.00   \n",
       "103    WY  2020       749533.47                               0.00   \n",
       "\n",
       "     Republicans Communications Exp Diff  Democrats Advertisement Exp Diff  \\\n",
       "0                                  -0.13                             18.14   \n",
       "1                                  -0.00                             -2.29   \n",
       "2                                   0.00                             -2.45   \n",
       "3                                   0.64                             15.17   \n",
       "4                                   0.43                             12.29   \n",
       "..                                   ...                               ...   \n",
       "99                                 -0.49                              5.50   \n",
       "100                                 0.02                             -0.07   \n",
       "101                                 0.20                             14.22   \n",
       "102                                 0.00                              0.24   \n",
       "103                                 0.49                             -0.16   \n",
       "\n",
       "     Republicans Advertisement Exp Diff  Democrats Research Exp Diff  \\\n",
       "0                                 13.05                         0.28   \n",
       "1                                -15.33                        -0.28   \n",
       "2                                 -1.85                         0.00   \n",
       "3                                  8.46                         0.03   \n",
       "4                                 21.18                        -0.20   \n",
       "..                                  ...                          ...   \n",
       "99                                -0.84                        -0.36   \n",
       "100                               -1.81                         0.00   \n",
       "101                                9.44                         0.00   \n",
       "102                               -0.04                         0.00   \n",
       "103                                0.26                         0.00   \n",
       "\n",
       "     Republicans Research Exp Diff  Democrats Others Exp Diff  \\\n",
       "0                             0.02                       0.56   \n",
       "1                            -0.02                      -0.56   \n",
       "2                            -0.06                      -0.09   \n",
       "3                             0.09                       0.13   \n",
       "4                             0.06                      -0.13   \n",
       "..                             ...                        ...   \n",
       "99                            0.21                       0.15   \n",
       "100                           0.04                      -0.00   \n",
       "101                          -0.06                       0.00   \n",
       "102                           0.00                       0.00   \n",
       "103                           0.00                       0.00   \n",
       "\n",
       "     Republicans Others Exp Diff  Democrats Logistics Exp Diff  \\\n",
       "0                           0.12                          0.06   \n",
       "1                          -0.13                         -0.06   \n",
       "2                           0.01                         -0.12   \n",
       "3                           0.47                          0.44   \n",
       "4                           0.33                         -0.01   \n",
       "..                           ...                           ...   \n",
       "99                         -0.06                          0.05   \n",
       "100                         0.01                          0.00   \n",
       "101                         0.01                         -0.00   \n",
       "102                         0.00                          0.00   \n",
       "103                         0.16                          0.00   \n",
       "\n",
       "     Republicans Logistics Exp Diff  Democrats Exp Diff  Republicans Exp Diff  \\\n",
       "0                              0.08               16.02                 17.33   \n",
       "1                             -0.08              -16.28                -19.84   \n",
       "2                              0.00               -1.68                 -3.61   \n",
       "3                              0.07                5.22                 13.20   \n",
       "4                              0.21               11.96                 22.07   \n",
       "..                              ...                 ...                   ...   \n",
       "99                             0.00               12.84                 -3.72   \n",
       "100                           -0.03               -1.00                 -0.89   \n",
       "101                            0.01               12.38                 12.19   \n",
       "102                            0.00                0.00                  0.25   \n",
       "103                            0.00                0.00                 -0.18   \n",
       "\n",
       "     Democrats Votes Diff %   Republicans Votes Diff %        Winner  \\\n",
       "0                      -4.77                      -4.23  REPUBLICANS   \n",
       "1                       3.16                      -2.04  REPUBLICANS   \n",
       "2                      -4.07                       1.42  REPUBLICANS   \n",
       "3                       2.21                      -0.05  REPUBLICANS   \n",
       "4                      -3.20                       0.05  REPUBLICANS   \n",
       "..                       ...                        ...          ...   \n",
       "99                      3.02                       1.63    DEMOCRATS   \n",
       "100                    -9.06                       6.33  REPUBLICANS   \n",
       "101                     3.22                       0.00  REPUBLICANS   \n",
       "102                    -5.94                      -0.47  REPUBLICANS   \n",
       "103                     4.68                       1.76  REPUBLICANS   \n",
       "\n",
       "     Democrats ROI  Republicans ROI  \n",
       "0            -0.30            -0.24  \n",
       "1             0.19             0.10  \n",
       "2             2.42             0.39  \n",
       "3             0.42            -0.00  \n",
       "4            -0.27             0.00  \n",
       "..             ...              ...  \n",
       "99            0.24             0.44  \n",
       "100           9.06             7.11  \n",
       "101           0.26             0.00  \n",
       "102         -10.00            -1.88  \n",
       "103          10.00             9.78  \n",
       "\n",
       "[104 rows x 20 columns]"
      ]
     },
     "execution_count": 126,
     "metadata": {},
     "output_type": "execute_result"
    }
   ],
   "source": [
    "final2_df['Democrats ROI'] = np.nan_to_num(np.where(\n",
    "    final2_df['Democrats Votes Diff % ']>0,abs(final2_df['Democrats Votes Diff % ']/final2_df['Democrats Exp Diff']),\n",
    "    final2_df['Democrats Votes Diff % ']/final2_df['Democrats Exp Diff']), neginf = -10, posinf = 10).round(2)\n",
    "final2_df['Republicans ROI'] = np.nan_to_num(np.where(\n",
    "    final2_df['Republicans Votes Diff % ']>0,abs(final2_df['Republicans Votes Diff % ']/final2_df['Republicans Exp Diff']),\n",
    "    final2_df['Republicans Votes Diff % ']/final2_df['Republicans Exp Diff']), neginf = -10, posinf = 10).round(2)\n",
    "final2_df"
   ]
  },
  {
   "cell_type": "code",
   "execution_count": null,
   "metadata": {},
   "outputs": [],
   "source": []
  },
  {
   "cell_type": "code",
   "execution_count": 151,
   "metadata": {
    "scrolled": false
   },
   "outputs": [
    {
     "data": {
      "application/vnd.plotly.v1+json": {
       "config": {
        "plotlyServerURL": "https://plot.ly"
       },
       "data": [
        {
         "coloraxis": "coloraxis",
         "customdata": [
          [
           -0.24,
           -4.23,
           17.33,
           16.02
          ],
          [
           1.34,
           -6.01,
           -4.48,
           -7.47
          ],
          [
           -1.57,
           -5.5,
           3.5,
           1.03
          ],
          [
           -0.09,
           -2.87,
           30.42,
           15.56
          ],
          [
           -10,
           -3.19,
           0,
           -1.5
          ],
          [
           -0.01,
           -0.11,
           10.76,
           43.95
          ],
          [
           -0.24,
           -2.53,
           10.39,
           11.4
          ],
          [
           -5.56,
           -5.28,
           0.95,
           -0.09
          ],
          [
           0.16,
           -2.13,
           -13.04,
           -9.13
          ],
          [
           -0.23,
           -3,
           13.15,
           0.08
          ],
          [
           7.64,
           -4.2,
           -0.55,
           -3.98
          ],
          [
           0.6,
           -1.99,
           -3.34,
           -1.19
          ],
          [
           0,
           -0.03,
           21.04,
           0
          ],
          [
           -0.01,
           -0.56,
           67.92,
           46.57
          ],
          [
           -0.58,
           -1.05,
           1.8,
           4.35
          ],
          [
           0.65,
           -2.8,
           -4.32,
           -3.45
          ],
          [
           0,
           -0.17,
           34.61,
           32.34
          ],
          [
           -2.42,
           -1.45,
           0.6,
           0.08
          ],
          [
           2.32,
           -3.06,
           -1.32,
           0.43
          ],
          [
           3.29,
           -48.78,
           -14.82,
           -20.17
          ],
          [
           0.63,
           -4.93,
           -7.83,
           2.41
          ],
          [
           9.43,
           -27.25,
           -2.89,
           -0.5
          ],
          [
           0.24,
           -2.88,
           -11.98,
           -21.76
          ],
          [
           -10,
           -0.7,
           0,
           0
          ],
          [
           0.26,
           -3.22,
           -12.35,
           -11.76
          ],
          [
           -1.88,
           -0.47,
           0.25,
           0
          ]
         ],
         "geo": "geo",
         "hovertemplate": "<b>%{hovertext}</b><br><br>Year=2016<br>State=%{location}<br>Republicans ROI=%{customdata[0]}<br>Republicans Votes Diff % =%{customdata[1]}<br>Republicans Exp Diff=%{z}<br>Democrats Exp Diff=%{customdata[3]}<extra></extra>",
         "hovertext": [
          "REPUBLICANS",
          "REPUBLICANS",
          "DEMOCRATS",
          "DEMOCRATS",
          "DEMOCRATS",
          "REPUBLICANS",
          "REPUBLICANS",
          "REPUBLICANS",
          "DEMOCRATS",
          "REPUBLICANS",
          "DEMOCRATS",
          "DEMOCRATS",
          "DEMOCRATS",
          "REPUBLICANS",
          "REPUBLICANS",
          "DEMOCRATS",
          "DEMOCRATS",
          "REPUBLICANS",
          "DEMOCRATS",
          null,
          "REPUBLICANS",
          "REPUBLICANS",
          "DEMOCRATS",
          "DEMOCRATS",
          "DEMOCRATS",
          "REPUBLICANS"
         ],
         "ids": [
          "AK",
          "AZ",
          "CA",
          "CO",
          "DC",
          "FL",
          "GA",
          "ID",
          "IL",
          "KS",
          "MA",
          "MD",
          "MN",
          "NC",
          "NE",
          "NM",
          "NV",
          "OK",
          "OR",
          "PR",
          "TX",
          "UT",
          "VA",
          "VT",
          "WA",
          "WY"
         ],
         "locationmode": "USA-states",
         "locations": [
          "AK",
          "AZ",
          "CA",
          "CO",
          "DC",
          "FL",
          "GA",
          "ID",
          "IL",
          "KS",
          "MA",
          "MD",
          "MN",
          "NC",
          "NE",
          "NM",
          "NV",
          "OK",
          "OR",
          "PR",
          "TX",
          "UT",
          "VA",
          "VT",
          "WA",
          "WY"
         ],
         "name": "",
         "type": "choropleth",
         "z": [
          17.33,
          -4.48,
          3.5,
          30.42,
          0,
          10.76,
          10.39,
          0.95,
          -13.04,
          13.15,
          -0.55,
          -3.34,
          21.04,
          67.92,
          1.8,
          -4.32,
          34.61,
          0.6,
          -1.32,
          -14.82,
          -7.83,
          -2.89,
          -11.98,
          0,
          -12.35,
          0.25
         ]
        }
       ],
       "frames": [
        {
         "data": [
          {
           "coloraxis": "coloraxis",
           "customdata": [
            [
             -0.24,
             -4.23,
             17.33,
             16.02
            ],
            [
             1.34,
             -6.01,
             -4.48,
             -7.47
            ],
            [
             -1.57,
             -5.5,
             3.5,
             1.03
            ],
            [
             -0.09,
             -2.87,
             30.42,
             15.56
            ],
            [
             -10,
             -3.19,
             0,
             -1.5
            ],
            [
             -0.01,
             -0.11,
             10.76,
             43.95
            ],
            [
             -0.24,
             -2.53,
             10.39,
             11.4
            ],
            [
             -5.56,
             -5.28,
             0.95,
             -0.09
            ],
            [
             0.16,
             -2.13,
             -13.04,
             -9.13
            ],
            [
             -0.23,
             -3,
             13.15,
             0.08
            ],
            [
             7.64,
             -4.2,
             -0.55,
             -3.98
            ],
            [
             0.6,
             -1.99,
             -3.34,
             -1.19
            ],
            [
             0,
             -0.03,
             21.04,
             0
            ],
            [
             -0.01,
             -0.56,
             67.92,
             46.57
            ],
            [
             -0.58,
             -1.05,
             1.8,
             4.35
            ],
            [
             0.65,
             -2.8,
             -4.32,
             -3.45
            ],
            [
             0,
             -0.17,
             34.61,
             32.34
            ],
            [
             -2.42,
             -1.45,
             0.6,
             0.08
            ],
            [
             2.32,
             -3.06,
             -1.32,
             0.43
            ],
            [
             3.29,
             -48.78,
             -14.82,
             -20.17
            ],
            [
             0.63,
             -4.93,
             -7.83,
             2.41
            ],
            [
             9.43,
             -27.25,
             -2.89,
             -0.5
            ],
            [
             0.24,
             -2.88,
             -11.98,
             -21.76
            ],
            [
             -10,
             -0.7,
             0,
             0
            ],
            [
             0.26,
             -3.22,
             -12.35,
             -11.76
            ],
            [
             -1.88,
             -0.47,
             0.25,
             0
            ]
           ],
           "geo": "geo",
           "hovertemplate": "<b>%{hovertext}</b><br><br>Year=2016<br>State=%{location}<br>Republicans ROI=%{customdata[0]}<br>Republicans Votes Diff % =%{customdata[1]}<br>Republicans Exp Diff=%{z}<br>Democrats Exp Diff=%{customdata[3]}<extra></extra>",
           "hovertext": [
            "REPUBLICANS",
            "REPUBLICANS",
            "DEMOCRATS",
            "DEMOCRATS",
            "DEMOCRATS",
            "REPUBLICANS",
            "REPUBLICANS",
            "REPUBLICANS",
            "DEMOCRATS",
            "REPUBLICANS",
            "DEMOCRATS",
            "DEMOCRATS",
            "DEMOCRATS",
            "REPUBLICANS",
            "REPUBLICANS",
            "DEMOCRATS",
            "DEMOCRATS",
            "REPUBLICANS",
            "DEMOCRATS",
            null,
            "REPUBLICANS",
            "REPUBLICANS",
            "DEMOCRATS",
            "DEMOCRATS",
            "DEMOCRATS",
            "REPUBLICANS"
           ],
           "ids": [
            "AK",
            "AZ",
            "CA",
            "CO",
            "DC",
            "FL",
            "GA",
            "ID",
            "IL",
            "KS",
            "MA",
            "MD",
            "MN",
            "NC",
            "NE",
            "NM",
            "NV",
            "OK",
            "OR",
            "PR",
            "TX",
            "UT",
            "VA",
            "VT",
            "WA",
            "WY"
           ],
           "locationmode": "USA-states",
           "locations": [
            "AK",
            "AZ",
            "CA",
            "CO",
            "DC",
            "FL",
            "GA",
            "ID",
            "IL",
            "KS",
            "MA",
            "MD",
            "MN",
            "NC",
            "NE",
            "NM",
            "NV",
            "OK",
            "OR",
            "PR",
            "TX",
            "UT",
            "VA",
            "VT",
            "WA",
            "WY"
           ],
           "name": "",
           "type": "choropleth",
           "z": [
            17.33,
            -4.48,
            3.5,
            30.42,
            0,
            10.76,
            10.39,
            0.95,
            -13.04,
            13.15,
            -0.55,
            -3.34,
            21.04,
            67.92,
            1.8,
            -4.32,
            34.61,
            0.6,
            -1.32,
            -14.82,
            -7.83,
            -2.89,
            -11.98,
            0,
            -12.35,
            0.25
           ]
          }
         ],
         "name": "2016"
        },
        {
         "data": [
          {
           "coloraxis": "coloraxis",
           "customdata": [
            [
             0.1,
             -2.04,
             -19.84,
             -16.28
            ],
            [
             0,
             -0.05,
             13.2,
             5.22
            ],
            [
             0.03,
             -1.35,
             -44.27,
             -33.4
            ],
            [
             2.15,
             -1.72,
             -0.8,
             0.01
            ],
            [
             99.5,
             -1.99,
             -0.02,
             2.09
            ],
            [
             0.19,
             -1.51,
             -7.99,
             1.37
            ],
            [
             0.1,
             -0.48,
             -4.78,
             4.87
            ],
            [
             0.04,
             -0.43,
             -9.96,
             -18.86
            ],
            [
             0.16,
             -1.17,
             -7.14,
             -2.9
            ],
            [
             -1.85,
             -1.76,
             0.95,
             0.11
            ],
            [
             -1.9,
             -0.8,
             0.42,
             -2.61
            ],
            [
             0.07,
             -0.4,
             -6.11,
             5.93
            ],
            [
             0.07,
             -0.53,
             -7.62,
             -5.6
            ],
            [
             0,
             -0.09,
             22.67,
             12.71
            ],
            [
             -1.56,
             -0.25,
             0.16,
             0
            ],
            [
             0,
             -0.06,
             23.96,
             28.01
            ],
            [
             -0.01,
             -0.19,
             19.02,
             15.77
            ],
            [
             -0.19,
             -0.41,
             2.19,
             3.6
            ]
           ],
           "geo": "geo",
           "hovertemplate": "<b>%{hovertext}</b><br><br>Year=2020<br>State=%{location}<br>Republicans ROI=%{customdata[0]}<br>Republicans Votes Diff % =%{customdata[1]}<br>Republicans Exp Diff=%{z}<br>Democrats Exp Diff=%{customdata[3]}<extra></extra>",
           "hovertext": [
            "REPUBLICANS",
            "REPUBLICANS",
            "DEMOCRATS",
            "DEMOCRATS",
            "DEMOCRATS",
            "DEMOCRATS",
            "REPUBLICANS",
            "REPUBLICANS",
            "DEMOCRATS",
            "DEMOCRATS",
            "DEMOCRATS",
            "REPUBLICANS",
            "REPUBLICANS",
            "DEMOCRATS",
            "DEMOCRATS",
            "REPUBLICANS",
            "REPUBLICANS",
            "DEMOCRATS"
           ],
           "ids": [
            "AK",
            "AL",
            "CO",
            "CT",
            "DE",
            "GA",
            "KS",
            "KY",
            "MA",
            "MD",
            "ME",
            "MS",
            "NE",
            "NJ",
            "RI",
            "TN",
            "TX",
            "VA"
           ],
           "locationmode": "USA-states",
           "locations": [
            "AK",
            "AL",
            "CO",
            "CT",
            "DE",
            "GA",
            "KS",
            "KY",
            "MA",
            "MD",
            "ME",
            "MS",
            "NE",
            "NJ",
            "RI",
            "TN",
            "TX",
            "VA"
           ],
           "name": "",
           "type": "choropleth",
           "z": [
            -19.84,
            13.2,
            -44.27,
            -0.8,
            -0.02,
            -7.99,
            -4.78,
            -9.96,
            -7.14,
            0.95,
            0.42,
            -6.11,
            -7.62,
            22.67,
            0.16,
            23.96,
            19.02,
            2.19
           ]
          }
         ],
         "name": "2020"
        }
       ],
       "layout": {
        "coloraxis": {
         "colorbar": {
          "title": {
           "text": "Republicans Exp Diff"
          }
         },
         "colorscale": [
          [
           0,
           "#0d0887"
          ],
          [
           0.1111111111111111,
           "#46039f"
          ],
          [
           0.2222222222222222,
           "#7201a8"
          ],
          [
           0.3333333333333333,
           "#9c179e"
          ],
          [
           0.4444444444444444,
           "#bd3786"
          ],
          [
           0.5555555555555556,
           "#d8576b"
          ],
          [
           0.6666666666666666,
           "#ed7953"
          ],
          [
           0.7777777777777778,
           "#fb9f3a"
          ],
          [
           0.8888888888888888,
           "#fdca26"
          ],
          [
           1,
           "#f0f921"
          ]
         ]
        },
        "geo": {
         "center": {},
         "domain": {
          "x": [
           0,
           1
          ],
          "y": [
           0,
           1
          ]
         },
         "scope": "usa"
        },
        "legend": {
         "tracegroupgap": 0
        },
        "margin": {
         "t": 60
        },
        "sliders": [
         {
          "active": 0,
          "currentvalue": {
           "prefix": "Year="
          },
          "len": 0.9,
          "pad": {
           "b": 10,
           "t": 60
          },
          "steps": [
           {
            "args": [
             [
              "2016"
             ],
             {
              "frame": {
               "duration": 0,
               "redraw": true
              },
              "fromcurrent": true,
              "mode": "immediate",
              "transition": {
               "duration": 0,
               "easing": "linear"
              }
             }
            ],
            "label": "2016",
            "method": "animate"
           },
           {
            "args": [
             [
              "2020"
             ],
             {
              "frame": {
               "duration": 0,
               "redraw": true
              },
              "fromcurrent": true,
              "mode": "immediate",
              "transition": {
               "duration": 0,
               "easing": "linear"
              }
             }
            ],
            "label": "2020",
            "method": "animate"
           }
          ],
          "x": 0.1,
          "xanchor": "left",
          "y": 0,
          "yanchor": "top"
         }
        ],
        "template": {
         "data": {
          "bar": [
           {
            "error_x": {
             "color": "#2a3f5f"
            },
            "error_y": {
             "color": "#2a3f5f"
            },
            "marker": {
             "line": {
              "color": "#E5ECF6",
              "width": 0.5
             }
            },
            "type": "bar"
           }
          ],
          "barpolar": [
           {
            "marker": {
             "line": {
              "color": "#E5ECF6",
              "width": 0.5
             }
            },
            "type": "barpolar"
           }
          ],
          "carpet": [
           {
            "aaxis": {
             "endlinecolor": "#2a3f5f",
             "gridcolor": "white",
             "linecolor": "white",
             "minorgridcolor": "white",
             "startlinecolor": "#2a3f5f"
            },
            "baxis": {
             "endlinecolor": "#2a3f5f",
             "gridcolor": "white",
             "linecolor": "white",
             "minorgridcolor": "white",
             "startlinecolor": "#2a3f5f"
            },
            "type": "carpet"
           }
          ],
          "choropleth": [
           {
            "colorbar": {
             "outlinewidth": 0,
             "ticks": ""
            },
            "type": "choropleth"
           }
          ],
          "contour": [
           {
            "colorbar": {
             "outlinewidth": 0,
             "ticks": ""
            },
            "colorscale": [
             [
              0,
              "#0d0887"
             ],
             [
              0.1111111111111111,
              "#46039f"
             ],
             [
              0.2222222222222222,
              "#7201a8"
             ],
             [
              0.3333333333333333,
              "#9c179e"
             ],
             [
              0.4444444444444444,
              "#bd3786"
             ],
             [
              0.5555555555555556,
              "#d8576b"
             ],
             [
              0.6666666666666666,
              "#ed7953"
             ],
             [
              0.7777777777777778,
              "#fb9f3a"
             ],
             [
              0.8888888888888888,
              "#fdca26"
             ],
             [
              1,
              "#f0f921"
             ]
            ],
            "type": "contour"
           }
          ],
          "contourcarpet": [
           {
            "colorbar": {
             "outlinewidth": 0,
             "ticks": ""
            },
            "type": "contourcarpet"
           }
          ],
          "heatmap": [
           {
            "colorbar": {
             "outlinewidth": 0,
             "ticks": ""
            },
            "colorscale": [
             [
              0,
              "#0d0887"
             ],
             [
              0.1111111111111111,
              "#46039f"
             ],
             [
              0.2222222222222222,
              "#7201a8"
             ],
             [
              0.3333333333333333,
              "#9c179e"
             ],
             [
              0.4444444444444444,
              "#bd3786"
             ],
             [
              0.5555555555555556,
              "#d8576b"
             ],
             [
              0.6666666666666666,
              "#ed7953"
             ],
             [
              0.7777777777777778,
              "#fb9f3a"
             ],
             [
              0.8888888888888888,
              "#fdca26"
             ],
             [
              1,
              "#f0f921"
             ]
            ],
            "type": "heatmap"
           }
          ],
          "heatmapgl": [
           {
            "colorbar": {
             "outlinewidth": 0,
             "ticks": ""
            },
            "colorscale": [
             [
              0,
              "#0d0887"
             ],
             [
              0.1111111111111111,
              "#46039f"
             ],
             [
              0.2222222222222222,
              "#7201a8"
             ],
             [
              0.3333333333333333,
              "#9c179e"
             ],
             [
              0.4444444444444444,
              "#bd3786"
             ],
             [
              0.5555555555555556,
              "#d8576b"
             ],
             [
              0.6666666666666666,
              "#ed7953"
             ],
             [
              0.7777777777777778,
              "#fb9f3a"
             ],
             [
              0.8888888888888888,
              "#fdca26"
             ],
             [
              1,
              "#f0f921"
             ]
            ],
            "type": "heatmapgl"
           }
          ],
          "histogram": [
           {
            "marker": {
             "colorbar": {
              "outlinewidth": 0,
              "ticks": ""
             }
            },
            "type": "histogram"
           }
          ],
          "histogram2d": [
           {
            "colorbar": {
             "outlinewidth": 0,
             "ticks": ""
            },
            "colorscale": [
             [
              0,
              "#0d0887"
             ],
             [
              0.1111111111111111,
              "#46039f"
             ],
             [
              0.2222222222222222,
              "#7201a8"
             ],
             [
              0.3333333333333333,
              "#9c179e"
             ],
             [
              0.4444444444444444,
              "#bd3786"
             ],
             [
              0.5555555555555556,
              "#d8576b"
             ],
             [
              0.6666666666666666,
              "#ed7953"
             ],
             [
              0.7777777777777778,
              "#fb9f3a"
             ],
             [
              0.8888888888888888,
              "#fdca26"
             ],
             [
              1,
              "#f0f921"
             ]
            ],
            "type": "histogram2d"
           }
          ],
          "histogram2dcontour": [
           {
            "colorbar": {
             "outlinewidth": 0,
             "ticks": ""
            },
            "colorscale": [
             [
              0,
              "#0d0887"
             ],
             [
              0.1111111111111111,
              "#46039f"
             ],
             [
              0.2222222222222222,
              "#7201a8"
             ],
             [
              0.3333333333333333,
              "#9c179e"
             ],
             [
              0.4444444444444444,
              "#bd3786"
             ],
             [
              0.5555555555555556,
              "#d8576b"
             ],
             [
              0.6666666666666666,
              "#ed7953"
             ],
             [
              0.7777777777777778,
              "#fb9f3a"
             ],
             [
              0.8888888888888888,
              "#fdca26"
             ],
             [
              1,
              "#f0f921"
             ]
            ],
            "type": "histogram2dcontour"
           }
          ],
          "mesh3d": [
           {
            "colorbar": {
             "outlinewidth": 0,
             "ticks": ""
            },
            "type": "mesh3d"
           }
          ],
          "parcoords": [
           {
            "line": {
             "colorbar": {
              "outlinewidth": 0,
              "ticks": ""
             }
            },
            "type": "parcoords"
           }
          ],
          "pie": [
           {
            "automargin": true,
            "type": "pie"
           }
          ],
          "scatter": [
           {
            "marker": {
             "colorbar": {
              "outlinewidth": 0,
              "ticks": ""
             }
            },
            "type": "scatter"
           }
          ],
          "scatter3d": [
           {
            "line": {
             "colorbar": {
              "outlinewidth": 0,
              "ticks": ""
             }
            },
            "marker": {
             "colorbar": {
              "outlinewidth": 0,
              "ticks": ""
             }
            },
            "type": "scatter3d"
           }
          ],
          "scattercarpet": [
           {
            "marker": {
             "colorbar": {
              "outlinewidth": 0,
              "ticks": ""
             }
            },
            "type": "scattercarpet"
           }
          ],
          "scattergeo": [
           {
            "marker": {
             "colorbar": {
              "outlinewidth": 0,
              "ticks": ""
             }
            },
            "type": "scattergeo"
           }
          ],
          "scattergl": [
           {
            "marker": {
             "colorbar": {
              "outlinewidth": 0,
              "ticks": ""
             }
            },
            "type": "scattergl"
           }
          ],
          "scattermapbox": [
           {
            "marker": {
             "colorbar": {
              "outlinewidth": 0,
              "ticks": ""
             }
            },
            "type": "scattermapbox"
           }
          ],
          "scatterpolar": [
           {
            "marker": {
             "colorbar": {
              "outlinewidth": 0,
              "ticks": ""
             }
            },
            "type": "scatterpolar"
           }
          ],
          "scatterpolargl": [
           {
            "marker": {
             "colorbar": {
              "outlinewidth": 0,
              "ticks": ""
             }
            },
            "type": "scatterpolargl"
           }
          ],
          "scatterternary": [
           {
            "marker": {
             "colorbar": {
              "outlinewidth": 0,
              "ticks": ""
             }
            },
            "type": "scatterternary"
           }
          ],
          "surface": [
           {
            "colorbar": {
             "outlinewidth": 0,
             "ticks": ""
            },
            "colorscale": [
             [
              0,
              "#0d0887"
             ],
             [
              0.1111111111111111,
              "#46039f"
             ],
             [
              0.2222222222222222,
              "#7201a8"
             ],
             [
              0.3333333333333333,
              "#9c179e"
             ],
             [
              0.4444444444444444,
              "#bd3786"
             ],
             [
              0.5555555555555556,
              "#d8576b"
             ],
             [
              0.6666666666666666,
              "#ed7953"
             ],
             [
              0.7777777777777778,
              "#fb9f3a"
             ],
             [
              0.8888888888888888,
              "#fdca26"
             ],
             [
              1,
              "#f0f921"
             ]
            ],
            "type": "surface"
           }
          ],
          "table": [
           {
            "cells": {
             "fill": {
              "color": "#EBF0F8"
             },
             "line": {
              "color": "white"
             }
            },
            "header": {
             "fill": {
              "color": "#C8D4E3"
             },
             "line": {
              "color": "white"
             }
            },
            "type": "table"
           }
          ]
         },
         "layout": {
          "annotationdefaults": {
           "arrowcolor": "#2a3f5f",
           "arrowhead": 0,
           "arrowwidth": 1
          },
          "autotypenumbers": "strict",
          "coloraxis": {
           "colorbar": {
            "outlinewidth": 0,
            "ticks": ""
           }
          },
          "colorscale": {
           "diverging": [
            [
             0,
             "#8e0152"
            ],
            [
             0.1,
             "#c51b7d"
            ],
            [
             0.2,
             "#de77ae"
            ],
            [
             0.3,
             "#f1b6da"
            ],
            [
             0.4,
             "#fde0ef"
            ],
            [
             0.5,
             "#f7f7f7"
            ],
            [
             0.6,
             "#e6f5d0"
            ],
            [
             0.7,
             "#b8e186"
            ],
            [
             0.8,
             "#7fbc41"
            ],
            [
             0.9,
             "#4d9221"
            ],
            [
             1,
             "#276419"
            ]
           ],
           "sequential": [
            [
             0,
             "#0d0887"
            ],
            [
             0.1111111111111111,
             "#46039f"
            ],
            [
             0.2222222222222222,
             "#7201a8"
            ],
            [
             0.3333333333333333,
             "#9c179e"
            ],
            [
             0.4444444444444444,
             "#bd3786"
            ],
            [
             0.5555555555555556,
             "#d8576b"
            ],
            [
             0.6666666666666666,
             "#ed7953"
            ],
            [
             0.7777777777777778,
             "#fb9f3a"
            ],
            [
             0.8888888888888888,
             "#fdca26"
            ],
            [
             1,
             "#f0f921"
            ]
           ],
           "sequentialminus": [
            [
             0,
             "#0d0887"
            ],
            [
             0.1111111111111111,
             "#46039f"
            ],
            [
             0.2222222222222222,
             "#7201a8"
            ],
            [
             0.3333333333333333,
             "#9c179e"
            ],
            [
             0.4444444444444444,
             "#bd3786"
            ],
            [
             0.5555555555555556,
             "#d8576b"
            ],
            [
             0.6666666666666666,
             "#ed7953"
            ],
            [
             0.7777777777777778,
             "#fb9f3a"
            ],
            [
             0.8888888888888888,
             "#fdca26"
            ],
            [
             1,
             "#f0f921"
            ]
           ]
          },
          "colorway": [
           "#636efa",
           "#EF553B",
           "#00cc96",
           "#ab63fa",
           "#FFA15A",
           "#19d3f3",
           "#FF6692",
           "#B6E880",
           "#FF97FF",
           "#FECB52"
          ],
          "font": {
           "color": "#2a3f5f"
          },
          "geo": {
           "bgcolor": "white",
           "lakecolor": "white",
           "landcolor": "#E5ECF6",
           "showlakes": true,
           "showland": true,
           "subunitcolor": "white"
          },
          "hoverlabel": {
           "align": "left"
          },
          "hovermode": "closest",
          "mapbox": {
           "style": "light"
          },
          "paper_bgcolor": "white",
          "plot_bgcolor": "#E5ECF6",
          "polar": {
           "angularaxis": {
            "gridcolor": "white",
            "linecolor": "white",
            "ticks": ""
           },
           "bgcolor": "#E5ECF6",
           "radialaxis": {
            "gridcolor": "white",
            "linecolor": "white",
            "ticks": ""
           }
          },
          "scene": {
           "xaxis": {
            "backgroundcolor": "#E5ECF6",
            "gridcolor": "white",
            "gridwidth": 2,
            "linecolor": "white",
            "showbackground": true,
            "ticks": "",
            "zerolinecolor": "white"
           },
           "yaxis": {
            "backgroundcolor": "#E5ECF6",
            "gridcolor": "white",
            "gridwidth": 2,
            "linecolor": "white",
            "showbackground": true,
            "ticks": "",
            "zerolinecolor": "white"
           },
           "zaxis": {
            "backgroundcolor": "#E5ECF6",
            "gridcolor": "white",
            "gridwidth": 2,
            "linecolor": "white",
            "showbackground": true,
            "ticks": "",
            "zerolinecolor": "white"
           }
          },
          "shapedefaults": {
           "line": {
            "color": "#2a3f5f"
           }
          },
          "ternary": {
           "aaxis": {
            "gridcolor": "white",
            "linecolor": "white",
            "ticks": ""
           },
           "baxis": {
            "gridcolor": "white",
            "linecolor": "white",
            "ticks": ""
           },
           "bgcolor": "#E5ECF6",
           "caxis": {
            "gridcolor": "white",
            "linecolor": "white",
            "ticks": ""
           }
          },
          "title": {
           "x": 0.05
          },
          "xaxis": {
           "automargin": true,
           "gridcolor": "white",
           "linecolor": "white",
           "ticks": "",
           "title": {
            "standoff": 15
           },
           "zerolinecolor": "white",
           "zerolinewidth": 2
          },
          "yaxis": {
           "automargin": true,
           "gridcolor": "white",
           "linecolor": "white",
           "ticks": "",
           "title": {
            "standoff": 15
           },
           "zerolinecolor": "white",
           "zerolinewidth": 2
          }
         }
        },
        "title": {
         "text": "US Republicans Vote Difference vs Expenses ($ Millions)",
         "x": 0.5,
         "xanchor": "center"
        },
        "updatemenus": [
         {
          "buttons": [
           {
            "args": [
             null,
             {
              "frame": {
               "duration": 500,
               "redraw": true
              },
              "fromcurrent": true,
              "mode": "immediate",
              "transition": {
               "duration": 500,
               "easing": "linear"
              }
             }
            ],
            "label": "&#9654;",
            "method": "animate"
           },
           {
            "args": [
             [
              null
             ],
             {
              "frame": {
               "duration": 0,
               "redraw": true
              },
              "fromcurrent": true,
              "mode": "immediate",
              "transition": {
               "duration": 0,
               "easing": "linear"
              }
             }
            ],
            "label": "&#9724;",
            "method": "animate"
           }
          ],
          "direction": "left",
          "pad": {
           "r": 10,
           "t": 70
          },
          "showactive": false,
          "type": "buttons",
          "x": 0.1,
          "xanchor": "right",
          "y": 0,
          "yanchor": "top"
         }
        ]
       }
      },
      "text/html": [
       "<div>                            <div id=\"4d54ea29-f1a1-4d00-810e-771cacd9e81e\" class=\"plotly-graph-div\" style=\"height:525px; width:100%;\"></div>            <script type=\"text/javascript\">                require([\"plotly\"], function(Plotly) {                    window.PLOTLYENV=window.PLOTLYENV || {};                                    if (document.getElementById(\"4d54ea29-f1a1-4d00-810e-771cacd9e81e\")) {                    Plotly.newPlot(                        \"4d54ea29-f1a1-4d00-810e-771cacd9e81e\",                        [{\"coloraxis\": \"coloraxis\", \"customdata\": [[-0.24, -4.23, 17.33, 16.02], [1.34, -6.01, -4.48, -7.47], [-1.57, -5.5, 3.5, 1.03], [-0.09, -2.87, 30.42, 15.56], [-10.0, -3.19, 0.0, -1.5], [-0.01, -0.11, 10.76, 43.95], [-0.24, -2.53, 10.39, 11.4], [-5.56, -5.28, 0.95, -0.09], [0.16, -2.13, -13.04, -9.13], [-0.23, -3.0, 13.15, 0.08], [7.64, -4.2, -0.55, -3.98], [0.6, -1.99, -3.34, -1.19], [-0.0, -0.03, 21.04, 0.0], [-0.01, -0.56, 67.92, 46.57], [-0.58, -1.05, 1.8, 4.35], [0.65, -2.8, -4.32, -3.45], [-0.0, -0.17, 34.61, 32.34], [-2.42, -1.45, 0.6, 0.08], [2.32, -3.06, -1.32, 0.43], [3.29, -48.78, -14.82, -20.17], [0.63, -4.93, -7.83, 2.41], [9.43, -27.25, -2.89, -0.5], [0.24, -2.88, -11.98, -21.76], [-10.0, -0.7, 0.0, 0.0], [0.26, -3.22, -12.35, -11.76], [-1.88, -0.47, 0.25, 0.0]], \"geo\": \"geo\", \"hovertemplate\": \"<b>%{hovertext}</b><br><br>Year=2016<br>State=%{location}<br>Republicans ROI=%{customdata[0]}<br>Republicans Votes Diff % =%{customdata[1]}<br>Republicans Exp Diff=%{z}<br>Democrats Exp Diff=%{customdata[3]}<extra></extra>\", \"hovertext\": [\"REPUBLICANS\", \"REPUBLICANS\", \"DEMOCRATS\", \"DEMOCRATS\", \"DEMOCRATS\", \"REPUBLICANS\", \"REPUBLICANS\", \"REPUBLICANS\", \"DEMOCRATS\", \"REPUBLICANS\", \"DEMOCRATS\", \"DEMOCRATS\", \"DEMOCRATS\", \"REPUBLICANS\", \"REPUBLICANS\", \"DEMOCRATS\", \"DEMOCRATS\", \"REPUBLICANS\", \"DEMOCRATS\", null, \"REPUBLICANS\", \"REPUBLICANS\", \"DEMOCRATS\", \"DEMOCRATS\", \"DEMOCRATS\", \"REPUBLICANS\"], \"ids\": [\"AK\", \"AZ\", \"CA\", \"CO\", \"DC\", \"FL\", \"GA\", \"ID\", \"IL\", \"KS\", \"MA\", \"MD\", \"MN\", \"NC\", \"NE\", \"NM\", \"NV\", \"OK\", \"OR\", \"PR\", \"TX\", \"UT\", \"VA\", \"VT\", \"WA\", \"WY\"], \"locationmode\": \"USA-states\", \"locations\": [\"AK\", \"AZ\", \"CA\", \"CO\", \"DC\", \"FL\", \"GA\", \"ID\", \"IL\", \"KS\", \"MA\", \"MD\", \"MN\", \"NC\", \"NE\", \"NM\", \"NV\", \"OK\", \"OR\", \"PR\", \"TX\", \"UT\", \"VA\", \"VT\", \"WA\", \"WY\"], \"name\": \"\", \"type\": \"choropleth\", \"z\": [17.33, -4.48, 3.5, 30.42, 0.0, 10.76, 10.39, 0.95, -13.04, 13.15, -0.55, -3.34, 21.04, 67.92, 1.8, -4.32, 34.61, 0.6, -1.32, -14.82, -7.83, -2.89, -11.98, 0.0, -12.35, 0.25]}],                        {\"coloraxis\": {\"colorbar\": {\"title\": {\"text\": \"Republicans Exp Diff\"}}, \"colorscale\": [[0.0, \"#0d0887\"], [0.1111111111111111, \"#46039f\"], [0.2222222222222222, \"#7201a8\"], [0.3333333333333333, \"#9c179e\"], [0.4444444444444444, \"#bd3786\"], [0.5555555555555556, \"#d8576b\"], [0.6666666666666666, \"#ed7953\"], [0.7777777777777778, \"#fb9f3a\"], [0.8888888888888888, \"#fdca26\"], [1.0, \"#f0f921\"]]}, \"geo\": {\"center\": {}, \"domain\": {\"x\": [0.0, 1.0], \"y\": [0.0, 1.0]}, \"scope\": \"usa\"}, \"legend\": {\"tracegroupgap\": 0}, \"margin\": {\"t\": 60}, \"sliders\": [{\"active\": 0, \"currentvalue\": {\"prefix\": \"Year=\"}, \"len\": 0.9, \"pad\": {\"b\": 10, \"t\": 60}, \"steps\": [{\"args\": [[\"2016\"], {\"frame\": {\"duration\": 0, \"redraw\": true}, \"fromcurrent\": true, \"mode\": \"immediate\", \"transition\": {\"duration\": 0, \"easing\": \"linear\"}}], \"label\": \"2016\", \"method\": \"animate\"}, {\"args\": [[\"2020\"], {\"frame\": {\"duration\": 0, \"redraw\": true}, \"fromcurrent\": true, \"mode\": \"immediate\", \"transition\": {\"duration\": 0, \"easing\": \"linear\"}}], \"label\": \"2020\", \"method\": \"animate\"}], \"x\": 0.1, \"xanchor\": \"left\", \"y\": 0, \"yanchor\": \"top\"}], \"template\": {\"data\": {\"bar\": [{\"error_x\": {\"color\": \"#2a3f5f\"}, \"error_y\": {\"color\": \"#2a3f5f\"}, \"marker\": {\"line\": {\"color\": \"#E5ECF6\", \"width\": 0.5}}, \"type\": \"bar\"}], \"barpolar\": [{\"marker\": {\"line\": {\"color\": \"#E5ECF6\", \"width\": 0.5}}, \"type\": \"barpolar\"}], \"carpet\": [{\"aaxis\": {\"endlinecolor\": \"#2a3f5f\", \"gridcolor\": \"white\", \"linecolor\": \"white\", \"minorgridcolor\": \"white\", \"startlinecolor\": \"#2a3f5f\"}, \"baxis\": {\"endlinecolor\": \"#2a3f5f\", \"gridcolor\": \"white\", \"linecolor\": \"white\", \"minorgridcolor\": \"white\", \"startlinecolor\": \"#2a3f5f\"}, \"type\": \"carpet\"}], \"choropleth\": [{\"colorbar\": {\"outlinewidth\": 0, \"ticks\": \"\"}, \"type\": \"choropleth\"}], \"contour\": [{\"colorbar\": {\"outlinewidth\": 0, \"ticks\": \"\"}, \"colorscale\": [[0.0, \"#0d0887\"], [0.1111111111111111, \"#46039f\"], [0.2222222222222222, \"#7201a8\"], [0.3333333333333333, \"#9c179e\"], [0.4444444444444444, \"#bd3786\"], [0.5555555555555556, \"#d8576b\"], [0.6666666666666666, \"#ed7953\"], [0.7777777777777778, \"#fb9f3a\"], [0.8888888888888888, \"#fdca26\"], [1.0, \"#f0f921\"]], \"type\": \"contour\"}], \"contourcarpet\": [{\"colorbar\": {\"outlinewidth\": 0, \"ticks\": \"\"}, \"type\": \"contourcarpet\"}], \"heatmap\": [{\"colorbar\": {\"outlinewidth\": 0, \"ticks\": \"\"}, \"colorscale\": [[0.0, \"#0d0887\"], [0.1111111111111111, \"#46039f\"], [0.2222222222222222, \"#7201a8\"], [0.3333333333333333, \"#9c179e\"], [0.4444444444444444, \"#bd3786\"], [0.5555555555555556, \"#d8576b\"], [0.6666666666666666, \"#ed7953\"], [0.7777777777777778, \"#fb9f3a\"], [0.8888888888888888, \"#fdca26\"], [1.0, \"#f0f921\"]], \"type\": \"heatmap\"}], \"heatmapgl\": [{\"colorbar\": {\"outlinewidth\": 0, \"ticks\": \"\"}, \"colorscale\": [[0.0, \"#0d0887\"], [0.1111111111111111, \"#46039f\"], [0.2222222222222222, \"#7201a8\"], [0.3333333333333333, \"#9c179e\"], [0.4444444444444444, \"#bd3786\"], [0.5555555555555556, \"#d8576b\"], [0.6666666666666666, \"#ed7953\"], [0.7777777777777778, \"#fb9f3a\"], [0.8888888888888888, \"#fdca26\"], [1.0, \"#f0f921\"]], \"type\": \"heatmapgl\"}], \"histogram\": [{\"marker\": {\"colorbar\": {\"outlinewidth\": 0, \"ticks\": \"\"}}, \"type\": \"histogram\"}], \"histogram2d\": [{\"colorbar\": {\"outlinewidth\": 0, \"ticks\": \"\"}, \"colorscale\": [[0.0, \"#0d0887\"], [0.1111111111111111, \"#46039f\"], [0.2222222222222222, \"#7201a8\"], [0.3333333333333333, \"#9c179e\"], [0.4444444444444444, \"#bd3786\"], [0.5555555555555556, \"#d8576b\"], [0.6666666666666666, \"#ed7953\"], [0.7777777777777778, \"#fb9f3a\"], [0.8888888888888888, \"#fdca26\"], [1.0, \"#f0f921\"]], \"type\": \"histogram2d\"}], \"histogram2dcontour\": [{\"colorbar\": {\"outlinewidth\": 0, \"ticks\": \"\"}, \"colorscale\": [[0.0, \"#0d0887\"], [0.1111111111111111, \"#46039f\"], [0.2222222222222222, \"#7201a8\"], [0.3333333333333333, \"#9c179e\"], [0.4444444444444444, \"#bd3786\"], [0.5555555555555556, \"#d8576b\"], [0.6666666666666666, \"#ed7953\"], [0.7777777777777778, \"#fb9f3a\"], [0.8888888888888888, \"#fdca26\"], [1.0, \"#f0f921\"]], \"type\": \"histogram2dcontour\"}], \"mesh3d\": [{\"colorbar\": {\"outlinewidth\": 0, \"ticks\": \"\"}, \"type\": \"mesh3d\"}], \"parcoords\": [{\"line\": {\"colorbar\": {\"outlinewidth\": 0, \"ticks\": \"\"}}, \"type\": \"parcoords\"}], \"pie\": [{\"automargin\": true, \"type\": \"pie\"}], \"scatter\": [{\"marker\": {\"colorbar\": {\"outlinewidth\": 0, \"ticks\": \"\"}}, \"type\": \"scatter\"}], \"scatter3d\": [{\"line\": {\"colorbar\": {\"outlinewidth\": 0, \"ticks\": \"\"}}, \"marker\": {\"colorbar\": {\"outlinewidth\": 0, \"ticks\": \"\"}}, \"type\": \"scatter3d\"}], \"scattercarpet\": [{\"marker\": {\"colorbar\": {\"outlinewidth\": 0, \"ticks\": \"\"}}, \"type\": \"scattercarpet\"}], \"scattergeo\": [{\"marker\": {\"colorbar\": {\"outlinewidth\": 0, \"ticks\": \"\"}}, \"type\": \"scattergeo\"}], \"scattergl\": [{\"marker\": {\"colorbar\": {\"outlinewidth\": 0, \"ticks\": \"\"}}, \"type\": \"scattergl\"}], \"scattermapbox\": [{\"marker\": {\"colorbar\": {\"outlinewidth\": 0, \"ticks\": \"\"}}, \"type\": \"scattermapbox\"}], \"scatterpolar\": [{\"marker\": {\"colorbar\": {\"outlinewidth\": 0, \"ticks\": \"\"}}, \"type\": \"scatterpolar\"}], \"scatterpolargl\": [{\"marker\": {\"colorbar\": {\"outlinewidth\": 0, \"ticks\": \"\"}}, \"type\": \"scatterpolargl\"}], \"scatterternary\": [{\"marker\": {\"colorbar\": {\"outlinewidth\": 0, \"ticks\": \"\"}}, \"type\": \"scatterternary\"}], \"surface\": [{\"colorbar\": {\"outlinewidth\": 0, \"ticks\": \"\"}, \"colorscale\": [[0.0, \"#0d0887\"], [0.1111111111111111, \"#46039f\"], [0.2222222222222222, \"#7201a8\"], [0.3333333333333333, \"#9c179e\"], [0.4444444444444444, \"#bd3786\"], [0.5555555555555556, \"#d8576b\"], [0.6666666666666666, \"#ed7953\"], [0.7777777777777778, \"#fb9f3a\"], [0.8888888888888888, \"#fdca26\"], [1.0, \"#f0f921\"]], \"type\": \"surface\"}], \"table\": [{\"cells\": {\"fill\": {\"color\": \"#EBF0F8\"}, \"line\": {\"color\": \"white\"}}, \"header\": {\"fill\": {\"color\": \"#C8D4E3\"}, \"line\": {\"color\": \"white\"}}, \"type\": \"table\"}]}, \"layout\": {\"annotationdefaults\": {\"arrowcolor\": \"#2a3f5f\", \"arrowhead\": 0, \"arrowwidth\": 1}, \"autotypenumbers\": \"strict\", \"coloraxis\": {\"colorbar\": {\"outlinewidth\": 0, \"ticks\": \"\"}}, \"colorscale\": {\"diverging\": [[0, \"#8e0152\"], [0.1, \"#c51b7d\"], [0.2, \"#de77ae\"], [0.3, \"#f1b6da\"], [0.4, \"#fde0ef\"], [0.5, \"#f7f7f7\"], [0.6, \"#e6f5d0\"], [0.7, \"#b8e186\"], [0.8, \"#7fbc41\"], [0.9, \"#4d9221\"], [1, \"#276419\"]], \"sequential\": [[0.0, \"#0d0887\"], [0.1111111111111111, \"#46039f\"], [0.2222222222222222, \"#7201a8\"], [0.3333333333333333, \"#9c179e\"], [0.4444444444444444, \"#bd3786\"], [0.5555555555555556, \"#d8576b\"], [0.6666666666666666, \"#ed7953\"], [0.7777777777777778, \"#fb9f3a\"], [0.8888888888888888, \"#fdca26\"], [1.0, \"#f0f921\"]], \"sequentialminus\": [[0.0, \"#0d0887\"], [0.1111111111111111, \"#46039f\"], [0.2222222222222222, \"#7201a8\"], [0.3333333333333333, \"#9c179e\"], [0.4444444444444444, \"#bd3786\"], [0.5555555555555556, \"#d8576b\"], [0.6666666666666666, \"#ed7953\"], [0.7777777777777778, \"#fb9f3a\"], [0.8888888888888888, \"#fdca26\"], [1.0, \"#f0f921\"]]}, \"colorway\": [\"#636efa\", \"#EF553B\", \"#00cc96\", \"#ab63fa\", \"#FFA15A\", \"#19d3f3\", \"#FF6692\", \"#B6E880\", \"#FF97FF\", \"#FECB52\"], \"font\": {\"color\": \"#2a3f5f\"}, \"geo\": {\"bgcolor\": \"white\", \"lakecolor\": \"white\", \"landcolor\": \"#E5ECF6\", \"showlakes\": true, \"showland\": true, \"subunitcolor\": \"white\"}, \"hoverlabel\": {\"align\": \"left\"}, \"hovermode\": \"closest\", \"mapbox\": {\"style\": \"light\"}, \"paper_bgcolor\": \"white\", \"plot_bgcolor\": \"#E5ECF6\", \"polar\": {\"angularaxis\": {\"gridcolor\": \"white\", \"linecolor\": \"white\", \"ticks\": \"\"}, \"bgcolor\": \"#E5ECF6\", \"radialaxis\": {\"gridcolor\": \"white\", \"linecolor\": \"white\", \"ticks\": \"\"}}, \"scene\": {\"xaxis\": {\"backgroundcolor\": \"#E5ECF6\", \"gridcolor\": \"white\", \"gridwidth\": 2, \"linecolor\": \"white\", \"showbackground\": true, \"ticks\": \"\", \"zerolinecolor\": \"white\"}, \"yaxis\": {\"backgroundcolor\": \"#E5ECF6\", \"gridcolor\": \"white\", \"gridwidth\": 2, \"linecolor\": \"white\", \"showbackground\": true, \"ticks\": \"\", \"zerolinecolor\": \"white\"}, \"zaxis\": {\"backgroundcolor\": \"#E5ECF6\", \"gridcolor\": \"white\", \"gridwidth\": 2, \"linecolor\": \"white\", \"showbackground\": true, \"ticks\": \"\", \"zerolinecolor\": \"white\"}}, \"shapedefaults\": {\"line\": {\"color\": \"#2a3f5f\"}}, \"ternary\": {\"aaxis\": {\"gridcolor\": \"white\", \"linecolor\": \"white\", \"ticks\": \"\"}, \"baxis\": {\"gridcolor\": \"white\", \"linecolor\": \"white\", \"ticks\": \"\"}, \"bgcolor\": \"#E5ECF6\", \"caxis\": {\"gridcolor\": \"white\", \"linecolor\": \"white\", \"ticks\": \"\"}}, \"title\": {\"x\": 0.05}, \"xaxis\": {\"automargin\": true, \"gridcolor\": \"white\", \"linecolor\": \"white\", \"ticks\": \"\", \"title\": {\"standoff\": 15}, \"zerolinecolor\": \"white\", \"zerolinewidth\": 2}, \"yaxis\": {\"automargin\": true, \"gridcolor\": \"white\", \"linecolor\": \"white\", \"ticks\": \"\", \"title\": {\"standoff\": 15}, \"zerolinecolor\": \"white\", \"zerolinewidth\": 2}}}, \"title\": {\"text\": \"US Republicans Vote Difference vs Expenses ($ Millions)\", \"x\": 0.5, \"xanchor\": \"center\"}, \"updatemenus\": [{\"buttons\": [{\"args\": [null, {\"frame\": {\"duration\": 500, \"redraw\": true}, \"fromcurrent\": true, \"mode\": \"immediate\", \"transition\": {\"duration\": 500, \"easing\": \"linear\"}}], \"label\": \"&#9654;\", \"method\": \"animate\"}, {\"args\": [[null], {\"frame\": {\"duration\": 0, \"redraw\": true}, \"fromcurrent\": true, \"mode\": \"immediate\", \"transition\": {\"duration\": 0, \"easing\": \"linear\"}}], \"label\": \"&#9724;\", \"method\": \"animate\"}], \"direction\": \"left\", \"pad\": {\"r\": 10, \"t\": 70}, \"showactive\": false, \"type\": \"buttons\", \"x\": 0.1, \"xanchor\": \"right\", \"y\": 0, \"yanchor\": \"top\"}]},                        {\"responsive\": true}                    ).then(function(){\n",
       "                            Plotly.addFrames('4d54ea29-f1a1-4d00-810e-771cacd9e81e', [{\"data\": [{\"coloraxis\": \"coloraxis\", \"customdata\": [[-0.24, -4.23, 17.33, 16.02], [1.34, -6.01, -4.48, -7.47], [-1.57, -5.5, 3.5, 1.03], [-0.09, -2.87, 30.42, 15.56], [-10.0, -3.19, 0.0, -1.5], [-0.01, -0.11, 10.76, 43.95], [-0.24, -2.53, 10.39, 11.4], [-5.56, -5.28, 0.95, -0.09], [0.16, -2.13, -13.04, -9.13], [-0.23, -3.0, 13.15, 0.08], [7.64, -4.2, -0.55, -3.98], [0.6, -1.99, -3.34, -1.19], [-0.0, -0.03, 21.04, 0.0], [-0.01, -0.56, 67.92, 46.57], [-0.58, -1.05, 1.8, 4.35], [0.65, -2.8, -4.32, -3.45], [-0.0, -0.17, 34.61, 32.34], [-2.42, -1.45, 0.6, 0.08], [2.32, -3.06, -1.32, 0.43], [3.29, -48.78, -14.82, -20.17], [0.63, -4.93, -7.83, 2.41], [9.43, -27.25, -2.89, -0.5], [0.24, -2.88, -11.98, -21.76], [-10.0, -0.7, 0.0, 0.0], [0.26, -3.22, -12.35, -11.76], [-1.88, -0.47, 0.25, 0.0]], \"geo\": \"geo\", \"hovertemplate\": \"<b>%{hovertext}</b><br><br>Year=2016<br>State=%{location}<br>Republicans ROI=%{customdata[0]}<br>Republicans Votes Diff % =%{customdata[1]}<br>Republicans Exp Diff=%{z}<br>Democrats Exp Diff=%{customdata[3]}<extra></extra>\", \"hovertext\": [\"REPUBLICANS\", \"REPUBLICANS\", \"DEMOCRATS\", \"DEMOCRATS\", \"DEMOCRATS\", \"REPUBLICANS\", \"REPUBLICANS\", \"REPUBLICANS\", \"DEMOCRATS\", \"REPUBLICANS\", \"DEMOCRATS\", \"DEMOCRATS\", \"DEMOCRATS\", \"REPUBLICANS\", \"REPUBLICANS\", \"DEMOCRATS\", \"DEMOCRATS\", \"REPUBLICANS\", \"DEMOCRATS\", null, \"REPUBLICANS\", \"REPUBLICANS\", \"DEMOCRATS\", \"DEMOCRATS\", \"DEMOCRATS\", \"REPUBLICANS\"], \"ids\": [\"AK\", \"AZ\", \"CA\", \"CO\", \"DC\", \"FL\", \"GA\", \"ID\", \"IL\", \"KS\", \"MA\", \"MD\", \"MN\", \"NC\", \"NE\", \"NM\", \"NV\", \"OK\", \"OR\", \"PR\", \"TX\", \"UT\", \"VA\", \"VT\", \"WA\", \"WY\"], \"locationmode\": \"USA-states\", \"locations\": [\"AK\", \"AZ\", \"CA\", \"CO\", \"DC\", \"FL\", \"GA\", \"ID\", \"IL\", \"KS\", \"MA\", \"MD\", \"MN\", \"NC\", \"NE\", \"NM\", \"NV\", \"OK\", \"OR\", \"PR\", \"TX\", \"UT\", \"VA\", \"VT\", \"WA\", \"WY\"], \"name\": \"\", \"z\": [17.33, -4.48, 3.5, 30.42, 0.0, 10.76, 10.39, 0.95, -13.04, 13.15, -0.55, -3.34, 21.04, 67.92, 1.8, -4.32, 34.61, 0.6, -1.32, -14.82, -7.83, -2.89, -11.98, 0.0, -12.35, 0.25], \"type\": \"choropleth\"}], \"name\": \"2016\"}, {\"data\": [{\"coloraxis\": \"coloraxis\", \"customdata\": [[0.1, -2.04, -19.84, -16.28], [-0.0, -0.05, 13.2, 5.22], [0.03, -1.35, -44.27, -33.4], [2.15, -1.72, -0.8, 0.01], [99.5, -1.99, -0.02, 2.09], [0.19, -1.51, -7.99, 1.37], [0.1, -0.48, -4.78, 4.87], [0.04, -0.43, -9.96, -18.86], [0.16, -1.17, -7.14, -2.9], [-1.85, -1.76, 0.95, 0.11], [-1.9, -0.8, 0.42, -2.61], [0.07, -0.4, -6.11, 5.93], [0.07, -0.53, -7.62, -5.6], [-0.0, -0.09, 22.67, 12.71], [-1.56, -0.25, 0.16, 0.0], [-0.0, -0.06, 23.96, 28.01], [-0.01, -0.19, 19.02, 15.77], [-0.19, -0.41, 2.19, 3.6]], \"geo\": \"geo\", \"hovertemplate\": \"<b>%{hovertext}</b><br><br>Year=2020<br>State=%{location}<br>Republicans ROI=%{customdata[0]}<br>Republicans Votes Diff % =%{customdata[1]}<br>Republicans Exp Diff=%{z}<br>Democrats Exp Diff=%{customdata[3]}<extra></extra>\", \"hovertext\": [\"REPUBLICANS\", \"REPUBLICANS\", \"DEMOCRATS\", \"DEMOCRATS\", \"DEMOCRATS\", \"DEMOCRATS\", \"REPUBLICANS\", \"REPUBLICANS\", \"DEMOCRATS\", \"DEMOCRATS\", \"DEMOCRATS\", \"REPUBLICANS\", \"REPUBLICANS\", \"DEMOCRATS\", \"DEMOCRATS\", \"REPUBLICANS\", \"REPUBLICANS\", \"DEMOCRATS\"], \"ids\": [\"AK\", \"AL\", \"CO\", \"CT\", \"DE\", \"GA\", \"KS\", \"KY\", \"MA\", \"MD\", \"ME\", \"MS\", \"NE\", \"NJ\", \"RI\", \"TN\", \"TX\", \"VA\"], \"locationmode\": \"USA-states\", \"locations\": [\"AK\", \"AL\", \"CO\", \"CT\", \"DE\", \"GA\", \"KS\", \"KY\", \"MA\", \"MD\", \"ME\", \"MS\", \"NE\", \"NJ\", \"RI\", \"TN\", \"TX\", \"VA\"], \"name\": \"\", \"z\": [-19.84, 13.2, -44.27, -0.8, -0.02, -7.99, -4.78, -9.96, -7.14, 0.95, 0.42, -6.11, -7.62, 22.67, 0.16, 23.96, 19.02, 2.19], \"type\": \"choropleth\"}], \"name\": \"2020\"}]);\n",
       "                        }).then(function(){\n",
       "                            \n",
       "var gd = document.getElementById('4d54ea29-f1a1-4d00-810e-771cacd9e81e');\n",
       "var x = new MutationObserver(function (mutations, observer) {{\n",
       "        var display = window.getComputedStyle(gd).display;\n",
       "        if (!display || display === 'none') {{\n",
       "            console.log([gd, 'removed!']);\n",
       "            Plotly.purge(gd);\n",
       "            observer.disconnect();\n",
       "        }}\n",
       "}});\n",
       "\n",
       "// Listen for the removal of the full notebook cells\n",
       "var notebookContainer = gd.closest('#notebook-container');\n",
       "if (notebookContainer) {{\n",
       "    x.observe(notebookContainer, {childList: true});\n",
       "}}\n",
       "\n",
       "// Listen for the clearing of the current output cell\n",
       "var outputEl = gd.closest('.output');\n",
       "if (outputEl) {{\n",
       "    x.observe(outputEl, {childList: true});\n",
       "}}\n",
       "\n",
       "                        })                };                });            </script>        </div>"
      ]
     },
     "metadata": {},
     "output_type": "display_data"
    }
   ],
   "source": [
    "fig = px.choropleth(final2_df[(final2_df['Republicans Votes Diff % ']<0) & (final2_df['State']!='NH')], locations= 'State',\n",
    "              locationmode='USA-states',\n",
    "                    hover_name= 'Winner',\n",
    "              hover_data = ['Republicans ROI','Republicans Votes Diff % ', \"Republicans Exp Diff\",\n",
    "                        \"Democrats Exp Diff\"],\n",
    "              scope = 'usa',\n",
    "              animation_frame='Year',\n",
    "              animation_group='State',\n",
    "              color = \"Republicans Exp Diff\")\n",
    "fig.update_layout(title={'text' : f'US Republicans Vote Difference vs Expenses ($ Millions)','x':0.5, 'xanchor': 'center'})\n",
    "fig.show()"
   ]
  },
  {
   "cell_type": "code",
   "execution_count": 162,
   "metadata": {},
   "outputs": [
    {
     "data": {
      "application/vnd.plotly.v1+json": {
       "config": {
        "plotlyServerURL": "https://plot.ly"
       },
       "data": [
        {
         "coloraxis": "coloraxis",
         "customdata": [
          [
           0.19,
           3.16,
           -19.84,
           -16.28
          ],
          [
           0.42,
           2.21,
           13.2,
           5.22
          ],
          [
           0.07,
           1.1,
           -23.03,
           -16.37
          ],
          [
           0.21,
           5.19,
           12.08,
           24.4
          ],
          [
           0.22,
           1.77,
           16.21,
           -7.87
          ],
          [
           0.22,
           7.24,
           -44.27,
           -33.4
          ],
          [
           467,
           4.67,
           -0.8,
           0.01
          ],
          [
           10,
           1.29,
           942.12,
           0
          ],
          [
           2.68,
           5.6,
           -0.02,
           2.09
          ],
          [
           0.01,
           0.04,
           -15.52,
           4.59
          ],
          [
           2.82,
           3.86,
           -7.99,
           1.37
          ],
          [
           0.81,
           1.51,
           -0.25,
           -1.87
          ],
          [
           0.11,
           3.15,
           -83.99,
           -29.36
          ],
          [
           10,
           5.58,
           -0.75,
           0
          ],
          [
           0.15,
           1.89,
           -11.48,
           -12.33
          ],
          [
           0.09,
           3.19,
           -3.47,
           33.93
          ],
          [
           1.1,
           5.34,
           -4.78,
           4.87
          ],
          [
           0.18,
           3.47,
           -9.96,
           -18.86
          ],
          [
           0.11,
           1.4,
           -19.31,
           -12.68
          ],
          [
           1.61,
           4.67,
           -7.14,
           -2.9
          ],
          [
           45.73,
           5.03,
           0.95,
           0.11
          ],
          [
           2,
           5.22,
           0.42,
           -2.61
          ],
          [
           0.88,
           3.35,
           -11.19,
           3.81
          ],
          [
           0.54,
           5.95,
           -11.84,
           10.97
          ],
          [
           0.07,
           3.26,
           14.16,
           45.11
          ],
          [
           0.15,
           0.9,
           -6.11,
           5.93
          ],
          [
           0.19,
           4.66,
           17.25,
           24.57
          ],
          [
           0.05,
           2.41,
           -70.63,
           -48.97
          ],
          [
           0.47,
           4.53,
           5.95,
           9.55
          ],
          [
           0.98,
           5.47,
           -7.62,
           -5.6
          ],
          [
           0.12,
           6,
           -124.13,
           -50.33
          ],
          [
           0.13,
           1.69,
           22.67,
           12.71
          ],
          [
           1.31,
           6.03,
           0.05,
           4.61
          ],
          [
           0.08,
           2.14,
           -23.71,
           -26.89
          ],
          [
           0.36,
           1.86,
           -12.68,
           -5.13
          ],
          [
           0.08,
           1.68,
           -15.58,
           -21.84
          ],
          [
           9.57,
           3.35,
           -1.95,
           0.35
          ],
          [
           2.89,
           6.38,
           -2.43,
           -2.21
          ],
          [
           0.04,
           2.11,
           -57.91,
           -49.37
          ],
          [
           10,
           4.94,
           0.16,
           0
          ],
          [
           2.85,
           2.76,
           -15.39,
           -0.97
          ],
          [
           1.94,
           3.87,
           -1.88,
           -2
          ],
          [
           0.1,
           2.74,
           23.96,
           28.01
          ],
          [
           0.2,
           3.23,
           19.02,
           15.77
          ],
          [
           127.37,
           10.19,
           0.57,
           0.08
          ],
          [
           1.22,
           4.38,
           2.19,
           3.6
          ],
          [
           117.62,
           9.41,
           0,
           0.08
          ],
          [
           0.41,
           3.67,
           9.27,
           8.85
          ],
          [
           0.24,
           3.02,
           -3.72,
           12.84
          ],
          [
           0.26,
           3.22,
           12.19,
           12.38
          ],
          [
           10,
           4.68,
           -0.18,
           0
          ]
         ],
         "geo": "geo",
         "hovertemplate": "<b>%{hovertext}</b><br><br>Year=2020<br>State=%{location}<br>Democrats ROI=%{customdata[0]}<br>Democrats Votes Diff % =%{customdata[1]}<br>Republicans Exp Diff=%{customdata[2]}<br>Democrats Exp Diff=%{z}<extra></extra>",
         "hovertext": [
          "REPUBLICANS",
          "REPUBLICANS",
          "REPUBLICANS",
          "DEMOCRATS",
          "DEMOCRATS",
          "DEMOCRATS",
          "DEMOCRATS",
          "DEMOCRATS",
          "DEMOCRATS",
          "REPUBLICANS",
          "DEMOCRATS",
          "DEMOCRATS",
          "REPUBLICANS",
          "REPUBLICANS",
          "DEMOCRATS",
          "REPUBLICANS",
          "REPUBLICANS",
          "REPUBLICANS",
          "REPUBLICANS",
          "DEMOCRATS",
          "DEMOCRATS",
          "DEMOCRATS",
          "DEMOCRATS",
          "DEMOCRATS",
          "REPUBLICANS",
          "REPUBLICANS",
          "REPUBLICANS",
          "REPUBLICANS",
          "REPUBLICANS",
          "REPUBLICANS",
          "DEMOCRATS",
          "DEMOCRATS",
          "DEMOCRATS",
          "DEMOCRATS",
          "DEMOCRATS",
          "REPUBLICANS",
          "REPUBLICANS",
          "DEMOCRATS",
          "DEMOCRATS",
          "DEMOCRATS",
          "REPUBLICANS",
          "REPUBLICANS",
          "REPUBLICANS",
          "REPUBLICANS",
          "REPUBLICANS",
          "DEMOCRATS",
          "DEMOCRATS",
          "DEMOCRATS",
          "DEMOCRATS",
          "REPUBLICANS",
          "REPUBLICANS"
         ],
         "ids": [
          "AK",
          "AL",
          "AR",
          "AZ",
          "CA",
          "CO",
          "CT",
          "DC",
          "DE",
          "FL",
          "GA",
          "HI",
          "IA",
          "ID",
          "IL",
          "IN",
          "KS",
          "KY",
          "LA",
          "MA",
          "MD",
          "ME",
          "MI",
          "MN",
          "MO",
          "MS",
          "MT",
          "NC",
          "ND",
          "NE",
          "NH",
          "NJ",
          "NM",
          "NV",
          "NY",
          "OH",
          "OK",
          "OR",
          "PA",
          "RI",
          "SC",
          "SD",
          "TN",
          "TX",
          "UT",
          "VA",
          "VT",
          "WA",
          "WI",
          "WV",
          "WY"
         ],
         "locationmode": "USA-states",
         "locations": [
          "AK",
          "AL",
          "AR",
          "AZ",
          "CA",
          "CO",
          "CT",
          "DC",
          "DE",
          "FL",
          "GA",
          "HI",
          "IA",
          "ID",
          "IL",
          "IN",
          "KS",
          "KY",
          "LA",
          "MA",
          "MD",
          "ME",
          "MI",
          "MN",
          "MO",
          "MS",
          "MT",
          "NC",
          "ND",
          "NE",
          "NH",
          "NJ",
          "NM",
          "NV",
          "NY",
          "OH",
          "OK",
          "OR",
          "PA",
          "RI",
          "SC",
          "SD",
          "TN",
          "TX",
          "UT",
          "VA",
          "VT",
          "WA",
          "WI",
          "WV",
          "WY"
         ],
         "name": "",
         "type": "choropleth",
         "z": [
          -16.28,
          5.22,
          -16.37,
          24.4,
          -7.87,
          -33.4,
          0.01,
          0,
          2.09,
          4.59,
          1.37,
          -1.87,
          -29.36,
          0,
          -12.33,
          33.93,
          4.87,
          -18.86,
          -12.68,
          -2.9,
          0.11,
          -2.61,
          3.81,
          10.97,
          45.11,
          5.93,
          24.57,
          -48.97,
          9.55,
          -5.6,
          -50.33,
          12.71,
          4.61,
          -26.89,
          -5.13,
          -21.84,
          0.35,
          -2.21,
          -49.37,
          0,
          -0.97,
          -2,
          28.01,
          15.77,
          0.08,
          3.6,
          0.08,
          8.85,
          12.84,
          12.38,
          0
         ]
        }
       ],
       "frames": [
        {
         "data": [
          {
           "coloraxis": "coloraxis",
           "customdata": [
            [
             0.19,
             3.16,
             -19.84,
             -16.28
            ],
            [
             0.42,
             2.21,
             13.2,
             5.22
            ],
            [
             0.07,
             1.1,
             -23.03,
             -16.37
            ],
            [
             0.21,
             5.19,
             12.08,
             24.4
            ],
            [
             0.22,
             1.77,
             16.21,
             -7.87
            ],
            [
             0.22,
             7.24,
             -44.27,
             -33.4
            ],
            [
             467,
             4.67,
             -0.8,
             0.01
            ],
            [
             10,
             1.29,
             942.12,
             0
            ],
            [
             2.68,
             5.6,
             -0.02,
             2.09
            ],
            [
             0.01,
             0.04,
             -15.52,
             4.59
            ],
            [
             2.82,
             3.86,
             -7.99,
             1.37
            ],
            [
             0.81,
             1.51,
             -0.25,
             -1.87
            ],
            [
             0.11,
             3.15,
             -83.99,
             -29.36
            ],
            [
             10,
             5.58,
             -0.75,
             0
            ],
            [
             0.15,
             1.89,
             -11.48,
             -12.33
            ],
            [
             0.09,
             3.19,
             -3.47,
             33.93
            ],
            [
             1.1,
             5.34,
             -4.78,
             4.87
            ],
            [
             0.18,
             3.47,
             -9.96,
             -18.86
            ],
            [
             0.11,
             1.4,
             -19.31,
             -12.68
            ],
            [
             1.61,
             4.67,
             -7.14,
             -2.9
            ],
            [
             45.73,
             5.03,
             0.95,
             0.11
            ],
            [
             2,
             5.22,
             0.42,
             -2.61
            ],
            [
             0.88,
             3.35,
             -11.19,
             3.81
            ],
            [
             0.54,
             5.95,
             -11.84,
             10.97
            ],
            [
             0.07,
             3.26,
             14.16,
             45.11
            ],
            [
             0.15,
             0.9,
             -6.11,
             5.93
            ],
            [
             0.19,
             4.66,
             17.25,
             24.57
            ],
            [
             0.05,
             2.41,
             -70.63,
             -48.97
            ],
            [
             0.47,
             4.53,
             5.95,
             9.55
            ],
            [
             0.98,
             5.47,
             -7.62,
             -5.6
            ],
            [
             0.12,
             6,
             -124.13,
             -50.33
            ],
            [
             0.13,
             1.69,
             22.67,
             12.71
            ],
            [
             1.31,
             6.03,
             0.05,
             4.61
            ],
            [
             0.08,
             2.14,
             -23.71,
             -26.89
            ],
            [
             0.36,
             1.86,
             -12.68,
             -5.13
            ],
            [
             0.08,
             1.68,
             -15.58,
             -21.84
            ],
            [
             9.57,
             3.35,
             -1.95,
             0.35
            ],
            [
             2.89,
             6.38,
             -2.43,
             -2.21
            ],
            [
             0.04,
             2.11,
             -57.91,
             -49.37
            ],
            [
             10,
             4.94,
             0.16,
             0
            ],
            [
             2.85,
             2.76,
             -15.39,
             -0.97
            ],
            [
             1.94,
             3.87,
             -1.88,
             -2
            ],
            [
             0.1,
             2.74,
             23.96,
             28.01
            ],
            [
             0.2,
             3.23,
             19.02,
             15.77
            ],
            [
             127.37,
             10.19,
             0.57,
             0.08
            ],
            [
             1.22,
             4.38,
             2.19,
             3.6
            ],
            [
             117.62,
             9.41,
             0,
             0.08
            ],
            [
             0.41,
             3.67,
             9.27,
             8.85
            ],
            [
             0.24,
             3.02,
             -3.72,
             12.84
            ],
            [
             0.26,
             3.22,
             12.19,
             12.38
            ],
            [
             10,
             4.68,
             -0.18,
             0
            ]
           ],
           "geo": "geo",
           "hovertemplate": "<b>%{hovertext}</b><br><br>Year=2020<br>State=%{location}<br>Democrats ROI=%{customdata[0]}<br>Democrats Votes Diff % =%{customdata[1]}<br>Republicans Exp Diff=%{customdata[2]}<br>Democrats Exp Diff=%{z}<extra></extra>",
           "hovertext": [
            "REPUBLICANS",
            "REPUBLICANS",
            "REPUBLICANS",
            "DEMOCRATS",
            "DEMOCRATS",
            "DEMOCRATS",
            "DEMOCRATS",
            "DEMOCRATS",
            "DEMOCRATS",
            "REPUBLICANS",
            "DEMOCRATS",
            "DEMOCRATS",
            "REPUBLICANS",
            "REPUBLICANS",
            "DEMOCRATS",
            "REPUBLICANS",
            "REPUBLICANS",
            "REPUBLICANS",
            "REPUBLICANS",
            "DEMOCRATS",
            "DEMOCRATS",
            "DEMOCRATS",
            "DEMOCRATS",
            "DEMOCRATS",
            "REPUBLICANS",
            "REPUBLICANS",
            "REPUBLICANS",
            "REPUBLICANS",
            "REPUBLICANS",
            "REPUBLICANS",
            "DEMOCRATS",
            "DEMOCRATS",
            "DEMOCRATS",
            "DEMOCRATS",
            "DEMOCRATS",
            "REPUBLICANS",
            "REPUBLICANS",
            "DEMOCRATS",
            "DEMOCRATS",
            "DEMOCRATS",
            "REPUBLICANS",
            "REPUBLICANS",
            "REPUBLICANS",
            "REPUBLICANS",
            "REPUBLICANS",
            "DEMOCRATS",
            "DEMOCRATS",
            "DEMOCRATS",
            "DEMOCRATS",
            "REPUBLICANS",
            "REPUBLICANS"
           ],
           "ids": [
            "AK",
            "AL",
            "AR",
            "AZ",
            "CA",
            "CO",
            "CT",
            "DC",
            "DE",
            "FL",
            "GA",
            "HI",
            "IA",
            "ID",
            "IL",
            "IN",
            "KS",
            "KY",
            "LA",
            "MA",
            "MD",
            "ME",
            "MI",
            "MN",
            "MO",
            "MS",
            "MT",
            "NC",
            "ND",
            "NE",
            "NH",
            "NJ",
            "NM",
            "NV",
            "NY",
            "OH",
            "OK",
            "OR",
            "PA",
            "RI",
            "SC",
            "SD",
            "TN",
            "TX",
            "UT",
            "VA",
            "VT",
            "WA",
            "WI",
            "WV",
            "WY"
           ],
           "locationmode": "USA-states",
           "locations": [
            "AK",
            "AL",
            "AR",
            "AZ",
            "CA",
            "CO",
            "CT",
            "DC",
            "DE",
            "FL",
            "GA",
            "HI",
            "IA",
            "ID",
            "IL",
            "IN",
            "KS",
            "KY",
            "LA",
            "MA",
            "MD",
            "ME",
            "MI",
            "MN",
            "MO",
            "MS",
            "MT",
            "NC",
            "ND",
            "NE",
            "NH",
            "NJ",
            "NM",
            "NV",
            "NY",
            "OH",
            "OK",
            "OR",
            "PA",
            "RI",
            "SC",
            "SD",
            "TN",
            "TX",
            "UT",
            "VA",
            "VT",
            "WA",
            "WI",
            "WV",
            "WY"
           ],
           "name": "",
           "type": "choropleth",
           "z": [
            -16.28,
            5.22,
            -16.37,
            24.4,
            -7.87,
            -33.4,
            0.01,
            0,
            2.09,
            4.59,
            1.37,
            -1.87,
            -29.36,
            0,
            -12.33,
            33.93,
            4.87,
            -18.86,
            -12.68,
            -2.9,
            0.11,
            -2.61,
            3.81,
            10.97,
            45.11,
            5.93,
            24.57,
            -48.97,
            9.55,
            -5.6,
            -50.33,
            12.71,
            4.61,
            -26.89,
            -5.13,
            -21.84,
            0.35,
            -2.21,
            -49.37,
            0,
            -0.97,
            -2,
            28.01,
            15.77,
            0.08,
            3.6,
            0.08,
            8.85,
            12.84,
            12.38,
            0
           ]
          }
         ],
         "name": "2020"
        },
        {
         "data": [
          {
           "coloraxis": "coloraxis",
           "customdata": [
            [
             1.45,
             1.49,
             3.5,
             1.03
            ],
            [
             0.01,
             0.16,
             10.39,
             11.4
            ],
            [
             0.07,
             0.28,
             -0.55,
             -3.98
            ],
            [
             0.77,
             1.85,
             -7.83,
             2.41
            ],
            [
             5.42,
             2.71,
             -2.89,
             -0.5
            ]
           ],
           "geo": "geo",
           "hovertemplate": "<b>%{hovertext}</b><br><br>Year=2016<br>State=%{location}<br>Democrats ROI=%{customdata[0]}<br>Democrats Votes Diff % =%{customdata[1]}<br>Republicans Exp Diff=%{customdata[2]}<br>Democrats Exp Diff=%{z}<extra></extra>",
           "hovertext": [
            "DEMOCRATS",
            "REPUBLICANS",
            "DEMOCRATS",
            "REPUBLICANS",
            "REPUBLICANS"
           ],
           "ids": [
            "CA",
            "GA",
            "MA",
            "TX",
            "UT"
           ],
           "locationmode": "USA-states",
           "locations": [
            "CA",
            "GA",
            "MA",
            "TX",
            "UT"
           ],
           "name": "",
           "type": "choropleth",
           "z": [
            1.03,
            11.4,
            -3.98,
            2.41,
            -0.5
           ]
          }
         ],
         "name": "2016"
        }
       ],
       "layout": {
        "coloraxis": {
         "colorbar": {
          "title": {
           "text": "Democrats Exp Diff"
          }
         },
         "colorscale": [
          [
           0,
           "#0d0887"
          ],
          [
           0.1111111111111111,
           "#46039f"
          ],
          [
           0.2222222222222222,
           "#7201a8"
          ],
          [
           0.3333333333333333,
           "#9c179e"
          ],
          [
           0.4444444444444444,
           "#bd3786"
          ],
          [
           0.5555555555555556,
           "#d8576b"
          ],
          [
           0.6666666666666666,
           "#ed7953"
          ],
          [
           0.7777777777777778,
           "#fb9f3a"
          ],
          [
           0.8888888888888888,
           "#fdca26"
          ],
          [
           1,
           "#f0f921"
          ]
         ]
        },
        "geo": {
         "center": {},
         "domain": {
          "x": [
           0,
           1
          ],
          "y": [
           0,
           1
          ]
         },
         "scope": "usa"
        },
        "legend": {
         "tracegroupgap": 0
        },
        "margin": {
         "t": 60
        },
        "sliders": [
         {
          "active": 0,
          "currentvalue": {
           "prefix": "Year="
          },
          "len": 0.9,
          "pad": {
           "b": 10,
           "t": 60
          },
          "steps": [
           {
            "args": [
             [
              "2020"
             ],
             {
              "frame": {
               "duration": 0,
               "redraw": true
              },
              "fromcurrent": true,
              "mode": "immediate",
              "transition": {
               "duration": 0,
               "easing": "linear"
              }
             }
            ],
            "label": "2020",
            "method": "animate"
           },
           {
            "args": [
             [
              "2016"
             ],
             {
              "frame": {
               "duration": 0,
               "redraw": true
              },
              "fromcurrent": true,
              "mode": "immediate",
              "transition": {
               "duration": 0,
               "easing": "linear"
              }
             }
            ],
            "label": "2016",
            "method": "animate"
           }
          ],
          "x": 0.1,
          "xanchor": "left",
          "y": 0,
          "yanchor": "top"
         }
        ],
        "template": {
         "data": {
          "bar": [
           {
            "error_x": {
             "color": "#2a3f5f"
            },
            "error_y": {
             "color": "#2a3f5f"
            },
            "marker": {
             "line": {
              "color": "#E5ECF6",
              "width": 0.5
             }
            },
            "type": "bar"
           }
          ],
          "barpolar": [
           {
            "marker": {
             "line": {
              "color": "#E5ECF6",
              "width": 0.5
             }
            },
            "type": "barpolar"
           }
          ],
          "carpet": [
           {
            "aaxis": {
             "endlinecolor": "#2a3f5f",
             "gridcolor": "white",
             "linecolor": "white",
             "minorgridcolor": "white",
             "startlinecolor": "#2a3f5f"
            },
            "baxis": {
             "endlinecolor": "#2a3f5f",
             "gridcolor": "white",
             "linecolor": "white",
             "minorgridcolor": "white",
             "startlinecolor": "#2a3f5f"
            },
            "type": "carpet"
           }
          ],
          "choropleth": [
           {
            "colorbar": {
             "outlinewidth": 0,
             "ticks": ""
            },
            "type": "choropleth"
           }
          ],
          "contour": [
           {
            "colorbar": {
             "outlinewidth": 0,
             "ticks": ""
            },
            "colorscale": [
             [
              0,
              "#0d0887"
             ],
             [
              0.1111111111111111,
              "#46039f"
             ],
             [
              0.2222222222222222,
              "#7201a8"
             ],
             [
              0.3333333333333333,
              "#9c179e"
             ],
             [
              0.4444444444444444,
              "#bd3786"
             ],
             [
              0.5555555555555556,
              "#d8576b"
             ],
             [
              0.6666666666666666,
              "#ed7953"
             ],
             [
              0.7777777777777778,
              "#fb9f3a"
             ],
             [
              0.8888888888888888,
              "#fdca26"
             ],
             [
              1,
              "#f0f921"
             ]
            ],
            "type": "contour"
           }
          ],
          "contourcarpet": [
           {
            "colorbar": {
             "outlinewidth": 0,
             "ticks": ""
            },
            "type": "contourcarpet"
           }
          ],
          "heatmap": [
           {
            "colorbar": {
             "outlinewidth": 0,
             "ticks": ""
            },
            "colorscale": [
             [
              0,
              "#0d0887"
             ],
             [
              0.1111111111111111,
              "#46039f"
             ],
             [
              0.2222222222222222,
              "#7201a8"
             ],
             [
              0.3333333333333333,
              "#9c179e"
             ],
             [
              0.4444444444444444,
              "#bd3786"
             ],
             [
              0.5555555555555556,
              "#d8576b"
             ],
             [
              0.6666666666666666,
              "#ed7953"
             ],
             [
              0.7777777777777778,
              "#fb9f3a"
             ],
             [
              0.8888888888888888,
              "#fdca26"
             ],
             [
              1,
              "#f0f921"
             ]
            ],
            "type": "heatmap"
           }
          ],
          "heatmapgl": [
           {
            "colorbar": {
             "outlinewidth": 0,
             "ticks": ""
            },
            "colorscale": [
             [
              0,
              "#0d0887"
             ],
             [
              0.1111111111111111,
              "#46039f"
             ],
             [
              0.2222222222222222,
              "#7201a8"
             ],
             [
              0.3333333333333333,
              "#9c179e"
             ],
             [
              0.4444444444444444,
              "#bd3786"
             ],
             [
              0.5555555555555556,
              "#d8576b"
             ],
             [
              0.6666666666666666,
              "#ed7953"
             ],
             [
              0.7777777777777778,
              "#fb9f3a"
             ],
             [
              0.8888888888888888,
              "#fdca26"
             ],
             [
              1,
              "#f0f921"
             ]
            ],
            "type": "heatmapgl"
           }
          ],
          "histogram": [
           {
            "marker": {
             "colorbar": {
              "outlinewidth": 0,
              "ticks": ""
             }
            },
            "type": "histogram"
           }
          ],
          "histogram2d": [
           {
            "colorbar": {
             "outlinewidth": 0,
             "ticks": ""
            },
            "colorscale": [
             [
              0,
              "#0d0887"
             ],
             [
              0.1111111111111111,
              "#46039f"
             ],
             [
              0.2222222222222222,
              "#7201a8"
             ],
             [
              0.3333333333333333,
              "#9c179e"
             ],
             [
              0.4444444444444444,
              "#bd3786"
             ],
             [
              0.5555555555555556,
              "#d8576b"
             ],
             [
              0.6666666666666666,
              "#ed7953"
             ],
             [
              0.7777777777777778,
              "#fb9f3a"
             ],
             [
              0.8888888888888888,
              "#fdca26"
             ],
             [
              1,
              "#f0f921"
             ]
            ],
            "type": "histogram2d"
           }
          ],
          "histogram2dcontour": [
           {
            "colorbar": {
             "outlinewidth": 0,
             "ticks": ""
            },
            "colorscale": [
             [
              0,
              "#0d0887"
             ],
             [
              0.1111111111111111,
              "#46039f"
             ],
             [
              0.2222222222222222,
              "#7201a8"
             ],
             [
              0.3333333333333333,
              "#9c179e"
             ],
             [
              0.4444444444444444,
              "#bd3786"
             ],
             [
              0.5555555555555556,
              "#d8576b"
             ],
             [
              0.6666666666666666,
              "#ed7953"
             ],
             [
              0.7777777777777778,
              "#fb9f3a"
             ],
             [
              0.8888888888888888,
              "#fdca26"
             ],
             [
              1,
              "#f0f921"
             ]
            ],
            "type": "histogram2dcontour"
           }
          ],
          "mesh3d": [
           {
            "colorbar": {
             "outlinewidth": 0,
             "ticks": ""
            },
            "type": "mesh3d"
           }
          ],
          "parcoords": [
           {
            "line": {
             "colorbar": {
              "outlinewidth": 0,
              "ticks": ""
             }
            },
            "type": "parcoords"
           }
          ],
          "pie": [
           {
            "automargin": true,
            "type": "pie"
           }
          ],
          "scatter": [
           {
            "marker": {
             "colorbar": {
              "outlinewidth": 0,
              "ticks": ""
             }
            },
            "type": "scatter"
           }
          ],
          "scatter3d": [
           {
            "line": {
             "colorbar": {
              "outlinewidth": 0,
              "ticks": ""
             }
            },
            "marker": {
             "colorbar": {
              "outlinewidth": 0,
              "ticks": ""
             }
            },
            "type": "scatter3d"
           }
          ],
          "scattercarpet": [
           {
            "marker": {
             "colorbar": {
              "outlinewidth": 0,
              "ticks": ""
             }
            },
            "type": "scattercarpet"
           }
          ],
          "scattergeo": [
           {
            "marker": {
             "colorbar": {
              "outlinewidth": 0,
              "ticks": ""
             }
            },
            "type": "scattergeo"
           }
          ],
          "scattergl": [
           {
            "marker": {
             "colorbar": {
              "outlinewidth": 0,
              "ticks": ""
             }
            },
            "type": "scattergl"
           }
          ],
          "scattermapbox": [
           {
            "marker": {
             "colorbar": {
              "outlinewidth": 0,
              "ticks": ""
             }
            },
            "type": "scattermapbox"
           }
          ],
          "scatterpolar": [
           {
            "marker": {
             "colorbar": {
              "outlinewidth": 0,
              "ticks": ""
             }
            },
            "type": "scatterpolar"
           }
          ],
          "scatterpolargl": [
           {
            "marker": {
             "colorbar": {
              "outlinewidth": 0,
              "ticks": ""
             }
            },
            "type": "scatterpolargl"
           }
          ],
          "scatterternary": [
           {
            "marker": {
             "colorbar": {
              "outlinewidth": 0,
              "ticks": ""
             }
            },
            "type": "scatterternary"
           }
          ],
          "surface": [
           {
            "colorbar": {
             "outlinewidth": 0,
             "ticks": ""
            },
            "colorscale": [
             [
              0,
              "#0d0887"
             ],
             [
              0.1111111111111111,
              "#46039f"
             ],
             [
              0.2222222222222222,
              "#7201a8"
             ],
             [
              0.3333333333333333,
              "#9c179e"
             ],
             [
              0.4444444444444444,
              "#bd3786"
             ],
             [
              0.5555555555555556,
              "#d8576b"
             ],
             [
              0.6666666666666666,
              "#ed7953"
             ],
             [
              0.7777777777777778,
              "#fb9f3a"
             ],
             [
              0.8888888888888888,
              "#fdca26"
             ],
             [
              1,
              "#f0f921"
             ]
            ],
            "type": "surface"
           }
          ],
          "table": [
           {
            "cells": {
             "fill": {
              "color": "#EBF0F8"
             },
             "line": {
              "color": "white"
             }
            },
            "header": {
             "fill": {
              "color": "#C8D4E3"
             },
             "line": {
              "color": "white"
             }
            },
            "type": "table"
           }
          ]
         },
         "layout": {
          "annotationdefaults": {
           "arrowcolor": "#2a3f5f",
           "arrowhead": 0,
           "arrowwidth": 1
          },
          "autotypenumbers": "strict",
          "coloraxis": {
           "colorbar": {
            "outlinewidth": 0,
            "ticks": ""
           }
          },
          "colorscale": {
           "diverging": [
            [
             0,
             "#8e0152"
            ],
            [
             0.1,
             "#c51b7d"
            ],
            [
             0.2,
             "#de77ae"
            ],
            [
             0.3,
             "#f1b6da"
            ],
            [
             0.4,
             "#fde0ef"
            ],
            [
             0.5,
             "#f7f7f7"
            ],
            [
             0.6,
             "#e6f5d0"
            ],
            [
             0.7,
             "#b8e186"
            ],
            [
             0.8,
             "#7fbc41"
            ],
            [
             0.9,
             "#4d9221"
            ],
            [
             1,
             "#276419"
            ]
           ],
           "sequential": [
            [
             0,
             "#0d0887"
            ],
            [
             0.1111111111111111,
             "#46039f"
            ],
            [
             0.2222222222222222,
             "#7201a8"
            ],
            [
             0.3333333333333333,
             "#9c179e"
            ],
            [
             0.4444444444444444,
             "#bd3786"
            ],
            [
             0.5555555555555556,
             "#d8576b"
            ],
            [
             0.6666666666666666,
             "#ed7953"
            ],
            [
             0.7777777777777778,
             "#fb9f3a"
            ],
            [
             0.8888888888888888,
             "#fdca26"
            ],
            [
             1,
             "#f0f921"
            ]
           ],
           "sequentialminus": [
            [
             0,
             "#0d0887"
            ],
            [
             0.1111111111111111,
             "#46039f"
            ],
            [
             0.2222222222222222,
             "#7201a8"
            ],
            [
             0.3333333333333333,
             "#9c179e"
            ],
            [
             0.4444444444444444,
             "#bd3786"
            ],
            [
             0.5555555555555556,
             "#d8576b"
            ],
            [
             0.6666666666666666,
             "#ed7953"
            ],
            [
             0.7777777777777778,
             "#fb9f3a"
            ],
            [
             0.8888888888888888,
             "#fdca26"
            ],
            [
             1,
             "#f0f921"
            ]
           ]
          },
          "colorway": [
           "#636efa",
           "#EF553B",
           "#00cc96",
           "#ab63fa",
           "#FFA15A",
           "#19d3f3",
           "#FF6692",
           "#B6E880",
           "#FF97FF",
           "#FECB52"
          ],
          "font": {
           "color": "#2a3f5f"
          },
          "geo": {
           "bgcolor": "white",
           "lakecolor": "white",
           "landcolor": "#E5ECF6",
           "showlakes": true,
           "showland": true,
           "subunitcolor": "white"
          },
          "hoverlabel": {
           "align": "left"
          },
          "hovermode": "closest",
          "mapbox": {
           "style": "light"
          },
          "paper_bgcolor": "white",
          "plot_bgcolor": "#E5ECF6",
          "polar": {
           "angularaxis": {
            "gridcolor": "white",
            "linecolor": "white",
            "ticks": ""
           },
           "bgcolor": "#E5ECF6",
           "radialaxis": {
            "gridcolor": "white",
            "linecolor": "white",
            "ticks": ""
           }
          },
          "scene": {
           "xaxis": {
            "backgroundcolor": "#E5ECF6",
            "gridcolor": "white",
            "gridwidth": 2,
            "linecolor": "white",
            "showbackground": true,
            "ticks": "",
            "zerolinecolor": "white"
           },
           "yaxis": {
            "backgroundcolor": "#E5ECF6",
            "gridcolor": "white",
            "gridwidth": 2,
            "linecolor": "white",
            "showbackground": true,
            "ticks": "",
            "zerolinecolor": "white"
           },
           "zaxis": {
            "backgroundcolor": "#E5ECF6",
            "gridcolor": "white",
            "gridwidth": 2,
            "linecolor": "white",
            "showbackground": true,
            "ticks": "",
            "zerolinecolor": "white"
           }
          },
          "shapedefaults": {
           "line": {
            "color": "#2a3f5f"
           }
          },
          "ternary": {
           "aaxis": {
            "gridcolor": "white",
            "linecolor": "white",
            "ticks": ""
           },
           "baxis": {
            "gridcolor": "white",
            "linecolor": "white",
            "ticks": ""
           },
           "bgcolor": "#E5ECF6",
           "caxis": {
            "gridcolor": "white",
            "linecolor": "white",
            "ticks": ""
           }
          },
          "title": {
           "x": 0.05
          },
          "xaxis": {
           "automargin": true,
           "gridcolor": "white",
           "linecolor": "white",
           "ticks": "",
           "title": {
            "standoff": 15
           },
           "zerolinecolor": "white",
           "zerolinewidth": 2
          },
          "yaxis": {
           "automargin": true,
           "gridcolor": "white",
           "linecolor": "white",
           "ticks": "",
           "title": {
            "standoff": 15
           },
           "zerolinecolor": "white",
           "zerolinewidth": 2
          }
         }
        },
        "title": {
         "text": "US Republicans Vote Difference vs Expenses ($ Millions)",
         "x": 0.5,
         "xanchor": "center"
        },
        "updatemenus": [
         {
          "buttons": [
           {
            "args": [
             null,
             {
              "frame": {
               "duration": 500,
               "redraw": true
              },
              "fromcurrent": true,
              "mode": "immediate",
              "transition": {
               "duration": 500,
               "easing": "linear"
              }
             }
            ],
            "label": "&#9654;",
            "method": "animate"
           },
           {
            "args": [
             [
              null
             ],
             {
              "frame": {
               "duration": 0,
               "redraw": true
              },
              "fromcurrent": true,
              "mode": "immediate",
              "transition": {
               "duration": 0,
               "easing": "linear"
              }
             }
            ],
            "label": "&#9724;",
            "method": "animate"
           }
          ],
          "direction": "left",
          "pad": {
           "r": 10,
           "t": 70
          },
          "showactive": false,
          "type": "buttons",
          "x": 0.1,
          "xanchor": "right",
          "y": 0,
          "yanchor": "top"
         }
        ]
       }
      },
      "text/html": [
       "<div>                            <div id=\"6b6438ab-9f69-4797-91af-68c4a0fcdad3\" class=\"plotly-graph-div\" style=\"height:525px; width:100%;\"></div>            <script type=\"text/javascript\">                require([\"plotly\"], function(Plotly) {                    window.PLOTLYENV=window.PLOTLYENV || {};                                    if (document.getElementById(\"6b6438ab-9f69-4797-91af-68c4a0fcdad3\")) {                    Plotly.newPlot(                        \"6b6438ab-9f69-4797-91af-68c4a0fcdad3\",                        [{\"coloraxis\": \"coloraxis\", \"customdata\": [[0.19, 3.16, -19.84, -16.28], [0.42, 2.21, 13.2, 5.22], [0.07, 1.1, -23.03, -16.37], [0.21, 5.19, 12.08, 24.4], [0.22, 1.77, 16.21, -7.87], [0.22, 7.24, -44.27, -33.4], [467.0, 4.67, -0.8, 0.01], [10.0, 1.29, 942.12, 0.0], [2.68, 5.6, -0.02, 2.09], [0.01, 0.04, -15.52, 4.59], [2.82, 3.86, -7.99, 1.37], [0.81, 1.51, -0.25, -1.87], [0.11, 3.15, -83.99, -29.36], [10.0, 5.58, -0.75, 0.0], [0.15, 1.89, -11.48, -12.33], [0.09, 3.19, -3.47, 33.93], [1.1, 5.34, -4.78, 4.87], [0.18, 3.47, -9.96, -18.86], [0.11, 1.4, -19.31, -12.68], [1.61, 4.67, -7.14, -2.9], [45.73, 5.03, 0.95, 0.11], [2.0, 5.22, 0.42, -2.61], [0.88, 3.35, -11.19, 3.81], [0.54, 5.95, -11.84, 10.97], [0.07, 3.26, 14.16, 45.11], [0.15, 0.9, -6.11, 5.93], [0.19, 4.66, 17.25, 24.57], [0.05, 2.41, -70.63, -48.97], [0.47, 4.53, 5.95, 9.55], [0.98, 5.47, -7.62, -5.6], [0.12, 6.0, -124.13, -50.33], [0.13, 1.69, 22.67, 12.71], [1.31, 6.03, 0.05, 4.61], [0.08, 2.14, -23.71, -26.89], [0.36, 1.86, -12.68, -5.13], [0.08, 1.68, -15.58, -21.84], [9.57, 3.35, -1.95, 0.35], [2.89, 6.38, -2.43, -2.21], [0.04, 2.11, -57.91, -49.37], [10.0, 4.94, 0.16, 0.0], [2.85, 2.76, -15.39, -0.97], [1.94, 3.87, -1.88, -2.0], [0.1, 2.74, 23.96, 28.01], [0.2, 3.23, 19.02, 15.77], [127.37, 10.19, 0.57, 0.08], [1.22, 4.38, 2.19, 3.6], [117.62, 9.41, 0.0, 0.08], [0.41, 3.67, 9.27, 8.85], [0.24, 3.02, -3.72, 12.84], [0.26, 3.22, 12.19, 12.38], [10.0, 4.68, -0.18, 0.0]], \"geo\": \"geo\", \"hovertemplate\": \"<b>%{hovertext}</b><br><br>Year=2020<br>State=%{location}<br>Democrats ROI=%{customdata[0]}<br>Democrats Votes Diff % =%{customdata[1]}<br>Republicans Exp Diff=%{customdata[2]}<br>Democrats Exp Diff=%{z}<extra></extra>\", \"hovertext\": [\"REPUBLICANS\", \"REPUBLICANS\", \"REPUBLICANS\", \"DEMOCRATS\", \"DEMOCRATS\", \"DEMOCRATS\", \"DEMOCRATS\", \"DEMOCRATS\", \"DEMOCRATS\", \"REPUBLICANS\", \"DEMOCRATS\", \"DEMOCRATS\", \"REPUBLICANS\", \"REPUBLICANS\", \"DEMOCRATS\", \"REPUBLICANS\", \"REPUBLICANS\", \"REPUBLICANS\", \"REPUBLICANS\", \"DEMOCRATS\", \"DEMOCRATS\", \"DEMOCRATS\", \"DEMOCRATS\", \"DEMOCRATS\", \"REPUBLICANS\", \"REPUBLICANS\", \"REPUBLICANS\", \"REPUBLICANS\", \"REPUBLICANS\", \"REPUBLICANS\", \"DEMOCRATS\", \"DEMOCRATS\", \"DEMOCRATS\", \"DEMOCRATS\", \"DEMOCRATS\", \"REPUBLICANS\", \"REPUBLICANS\", \"DEMOCRATS\", \"DEMOCRATS\", \"DEMOCRATS\", \"REPUBLICANS\", \"REPUBLICANS\", \"REPUBLICANS\", \"REPUBLICANS\", \"REPUBLICANS\", \"DEMOCRATS\", \"DEMOCRATS\", \"DEMOCRATS\", \"DEMOCRATS\", \"REPUBLICANS\", \"REPUBLICANS\"], \"ids\": [\"AK\", \"AL\", \"AR\", \"AZ\", \"CA\", \"CO\", \"CT\", \"DC\", \"DE\", \"FL\", \"GA\", \"HI\", \"IA\", \"ID\", \"IL\", \"IN\", \"KS\", \"KY\", \"LA\", \"MA\", \"MD\", \"ME\", \"MI\", \"MN\", \"MO\", \"MS\", \"MT\", \"NC\", \"ND\", \"NE\", \"NH\", \"NJ\", \"NM\", \"NV\", \"NY\", \"OH\", \"OK\", \"OR\", \"PA\", \"RI\", \"SC\", \"SD\", \"TN\", \"TX\", \"UT\", \"VA\", \"VT\", \"WA\", \"WI\", \"WV\", \"WY\"], \"locationmode\": \"USA-states\", \"locations\": [\"AK\", \"AL\", \"AR\", \"AZ\", \"CA\", \"CO\", \"CT\", \"DC\", \"DE\", \"FL\", \"GA\", \"HI\", \"IA\", \"ID\", \"IL\", \"IN\", \"KS\", \"KY\", \"LA\", \"MA\", \"MD\", \"ME\", \"MI\", \"MN\", \"MO\", \"MS\", \"MT\", \"NC\", \"ND\", \"NE\", \"NH\", \"NJ\", \"NM\", \"NV\", \"NY\", \"OH\", \"OK\", \"OR\", \"PA\", \"RI\", \"SC\", \"SD\", \"TN\", \"TX\", \"UT\", \"VA\", \"VT\", \"WA\", \"WI\", \"WV\", \"WY\"], \"name\": \"\", \"type\": \"choropleth\", \"z\": [-16.28, 5.22, -16.37, 24.4, -7.87, -33.4, 0.01, 0.0, 2.09, 4.59, 1.37, -1.87, -29.36, 0.0, -12.33, 33.93, 4.87, -18.86, -12.68, -2.9, 0.11, -2.61, 3.81, 10.97, 45.11, 5.93, 24.57, -48.97, 9.55, -5.6, -50.33, 12.71, 4.61, -26.89, -5.13, -21.84, 0.35, -2.21, -49.37, 0.0, -0.97, -2.0, 28.01, 15.77, 0.08, 3.6, 0.08, 8.85, 12.84, 12.38, 0.0]}],                        {\"coloraxis\": {\"colorbar\": {\"title\": {\"text\": \"Democrats Exp Diff\"}}, \"colorscale\": [[0.0, \"#0d0887\"], [0.1111111111111111, \"#46039f\"], [0.2222222222222222, \"#7201a8\"], [0.3333333333333333, \"#9c179e\"], [0.4444444444444444, \"#bd3786\"], [0.5555555555555556, \"#d8576b\"], [0.6666666666666666, \"#ed7953\"], [0.7777777777777778, \"#fb9f3a\"], [0.8888888888888888, \"#fdca26\"], [1.0, \"#f0f921\"]]}, \"geo\": {\"center\": {}, \"domain\": {\"x\": [0.0, 1.0], \"y\": [0.0, 1.0]}, \"scope\": \"usa\"}, \"legend\": {\"tracegroupgap\": 0}, \"margin\": {\"t\": 60}, \"sliders\": [{\"active\": 0, \"currentvalue\": {\"prefix\": \"Year=\"}, \"len\": 0.9, \"pad\": {\"b\": 10, \"t\": 60}, \"steps\": [{\"args\": [[\"2020\"], {\"frame\": {\"duration\": 0, \"redraw\": true}, \"fromcurrent\": true, \"mode\": \"immediate\", \"transition\": {\"duration\": 0, \"easing\": \"linear\"}}], \"label\": \"2020\", \"method\": \"animate\"}, {\"args\": [[\"2016\"], {\"frame\": {\"duration\": 0, \"redraw\": true}, \"fromcurrent\": true, \"mode\": \"immediate\", \"transition\": {\"duration\": 0, \"easing\": \"linear\"}}], \"label\": \"2016\", \"method\": \"animate\"}], \"x\": 0.1, \"xanchor\": \"left\", \"y\": 0, \"yanchor\": \"top\"}], \"template\": {\"data\": {\"bar\": [{\"error_x\": {\"color\": \"#2a3f5f\"}, \"error_y\": {\"color\": \"#2a3f5f\"}, \"marker\": {\"line\": {\"color\": \"#E5ECF6\", \"width\": 0.5}}, \"type\": \"bar\"}], \"barpolar\": [{\"marker\": {\"line\": {\"color\": \"#E5ECF6\", \"width\": 0.5}}, \"type\": \"barpolar\"}], \"carpet\": [{\"aaxis\": {\"endlinecolor\": \"#2a3f5f\", \"gridcolor\": \"white\", \"linecolor\": \"white\", \"minorgridcolor\": \"white\", \"startlinecolor\": \"#2a3f5f\"}, \"baxis\": {\"endlinecolor\": \"#2a3f5f\", \"gridcolor\": \"white\", \"linecolor\": \"white\", \"minorgridcolor\": \"white\", \"startlinecolor\": \"#2a3f5f\"}, \"type\": \"carpet\"}], \"choropleth\": [{\"colorbar\": {\"outlinewidth\": 0, \"ticks\": \"\"}, \"type\": \"choropleth\"}], \"contour\": [{\"colorbar\": {\"outlinewidth\": 0, \"ticks\": \"\"}, \"colorscale\": [[0.0, \"#0d0887\"], [0.1111111111111111, \"#46039f\"], [0.2222222222222222, \"#7201a8\"], [0.3333333333333333, \"#9c179e\"], [0.4444444444444444, \"#bd3786\"], [0.5555555555555556, \"#d8576b\"], [0.6666666666666666, \"#ed7953\"], [0.7777777777777778, \"#fb9f3a\"], [0.8888888888888888, \"#fdca26\"], [1.0, \"#f0f921\"]], \"type\": \"contour\"}], \"contourcarpet\": [{\"colorbar\": {\"outlinewidth\": 0, \"ticks\": \"\"}, \"type\": \"contourcarpet\"}], \"heatmap\": [{\"colorbar\": {\"outlinewidth\": 0, \"ticks\": \"\"}, \"colorscale\": [[0.0, \"#0d0887\"], [0.1111111111111111, \"#46039f\"], [0.2222222222222222, \"#7201a8\"], [0.3333333333333333, \"#9c179e\"], [0.4444444444444444, \"#bd3786\"], [0.5555555555555556, \"#d8576b\"], [0.6666666666666666, \"#ed7953\"], [0.7777777777777778, \"#fb9f3a\"], [0.8888888888888888, \"#fdca26\"], [1.0, \"#f0f921\"]], \"type\": \"heatmap\"}], \"heatmapgl\": [{\"colorbar\": {\"outlinewidth\": 0, \"ticks\": \"\"}, \"colorscale\": [[0.0, \"#0d0887\"], [0.1111111111111111, \"#46039f\"], [0.2222222222222222, \"#7201a8\"], [0.3333333333333333, \"#9c179e\"], [0.4444444444444444, \"#bd3786\"], [0.5555555555555556, \"#d8576b\"], [0.6666666666666666, \"#ed7953\"], [0.7777777777777778, \"#fb9f3a\"], [0.8888888888888888, \"#fdca26\"], [1.0, \"#f0f921\"]], \"type\": \"heatmapgl\"}], \"histogram\": [{\"marker\": {\"colorbar\": {\"outlinewidth\": 0, \"ticks\": \"\"}}, \"type\": \"histogram\"}], \"histogram2d\": [{\"colorbar\": {\"outlinewidth\": 0, \"ticks\": \"\"}, \"colorscale\": [[0.0, \"#0d0887\"], [0.1111111111111111, \"#46039f\"], [0.2222222222222222, \"#7201a8\"], [0.3333333333333333, \"#9c179e\"], [0.4444444444444444, \"#bd3786\"], [0.5555555555555556, \"#d8576b\"], [0.6666666666666666, \"#ed7953\"], [0.7777777777777778, \"#fb9f3a\"], [0.8888888888888888, \"#fdca26\"], [1.0, \"#f0f921\"]], \"type\": \"histogram2d\"}], \"histogram2dcontour\": [{\"colorbar\": {\"outlinewidth\": 0, \"ticks\": \"\"}, \"colorscale\": [[0.0, \"#0d0887\"], [0.1111111111111111, \"#46039f\"], [0.2222222222222222, \"#7201a8\"], [0.3333333333333333, \"#9c179e\"], [0.4444444444444444, \"#bd3786\"], [0.5555555555555556, \"#d8576b\"], [0.6666666666666666, \"#ed7953\"], [0.7777777777777778, \"#fb9f3a\"], [0.8888888888888888, \"#fdca26\"], [1.0, \"#f0f921\"]], \"type\": \"histogram2dcontour\"}], \"mesh3d\": [{\"colorbar\": {\"outlinewidth\": 0, \"ticks\": \"\"}, \"type\": \"mesh3d\"}], \"parcoords\": [{\"line\": {\"colorbar\": {\"outlinewidth\": 0, \"ticks\": \"\"}}, \"type\": \"parcoords\"}], \"pie\": [{\"automargin\": true, \"type\": \"pie\"}], \"scatter\": [{\"marker\": {\"colorbar\": {\"outlinewidth\": 0, \"ticks\": \"\"}}, \"type\": \"scatter\"}], \"scatter3d\": [{\"line\": {\"colorbar\": {\"outlinewidth\": 0, \"ticks\": \"\"}}, \"marker\": {\"colorbar\": {\"outlinewidth\": 0, \"ticks\": \"\"}}, \"type\": \"scatter3d\"}], \"scattercarpet\": [{\"marker\": {\"colorbar\": {\"outlinewidth\": 0, \"ticks\": \"\"}}, \"type\": \"scattercarpet\"}], \"scattergeo\": [{\"marker\": {\"colorbar\": {\"outlinewidth\": 0, \"ticks\": \"\"}}, \"type\": \"scattergeo\"}], \"scattergl\": [{\"marker\": {\"colorbar\": {\"outlinewidth\": 0, \"ticks\": \"\"}}, \"type\": \"scattergl\"}], \"scattermapbox\": [{\"marker\": {\"colorbar\": {\"outlinewidth\": 0, \"ticks\": \"\"}}, \"type\": \"scattermapbox\"}], \"scatterpolar\": [{\"marker\": {\"colorbar\": {\"outlinewidth\": 0, \"ticks\": \"\"}}, \"type\": \"scatterpolar\"}], \"scatterpolargl\": [{\"marker\": {\"colorbar\": {\"outlinewidth\": 0, \"ticks\": \"\"}}, \"type\": \"scatterpolargl\"}], \"scatterternary\": [{\"marker\": {\"colorbar\": {\"outlinewidth\": 0, \"ticks\": \"\"}}, \"type\": \"scatterternary\"}], \"surface\": [{\"colorbar\": {\"outlinewidth\": 0, \"ticks\": \"\"}, \"colorscale\": [[0.0, \"#0d0887\"], [0.1111111111111111, \"#46039f\"], [0.2222222222222222, \"#7201a8\"], [0.3333333333333333, \"#9c179e\"], [0.4444444444444444, \"#bd3786\"], [0.5555555555555556, \"#d8576b\"], [0.6666666666666666, \"#ed7953\"], [0.7777777777777778, \"#fb9f3a\"], [0.8888888888888888, \"#fdca26\"], [1.0, \"#f0f921\"]], \"type\": \"surface\"}], \"table\": [{\"cells\": {\"fill\": {\"color\": \"#EBF0F8\"}, \"line\": {\"color\": \"white\"}}, \"header\": {\"fill\": {\"color\": \"#C8D4E3\"}, \"line\": {\"color\": \"white\"}}, \"type\": \"table\"}]}, \"layout\": {\"annotationdefaults\": {\"arrowcolor\": \"#2a3f5f\", \"arrowhead\": 0, \"arrowwidth\": 1}, \"autotypenumbers\": \"strict\", \"coloraxis\": {\"colorbar\": {\"outlinewidth\": 0, \"ticks\": \"\"}}, \"colorscale\": {\"diverging\": [[0, \"#8e0152\"], [0.1, \"#c51b7d\"], [0.2, \"#de77ae\"], [0.3, \"#f1b6da\"], [0.4, \"#fde0ef\"], [0.5, \"#f7f7f7\"], [0.6, \"#e6f5d0\"], [0.7, \"#b8e186\"], [0.8, \"#7fbc41\"], [0.9, \"#4d9221\"], [1, \"#276419\"]], \"sequential\": [[0.0, \"#0d0887\"], [0.1111111111111111, \"#46039f\"], [0.2222222222222222, \"#7201a8\"], [0.3333333333333333, \"#9c179e\"], [0.4444444444444444, \"#bd3786\"], [0.5555555555555556, \"#d8576b\"], [0.6666666666666666, \"#ed7953\"], [0.7777777777777778, \"#fb9f3a\"], [0.8888888888888888, \"#fdca26\"], [1.0, \"#f0f921\"]], \"sequentialminus\": [[0.0, \"#0d0887\"], [0.1111111111111111, \"#46039f\"], [0.2222222222222222, \"#7201a8\"], [0.3333333333333333, \"#9c179e\"], [0.4444444444444444, \"#bd3786\"], [0.5555555555555556, \"#d8576b\"], [0.6666666666666666, \"#ed7953\"], [0.7777777777777778, \"#fb9f3a\"], [0.8888888888888888, \"#fdca26\"], [1.0, \"#f0f921\"]]}, \"colorway\": [\"#636efa\", \"#EF553B\", \"#00cc96\", \"#ab63fa\", \"#FFA15A\", \"#19d3f3\", \"#FF6692\", \"#B6E880\", \"#FF97FF\", \"#FECB52\"], \"font\": {\"color\": \"#2a3f5f\"}, \"geo\": {\"bgcolor\": \"white\", \"lakecolor\": \"white\", \"landcolor\": \"#E5ECF6\", \"showlakes\": true, \"showland\": true, \"subunitcolor\": \"white\"}, \"hoverlabel\": {\"align\": \"left\"}, \"hovermode\": \"closest\", \"mapbox\": {\"style\": \"light\"}, \"paper_bgcolor\": \"white\", \"plot_bgcolor\": \"#E5ECF6\", \"polar\": {\"angularaxis\": {\"gridcolor\": \"white\", \"linecolor\": \"white\", \"ticks\": \"\"}, \"bgcolor\": \"#E5ECF6\", \"radialaxis\": {\"gridcolor\": \"white\", \"linecolor\": \"white\", \"ticks\": \"\"}}, \"scene\": {\"xaxis\": {\"backgroundcolor\": \"#E5ECF6\", \"gridcolor\": \"white\", \"gridwidth\": 2, \"linecolor\": \"white\", \"showbackground\": true, \"ticks\": \"\", \"zerolinecolor\": \"white\"}, \"yaxis\": {\"backgroundcolor\": \"#E5ECF6\", \"gridcolor\": \"white\", \"gridwidth\": 2, \"linecolor\": \"white\", \"showbackground\": true, \"ticks\": \"\", \"zerolinecolor\": \"white\"}, \"zaxis\": {\"backgroundcolor\": \"#E5ECF6\", \"gridcolor\": \"white\", \"gridwidth\": 2, \"linecolor\": \"white\", \"showbackground\": true, \"ticks\": \"\", \"zerolinecolor\": \"white\"}}, \"shapedefaults\": {\"line\": {\"color\": \"#2a3f5f\"}}, \"ternary\": {\"aaxis\": {\"gridcolor\": \"white\", \"linecolor\": \"white\", \"ticks\": \"\"}, \"baxis\": {\"gridcolor\": \"white\", \"linecolor\": \"white\", \"ticks\": \"\"}, \"bgcolor\": \"#E5ECF6\", \"caxis\": {\"gridcolor\": \"white\", \"linecolor\": \"white\", \"ticks\": \"\"}}, \"title\": {\"x\": 0.05}, \"xaxis\": {\"automargin\": true, \"gridcolor\": \"white\", \"linecolor\": \"white\", \"ticks\": \"\", \"title\": {\"standoff\": 15}, \"zerolinecolor\": \"white\", \"zerolinewidth\": 2}, \"yaxis\": {\"automargin\": true, \"gridcolor\": \"white\", \"linecolor\": \"white\", \"ticks\": \"\", \"title\": {\"standoff\": 15}, \"zerolinecolor\": \"white\", \"zerolinewidth\": 2}}}, \"title\": {\"text\": \"US Republicans Vote Difference vs Expenses ($ Millions)\", \"x\": 0.5, \"xanchor\": \"center\"}, \"updatemenus\": [{\"buttons\": [{\"args\": [null, {\"frame\": {\"duration\": 500, \"redraw\": true}, \"fromcurrent\": true, \"mode\": \"immediate\", \"transition\": {\"duration\": 500, \"easing\": \"linear\"}}], \"label\": \"&#9654;\", \"method\": \"animate\"}, {\"args\": [[null], {\"frame\": {\"duration\": 0, \"redraw\": true}, \"fromcurrent\": true, \"mode\": \"immediate\", \"transition\": {\"duration\": 0, \"easing\": \"linear\"}}], \"label\": \"&#9724;\", \"method\": \"animate\"}], \"direction\": \"left\", \"pad\": {\"r\": 10, \"t\": 70}, \"showactive\": false, \"type\": \"buttons\", \"x\": 0.1, \"xanchor\": \"right\", \"y\": 0, \"yanchor\": \"top\"}]},                        {\"responsive\": true}                    ).then(function(){\n",
       "                            Plotly.addFrames('6b6438ab-9f69-4797-91af-68c4a0fcdad3', [{\"data\": [{\"coloraxis\": \"coloraxis\", \"customdata\": [[0.19, 3.16, -19.84, -16.28], [0.42, 2.21, 13.2, 5.22], [0.07, 1.1, -23.03, -16.37], [0.21, 5.19, 12.08, 24.4], [0.22, 1.77, 16.21, -7.87], [0.22, 7.24, -44.27, -33.4], [467.0, 4.67, -0.8, 0.01], [10.0, 1.29, 942.12, 0.0], [2.68, 5.6, -0.02, 2.09], [0.01, 0.04, -15.52, 4.59], [2.82, 3.86, -7.99, 1.37], [0.81, 1.51, -0.25, -1.87], [0.11, 3.15, -83.99, -29.36], [10.0, 5.58, -0.75, 0.0], [0.15, 1.89, -11.48, -12.33], [0.09, 3.19, -3.47, 33.93], [1.1, 5.34, -4.78, 4.87], [0.18, 3.47, -9.96, -18.86], [0.11, 1.4, -19.31, -12.68], [1.61, 4.67, -7.14, -2.9], [45.73, 5.03, 0.95, 0.11], [2.0, 5.22, 0.42, -2.61], [0.88, 3.35, -11.19, 3.81], [0.54, 5.95, -11.84, 10.97], [0.07, 3.26, 14.16, 45.11], [0.15, 0.9, -6.11, 5.93], [0.19, 4.66, 17.25, 24.57], [0.05, 2.41, -70.63, -48.97], [0.47, 4.53, 5.95, 9.55], [0.98, 5.47, -7.62, -5.6], [0.12, 6.0, -124.13, -50.33], [0.13, 1.69, 22.67, 12.71], [1.31, 6.03, 0.05, 4.61], [0.08, 2.14, -23.71, -26.89], [0.36, 1.86, -12.68, -5.13], [0.08, 1.68, -15.58, -21.84], [9.57, 3.35, -1.95, 0.35], [2.89, 6.38, -2.43, -2.21], [0.04, 2.11, -57.91, -49.37], [10.0, 4.94, 0.16, 0.0], [2.85, 2.76, -15.39, -0.97], [1.94, 3.87, -1.88, -2.0], [0.1, 2.74, 23.96, 28.01], [0.2, 3.23, 19.02, 15.77], [127.37, 10.19, 0.57, 0.08], [1.22, 4.38, 2.19, 3.6], [117.62, 9.41, 0.0, 0.08], [0.41, 3.67, 9.27, 8.85], [0.24, 3.02, -3.72, 12.84], [0.26, 3.22, 12.19, 12.38], [10.0, 4.68, -0.18, 0.0]], \"geo\": \"geo\", \"hovertemplate\": \"<b>%{hovertext}</b><br><br>Year=2020<br>State=%{location}<br>Democrats ROI=%{customdata[0]}<br>Democrats Votes Diff % =%{customdata[1]}<br>Republicans Exp Diff=%{customdata[2]}<br>Democrats Exp Diff=%{z}<extra></extra>\", \"hovertext\": [\"REPUBLICANS\", \"REPUBLICANS\", \"REPUBLICANS\", \"DEMOCRATS\", \"DEMOCRATS\", \"DEMOCRATS\", \"DEMOCRATS\", \"DEMOCRATS\", \"DEMOCRATS\", \"REPUBLICANS\", \"DEMOCRATS\", \"DEMOCRATS\", \"REPUBLICANS\", \"REPUBLICANS\", \"DEMOCRATS\", \"REPUBLICANS\", \"REPUBLICANS\", \"REPUBLICANS\", \"REPUBLICANS\", \"DEMOCRATS\", \"DEMOCRATS\", \"DEMOCRATS\", \"DEMOCRATS\", \"DEMOCRATS\", \"REPUBLICANS\", \"REPUBLICANS\", \"REPUBLICANS\", \"REPUBLICANS\", \"REPUBLICANS\", \"REPUBLICANS\", \"DEMOCRATS\", \"DEMOCRATS\", \"DEMOCRATS\", \"DEMOCRATS\", \"DEMOCRATS\", \"REPUBLICANS\", \"REPUBLICANS\", \"DEMOCRATS\", \"DEMOCRATS\", \"DEMOCRATS\", \"REPUBLICANS\", \"REPUBLICANS\", \"REPUBLICANS\", \"REPUBLICANS\", \"REPUBLICANS\", \"DEMOCRATS\", \"DEMOCRATS\", \"DEMOCRATS\", \"DEMOCRATS\", \"REPUBLICANS\", \"REPUBLICANS\"], \"ids\": [\"AK\", \"AL\", \"AR\", \"AZ\", \"CA\", \"CO\", \"CT\", \"DC\", \"DE\", \"FL\", \"GA\", \"HI\", \"IA\", \"ID\", \"IL\", \"IN\", \"KS\", \"KY\", \"LA\", \"MA\", \"MD\", \"ME\", \"MI\", \"MN\", \"MO\", \"MS\", \"MT\", \"NC\", \"ND\", \"NE\", \"NH\", \"NJ\", \"NM\", \"NV\", \"NY\", \"OH\", \"OK\", \"OR\", \"PA\", \"RI\", \"SC\", \"SD\", \"TN\", \"TX\", \"UT\", \"VA\", \"VT\", \"WA\", \"WI\", \"WV\", \"WY\"], \"locationmode\": \"USA-states\", \"locations\": [\"AK\", \"AL\", \"AR\", \"AZ\", \"CA\", \"CO\", \"CT\", \"DC\", \"DE\", \"FL\", \"GA\", \"HI\", \"IA\", \"ID\", \"IL\", \"IN\", \"KS\", \"KY\", \"LA\", \"MA\", \"MD\", \"ME\", \"MI\", \"MN\", \"MO\", \"MS\", \"MT\", \"NC\", \"ND\", \"NE\", \"NH\", \"NJ\", \"NM\", \"NV\", \"NY\", \"OH\", \"OK\", \"OR\", \"PA\", \"RI\", \"SC\", \"SD\", \"TN\", \"TX\", \"UT\", \"VA\", \"VT\", \"WA\", \"WI\", \"WV\", \"WY\"], \"name\": \"\", \"z\": [-16.28, 5.22, -16.37, 24.4, -7.87, -33.4, 0.01, 0.0, 2.09, 4.59, 1.37, -1.87, -29.36, 0.0, -12.33, 33.93, 4.87, -18.86, -12.68, -2.9, 0.11, -2.61, 3.81, 10.97, 45.11, 5.93, 24.57, -48.97, 9.55, -5.6, -50.33, 12.71, 4.61, -26.89, -5.13, -21.84, 0.35, -2.21, -49.37, 0.0, -0.97, -2.0, 28.01, 15.77, 0.08, 3.6, 0.08, 8.85, 12.84, 12.38, 0.0], \"type\": \"choropleth\"}], \"name\": \"2020\"}, {\"data\": [{\"coloraxis\": \"coloraxis\", \"customdata\": [[1.45, 1.49, 3.5, 1.03], [0.01, 0.16, 10.39, 11.4], [0.07, 0.28, -0.55, -3.98], [0.77, 1.85, -7.83, 2.41], [5.42, 2.71, -2.89, -0.5]], \"geo\": \"geo\", \"hovertemplate\": \"<b>%{hovertext}</b><br><br>Year=2016<br>State=%{location}<br>Democrats ROI=%{customdata[0]}<br>Democrats Votes Diff % =%{customdata[1]}<br>Republicans Exp Diff=%{customdata[2]}<br>Democrats Exp Diff=%{z}<extra></extra>\", \"hovertext\": [\"DEMOCRATS\", \"REPUBLICANS\", \"DEMOCRATS\", \"REPUBLICANS\", \"REPUBLICANS\"], \"ids\": [\"CA\", \"GA\", \"MA\", \"TX\", \"UT\"], \"locationmode\": \"USA-states\", \"locations\": [\"CA\", \"GA\", \"MA\", \"TX\", \"UT\"], \"name\": \"\", \"z\": [1.03, 11.4, -3.98, 2.41, -0.5], \"type\": \"choropleth\"}], \"name\": \"2016\"}]);\n",
       "                        }).then(function(){\n",
       "                            \n",
       "var gd = document.getElementById('6b6438ab-9f69-4797-91af-68c4a0fcdad3');\n",
       "var x = new MutationObserver(function (mutations, observer) {{\n",
       "        var display = window.getComputedStyle(gd).display;\n",
       "        if (!display || display === 'none') {{\n",
       "            console.log([gd, 'removed!']);\n",
       "            Plotly.purge(gd);\n",
       "            observer.disconnect();\n",
       "        }}\n",
       "}});\n",
       "\n",
       "// Listen for the removal of the full notebook cells\n",
       "var notebookContainer = gd.closest('#notebook-container');\n",
       "if (notebookContainer) {{\n",
       "    x.observe(notebookContainer, {childList: true});\n",
       "}}\n",
       "\n",
       "// Listen for the clearing of the current output cell\n",
       "var outputEl = gd.closest('.output');\n",
       "if (outputEl) {{\n",
       "    x.observe(outputEl, {childList: true});\n",
       "}}\n",
       "\n",
       "                        })                };                });            </script>        </div>"
      ]
     },
     "metadata": {},
     "output_type": "display_data"
    }
   ],
   "source": [
    "fig = px.choropleth(final2_df[final2_df['Democrats Votes Diff % ']>0], locations= 'State',\n",
    "              locationmode='USA-states',\n",
    "                    hover_name= 'Winner',\n",
    "              hover_data = ['Democrats ROI','Democrats Votes Diff % ', \"Republicans Exp Diff\",\n",
    "                        \"Democrats Exp Diff\"],\n",
    "              scope = 'usa',\n",
    "              animation_frame='Year',\n",
    "              animation_group='State',\n",
    "              color = \"Democrats Exp Diff\")\n",
    "fig.update_layout(title={'text' : f'US Republicans Vote Difference vs Expenses ($ Millions)','x':0.5, 'xanchor': 'center'})\n",
    "fig.show()"
   ]
  },
  {
   "cell_type": "code",
   "execution_count": null,
   "metadata": {},
   "outputs": [],
   "source": []
  },
  {
   "cell_type": "code",
   "execution_count": null,
   "metadata": {},
   "outputs": [],
   "source": []
  },
  {
   "cell_type": "code",
   "execution_count": null,
   "metadata": {
    "scrolled": true
   },
   "outputs": [],
   "source": []
  },
  {
   "cell_type": "code",
   "execution_count": null,
   "metadata": {},
   "outputs": [],
   "source": []
  },
  {
   "cell_type": "code",
   "execution_count": null,
   "metadata": {},
   "outputs": [],
   "source": []
  },
  {
   "cell_type": "code",
   "execution_count": null,
   "metadata": {},
   "outputs": [],
   "source": []
  },
  {
   "cell_type": "code",
   "execution_count": null,
   "metadata": {},
   "outputs": [],
   "source": []
  },
  {
   "cell_type": "code",
   "execution_count": null,
   "metadata": {},
   "outputs": [],
   "source": []
  }
 ],
 "metadata": {
  "kernelspec": {
   "display_name": "Python 3",
   "language": "python",
   "name": "python3"
  },
  "language_info": {
   "codemirror_mode": {
    "name": "ipython",
    "version": 3
   },
   "file_extension": ".py",
   "mimetype": "text/x-python",
   "name": "python",
   "nbconvert_exporter": "python",
   "pygments_lexer": "ipython3",
   "version": "3.8.5"
  }
 },
 "nbformat": 4,
 "nbformat_minor": 4
}
